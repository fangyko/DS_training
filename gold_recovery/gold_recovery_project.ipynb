{
 "cells": [
  {
   "cell_type": "markdown",
   "id": "191f116c",
   "metadata": {},
   "source": [
    "# Золотодобыча\n",
    "\n",
    "Необходимо подготовить прототип модели машинного обучения для «Цифры». Компания разрабатывает решения для эффективной работы промышленных предприятий. Модель должна предсказать коэффициент восстановления золота из золотосодержащей руды. В распоряжении данные с параметрами добычи и очистки. \n",
    "Модель поможет оптимизировать производство, чтобы не запускать предприятие с убыточными характеристиками.\n",
    "\n",
    "Работа состоит из следующих этапов:\n",
    "1. Подготовка данных;\n",
    "2. Проведение исследовательского анализа данных;\n",
    "3. Обучение модели."
   ]
  },
  {
   "cell_type": "markdown",
   "id": "80f9371f",
   "metadata": {},
   "source": [
    "## Подготовка данных"
   ]
  },
  {
   "cell_type": "code",
   "execution_count": 1,
   "id": "a027b6b4",
   "metadata": {},
   "outputs": [],
   "source": [
    "import matplotlib.pyplot as plt\n",
    "import copy\n",
    "import seaborn as sns\n",
    "import pandas as pd\n",
    "import warnings\n",
    "import math\n",
    "import re\n",
    "from sklearn.model_selection import train_test_split, RandomizedSearchCV\n",
    "from sklearn.linear_model import LinearRegression\n",
    "from sklearn.tree import DecisionTreeRegressor\n",
    "from sklearn.ensemble import RandomForestRegressor\n",
    "from sklearn.dummy import DummyRegressor\n",
    "from sklearn.metrics import (\n",
    "    mean_squared_error,\n",
    "    mean_absolute_error,\n",
    "    make_scorer\n",
    ")\n",
    "from sklearn.model_selection import cross_val_score\n",
    "from scipy.stats import randint as sp_randInt\n",
    "import numpy as np\n",
    "warnings.filterwarnings('ignore')\n",
    "pd.options.mode.chained_assignment = None"
   ]
  },
  {
   "cell_type": "code",
   "execution_count": 2,
   "id": "85394aa0",
   "metadata": {},
   "outputs": [],
   "source": [
    "try:\n",
    "    df_train = pd.read_csv('/datasets/gold_recovery_train_new.csv')\n",
    "    df_test = pd.read_csv('/datasets/gold_recovery_test_new.csv')\n",
    "    df_full = pd.read_csv('/datasets/gold_recovery_full_new.csv')\n",
    "except:\n",
    "    df_train = pd.read_csv('gold_recovery_train_new.csv')\n",
    "    df_test = pd.read_csv('gold_recovery_test_new.csv')\n",
    "    df_full = pd.read_csv('gold_recovery_full_new.csv')"
   ]
  },
  {
   "cell_type": "code",
   "execution_count": 3,
   "id": "dbc0a321",
   "metadata": {
    "scrolled": true
   },
   "outputs": [
    {
     "data": {
      "text/html": [
       "<div>\n",
       "<style scoped>\n",
       "    .dataframe tbody tr th:only-of-type {\n",
       "        vertical-align: middle;\n",
       "    }\n",
       "\n",
       "    .dataframe tbody tr th {\n",
       "        vertical-align: top;\n",
       "    }\n",
       "\n",
       "    .dataframe thead th {\n",
       "        text-align: right;\n",
       "    }\n",
       "</style>\n",
       "<table border=\"1\" class=\"dataframe\">\n",
       "  <thead>\n",
       "    <tr style=\"text-align: right;\">\n",
       "      <th></th>\n",
       "      <th>date</th>\n",
       "      <th>final.output.concentrate_ag</th>\n",
       "      <th>final.output.concentrate_pb</th>\n",
       "      <th>final.output.concentrate_sol</th>\n",
       "      <th>final.output.concentrate_au</th>\n",
       "      <th>final.output.recovery</th>\n",
       "      <th>final.output.tail_ag</th>\n",
       "      <th>final.output.tail_pb</th>\n",
       "      <th>final.output.tail_sol</th>\n",
       "      <th>final.output.tail_au</th>\n",
       "      <th>...</th>\n",
       "      <th>secondary_cleaner.state.floatbank4_a_air</th>\n",
       "      <th>secondary_cleaner.state.floatbank4_a_level</th>\n",
       "      <th>secondary_cleaner.state.floatbank4_b_air</th>\n",
       "      <th>secondary_cleaner.state.floatbank4_b_level</th>\n",
       "      <th>secondary_cleaner.state.floatbank5_a_air</th>\n",
       "      <th>secondary_cleaner.state.floatbank5_a_level</th>\n",
       "      <th>secondary_cleaner.state.floatbank5_b_air</th>\n",
       "      <th>secondary_cleaner.state.floatbank5_b_level</th>\n",
       "      <th>secondary_cleaner.state.floatbank6_a_air</th>\n",
       "      <th>secondary_cleaner.state.floatbank6_a_level</th>\n",
       "    </tr>\n",
       "  </thead>\n",
       "  <tbody>\n",
       "    <tr>\n",
       "      <th>0</th>\n",
       "      <td>2016-01-15 00:00:00</td>\n",
       "      <td>6.055403</td>\n",
       "      <td>9.889648</td>\n",
       "      <td>5.507324</td>\n",
       "      <td>42.192020</td>\n",
       "      <td>70.541216</td>\n",
       "      <td>10.411962</td>\n",
       "      <td>0.895447</td>\n",
       "      <td>16.904297</td>\n",
       "      <td>2.143149</td>\n",
       "      <td>...</td>\n",
       "      <td>14.016835</td>\n",
       "      <td>-502.488007</td>\n",
       "      <td>12.099931</td>\n",
       "      <td>-504.715942</td>\n",
       "      <td>9.925633</td>\n",
       "      <td>-498.310211</td>\n",
       "      <td>8.079666</td>\n",
       "      <td>-500.470978</td>\n",
       "      <td>14.151341</td>\n",
       "      <td>-605.841980</td>\n",
       "    </tr>\n",
       "    <tr>\n",
       "      <th>1</th>\n",
       "      <td>2016-01-15 01:00:00</td>\n",
       "      <td>6.029369</td>\n",
       "      <td>9.968944</td>\n",
       "      <td>5.257781</td>\n",
       "      <td>42.701629</td>\n",
       "      <td>69.266198</td>\n",
       "      <td>10.462676</td>\n",
       "      <td>0.927452</td>\n",
       "      <td>16.634514</td>\n",
       "      <td>2.224930</td>\n",
       "      <td>...</td>\n",
       "      <td>13.992281</td>\n",
       "      <td>-505.503262</td>\n",
       "      <td>11.950531</td>\n",
       "      <td>-501.331529</td>\n",
       "      <td>10.039245</td>\n",
       "      <td>-500.169983</td>\n",
       "      <td>7.984757</td>\n",
       "      <td>-500.582168</td>\n",
       "      <td>13.998353</td>\n",
       "      <td>-599.787184</td>\n",
       "    </tr>\n",
       "    <tr>\n",
       "      <th>2</th>\n",
       "      <td>2016-01-15 02:00:00</td>\n",
       "      <td>6.055926</td>\n",
       "      <td>10.213995</td>\n",
       "      <td>5.383759</td>\n",
       "      <td>42.657501</td>\n",
       "      <td>68.116445</td>\n",
       "      <td>10.507046</td>\n",
       "      <td>0.953716</td>\n",
       "      <td>16.208849</td>\n",
       "      <td>2.257889</td>\n",
       "      <td>...</td>\n",
       "      <td>14.015015</td>\n",
       "      <td>-502.520901</td>\n",
       "      <td>11.912783</td>\n",
       "      <td>-501.133383</td>\n",
       "      <td>10.070913</td>\n",
       "      <td>-500.129135</td>\n",
       "      <td>8.013877</td>\n",
       "      <td>-500.517572</td>\n",
       "      <td>14.028663</td>\n",
       "      <td>-601.427363</td>\n",
       "    </tr>\n",
       "    <tr>\n",
       "      <th>3</th>\n",
       "      <td>2016-01-15 03:00:00</td>\n",
       "      <td>6.047977</td>\n",
       "      <td>9.977019</td>\n",
       "      <td>4.858634</td>\n",
       "      <td>42.689819</td>\n",
       "      <td>68.347543</td>\n",
       "      <td>10.422762</td>\n",
       "      <td>0.883763</td>\n",
       "      <td>16.532835</td>\n",
       "      <td>2.146849</td>\n",
       "      <td>...</td>\n",
       "      <td>14.036510</td>\n",
       "      <td>-500.857308</td>\n",
       "      <td>11.999550</td>\n",
       "      <td>-501.193686</td>\n",
       "      <td>9.970366</td>\n",
       "      <td>-499.201640</td>\n",
       "      <td>7.977324</td>\n",
       "      <td>-500.255908</td>\n",
       "      <td>14.005551</td>\n",
       "      <td>-599.996129</td>\n",
       "    </tr>\n",
       "    <tr>\n",
       "      <th>4</th>\n",
       "      <td>2016-01-15 04:00:00</td>\n",
       "      <td>6.148599</td>\n",
       "      <td>10.142511</td>\n",
       "      <td>4.939416</td>\n",
       "      <td>42.774141</td>\n",
       "      <td>66.927016</td>\n",
       "      <td>10.360302</td>\n",
       "      <td>0.792826</td>\n",
       "      <td>16.525686</td>\n",
       "      <td>2.055292</td>\n",
       "      <td>...</td>\n",
       "      <td>14.027298</td>\n",
       "      <td>-499.838632</td>\n",
       "      <td>11.953070</td>\n",
       "      <td>-501.053894</td>\n",
       "      <td>9.925709</td>\n",
       "      <td>-501.686727</td>\n",
       "      <td>7.894242</td>\n",
       "      <td>-500.356035</td>\n",
       "      <td>13.996647</td>\n",
       "      <td>-601.496691</td>\n",
       "    </tr>\n",
       "  </tbody>\n",
       "</table>\n",
       "<p>5 rows × 87 columns</p>\n",
       "</div>"
      ],
      "text/plain": [
       "                  date  final.output.concentrate_ag  \\\n",
       "0  2016-01-15 00:00:00                     6.055403   \n",
       "1  2016-01-15 01:00:00                     6.029369   \n",
       "2  2016-01-15 02:00:00                     6.055926   \n",
       "3  2016-01-15 03:00:00                     6.047977   \n",
       "4  2016-01-15 04:00:00                     6.148599   \n",
       "\n",
       "   final.output.concentrate_pb  final.output.concentrate_sol  \\\n",
       "0                     9.889648                      5.507324   \n",
       "1                     9.968944                      5.257781   \n",
       "2                    10.213995                      5.383759   \n",
       "3                     9.977019                      4.858634   \n",
       "4                    10.142511                      4.939416   \n",
       "\n",
       "   final.output.concentrate_au  final.output.recovery  final.output.tail_ag  \\\n",
       "0                    42.192020              70.541216             10.411962   \n",
       "1                    42.701629              69.266198             10.462676   \n",
       "2                    42.657501              68.116445             10.507046   \n",
       "3                    42.689819              68.347543             10.422762   \n",
       "4                    42.774141              66.927016             10.360302   \n",
       "\n",
       "   final.output.tail_pb  final.output.tail_sol  final.output.tail_au  ...  \\\n",
       "0              0.895447              16.904297              2.143149  ...   \n",
       "1              0.927452              16.634514              2.224930  ...   \n",
       "2              0.953716              16.208849              2.257889  ...   \n",
       "3              0.883763              16.532835              2.146849  ...   \n",
       "4              0.792826              16.525686              2.055292  ...   \n",
       "\n",
       "   secondary_cleaner.state.floatbank4_a_air  \\\n",
       "0                                 14.016835   \n",
       "1                                 13.992281   \n",
       "2                                 14.015015   \n",
       "3                                 14.036510   \n",
       "4                                 14.027298   \n",
       "\n",
       "   secondary_cleaner.state.floatbank4_a_level  \\\n",
       "0                                 -502.488007   \n",
       "1                                 -505.503262   \n",
       "2                                 -502.520901   \n",
       "3                                 -500.857308   \n",
       "4                                 -499.838632   \n",
       "\n",
       "   secondary_cleaner.state.floatbank4_b_air  \\\n",
       "0                                 12.099931   \n",
       "1                                 11.950531   \n",
       "2                                 11.912783   \n",
       "3                                 11.999550   \n",
       "4                                 11.953070   \n",
       "\n",
       "   secondary_cleaner.state.floatbank4_b_level  \\\n",
       "0                                 -504.715942   \n",
       "1                                 -501.331529   \n",
       "2                                 -501.133383   \n",
       "3                                 -501.193686   \n",
       "4                                 -501.053894   \n",
       "\n",
       "   secondary_cleaner.state.floatbank5_a_air  \\\n",
       "0                                  9.925633   \n",
       "1                                 10.039245   \n",
       "2                                 10.070913   \n",
       "3                                  9.970366   \n",
       "4                                  9.925709   \n",
       "\n",
       "   secondary_cleaner.state.floatbank5_a_level  \\\n",
       "0                                 -498.310211   \n",
       "1                                 -500.169983   \n",
       "2                                 -500.129135   \n",
       "3                                 -499.201640   \n",
       "4                                 -501.686727   \n",
       "\n",
       "   secondary_cleaner.state.floatbank5_b_air  \\\n",
       "0                                  8.079666   \n",
       "1                                  7.984757   \n",
       "2                                  8.013877   \n",
       "3                                  7.977324   \n",
       "4                                  7.894242   \n",
       "\n",
       "   secondary_cleaner.state.floatbank5_b_level  \\\n",
       "0                                 -500.470978   \n",
       "1                                 -500.582168   \n",
       "2                                 -500.517572   \n",
       "3                                 -500.255908   \n",
       "4                                 -500.356035   \n",
       "\n",
       "   secondary_cleaner.state.floatbank6_a_air  \\\n",
       "0                                 14.151341   \n",
       "1                                 13.998353   \n",
       "2                                 14.028663   \n",
       "3                                 14.005551   \n",
       "4                                 13.996647   \n",
       "\n",
       "   secondary_cleaner.state.floatbank6_a_level  \n",
       "0                                 -605.841980  \n",
       "1                                 -599.787184  \n",
       "2                                 -601.427363  \n",
       "3                                 -599.996129  \n",
       "4                                 -601.496691  \n",
       "\n",
       "[5 rows x 87 columns]"
      ]
     },
     "metadata": {},
     "output_type": "display_data"
    },
    {
     "data": {
      "text/html": [
       "<div>\n",
       "<style scoped>\n",
       "    .dataframe tbody tr th:only-of-type {\n",
       "        vertical-align: middle;\n",
       "    }\n",
       "\n",
       "    .dataframe tbody tr th {\n",
       "        vertical-align: top;\n",
       "    }\n",
       "\n",
       "    .dataframe thead th {\n",
       "        text-align: right;\n",
       "    }\n",
       "</style>\n",
       "<table border=\"1\" class=\"dataframe\">\n",
       "  <thead>\n",
       "    <tr style=\"text-align: right;\">\n",
       "      <th></th>\n",
       "      <th>date</th>\n",
       "      <th>primary_cleaner.input.sulfate</th>\n",
       "      <th>primary_cleaner.input.depressant</th>\n",
       "      <th>primary_cleaner.input.feed_size</th>\n",
       "      <th>primary_cleaner.input.xanthate</th>\n",
       "      <th>primary_cleaner.state.floatbank8_a_air</th>\n",
       "      <th>primary_cleaner.state.floatbank8_a_level</th>\n",
       "      <th>primary_cleaner.state.floatbank8_b_air</th>\n",
       "      <th>primary_cleaner.state.floatbank8_b_level</th>\n",
       "      <th>primary_cleaner.state.floatbank8_c_air</th>\n",
       "      <th>...</th>\n",
       "      <th>secondary_cleaner.state.floatbank4_a_air</th>\n",
       "      <th>secondary_cleaner.state.floatbank4_a_level</th>\n",
       "      <th>secondary_cleaner.state.floatbank4_b_air</th>\n",
       "      <th>secondary_cleaner.state.floatbank4_b_level</th>\n",
       "      <th>secondary_cleaner.state.floatbank5_a_air</th>\n",
       "      <th>secondary_cleaner.state.floatbank5_a_level</th>\n",
       "      <th>secondary_cleaner.state.floatbank5_b_air</th>\n",
       "      <th>secondary_cleaner.state.floatbank5_b_level</th>\n",
       "      <th>secondary_cleaner.state.floatbank6_a_air</th>\n",
       "      <th>secondary_cleaner.state.floatbank6_a_level</th>\n",
       "    </tr>\n",
       "  </thead>\n",
       "  <tbody>\n",
       "    <tr>\n",
       "      <th>0</th>\n",
       "      <td>2016-09-01 00:59:59</td>\n",
       "      <td>210.800909</td>\n",
       "      <td>14.993118</td>\n",
       "      <td>8.080000</td>\n",
       "      <td>1.005021</td>\n",
       "      <td>1398.981301</td>\n",
       "      <td>-500.225577</td>\n",
       "      <td>1399.144926</td>\n",
       "      <td>-499.919735</td>\n",
       "      <td>1400.102998</td>\n",
       "      <td>...</td>\n",
       "      <td>12.023554</td>\n",
       "      <td>-497.795834</td>\n",
       "      <td>8.016656</td>\n",
       "      <td>-501.289139</td>\n",
       "      <td>7.946562</td>\n",
       "      <td>-432.317850</td>\n",
       "      <td>4.872511</td>\n",
       "      <td>-500.037437</td>\n",
       "      <td>26.705889</td>\n",
       "      <td>-499.709414</td>\n",
       "    </tr>\n",
       "    <tr>\n",
       "      <th>1</th>\n",
       "      <td>2016-09-01 01:59:59</td>\n",
       "      <td>215.392455</td>\n",
       "      <td>14.987471</td>\n",
       "      <td>8.080000</td>\n",
       "      <td>0.990469</td>\n",
       "      <td>1398.777912</td>\n",
       "      <td>-500.057435</td>\n",
       "      <td>1398.055362</td>\n",
       "      <td>-499.778182</td>\n",
       "      <td>1396.151033</td>\n",
       "      <td>...</td>\n",
       "      <td>12.058140</td>\n",
       "      <td>-498.695773</td>\n",
       "      <td>8.130979</td>\n",
       "      <td>-499.634209</td>\n",
       "      <td>7.958270</td>\n",
       "      <td>-525.839648</td>\n",
       "      <td>4.878850</td>\n",
       "      <td>-500.162375</td>\n",
       "      <td>25.019940</td>\n",
       "      <td>-499.819438</td>\n",
       "    </tr>\n",
       "    <tr>\n",
       "      <th>2</th>\n",
       "      <td>2016-09-01 02:59:59</td>\n",
       "      <td>215.259946</td>\n",
       "      <td>12.884934</td>\n",
       "      <td>7.786667</td>\n",
       "      <td>0.996043</td>\n",
       "      <td>1398.493666</td>\n",
       "      <td>-500.868360</td>\n",
       "      <td>1398.860436</td>\n",
       "      <td>-499.764529</td>\n",
       "      <td>1398.075709</td>\n",
       "      <td>...</td>\n",
       "      <td>11.962366</td>\n",
       "      <td>-498.767484</td>\n",
       "      <td>8.096893</td>\n",
       "      <td>-500.827423</td>\n",
       "      <td>8.071056</td>\n",
       "      <td>-500.801673</td>\n",
       "      <td>4.905125</td>\n",
       "      <td>-499.828510</td>\n",
       "      <td>24.994862</td>\n",
       "      <td>-500.622559</td>\n",
       "    </tr>\n",
       "    <tr>\n",
       "      <th>3</th>\n",
       "      <td>2016-09-01 03:59:59</td>\n",
       "      <td>215.336236</td>\n",
       "      <td>12.006805</td>\n",
       "      <td>7.640000</td>\n",
       "      <td>0.863514</td>\n",
       "      <td>1399.618111</td>\n",
       "      <td>-498.863574</td>\n",
       "      <td>1397.440120</td>\n",
       "      <td>-499.211024</td>\n",
       "      <td>1400.129303</td>\n",
       "      <td>...</td>\n",
       "      <td>12.033091</td>\n",
       "      <td>-498.350935</td>\n",
       "      <td>8.074946</td>\n",
       "      <td>-499.474407</td>\n",
       "      <td>7.897085</td>\n",
       "      <td>-500.868509</td>\n",
       "      <td>4.931400</td>\n",
       "      <td>-499.963623</td>\n",
       "      <td>24.948919</td>\n",
       "      <td>-498.709987</td>\n",
       "    </tr>\n",
       "    <tr>\n",
       "      <th>4</th>\n",
       "      <td>2016-09-01 04:59:59</td>\n",
       "      <td>199.099327</td>\n",
       "      <td>10.682530</td>\n",
       "      <td>7.530000</td>\n",
       "      <td>0.805575</td>\n",
       "      <td>1401.268123</td>\n",
       "      <td>-500.808305</td>\n",
       "      <td>1398.128818</td>\n",
       "      <td>-499.504543</td>\n",
       "      <td>1402.172226</td>\n",
       "      <td>...</td>\n",
       "      <td>12.025367</td>\n",
       "      <td>-500.786497</td>\n",
       "      <td>8.054678</td>\n",
       "      <td>-500.397500</td>\n",
       "      <td>8.107890</td>\n",
       "      <td>-509.526725</td>\n",
       "      <td>4.957674</td>\n",
       "      <td>-500.360026</td>\n",
       "      <td>25.003331</td>\n",
       "      <td>-500.856333</td>\n",
       "    </tr>\n",
       "  </tbody>\n",
       "</table>\n",
       "<p>5 rows × 53 columns</p>\n",
       "</div>"
      ],
      "text/plain": [
       "                  date  primary_cleaner.input.sulfate  \\\n",
       "0  2016-09-01 00:59:59                     210.800909   \n",
       "1  2016-09-01 01:59:59                     215.392455   \n",
       "2  2016-09-01 02:59:59                     215.259946   \n",
       "3  2016-09-01 03:59:59                     215.336236   \n",
       "4  2016-09-01 04:59:59                     199.099327   \n",
       "\n",
       "   primary_cleaner.input.depressant  primary_cleaner.input.feed_size  \\\n",
       "0                         14.993118                         8.080000   \n",
       "1                         14.987471                         8.080000   \n",
       "2                         12.884934                         7.786667   \n",
       "3                         12.006805                         7.640000   \n",
       "4                         10.682530                         7.530000   \n",
       "\n",
       "   primary_cleaner.input.xanthate  primary_cleaner.state.floatbank8_a_air  \\\n",
       "0                        1.005021                             1398.981301   \n",
       "1                        0.990469                             1398.777912   \n",
       "2                        0.996043                             1398.493666   \n",
       "3                        0.863514                             1399.618111   \n",
       "4                        0.805575                             1401.268123   \n",
       "\n",
       "   primary_cleaner.state.floatbank8_a_level  \\\n",
       "0                               -500.225577   \n",
       "1                               -500.057435   \n",
       "2                               -500.868360   \n",
       "3                               -498.863574   \n",
       "4                               -500.808305   \n",
       "\n",
       "   primary_cleaner.state.floatbank8_b_air  \\\n",
       "0                             1399.144926   \n",
       "1                             1398.055362   \n",
       "2                             1398.860436   \n",
       "3                             1397.440120   \n",
       "4                             1398.128818   \n",
       "\n",
       "   primary_cleaner.state.floatbank8_b_level  \\\n",
       "0                               -499.919735   \n",
       "1                               -499.778182   \n",
       "2                               -499.764529   \n",
       "3                               -499.211024   \n",
       "4                               -499.504543   \n",
       "\n",
       "   primary_cleaner.state.floatbank8_c_air  ...  \\\n",
       "0                             1400.102998  ...   \n",
       "1                             1396.151033  ...   \n",
       "2                             1398.075709  ...   \n",
       "3                             1400.129303  ...   \n",
       "4                             1402.172226  ...   \n",
       "\n",
       "   secondary_cleaner.state.floatbank4_a_air  \\\n",
       "0                                 12.023554   \n",
       "1                                 12.058140   \n",
       "2                                 11.962366   \n",
       "3                                 12.033091   \n",
       "4                                 12.025367   \n",
       "\n",
       "   secondary_cleaner.state.floatbank4_a_level  \\\n",
       "0                                 -497.795834   \n",
       "1                                 -498.695773   \n",
       "2                                 -498.767484   \n",
       "3                                 -498.350935   \n",
       "4                                 -500.786497   \n",
       "\n",
       "   secondary_cleaner.state.floatbank4_b_air  \\\n",
       "0                                  8.016656   \n",
       "1                                  8.130979   \n",
       "2                                  8.096893   \n",
       "3                                  8.074946   \n",
       "4                                  8.054678   \n",
       "\n",
       "   secondary_cleaner.state.floatbank4_b_level  \\\n",
       "0                                 -501.289139   \n",
       "1                                 -499.634209   \n",
       "2                                 -500.827423   \n",
       "3                                 -499.474407   \n",
       "4                                 -500.397500   \n",
       "\n",
       "   secondary_cleaner.state.floatbank5_a_air  \\\n",
       "0                                  7.946562   \n",
       "1                                  7.958270   \n",
       "2                                  8.071056   \n",
       "3                                  7.897085   \n",
       "4                                  8.107890   \n",
       "\n",
       "   secondary_cleaner.state.floatbank5_a_level  \\\n",
       "0                                 -432.317850   \n",
       "1                                 -525.839648   \n",
       "2                                 -500.801673   \n",
       "3                                 -500.868509   \n",
       "4                                 -509.526725   \n",
       "\n",
       "   secondary_cleaner.state.floatbank5_b_air  \\\n",
       "0                                  4.872511   \n",
       "1                                  4.878850   \n",
       "2                                  4.905125   \n",
       "3                                  4.931400   \n",
       "4                                  4.957674   \n",
       "\n",
       "   secondary_cleaner.state.floatbank5_b_level  \\\n",
       "0                                 -500.037437   \n",
       "1                                 -500.162375   \n",
       "2                                 -499.828510   \n",
       "3                                 -499.963623   \n",
       "4                                 -500.360026   \n",
       "\n",
       "   secondary_cleaner.state.floatbank6_a_air  \\\n",
       "0                                 26.705889   \n",
       "1                                 25.019940   \n",
       "2                                 24.994862   \n",
       "3                                 24.948919   \n",
       "4                                 25.003331   \n",
       "\n",
       "   secondary_cleaner.state.floatbank6_a_level  \n",
       "0                                 -499.709414  \n",
       "1                                 -499.819438  \n",
       "2                                 -500.622559  \n",
       "3                                 -498.709987  \n",
       "4                                 -500.856333  \n",
       "\n",
       "[5 rows x 53 columns]"
      ]
     },
     "metadata": {},
     "output_type": "display_data"
    },
    {
     "data": {
      "text/html": [
       "<div>\n",
       "<style scoped>\n",
       "    .dataframe tbody tr th:only-of-type {\n",
       "        vertical-align: middle;\n",
       "    }\n",
       "\n",
       "    .dataframe tbody tr th {\n",
       "        vertical-align: top;\n",
       "    }\n",
       "\n",
       "    .dataframe thead th {\n",
       "        text-align: right;\n",
       "    }\n",
       "</style>\n",
       "<table border=\"1\" class=\"dataframe\">\n",
       "  <thead>\n",
       "    <tr style=\"text-align: right;\">\n",
       "      <th></th>\n",
       "      <th>date</th>\n",
       "      <th>final.output.concentrate_ag</th>\n",
       "      <th>final.output.concentrate_pb</th>\n",
       "      <th>final.output.concentrate_sol</th>\n",
       "      <th>final.output.concentrate_au</th>\n",
       "      <th>final.output.recovery</th>\n",
       "      <th>final.output.tail_ag</th>\n",
       "      <th>final.output.tail_pb</th>\n",
       "      <th>final.output.tail_sol</th>\n",
       "      <th>final.output.tail_au</th>\n",
       "      <th>...</th>\n",
       "      <th>secondary_cleaner.state.floatbank4_a_air</th>\n",
       "      <th>secondary_cleaner.state.floatbank4_a_level</th>\n",
       "      <th>secondary_cleaner.state.floatbank4_b_air</th>\n",
       "      <th>secondary_cleaner.state.floatbank4_b_level</th>\n",
       "      <th>secondary_cleaner.state.floatbank5_a_air</th>\n",
       "      <th>secondary_cleaner.state.floatbank5_a_level</th>\n",
       "      <th>secondary_cleaner.state.floatbank5_b_air</th>\n",
       "      <th>secondary_cleaner.state.floatbank5_b_level</th>\n",
       "      <th>secondary_cleaner.state.floatbank6_a_air</th>\n",
       "      <th>secondary_cleaner.state.floatbank6_a_level</th>\n",
       "    </tr>\n",
       "  </thead>\n",
       "  <tbody>\n",
       "    <tr>\n",
       "      <th>0</th>\n",
       "      <td>2016-01-15 00:00:00</td>\n",
       "      <td>6.055403</td>\n",
       "      <td>9.889648</td>\n",
       "      <td>5.507324</td>\n",
       "      <td>42.192020</td>\n",
       "      <td>70.541216</td>\n",
       "      <td>10.411962</td>\n",
       "      <td>0.895447</td>\n",
       "      <td>16.904297</td>\n",
       "      <td>2.143149</td>\n",
       "      <td>...</td>\n",
       "      <td>14.016835</td>\n",
       "      <td>-502.488007</td>\n",
       "      <td>12.099931</td>\n",
       "      <td>-504.715942</td>\n",
       "      <td>9.925633</td>\n",
       "      <td>-498.310211</td>\n",
       "      <td>8.079666</td>\n",
       "      <td>-500.470978</td>\n",
       "      <td>14.151341</td>\n",
       "      <td>-605.841980</td>\n",
       "    </tr>\n",
       "    <tr>\n",
       "      <th>1</th>\n",
       "      <td>2016-01-15 01:00:00</td>\n",
       "      <td>6.029369</td>\n",
       "      <td>9.968944</td>\n",
       "      <td>5.257781</td>\n",
       "      <td>42.701629</td>\n",
       "      <td>69.266198</td>\n",
       "      <td>10.462676</td>\n",
       "      <td>0.927452</td>\n",
       "      <td>16.634514</td>\n",
       "      <td>2.224930</td>\n",
       "      <td>...</td>\n",
       "      <td>13.992281</td>\n",
       "      <td>-505.503262</td>\n",
       "      <td>11.950531</td>\n",
       "      <td>-501.331529</td>\n",
       "      <td>10.039245</td>\n",
       "      <td>-500.169983</td>\n",
       "      <td>7.984757</td>\n",
       "      <td>-500.582168</td>\n",
       "      <td>13.998353</td>\n",
       "      <td>-599.787184</td>\n",
       "    </tr>\n",
       "    <tr>\n",
       "      <th>2</th>\n",
       "      <td>2016-01-15 02:00:00</td>\n",
       "      <td>6.055926</td>\n",
       "      <td>10.213995</td>\n",
       "      <td>5.383759</td>\n",
       "      <td>42.657501</td>\n",
       "      <td>68.116445</td>\n",
       "      <td>10.507046</td>\n",
       "      <td>0.953716</td>\n",
       "      <td>16.208849</td>\n",
       "      <td>2.257889</td>\n",
       "      <td>...</td>\n",
       "      <td>14.015015</td>\n",
       "      <td>-502.520901</td>\n",
       "      <td>11.912783</td>\n",
       "      <td>-501.133383</td>\n",
       "      <td>10.070913</td>\n",
       "      <td>-500.129135</td>\n",
       "      <td>8.013877</td>\n",
       "      <td>-500.517572</td>\n",
       "      <td>14.028663</td>\n",
       "      <td>-601.427363</td>\n",
       "    </tr>\n",
       "    <tr>\n",
       "      <th>3</th>\n",
       "      <td>2016-01-15 03:00:00</td>\n",
       "      <td>6.047977</td>\n",
       "      <td>9.977019</td>\n",
       "      <td>4.858634</td>\n",
       "      <td>42.689819</td>\n",
       "      <td>68.347543</td>\n",
       "      <td>10.422762</td>\n",
       "      <td>0.883763</td>\n",
       "      <td>16.532835</td>\n",
       "      <td>2.146849</td>\n",
       "      <td>...</td>\n",
       "      <td>14.036510</td>\n",
       "      <td>-500.857308</td>\n",
       "      <td>11.999550</td>\n",
       "      <td>-501.193686</td>\n",
       "      <td>9.970366</td>\n",
       "      <td>-499.201640</td>\n",
       "      <td>7.977324</td>\n",
       "      <td>-500.255908</td>\n",
       "      <td>14.005551</td>\n",
       "      <td>-599.996129</td>\n",
       "    </tr>\n",
       "    <tr>\n",
       "      <th>4</th>\n",
       "      <td>2016-01-15 04:00:00</td>\n",
       "      <td>6.148599</td>\n",
       "      <td>10.142511</td>\n",
       "      <td>4.939416</td>\n",
       "      <td>42.774141</td>\n",
       "      <td>66.927016</td>\n",
       "      <td>10.360302</td>\n",
       "      <td>0.792826</td>\n",
       "      <td>16.525686</td>\n",
       "      <td>2.055292</td>\n",
       "      <td>...</td>\n",
       "      <td>14.027298</td>\n",
       "      <td>-499.838632</td>\n",
       "      <td>11.953070</td>\n",
       "      <td>-501.053894</td>\n",
       "      <td>9.925709</td>\n",
       "      <td>-501.686727</td>\n",
       "      <td>7.894242</td>\n",
       "      <td>-500.356035</td>\n",
       "      <td>13.996647</td>\n",
       "      <td>-601.496691</td>\n",
       "    </tr>\n",
       "  </tbody>\n",
       "</table>\n",
       "<p>5 rows × 87 columns</p>\n",
       "</div>"
      ],
      "text/plain": [
       "                  date  final.output.concentrate_ag  \\\n",
       "0  2016-01-15 00:00:00                     6.055403   \n",
       "1  2016-01-15 01:00:00                     6.029369   \n",
       "2  2016-01-15 02:00:00                     6.055926   \n",
       "3  2016-01-15 03:00:00                     6.047977   \n",
       "4  2016-01-15 04:00:00                     6.148599   \n",
       "\n",
       "   final.output.concentrate_pb  final.output.concentrate_sol  \\\n",
       "0                     9.889648                      5.507324   \n",
       "1                     9.968944                      5.257781   \n",
       "2                    10.213995                      5.383759   \n",
       "3                     9.977019                      4.858634   \n",
       "4                    10.142511                      4.939416   \n",
       "\n",
       "   final.output.concentrate_au  final.output.recovery  final.output.tail_ag  \\\n",
       "0                    42.192020              70.541216             10.411962   \n",
       "1                    42.701629              69.266198             10.462676   \n",
       "2                    42.657501              68.116445             10.507046   \n",
       "3                    42.689819              68.347543             10.422762   \n",
       "4                    42.774141              66.927016             10.360302   \n",
       "\n",
       "   final.output.tail_pb  final.output.tail_sol  final.output.tail_au  ...  \\\n",
       "0              0.895447              16.904297              2.143149  ...   \n",
       "1              0.927452              16.634514              2.224930  ...   \n",
       "2              0.953716              16.208849              2.257889  ...   \n",
       "3              0.883763              16.532835              2.146849  ...   \n",
       "4              0.792826              16.525686              2.055292  ...   \n",
       "\n",
       "   secondary_cleaner.state.floatbank4_a_air  \\\n",
       "0                                 14.016835   \n",
       "1                                 13.992281   \n",
       "2                                 14.015015   \n",
       "3                                 14.036510   \n",
       "4                                 14.027298   \n",
       "\n",
       "   secondary_cleaner.state.floatbank4_a_level  \\\n",
       "0                                 -502.488007   \n",
       "1                                 -505.503262   \n",
       "2                                 -502.520901   \n",
       "3                                 -500.857308   \n",
       "4                                 -499.838632   \n",
       "\n",
       "   secondary_cleaner.state.floatbank4_b_air  \\\n",
       "0                                 12.099931   \n",
       "1                                 11.950531   \n",
       "2                                 11.912783   \n",
       "3                                 11.999550   \n",
       "4                                 11.953070   \n",
       "\n",
       "   secondary_cleaner.state.floatbank4_b_level  \\\n",
       "0                                 -504.715942   \n",
       "1                                 -501.331529   \n",
       "2                                 -501.133383   \n",
       "3                                 -501.193686   \n",
       "4                                 -501.053894   \n",
       "\n",
       "   secondary_cleaner.state.floatbank5_a_air  \\\n",
       "0                                  9.925633   \n",
       "1                                 10.039245   \n",
       "2                                 10.070913   \n",
       "3                                  9.970366   \n",
       "4                                  9.925709   \n",
       "\n",
       "   secondary_cleaner.state.floatbank5_a_level  \\\n",
       "0                                 -498.310211   \n",
       "1                                 -500.169983   \n",
       "2                                 -500.129135   \n",
       "3                                 -499.201640   \n",
       "4                                 -501.686727   \n",
       "\n",
       "   secondary_cleaner.state.floatbank5_b_air  \\\n",
       "0                                  8.079666   \n",
       "1                                  7.984757   \n",
       "2                                  8.013877   \n",
       "3                                  7.977324   \n",
       "4                                  7.894242   \n",
       "\n",
       "   secondary_cleaner.state.floatbank5_b_level  \\\n",
       "0                                 -500.470978   \n",
       "1                                 -500.582168   \n",
       "2                                 -500.517572   \n",
       "3                                 -500.255908   \n",
       "4                                 -500.356035   \n",
       "\n",
       "   secondary_cleaner.state.floatbank6_a_air  \\\n",
       "0                                 14.151341   \n",
       "1                                 13.998353   \n",
       "2                                 14.028663   \n",
       "3                                 14.005551   \n",
       "4                                 13.996647   \n",
       "\n",
       "   secondary_cleaner.state.floatbank6_a_level  \n",
       "0                                 -605.841980  \n",
       "1                                 -599.787184  \n",
       "2                                 -601.427363  \n",
       "3                                 -599.996129  \n",
       "4                                 -601.496691  \n",
       "\n",
       "[5 rows x 87 columns]"
      ]
     },
     "execution_count": 3,
     "metadata": {},
     "output_type": "execute_result"
    }
   ],
   "source": [
    "display(df_train.head())\n",
    "display(df_test.head())\n",
    "df_full.head()"
   ]
  },
  {
   "cell_type": "code",
   "execution_count": 4,
   "id": "23f01ad1",
   "metadata": {
    "scrolled": false
   },
   "outputs": [
    {
     "name": "stdout",
     "output_type": "stream",
     "text": [
      "<class 'pandas.core.frame.DataFrame'>\n",
      "RangeIndex: 14149 entries, 0 to 14148\n",
      "Data columns (total 87 columns):\n",
      " #   Column                                              Non-Null Count  Dtype  \n",
      "---  ------                                              --------------  -----  \n",
      " 0   date                                                14149 non-null  object \n",
      " 1   final.output.concentrate_ag                         14148 non-null  float64\n",
      " 2   final.output.concentrate_pb                         14148 non-null  float64\n",
      " 3   final.output.concentrate_sol                        13938 non-null  float64\n",
      " 4   final.output.concentrate_au                         14149 non-null  float64\n",
      " 5   final.output.recovery                               14149 non-null  float64\n",
      " 6   final.output.tail_ag                                14149 non-null  float64\n",
      " 7   final.output.tail_pb                                14049 non-null  float64\n",
      " 8   final.output.tail_sol                               14144 non-null  float64\n",
      " 9   final.output.tail_au                                14149 non-null  float64\n",
      " 10  primary_cleaner.input.sulfate                       14129 non-null  float64\n",
      " 11  primary_cleaner.input.depressant                    14117 non-null  float64\n",
      " 12  primary_cleaner.input.feed_size                     14149 non-null  float64\n",
      " 13  primary_cleaner.input.xanthate                      14049 non-null  float64\n",
      " 14  primary_cleaner.output.concentrate_ag               14149 non-null  float64\n",
      " 15  primary_cleaner.output.concentrate_pb               14063 non-null  float64\n",
      " 16  primary_cleaner.output.concentrate_sol              13863 non-null  float64\n",
      " 17  primary_cleaner.output.concentrate_au               14149 non-null  float64\n",
      " 18  primary_cleaner.output.tail_ag                      14148 non-null  float64\n",
      " 19  primary_cleaner.output.tail_pb                      14134 non-null  float64\n",
      " 20  primary_cleaner.output.tail_sol                     14103 non-null  float64\n",
      " 21  primary_cleaner.output.tail_au                      14149 non-null  float64\n",
      " 22  primary_cleaner.state.floatbank8_a_air              14145 non-null  float64\n",
      " 23  primary_cleaner.state.floatbank8_a_level            14148 non-null  float64\n",
      " 24  primary_cleaner.state.floatbank8_b_air              14145 non-null  float64\n",
      " 25  primary_cleaner.state.floatbank8_b_level            14148 non-null  float64\n",
      " 26  primary_cleaner.state.floatbank8_c_air              14147 non-null  float64\n",
      " 27  primary_cleaner.state.floatbank8_c_level            14148 non-null  float64\n",
      " 28  primary_cleaner.state.floatbank8_d_air              14146 non-null  float64\n",
      " 29  primary_cleaner.state.floatbank8_d_level            14148 non-null  float64\n",
      " 30  rougher.calculation.sulfate_to_au_concentrate       14148 non-null  float64\n",
      " 31  rougher.calculation.floatbank10_sulfate_to_au_feed  14148 non-null  float64\n",
      " 32  rougher.calculation.floatbank11_sulfate_to_au_feed  14148 non-null  float64\n",
      " 33  rougher.calculation.au_pb_ratio                     14149 non-null  float64\n",
      " 34  rougher.input.feed_ag                               14149 non-null  float64\n",
      " 35  rougher.input.feed_pb                               14049 non-null  float64\n",
      " 36  rougher.input.feed_rate                             14141 non-null  float64\n",
      " 37  rougher.input.feed_size                             14005 non-null  float64\n",
      " 38  rougher.input.feed_sol                              14071 non-null  float64\n",
      " 39  rougher.input.feed_au                               14149 non-null  float64\n",
      " 40  rougher.input.floatbank10_sulfate                   14120 non-null  float64\n",
      " 41  rougher.input.floatbank10_xanthate                  14141 non-null  float64\n",
      " 42  rougher.input.floatbank11_sulfate                   14113 non-null  float64\n",
      " 43  rougher.input.floatbank11_xanthate                  13721 non-null  float64\n",
      " 44  rougher.output.concentrate_ag                       14149 non-null  float64\n",
      " 45  rougher.output.concentrate_pb                       14149 non-null  float64\n",
      " 46  rougher.output.concentrate_sol                      14127 non-null  float64\n",
      " 47  rougher.output.concentrate_au                       14149 non-null  float64\n",
      " 48  rougher.output.recovery                             14149 non-null  float64\n",
      " 49  rougher.output.tail_ag                              14148 non-null  float64\n",
      " 50  rougher.output.tail_pb                              14149 non-null  float64\n",
      " 51  rougher.output.tail_sol                             14149 non-null  float64\n",
      " 52  rougher.output.tail_au                              14149 non-null  float64\n",
      " 53  rougher.state.floatbank10_a_air                     14148 non-null  float64\n",
      " 54  rougher.state.floatbank10_a_level                   14148 non-null  float64\n",
      " 55  rougher.state.floatbank10_b_air                     14148 non-null  float64\n",
      " 56  rougher.state.floatbank10_b_level                   14148 non-null  float64\n",
      " 57  rougher.state.floatbank10_c_air                     14148 non-null  float64\n",
      " 58  rougher.state.floatbank10_c_level                   14148 non-null  float64\n",
      " 59  rougher.state.floatbank10_d_air                     14149 non-null  float64\n",
      " 60  rougher.state.floatbank10_d_level                   14149 non-null  float64\n",
      " 61  rougher.state.floatbank10_e_air                     13713 non-null  float64\n",
      " 62  rougher.state.floatbank10_e_level                   14149 non-null  float64\n",
      " 63  rougher.state.floatbank10_f_air                     14149 non-null  float64\n",
      " 64  rougher.state.floatbank10_f_level                   14149 non-null  float64\n",
      " 65  secondary_cleaner.output.tail_ag                    14147 non-null  float64\n",
      " 66  secondary_cleaner.output.tail_pb                    14139 non-null  float64\n",
      " 67  secondary_cleaner.output.tail_sol                   12544 non-null  float64\n",
      " 68  secondary_cleaner.output.tail_au                    14149 non-null  float64\n",
      " 69  secondary_cleaner.state.floatbank2_a_air            13932 non-null  float64\n",
      " 70  secondary_cleaner.state.floatbank2_a_level          14148 non-null  float64\n",
      " 71  secondary_cleaner.state.floatbank2_b_air            14128 non-null  float64\n",
      " 72  secondary_cleaner.state.floatbank2_b_level          14148 non-null  float64\n",
      " 73  secondary_cleaner.state.floatbank3_a_air            14145 non-null  float64\n",
      " 74  secondary_cleaner.state.floatbank3_a_level          14148 non-null  float64\n",
      " 75  secondary_cleaner.state.floatbank3_b_air            14148 non-null  float64\n",
      " 76  secondary_cleaner.state.floatbank3_b_level          14148 non-null  float64\n",
      " 77  secondary_cleaner.state.floatbank4_a_air            14143 non-null  float64\n",
      " 78  secondary_cleaner.state.floatbank4_a_level          14148 non-null  float64\n",
      " 79  secondary_cleaner.state.floatbank4_b_air            14148 non-null  float64\n",
      " 80  secondary_cleaner.state.floatbank4_b_level          14148 non-null  float64\n",
      " 81  secondary_cleaner.state.floatbank5_a_air            14148 non-null  float64\n",
      " 82  secondary_cleaner.state.floatbank5_a_level          14148 non-null  float64\n",
      " 83  secondary_cleaner.state.floatbank5_b_air            14148 non-null  float64\n",
      " 84  secondary_cleaner.state.floatbank5_b_level          14148 non-null  float64\n",
      " 85  secondary_cleaner.state.floatbank6_a_air            14147 non-null  float64\n",
      " 86  secondary_cleaner.state.floatbank6_a_level          14148 non-null  float64\n",
      "dtypes: float64(86), object(1)\n",
      "memory usage: 9.4+ MB\n",
      "<class 'pandas.core.frame.DataFrame'>\n",
      "RangeIndex: 5290 entries, 0 to 5289\n",
      "Data columns (total 53 columns):\n",
      " #   Column                                      Non-Null Count  Dtype  \n",
      "---  ------                                      --------------  -----  \n",
      " 0   date                                        5290 non-null   object \n",
      " 1   primary_cleaner.input.sulfate               5286 non-null   float64\n",
      " 2   primary_cleaner.input.depressant            5285 non-null   float64\n",
      " 3   primary_cleaner.input.feed_size             5290 non-null   float64\n",
      " 4   primary_cleaner.input.xanthate              5286 non-null   float64\n",
      " 5   primary_cleaner.state.floatbank8_a_air      5290 non-null   float64\n",
      " 6   primary_cleaner.state.floatbank8_a_level    5290 non-null   float64\n",
      " 7   primary_cleaner.state.floatbank8_b_air      5290 non-null   float64\n",
      " 8   primary_cleaner.state.floatbank8_b_level    5290 non-null   float64\n",
      " 9   primary_cleaner.state.floatbank8_c_air      5290 non-null   float64\n",
      " 10  primary_cleaner.state.floatbank8_c_level    5290 non-null   float64\n",
      " 11  primary_cleaner.state.floatbank8_d_air      5290 non-null   float64\n",
      " 12  primary_cleaner.state.floatbank8_d_level    5290 non-null   float64\n",
      " 13  rougher.input.feed_ag                       5290 non-null   float64\n",
      " 14  rougher.input.feed_pb                       5290 non-null   float64\n",
      " 15  rougher.input.feed_rate                     5287 non-null   float64\n",
      " 16  rougher.input.feed_size                     5289 non-null   float64\n",
      " 17  rougher.input.feed_sol                      5269 non-null   float64\n",
      " 18  rougher.input.feed_au                       5290 non-null   float64\n",
      " 19  rougher.input.floatbank10_sulfate           5285 non-null   float64\n",
      " 20  rougher.input.floatbank10_xanthate          5290 non-null   float64\n",
      " 21  rougher.input.floatbank11_sulfate           5282 non-null   float64\n",
      " 22  rougher.input.floatbank11_xanthate          5265 non-null   float64\n",
      " 23  rougher.state.floatbank10_a_air             5290 non-null   float64\n",
      " 24  rougher.state.floatbank10_a_level           5290 non-null   float64\n",
      " 25  rougher.state.floatbank10_b_air             5290 non-null   float64\n",
      " 26  rougher.state.floatbank10_b_level           5290 non-null   float64\n",
      " 27  rougher.state.floatbank10_c_air             5290 non-null   float64\n",
      " 28  rougher.state.floatbank10_c_level           5290 non-null   float64\n",
      " 29  rougher.state.floatbank10_d_air             5290 non-null   float64\n",
      " 30  rougher.state.floatbank10_d_level           5290 non-null   float64\n",
      " 31  rougher.state.floatbank10_e_air             5290 non-null   float64\n",
      " 32  rougher.state.floatbank10_e_level           5290 non-null   float64\n",
      " 33  rougher.state.floatbank10_f_air             5290 non-null   float64\n",
      " 34  rougher.state.floatbank10_f_level           5290 non-null   float64\n",
      " 35  secondary_cleaner.state.floatbank2_a_air    5287 non-null   float64\n",
      " 36  secondary_cleaner.state.floatbank2_a_level  5290 non-null   float64\n",
      " 37  secondary_cleaner.state.floatbank2_b_air    5288 non-null   float64\n",
      " 38  secondary_cleaner.state.floatbank2_b_level  5290 non-null   float64\n",
      " 39  secondary_cleaner.state.floatbank3_a_air    5281 non-null   float64\n",
      " 40  secondary_cleaner.state.floatbank3_a_level  5290 non-null   float64\n",
      " 41  secondary_cleaner.state.floatbank3_b_air    5290 non-null   float64\n",
      " 42  secondary_cleaner.state.floatbank3_b_level  5290 non-null   float64\n",
      " 43  secondary_cleaner.state.floatbank4_a_air    5290 non-null   float64\n",
      " 44  secondary_cleaner.state.floatbank4_a_level  5290 non-null   float64\n",
      " 45  secondary_cleaner.state.floatbank4_b_air    5290 non-null   float64\n",
      " 46  secondary_cleaner.state.floatbank4_b_level  5290 non-null   float64\n",
      " 47  secondary_cleaner.state.floatbank5_a_air    5290 non-null   float64\n",
      " 48  secondary_cleaner.state.floatbank5_a_level  5290 non-null   float64\n",
      " 49  secondary_cleaner.state.floatbank5_b_air    5290 non-null   float64\n",
      " 50  secondary_cleaner.state.floatbank5_b_level  5290 non-null   float64\n",
      " 51  secondary_cleaner.state.floatbank6_a_air    5290 non-null   float64\n",
      " 52  secondary_cleaner.state.floatbank6_a_level  5290 non-null   float64\n",
      "dtypes: float64(52), object(1)\n",
      "memory usage: 2.1+ MB\n",
      "<class 'pandas.core.frame.DataFrame'>\n",
      "RangeIndex: 19439 entries, 0 to 19438\n",
      "Data columns (total 87 columns):\n",
      " #   Column                                              Non-Null Count  Dtype  \n",
      "---  ------                                              --------------  -----  \n",
      " 0   date                                                19439 non-null  object \n",
      " 1   final.output.concentrate_ag                         19438 non-null  float64\n",
      " 2   final.output.concentrate_pb                         19438 non-null  float64\n",
      " 3   final.output.concentrate_sol                        19228 non-null  float64\n",
      " 4   final.output.concentrate_au                         19439 non-null  float64\n",
      " 5   final.output.recovery                               19439 non-null  float64\n",
      " 6   final.output.tail_ag                                19438 non-null  float64\n",
      " 7   final.output.tail_pb                                19338 non-null  float64\n",
      " 8   final.output.tail_sol                               19433 non-null  float64\n",
      " 9   final.output.tail_au                                19439 non-null  float64\n",
      " 10  primary_cleaner.input.sulfate                       19415 non-null  float64\n",
      " 11  primary_cleaner.input.depressant                    19402 non-null  float64\n",
      " 12  primary_cleaner.input.feed_size                     19439 non-null  float64\n",
      " 13  primary_cleaner.input.xanthate                      19335 non-null  float64\n",
      " 14  primary_cleaner.output.concentrate_ag               19439 non-null  float64\n",
      " 15  primary_cleaner.output.concentrate_pb               19323 non-null  float64\n",
      " 16  primary_cleaner.output.concentrate_sol              19069 non-null  float64\n",
      " 17  primary_cleaner.output.concentrate_au               19439 non-null  float64\n",
      " 18  primary_cleaner.output.tail_ag                      19435 non-null  float64\n",
      " 19  primary_cleaner.output.tail_pb                      19418 non-null  float64\n",
      " 20  primary_cleaner.output.tail_sol                     19377 non-null  float64\n",
      " 21  primary_cleaner.output.tail_au                      19439 non-null  float64\n",
      " 22  primary_cleaner.state.floatbank8_a_air              19435 non-null  float64\n",
      " 23  primary_cleaner.state.floatbank8_a_level            19438 non-null  float64\n",
      " 24  primary_cleaner.state.floatbank8_b_air              19435 non-null  float64\n",
      " 25  primary_cleaner.state.floatbank8_b_level            19438 non-null  float64\n",
      " 26  primary_cleaner.state.floatbank8_c_air              19437 non-null  float64\n",
      " 27  primary_cleaner.state.floatbank8_c_level            19438 non-null  float64\n",
      " 28  primary_cleaner.state.floatbank8_d_air              19436 non-null  float64\n",
      " 29  primary_cleaner.state.floatbank8_d_level            19438 non-null  float64\n",
      " 30  rougher.calculation.sulfate_to_au_concentrate       19437 non-null  float64\n",
      " 31  rougher.calculation.floatbank10_sulfate_to_au_feed  19437 non-null  float64\n",
      " 32  rougher.calculation.floatbank11_sulfate_to_au_feed  19437 non-null  float64\n",
      " 33  rougher.calculation.au_pb_ratio                     19439 non-null  float64\n",
      " 34  rougher.input.feed_ag                               19439 non-null  float64\n",
      " 35  rougher.input.feed_pb                               19339 non-null  float64\n",
      " 36  rougher.input.feed_rate                             19428 non-null  float64\n",
      " 37  rougher.input.feed_size                             19294 non-null  float64\n",
      " 38  rougher.input.feed_sol                              19340 non-null  float64\n",
      " 39  rougher.input.feed_au                               19439 non-null  float64\n",
      " 40  rougher.input.floatbank10_sulfate                   19405 non-null  float64\n",
      " 41  rougher.input.floatbank10_xanthate                  19431 non-null  float64\n",
      " 42  rougher.input.floatbank11_sulfate                   19395 non-null  float64\n",
      " 43  rougher.input.floatbank11_xanthate                  18986 non-null  float64\n",
      " 44  rougher.output.concentrate_ag                       19439 non-null  float64\n",
      " 45  rougher.output.concentrate_pb                       19439 non-null  float64\n",
      " 46  rougher.output.concentrate_sol                      19416 non-null  float64\n",
      " 47  rougher.output.concentrate_au                       19439 non-null  float64\n",
      " 48  rougher.output.recovery                             19439 non-null  float64\n",
      " 49  rougher.output.tail_ag                              19438 non-null  float64\n",
      " 50  rougher.output.tail_pb                              19439 non-null  float64\n",
      " 51  rougher.output.tail_sol                             19439 non-null  float64\n",
      " 52  rougher.output.tail_au                              19439 non-null  float64\n",
      " 53  rougher.state.floatbank10_a_air                     19438 non-null  float64\n",
      " 54  rougher.state.floatbank10_a_level                   19438 non-null  float64\n",
      " 55  rougher.state.floatbank10_b_air                     19438 non-null  float64\n",
      " 56  rougher.state.floatbank10_b_level                   19438 non-null  float64\n",
      " 57  rougher.state.floatbank10_c_air                     19438 non-null  float64\n",
      " 58  rougher.state.floatbank10_c_level                   19438 non-null  float64\n",
      " 59  rougher.state.floatbank10_d_air                     19439 non-null  float64\n",
      " 60  rougher.state.floatbank10_d_level                   19439 non-null  float64\n",
      " 61  rougher.state.floatbank10_e_air                     19003 non-null  float64\n",
      " 62  rougher.state.floatbank10_e_level                   19439 non-null  float64\n",
      " 63  rougher.state.floatbank10_f_air                     19439 non-null  float64\n",
      " 64  rougher.state.floatbank10_f_level                   19439 non-null  float64\n",
      " 65  secondary_cleaner.output.tail_ag                    19437 non-null  float64\n",
      " 66  secondary_cleaner.output.tail_pb                    19427 non-null  float64\n",
      " 67  secondary_cleaner.output.tail_sol                   17691 non-null  float64\n",
      " 68  secondary_cleaner.output.tail_au                    19439 non-null  float64\n",
      " 69  secondary_cleaner.state.floatbank2_a_air            19219 non-null  float64\n",
      " 70  secondary_cleaner.state.floatbank2_a_level          19438 non-null  float64\n",
      " 71  secondary_cleaner.state.floatbank2_b_air            19416 non-null  float64\n",
      " 72  secondary_cleaner.state.floatbank2_b_level          19438 non-null  float64\n",
      " 73  secondary_cleaner.state.floatbank3_a_air            19426 non-null  float64\n",
      " 74  secondary_cleaner.state.floatbank3_a_level          19438 non-null  float64\n",
      " 75  secondary_cleaner.state.floatbank3_b_air            19438 non-null  float64\n",
      " 76  secondary_cleaner.state.floatbank3_b_level          19438 non-null  float64\n",
      " 77  secondary_cleaner.state.floatbank4_a_air            19433 non-null  float64\n",
      " 78  secondary_cleaner.state.floatbank4_a_level          19438 non-null  float64\n",
      " 79  secondary_cleaner.state.floatbank4_b_air            19438 non-null  float64\n",
      " 80  secondary_cleaner.state.floatbank4_b_level          19438 non-null  float64\n",
      " 81  secondary_cleaner.state.floatbank5_a_air            19438 non-null  float64\n",
      " 82  secondary_cleaner.state.floatbank5_a_level          19438 non-null  float64\n",
      " 83  secondary_cleaner.state.floatbank5_b_air            19438 non-null  float64\n",
      " 84  secondary_cleaner.state.floatbank5_b_level          19438 non-null  float64\n",
      " 85  secondary_cleaner.state.floatbank6_a_air            19437 non-null  float64\n",
      " 86  secondary_cleaner.state.floatbank6_a_level          19438 non-null  float64\n",
      "dtypes: float64(86), object(1)\n",
      "memory usage: 12.9+ MB\n"
     ]
    }
   ],
   "source": [
    "df_train.info()\n",
    "df_test.info()\n",
    "df_full.info()"
   ]
  },
  {
   "cell_type": "code",
   "execution_count": 5,
   "id": "249137d3",
   "metadata": {},
   "outputs": [],
   "source": [
    "c = df_train['rougher.output.concentrate_au']\n",
    "f = df_train['rougher.input.feed_au']\n",
    "t = df_train['rougher.output.tail_au']\n",
    "\n",
    "calculate_recovery = (c * (f - t)) / (f * (c - t)) * 100"
   ]
  },
  {
   "cell_type": "code",
   "execution_count": 6,
   "id": "6ac13272",
   "metadata": {},
   "outputs": [
    {
     "data": {
      "text/plain": [
       "9.73512347450521e-15"
      ]
     },
     "execution_count": 6,
     "metadata": {},
     "output_type": "execute_result"
    }
   ],
   "source": [
    "mean_absolute_error(df_train['rougher.output.recovery'], calculate_recovery)"
   ]
  },
  {
   "cell_type": "code",
   "execution_count": 7,
   "id": "e35d4146",
   "metadata": {},
   "outputs": [
    {
     "data": {
      "text/plain": [
       "85.2994620986978"
      ]
     },
     "execution_count": 7,
     "metadata": {},
     "output_type": "execute_result"
    }
   ],
   "source": [
    "df_train['rougher.output.recovery'].median()"
   ]
  },
  {
   "cell_type": "markdown",
   "id": "d73142a3",
   "metadata": {},
   "source": [
    "__Вывод__ \n",
    "\n",
    "Средняя абсолютная ошибка достаточно мала, можно считать что эффективность обогащения рассчитана правильно."
   ]
  },
  {
   "cell_type": "code",
   "execution_count": 8,
   "id": "81713584",
   "metadata": {
    "scrolled": true
   },
   "outputs": [
    {
     "data": {
      "text/plain": [
       "['final.output.concentrate_ag',\n",
       " 'final.output.concentrate_pb',\n",
       " 'final.output.concentrate_sol',\n",
       " 'final.output.concentrate_au',\n",
       " 'final.output.recovery',\n",
       " 'final.output.tail_ag',\n",
       " 'final.output.tail_pb',\n",
       " 'final.output.tail_sol',\n",
       " 'final.output.tail_au',\n",
       " 'primary_cleaner.output.concentrate_ag',\n",
       " 'primary_cleaner.output.concentrate_pb',\n",
       " 'primary_cleaner.output.concentrate_sol',\n",
       " 'primary_cleaner.output.concentrate_au',\n",
       " 'primary_cleaner.output.tail_ag',\n",
       " 'primary_cleaner.output.tail_pb',\n",
       " 'primary_cleaner.output.tail_sol',\n",
       " 'primary_cleaner.output.tail_au',\n",
       " 'rougher.calculation.sulfate_to_au_concentrate',\n",
       " 'rougher.calculation.floatbank10_sulfate_to_au_feed',\n",
       " 'rougher.calculation.floatbank11_sulfate_to_au_feed',\n",
       " 'rougher.calculation.au_pb_ratio',\n",
       " 'rougher.output.concentrate_ag',\n",
       " 'rougher.output.concentrate_pb',\n",
       " 'rougher.output.concentrate_sol',\n",
       " 'rougher.output.concentrate_au',\n",
       " 'rougher.output.recovery',\n",
       " 'rougher.output.tail_ag',\n",
       " 'rougher.output.tail_pb',\n",
       " 'rougher.output.tail_sol',\n",
       " 'rougher.output.tail_au',\n",
       " 'secondary_cleaner.output.tail_ag',\n",
       " 'secondary_cleaner.output.tail_pb',\n",
       " 'secondary_cleaner.output.tail_sol',\n",
       " 'secondary_cleaner.output.tail_au']"
      ]
     },
     "execution_count": 8,
     "metadata": {},
     "output_type": "execute_result"
    }
   ],
   "source": [
    "clean_test = []\n",
    "for i in df_train:\n",
    "    if i not in df_test:\n",
    "        clean_test.append(i)\n",
    "clean_test"
   ]
  },
  {
   "cell_type": "markdown",
   "id": "76e0000e",
   "metadata": {},
   "source": [
    "Признаки, отсутсвующие в тестовой выборке представляют собой различные показания на выходе этапов очистки и флотации, а так же расчетные величины, которые приведут к утечке целевого признака.\n",
    "\n",
    "Произведем предобработку данных."
   ]
  },
  {
   "cell_type": "code",
   "execution_count": 9,
   "id": "4499f1c7",
   "metadata": {},
   "outputs": [
    {
     "name": "stdout",
     "output_type": "stream",
     "text": [
      "4100 (14149, 87)\n",
      "90 (5290, 53)\n",
      "4481 (19439, 87)\n"
     ]
    }
   ],
   "source": [
    "def check_passes():\n",
    "    print(df_train.isna().sum().sum(), df_train.shape)\n",
    "    print(df_test.isna().sum().sum(), df_test.shape)\n",
    "    print(df_full.isna().sum().sum(), df_full.shape)\n",
    "    \n",
    "check_passes()"
   ]
  },
  {
   "cell_type": "code",
   "execution_count": 10,
   "id": "77614655",
   "metadata": {},
   "outputs": [
    {
     "data": {
      "text/plain": [
       "0"
      ]
     },
     "execution_count": 10,
     "metadata": {},
     "output_type": "execute_result"
    }
   ],
   "source": [
    "df_train['date'].isna().sum()"
   ]
  },
  {
   "cell_type": "markdown",
   "id": "a2a60080",
   "metadata": {},
   "source": [
    "Пропуски отсутсвуют в временах замера параметров, приведем эти данные к одному виду:"
   ]
  },
  {
   "cell_type": "code",
   "execution_count": 11,
   "id": "4e8566e0",
   "metadata": {},
   "outputs": [],
   "source": [
    "df_train['date'] = pd.to_datetime(df_train['date'], format='%Y-%m-%d %H:%M:%S').round(\"H\")\n",
    "df_test['date'] = pd.to_datetime(df_test['date'], format='%Y-%m-%d %H:%M:%S').round(\"H\")\n",
    "df_full['date'] = pd.to_datetime(df_full['date'], format='%Y-%m-%d %H:%M:%S').round(\"H\")"
   ]
  },
  {
   "cell_type": "markdown",
   "id": "80118dc0",
   "metadata": {},
   "source": [
    "Теперь можем определить, можно ли заполнить пропуски из исходных данных."
   ]
  },
  {
   "cell_type": "code",
   "execution_count": 12,
   "id": "20c50d87",
   "metadata": {},
   "outputs": [],
   "source": [
    "def check_passes_in_full(check_df):\n",
    "    check = 0\n",
    "    for c in check_df:\n",
    "        if c == 'date':\n",
    "            continue\n",
    "        for s in check_df[c].index:\n",
    "            if math.isnan(check_df[c][s]):\n",
    "                if not(math.isnan(df_full.loc[df_full['date'] == check_df['date'][s]][c])):\n",
    "                    check += 1\n",
    "    print(check)               "
   ]
  },
  {
   "cell_type": "code",
   "execution_count": 13,
   "id": "0f8affd2",
   "metadata": {},
   "outputs": [
    {
     "name": "stdout",
     "output_type": "stream",
     "text": [
      "0\n",
      "0\n"
     ]
    }
   ],
   "source": [
    "check_passes_in_full(df_train)  \n",
    "check_passes_in_full(df_test)  "
   ]
  },
  {
   "cell_type": "code",
   "execution_count": 14,
   "id": "59ffdd61",
   "metadata": {},
   "outputs": [],
   "source": [
    "df_train.loc[:, df_train.columns !='date'] = df_train.loc[:, df_train.columns !='date'].interpolate(limit_direction='both')\n",
    "df_test.loc[:, df_test.columns !='date'] = df_test.loc[:, df_test.columns !='date'].interpolate(limit_direction='both')"
   ]
  },
  {
   "cell_type": "code",
   "execution_count": 15,
   "id": "7d498fc3",
   "metadata": {},
   "outputs": [
    {
     "name": "stdout",
     "output_type": "stream",
     "text": [
      "0 (14149, 87)\n",
      "0 (5290, 53)\n",
      "4481 (19439, 87)\n"
     ]
    }
   ],
   "source": [
    "check_passes()"
   ]
  },
  {
   "cell_type": "markdown",
   "id": "48d3c4f0",
   "metadata": {},
   "source": [
    "Добавим в тестовую выборку целевые признаки из исходных данных."
   ]
  },
  {
   "cell_type": "code",
   "execution_count": 16,
   "id": "32629cf9",
   "metadata": {},
   "outputs": [
    {
     "name": "stdout",
     "output_type": "stream",
     "text": [
      "<class 'pandas.core.frame.DataFrame'>\n",
      "Int64Index: 5290 entries, 0 to 5289\n",
      "Data columns (total 55 columns):\n",
      " #   Column                                      Non-Null Count  Dtype         \n",
      "---  ------                                      --------------  -----         \n",
      " 0   date                                        5290 non-null   datetime64[ns]\n",
      " 1   primary_cleaner.input.sulfate               5290 non-null   float64       \n",
      " 2   primary_cleaner.input.depressant            5290 non-null   float64       \n",
      " 3   primary_cleaner.input.feed_size             5290 non-null   float64       \n",
      " 4   primary_cleaner.input.xanthate              5290 non-null   float64       \n",
      " 5   primary_cleaner.state.floatbank8_a_air      5290 non-null   float64       \n",
      " 6   primary_cleaner.state.floatbank8_a_level    5290 non-null   float64       \n",
      " 7   primary_cleaner.state.floatbank8_b_air      5290 non-null   float64       \n",
      " 8   primary_cleaner.state.floatbank8_b_level    5290 non-null   float64       \n",
      " 9   primary_cleaner.state.floatbank8_c_air      5290 non-null   float64       \n",
      " 10  primary_cleaner.state.floatbank8_c_level    5290 non-null   float64       \n",
      " 11  primary_cleaner.state.floatbank8_d_air      5290 non-null   float64       \n",
      " 12  primary_cleaner.state.floatbank8_d_level    5290 non-null   float64       \n",
      " 13  rougher.input.feed_ag                       5290 non-null   float64       \n",
      " 14  rougher.input.feed_pb                       5290 non-null   float64       \n",
      " 15  rougher.input.feed_rate                     5290 non-null   float64       \n",
      " 16  rougher.input.feed_size                     5290 non-null   float64       \n",
      " 17  rougher.input.feed_sol                      5290 non-null   float64       \n",
      " 18  rougher.input.feed_au                       5290 non-null   float64       \n",
      " 19  rougher.input.floatbank10_sulfate           5290 non-null   float64       \n",
      " 20  rougher.input.floatbank10_xanthate          5290 non-null   float64       \n",
      " 21  rougher.input.floatbank11_sulfate           5290 non-null   float64       \n",
      " 22  rougher.input.floatbank11_xanthate          5290 non-null   float64       \n",
      " 23  rougher.state.floatbank10_a_air             5290 non-null   float64       \n",
      " 24  rougher.state.floatbank10_a_level           5290 non-null   float64       \n",
      " 25  rougher.state.floatbank10_b_air             5290 non-null   float64       \n",
      " 26  rougher.state.floatbank10_b_level           5290 non-null   float64       \n",
      " 27  rougher.state.floatbank10_c_air             5290 non-null   float64       \n",
      " 28  rougher.state.floatbank10_c_level           5290 non-null   float64       \n",
      " 29  rougher.state.floatbank10_d_air             5290 non-null   float64       \n",
      " 30  rougher.state.floatbank10_d_level           5290 non-null   float64       \n",
      " 31  rougher.state.floatbank10_e_air             5290 non-null   float64       \n",
      " 32  rougher.state.floatbank10_e_level           5290 non-null   float64       \n",
      " 33  rougher.state.floatbank10_f_air             5290 non-null   float64       \n",
      " 34  rougher.state.floatbank10_f_level           5290 non-null   float64       \n",
      " 35  secondary_cleaner.state.floatbank2_a_air    5290 non-null   float64       \n",
      " 36  secondary_cleaner.state.floatbank2_a_level  5290 non-null   float64       \n",
      " 37  secondary_cleaner.state.floatbank2_b_air    5290 non-null   float64       \n",
      " 38  secondary_cleaner.state.floatbank2_b_level  5290 non-null   float64       \n",
      " 39  secondary_cleaner.state.floatbank3_a_air    5290 non-null   float64       \n",
      " 40  secondary_cleaner.state.floatbank3_a_level  5290 non-null   float64       \n",
      " 41  secondary_cleaner.state.floatbank3_b_air    5290 non-null   float64       \n",
      " 42  secondary_cleaner.state.floatbank3_b_level  5290 non-null   float64       \n",
      " 43  secondary_cleaner.state.floatbank4_a_air    5290 non-null   float64       \n",
      " 44  secondary_cleaner.state.floatbank4_a_level  5290 non-null   float64       \n",
      " 45  secondary_cleaner.state.floatbank4_b_air    5290 non-null   float64       \n",
      " 46  secondary_cleaner.state.floatbank4_b_level  5290 non-null   float64       \n",
      " 47  secondary_cleaner.state.floatbank5_a_air    5290 non-null   float64       \n",
      " 48  secondary_cleaner.state.floatbank5_a_level  5290 non-null   float64       \n",
      " 49  secondary_cleaner.state.floatbank5_b_air    5290 non-null   float64       \n",
      " 50  secondary_cleaner.state.floatbank5_b_level  5290 non-null   float64       \n",
      " 51  secondary_cleaner.state.floatbank6_a_air    5290 non-null   float64       \n",
      " 52  secondary_cleaner.state.floatbank6_a_level  5290 non-null   float64       \n",
      " 53  final.output.recovery                       5290 non-null   float64       \n",
      " 54  rougher.output.recovery                     5290 non-null   float64       \n",
      "dtypes: datetime64[ns](1), float64(54)\n",
      "memory usage: 2.3 MB\n"
     ]
    }
   ],
   "source": [
    "df_test_m = df_test.merge(df_full[['date', 'final.output.recovery', 'rougher.output.recovery']], how='left', on='date')\n",
    "df_test_m.info()"
   ]
  },
  {
   "cell_type": "code",
   "execution_count": 17,
   "id": "ac0ad6bf",
   "metadata": {},
   "outputs": [],
   "source": [
    "def del_zeros(data):\n",
    "    zeros_index = []\n",
    "    for i in data.loc[:, data.columns != 'date']:\n",
    "        for j in list(data.loc[data[i] == 0].index):\n",
    "            if j not in zeros_index:\n",
    "                zeros_index.append(j)\n",
    "    print(len(zeros_index))\n",
    "    return data.drop(zeros_index, axis=0)"
   ]
  },
  {
   "cell_type": "code",
   "execution_count": 18,
   "id": "6a656dab",
   "metadata": {},
   "outputs": [
    {
     "name": "stdout",
     "output_type": "stream",
     "text": [
      "1218\n",
      "1\n",
      "1545\n"
     ]
    }
   ],
   "source": [
    "df_train = del_zeros(df_train)\n",
    "df_test = del_zeros(df_test)\n",
    "df_full = del_zeros(df_full)"
   ]
  },
  {
   "cell_type": "markdown",
   "id": "98c23b77",
   "metadata": {},
   "source": [
    "## Исследовательский анализ данных"
   ]
  },
  {
   "cell_type": "markdown",
   "id": "efa555b0",
   "metadata": {},
   "source": [
    "Оценим как меняется концентрация металлов (Au, Ag, Pb) на различных этапах очистки. Распределим металлы по этапам очистки."
   ]
  },
  {
   "cell_type": "code",
   "execution_count": 19,
   "id": "b0ffddbf",
   "metadata": {},
   "outputs": [],
   "source": [
    "def pulling(arr, key, meaning):\n",
    "    if key in arr:\n",
    "        arr[key].append(meaning)\n",
    "    else:\n",
    "        arr[key] = [meaning]\n",
    "    return concentrate"
   ]
  },
  {
   "cell_type": "code",
   "execution_count": 20,
   "id": "16a6dd57",
   "metadata": {},
   "outputs": [
    {
     "data": {
      "text/plain": [
       "{'ag': ['final.output.concentrate_ag',\n",
       "  'primary_cleaner.output.concentrate_ag',\n",
       "  'rougher.output.concentrate_ag'],\n",
       " 'pb': ['final.output.concentrate_pb',\n",
       "  'primary_cleaner.output.concentrate_pb',\n",
       "  'rougher.output.concentrate_pb'],\n",
       " 'au': ['final.output.concentrate_au',\n",
       "  'primary_cleaner.output.concentrate_au',\n",
       "  'rougher.output.concentrate_au']}"
      ]
     },
     "execution_count": 20,
     "metadata": {},
     "output_type": "execute_result"
    }
   ],
   "source": [
    "concentrate = {}\n",
    "for i in df_full.columns:\n",
    "    if '.concentrate_au' in i:\n",
    "        concentrate = pulling(concentrate, 'au', i)\n",
    "    elif '.concentrate_pb' in i:\n",
    "        concentrate = pulling(concentrate, 'pb', i)\n",
    "    elif '.concentrate_ag' in i:\n",
    "        concentrate = pulling(concentrate, 'ag', i)  \n",
    "concentrate"
   ]
  },
  {
   "cell_type": "code",
   "execution_count": 21,
   "id": "e7176947",
   "metadata": {},
   "outputs": [],
   "source": [
    "def smooth(x_data, y_data, win=4): # Сглаживание графика\n",
    "    filt = np.ones(win)/win\n",
    "    mov = win//2\n",
    "    return x_data[mov:-mov], np.convolve(y_data, filt, mode='same')[mov:-mov]"
   ]
  },
  {
   "cell_type": "markdown",
   "id": "96c0b33a",
   "metadata": {},
   "source": [
    "Построим графики."
   ]
  },
  {
   "cell_type": "code",
   "execution_count": 22,
   "id": "6ea9c06b",
   "metadata": {},
   "outputs": [
    {
     "data": {
      "image/png": "[encoded data removed]",
      "text/plain": [
       "<Figure size 1080x432 with 1 Axes>"
      ]
     },
     "metadata": {
      "needs_background": "light"
     },
     "output_type": "display_data"
    },
    {
     "data": {
      "image/png": "[encoded data removed]",
      "text/plain": [
       "<Figure size 1080x432 with 1 Axes>"
      ]
     },
     "metadata": {
      "needs_background": "light"
     },
     "output_type": "display_data"
    },
    {
     "data": {
      "image/png": "[encoded data removed]",
      "text/plain": [
       "<Figure size 1080x432 with 1 Axes>"
      ]
     },
     "metadata": {
      "needs_background": "light"
     },
     "output_type": "display_data"
    }
   ],
   "source": [
    "plt.rcParams['figure.figsize'] = [15, 6]\n",
    "for i in concentrate:\n",
    "    for s in concentrate[i]:\n",
    "        if 'final' in s:\n",
    "            label = 'second'\n",
    "        elif 'primary' in s:\n",
    "            label = 'first'\n",
    "        elif 'rougher' in s:\n",
    "            label = 'rougher'\n",
    "        X, Y = smooth(df_full['date'], df_full[s], win=24*7)\n",
    "        plt.plot(X, Y, label = label, alpha = 0.7)\n",
    "        plt.title(i)\n",
    "        plt.xlabel('Дата')\n",
    "        plt.ylabel('Концентрация')\n",
    "        plt.legend(loc = 'upper right')\n",
    "    plt.show()"
   ]
  },
  {
   "cell_type": "markdown",
   "id": "06a0ce9b",
   "metadata": {},
   "source": [
    "__Вывод__\n",
    "\n",
    "После различных этапов очистки концентрация серебра уменьшается примерно в 2 раза, свинца практически не изменяется, а золота увеличивается в 2 раза.\n"
   ]
  },
  {
   "cell_type": "markdown",
   "id": "22b166ff",
   "metadata": {},
   "source": [
    "Приведем распределения размеров гранул сырья на обучающей и тестовой выборках."
   ]
  },
  {
   "cell_type": "code",
   "execution_count": 23,
   "id": "00e0826f",
   "metadata": {},
   "outputs": [
    {
     "data": {
      "image/png": "[encoded data removed]",
      "text/plain": [
       "<Figure size 1080x432 with 1 Axes>"
      ]
     },
     "metadata": {
      "needs_background": "light"
     },
     "output_type": "display_data"
    }
   ],
   "source": [
    "sns.distplot(df_test['rougher.input.feed_size'], hist = False, kde = True,\n",
    "                 kde_kws = {'shade': True, 'linewidth': 3}) \n",
    "sns.distplot(df_train['rougher.input.feed_size'], hist = False, kde = True,\n",
    "                 kde_kws = {'shade': True, 'linewidth': 3});"
   ]
  },
  {
   "cell_type": "markdown",
   "id": "e0ae151d",
   "metadata": {},
   "source": [
    "Разница не значительная, оценка моделей будет корректной."
   ]
  },
  {
   "cell_type": "markdown",
   "id": "1001bbb4",
   "metadata": {},
   "source": [
    "Исследуем суммарную концентрацию всех веществ на разных стадиях: в сырье, в черновом и финальном концентратах. "
   ]
  },
  {
   "cell_type": "code",
   "execution_count": 24,
   "id": "8da92670",
   "metadata": {},
   "outputs": [
    {
     "data": {
      "text/plain": [
       "{'ag': ['final.output.concentrate_ag',\n",
       "  'primary_cleaner.output.concentrate_ag',\n",
       "  'rougher.output.concentrate_ag',\n",
       "  'rougher.input.feed_ag'],\n",
       " 'pb': ['final.output.concentrate_pb',\n",
       "  'primary_cleaner.output.concentrate_pb',\n",
       "  'rougher.output.concentrate_pb',\n",
       "  'rougher.input.feed_pb'],\n",
       " 'au': ['final.output.concentrate_au',\n",
       "  'primary_cleaner.output.concentrate_au',\n",
       "  'rougher.output.concentrate_au',\n",
       "  'rougher.input.feed_au']}"
      ]
     },
     "execution_count": 24,
     "metadata": {},
     "output_type": "execute_result"
    }
   ],
   "source": [
    "for i in df_full.columns:\n",
    "    if '.feed_au' in i:\n",
    "        concentrate = pulling(concentrate, 'au', i)\n",
    "    elif '.feed_pb' in i:\n",
    "        concentrate = pulling(concentrate, 'pb', i)\n",
    "    elif '.feed_ag' in i:\n",
    "        concentrate = pulling(concentrate, 'ag', i)  \n",
    "concentrate"
   ]
  },
  {
   "cell_type": "code",
   "execution_count": 25,
   "id": "774c2fc1",
   "metadata": {},
   "outputs": [
    {
     "data": {
      "text/plain": [
       "{'ag': ['final.output.concentrate_ag',\n",
       "  'rougher.output.concentrate_ag',\n",
       "  'rougher.input.feed_ag'],\n",
       " 'pb': ['final.output.concentrate_pb',\n",
       "  'rougher.output.concentrate_pb',\n",
       "  'rougher.input.feed_pb'],\n",
       " 'au': ['final.output.concentrate_au',\n",
       "  'rougher.output.concentrate_au',\n",
       "  'rougher.input.feed_au']}"
      ]
     },
     "execution_count": 25,
     "metadata": {},
     "output_type": "execute_result"
    }
   ],
   "source": [
    "concentrate_sum = copy.deepcopy(concentrate)\n",
    "for i in concentrate_sum:\n",
    "    concentrate_sum[i].pop(1)\n",
    "concentrate_sum"
   ]
  },
  {
   "cell_type": "code",
   "execution_count": 26,
   "id": "9f9be493",
   "metadata": {},
   "outputs": [
    {
     "data": {
      "image/png": "[encoded data removed]",
      "text/plain": [
       "<Figure size 1080x432 with 1 Axes>"
      ]
     },
     "metadata": {
      "needs_background": "light"
     },
     "output_type": "display_data"
    }
   ],
   "source": [
    "sum_el = []\n",
    "for step in range(3):\n",
    "    columns = []\n",
    "    for i in concentrate_sum:\n",
    "        columns.append(concentrate_sum[i][step])\n",
    "    sum_el.append(df_full[columns].sum(axis=1))\n",
    "    X, Y = smooth(df_full['date'], sum_el[step], win=24*7*4)\n",
    "    plt.plot(X, Y, alpha=0.7, label=concentrate_sum['au'][step].split('_')[0])\n",
    "plt.title('Суммарная концентрация всех веществ на разных стадиях')\n",
    "plt.legend()\n",
    "plt.show()"
   ]
  },
  {
   "cell_type": "code",
   "execution_count": 27,
   "id": "58870831",
   "metadata": {},
   "outputs": [
    {
     "data": {
      "image/png": "[encoded data removed]",
      "text/plain": [
       "<Figure size 1080x432 with 1 Axes>"
      ]
     },
     "metadata": {
      "needs_background": "light"
     },
     "output_type": "display_data"
    }
   ],
   "source": [
    "for i in sum_el:\n",
    "    sns.distplot(i, bins=100)"
   ]
  },
  {
   "cell_type": "markdown",
   "id": "518cc884",
   "metadata": {},
   "source": [
    "С этапами очистки растет концентрация металлических элементов, более 40% которых составляет золото, но остаются другие примеси."
   ]
  },
  {
   "cell_type": "markdown",
   "id": "8d2e9c2a",
   "metadata": {},
   "source": [
    "## Построение и обучение модели"
   ]
  },
  {
   "cell_type": "markdown",
   "id": "e5dcc879",
   "metadata": {},
   "source": [
    "Напишем функцию для вычисления sMAPE."
   ]
  },
  {
   "cell_type": "code",
   "execution_count": 28,
   "id": "4a5483f9",
   "metadata": {},
   "outputs": [],
   "source": [
    "def smape(predict, target):\n",
    "    return round(sum(abs(predict - target)/abs(predict + target)/2)*100/len(predict), 2)"
   ]
  },
  {
   "cell_type": "markdown",
   "id": "e8db9ee7",
   "metadata": {},
   "source": [
    "Обучим разные модели и оцените их качество кросс-валидацией."
   ]
  },
  {
   "cell_type": "markdown",
   "id": "387d997f",
   "metadata": {},
   "source": [
    "Выделим целевые признаки тренировочной выборки."
   ]
  },
  {
   "cell_type": "code",
   "execution_count": 29,
   "id": "a6a2d425",
   "metadata": {},
   "outputs": [],
   "source": [
    "target_rougher = df_train['rougher.output.recovery']\n",
    "target_final = df_train['final.output.recovery']"
   ]
  },
  {
   "cell_type": "markdown",
   "id": "3e61db0b",
   "metadata": {},
   "source": [
    "Удалим из тренировочной выборки признаки параметров, характеризующих текущее состояние этапов, так как они тоже могут привести к утечке целевого признака, а так же даты."
   ]
  },
  {
   "cell_type": "code",
   "execution_count": 30,
   "id": "db773422",
   "metadata": {},
   "outputs": [],
   "source": [
    "for i in df_train:\n",
    "    if 'state' in i:\n",
    "        clean_test.append(i)\n",
    "        \n",
    "main_features_train = df_train.drop(clean_test, axis=1)\n",
    "main_features_train = main_features_train.drop('date', axis=1)"
   ]
  },
  {
   "cell_type": "code",
   "execution_count": 31,
   "id": "2b155ff3",
   "metadata": {
    "scrolled": true
   },
   "outputs": [
    {
     "name": "stdout",
     "output_type": "stream",
     "text": [
      "<class 'pandas.core.frame.DataFrame'>\n",
      "Int64Index: 12931 entries, 0 to 14139\n",
      "Data columns (total 14 columns):\n",
      " #   Column                              Non-Null Count  Dtype  \n",
      "---  ------                              --------------  -----  \n",
      " 0   primary_cleaner.input.sulfate       12931 non-null  float64\n",
      " 1   primary_cleaner.input.depressant    12931 non-null  float64\n",
      " 2   primary_cleaner.input.feed_size     12931 non-null  float64\n",
      " 3   primary_cleaner.input.xanthate      12931 non-null  float64\n",
      " 4   rougher.input.feed_ag               12931 non-null  float64\n",
      " 5   rougher.input.feed_pb               12931 non-null  float64\n",
      " 6   rougher.input.feed_rate             12931 non-null  float64\n",
      " 7   rougher.input.feed_size             12931 non-null  float64\n",
      " 8   rougher.input.feed_sol              12931 non-null  float64\n",
      " 9   rougher.input.feed_au               12931 non-null  float64\n",
      " 10  rougher.input.floatbank10_sulfate   12931 non-null  float64\n",
      " 11  rougher.input.floatbank10_xanthate  12931 non-null  float64\n",
      " 12  rougher.input.floatbank11_sulfate   12931 non-null  float64\n",
      " 13  rougher.input.floatbank11_xanthate  12931 non-null  float64\n",
      "dtypes: float64(14)\n",
      "memory usage: 1.5 MB\n"
     ]
    }
   ],
   "source": [
    "main_features_train.info()"
   ]
  },
  {
   "cell_type": "markdown",
   "id": "5d4dea89",
   "metadata": {},
   "source": [
    "Напишем функцию кросс-валидации оцениваемых моделей, с метрикой sMAPE."
   ]
  },
  {
   "cell_type": "code",
   "execution_count": 32,
   "id": "e14938db",
   "metadata": {},
   "outputs": [],
   "source": [
    "def crosval_research_models(new_model, target):\n",
    "    sample_size = int(len(main_features_train)/5)\n",
    "    scores = []\n",
    "\n",
    "    for i in range(0, len(main_features_train), sample_size):\n",
    "        valid_indexes = main_features_train.index[i:i+sample_size]\n",
    "        train_indexes = pd.Index(set(main_features_train.index)-set(valid_indexes))\n",
    "\n",
    "        features_train = main_features_train.loc[train_indexes]\n",
    "        target_train = target.loc[train_indexes] \n",
    "\n",
    "        features_valid = main_features_train.loc[valid_indexes]\n",
    "        target_valid = target.loc[valid_indexes]\n",
    "\n",
    "        model = new_model\n",
    "        model = model.fit(features_train, target_train)\n",
    "\n",
    "        predictions = model.predict(features_valid)\n",
    "        scores.append(smape(predictions, target_valid))\n",
    "    #scores = [item for item in scores if not(math.isnan(item)) == True] # Удаляем nan значения - последствия деления на ноль\n",
    "    final_score = round(sum(scores)/len(scores), 2)                     # для корректной работы с моделью дерева решений\n",
    "    \n",
    "    print('Среднее по кросс-валидации симметричное среднее абсолютное процентное отклонение:', final_score)"
   ]
  },
  {
   "cell_type": "markdown",
   "id": "731241b1",
   "metadata": {},
   "source": [
    "Оценка предсказания эффективности обогащения чернового концентрата моделью линейной регрессии."
   ]
  },
  {
   "cell_type": "code",
   "execution_count": 33,
   "id": "bb376d35",
   "metadata": {},
   "outputs": [
    {
     "name": "stdout",
     "output_type": "stream",
     "text": [
      "Среднее по кросс-валидации симметричное среднее абсолютное процентное отклонение: 1.46\n"
     ]
    }
   ],
   "source": [
    "crosval_research_models(LinearRegression(), target_rougher)"
   ]
  },
  {
   "cell_type": "markdown",
   "id": "064a3de4",
   "metadata": {},
   "source": [
    "Оценка предсказания эффективности обогащения чернового концентрата моделью дерева решений."
   ]
  },
  {
   "cell_type": "code",
   "execution_count": 34,
   "id": "3bf1d727",
   "metadata": {},
   "outputs": [
    {
     "name": "stdout",
     "output_type": "stream",
     "text": [
      "Среднее по кросс-валидации симметричное среднее абсолютное процентное отклонение: 1.89\n"
     ]
    }
   ],
   "source": [
    "crosval_research_models(DecisionTreeRegressor(random_state=12345), target_rougher)"
   ]
  },
  {
   "cell_type": "markdown",
   "id": "4081bdef",
   "metadata": {},
   "source": [
    "Оценка предсказания эффективности обогащения чернового концентрата моделью случайного леса."
   ]
  },
  {
   "cell_type": "code",
   "execution_count": 35,
   "id": "b7d132c8",
   "metadata": {},
   "outputs": [
    {
     "name": "stdout",
     "output_type": "stream",
     "text": [
      "Среднее по кросс-валидации симметричное среднее абсолютное процентное отклонение: 1.41\n"
     ]
    }
   ],
   "source": [
    "crosval_research_models(RandomForestRegressor(random_state=12345), target_rougher)"
   ]
  },
  {
   "cell_type": "markdown",
   "id": "9ee3aa11",
   "metadata": {},
   "source": [
    "Оценка предсказания эффективности обогащения финального концентрата моделью линейной регрессии."
   ]
  },
  {
   "cell_type": "code",
   "execution_count": 36,
   "id": "63987505",
   "metadata": {},
   "outputs": [
    {
     "name": "stdout",
     "output_type": "stream",
     "text": [
      "Среднее по кросс-валидации симметричное среднее абсолютное процентное отклонение: 2.06\n"
     ]
    }
   ],
   "source": [
    "crosval_research_models(LinearRegression(), target_final)"
   ]
  },
  {
   "cell_type": "markdown",
   "id": "2f2c7b65",
   "metadata": {},
   "source": [
    "Оценка предсказания эффективности обогащения чернового концентрата моделью дерева решений."
   ]
  },
  {
   "cell_type": "code",
   "execution_count": 37,
   "id": "3e58f3b0",
   "metadata": {},
   "outputs": [
    {
     "name": "stdout",
     "output_type": "stream",
     "text": [
      "Среднее по кросс-валидации симметричное среднее абсолютное процентное отклонение: 3.71\n"
     ]
    }
   ],
   "source": [
    "crosval_research_models(DecisionTreeRegressor(random_state=12345), target_final)"
   ]
  },
  {
   "cell_type": "markdown",
   "id": "1364ff29",
   "metadata": {},
   "source": [
    "Оценка предсказания эффективности обогащения чернового концентрата моделью случайного леса."
   ]
  },
  {
   "cell_type": "code",
   "execution_count": 38,
   "id": "a106fe50",
   "metadata": {},
   "outputs": [
    {
     "name": "stdout",
     "output_type": "stream",
     "text": [
      "Среднее по кросс-валидации симметричное среднее абсолютное процентное отклонение: 2.06\n"
     ]
    }
   ],
   "source": [
    "crosval_research_models(RandomForestRegressor(random_state=12345), target_final)"
   ]
  },
  {
   "cell_type": "markdown",
   "id": "4563b30b",
   "metadata": {},
   "source": [
    "По среднему sMAPE кросс-валидации оба целевых признака быстрее и лучше определяет модель линейной регрессии. \n",
    "\n",
    "Проверим ее на тестовой выборке.  "
   ]
  },
  {
   "cell_type": "code",
   "execution_count": 39,
   "id": "0644dd45",
   "metadata": {},
   "outputs": [
    {
     "name": "stdout",
     "output_type": "stream",
     "text": [
      "Лучшая модель:\n",
      " RandomForestRegressor(max_depth=5, n_estimators=424, random_state=12345)\n",
      "Лучшая sMAPE:\n",
      " 1.598\n"
     ]
    }
   ],
   "source": [
    "smape_scorer = make_scorer(smape, greater_is_better=False)\n",
    "model = RandomForestRegressor(random_state=12345)\n",
    "parameters = {'n_estimators' : sp_randInt(100, 500),\n",
    "              'max_depth'    : sp_randInt(3, 6)\n",
    "             }\n",
    "randm_src = RandomizedSearchCV(estimator=model, param_distributions=parameters, n_iter=10, scoring=smape_scorer, n_jobs=-1)\n",
    "randm_src.fit(main_features_train, target_rougher)\n",
    "print(\"Лучшая модель:\\n\", randm_src.best_estimator_)\n",
    "print(\"Лучшая sMAPE:\\n\", abs(randm_src.best_score_))"
   ]
  },
  {
   "cell_type": "code",
   "execution_count": 40,
   "id": "c32e51c7",
   "metadata": {},
   "outputs": [],
   "source": [
    "target_rougher_test = df_test_m['rougher.output.recovery']\n",
    "target_final_test = df_test_m['final.output.recovery']"
   ]
  },
  {
   "cell_type": "markdown",
   "id": "f9cc5e56",
   "metadata": {},
   "source": [
    "Аналогично уберем из тестовой выборки признаки параметров текущих состояний."
   ]
  },
  {
   "cell_type": "code",
   "execution_count": 41,
   "id": "5523f9ee",
   "metadata": {},
   "outputs": [],
   "source": [
    "clear = []\n",
    "for i in df_train:\n",
    "    if 'state' in i:\n",
    "        clear.append(i)"
   ]
  },
  {
   "cell_type": "code",
   "execution_count": 42,
   "id": "078aa088",
   "metadata": {
    "scrolled": true
   },
   "outputs": [
    {
     "name": "stdout",
     "output_type": "stream",
     "text": [
      "<class 'pandas.core.frame.DataFrame'>\n",
      "Int64Index: 5290 entries, 0 to 5289\n",
      "Data columns (total 14 columns):\n",
      " #   Column                              Non-Null Count  Dtype  \n",
      "---  ------                              --------------  -----  \n",
      " 0   primary_cleaner.input.sulfate       5290 non-null   float64\n",
      " 1   primary_cleaner.input.depressant    5290 non-null   float64\n",
      " 2   primary_cleaner.input.feed_size     5290 non-null   float64\n",
      " 3   primary_cleaner.input.xanthate      5290 non-null   float64\n",
      " 4   rougher.input.feed_ag               5290 non-null   float64\n",
      " 5   rougher.input.feed_pb               5290 non-null   float64\n",
      " 6   rougher.input.feed_rate             5290 non-null   float64\n",
      " 7   rougher.input.feed_size             5290 non-null   float64\n",
      " 8   rougher.input.feed_sol              5290 non-null   float64\n",
      " 9   rougher.input.feed_au               5290 non-null   float64\n",
      " 10  rougher.input.floatbank10_sulfate   5290 non-null   float64\n",
      " 11  rougher.input.floatbank10_xanthate  5290 non-null   float64\n",
      " 12  rougher.input.floatbank11_sulfate   5290 non-null   float64\n",
      " 13  rougher.input.floatbank11_xanthate  5290 non-null   float64\n",
      "dtypes: float64(14)\n",
      "memory usage: 619.9 KB\n"
     ]
    }
   ],
   "source": [
    "features_test = df_test_m.drop(clear, axis=1)\n",
    "features_test = features_test.drop(['date', 'rougher.output.recovery', 'final.output.recovery'], axis=1)\n",
    "features_test.info()"
   ]
  },
  {
   "cell_type": "code",
   "execution_count": 43,
   "id": "7aefd913",
   "metadata": {},
   "outputs": [
    {
     "name": "stdout",
     "output_type": "stream",
     "text": [
      "sMAPE по черновому концентрату: 5.58\n",
      "sMAPE по финальному концентрату: 2.53\n",
      "Итоговое sMAPE по тестовой выборке: 3.2925\n"
     ]
    }
   ],
   "source": [
    "model = LinearRegression()\n",
    "model_rougher = model.fit(main_features_train, target_rougher)\n",
    "model_final = model.fit(main_features_train, target_final)\n",
    "\n",
    "predictions_rougher = model_rougher.predict(features_test)\n",
    "predictions_final = model_final.predict(features_test)\n",
    "\n",
    "print('sMAPE по черновому концентрату:', smape(predictions_rougher, target_rougher_test))\n",
    "print('sMAPE по финальному концентрату:', smape(predictions_final, target_final_test))\n",
    "\n",
    "final_smape = 0.25 * smape(predictions_rougher, target_rougher_test) + \\\n",
    "                0.75 * smape(predictions_final, target_final_test)\n",
    "print('Итоговое sMAPE по тестовой выборке:', final_smape)"
   ]
  },
  {
   "cell_type": "code",
   "execution_count": 44,
   "id": "47922405",
   "metadata": {},
   "outputs": [
    {
     "name": "stdout",
     "output_type": "stream",
     "text": [
      "sMAPE по черновому концентрату: 7.39\n",
      "sMAPE по финальному концентрату: 2.55\n",
      "Итоговое sMAPE по тестовой выборке: 3.76\n"
     ]
    }
   ],
   "source": [
    "dummy_regr = DummyRegressor(strategy=\"mean\")\n",
    "d_r = dummy_regr.fit(main_features_train, target_rougher)\n",
    "d_f = dummy_regr.fit(main_features_train, target_final)\n",
    "\n",
    "predictions_d_r = d_r.predict(features_test)\n",
    "predictions_d_f = d_f.predict(features_test)\n",
    "\n",
    "print('sMAPE по черновому концентрату:', smape(predictions_d_r, target_rougher_test))\n",
    "print('sMAPE по финальному концентрату:', smape(predictions_d_f, target_final_test))\n",
    "\n",
    "final_smape = 0.25 * smape(predictions_d_r, target_rougher_test) + \\\n",
    "                0.75 * smape(predictions_d_f, target_final_test)\n",
    "print('Итоговое sMAPE по тестовой выборке:', final_smape)"
   ]
  },
  {
   "cell_type": "markdown",
   "id": "135e4d0c",
   "metadata": {},
   "source": [
    "## Вывод\n",
    "\n",
    "В работе были выполнены следующие этапы:\n",
    "\n",
    "1. Подготовка данных;\n",
    "    - Загружены и оценены выборки,\n",
    "    - Проверена правильность расчета эффективности обогощения,\n",
    "    - Определены и заполнены пропуски,\n",
    "    - Изменен тип даты.\n",
    "2. Исследовательский анализ данных;\n",
    "    - Оценен характе изменения концентрации металлов на различных этапах очистки по отдельности и в совокупности,\n",
    "    - Было произведено сравнение распределений гранул сырья на обучающей и тестовой выборках.\n",
    "3. Обучение модели.\n",
    "    - Были обучены модели линейной регрессии, дерева решений и случайного леса на обучающей выборке и оценены их качества кросс-валидацие по sMAPE метрике. \n",
    "    - Была выбрана лучшая модель и проверена на тестовой выборке. sMAPE по финальному получилась чуть больше чем на кросс-валидации, а по черновому концентрату - в два раза. Тем не менее итоговое sMAPE по тестовой выборке: 3.29.\n"
   ]
  }
 ],
 "metadata": {
  "ExecuteTimeLog": [
   {
    "duration": 1803,
    "start_time": "2023-04-05T13:03:02.952Z"
   },
   {
    "duration": 3222,
    "start_time": "2023-04-05T13:03:04.757Z"
   },
   {
    "duration": 73,
    "start_time": "2023-04-05T13:03:07.981Z"
   },
   {
    "duration": 56,
    "start_time": "2023-04-05T13:03:08.056Z"
   },
   {
    "duration": 18,
    "start_time": "2023-04-05T13:03:08.115Z"
   },
   {
    "duration": 6,
    "start_time": "2023-04-05T13:03:08.135Z"
   },
   {
    "duration": 10,
    "start_time": "2023-04-05T13:03:08.143Z"
   },
   {
    "duration": 5,
    "start_time": "2023-04-05T13:03:08.155Z"
   },
   {
    "duration": 19,
    "start_time": "2023-04-05T13:03:08.162Z"
   },
   {
    "duration": 5,
    "start_time": "2023-04-05T13:03:08.183Z"
   },
   {
    "duration": 51,
    "start_time": "2023-04-05T13:03:08.190Z"
   },
   {
    "duration": 4,
    "start_time": "2023-04-05T13:03:08.243Z"
   },
   {
    "duration": 9088,
    "start_time": "2023-04-05T13:03:08.248Z"
   },
   {
    "duration": 96,
    "start_time": "2023-04-05T13:03:17.339Z"
   },
   {
    "duration": 16,
    "start_time": "2023-04-05T13:03:17.437Z"
   },
   {
    "duration": 60,
    "start_time": "2023-04-05T13:03:17.454Z"
   },
   {
    "duration": 27,
    "start_time": "2023-04-05T13:03:17.516Z"
   },
   {
    "duration": 13,
    "start_time": "2023-04-05T13:03:17.545Z"
   },
   {
    "duration": 41,
    "start_time": "2023-04-05T13:03:17.560Z"
   },
   {
    "duration": 17,
    "start_time": "2023-04-05T13:03:17.603Z"
   },
   {
    "duration": 1135,
    "start_time": "2023-04-05T13:03:17.623Z"
   },
   {
    "duration": 538,
    "start_time": "2023-04-05T13:03:18.760Z"
   },
   {
    "duration": 6,
    "start_time": "2023-04-05T13:03:19.300Z"
   },
   {
    "duration": 32,
    "start_time": "2023-04-05T13:03:19.308Z"
   },
   {
    "duration": 517,
    "start_time": "2023-04-05T13:03:19.342Z"
   },
   {
    "duration": 1316,
    "start_time": "2023-04-05T13:03:22.902Z"
   },
   {
    "duration": 134,
    "start_time": "2023-04-05T13:07:32.057Z"
   },
   {
    "duration": 15,
    "start_time": "2023-04-05T13:07:35.878Z"
   },
   {
    "duration": 12,
    "start_time": "2023-04-05T13:07:42.205Z"
   },
   {
    "duration": 14,
    "start_time": "2023-04-05T13:07:45.585Z"
   },
   {
    "duration": 12,
    "start_time": "2023-04-05T13:07:50.059Z"
   },
   {
    "duration": 51,
    "start_time": "2023-04-05T13:08:39.819Z"
   },
   {
    "duration": 157,
    "start_time": "2023-04-05T13:08:52.734Z"
   },
   {
    "duration": 253,
    "start_time": "2023-04-05T13:08:58.330Z"
   },
   {
    "duration": 153,
    "start_time": "2023-04-05T13:09:11.011Z"
   },
   {
    "duration": 574,
    "start_time": "2023-04-05T13:09:23.416Z"
   },
   {
    "duration": 1702,
    "start_time": "2023-04-05T13:10:03.451Z"
   },
   {
    "duration": 1749,
    "start_time": "2023-04-05T13:10:34.492Z"
   },
   {
    "duration": 107,
    "start_time": "2023-04-05T13:11:28.414Z"
   },
   {
    "duration": 46,
    "start_time": "2023-04-05T13:12:02.227Z"
   },
   {
    "duration": 1747,
    "start_time": "2023-04-05T13:12:09.453Z"
   },
   {
    "duration": 269,
    "start_time": "2023-04-05T13:13:53.274Z"
   },
   {
    "duration": 11,
    "start_time": "2023-04-05T13:15:38.679Z"
   },
   {
    "duration": 17,
    "start_time": "2023-04-05T13:15:42.031Z"
   },
   {
    "duration": 16,
    "start_time": "2023-04-05T13:16:02.043Z"
   },
   {
    "duration": 76,
    "start_time": "2023-04-05T13:16:09.260Z"
   },
   {
    "duration": 72,
    "start_time": "2023-04-05T13:17:04.739Z"
   },
   {
    "duration": 125,
    "start_time": "2023-04-05T13:17:11.733Z"
   },
   {
    "duration": 135,
    "start_time": "2023-04-05T13:17:22.114Z"
   },
   {
    "duration": 4,
    "start_time": "2023-04-05T13:19:23.694Z"
   },
   {
    "duration": 95,
    "start_time": "2023-04-05T13:19:41.829Z"
   },
   {
    "duration": 3,
    "start_time": "2023-04-05T13:19:54.238Z"
   },
   {
    "duration": 141,
    "start_time": "2023-04-05T13:19:56.075Z"
   },
   {
    "duration": 264,
    "start_time": "2023-04-05T13:20:12.444Z"
   },
   {
    "duration": 5,
    "start_time": "2023-04-05T13:20:22.778Z"
   },
   {
    "duration": 768,
    "start_time": "2023-04-05T13:20:22.787Z"
   },
   {
    "duration": 61,
    "start_time": "2023-04-05T13:20:23.557Z"
   },
   {
    "duration": 58,
    "start_time": "2023-04-05T13:20:23.620Z"
   },
   {
    "duration": 6,
    "start_time": "2023-04-05T13:20:23.679Z"
   },
   {
    "duration": 6,
    "start_time": "2023-04-05T13:20:23.687Z"
   },
   {
    "duration": 7,
    "start_time": "2023-04-05T13:20:23.695Z"
   },
   {
    "duration": 32,
    "start_time": "2023-04-05T13:20:23.703Z"
   },
   {
    "duration": 22,
    "start_time": "2023-04-05T13:20:23.737Z"
   },
   {
    "duration": 6,
    "start_time": "2023-04-05T13:20:23.761Z"
   },
   {
    "duration": 19,
    "start_time": "2023-04-05T13:20:23.771Z"
   },
   {
    "duration": 4,
    "start_time": "2023-04-05T13:20:23.792Z"
   },
   {
    "duration": 9333,
    "start_time": "2023-04-05T13:20:23.797Z"
   },
   {
    "duration": 99,
    "start_time": "2023-04-05T13:20:33.134Z"
   },
   {
    "duration": 14,
    "start_time": "2023-04-05T13:20:33.236Z"
   },
   {
    "duration": 4,
    "start_time": "2023-04-05T13:20:33.252Z"
   },
   {
    "duration": 343,
    "start_time": "2023-04-05T13:20:33.259Z"
   },
   {
    "duration": 4,
    "start_time": "2023-04-05T13:20:33.604Z"
   },
   {
    "duration": 25,
    "start_time": "2023-04-05T13:20:33.610Z"
   },
   {
    "duration": 13,
    "start_time": "2023-04-05T13:20:33.638Z"
   },
   {
    "duration": 1025,
    "start_time": "2023-04-05T13:20:33.653Z"
   },
   {
    "duration": 519,
    "start_time": "2023-04-05T13:20:34.680Z"
   },
   {
    "duration": 7,
    "start_time": "2023-04-05T13:20:35.201Z"
   },
   {
    "duration": 25,
    "start_time": "2023-04-05T13:20:35.210Z"
   },
   {
    "duration": 502,
    "start_time": "2023-04-05T13:20:35.238Z"
   },
   {
    "duration": 1337,
    "start_time": "2023-04-05T13:25:50.153Z"
   },
   {
    "duration": 281,
    "start_time": "2023-04-05T13:26:23.866Z"
   },
   {
    "duration": 6,
    "start_time": "2023-04-05T13:26:33.696Z"
   },
   {
    "duration": 857,
    "start_time": "2023-04-05T13:26:33.704Z"
   },
   {
    "duration": 81,
    "start_time": "2023-04-05T13:26:34.563Z"
   },
   {
    "duration": 44,
    "start_time": "2023-04-05T13:26:34.648Z"
   },
   {
    "duration": 5,
    "start_time": "2023-04-05T13:26:34.694Z"
   },
   {
    "duration": 19,
    "start_time": "2023-04-05T13:26:34.701Z"
   },
   {
    "duration": 17,
    "start_time": "2023-04-05T13:26:34.721Z"
   },
   {
    "duration": 29,
    "start_time": "2023-04-05T13:26:34.741Z"
   },
   {
    "duration": 33,
    "start_time": "2023-04-05T13:26:34.772Z"
   },
   {
    "duration": 47,
    "start_time": "2023-04-05T13:26:34.808Z"
   },
   {
    "duration": 44,
    "start_time": "2023-04-05T13:26:34.857Z"
   },
   {
    "duration": 22,
    "start_time": "2023-04-05T13:26:34.903Z"
   },
   {
    "duration": 9538,
    "start_time": "2023-04-05T13:26:34.927Z"
   },
   {
    "duration": 85,
    "start_time": "2023-04-05T13:26:44.469Z"
   },
   {
    "duration": 15,
    "start_time": "2023-04-05T13:26:44.555Z"
   },
   {
    "duration": 4,
    "start_time": "2023-04-05T13:26:44.573Z"
   },
   {
    "duration": 280,
    "start_time": "2023-04-05T13:26:44.579Z"
   },
   {
    "duration": 4,
    "start_time": "2023-04-05T13:26:44.861Z"
   },
   {
    "duration": 13,
    "start_time": "2023-04-05T13:26:44.866Z"
   },
   {
    "duration": 10,
    "start_time": "2023-04-05T13:26:44.881Z"
   },
   {
    "duration": 920,
    "start_time": "2023-04-05T13:26:44.893Z"
   },
   {
    "duration": 586,
    "start_time": "2023-04-05T13:26:45.815Z"
   },
   {
    "duration": 6,
    "start_time": "2023-04-05T13:26:46.403Z"
   },
   {
    "duration": 13,
    "start_time": "2023-04-05T13:26:46.411Z"
   },
   {
    "duration": 485,
    "start_time": "2023-04-05T13:26:46.434Z"
   },
   {
    "duration": 1443,
    "start_time": "2023-04-05T13:26:46.920Z"
   },
   {
    "duration": 1607,
    "start_time": "2023-04-05T13:27:14.017Z"
   },
   {
    "duration": 845,
    "start_time": "2023-04-05T13:27:15.626Z"
   },
   {
    "duration": 81,
    "start_time": "2023-04-05T13:27:16.473Z"
   },
   {
    "duration": 47,
    "start_time": "2023-04-05T13:27:16.557Z"
   },
   {
    "duration": 6,
    "start_time": "2023-04-05T13:27:16.606Z"
   },
   {
    "duration": 22,
    "start_time": "2023-04-05T13:27:16.634Z"
   },
   {
    "duration": 12,
    "start_time": "2023-04-05T13:27:16.658Z"
   },
   {
    "duration": 10,
    "start_time": "2023-04-05T13:27:16.672Z"
   },
   {
    "duration": 39,
    "start_time": "2023-04-05T13:27:16.684Z"
   },
   {
    "duration": 11,
    "start_time": "2023-04-05T13:27:16.725Z"
   },
   {
    "duration": 31,
    "start_time": "2023-04-05T13:27:16.744Z"
   },
   {
    "duration": 19,
    "start_time": "2023-04-05T13:27:16.777Z"
   },
   {
    "duration": 9504,
    "start_time": "2023-04-05T13:27:16.798Z"
   },
   {
    "duration": 97,
    "start_time": "2023-04-05T13:27:26.304Z"
   },
   {
    "duration": 15,
    "start_time": "2023-04-05T13:27:26.403Z"
   },
   {
    "duration": 15,
    "start_time": "2023-04-05T13:27:26.419Z"
   },
   {
    "duration": 267,
    "start_time": "2023-04-05T13:27:26.441Z"
   },
   {
    "duration": 4,
    "start_time": "2023-04-05T13:27:26.710Z"
   },
   {
    "duration": 48,
    "start_time": "2023-04-05T13:27:26.715Z"
   },
   {
    "duration": 7,
    "start_time": "2023-04-05T13:27:26.766Z"
   },
   {
    "duration": 1093,
    "start_time": "2023-04-05T13:27:26.775Z"
   },
   {
    "duration": 428,
    "start_time": "2023-04-05T13:27:27.870Z"
   },
   {
    "duration": 4,
    "start_time": "2023-04-05T13:27:28.301Z"
   },
   {
    "duration": 10,
    "start_time": "2023-04-05T13:27:28.307Z"
   },
   {
    "duration": 512,
    "start_time": "2023-04-05T13:27:28.336Z"
   },
   {
    "duration": 1504,
    "start_time": "2023-04-05T13:27:28.849Z"
   },
   {
    "duration": 140,
    "start_time": "2023-04-05T13:27:30.354Z"
   },
   {
    "duration": 0,
    "start_time": "2023-04-05T13:27:30.496Z"
   },
   {
    "duration": 0,
    "start_time": "2023-04-05T13:27:30.498Z"
   },
   {
    "duration": 0,
    "start_time": "2023-04-05T13:27:30.499Z"
   },
   {
    "duration": 0,
    "start_time": "2023-04-05T13:27:30.500Z"
   },
   {
    "duration": 0,
    "start_time": "2023-04-05T13:27:30.501Z"
   },
   {
    "duration": 0,
    "start_time": "2023-04-05T13:27:30.502Z"
   },
   {
    "duration": 0,
    "start_time": "2023-04-05T13:27:30.504Z"
   },
   {
    "duration": 0,
    "start_time": "2023-04-05T13:27:30.506Z"
   },
   {
    "duration": 0,
    "start_time": "2023-04-05T13:27:30.509Z"
   },
   {
    "duration": 0,
    "start_time": "2023-04-05T13:27:30.512Z"
   },
   {
    "duration": 0,
    "start_time": "2023-04-05T13:27:30.513Z"
   },
   {
    "duration": 0,
    "start_time": "2023-04-05T13:27:30.515Z"
   },
   {
    "duration": 0,
    "start_time": "2023-04-05T13:27:30.517Z"
   },
   {
    "duration": 0,
    "start_time": "2023-04-05T13:27:30.519Z"
   },
   {
    "duration": 0,
    "start_time": "2023-04-05T13:27:30.521Z"
   },
   {
    "duration": 0,
    "start_time": "2023-04-05T13:27:30.522Z"
   },
   {
    "duration": 0,
    "start_time": "2023-04-05T13:27:30.524Z"
   },
   {
    "duration": 0,
    "start_time": "2023-04-05T13:27:30.526Z"
   },
   {
    "duration": 7,
    "start_time": "2023-04-05T13:29:17.899Z"
   },
   {
    "duration": 1057,
    "start_time": "2023-04-05T13:29:17.908Z"
   },
   {
    "duration": 77,
    "start_time": "2023-04-05T13:29:18.970Z"
   },
   {
    "duration": 52,
    "start_time": "2023-04-05T13:29:19.050Z"
   },
   {
    "duration": 6,
    "start_time": "2023-04-05T13:29:19.105Z"
   },
   {
    "duration": 37,
    "start_time": "2023-04-05T13:29:19.136Z"
   },
   {
    "duration": 6,
    "start_time": "2023-04-05T13:29:19.176Z"
   },
   {
    "duration": 15,
    "start_time": "2023-04-05T13:29:19.184Z"
   },
   {
    "duration": 19,
    "start_time": "2023-04-05T13:29:19.201Z"
   },
   {
    "duration": 7,
    "start_time": "2023-04-05T13:29:19.223Z"
   },
   {
    "duration": 66,
    "start_time": "2023-04-05T13:29:19.232Z"
   },
   {
    "duration": 5,
    "start_time": "2023-04-05T13:29:19.300Z"
   },
   {
    "duration": 10610,
    "start_time": "2023-04-05T13:29:19.307Z"
   },
   {
    "duration": 96,
    "start_time": "2023-04-05T13:29:29.920Z"
   },
   {
    "duration": 27,
    "start_time": "2023-04-05T13:29:30.019Z"
   },
   {
    "duration": 19,
    "start_time": "2023-04-05T13:29:30.051Z"
   },
   {
    "duration": 310,
    "start_time": "2023-04-05T13:29:30.073Z"
   },
   {
    "duration": 6,
    "start_time": "2023-04-05T13:29:30.385Z"
   },
   {
    "duration": 83,
    "start_time": "2023-04-05T13:29:30.393Z"
   },
   {
    "duration": 81,
    "start_time": "2023-04-05T13:29:30.478Z"
   },
   {
    "duration": 1011,
    "start_time": "2023-04-05T13:29:30.561Z"
   },
   {
    "duration": 553,
    "start_time": "2023-04-05T13:29:31.575Z"
   },
   {
    "duration": 16,
    "start_time": "2023-04-05T13:29:32.130Z"
   },
   {
    "duration": 34,
    "start_time": "2023-04-05T13:29:32.148Z"
   },
   {
    "duration": 586,
    "start_time": "2023-04-05T13:29:32.184Z"
   },
   {
    "duration": 1632,
    "start_time": "2023-04-05T13:29:32.772Z"
   },
   {
    "duration": 62,
    "start_time": "2023-04-05T13:29:34.406Z"
   },
   {
    "duration": 0,
    "start_time": "2023-04-05T13:29:34.470Z"
   },
   {
    "duration": 0,
    "start_time": "2023-04-05T13:29:34.472Z"
   },
   {
    "duration": 0,
    "start_time": "2023-04-05T13:29:34.473Z"
   },
   {
    "duration": 0,
    "start_time": "2023-04-05T13:29:34.474Z"
   },
   {
    "duration": 0,
    "start_time": "2023-04-05T13:29:34.475Z"
   },
   {
    "duration": 0,
    "start_time": "2023-04-05T13:29:34.476Z"
   },
   {
    "duration": 0,
    "start_time": "2023-04-05T13:29:34.479Z"
   },
   {
    "duration": 0,
    "start_time": "2023-04-05T13:29:34.480Z"
   },
   {
    "duration": 0,
    "start_time": "2023-04-05T13:29:34.482Z"
   },
   {
    "duration": 0,
    "start_time": "2023-04-05T13:29:34.483Z"
   },
   {
    "duration": 0,
    "start_time": "2023-04-05T13:29:34.484Z"
   },
   {
    "duration": 0,
    "start_time": "2023-04-05T13:29:34.485Z"
   },
   {
    "duration": 0,
    "start_time": "2023-04-05T13:29:34.486Z"
   },
   {
    "duration": 0,
    "start_time": "2023-04-05T13:29:34.488Z"
   },
   {
    "duration": 0,
    "start_time": "2023-04-05T13:29:34.493Z"
   },
   {
    "duration": 0,
    "start_time": "2023-04-05T13:29:34.494Z"
   },
   {
    "duration": 0,
    "start_time": "2023-04-05T13:29:34.496Z"
   },
   {
    "duration": 0,
    "start_time": "2023-04-05T13:29:34.497Z"
   },
   {
    "duration": 4,
    "start_time": "2023-04-05T13:30:15.502Z"
   },
   {
    "duration": 21,
    "start_time": "2023-04-05T13:30:15.508Z"
   },
   {
    "duration": 39,
    "start_time": "2023-04-05T13:30:15.531Z"
   },
   {
    "duration": 22,
    "start_time": "2023-04-05T13:30:15.573Z"
   },
   {
    "duration": 13,
    "start_time": "2023-04-05T13:30:15.599Z"
   },
   {
    "duration": 851,
    "start_time": "2023-04-05T13:30:15.615Z"
   },
   {
    "duration": 1626,
    "start_time": "2023-04-05T13:30:16.542Z"
   },
   {
    "duration": 88010,
    "start_time": "2023-04-05T13:30:18.170Z"
   },
   {
    "duration": 975,
    "start_time": "2023-04-05T13:31:46.182Z"
   },
   {
    "duration": 1905,
    "start_time": "2023-04-05T13:31:47.167Z"
   },
   {
    "duration": 93025,
    "start_time": "2023-04-05T13:31:49.074Z"
   },
   {
    "duration": 580644,
    "start_time": "2023-04-05T13:33:22.101Z"
   },
   {
    "duration": 27,
    "start_time": "2023-04-05T13:43:02.748Z"
   },
   {
    "duration": 43,
    "start_time": "2023-04-05T13:43:02.778Z"
   },
   {
    "duration": 34,
    "start_time": "2023-04-05T13:43:02.824Z"
   },
   {
    "duration": 58,
    "start_time": "2023-04-05T13:43:02.860Z"
   },
   {
    "duration": 122,
    "start_time": "2023-04-05T13:43:02.920Z"
   },
   {
    "duration": 128,
    "start_time": "2023-04-05T13:43:03.045Z"
   },
   {
    "duration": 189,
    "start_time": "2023-04-05T13:49:03.271Z"
   },
   {
    "duration": 1753,
    "start_time": "2023-04-05T13:49:22.863Z"
   },
   {
    "duration": 1217,
    "start_time": "2023-04-05T13:49:24.618Z"
   },
   {
    "duration": 122,
    "start_time": "2023-04-05T13:49:25.844Z"
   },
   {
    "duration": 113,
    "start_time": "2023-04-05T13:49:25.968Z"
   },
   {
    "duration": 15,
    "start_time": "2023-04-05T13:49:26.134Z"
   },
   {
    "duration": 11,
    "start_time": "2023-04-05T13:49:26.151Z"
   },
   {
    "duration": 15,
    "start_time": "2023-04-05T13:49:26.164Z"
   },
   {
    "duration": 58,
    "start_time": "2023-04-05T13:49:26.181Z"
   },
   {
    "duration": 42,
    "start_time": "2023-04-05T13:49:26.241Z"
   },
   {
    "duration": 57,
    "start_time": "2023-04-05T13:49:26.285Z"
   },
   {
    "duration": 31,
    "start_time": "2023-04-05T13:49:26.352Z"
   },
   {
    "duration": 55,
    "start_time": "2023-04-05T13:49:26.385Z"
   },
   {
    "duration": 10764,
    "start_time": "2023-04-05T13:49:26.444Z"
   },
   {
    "duration": 94,
    "start_time": "2023-04-05T13:49:37.211Z"
   },
   {
    "duration": 31,
    "start_time": "2023-04-05T13:49:37.307Z"
   },
   {
    "duration": 5,
    "start_time": "2023-04-05T13:49:37.342Z"
   },
   {
    "duration": 245,
    "start_time": "2023-04-05T13:49:37.349Z"
   },
   {
    "duration": 0,
    "start_time": "2023-04-05T13:49:37.596Z"
   },
   {
    "duration": 0,
    "start_time": "2023-04-05T13:49:37.598Z"
   },
   {
    "duration": 0,
    "start_time": "2023-04-05T13:49:37.599Z"
   },
   {
    "duration": 0,
    "start_time": "2023-04-05T13:49:37.601Z"
   },
   {
    "duration": 0,
    "start_time": "2023-04-05T13:49:37.602Z"
   },
   {
    "duration": 0,
    "start_time": "2023-04-05T13:49:37.604Z"
   },
   {
    "duration": 0,
    "start_time": "2023-04-05T13:49:37.605Z"
   },
   {
    "duration": 0,
    "start_time": "2023-04-05T13:49:37.607Z"
   },
   {
    "duration": 0,
    "start_time": "2023-04-05T13:49:37.608Z"
   },
   {
    "duration": 0,
    "start_time": "2023-04-05T13:49:37.641Z"
   },
   {
    "duration": 0,
    "start_time": "2023-04-05T13:49:37.643Z"
   },
   {
    "duration": 0,
    "start_time": "2023-04-05T13:49:37.644Z"
   },
   {
    "duration": 0,
    "start_time": "2023-04-05T13:49:37.644Z"
   },
   {
    "duration": 0,
    "start_time": "2023-04-05T13:49:37.645Z"
   },
   {
    "duration": 0,
    "start_time": "2023-04-05T13:49:37.646Z"
   },
   {
    "duration": 0,
    "start_time": "2023-04-05T13:49:37.647Z"
   },
   {
    "duration": 0,
    "start_time": "2023-04-05T13:49:37.647Z"
   },
   {
    "duration": 0,
    "start_time": "2023-04-05T13:49:37.650Z"
   },
   {
    "duration": 0,
    "start_time": "2023-04-05T13:49:37.651Z"
   },
   {
    "duration": 0,
    "start_time": "2023-04-05T13:49:37.653Z"
   },
   {
    "duration": 0,
    "start_time": "2023-04-05T13:49:37.655Z"
   },
   {
    "duration": 0,
    "start_time": "2023-04-05T13:49:37.657Z"
   },
   {
    "duration": 0,
    "start_time": "2023-04-05T13:49:37.658Z"
   },
   {
    "duration": 0,
    "start_time": "2023-04-05T13:49:37.660Z"
   },
   {
    "duration": 0,
    "start_time": "2023-04-05T13:49:37.662Z"
   },
   {
    "duration": 0,
    "start_time": "2023-04-05T13:49:37.664Z"
   },
   {
    "duration": 0,
    "start_time": "2023-04-05T13:49:37.665Z"
   },
   {
    "duration": 408,
    "start_time": "2023-04-05T13:50:20.116Z"
   },
   {
    "duration": 224,
    "start_time": "2023-04-05T13:50:41.449Z"
   },
   {
    "duration": 4,
    "start_time": "2023-04-05T13:50:41.676Z"
   },
   {
    "duration": 13,
    "start_time": "2023-04-05T13:50:41.682Z"
   },
   {
    "duration": 6,
    "start_time": "2023-04-05T13:50:41.696Z"
   },
   {
    "duration": 1126,
    "start_time": "2023-04-05T13:50:41.705Z"
   },
   {
    "duration": 1017,
    "start_time": "2023-04-05T13:50:42.839Z"
   },
   {
    "duration": 6,
    "start_time": "2023-04-05T13:50:43.860Z"
   },
   {
    "duration": 15,
    "start_time": "2023-04-05T13:50:43.868Z"
   },
   {
    "duration": 1006,
    "start_time": "2023-04-05T13:50:43.934Z"
   },
   {
    "duration": 1667,
    "start_time": "2023-04-05T13:50:44.942Z"
   },
   {
    "duration": 4,
    "start_time": "2023-04-05T13:50:46.612Z"
   },
   {
    "duration": 39,
    "start_time": "2023-04-05T13:50:46.618Z"
   },
   {
    "duration": 33,
    "start_time": "2023-04-05T13:50:46.659Z"
   },
   {
    "duration": 48,
    "start_time": "2023-04-05T13:50:46.696Z"
   },
   {
    "duration": 19,
    "start_time": "2023-04-05T13:50:46.747Z"
   },
   {
    "duration": 71,
    "start_time": "2023-04-05T13:50:46.768Z"
   },
   {
    "duration": 0,
    "start_time": "2023-04-05T13:50:46.843Z"
   },
   {
    "duration": 0,
    "start_time": "2023-04-05T13:50:46.844Z"
   },
   {
    "duration": 0,
    "start_time": "2023-04-05T13:50:46.845Z"
   },
   {
    "duration": 0,
    "start_time": "2023-04-05T13:50:46.849Z"
   },
   {
    "duration": 0,
    "start_time": "2023-04-05T13:50:46.852Z"
   },
   {
    "duration": 0,
    "start_time": "2023-04-05T13:50:46.853Z"
   },
   {
    "duration": 0,
    "start_time": "2023-04-05T13:50:46.853Z"
   },
   {
    "duration": 0,
    "start_time": "2023-04-05T13:50:46.854Z"
   },
   {
    "duration": 0,
    "start_time": "2023-04-05T13:50:46.855Z"
   },
   {
    "duration": 0,
    "start_time": "2023-04-05T13:50:46.856Z"
   },
   {
    "duration": 0,
    "start_time": "2023-04-05T13:50:46.857Z"
   },
   {
    "duration": 1,
    "start_time": "2023-04-05T13:50:46.858Z"
   },
   {
    "duration": 7,
    "start_time": "2023-04-05T13:51:07.279Z"
   },
   {
    "duration": 1010,
    "start_time": "2023-04-05T13:51:07.289Z"
   },
   {
    "duration": 103,
    "start_time": "2023-04-05T13:51:08.302Z"
   },
   {
    "duration": 79,
    "start_time": "2023-04-05T13:51:08.407Z"
   },
   {
    "duration": 7,
    "start_time": "2023-04-05T13:51:08.490Z"
   },
   {
    "duration": 23,
    "start_time": "2023-04-05T13:51:08.499Z"
   },
   {
    "duration": 34,
    "start_time": "2023-04-05T13:51:08.524Z"
   },
   {
    "duration": 25,
    "start_time": "2023-04-05T13:51:08.560Z"
   },
   {
    "duration": 34,
    "start_time": "2023-04-05T13:51:08.588Z"
   },
   {
    "duration": 8,
    "start_time": "2023-04-05T13:51:08.624Z"
   },
   {
    "duration": 51,
    "start_time": "2023-04-05T13:51:08.637Z"
   },
   {
    "duration": 5,
    "start_time": "2023-04-05T13:51:08.690Z"
   },
   {
    "duration": 12307,
    "start_time": "2023-04-05T13:51:08.697Z"
   },
   {
    "duration": 92,
    "start_time": "2023-04-05T13:51:21.008Z"
   },
   {
    "duration": 18,
    "start_time": "2023-04-05T13:51:21.103Z"
   },
   {
    "duration": 13,
    "start_time": "2023-04-05T13:51:21.134Z"
   },
   {
    "duration": 439,
    "start_time": "2023-04-05T13:51:21.149Z"
   },
   {
    "duration": 4,
    "start_time": "2023-04-05T13:51:21.591Z"
   },
   {
    "duration": 20,
    "start_time": "2023-04-05T13:51:21.598Z"
   },
   {
    "duration": 43,
    "start_time": "2023-04-05T13:51:21.620Z"
   },
   {
    "duration": 1124,
    "start_time": "2023-04-05T13:51:21.665Z"
   },
   {
    "duration": 608,
    "start_time": "2023-04-05T13:51:22.793Z"
   },
   {
    "duration": 8,
    "start_time": "2023-04-05T13:51:23.404Z"
   },
   {
    "duration": 24,
    "start_time": "2023-04-05T13:51:23.414Z"
   },
   {
    "duration": 543,
    "start_time": "2023-04-05T13:51:23.442Z"
   },
   {
    "duration": 1620,
    "start_time": "2023-04-05T13:51:23.987Z"
   },
   {
    "duration": 4,
    "start_time": "2023-04-05T13:51:25.609Z"
   },
   {
    "duration": 19,
    "start_time": "2023-04-05T13:51:25.616Z"
   },
   {
    "duration": 51,
    "start_time": "2023-04-05T13:51:25.638Z"
   },
   {
    "duration": 24,
    "start_time": "2023-04-05T13:51:25.692Z"
   },
   {
    "duration": 7,
    "start_time": "2023-04-05T13:51:25.719Z"
   },
   {
    "duration": 75,
    "start_time": "2023-04-05T13:51:25.728Z"
   },
   {
    "duration": 0,
    "start_time": "2023-04-05T13:51:25.805Z"
   },
   {
    "duration": 0,
    "start_time": "2023-04-05T13:51:25.806Z"
   },
   {
    "duration": 0,
    "start_time": "2023-04-05T13:51:25.807Z"
   },
   {
    "duration": 0,
    "start_time": "2023-04-05T13:51:25.808Z"
   },
   {
    "duration": 0,
    "start_time": "2023-04-05T13:51:25.810Z"
   },
   {
    "duration": 0,
    "start_time": "2023-04-05T13:51:25.811Z"
   },
   {
    "duration": 0,
    "start_time": "2023-04-05T13:51:25.812Z"
   },
   {
    "duration": 0,
    "start_time": "2023-04-05T13:51:25.814Z"
   },
   {
    "duration": 0,
    "start_time": "2023-04-05T13:51:25.815Z"
   },
   {
    "duration": 0,
    "start_time": "2023-04-05T13:51:25.817Z"
   },
   {
    "duration": 0,
    "start_time": "2023-04-05T13:51:25.818Z"
   },
   {
    "duration": 0,
    "start_time": "2023-04-05T13:51:25.819Z"
   },
   {
    "duration": 40,
    "start_time": "2023-04-05T13:51:58.665Z"
   },
   {
    "duration": 4,
    "start_time": "2023-04-05T13:52:02.819Z"
   },
   {
    "duration": 856,
    "start_time": "2023-04-05T13:52:02.826Z"
   },
   {
    "duration": 85,
    "start_time": "2023-04-05T13:52:03.684Z"
   },
   {
    "duration": 45,
    "start_time": "2023-04-05T13:52:03.771Z"
   },
   {
    "duration": 21,
    "start_time": "2023-04-05T13:52:03.818Z"
   },
   {
    "duration": 20,
    "start_time": "2023-04-05T13:52:03.841Z"
   },
   {
    "duration": 7,
    "start_time": "2023-04-05T13:52:03.862Z"
   },
   {
    "duration": 6,
    "start_time": "2023-04-05T13:52:03.872Z"
   },
   {
    "duration": 28,
    "start_time": "2023-04-05T13:52:03.882Z"
   },
   {
    "duration": 18,
    "start_time": "2023-04-05T13:52:03.933Z"
   },
   {
    "duration": 29,
    "start_time": "2023-04-05T13:52:03.952Z"
   },
   {
    "duration": 5,
    "start_time": "2023-04-05T13:52:03.983Z"
   },
   {
    "duration": 11141,
    "start_time": "2023-04-05T13:52:03.990Z"
   },
   {
    "duration": 92,
    "start_time": "2023-04-05T13:52:15.134Z"
   },
   {
    "duration": 24,
    "start_time": "2023-04-05T13:52:15.232Z"
   },
   {
    "duration": 8,
    "start_time": "2023-04-05T13:52:15.266Z"
   },
   {
    "duration": 301,
    "start_time": "2023-04-05T13:52:15.276Z"
   },
   {
    "duration": 39,
    "start_time": "2023-04-05T13:52:18.997Z"
   },
   {
    "duration": 2011,
    "start_time": "2023-04-05T13:53:18.099Z"
   },
   {
    "duration": 930,
    "start_time": "2023-04-05T13:53:20.113Z"
   },
   {
    "duration": 121,
    "start_time": "2023-04-05T13:53:21.050Z"
   },
   {
    "duration": 59,
    "start_time": "2023-04-05T13:53:21.190Z"
   },
   {
    "duration": 8,
    "start_time": "2023-04-05T13:53:21.252Z"
   },
   {
    "duration": 20,
    "start_time": "2023-04-05T13:53:21.262Z"
   },
   {
    "duration": 8,
    "start_time": "2023-04-05T13:53:21.284Z"
   },
   {
    "duration": 15,
    "start_time": "2023-04-05T13:53:21.294Z"
   },
   {
    "duration": 36,
    "start_time": "2023-04-05T13:53:21.311Z"
   },
   {
    "duration": 18,
    "start_time": "2023-04-05T13:53:21.349Z"
   },
   {
    "duration": 24,
    "start_time": "2023-04-05T13:53:21.370Z"
   },
   {
    "duration": 5,
    "start_time": "2023-04-05T13:53:21.395Z"
   },
   {
    "duration": 10587,
    "start_time": "2023-04-05T13:53:21.402Z"
   },
   {
    "duration": 114,
    "start_time": "2023-04-05T13:53:31.992Z"
   },
   {
    "duration": 29,
    "start_time": "2023-04-05T13:53:32.108Z"
   },
   {
    "duration": 8,
    "start_time": "2023-04-05T13:53:32.139Z"
   },
   {
    "duration": 303,
    "start_time": "2023-04-05T13:53:32.149Z"
   },
   {
    "duration": 5,
    "start_time": "2023-04-05T13:53:32.455Z"
   },
   {
    "duration": 59,
    "start_time": "2023-04-05T13:53:32.469Z"
   },
   {
    "duration": 56,
    "start_time": "2023-04-05T13:53:32.530Z"
   },
   {
    "duration": 1213,
    "start_time": "2023-04-05T13:53:32.588Z"
   },
   {
    "duration": 525,
    "start_time": "2023-04-05T13:53:33.803Z"
   },
   {
    "duration": 17,
    "start_time": "2023-04-05T13:53:34.333Z"
   },
   {
    "duration": 12,
    "start_time": "2023-04-05T13:53:34.357Z"
   },
   {
    "duration": 533,
    "start_time": "2023-04-05T13:53:34.371Z"
   },
   {
    "duration": 1535,
    "start_time": "2023-04-05T13:53:34.906Z"
   },
   {
    "duration": 9,
    "start_time": "2023-04-05T13:53:36.446Z"
   },
   {
    "duration": 20,
    "start_time": "2023-04-05T13:53:36.457Z"
   },
   {
    "duration": 9,
    "start_time": "2023-04-05T13:53:36.479Z"
   },
   {
    "duration": 22,
    "start_time": "2023-04-05T13:53:36.490Z"
   },
   {
    "duration": 6,
    "start_time": "2023-04-05T13:53:36.514Z"
   },
   {
    "duration": 938,
    "start_time": "2023-04-05T13:53:36.522Z"
   },
   {
    "duration": 1644,
    "start_time": "2023-04-05T13:53:37.467Z"
   },
   {
    "duration": 91565,
    "start_time": "2023-04-05T13:53:39.114Z"
   },
   {
    "duration": 669,
    "start_time": "2023-04-05T13:55:10.681Z"
   },
   {
    "duration": 1895,
    "start_time": "2023-04-05T13:55:11.358Z"
   },
   {
    "duration": 94143,
    "start_time": "2023-04-05T13:55:13.260Z"
   },
   {
    "duration": 462549,
    "start_time": "2023-04-05T13:56:47.405Z"
   },
   {
    "duration": 25,
    "start_time": "2023-04-05T14:04:29.963Z"
   },
   {
    "duration": 23,
    "start_time": "2023-04-05T14:04:29.991Z"
   },
   {
    "duration": 50,
    "start_time": "2023-04-05T14:04:30.019Z"
   },
   {
    "duration": 76,
    "start_time": "2023-04-05T14:04:30.072Z"
   },
   {
    "duration": 195,
    "start_time": "2023-04-05T14:04:30.150Z"
   },
   {
    "duration": 95,
    "start_time": "2023-04-05T14:04:30.348Z"
   },
   {
    "duration": 999,
    "start_time": "2023-04-05T14:06:13.918Z"
   },
   {
    "duration": 30,
    "start_time": "2023-04-05T14:06:26.126Z"
   },
   {
    "duration": 1825,
    "start_time": "2023-04-05T14:06:44.367Z"
   },
   {
    "duration": 1026,
    "start_time": "2023-04-05T14:06:46.197Z"
   },
   {
    "duration": 99,
    "start_time": "2023-04-05T14:06:47.226Z"
   },
   {
    "duration": 67,
    "start_time": "2023-04-05T14:06:47.337Z"
   },
   {
    "duration": 8,
    "start_time": "2023-04-05T14:06:47.407Z"
   },
   {
    "duration": 48,
    "start_time": "2023-04-05T14:06:47.418Z"
   },
   {
    "duration": 27,
    "start_time": "2023-04-05T14:06:47.468Z"
   },
   {
    "duration": 18,
    "start_time": "2023-04-05T14:06:47.498Z"
   },
   {
    "duration": 32,
    "start_time": "2023-04-05T14:06:47.518Z"
   },
   {
    "duration": 33,
    "start_time": "2023-04-05T14:06:47.552Z"
   },
   {
    "duration": 31,
    "start_time": "2023-04-05T14:06:47.587Z"
   },
   {
    "duration": 5,
    "start_time": "2023-04-05T14:06:47.620Z"
   },
   {
    "duration": 11403,
    "start_time": "2023-04-05T14:06:47.626Z"
   },
   {
    "duration": 89,
    "start_time": "2023-04-05T14:06:59.032Z"
   },
   {
    "duration": 20,
    "start_time": "2023-04-05T14:06:59.135Z"
   },
   {
    "duration": 24,
    "start_time": "2023-04-05T14:06:59.157Z"
   },
   {
    "duration": 187,
    "start_time": "2023-04-05T14:06:59.183Z"
   },
   {
    "duration": 5,
    "start_time": "2023-04-05T14:06:59.372Z"
   },
   {
    "duration": 10,
    "start_time": "2023-04-05T14:06:59.379Z"
   },
   {
    "duration": 12,
    "start_time": "2023-04-05T14:06:59.391Z"
   },
   {
    "duration": 1369,
    "start_time": "2023-04-05T14:06:59.405Z"
   },
   {
    "duration": 549,
    "start_time": "2023-04-05T14:07:00.777Z"
   },
   {
    "duration": 20,
    "start_time": "2023-04-05T14:07:01.328Z"
   },
   {
    "duration": 32,
    "start_time": "2023-04-05T14:07:01.353Z"
   },
   {
    "duration": 543,
    "start_time": "2023-04-05T14:07:01.387Z"
   },
   {
    "duration": 1367,
    "start_time": "2023-04-05T14:07:01.932Z"
   },
   {
    "duration": 4,
    "start_time": "2023-04-05T14:07:03.300Z"
   },
   {
    "duration": 31,
    "start_time": "2023-04-05T14:07:03.306Z"
   },
   {
    "duration": 35,
    "start_time": "2023-04-05T14:07:03.343Z"
   },
   {
    "duration": 37,
    "start_time": "2023-04-05T14:07:03.380Z"
   },
   {
    "duration": 8,
    "start_time": "2023-04-05T14:07:03.419Z"
   },
   {
    "duration": 918,
    "start_time": "2023-04-05T14:07:03.429Z"
   },
   {
    "duration": 1671,
    "start_time": "2023-04-05T14:07:04.349Z"
   },
   {
    "duration": 85773,
    "start_time": "2023-04-05T14:07:06.022Z"
   },
   {
    "duration": 848,
    "start_time": "2023-04-05T14:08:31.798Z"
   },
   {
    "duration": 1810,
    "start_time": "2023-04-05T14:08:32.651Z"
   },
   {
    "duration": 93723,
    "start_time": "2023-04-05T14:08:34.463Z"
   }
  ],
  "kernelspec": {
   "display_name": "Python 3",
   "language": "python",
   "name": "python3"
  },
  "language_info": {
   "codemirror_mode": {
    "name": "ipython",
    "version": 3
   },
   "file_extension": ".py",
   "mimetype": "text/x-python",
   "name": "python",
   "nbconvert_exporter": "python",
   "pygments_lexer": "ipython3",
   "version": "3.7.2"
  },
  "toc": {
   "base_numbering": 1,
   "nav_menu": {},
   "number_sections": true,
   "sideBar": true,
   "skip_h1_title": false,
   "title_cell": "",
   "title_sidebar": "",
   "toc_cell": false,
   "toc_position": {
    "height": "581.6px",
    "left": "24px",
    "top": "109.725px",
    "width": "353px"
   },
   "toc_section_display": true,
   "toc_window_display": true
  }
 },
 "nbformat": 4,
 "nbformat_minor": 5
}
