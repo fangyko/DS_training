{
 "cells": [
  {
   "cell_type": "markdown",
   "metadata": {},
   "source": [
    "# Исследование компьютерных игр\n",
    "\n",
    "Из открытых источников доступны исторические данные о продажах игр, оценки пользователей и экспертов, жанры и платформы (например, Xbox или PlayStation). Необходимо выявить определяющие успешность игры закономерности, что позволит сделать ставку на потенциально популярный продукт и спланировать рекламные кампании.\n",
    "\n",
    "Исследование включает:\n",
    " 1. Загрузку данных и их предварительное изучение;\n",
    " 2. Подготовку данных;\n",
    " 3. Исследовательский анализ данных;\n",
    " 4. Составление портрета пользователя каждого региона;\n",
    " 5. Проверку гипотез;\n",
    " 6. Вывод исследования."
   ]
  },
  {
   "cell_type": "markdown",
   "metadata": {},
   "source": [
    "## Загрузка данных и их предварительное изучение"
   ]
  },
  {
   "cell_type": "code",
   "execution_count": 1,
   "metadata": {},
   "outputs": [],
   "source": [
    "import missingno as msno\n",
    "import pandas as pd\n",
    "import matplotlib.pyplot as plt\n",
    "import math\n",
    "import numpy as np\n",
    "import warnings\n",
    "import re\n",
    "from itertools import chain\n",
    "from scipy import stats as st\n",
    "warnings.filterwarnings('ignore')\n",
    "pd.options.mode.chained_assignment = None"
   ]
  },
  {
   "cell_type": "code",
   "execution_count": 2,
   "metadata": {},
   "outputs": [],
   "source": [
    "try:\n",
    "    data = pd.read_csv('/datasets/games.csv')\n",
    "except:\n",
    "    data = pd.read_csv('games.csv')"
   ]
  },
  {
   "cell_type": "code",
   "execution_count": 3,
   "metadata": {},
   "outputs": [
    {
     "data": {
      "text/html": [
       "<div>\n",
       "<style scoped>\n",
       "    .dataframe tbody tr th:only-of-type {\n",
       "        vertical-align: middle;\n",
       "    }\n",
       "\n",
       "    .dataframe tbody tr th {\n",
       "        vertical-align: top;\n",
       "    }\n",
       "\n",
       "    .dataframe thead th {\n",
       "        text-align: right;\n",
       "    }\n",
       "</style>\n",
       "<table border=\"1\" class=\"dataframe\">\n",
       "  <thead>\n",
       "    <tr style=\"text-align: right;\">\n",
       "      <th></th>\n",
       "      <th>Name</th>\n",
       "      <th>Platform</th>\n",
       "      <th>Year_of_Release</th>\n",
       "      <th>Genre</th>\n",
       "      <th>NA_sales</th>\n",
       "      <th>EU_sales</th>\n",
       "      <th>JP_sales</th>\n",
       "      <th>Other_sales</th>\n",
       "      <th>Critic_Score</th>\n",
       "      <th>User_Score</th>\n",
       "      <th>Rating</th>\n",
       "    </tr>\n",
       "  </thead>\n",
       "  <tbody>\n",
       "    <tr>\n",
       "      <th>0</th>\n",
       "      <td>Wii Sports</td>\n",
       "      <td>Wii</td>\n",
       "      <td>2006.0</td>\n",
       "      <td>Sports</td>\n",
       "      <td>41.36</td>\n",
       "      <td>28.96</td>\n",
       "      <td>3.77</td>\n",
       "      <td>8.45</td>\n",
       "      <td>76.0</td>\n",
       "      <td>8</td>\n",
       "      <td>E</td>\n",
       "    </tr>\n",
       "    <tr>\n",
       "      <th>1</th>\n",
       "      <td>Super Mario Bros.</td>\n",
       "      <td>NES</td>\n",
       "      <td>1985.0</td>\n",
       "      <td>Platform</td>\n",
       "      <td>29.08</td>\n",
       "      <td>3.58</td>\n",
       "      <td>6.81</td>\n",
       "      <td>0.77</td>\n",
       "      <td>NaN</td>\n",
       "      <td>NaN</td>\n",
       "      <td>NaN</td>\n",
       "    </tr>\n",
       "    <tr>\n",
       "      <th>2</th>\n",
       "      <td>Mario Kart Wii</td>\n",
       "      <td>Wii</td>\n",
       "      <td>2008.0</td>\n",
       "      <td>Racing</td>\n",
       "      <td>15.68</td>\n",
       "      <td>12.76</td>\n",
       "      <td>3.79</td>\n",
       "      <td>3.29</td>\n",
       "      <td>82.0</td>\n",
       "      <td>8.3</td>\n",
       "      <td>E</td>\n",
       "    </tr>\n",
       "    <tr>\n",
       "      <th>3</th>\n",
       "      <td>Wii Sports Resort</td>\n",
       "      <td>Wii</td>\n",
       "      <td>2009.0</td>\n",
       "      <td>Sports</td>\n",
       "      <td>15.61</td>\n",
       "      <td>10.93</td>\n",
       "      <td>3.28</td>\n",
       "      <td>2.95</td>\n",
       "      <td>80.0</td>\n",
       "      <td>8</td>\n",
       "      <td>E</td>\n",
       "    </tr>\n",
       "    <tr>\n",
       "      <th>4</th>\n",
       "      <td>Pokemon Red/Pokemon Blue</td>\n",
       "      <td>GB</td>\n",
       "      <td>1996.0</td>\n",
       "      <td>Role-Playing</td>\n",
       "      <td>11.27</td>\n",
       "      <td>8.89</td>\n",
       "      <td>10.22</td>\n",
       "      <td>1.00</td>\n",
       "      <td>NaN</td>\n",
       "      <td>NaN</td>\n",
       "      <td>NaN</td>\n",
       "    </tr>\n",
       "  </tbody>\n",
       "</table>\n",
       "</div>"
      ],
      "text/plain": [
       "                       Name Platform  Year_of_Release         Genre  NA_sales  \\\n",
       "0                Wii Sports      Wii           2006.0        Sports     41.36   \n",
       "1         Super Mario Bros.      NES           1985.0      Platform     29.08   \n",
       "2            Mario Kart Wii      Wii           2008.0        Racing     15.68   \n",
       "3         Wii Sports Resort      Wii           2009.0        Sports     15.61   \n",
       "4  Pokemon Red/Pokemon Blue       GB           1996.0  Role-Playing     11.27   \n",
       "\n",
       "   EU_sales  JP_sales  Other_sales  Critic_Score User_Score Rating  \n",
       "0     28.96      3.77         8.45          76.0          8      E  \n",
       "1      3.58      6.81         0.77           NaN        NaN    NaN  \n",
       "2     12.76      3.79         3.29          82.0        8.3      E  \n",
       "3     10.93      3.28         2.95          80.0          8      E  \n",
       "4      8.89     10.22         1.00           NaN        NaN    NaN  "
      ]
     },
     "execution_count": 3,
     "metadata": {},
     "output_type": "execute_result"
    }
   ],
   "source": [
    "data.head(5)"
   ]
  },
  {
   "cell_type": "code",
   "execution_count": 4,
   "metadata": {},
   "outputs": [
    {
     "name": "stdout",
     "output_type": "stream",
     "text": [
      "<class 'pandas.core.frame.DataFrame'>\n",
      "RangeIndex: 16715 entries, 0 to 16714\n",
      "Data columns (total 11 columns):\n",
      " #   Column           Non-Null Count  Dtype  \n",
      "---  ------           --------------  -----  \n",
      " 0   Name             16713 non-null  object \n",
      " 1   Platform         16715 non-null  object \n",
      " 2   Year_of_Release  16446 non-null  float64\n",
      " 3   Genre            16713 non-null  object \n",
      " 4   NA_sales         16715 non-null  float64\n",
      " 5   EU_sales         16715 non-null  float64\n",
      " 6   JP_sales         16715 non-null  float64\n",
      " 7   Other_sales      16715 non-null  float64\n",
      " 8   Critic_Score     8137 non-null   float64\n",
      " 9   User_Score       10014 non-null  object \n",
      " 10  Rating           9949 non-null   object \n",
      "dtypes: float64(6), object(5)\n",
      "memory usage: 1.4+ MB\n"
     ]
    }
   ],
   "source": [
    "data.info()"
   ]
  },
  {
   "cell_type": "markdown",
   "metadata": {},
   "source": [
    "В данных 16715 строчек. Много пропусков в столбцах оценок критиков, пользовательских оценок и возрастного рейтинга, есть незначительные пропуски в столбце годов выпуска. Данные в годах выпуска представлены в формател float, а в пользовательских оценках object (str), что необходимо исправить."
   ]
  },
  {
   "cell_type": "markdown",
   "metadata": {},
   "source": [
    "##  Подготовка данных\n",
    "\n",
    "1. Заменим названия столбцов (приведем к нижнему регистру);\n",
    "2. Преобразуем данные в нужные типы;\n",
    "3. Обработаем пропуски;\n",
    "4. Посчитаем суммарные продажи во всех регионах и запишем их в отдельный столбец."
   ]
  },
  {
   "cell_type": "markdown",
   "metadata": {},
   "source": [
    "### Переименование столбцов\n",
    "\n",
    "Заменим название столбцов - приведем к нижнему регистру."
   ]
  },
  {
   "cell_type": "code",
   "execution_count": 5,
   "metadata": {},
   "outputs": [
    {
     "data": {
      "text/html": [
       "<div>\n",
       "<style scoped>\n",
       "    .dataframe tbody tr th:only-of-type {\n",
       "        vertical-align: middle;\n",
       "    }\n",
       "\n",
       "    .dataframe tbody tr th {\n",
       "        vertical-align: top;\n",
       "    }\n",
       "\n",
       "    .dataframe thead th {\n",
       "        text-align: right;\n",
       "    }\n",
       "</style>\n",
       "<table border=\"1\" class=\"dataframe\">\n",
       "  <thead>\n",
       "    <tr style=\"text-align: right;\">\n",
       "      <th></th>\n",
       "      <th>name</th>\n",
       "      <th>platform</th>\n",
       "      <th>year_of_release</th>\n",
       "      <th>genre</th>\n",
       "      <th>na_sales</th>\n",
       "      <th>eu_sales</th>\n",
       "      <th>jp_sales</th>\n",
       "      <th>other_sales</th>\n",
       "      <th>critic_score</th>\n",
       "      <th>user_score</th>\n",
       "      <th>rating</th>\n",
       "    </tr>\n",
       "  </thead>\n",
       "  <tbody>\n",
       "    <tr>\n",
       "      <th>0</th>\n",
       "      <td>Wii Sports</td>\n",
       "      <td>Wii</td>\n",
       "      <td>2006.0</td>\n",
       "      <td>Sports</td>\n",
       "      <td>41.36</td>\n",
       "      <td>28.96</td>\n",
       "      <td>3.77</td>\n",
       "      <td>8.45</td>\n",
       "      <td>76.0</td>\n",
       "      <td>8</td>\n",
       "      <td>E</td>\n",
       "    </tr>\n",
       "    <tr>\n",
       "      <th>1</th>\n",
       "      <td>Super Mario Bros.</td>\n",
       "      <td>NES</td>\n",
       "      <td>1985.0</td>\n",
       "      <td>Platform</td>\n",
       "      <td>29.08</td>\n",
       "      <td>3.58</td>\n",
       "      <td>6.81</td>\n",
       "      <td>0.77</td>\n",
       "      <td>NaN</td>\n",
       "      <td>NaN</td>\n",
       "      <td>NaN</td>\n",
       "    </tr>\n",
       "    <tr>\n",
       "      <th>2</th>\n",
       "      <td>Mario Kart Wii</td>\n",
       "      <td>Wii</td>\n",
       "      <td>2008.0</td>\n",
       "      <td>Racing</td>\n",
       "      <td>15.68</td>\n",
       "      <td>12.76</td>\n",
       "      <td>3.79</td>\n",
       "      <td>3.29</td>\n",
       "      <td>82.0</td>\n",
       "      <td>8.3</td>\n",
       "      <td>E</td>\n",
       "    </tr>\n",
       "    <tr>\n",
       "      <th>3</th>\n",
       "      <td>Wii Sports Resort</td>\n",
       "      <td>Wii</td>\n",
       "      <td>2009.0</td>\n",
       "      <td>Sports</td>\n",
       "      <td>15.61</td>\n",
       "      <td>10.93</td>\n",
       "      <td>3.28</td>\n",
       "      <td>2.95</td>\n",
       "      <td>80.0</td>\n",
       "      <td>8</td>\n",
       "      <td>E</td>\n",
       "    </tr>\n",
       "    <tr>\n",
       "      <th>4</th>\n",
       "      <td>Pokemon Red/Pokemon Blue</td>\n",
       "      <td>GB</td>\n",
       "      <td>1996.0</td>\n",
       "      <td>Role-Playing</td>\n",
       "      <td>11.27</td>\n",
       "      <td>8.89</td>\n",
       "      <td>10.22</td>\n",
       "      <td>1.00</td>\n",
       "      <td>NaN</td>\n",
       "      <td>NaN</td>\n",
       "      <td>NaN</td>\n",
       "    </tr>\n",
       "    <tr>\n",
       "      <th>...</th>\n",
       "      <td>...</td>\n",
       "      <td>...</td>\n",
       "      <td>...</td>\n",
       "      <td>...</td>\n",
       "      <td>...</td>\n",
       "      <td>...</td>\n",
       "      <td>...</td>\n",
       "      <td>...</td>\n",
       "      <td>...</td>\n",
       "      <td>...</td>\n",
       "      <td>...</td>\n",
       "    </tr>\n",
       "    <tr>\n",
       "      <th>16710</th>\n",
       "      <td>Samurai Warriors: Sanada Maru</td>\n",
       "      <td>PS3</td>\n",
       "      <td>2016.0</td>\n",
       "      <td>Action</td>\n",
       "      <td>0.00</td>\n",
       "      <td>0.00</td>\n",
       "      <td>0.01</td>\n",
       "      <td>0.00</td>\n",
       "      <td>NaN</td>\n",
       "      <td>NaN</td>\n",
       "      <td>NaN</td>\n",
       "    </tr>\n",
       "    <tr>\n",
       "      <th>16711</th>\n",
       "      <td>LMA Manager 2007</td>\n",
       "      <td>X360</td>\n",
       "      <td>2006.0</td>\n",
       "      <td>Sports</td>\n",
       "      <td>0.00</td>\n",
       "      <td>0.01</td>\n",
       "      <td>0.00</td>\n",
       "      <td>0.00</td>\n",
       "      <td>NaN</td>\n",
       "      <td>NaN</td>\n",
       "      <td>NaN</td>\n",
       "    </tr>\n",
       "    <tr>\n",
       "      <th>16712</th>\n",
       "      <td>Haitaka no Psychedelica</td>\n",
       "      <td>PSV</td>\n",
       "      <td>2016.0</td>\n",
       "      <td>Adventure</td>\n",
       "      <td>0.00</td>\n",
       "      <td>0.00</td>\n",
       "      <td>0.01</td>\n",
       "      <td>0.00</td>\n",
       "      <td>NaN</td>\n",
       "      <td>NaN</td>\n",
       "      <td>NaN</td>\n",
       "    </tr>\n",
       "    <tr>\n",
       "      <th>16713</th>\n",
       "      <td>Spirits &amp; Spells</td>\n",
       "      <td>GBA</td>\n",
       "      <td>2003.0</td>\n",
       "      <td>Platform</td>\n",
       "      <td>0.01</td>\n",
       "      <td>0.00</td>\n",
       "      <td>0.00</td>\n",
       "      <td>0.00</td>\n",
       "      <td>NaN</td>\n",
       "      <td>NaN</td>\n",
       "      <td>NaN</td>\n",
       "    </tr>\n",
       "    <tr>\n",
       "      <th>16714</th>\n",
       "      <td>Winning Post 8 2016</td>\n",
       "      <td>PSV</td>\n",
       "      <td>2016.0</td>\n",
       "      <td>Simulation</td>\n",
       "      <td>0.00</td>\n",
       "      <td>0.00</td>\n",
       "      <td>0.01</td>\n",
       "      <td>0.00</td>\n",
       "      <td>NaN</td>\n",
       "      <td>NaN</td>\n",
       "      <td>NaN</td>\n",
       "    </tr>\n",
       "  </tbody>\n",
       "</table>\n",
       "<p>16715 rows × 11 columns</p>\n",
       "</div>"
      ],
      "text/plain": [
       "                                name platform  year_of_release         genre  \\\n",
       "0                         Wii Sports      Wii           2006.0        Sports   \n",
       "1                  Super Mario Bros.      NES           1985.0      Platform   \n",
       "2                     Mario Kart Wii      Wii           2008.0        Racing   \n",
       "3                  Wii Sports Resort      Wii           2009.0        Sports   \n",
       "4           Pokemon Red/Pokemon Blue       GB           1996.0  Role-Playing   \n",
       "...                              ...      ...              ...           ...   \n",
       "16710  Samurai Warriors: Sanada Maru      PS3           2016.0        Action   \n",
       "16711               LMA Manager 2007     X360           2006.0        Sports   \n",
       "16712        Haitaka no Psychedelica      PSV           2016.0     Adventure   \n",
       "16713               Spirits & Spells      GBA           2003.0      Platform   \n",
       "16714            Winning Post 8 2016      PSV           2016.0    Simulation   \n",
       "\n",
       "       na_sales  eu_sales  jp_sales  other_sales  critic_score user_score  \\\n",
       "0         41.36     28.96      3.77         8.45          76.0          8   \n",
       "1         29.08      3.58      6.81         0.77           NaN        NaN   \n",
       "2         15.68     12.76      3.79         3.29          82.0        8.3   \n",
       "3         15.61     10.93      3.28         2.95          80.0          8   \n",
       "4         11.27      8.89     10.22         1.00           NaN        NaN   \n",
       "...         ...       ...       ...          ...           ...        ...   \n",
       "16710      0.00      0.00      0.01         0.00           NaN        NaN   \n",
       "16711      0.00      0.01      0.00         0.00           NaN        NaN   \n",
       "16712      0.00      0.00      0.01         0.00           NaN        NaN   \n",
       "16713      0.01      0.00      0.00         0.00           NaN        NaN   \n",
       "16714      0.00      0.00      0.01         0.00           NaN        NaN   \n",
       "\n",
       "      rating  \n",
       "0          E  \n",
       "1        NaN  \n",
       "2          E  \n",
       "3          E  \n",
       "4        NaN  \n",
       "...      ...  \n",
       "16710    NaN  \n",
       "16711    NaN  \n",
       "16712    NaN  \n",
       "16713    NaN  \n",
       "16714    NaN  \n",
       "\n",
       "[16715 rows x 11 columns]"
      ]
     },
     "execution_count": 5,
     "metadata": {},
     "output_type": "execute_result"
    }
   ],
   "source": [
    "data.columns = data.columns.str.lower()\n",
    "data"
   ]
  },
  {
   "cell_type": "markdown",
   "metadata": {},
   "source": [
    "### Преобразование типов данных\n",
    "\n",
    "Переведем значения года выпуска в целочисленный формат, предварительно заменив пропуски значений в столбце на 0."
   ]
  },
  {
   "cell_type": "code",
   "execution_count": 6,
   "metadata": {},
   "outputs": [
    {
     "name": "stdout",
     "output_type": "stream",
     "text": [
      "269\n"
     ]
    },
    {
     "data": {
      "text/plain": [
       "array([2006, 1985, 2008, 2009, 1996, 1989, 1984, 2005, 1999, 2007, 2010,\n",
       "       2013, 2004, 1990, 1988, 2002, 2001, 2011, 1998, 2015, 2012, 2014,\n",
       "       1992, 1997, 1993, 1994, 1982, 2016, 2003, 1986, 2000,    0, 1995,\n",
       "       1991, 1981, 1987, 1980, 1983])"
      ]
     },
     "execution_count": 6,
     "metadata": {},
     "output_type": "execute_result"
    }
   ],
   "source": [
    "print(data['year_of_release'].isna().sum())\n",
    "data['year_of_release'] = data['year_of_release'].fillna(0).astype(int)\n",
    "data['year_of_release'].unique()"
   ]
  },
  {
   "cell_type": "markdown",
   "metadata": {},
   "source": [
    "Пропусков в годах выпуска 269."
   ]
  },
  {
   "cell_type": "markdown",
   "metadata": {},
   "source": [
    "tbd (\"подлежит уточнению\") в рейтинге пользователей является пропуском."
   ]
  },
  {
   "cell_type": "code",
   "execution_count": 7,
   "metadata": {},
   "outputs": [
    {
     "data": {
      "text/html": [
       "<div>\n",
       "<style scoped>\n",
       "    .dataframe tbody tr th:only-of-type {\n",
       "        vertical-align: middle;\n",
       "    }\n",
       "\n",
       "    .dataframe tbody tr th {\n",
       "        vertical-align: top;\n",
       "    }\n",
       "\n",
       "    .dataframe thead th {\n",
       "        text-align: right;\n",
       "    }\n",
       "</style>\n",
       "<table border=\"1\" class=\"dataframe\">\n",
       "  <thead>\n",
       "    <tr style=\"text-align: right;\">\n",
       "      <th></th>\n",
       "      <th>name</th>\n",
       "      <th>platform</th>\n",
       "      <th>year_of_release</th>\n",
       "      <th>genre</th>\n",
       "      <th>na_sales</th>\n",
       "      <th>eu_sales</th>\n",
       "      <th>jp_sales</th>\n",
       "      <th>other_sales</th>\n",
       "      <th>critic_score</th>\n",
       "      <th>user_score</th>\n",
       "      <th>rating</th>\n",
       "    </tr>\n",
       "  </thead>\n",
       "  <tbody>\n",
       "    <tr>\n",
       "      <th>119</th>\n",
       "      <td>Zumba Fitness</td>\n",
       "      <td>Wii</td>\n",
       "      <td>2010</td>\n",
       "      <td>Sports</td>\n",
       "      <td>3.45</td>\n",
       "      <td>2.59</td>\n",
       "      <td>0.0</td>\n",
       "      <td>0.66</td>\n",
       "      <td>NaN</td>\n",
       "      <td>tbd</td>\n",
       "      <td>E</td>\n",
       "    </tr>\n",
       "    <tr>\n",
       "      <th>301</th>\n",
       "      <td>Namco Museum: 50th Anniversary</td>\n",
       "      <td>PS2</td>\n",
       "      <td>2005</td>\n",
       "      <td>Misc</td>\n",
       "      <td>2.08</td>\n",
       "      <td>1.35</td>\n",
       "      <td>0.0</td>\n",
       "      <td>0.54</td>\n",
       "      <td>61.0</td>\n",
       "      <td>tbd</td>\n",
       "      <td>E10+</td>\n",
       "    </tr>\n",
       "    <tr>\n",
       "      <th>520</th>\n",
       "      <td>Zumba Fitness 2</td>\n",
       "      <td>Wii</td>\n",
       "      <td>2011</td>\n",
       "      <td>Sports</td>\n",
       "      <td>1.51</td>\n",
       "      <td>1.03</td>\n",
       "      <td>0.0</td>\n",
       "      <td>0.27</td>\n",
       "      <td>NaN</td>\n",
       "      <td>tbd</td>\n",
       "      <td>T</td>\n",
       "    </tr>\n",
       "    <tr>\n",
       "      <th>645</th>\n",
       "      <td>uDraw Studio</td>\n",
       "      <td>Wii</td>\n",
       "      <td>2010</td>\n",
       "      <td>Misc</td>\n",
       "      <td>1.65</td>\n",
       "      <td>0.57</td>\n",
       "      <td>0.0</td>\n",
       "      <td>0.20</td>\n",
       "      <td>71.0</td>\n",
       "      <td>tbd</td>\n",
       "      <td>E</td>\n",
       "    </tr>\n",
       "    <tr>\n",
       "      <th>657</th>\n",
       "      <td>Frogger's Adventures: Temple of the Frog</td>\n",
       "      <td>GBA</td>\n",
       "      <td>0</td>\n",
       "      <td>Adventure</td>\n",
       "      <td>2.15</td>\n",
       "      <td>0.18</td>\n",
       "      <td>0.0</td>\n",
       "      <td>0.07</td>\n",
       "      <td>73.0</td>\n",
       "      <td>tbd</td>\n",
       "      <td>E</td>\n",
       "    </tr>\n",
       "    <tr>\n",
       "      <th>...</th>\n",
       "      <td>...</td>\n",
       "      <td>...</td>\n",
       "      <td>...</td>\n",
       "      <td>...</td>\n",
       "      <td>...</td>\n",
       "      <td>...</td>\n",
       "      <td>...</td>\n",
       "      <td>...</td>\n",
       "      <td>...</td>\n",
       "      <td>...</td>\n",
       "      <td>...</td>\n",
       "    </tr>\n",
       "    <tr>\n",
       "      <th>16695</th>\n",
       "      <td>Planet Monsters</td>\n",
       "      <td>GBA</td>\n",
       "      <td>2001</td>\n",
       "      <td>Action</td>\n",
       "      <td>0.01</td>\n",
       "      <td>0.00</td>\n",
       "      <td>0.0</td>\n",
       "      <td>0.00</td>\n",
       "      <td>67.0</td>\n",
       "      <td>tbd</td>\n",
       "      <td>E</td>\n",
       "    </tr>\n",
       "    <tr>\n",
       "      <th>16697</th>\n",
       "      <td>Bust-A-Move 3000</td>\n",
       "      <td>GC</td>\n",
       "      <td>2003</td>\n",
       "      <td>Puzzle</td>\n",
       "      <td>0.01</td>\n",
       "      <td>0.00</td>\n",
       "      <td>0.0</td>\n",
       "      <td>0.00</td>\n",
       "      <td>53.0</td>\n",
       "      <td>tbd</td>\n",
       "      <td>E</td>\n",
       "    </tr>\n",
       "    <tr>\n",
       "      <th>16698</th>\n",
       "      <td>Mega Brain Boost</td>\n",
       "      <td>DS</td>\n",
       "      <td>2008</td>\n",
       "      <td>Puzzle</td>\n",
       "      <td>0.01</td>\n",
       "      <td>0.00</td>\n",
       "      <td>0.0</td>\n",
       "      <td>0.00</td>\n",
       "      <td>48.0</td>\n",
       "      <td>tbd</td>\n",
       "      <td>E</td>\n",
       "    </tr>\n",
       "    <tr>\n",
       "      <th>16704</th>\n",
       "      <td>Plushees</td>\n",
       "      <td>DS</td>\n",
       "      <td>2008</td>\n",
       "      <td>Simulation</td>\n",
       "      <td>0.01</td>\n",
       "      <td>0.00</td>\n",
       "      <td>0.0</td>\n",
       "      <td>0.00</td>\n",
       "      <td>NaN</td>\n",
       "      <td>tbd</td>\n",
       "      <td>E</td>\n",
       "    </tr>\n",
       "    <tr>\n",
       "      <th>16706</th>\n",
       "      <td>Men in Black II: Alien Escape</td>\n",
       "      <td>GC</td>\n",
       "      <td>2003</td>\n",
       "      <td>Shooter</td>\n",
       "      <td>0.01</td>\n",
       "      <td>0.00</td>\n",
       "      <td>0.0</td>\n",
       "      <td>0.00</td>\n",
       "      <td>NaN</td>\n",
       "      <td>tbd</td>\n",
       "      <td>T</td>\n",
       "    </tr>\n",
       "  </tbody>\n",
       "</table>\n",
       "<p>2424 rows × 11 columns</p>\n",
       "</div>"
      ],
      "text/plain": [
       "                                           name platform  year_of_release  \\\n",
       "119                               Zumba Fitness      Wii             2010   \n",
       "301              Namco Museum: 50th Anniversary      PS2             2005   \n",
       "520                             Zumba Fitness 2      Wii             2011   \n",
       "645                                uDraw Studio      Wii             2010   \n",
       "657    Frogger's Adventures: Temple of the Frog      GBA                0   \n",
       "...                                         ...      ...              ...   \n",
       "16695                           Planet Monsters      GBA             2001   \n",
       "16697                          Bust-A-Move 3000       GC             2003   \n",
       "16698                          Mega Brain Boost       DS             2008   \n",
       "16704                                  Plushees       DS             2008   \n",
       "16706             Men in Black II: Alien Escape       GC             2003   \n",
       "\n",
       "            genre  na_sales  eu_sales  jp_sales  other_sales  critic_score  \\\n",
       "119        Sports      3.45      2.59       0.0         0.66           NaN   \n",
       "301          Misc      2.08      1.35       0.0         0.54          61.0   \n",
       "520        Sports      1.51      1.03       0.0         0.27           NaN   \n",
       "645          Misc      1.65      0.57       0.0         0.20          71.0   \n",
       "657     Adventure      2.15      0.18       0.0         0.07          73.0   \n",
       "...           ...       ...       ...       ...          ...           ...   \n",
       "16695      Action      0.01      0.00       0.0         0.00          67.0   \n",
       "16697      Puzzle      0.01      0.00       0.0         0.00          53.0   \n",
       "16698      Puzzle      0.01      0.00       0.0         0.00          48.0   \n",
       "16704  Simulation      0.01      0.00       0.0         0.00           NaN   \n",
       "16706     Shooter      0.01      0.00       0.0         0.00           NaN   \n",
       "\n",
       "      user_score rating  \n",
       "119          tbd      E  \n",
       "301          tbd   E10+  \n",
       "520          tbd      T  \n",
       "645          tbd      E  \n",
       "657          tbd      E  \n",
       "...          ...    ...  \n",
       "16695        tbd      E  \n",
       "16697        tbd      E  \n",
       "16698        tbd      E  \n",
       "16704        tbd      E  \n",
       "16706        tbd      T  \n",
       "\n",
       "[2424 rows x 11 columns]"
      ]
     },
     "execution_count": 7,
     "metadata": {},
     "output_type": "execute_result"
    }
   ],
   "source": [
    "data.loc[data['user_score'] == 'tbd']"
   ]
  },
  {
   "cell_type": "markdown",
   "metadata": {},
   "source": [
    "Преобразуем строковые значения пользовательского рейтинга в числовые значения, а tbd в nan."
   ]
  },
  {
   "cell_type": "code",
   "execution_count": 8,
   "metadata": {},
   "outputs": [
    {
     "data": {
      "text/plain": [
       "0        8.0\n",
       "1        NaN\n",
       "2        8.3\n",
       "3        8.0\n",
       "4        NaN\n",
       "        ... \n",
       "16710    NaN\n",
       "16711    NaN\n",
       "16712    NaN\n",
       "16713    NaN\n",
       "16714    NaN\n",
       "Name: user_score, Length: 16715, dtype: float64"
      ]
     },
     "execution_count": 8,
     "metadata": {},
     "output_type": "execute_result"
    }
   ],
   "source": [
    "data['user_score'] = pd.to_numeric(data['user_score'], errors='coerce')\n",
    "data['user_score']"
   ]
  },
  {
   "cell_type": "markdown",
   "metadata": {},
   "source": [
    "### Обработка пропусков"
   ]
  },
  {
   "cell_type": "code",
   "execution_count": 9,
   "metadata": {},
   "outputs": [
    {
     "data": {
      "text/plain": [
       "name                  2\n",
       "platform              0\n",
       "year_of_release       0\n",
       "genre                 2\n",
       "na_sales              0\n",
       "eu_sales              0\n",
       "jp_sales              0\n",
       "other_sales           0\n",
       "critic_score       8578\n",
       "user_score         9125\n",
       "rating             6766\n",
       "dtype: int64"
      ]
     },
     "execution_count": 9,
     "metadata": {},
     "output_type": "execute_result"
    }
   ],
   "source": [
    "data.isna().sum()"
   ]
  },
  {
   "cell_type": "code",
   "execution_count": 10,
   "metadata": {},
   "outputs": [
    {
     "data": {
      "image/png": "[encoded data removed]",
      "text/plain": [
       "<Figure size 1800x720 with 2 Axes>"
      ]
     },
     "metadata": {
      "needs_background": "light"
     },
     "output_type": "display_data"
    }
   ],
   "source": [
    "msno.matrix(data, labels=True);"
   ]
  },
  {
   "cell_type": "code",
   "execution_count": 11,
   "metadata": {},
   "outputs": [
    {
     "data": {
      "text/html": [
       "<div>\n",
       "<style scoped>\n",
       "    .dataframe tbody tr th:only-of-type {\n",
       "        vertical-align: middle;\n",
       "    }\n",
       "\n",
       "    .dataframe tbody tr th {\n",
       "        vertical-align: top;\n",
       "    }\n",
       "\n",
       "    .dataframe thead th {\n",
       "        text-align: right;\n",
       "    }\n",
       "</style>\n",
       "<table border=\"1\" class=\"dataframe\">\n",
       "  <thead>\n",
       "    <tr style=\"text-align: right;\">\n",
       "      <th></th>\n",
       "      <th>name</th>\n",
       "      <th>platform</th>\n",
       "      <th>year_of_release</th>\n",
       "      <th>genre</th>\n",
       "      <th>na_sales</th>\n",
       "      <th>eu_sales</th>\n",
       "      <th>jp_sales</th>\n",
       "      <th>other_sales</th>\n",
       "      <th>critic_score</th>\n",
       "      <th>user_score</th>\n",
       "      <th>rating</th>\n",
       "    </tr>\n",
       "  </thead>\n",
       "  <tbody>\n",
       "    <tr>\n",
       "      <th>659</th>\n",
       "      <td>NaN</td>\n",
       "      <td>GEN</td>\n",
       "      <td>1993</td>\n",
       "      <td>NaN</td>\n",
       "      <td>1.78</td>\n",
       "      <td>0.53</td>\n",
       "      <td>0.00</td>\n",
       "      <td>0.08</td>\n",
       "      <td>NaN</td>\n",
       "      <td>NaN</td>\n",
       "      <td>NaN</td>\n",
       "    </tr>\n",
       "    <tr>\n",
       "      <th>14244</th>\n",
       "      <td>NaN</td>\n",
       "      <td>GEN</td>\n",
       "      <td>1993</td>\n",
       "      <td>NaN</td>\n",
       "      <td>0.00</td>\n",
       "      <td>0.00</td>\n",
       "      <td>0.03</td>\n",
       "      <td>0.00</td>\n",
       "      <td>NaN</td>\n",
       "      <td>NaN</td>\n",
       "      <td>NaN</td>\n",
       "    </tr>\n",
       "  </tbody>\n",
       "</table>\n",
       "</div>"
      ],
      "text/plain": [
       "      name platform  year_of_release genre  na_sales  eu_sales  jp_sales  \\\n",
       "659    NaN      GEN             1993   NaN      1.78      0.53      0.00   \n",
       "14244  NaN      GEN             1993   NaN      0.00      0.00      0.03   \n",
       "\n",
       "       other_sales  critic_score  user_score rating  \n",
       "659           0.08           NaN         NaN    NaN  \n",
       "14244         0.00           NaN         NaN    NaN  "
      ]
     },
     "execution_count": 11,
     "metadata": {},
     "output_type": "execute_result"
    }
   ],
   "source": [
    "data.loc[data['name'].isna()]"
   ]
  },
  {
   "cell_type": "markdown",
   "metadata": {},
   "source": [
    "Пропуски в названии и жанре игры одни и те же. Заполнить пропуски невозможно, удаляем."
   ]
  },
  {
   "cell_type": "code",
   "execution_count": 12,
   "metadata": {},
   "outputs": [],
   "source": [
    "data = data.drop(labels=[659,14244], axis=0)"
   ]
  },
  {
   "cell_type": "markdown",
   "metadata": {},
   "source": [
    "Определим игры, которые имеют пропуски в рейтингах на некоторых платформах, но имеют значения на других."
   ]
  },
  {
   "cell_type": "code",
   "execution_count": 13,
   "metadata": {},
   "outputs": [],
   "source": [
    "name_score_loss = {}\n",
    "rating = ['critic_score', 'user_score', 'rating']\n",
    "for i in rating:\n",
    "    name_score_loss[i] = data.loc[data[i].isna(),'name'].unique()"
   ]
  },
  {
   "cell_type": "code",
   "execution_count": 14,
   "metadata": {},
   "outputs": [],
   "source": [
    "rating_other_platform = {}\n",
    "for i in rating: \n",
    "    for name in name_score_loss[i]:\n",
    "        if data.loc[(data['name'] == name) & (~data[i].isna()),'name'].count() > 0:\n",
    "            if rating_other_platform.get(i) is None:\n",
    "                rating_other_platform[i] = [name]\n",
    "            else:\n",
    "                rating_other_platform.get(i).append(name)"
   ]
  },
  {
   "cell_type": "code",
   "execution_count": 15,
   "metadata": {},
   "outputs": [
    {
     "name": "stdout",
     "output_type": "stream",
     "text": [
      "648\n",
      "767\n",
      "359\n"
     ]
    }
   ],
   "source": [
    "for i in rating:\n",
    "    print(len(rating_other_platform[i]))"
   ]
  },
  {
   "cell_type": "markdown",
   "metadata": {},
   "source": [
    "Таким образом, в столбцах 'critic_score', 'user_score', 'rating' соответвстенно 648, 767 и 359 именований игр с пропусками, но имеющие рейтинги на других платформах. Заполним эти пропуски средним значением, а 'rating' - модой. "
   ]
  },
  {
   "cell_type": "code",
   "execution_count": 16,
   "metadata": {},
   "outputs": [
    {
     "data": {
      "text/plain": [
       "array(['E', nan, 'M', 'T', 'E10+', 'K-A', 'AO', 'EC', 'RP'], dtype=object)"
      ]
     },
     "execution_count": 16,
     "metadata": {},
     "output_type": "execute_result"
    }
   ],
   "source": [
    "data['rating'].unique()"
   ]
  },
  {
   "cell_type": "code",
   "execution_count": 17,
   "metadata": {},
   "outputs": [
    {
     "data": {
      "text/html": [
       "<div>\n",
       "<style scoped>\n",
       "    .dataframe tbody tr th:only-of-type {\n",
       "        vertical-align: middle;\n",
       "    }\n",
       "\n",
       "    .dataframe tbody tr th {\n",
       "        vertical-align: top;\n",
       "    }\n",
       "\n",
       "    .dataframe thead th {\n",
       "        text-align: right;\n",
       "    }\n",
       "</style>\n",
       "<table border=\"1\" class=\"dataframe\">\n",
       "  <thead>\n",
       "    <tr style=\"text-align: right;\">\n",
       "      <th></th>\n",
       "      <th>name</th>\n",
       "      <th>platform</th>\n",
       "      <th>year_of_release</th>\n",
       "      <th>genre</th>\n",
       "      <th>na_sales</th>\n",
       "      <th>eu_sales</th>\n",
       "      <th>jp_sales</th>\n",
       "      <th>other_sales</th>\n",
       "      <th>critic_score</th>\n",
       "      <th>user_score</th>\n",
       "      <th>rating</th>\n",
       "    </tr>\n",
       "  </thead>\n",
       "  <tbody>\n",
       "    <tr>\n",
       "      <th>604</th>\n",
       "      <td>Madden NFL 13</td>\n",
       "      <td>PS3</td>\n",
       "      <td>2012</td>\n",
       "      <td>Sports</td>\n",
       "      <td>2.11</td>\n",
       "      <td>0.22</td>\n",
       "      <td>0.00</td>\n",
       "      <td>0.23</td>\n",
       "      <td>83.0</td>\n",
       "      <td>5.5</td>\n",
       "      <td>E</td>\n",
       "    </tr>\n",
       "    <tr>\n",
       "      <th>1190</th>\n",
       "      <td>Need for Speed: Most Wanted</td>\n",
       "      <td>X360</td>\n",
       "      <td>2012</td>\n",
       "      <td>Racing</td>\n",
       "      <td>0.62</td>\n",
       "      <td>0.78</td>\n",
       "      <td>0.01</td>\n",
       "      <td>0.15</td>\n",
       "      <td>83.0</td>\n",
       "      <td>8.5</td>\n",
       "      <td>T</td>\n",
       "    </tr>\n",
       "    <tr>\n",
       "      <th>1591</th>\n",
       "      <td>Need for Speed: Most Wanted</td>\n",
       "      <td>X360</td>\n",
       "      <td>2005</td>\n",
       "      <td>Racing</td>\n",
       "      <td>1.00</td>\n",
       "      <td>0.13</td>\n",
       "      <td>0.02</td>\n",
       "      <td>0.10</td>\n",
       "      <td>83.0</td>\n",
       "      <td>8.5</td>\n",
       "      <td>T</td>\n",
       "    </tr>\n",
       "    <tr>\n",
       "      <th>1745</th>\n",
       "      <td>Sonic the Hedgehog</td>\n",
       "      <td>PS3</td>\n",
       "      <td>2006</td>\n",
       "      <td>Platform</td>\n",
       "      <td>0.41</td>\n",
       "      <td>0.06</td>\n",
       "      <td>0.04</td>\n",
       "      <td>0.66</td>\n",
       "      <td>43.0</td>\n",
       "      <td>4.1</td>\n",
       "      <td>E10+</td>\n",
       "    </tr>\n",
       "    <tr>\n",
       "      <th>4127</th>\n",
       "      <td>Sonic the Hedgehog</td>\n",
       "      <td>PS3</td>\n",
       "      <td>0</td>\n",
       "      <td>Platform</td>\n",
       "      <td>0.00</td>\n",
       "      <td>0.48</td>\n",
       "      <td>0.00</td>\n",
       "      <td>0.00</td>\n",
       "      <td>43.0</td>\n",
       "      <td>4.1</td>\n",
       "      <td>E10+</td>\n",
       "    </tr>\n",
       "    <tr>\n",
       "      <th>5972</th>\n",
       "      <td>Need for Speed: Most Wanted</td>\n",
       "      <td>PC</td>\n",
       "      <td>2005</td>\n",
       "      <td>Racing</td>\n",
       "      <td>0.02</td>\n",
       "      <td>0.23</td>\n",
       "      <td>0.00</td>\n",
       "      <td>0.04</td>\n",
       "      <td>82.0</td>\n",
       "      <td>8.5</td>\n",
       "      <td>T</td>\n",
       "    </tr>\n",
       "    <tr>\n",
       "      <th>11715</th>\n",
       "      <td>Need for Speed: Most Wanted</td>\n",
       "      <td>PC</td>\n",
       "      <td>2012</td>\n",
       "      <td>Racing</td>\n",
       "      <td>0.00</td>\n",
       "      <td>0.06</td>\n",
       "      <td>0.00</td>\n",
       "      <td>0.02</td>\n",
       "      <td>82.0</td>\n",
       "      <td>8.5</td>\n",
       "      <td>T</td>\n",
       "    </tr>\n",
       "    <tr>\n",
       "      <th>16230</th>\n",
       "      <td>Madden NFL 13</td>\n",
       "      <td>PS3</td>\n",
       "      <td>2012</td>\n",
       "      <td>Sports</td>\n",
       "      <td>0.00</td>\n",
       "      <td>0.01</td>\n",
       "      <td>0.00</td>\n",
       "      <td>0.00</td>\n",
       "      <td>83.0</td>\n",
       "      <td>5.5</td>\n",
       "      <td>E</td>\n",
       "    </tr>\n",
       "  </tbody>\n",
       "</table>\n",
       "</div>"
      ],
      "text/plain": [
       "                              name platform  year_of_release     genre  \\\n",
       "604                  Madden NFL 13      PS3             2012    Sports   \n",
       "1190   Need for Speed: Most Wanted     X360             2012    Racing   \n",
       "1591   Need for Speed: Most Wanted     X360             2005    Racing   \n",
       "1745            Sonic the Hedgehog      PS3             2006  Platform   \n",
       "4127            Sonic the Hedgehog      PS3                0  Platform   \n",
       "5972   Need for Speed: Most Wanted       PC             2005    Racing   \n",
       "11715  Need for Speed: Most Wanted       PC             2012    Racing   \n",
       "16230                Madden NFL 13      PS3             2012    Sports   \n",
       "\n",
       "       na_sales  eu_sales  jp_sales  other_sales  critic_score  user_score  \\\n",
       "604        2.11      0.22      0.00         0.23          83.0         5.5   \n",
       "1190       0.62      0.78      0.01         0.15          83.0         8.5   \n",
       "1591       1.00      0.13      0.02         0.10          83.0         8.5   \n",
       "1745       0.41      0.06      0.04         0.66          43.0         4.1   \n",
       "4127       0.00      0.48      0.00         0.00          43.0         4.1   \n",
       "5972       0.02      0.23      0.00         0.04          82.0         8.5   \n",
       "11715      0.00      0.06      0.00         0.02          82.0         8.5   \n",
       "16230      0.00      0.01      0.00         0.00          83.0         5.5   \n",
       "\n",
       "      rating  \n",
       "604        E  \n",
       "1190       T  \n",
       "1591       T  \n",
       "1745    E10+  \n",
       "4127    E10+  \n",
       "5972       T  \n",
       "11715      T  \n",
       "16230      E  "
      ]
     },
     "execution_count": 17,
     "metadata": {},
     "output_type": "execute_result"
    }
   ],
   "source": [
    "data[data.duplicated(subset=['name', 'platform'], keep=False)]"
   ]
  },
  {
   "cell_type": "code",
   "execution_count": 18,
   "metadata": {},
   "outputs": [],
   "source": [
    "data = data.drop(labels=[4127, 16230], axis=0)"
   ]
  },
  {
   "cell_type": "code",
   "execution_count": 19,
   "metadata": {},
   "outputs": [
    {
     "name": "stdout",
     "output_type": "stream",
     "text": [
      "268\n",
      "251\n"
     ]
    },
    {
     "data": {
      "text/plain": [
       "0     2004\n",
       "1     2004\n",
       "2     2006\n",
       "3     2003\n",
       "4     2009\n",
       "5     2002\n",
       "6     2003\n",
       "7     2003\n",
       "8     2013\n",
       "9     2005\n",
       "10    2003\n",
       "11    2005\n",
       "12    2011\n",
       "13    2006\n",
       "14    2008\n",
       "15    2007\n",
       "16    2008\n",
       "Name: 0, dtype: int32"
      ]
     },
     "execution_count": 19,
     "metadata": {},
     "output_type": "execute_result"
    }
   ],
   "source": [
    "print(len(data.loc[data['year_of_release'] == 0]))\n",
    "re_year = pd.DataFrame(chain(*data.loc[(data['year_of_release'] == 0) & \\\n",
    "                        (data['name'].str.contains('\\d{4}', regex=True)), 'name']\n",
    "                        .str.findall('\\d{4}'))).astype(int)[0]\n",
    "data.loc[(data['year_of_release'] == 0) & \\\n",
    "         (data['name'].str.contains('\\d{4}', regex=True)), 'year_of_release'] = re_year\n",
    "print(len(data.loc[data['year_of_release'] == 0]))\n",
    "re_year"
   ]
  },
  {
   "cell_type": "markdown",
   "metadata": {},
   "source": [
    "Таким образом заменили пропуски в годах выпуска 17 игр по году выпуска указанному в названии игры. Остальные пропуски заполнять по аналогии с рейтингом на других платформах не рационально, можно исказить данные из-за выпусков ремастеров, разных версий игр."
   ]
  },
  {
   "cell_type": "markdown",
   "metadata": {},
   "source": [
    "### Суммарные продажи"
   ]
  },
  {
   "cell_type": "code",
   "execution_count": 20,
   "metadata": {},
   "outputs": [],
   "source": [
    "data['total_sales'] = data['na_sales'] + data['eu_sales'] + data['jp_sales'] + data['other_sales']"
   ]
  },
  {
   "cell_type": "code",
   "execution_count": 21,
   "metadata": {},
   "outputs": [
    {
     "data": {
      "text/plain": [
       "name                  0\n",
       "platform              0\n",
       "year_of_release      17\n",
       "genre                 0\n",
       "na_sales              0\n",
       "eu_sales              0\n",
       "jp_sales              0\n",
       "other_sales           0\n",
       "critic_score       8576\n",
       "user_score         9123\n",
       "rating             6764\n",
       "total_sales           0\n",
       "dtype: int64"
      ]
     },
     "execution_count": 21,
     "metadata": {},
     "output_type": "execute_result"
    }
   ],
   "source": [
    "data.isna().sum()"
   ]
  },
  {
   "cell_type": "markdown",
   "metadata": {},
   "source": [
    "### Вывод по разделу\n",
    "\n",
    "Были преименованы столбцы и изменены типы данных в годах выпуска на целочисленный и рейтинг пользователей на числовой с плавающей точкой, для удобства дальнейших расчетов. Значения tbd были заменены на значение nan при изменении типа данных.\n",
    "\n",
    "Пропуски в рейтингах были заменены у заполнены у тех игр, у которых есть рейтинг на других платформах - модой по возрастному рейтингу и средним по остальным. В других случаях, при заполнении пропусков синтетическими значениями, может быть сильное искажение от реальности.\n",
    "\n",
    "Были удалены дубликаты. NFS разных годов выпуска - рейтинги были заполнены средним по другой платформе, дубликатами не являются.\n",
    "\n",
    "Посчитаны суммарные продажи во всех регионах и записаны в столбец \"total_sales\"."
   ]
  },
  {
   "cell_type": "markdown",
   "metadata": {},
   "source": [
    "## Исследовательский анализ"
   ]
  },
  {
   "cell_type": "markdown",
   "metadata": {},
   "source": [
    "### Игры и платформы"
   ]
  },
  {
   "cell_type": "code",
   "execution_count": 22,
   "metadata": {},
   "outputs": [
    {
     "data": {
      "image/png": "[encoded data removed]",
      "text/plain": [
       "<Figure size 432x288 with 1 Axes>"
      ]
     },
     "metadata": {
      "needs_background": "light"
     },
     "output_type": "display_data"
    }
   ],
   "source": [
    "data['year_of_release'].hist(bins=40, range=(1977,2017));"
   ]
  },
  {
   "cell_type": "code",
   "execution_count": 23,
   "metadata": {},
   "outputs": [
    {
     "data": {
      "text/html": [
       "<div>\n",
       "<style scoped>\n",
       "    .dataframe tbody tr th:only-of-type {\n",
       "        vertical-align: middle;\n",
       "    }\n",
       "\n",
       "    .dataframe tbody tr th {\n",
       "        vertical-align: top;\n",
       "    }\n",
       "\n",
       "    .dataframe thead th {\n",
       "        text-align: right;\n",
       "    }\n",
       "</style>\n",
       "<table border=\"1\" class=\"dataframe\">\n",
       "  <thead>\n",
       "    <tr style=\"text-align: right;\">\n",
       "      <th></th>\n",
       "      <th>platform</th>\n",
       "      <th>total_sales</th>\n",
       "    </tr>\n",
       "  </thead>\n",
       "  <tbody>\n",
       "    <tr>\n",
       "      <th>0</th>\n",
       "      <td>PS2</td>\n",
       "      <td>1255.77</td>\n",
       "    </tr>\n",
       "    <tr>\n",
       "      <th>1</th>\n",
       "      <td>X360</td>\n",
       "      <td>971.42</td>\n",
       "    </tr>\n",
       "    <tr>\n",
       "      <th>2</th>\n",
       "      <td>PS3</td>\n",
       "      <td>939.16</td>\n",
       "    </tr>\n",
       "    <tr>\n",
       "      <th>3</th>\n",
       "      <td>Wii</td>\n",
       "      <td>907.51</td>\n",
       "    </tr>\n",
       "    <tr>\n",
       "      <th>4</th>\n",
       "      <td>DS</td>\n",
       "      <td>806.12</td>\n",
       "    </tr>\n",
       "    <tr>\n",
       "      <th>5</th>\n",
       "      <td>PS</td>\n",
       "      <td>730.86</td>\n",
       "    </tr>\n",
       "  </tbody>\n",
       "</table>\n",
       "</div>"
      ],
      "text/plain": [
       "  platform  total_sales\n",
       "0      PS2      1255.77\n",
       "1     X360       971.42\n",
       "2      PS3       939.16\n",
       "3      Wii       907.51\n",
       "4       DS       806.12\n",
       "5       PS       730.86"
      ]
     },
     "execution_count": 23,
     "metadata": {},
     "output_type": "execute_result"
    }
   ],
   "source": [
    "top_platforms = data.pivot_table(index='platform', values='total_sales', aggfunc=['sum']).reset_index()\n",
    "top_platforms.columns = ['platform', 'total_sales']\n",
    "top_platforms = top_platforms.sort_values(by='total_sales', ascending=False).reset_index(drop=True)\n",
    "top_platforms = top_platforms[0:6]\n",
    "top_platforms"
   ]
  },
  {
   "cell_type": "code",
   "execution_count": 24,
   "metadata": {},
   "outputs": [
    {
     "data": {
      "text/html": [
       "<div>\n",
       "<style scoped>\n",
       "    .dataframe tbody tr th:only-of-type {\n",
       "        vertical-align: middle;\n",
       "    }\n",
       "\n",
       "    .dataframe tbody tr th {\n",
       "        vertical-align: top;\n",
       "    }\n",
       "\n",
       "    .dataframe thead th {\n",
       "        text-align: right;\n",
       "    }\n",
       "</style>\n",
       "<table border=\"1\" class=\"dataframe\">\n",
       "  <thead>\n",
       "    <tr style=\"text-align: right;\">\n",
       "      <th></th>\n",
       "      <th>platform</th>\n",
       "      <th>year_of_release</th>\n",
       "      <th>total_sales</th>\n",
       "    </tr>\n",
       "  </thead>\n",
       "  <tbody>\n",
       "    <tr>\n",
       "      <th>1</th>\n",
       "      <td>2600</td>\n",
       "      <td>1980.0</td>\n",
       "      <td>11.38</td>\n",
       "    </tr>\n",
       "    <tr>\n",
       "      <th>2</th>\n",
       "      <td>2600</td>\n",
       "      <td>1981.0</td>\n",
       "      <td>35.68</td>\n",
       "    </tr>\n",
       "    <tr>\n",
       "      <th>3</th>\n",
       "      <td>2600</td>\n",
       "      <td>1982.0</td>\n",
       "      <td>28.88</td>\n",
       "    </tr>\n",
       "    <tr>\n",
       "      <th>4</th>\n",
       "      <td>2600</td>\n",
       "      <td>1983.0</td>\n",
       "      <td>5.84</td>\n",
       "    </tr>\n",
       "    <tr>\n",
       "      <th>5</th>\n",
       "      <td>2600</td>\n",
       "      <td>1984.0</td>\n",
       "      <td>0.27</td>\n",
       "    </tr>\n",
       "    <tr>\n",
       "      <th>...</th>\n",
       "      <td>...</td>\n",
       "      <td>...</td>\n",
       "      <td>...</td>\n",
       "    </tr>\n",
       "    <tr>\n",
       "      <th>249</th>\n",
       "      <td>XB</td>\n",
       "      <td>2008.0</td>\n",
       "      <td>0.18</td>\n",
       "    </tr>\n",
       "    <tr>\n",
       "      <th>250</th>\n",
       "      <td>XOne</td>\n",
       "      <td>2013.0</td>\n",
       "      <td>18.96</td>\n",
       "    </tr>\n",
       "    <tr>\n",
       "      <th>251</th>\n",
       "      <td>XOne</td>\n",
       "      <td>2014.0</td>\n",
       "      <td>54.07</td>\n",
       "    </tr>\n",
       "    <tr>\n",
       "      <th>252</th>\n",
       "      <td>XOne</td>\n",
       "      <td>2015.0</td>\n",
       "      <td>60.14</td>\n",
       "    </tr>\n",
       "    <tr>\n",
       "      <th>253</th>\n",
       "      <td>XOne</td>\n",
       "      <td>2016.0</td>\n",
       "      <td>26.15</td>\n",
       "    </tr>\n",
       "  </tbody>\n",
       "</table>\n",
       "<p>238 rows × 3 columns</p>\n",
       "</div>"
      ],
      "text/plain": [
       "    platform  year_of_release  total_sales\n",
       "1       2600           1980.0        11.38\n",
       "2       2600           1981.0        35.68\n",
       "3       2600           1982.0        28.88\n",
       "4       2600           1983.0         5.84\n",
       "5       2600           1984.0         0.27\n",
       "..       ...              ...          ...\n",
       "249       XB           2008.0         0.18\n",
       "250     XOne           2013.0        18.96\n",
       "251     XOne           2014.0        54.07\n",
       "252     XOne           2015.0        60.14\n",
       "253     XOne           2016.0        26.15\n",
       "\n",
       "[238 rows x 3 columns]"
      ]
     },
     "execution_count": 24,
     "metadata": {},
     "output_type": "execute_result"
    }
   ],
   "source": [
    "top_pl_for_years = data.pivot_table(index=['platform', 'year_of_release'], \\\n",
    "                                           values='total_sales', aggfunc=['sum']).reset_index()\n",
    "top_pl_for_years.columns = ['platform', 'year_of_release', 'total_sales']\n",
    "top_pl_for_years = top_pl_for_years.loc[top_pl_for_years['year_of_release'] > 0] \n",
    "top_pl_for_years    "
   ]
  },
  {
   "cell_type": "code",
   "execution_count": 25,
   "metadata": {},
   "outputs": [
    {
     "data": {
      "image/png": "[encoded data removed]",
      "text/plain": [
       "<Figure size 1080x360 with 1 Axes>"
      ]
     },
     "metadata": {
      "needs_background": "light"
     },
     "output_type": "display_data"
    }
   ],
   "source": [
    "plt.figure(figsize=(15, 5))\n",
    "for i in top_platforms['platform']:\n",
    "    X = top_pl_for_years.loc[top_pl_for_years['platform'] == i, 'year_of_release']\n",
    "    Y = top_pl_for_years.loc[top_pl_for_years['platform'] == i, 'total_sales']\n",
    "    plt.plot(X, Y, label=i)\n",
    "    plt.legend()\n",
    "    plt.grid(True)\n",
    "    plt.ylabel('Всего продаж, млн копий')\n",
    "plt.show()"
   ]
  },
  {
   "cell_type": "markdown",
   "metadata": {},
   "source": [
    "Выявлены следующие зависимости: \n",
    "- Пик выпуска игр пришелся на 2005-2012 года, далее рынок упал в два раза.\n",
    "- Платформы в среднем акутальны 5 лет, имеют пик популярности на 2-3 год.\n",
    "\n",
    "Для прогноза на 2017 год, за актуальный период примем 2014-2016."
   ]
  },
  {
   "cell_type": "code",
   "execution_count": 26,
   "metadata": {},
   "outputs": [],
   "source": [
    "top_pl_period = top_pl_for_years.loc[(top_pl_for_years['year_of_release'] >= 2014) & \\\n",
    "                                     (top_pl_for_years['year_of_release'] <= 2016)]"
   ]
  },
  {
   "cell_type": "markdown",
   "metadata": {},
   "source": [
    "### Анализ платформ"
   ]
  },
  {
   "cell_type": "code",
   "execution_count": 27,
   "metadata": {},
   "outputs": [
    {
     "data": {
      "image/png": "[encoded data removed]",
      "text/plain": [
       "<Figure size 1080x360 with 1 Axes>"
      ]
     },
     "metadata": {
      "needs_background": "light"
     },
     "output_type": "display_data"
    }
   ],
   "source": [
    "plt.figure(figsize=(15, 5))\n",
    "for i in top_pl_period['platform'].unique():\n",
    "    X = top_pl_period.loc[top_pl_period['platform'] == i, 'year_of_release']\n",
    "    Y = top_pl_period.loc[top_pl_period['platform'] == i, 'total_sales']\n",
    "    plt.plot(X, Y, label=i)\n",
    "plt.legend()\n",
    "plt.grid(True)\n",
    "plt.ylabel('Всего продаж, млн копий')\n",
    "plt.xticks([2014, 2015, 2016], [2014, 2015, 2016])\n",
    "plt.show()"
   ]
  },
  {
   "cell_type": "markdown",
   "metadata": {},
   "source": [
    "По количеству продаж лидируют:\n",
    "1. PS4\n",
    "2. XOne\n",
    "3. 3DS\n",
    "\n",
    "На 2016 для всех платформ характерен упадок. Но если предположить что данные по 2016 году неполные, более привлекательными вариантами будут являться:\n",
    "1. PS4\n",
    "2. XOne"
   ]
  },
  {
   "cell_type": "code",
   "execution_count": 28,
   "metadata": {},
   "outputs": [
    {
     "data": {
      "image/png": "[encoded data removed]",
      "text/plain": [
       "<Figure size 1080x360 with 1 Axes>"
      ]
     },
     "metadata": {
      "needs_background": "light"
     },
     "output_type": "display_data"
    }
   ],
   "source": [
    "data_actual = data.loc[(data['year_of_release'] >= 2014) & (data['year_of_release'] <= 2016)]\n",
    "data_actual.boxplot(column='total_sales', by='platform', figsize=(15,5)).set_ylim(0,2);"
   ]
  },
  {
   "cell_type": "markdown",
   "metadata": {},
   "source": [
    "Как видно из распределения глобальных продаж по платформам, PS4 имеет не только больше всего проданных игр, но и каждая игра имеет больше продаж, чем на других платформах. У XOne дела обстоят хуже, ее ближайший конкурент по этим показателям WiiU. "
   ]
  },
  {
   "cell_type": "markdown",
   "metadata": {},
   "source": [
    "### Влияние отзывов\n",
    "\n",
    "Оценим влияние на продажи внутри PS4 отзывов пользователей и критиков. Построим диаграмму рассеяния и посчитаем корреляцию между отзывами и продажами."
   ]
  },
  {
   "cell_type": "code",
   "execution_count": 29,
   "metadata": {},
   "outputs": [
    {
     "data": {
      "image/png": "[encoded data removed]",
      "text/plain": [
       "<Figure size 1080x360 with 1 Axes>"
      ]
     },
     "metadata": {
      "needs_background": "light"
     },
     "output_type": "display_data"
    }
   ],
   "source": [
    "data_actual.loc[data_actual['platform'] == 'PS4'].plot(x='critic_score', y='total_sales', kind='scatter', \n",
    "                                         grid=True, figsize=(15,5), alpha = 0.5);"
   ]
  },
  {
   "cell_type": "code",
   "execution_count": 30,
   "metadata": {},
   "outputs": [
    {
     "data": {
      "image/png": "[encoded data removed]",
      "text/plain": [
       "<Figure size 1080x360 with 1 Axes>"
      ]
     },
     "metadata": {
      "needs_background": "light"
     },
     "output_type": "display_data"
    }
   ],
   "source": [
    "data_actual.loc[data_actual['platform'] == 'PS4'].plot(x='user_score', y='total_sales', kind='scatter', \n",
    "                                         grid=True, figsize=(15,5), alpha = 0.5);"
   ]
  },
  {
   "cell_type": "code",
   "execution_count": 31,
   "metadata": {},
   "outputs": [
    {
     "data": {
      "text/html": [
       "<div>\n",
       "<style scoped>\n",
       "    .dataframe tbody tr th:only-of-type {\n",
       "        vertical-align: middle;\n",
       "    }\n",
       "\n",
       "    .dataframe tbody tr th {\n",
       "        vertical-align: top;\n",
       "    }\n",
       "\n",
       "    .dataframe thead th {\n",
       "        text-align: right;\n",
       "    }\n",
       "</style>\n",
       "<table border=\"1\" class=\"dataframe\">\n",
       "  <thead>\n",
       "    <tr style=\"text-align: right;\">\n",
       "      <th></th>\n",
       "      <th>total_sales</th>\n",
       "      <th>critic_score</th>\n",
       "      <th>user_score</th>\n",
       "    </tr>\n",
       "  </thead>\n",
       "  <tbody>\n",
       "    <tr>\n",
       "      <th>total_sales</th>\n",
       "      <td>1.000000</td>\n",
       "      <td>0.402661</td>\n",
       "      <td>-0.040132</td>\n",
       "    </tr>\n",
       "    <tr>\n",
       "      <th>critic_score</th>\n",
       "      <td>0.402661</td>\n",
       "      <td>1.000000</td>\n",
       "      <td>0.546434</td>\n",
       "    </tr>\n",
       "    <tr>\n",
       "      <th>user_score</th>\n",
       "      <td>-0.040132</td>\n",
       "      <td>0.546434</td>\n",
       "      <td>1.000000</td>\n",
       "    </tr>\n",
       "  </tbody>\n",
       "</table>\n",
       "</div>"
      ],
      "text/plain": [
       "              total_sales  critic_score  user_score\n",
       "total_sales      1.000000      0.402661   -0.040132\n",
       "critic_score     0.402661      1.000000    0.546434\n",
       "user_score      -0.040132      0.546434    1.000000"
      ]
     },
     "execution_count": 31,
     "metadata": {},
     "output_type": "execute_result"
    }
   ],
   "source": [
    "data_actual.loc[data_actual['platform']=='PS4', ['total_sales','critic_score', 'user_score']].corr()"
   ]
  },
  {
   "cell_type": "markdown",
   "metadata": {},
   "source": [
    "Как видно по диаграммам рассеяния и корреляции, глобальные продажи на PS4 имеют связь с оценками критиков, а связь с оценками пользователей близка к нулю."
   ]
  },
  {
   "cell_type": "code",
   "execution_count": 32,
   "metadata": {},
   "outputs": [
    {
     "data": {
      "text/html": [
       "<div>\n",
       "<style scoped>\n",
       "    .dataframe tbody tr th:only-of-type {\n",
       "        vertical-align: middle;\n",
       "    }\n",
       "\n",
       "    .dataframe tbody tr th {\n",
       "        vertical-align: top;\n",
       "    }\n",
       "\n",
       "    .dataframe thead th {\n",
       "        text-align: right;\n",
       "    }\n",
       "</style>\n",
       "<table border=\"1\" class=\"dataframe\">\n",
       "  <thead>\n",
       "    <tr style=\"text-align: right;\">\n",
       "      <th></th>\n",
       "      <th>total_sales</th>\n",
       "      <th>critic_score</th>\n",
       "      <th>user_score</th>\n",
       "    </tr>\n",
       "  </thead>\n",
       "  <tbody>\n",
       "    <tr>\n",
       "      <th>total_sales</th>\n",
       "      <td>1.000000</td>\n",
       "      <td>0.428677</td>\n",
       "      <td>-0.070384</td>\n",
       "    </tr>\n",
       "    <tr>\n",
       "      <th>critic_score</th>\n",
       "      <td>0.428677</td>\n",
       "      <td>1.000000</td>\n",
       "      <td>0.440977</td>\n",
       "    </tr>\n",
       "    <tr>\n",
       "      <th>user_score</th>\n",
       "      <td>-0.070384</td>\n",
       "      <td>0.440977</td>\n",
       "      <td>1.000000</td>\n",
       "    </tr>\n",
       "  </tbody>\n",
       "</table>\n",
       "</div>"
      ],
      "text/plain": [
       "              total_sales  critic_score  user_score\n",
       "total_sales      1.000000      0.428677   -0.070384\n",
       "critic_score     0.428677      1.000000    0.440977\n",
       "user_score      -0.070384      0.440977    1.000000"
      ]
     },
     "execution_count": 32,
     "metadata": {},
     "output_type": "execute_result"
    }
   ],
   "source": [
    "data_actual.loc[data_actual['platform']=='XOne', ['total_sales','critic_score', 'user_score']].corr()"
   ]
  },
  {
   "cell_type": "code",
   "execution_count": 33,
   "metadata": {},
   "outputs": [
    {
     "data": {
      "text/html": [
       "<div>\n",
       "<style scoped>\n",
       "    .dataframe tbody tr th:only-of-type {\n",
       "        vertical-align: middle;\n",
       "    }\n",
       "\n",
       "    .dataframe tbody tr th {\n",
       "        vertical-align: top;\n",
       "    }\n",
       "\n",
       "    .dataframe thead th {\n",
       "        text-align: right;\n",
       "    }\n",
       "</style>\n",
       "<table border=\"1\" class=\"dataframe\">\n",
       "  <thead>\n",
       "    <tr style=\"text-align: right;\">\n",
       "      <th></th>\n",
       "      <th>total_sales</th>\n",
       "      <th>critic_score</th>\n",
       "      <th>user_score</th>\n",
       "    </tr>\n",
       "  </thead>\n",
       "  <tbody>\n",
       "    <tr>\n",
       "      <th>total_sales</th>\n",
       "      <td>1.000000</td>\n",
       "      <td>0.328105</td>\n",
       "      <td>-0.01307</td>\n",
       "    </tr>\n",
       "    <tr>\n",
       "      <th>critic_score</th>\n",
       "      <td>0.328105</td>\n",
       "      <td>1.000000</td>\n",
       "      <td>0.50446</td>\n",
       "    </tr>\n",
       "    <tr>\n",
       "      <th>user_score</th>\n",
       "      <td>-0.013070</td>\n",
       "      <td>0.504460</td>\n",
       "      <td>1.00000</td>\n",
       "    </tr>\n",
       "  </tbody>\n",
       "</table>\n",
       "</div>"
      ],
      "text/plain": [
       "              total_sales  critic_score  user_score\n",
       "total_sales      1.000000      0.328105    -0.01307\n",
       "critic_score     0.328105      1.000000     0.50446\n",
       "user_score      -0.013070      0.504460     1.00000"
      ]
     },
     "execution_count": 33,
     "metadata": {},
     "output_type": "execute_result"
    }
   ],
   "source": [
    "data_actual.loc[:, ['total_sales','critic_score', 'user_score']].corr()"
   ]
  },
  {
   "cell_type": "markdown",
   "metadata": {},
   "source": [
    "Видимо критики лучше разбираются в области своей профессиональной деятельности, а также отзывы широко известных специалистов может иметь рекламный эффект для вышедших игр. Пользовательский рейтинг отражает вкусовщину."
   ]
  },
  {
   "cell_type": "markdown",
   "metadata": {},
   "source": [
    "### Жанры"
   ]
  },
  {
   "cell_type": "code",
   "execution_count": 34,
   "metadata": {},
   "outputs": [
    {
     "data": {
      "image/png": "[encoded data removed]",
      "text/plain": [
       "<Figure size 1080x360 with 1 Axes>"
      ]
     },
     "metadata": {
      "needs_background": "light"
     },
     "output_type": "display_data"
    }
   ],
   "source": [
    "Y_arr = data_actual.groupby(by=['genre','year_of_release'])['total_sales'].sum()\n",
    "plt.figure(figsize=(15, 5))\n",
    "for genre in data_actual['genre'].unique():\n",
    "    X = data_actual.loc[data['genre'] == genre,'year_of_release'].sort_values().unique()\n",
    "    Y = Y_arr[genre]\n",
    "    plt.plot(X, Y, label=genre, )\n",
    "    plt.legend()\n",
    "    plt.grid(True)\n",
    "    plt.ylabel('Всего продаж, млн копий')\n",
    "    plt.xticks([2014, 2015, 2016, 2016.4], [2014, 2015, 2016, 2016.4])\n",
    "plt.show()"
   ]
  },
  {
   "cell_type": "markdown",
   "metadata": {},
   "source": [
    "Наиболее популярны динамичные жанры, такие как Шутеры, Экшен, Спорт, Ролевые. Меньше всего продаж у Стратегий, Приключенческий игр и пазлов. В современных играх наиболее популярным и продаваемым жанром стали шутеры."
   ]
  },
  {
   "cell_type": "code",
   "execution_count": 35,
   "metadata": {},
   "outputs": [
    {
     "data": {
      "image/png": "[encoded data removed]",
      "text/plain": [
       "<Figure size 1080x360 with 1 Axes>"
      ]
     },
     "metadata": {
      "needs_background": "light"
     },
     "output_type": "display_data"
    }
   ],
   "source": [
    "data_actual.boxplot(column='total_sales', by='genre', figsize=(15,5)).set_ylim(0,5);"
   ]
  },
  {
   "cell_type": "markdown",
   "metadata": {},
   "source": [
    "В жанрах Экшен и Ролевых много игр с небольшим количеством продаж копий, в этом плане платформеры лучше."
   ]
  },
  {
   "cell_type": "code",
   "execution_count": 36,
   "metadata": {},
   "outputs": [
    {
     "data": {
      "image/png": "[encoded data removed]",
      "text/plain": [
       "<Figure size 1080x360 with 1 Axes>"
      ]
     },
     "metadata": {
      "needs_background": "light"
     },
     "output_type": "display_data"
    }
   ],
   "source": [
    "data_actual.groupby(by='genre')['genre'].count().plot(kind='bar', figsize=(15,5), rot=0);"
   ]
  },
  {
   "cell_type": "markdown",
   "metadata": {},
   "source": [
    "Действительно, на рынке очень много игр жанра Экшен, хотя большая часть игр плохо продается, но есть и редкие бестселлеры. Меньше игр жанров Приключения, Ролевые, Спорт - среди них лучше продается Спорт. Далее Шутеры и Инди игры. Инди игры продаются на уровне Ролевых, а среди шутеров много бестселеров, в среднем они продаются лучше всех других жанров. "
   ]
  },
  {
   "cell_type": "markdown",
   "metadata": {},
   "source": [
    "### Вывод по разделу\n",
    "\n",
    "Были выявлены следующие зависимости:\n",
    "- Пик выпуска игр пришелся на 2005-2012 года, далее рынок упал в два раза.\n",
    "- Платформы в среднем акутальны 5 лет, имеют пик популярности на 2-3 год.\n",
    "\n",
    "Для прогноза на 2017 год, за актуальный период приняли 2014-2016.\n",
    "\n",
    "Более привлекательным платформами являются:\n",
    "1. PS4,\n",
    "2. XOne.\n",
    "\n",
    "Продажи игр имеют связь с высокими оценками критиков.\n",
    "\n",
    "Наиболее прибыльный жанр: Шутеры. Наименее - Пазлы."
   ]
  },
  {
   "cell_type": "markdown",
   "metadata": {},
   "source": [
    "## Составление портрета пользователя каждого региона"
   ]
  },
  {
   "cell_type": "markdown",
   "metadata": {},
   "source": [
    "Определим для пользователя каждого региона (NA, EU, JP):\n",
    "- Самые популярные платформы (топ-5);\n",
    "- Самые популярные жанры (топ-5);\n",
    "- Влияние рейтинга ESRB на продажи в отдельном регионе."
   ]
  },
  {
   "cell_type": "code",
   "execution_count": 37,
   "metadata": {},
   "outputs": [],
   "source": [
    "def portret_user(factor):\n",
    "    for region in ['na_sales', 'eu_sales', 'jp_sales']:\n",
    "        (\n",
    "            data_actual.groupby(by=factor)[region]\n",
    "            .sum()\n",
    "            .sort_values(ascending=False)[0:5]\n",
    "            .plot(kind='bar', title=region, figsize=(15,3), rot=0)\n",
    "        )\n",
    "        plt.show()"
   ]
  },
  {
   "cell_type": "code",
   "execution_count": 38,
   "metadata": {},
   "outputs": [
    {
     "data": {
      "image/png": "[encoded data removed]",
      "text/plain": [
       "<Figure size 1080x216 with 1 Axes>"
      ]
     },
     "metadata": {
      "needs_background": "light"
     },
     "output_type": "display_data"
    },
    {
     "data": {
      "image/png": "[encoded data removed]",
      "text/plain": [
       "<Figure size 1080x216 with 1 Axes>"
      ]
     },
     "metadata": {
      "needs_background": "light"
     },
     "output_type": "display_data"
    },
    {
     "data": {
      "image/png": "[encoded data removed]",
      "text/plain": [
       "<Figure size 1080x216 with 1 Axes>"
      ]
     },
     "metadata": {
      "needs_background": "light"
     },
     "output_type": "display_data"
    }
   ],
   "source": [
    "portret_user('platform')"
   ]
  },
  {
   "cell_type": "markdown",
   "metadata": {},
   "source": [
    "Как видно по графикам, в акутальном периоде лидирующей платформой на американском и европейском рынках является PS4 - продукт компании Sony. Второе место на американском и европейском рынках занимает платформа от Microsoft - XOne. На японском рынке лидером является 3DS от Nintendo, далее продукция компании Sony. Объемы продаж игр на этих платформах отражают лучшие показатели на местных рынках, ориентированность и доминированик на европейском и американском рынке компании Sony."
   ]
  },
  {
   "cell_type": "code",
   "execution_count": 39,
   "metadata": {},
   "outputs": [
    {
     "data": {
      "image/png": "[encoded data removed]",
      "text/plain": [
       "<Figure size 1080x216 with 1 Axes>"
      ]
     },
     "metadata": {
      "needs_background": "light"
     },
     "output_type": "display_data"
    },
    {
     "data": {
      "image/png": "[encoded data removed]",
      "text/plain": [
       "<Figure size 1080x216 with 1 Axes>"
      ]
     },
     "metadata": {
      "needs_background": "light"
     },
     "output_type": "display_data"
    },
    {
     "data": {
      "image/png": "[encoded data removed]",
      "text/plain": [
       "<Figure size 1080x216 with 1 Axes>"
      ]
     },
     "metadata": {
      "needs_background": "light"
     },
     "output_type": "display_data"
    }
   ],
   "source": [
    "portret_user('genre')"
   ]
  },
  {
   "cell_type": "markdown",
   "metadata": {},
   "source": [
    "Экшен, Шутеры, Спортивные и Ролевые игры явялются наиболее популярными на американском и европейском рынке, с той разницей, что в Америке более популярны Шутеры и менее популярны Инди игры, а в Европе - Экшен и Гонки.\n",
    "\n",
    "На японском рынке самыми популярными жанрами являются Ролевые и Экшен. Далее значительно менее популярными являются жанры: Файтинг, Инди, Шутеры."
   ]
  },
  {
   "cell_type": "code",
   "execution_count": 40,
   "metadata": {},
   "outputs": [
    {
     "data": {
      "image/png": "[encoded data removed]",
      "text/plain": [
       "<Figure size 1080x216 with 1 Axes>"
      ]
     },
     "metadata": {
      "needs_background": "light"
     },
     "output_type": "display_data"
    },
    {
     "data": {
      "image/png": "[encoded data removed]",
      "text/plain": [
       "<Figure size 1080x216 with 1 Axes>"
      ]
     },
     "metadata": {
      "needs_background": "light"
     },
     "output_type": "display_data"
    },
    {
     "data": {
      "image/png": "[encoded data removed]",
      "text/plain": [
       "<Figure size 1080x216 with 1 Axes>"
      ]
     },
     "metadata": {
      "needs_background": "light"
     },
     "output_type": "display_data"
    }
   ],
   "source": [
    "portret_user('rating')"
   ]
  },
  {
   "cell_type": "code",
   "execution_count": 41,
   "metadata": {},
   "outputs": [
    {
     "name": "stdout",
     "output_type": "stream",
     "text": [
      "Всего локальных продаж млн. копий за актуальный период:\n",
      "na_sales 284.06\n",
      "eu_sales 270.68\n",
      "jp_sales 93.09\n"
     ]
    }
   ],
   "source": [
    "print(\"Всего локальных продаж млн. копий за актуальный период:\")\n",
    "for region in ['na_sales', 'eu_sales', 'jp_sales']:\n",
    "    print(region, round(data_actual[region].sum(),2))"
   ]
  },
  {
   "cell_type": "code",
   "execution_count": 42,
   "metadata": {},
   "outputs": [
    {
     "name": "stdout",
     "output_type": "stream",
     "text": [
      "PS4 136\n",
      "XOne 59\n",
      "3DS 138\n"
     ]
    }
   ],
   "source": [
    "top_pl = data_actual.groupby(by='platform')['total_sales'].sum().sort_values(ascending=False)[0:3].index\n",
    "for platform in top_pl:\n",
    "    print(platform, len(data_actual.loc[(data_actual['platform'] == platform) & (data_actual['rating'].isna())]))"
   ]
  },
  {
   "cell_type": "markdown",
   "metadata": {},
   "source": [
    "Entertainment Software Rating Board (ESRB) — негосударственная организация, основное направление деятельности — принятие и определение рейтингов для компьютерных видеоигр и другого развлекательного программного обеспечения в США и Канаде.\n",
    "\n",
    "По япоскому рынку данных гораздо меньше по сравнию с другим, как из-за объема продаж, так и пропусков в рейтинге, что возможно из специфики организации дающей рейтинги.\n",
    "\n",
    "Тем не менее ситуация на рынках следующая: наиболее продаваемые игры рейтинга M (для взрослых), на японском рынке - Т (для подростков), вторая позиция E (для всех), и менее популярны игры с рейтингом E10+ (Для всех от 10 и старше). \n",
    "\n",
    "Можно предположить, что на японском рынке игроки преимущественно подростки, а на других рынках взрослые, но данные могут быть искажены из-за пропусков. Американские и Европейские рынки не в этом отношении не отличаются."
   ]
  },
  {
   "cell_type": "markdown",
   "metadata": {},
   "source": [
    "## Проверка гипотез\n",
    "\n",
    "Проверка гипотезы о равенстве среднего двух генеральных совокупностей по взятым из них выборкам - применим t-test, метод ttest_ind(). Сформируем нулевые и альтернативные гипотезы по принципу что за нулевую гипотизу принимается равенство сравниваемых выборок, а альтернативная гипотеза противоположна нулевой. Зададим критерий статистической значимости, определим выборки и проведем проверки гипотез."
   ]
  },
  {
   "cell_type": "markdown",
   "metadata": {},
   "source": [
    "### Средние пользовательские рейтинги платформ Xbox One и PC\n",
    "\n",
    "- H0 = Средние пользовательские рейтинги платформ Xbox One и PC одинаковые.\n",
    "- H1 = Средние пользовательские рейтинги платформ Xbox One и PC не одинаковые.\n",
    "- alpha = 0.05"
   ]
  },
  {
   "cell_type": "code",
   "execution_count": 43,
   "metadata": {},
   "outputs": [
    {
     "name": "stdout",
     "output_type": "stream",
     "text": [
      "165 122\n"
     ]
    }
   ],
   "source": [
    "x_one = data_actual.loc[(data_actual['platform'] == 'XOne') & (~data_actual['user_score'].isna()), 'user_score']\n",
    "pc = data_actual.loc[(data_actual['platform'] == 'PC') & (~data_actual['user_score'].isna()), 'user_score']\n",
    "print(len(x_one), len(pc))"
   ]
  },
  {
   "cell_type": "code",
   "execution_count": 44,
   "metadata": {},
   "outputs": [
    {
     "name": "stdout",
     "output_type": "stream",
     "text": [
      "p-значение:  0.11601398086668835\n",
      "Не получилось отвергнуть нулевую гипотезу\n"
     ]
    }
   ],
   "source": [
    "results = st.ttest_ind(x_one, pc, equal_var = False) # Выбоорки разного размера - equal_var=False\n",
    "alpha = 0.05\n",
    "print('p-значение: ', results.pvalue)\n",
    "if results.pvalue < alpha:\n",
    "    print('Отвергаем нулевую гипотезу')\n",
    "else:\n",
    "    print('Не получилось отвергнуть нулевую гипотезу') "
   ]
  },
  {
   "cell_type": "markdown",
   "metadata": {},
   "source": [
    "Пользователи Xbox One и персональных компьютеров по-разному оценивают компьютерные игры. "
   ]
  },
  {
   "cell_type": "markdown",
   "metadata": {},
   "source": [
    "### Средние пользовательские рейтинги жанров Action и Sports\n",
    "\n",
    "- H0 = Средние пользовательские рейтинги жанров Action (англ. «действие», экшен-игры) и Sports (англ. «спортивные соревнования») одинаковые.\n",
    "- H1 = Средние пользовательские рейтинги жанров Action (англ. «действие», экшен-игры) и Sports (англ. «спортивные соревнования») разные.\n",
    "- alpha = 0.05"
   ]
  },
  {
   "cell_type": "code",
   "execution_count": 45,
   "metadata": {},
   "outputs": [
    {
     "name": "stdout",
     "output_type": "stream",
     "text": [
      "297 127\n"
     ]
    }
   ],
   "source": [
    "action = data_actual.loc[(data_actual['genre'] == 'Action') & (~data_actual['user_score'].isna()), 'user_score']\n",
    "sports = data_actual.loc[(data_actual['genre'] == 'Sports') & (~data_actual['user_score'].isna()), 'user_score']\n",
    "print(len(action), len(sports))"
   ]
  },
  {
   "cell_type": "code",
   "execution_count": 46,
   "metadata": {},
   "outputs": [
    {
     "name": "stdout",
     "output_type": "stream",
     "text": [
      "p-значение:  1.1825550382644557e-14\n",
      "Отвергаем нулевую гипотезу\n"
     ]
    }
   ],
   "source": [
    "results = st.ttest_ind(action, sports, equal_var=False) # Выбоорки разного размера - equal_var=False\n",
    "alpha = 0.05\n",
    "print('p-значение: ', results.pvalue)\n",
    "if results.pvalue < alpha:\n",
    "    print('Отвергаем нулевую гипотезу')\n",
    "else:\n",
    "    print('Не получилось отвергнуть нулевую гипотезу') "
   ]
  },
  {
   "cell_type": "markdown",
   "metadata": {},
   "source": [
    "Пользователи по-разному оценивают игры жанров Action и Sports."
   ]
  },
  {
   "cell_type": "markdown",
   "metadata": {},
   "source": [
    "### Вывод по разделу\n",
    "\n",
    "1. Пользователи Xbox One и персональных компьютеров по-разному оценивают компьютерные игры. \n",
    "2. Пользователи по-разному оценивают игры жанров Action и Sports.\n"
   ]
  },
  {
   "cell_type": "markdown",
   "metadata": {},
   "source": [
    "## Вывод "
   ]
  },
  {
   "cell_type": "markdown",
   "metadata": {},
   "source": [
    "В данном исследовании: \n",
    "1. Были заменены названия столбцов;\n",
    "2. Преобразованы данные в нужные типы;\n",
    "3. Обработаны пропуски;\n",
    "4. Посчитаны суммарные продажи во всех регионах.\n",
    "\n",
    "Были выявлены следующие зависимости:\n",
    "- Пик выпуска игр пришелся на 2005-2012 года, далее рынок упал в два раза.\n",
    "- Платформы в среднем акутальны 5 лет, имеют пик популярности на 2-3 год.\n",
    "\n",
    "Для прогноза на 2017 год, за актуальный период приняли 2014-2016.\n",
    "\n",
    "Более привлекательным платформами являются:\n",
    "1. PS4,\n",
    "2. XOne.\n",
    "\n",
    "Продажи игр имеют связь с высокими оценками критиков.\n",
    "\n",
    "Наиболее прибыльный жанр: Шутеры. Наименее - Пазлы.\n",
    "\n",
    "__Платформы:__ Лидирующей платформой на американском и европейском рынках является PS4 - продукт компании Sony. Второе место на американском и европейском рынках занимает платформа от Microsoft - XOne. На японском рынке лидером является 3DS от Nintendo, далее продукция компании Sony. Объемы продаж игр на этих платформа отражают лучшие показатели на местных рынках, ориентированность и доминированик на европейском и американском рынке компании Sony.\n",
    "\n",
    "__Жанры:__ Экшен, Шутеры, Спортивные и Ролевые игры явялются наиболее популярными на американском и европейском рынке, с той разницей, что в Америке более популярны Шутеры и менее популярны Инди игры, а в Европе - Экшен и Гонки. На японском рынке самыми популярными жанрами являются Ролевые и Экшен. Далее значительно менее популярными являются жанры: Файтинг, Инди, Шутеры.\n",
    "\n",
    "__Рейтинг ESRB:__ По япоскому рынку данных гораздо меньше по сравнию с другим, как из-за объема продаж, так и пропусков в рейтинге, что возможно из специфики организации дающей рейтинги. Тем не менее ситуация на рынках следующая: наиболее продаваемые игры рейтинга M (для взрослых), на японском рынке - Т (для подростков), вторая позиция E (для всех), и менее популярны игры с рейтингом E10+ (Для всех от 10 и старше). Можно предположить, что на японском рынке игроки преимущественно подростки, а на других рынках взрослые, но данные могут быть искажены из-за пропусков. Американские и Европейские рынки не в этом отношении не отличаются.\n",
    "\n",
    "Проверка гипотез показала, что:\n",
    "1. Пользователи Xbox One и персональных компьютеров по-разному оценивают компьютерные игры. \n",
    "2. Пользователи по-разному оценивают игры жанров Action и Sports."
   ]
  }
 ],
 "metadata": {
  "ExecuteTimeLog": [
   {
    "duration": 1285,
    "start_time": "2023-02-02T04:24:40.784Z"
   },
   {
    "duration": 192,
    "start_time": "2023-02-02T04:25:47.252Z"
   },
   {
    "duration": 11,
    "start_time": "2023-02-02T04:26:36.254Z"
   },
   {
    "duration": 59,
    "start_time": "2023-02-02T04:26:48.884Z"
   },
   {
    "duration": 16,
    "start_time": "2023-02-02T04:26:50.842Z"
   },
   {
    "duration": 14,
    "start_time": "2023-02-02T04:27:03.925Z"
   },
   {
    "duration": 5,
    "start_time": "2023-02-02T04:33:05.247Z"
   },
   {
    "duration": 106,
    "start_time": "2023-02-02T04:33:16.689Z"
   },
   {
    "duration": 12,
    "start_time": "2023-02-02T04:33:25.357Z"
   },
   {
    "duration": 5,
    "start_time": "2023-02-02T04:33:31.085Z"
   },
   {
    "duration": 11,
    "start_time": "2023-02-02T04:33:50.964Z"
   },
   {
    "duration": 5,
    "start_time": "2023-02-02T04:34:46.222Z"
   },
   {
    "duration": 33,
    "start_time": "2023-02-02T04:35:00.487Z"
   },
   {
    "duration": 3,
    "start_time": "2023-02-02T04:35:30.089Z"
   },
   {
    "duration": 31,
    "start_time": "2023-02-02T04:35:33.597Z"
   },
   {
    "duration": 22,
    "start_time": "2023-02-02T04:35:47.949Z"
   },
   {
    "duration": 17,
    "start_time": "2023-02-02T04:38:09.182Z"
   },
   {
    "duration": 6,
    "start_time": "2023-02-02T04:39:06.370Z"
   },
   {
    "duration": 22,
    "start_time": "2023-02-02T04:40:41.845Z"
   },
   {
    "duration": 14,
    "start_time": "2023-02-02T04:41:32.633Z"
   },
   {
    "duration": 5,
    "start_time": "2023-02-02T04:42:00.006Z"
   },
   {
    "duration": 14,
    "start_time": "2023-02-02T04:42:32.592Z"
   },
   {
    "duration": 64,
    "start_time": "2023-02-02T04:43:18.596Z"
   },
   {
    "duration": 46,
    "start_time": "2023-02-02T04:43:23.306Z"
   },
   {
    "duration": 11,
    "start_time": "2023-02-02T04:43:26.606Z"
   },
   {
    "duration": 9,
    "start_time": "2023-02-02T04:45:46.126Z"
   },
   {
    "duration": 14,
    "start_time": "2023-02-02T04:46:00.905Z"
   },
   {
    "duration": 7,
    "start_time": "2023-02-02T04:46:27.144Z"
   },
   {
    "duration": 13,
    "start_time": "2023-02-02T04:46:38.128Z"
   },
   {
    "duration": 10,
    "start_time": "2023-02-02T04:46:45.128Z"
   },
   {
    "duration": 4,
    "start_time": "2023-02-02T04:50:10.729Z"
   },
   {
    "duration": 7,
    "start_time": "2023-02-02T04:50:17.401Z"
   },
   {
    "duration": 6,
    "start_time": "2023-02-02T04:50:29.125Z"
   },
   {
    "duration": 7,
    "start_time": "2023-02-02T04:50:40.243Z"
   },
   {
    "duration": 12,
    "start_time": "2023-02-02T04:52:16.534Z"
   },
   {
    "duration": 9,
    "start_time": "2023-02-02T04:52:32.546Z"
   },
   {
    "duration": 9,
    "start_time": "2023-02-02T04:52:40.785Z"
   },
   {
    "duration": 10,
    "start_time": "2023-02-02T04:52:50.770Z"
   },
   {
    "duration": 4,
    "start_time": "2023-02-02T04:53:00.516Z"
   },
   {
    "duration": 97,
    "start_time": "2023-02-02T04:53:00.523Z"
   },
   {
    "duration": 16,
    "start_time": "2023-02-02T04:53:00.622Z"
   },
   {
    "duration": 42,
    "start_time": "2023-02-02T04:53:00.640Z"
   },
   {
    "duration": 53,
    "start_time": "2023-02-02T04:53:00.685Z"
   },
   {
    "duration": 9,
    "start_time": "2023-02-02T04:53:04.492Z"
   },
   {
    "duration": 14,
    "start_time": "2023-02-02T04:53:21.317Z"
   },
   {
    "duration": 13,
    "start_time": "2023-02-02T04:54:05.993Z"
   },
   {
    "duration": 12,
    "start_time": "2023-02-02T04:54:13.920Z"
   },
   {
    "duration": 13,
    "start_time": "2023-02-02T04:54:22.762Z"
   },
   {
    "duration": 11,
    "start_time": "2023-02-02T04:54:34.779Z"
   },
   {
    "duration": 13,
    "start_time": "2023-02-02T04:54:40.263Z"
   },
   {
    "duration": 13,
    "start_time": "2023-02-02T04:55:12.733Z"
   },
   {
    "duration": 12,
    "start_time": "2023-02-02T04:55:17.289Z"
   },
   {
    "duration": 13,
    "start_time": "2023-02-02T04:55:26.428Z"
   },
   {
    "duration": 75,
    "start_time": "2023-02-02T04:55:32.229Z"
   },
   {
    "duration": 16,
    "start_time": "2023-02-02T04:55:36.714Z"
   },
   {
    "duration": 4,
    "start_time": "2023-02-02T04:56:46.427Z"
   },
   {
    "duration": 4,
    "start_time": "2023-02-02T04:56:50.372Z"
   },
   {
    "duration": 5,
    "start_time": "2023-02-02T04:56:56.401Z"
   },
   {
    "duration": 14,
    "start_time": "2023-02-02T04:57:07.207Z"
   },
   {
    "duration": 10,
    "start_time": "2023-02-02T04:57:24.149Z"
   },
   {
    "duration": 10,
    "start_time": "2023-02-02T04:57:43.026Z"
   },
   {
    "duration": 10,
    "start_time": "2023-02-02T04:57:58.512Z"
   },
   {
    "duration": 10,
    "start_time": "2023-02-02T04:58:41.045Z"
   },
   {
    "duration": 15,
    "start_time": "2023-02-02T04:59:50.790Z"
   },
   {
    "duration": 13,
    "start_time": "2023-02-02T05:05:23.723Z"
   },
   {
    "duration": 12,
    "start_time": "2023-02-02T05:05:32.273Z"
   },
   {
    "duration": 8,
    "start_time": "2023-02-02T05:05:35.752Z"
   },
   {
    "duration": 14,
    "start_time": "2023-02-02T05:10:03.662Z"
   },
   {
    "duration": 17,
    "start_time": "2023-02-02T05:10:18.534Z"
   },
   {
    "duration": 17,
    "start_time": "2023-02-02T05:10:56.632Z"
   },
   {
    "duration": 16,
    "start_time": "2023-02-02T05:11:06.345Z"
   },
   {
    "duration": 10,
    "start_time": "2023-02-02T05:11:22.634Z"
   },
   {
    "duration": 4,
    "start_time": "2023-02-02T05:11:44.269Z"
   },
   {
    "duration": 7,
    "start_time": "2023-02-02T05:12:49.476Z"
   },
   {
    "duration": 14,
    "start_time": "2023-02-02T05:16:15.913Z"
   },
   {
    "duration": 7,
    "start_time": "2023-02-02T05:16:57.049Z"
   },
   {
    "duration": 3,
    "start_time": "2023-02-02T05:17:03.734Z"
   },
   {
    "duration": 102,
    "start_time": "2023-02-02T05:17:03.739Z"
   },
   {
    "duration": 17,
    "start_time": "2023-02-02T05:17:03.843Z"
   },
   {
    "duration": 25,
    "start_time": "2023-02-02T05:17:03.862Z"
   },
   {
    "duration": 29,
    "start_time": "2023-02-02T05:17:03.889Z"
   },
   {
    "duration": 12,
    "start_time": "2023-02-02T05:17:03.920Z"
   },
   {
    "duration": 14,
    "start_time": "2023-02-02T05:19:30.469Z"
   },
   {
    "duration": 24,
    "start_time": "2023-02-02T05:22:09.110Z"
   },
   {
    "duration": 22,
    "start_time": "2023-02-02T05:25:49.396Z"
   },
   {
    "duration": 12,
    "start_time": "2023-02-02T05:26:04.127Z"
   },
   {
    "duration": 13,
    "start_time": "2023-02-02T05:26:25.627Z"
   },
   {
    "duration": 4,
    "start_time": "2023-02-02T05:26:31.622Z"
   },
   {
    "duration": 93,
    "start_time": "2023-02-02T05:26:31.629Z"
   },
   {
    "duration": 18,
    "start_time": "2023-02-02T05:26:31.724Z"
   },
   {
    "duration": 38,
    "start_time": "2023-02-02T05:26:31.744Z"
   },
   {
    "duration": 29,
    "start_time": "2023-02-02T05:26:31.785Z"
   },
   {
    "duration": 18,
    "start_time": "2023-02-02T05:26:31.816Z"
   },
   {
    "duration": 22,
    "start_time": "2023-02-02T05:26:31.836Z"
   },
   {
    "duration": 15,
    "start_time": "2023-02-02T05:26:31.860Z"
   },
   {
    "duration": 12,
    "start_time": "2023-02-02T05:26:35.808Z"
   },
   {
    "duration": 16,
    "start_time": "2023-02-02T05:26:55.204Z"
   },
   {
    "duration": 21,
    "start_time": "2023-02-02T05:31:40.837Z"
   },
   {
    "duration": 15,
    "start_time": "2023-02-02T05:32:37.102Z"
   },
   {
    "duration": 11,
    "start_time": "2023-02-02T05:32:43.400Z"
   },
   {
    "duration": 13,
    "start_time": "2023-02-02T05:32:47.566Z"
   },
   {
    "duration": 13,
    "start_time": "2023-02-02T05:32:58.529Z"
   },
   {
    "duration": 13,
    "start_time": "2023-02-02T05:33:24.878Z"
   },
   {
    "duration": 7,
    "start_time": "2023-02-02T05:34:54.113Z"
   },
   {
    "duration": 11,
    "start_time": "2023-02-02T05:38:16.446Z"
   },
   {
    "duration": 12428,
    "start_time": "2023-02-02T05:38:33.123Z"
   },
   {
    "duration": 4,
    "start_time": "2023-02-02T05:38:48.915Z"
   },
   {
    "duration": 12451,
    "start_time": "2023-02-02T05:41:42.133Z"
   },
   {
    "duration": 0,
    "start_time": "2023-02-02T05:42:49.543Z"
   },
   {
    "duration": 12522,
    "start_time": "2023-02-02T05:43:33.506Z"
   },
   {
    "duration": 8,
    "start_time": "2023-02-02T05:43:55.183Z"
   },
   {
    "duration": 12570,
    "start_time": "2023-02-02T05:44:47.043Z"
   },
   {
    "duration": 9,
    "start_time": "2023-02-02T05:45:32.438Z"
   },
   {
    "duration": 12,
    "start_time": "2023-02-02T05:45:46.040Z"
   },
   {
    "duration": 9,
    "start_time": "2023-02-02T05:46:44.267Z"
   },
   {
    "duration": 7,
    "start_time": "2023-02-02T05:47:17.086Z"
   },
   {
    "duration": 10401,
    "start_time": "2023-02-02T05:47:21.702Z"
   },
   {
    "duration": 4,
    "start_time": "2023-02-02T05:47:33.468Z"
   },
   {
    "duration": 53,
    "start_time": "2023-02-02T05:50:58.534Z"
   },
   {
    "duration": 11,
    "start_time": "2023-02-02T05:51:08.568Z"
   },
   {
    "duration": 10,
    "start_time": "2023-02-02T05:51:15.356Z"
   },
   {
    "duration": 11,
    "start_time": "2023-02-02T05:55:59.258Z"
   },
   {
    "duration": 51,
    "start_time": "2023-02-02T05:56:00.662Z"
   },
   {
    "duration": 84,
    "start_time": "2023-02-02T05:56:06.045Z"
   },
   {
    "duration": 76,
    "start_time": "2023-02-02T05:56:33.330Z"
   },
   {
    "duration": 38125,
    "start_time": "2023-02-02T06:00:21.809Z"
   },
   {
    "duration": 24,
    "start_time": "2023-02-02T06:01:04.157Z"
   },
   {
    "duration": 3,
    "start_time": "2023-02-02T06:01:24.884Z"
   },
   {
    "duration": 2077,
    "start_time": "2023-02-02T06:09:19.190Z"
   },
   {
    "duration": 5,
    "start_time": "2023-02-02T06:10:02.321Z"
   },
   {
    "duration": 5,
    "start_time": "2023-02-02T06:11:12.383Z"
   },
   {
    "duration": 21,
    "start_time": "2023-02-02T06:11:30.647Z"
   },
   {
    "duration": 21,
    "start_time": "2023-02-02T06:58:34.321Z"
   },
   {
    "duration": 8,
    "start_time": "2023-02-02T06:59:01.970Z"
   },
   {
    "duration": 11,
    "start_time": "2023-02-02T06:59:16.684Z"
   },
   {
    "duration": 9,
    "start_time": "2023-02-02T06:59:40.522Z"
   },
   {
    "duration": 36374,
    "start_time": "2023-02-02T06:59:41.907Z"
   },
   {
    "duration": 4,
    "start_time": "2023-02-02T07:01:17.170Z"
   },
   {
    "duration": 3,
    "start_time": "2023-02-02T07:01:57.509Z"
   },
   {
    "duration": 67,
    "start_time": "2023-02-02T07:01:57.514Z"
   },
   {
    "duration": 20,
    "start_time": "2023-02-02T07:01:57.583Z"
   },
   {
    "duration": 21,
    "start_time": "2023-02-02T07:01:57.605Z"
   },
   {
    "duration": 23,
    "start_time": "2023-02-02T07:01:57.629Z"
   },
   {
    "duration": 15,
    "start_time": "2023-02-02T07:01:57.654Z"
   },
   {
    "duration": 29,
    "start_time": "2023-02-02T07:01:57.670Z"
   },
   {
    "duration": 15,
    "start_time": "2023-02-02T07:01:57.703Z"
   },
   {
    "duration": 24,
    "start_time": "2023-02-02T07:01:57.720Z"
   },
   {
    "duration": 22,
    "start_time": "2023-02-02T07:01:57.746Z"
   },
   {
    "duration": 13,
    "start_time": "2023-02-02T07:01:57.770Z"
   },
   {
    "duration": 13,
    "start_time": "2023-02-02T07:01:57.785Z"
   },
   {
    "duration": 38415,
    "start_time": "2023-02-02T07:01:57.801Z"
   },
   {
    "duration": 9,
    "start_time": "2023-02-02T07:02:36.218Z"
   },
   {
    "duration": 4,
    "start_time": "2023-02-02T07:03:47.710Z"
   },
   {
    "duration": 83,
    "start_time": "2023-02-02T07:03:47.716Z"
   },
   {
    "duration": 17,
    "start_time": "2023-02-02T07:03:47.801Z"
   },
   {
    "duration": 15,
    "start_time": "2023-02-02T07:03:47.820Z"
   },
   {
    "duration": 28,
    "start_time": "2023-02-02T07:03:47.837Z"
   },
   {
    "duration": 16,
    "start_time": "2023-02-02T07:03:47.867Z"
   },
   {
    "duration": 30,
    "start_time": "2023-02-02T07:03:47.893Z"
   },
   {
    "duration": 19,
    "start_time": "2023-02-02T07:03:47.925Z"
   },
   {
    "duration": 13,
    "start_time": "2023-02-02T07:03:47.946Z"
   },
   {
    "duration": 29,
    "start_time": "2023-02-02T07:03:47.961Z"
   },
   {
    "duration": 10,
    "start_time": "2023-02-02T07:03:47.993Z"
   },
   {
    "duration": 25,
    "start_time": "2023-02-02T07:03:48.007Z"
   },
   {
    "duration": 43064,
    "start_time": "2023-02-02T07:03:48.034Z"
   },
   {
    "duration": 4,
    "start_time": "2023-02-02T07:04:37.020Z"
   },
   {
    "duration": 10,
    "start_time": "2023-02-02T07:06:34.364Z"
   },
   {
    "duration": 10,
    "start_time": "2023-02-02T07:06:39.937Z"
   },
   {
    "duration": 3,
    "start_time": "2023-02-02T07:06:52.133Z"
   },
   {
    "duration": 5,
    "start_time": "2023-02-02T07:06:57.113Z"
   },
   {
    "duration": 3,
    "start_time": "2023-02-02T07:07:05.354Z"
   },
   {
    "duration": 66,
    "start_time": "2023-02-02T07:07:05.358Z"
   },
   {
    "duration": 16,
    "start_time": "2023-02-02T07:07:05.427Z"
   },
   {
    "duration": 88,
    "start_time": "2023-02-02T07:07:05.445Z"
   },
   {
    "duration": 30,
    "start_time": "2023-02-02T07:07:05.535Z"
   },
   {
    "duration": 9,
    "start_time": "2023-02-02T07:07:05.567Z"
   },
   {
    "duration": 9,
    "start_time": "2023-02-02T07:07:05.578Z"
   },
   {
    "duration": 13,
    "start_time": "2023-02-02T07:07:05.589Z"
   },
   {
    "duration": 21,
    "start_time": "2023-02-02T07:07:05.604Z"
   },
   {
    "duration": 39,
    "start_time": "2023-02-02T07:07:05.627Z"
   },
   {
    "duration": 4,
    "start_time": "2023-02-02T07:07:05.668Z"
   },
   {
    "duration": 18,
    "start_time": "2023-02-02T07:07:05.674Z"
   },
   {
    "duration": 38864,
    "start_time": "2023-02-02T07:07:05.694Z"
   },
   {
    "duration": 3,
    "start_time": "2023-02-02T07:07:44.560Z"
   },
   {
    "duration": 3,
    "start_time": "2023-02-02T07:08:46.381Z"
   },
   {
    "duration": 60,
    "start_time": "2023-02-02T07:08:46.386Z"
   },
   {
    "duration": 14,
    "start_time": "2023-02-02T07:08:46.448Z"
   },
   {
    "duration": 18,
    "start_time": "2023-02-02T07:08:46.464Z"
   },
   {
    "duration": 28,
    "start_time": "2023-02-02T07:08:46.484Z"
   },
   {
    "duration": 12,
    "start_time": "2023-02-02T07:08:46.514Z"
   },
   {
    "duration": 10,
    "start_time": "2023-02-02T07:08:46.528Z"
   },
   {
    "duration": 20,
    "start_time": "2023-02-02T07:08:46.540Z"
   },
   {
    "duration": 18,
    "start_time": "2023-02-02T07:08:46.561Z"
   },
   {
    "duration": 37,
    "start_time": "2023-02-02T07:08:46.580Z"
   },
   {
    "duration": 7,
    "start_time": "2023-02-02T07:08:49.252Z"
   },
   {
    "duration": 10,
    "start_time": "2023-02-02T07:09:07.025Z"
   },
   {
    "duration": 36308,
    "start_time": "2023-02-02T07:09:09.591Z"
   },
   {
    "duration": 3,
    "start_time": "2023-02-02T07:09:45.901Z"
   },
   {
    "duration": 3,
    "start_time": "2023-02-02T07:09:57.350Z"
   },
   {
    "duration": 65,
    "start_time": "2023-02-02T07:09:57.355Z"
   },
   {
    "duration": 16,
    "start_time": "2023-02-02T07:09:57.422Z"
   },
   {
    "duration": 21,
    "start_time": "2023-02-02T07:09:57.440Z"
   },
   {
    "duration": 33,
    "start_time": "2023-02-02T07:09:57.464Z"
   },
   {
    "duration": 20,
    "start_time": "2023-02-02T07:09:57.499Z"
   },
   {
    "duration": 14,
    "start_time": "2023-02-02T07:09:57.520Z"
   },
   {
    "duration": 13,
    "start_time": "2023-02-02T07:09:57.536Z"
   },
   {
    "duration": 10,
    "start_time": "2023-02-02T07:09:57.550Z"
   },
   {
    "duration": 21,
    "start_time": "2023-02-02T07:09:57.562Z"
   },
   {
    "duration": 11,
    "start_time": "2023-02-02T07:09:57.584Z"
   },
   {
    "duration": 18,
    "start_time": "2023-02-02T07:09:57.597Z"
   },
   {
    "duration": 37664,
    "start_time": "2023-02-02T07:09:57.617Z"
   },
   {
    "duration": 4,
    "start_time": "2023-02-02T07:10:51.305Z"
   },
   {
    "duration": 7,
    "start_time": "2023-02-02T07:14:37.433Z"
   },
   {
    "duration": 10,
    "start_time": "2023-02-02T07:14:39.501Z"
   },
   {
    "duration": 3,
    "start_time": "2023-02-02T07:14:41.932Z"
   },
   {
    "duration": 8,
    "start_time": "2023-02-02T07:14:58.785Z"
   },
   {
    "duration": 15,
    "start_time": "2023-02-02T07:15:00.493Z"
   },
   {
    "duration": 4,
    "start_time": "2023-02-02T07:15:02.335Z"
   },
   {
    "duration": 10,
    "start_time": "2023-02-02T07:17:09.388Z"
   },
   {
    "duration": 12,
    "start_time": "2023-02-02T07:20:26.612Z"
   },
   {
    "duration": 10,
    "start_time": "2023-02-02T07:20:43.298Z"
   },
   {
    "duration": 9,
    "start_time": "2023-02-02T07:20:58.482Z"
   },
   {
    "duration": 9,
    "start_time": "2023-02-02T07:21:27.134Z"
   },
   {
    "duration": 10,
    "start_time": "2023-02-02T07:21:51.369Z"
   },
   {
    "duration": 12,
    "start_time": "2023-02-02T07:21:59.314Z"
   },
   {
    "duration": 36979,
    "start_time": "2023-02-02T07:22:28.466Z"
   },
   {
    "duration": 4,
    "start_time": "2023-02-02T07:23:13.880Z"
   },
   {
    "duration": 4,
    "start_time": "2023-02-02T07:25:03.289Z"
   },
   {
    "duration": 78,
    "start_time": "2023-02-02T07:25:03.295Z"
   },
   {
    "duration": 15,
    "start_time": "2023-02-02T07:25:03.375Z"
   },
   {
    "duration": 36,
    "start_time": "2023-02-02T07:25:03.393Z"
   },
   {
    "duration": 23,
    "start_time": "2023-02-02T07:25:03.431Z"
   },
   {
    "duration": 12,
    "start_time": "2023-02-02T07:25:03.456Z"
   },
   {
    "duration": 14,
    "start_time": "2023-02-02T07:25:03.470Z"
   },
   {
    "duration": 26,
    "start_time": "2023-02-02T07:25:03.485Z"
   },
   {
    "duration": 19,
    "start_time": "2023-02-02T07:25:03.513Z"
   },
   {
    "duration": 33,
    "start_time": "2023-02-02T07:25:03.534Z"
   },
   {
    "duration": 3,
    "start_time": "2023-02-02T07:25:03.569Z"
   },
   {
    "duration": 32,
    "start_time": "2023-02-02T07:25:03.574Z"
   },
   {
    "duration": 35664,
    "start_time": "2023-02-02T07:25:03.608Z"
   },
   {
    "duration": 3,
    "start_time": "2023-02-02T07:25:39.275Z"
   },
   {
    "duration": 4,
    "start_time": "2023-02-02T07:25:55.789Z"
   },
   {
    "duration": 72,
    "start_time": "2023-02-02T07:25:55.796Z"
   },
   {
    "duration": 14,
    "start_time": "2023-02-02T07:25:55.869Z"
   },
   {
    "duration": 23,
    "start_time": "2023-02-02T07:25:55.884Z"
   },
   {
    "duration": 45,
    "start_time": "2023-02-02T07:25:55.911Z"
   },
   {
    "duration": 32,
    "start_time": "2023-02-02T07:25:55.958Z"
   },
   {
    "duration": 15,
    "start_time": "2023-02-02T07:25:55.998Z"
   },
   {
    "duration": 38,
    "start_time": "2023-02-02T07:25:56.015Z"
   },
   {
    "duration": 5,
    "start_time": "2023-02-02T07:25:56.055Z"
   },
   {
    "duration": 41,
    "start_time": "2023-02-02T07:25:56.062Z"
   },
   {
    "duration": 18,
    "start_time": "2023-02-02T07:25:56.106Z"
   },
   {
    "duration": 22,
    "start_time": "2023-02-02T07:25:56.128Z"
   },
   {
    "duration": 38468,
    "start_time": "2023-02-02T07:25:56.155Z"
   },
   {
    "duration": 4,
    "start_time": "2023-02-02T07:26:34.626Z"
   },
   {
    "duration": 2480,
    "start_time": "2023-02-02T07:29:07.284Z"
   },
   {
    "duration": 18,
    "start_time": "2023-02-02T07:36:04.340Z"
   },
   {
    "duration": 4,
    "start_time": "2023-02-02T07:36:20.819Z"
   },
   {
    "duration": 61,
    "start_time": "2023-02-02T07:36:20.825Z"
   },
   {
    "duration": 14,
    "start_time": "2023-02-02T07:36:20.888Z"
   },
   {
    "duration": 26,
    "start_time": "2023-02-02T07:36:20.904Z"
   },
   {
    "duration": 34,
    "start_time": "2023-02-02T07:36:20.932Z"
   },
   {
    "duration": 11,
    "start_time": "2023-02-02T07:36:29.966Z"
   },
   {
    "duration": 8,
    "start_time": "2023-02-02T07:36:46.156Z"
   },
   {
    "duration": 6,
    "start_time": "2023-02-02T07:36:55.520Z"
   },
   {
    "duration": 8,
    "start_time": "2023-02-02T07:37:09.463Z"
   },
   {
    "duration": 9,
    "start_time": "2023-02-02T07:37:59.610Z"
   },
   {
    "duration": 49,
    "start_time": "2023-02-02T07:39:37.453Z"
   },
   {
    "duration": 13,
    "start_time": "2023-02-02T07:39:42.878Z"
   },
   {
    "duration": 10,
    "start_time": "2023-02-02T07:39:59.965Z"
   },
   {
    "duration": 7,
    "start_time": "2023-02-02T07:40:20.087Z"
   },
   {
    "duration": 3,
    "start_time": "2023-02-02T07:41:40.826Z"
   },
   {
    "duration": 54,
    "start_time": "2023-02-02T07:41:40.832Z"
   },
   {
    "duration": 14,
    "start_time": "2023-02-02T07:41:40.888Z"
   },
   {
    "duration": 26,
    "start_time": "2023-02-02T07:41:40.904Z"
   },
   {
    "duration": 20,
    "start_time": "2023-02-02T07:41:40.933Z"
   },
   {
    "duration": 11,
    "start_time": "2023-02-02T07:41:40.955Z"
   },
   {
    "duration": 32,
    "start_time": "2023-02-02T07:41:40.968Z"
   },
   {
    "duration": 26,
    "start_time": "2023-02-02T07:41:41.001Z"
   },
   {
    "duration": 8,
    "start_time": "2023-02-02T07:41:41.029Z"
   },
   {
    "duration": 22,
    "start_time": "2023-02-02T07:41:41.039Z"
   },
   {
    "duration": 32,
    "start_time": "2023-02-02T07:41:41.062Z"
   },
   {
    "duration": 22,
    "start_time": "2023-02-02T07:41:41.096Z"
   },
   {
    "duration": 34533,
    "start_time": "2023-02-02T07:41:41.121Z"
   },
   {
    "duration": 4,
    "start_time": "2023-02-02T07:42:15.657Z"
   },
   {
    "duration": 4692,
    "start_time": "2023-02-02T07:42:32.493Z"
   },
   {
    "duration": 7,
    "start_time": "2023-02-02T07:43:18.988Z"
   },
   {
    "duration": 4647,
    "start_time": "2023-02-02T07:45:57.684Z"
   },
   {
    "duration": 4789,
    "start_time": "2023-02-02T07:46:23.085Z"
   },
   {
    "duration": 6765,
    "start_time": "2023-02-02T07:46:50.421Z"
   },
   {
    "duration": 10,
    "start_time": "2023-02-02T07:47:25.287Z"
   },
   {
    "duration": 10,
    "start_time": "2023-02-02T07:47:33.904Z"
   },
   {
    "duration": 3,
    "start_time": "2023-02-02T07:53:03.856Z"
   },
   {
    "duration": 72,
    "start_time": "2023-02-02T07:53:03.860Z"
   },
   {
    "duration": 18,
    "start_time": "2023-02-02T07:53:03.935Z"
   },
   {
    "duration": 24,
    "start_time": "2023-02-02T07:53:03.955Z"
   },
   {
    "duration": 27,
    "start_time": "2023-02-02T07:53:03.982Z"
   },
   {
    "duration": 12,
    "start_time": "2023-02-02T07:53:04.011Z"
   },
   {
    "duration": 23,
    "start_time": "2023-02-02T07:53:04.025Z"
   },
   {
    "duration": 12,
    "start_time": "2023-02-02T07:53:04.050Z"
   },
   {
    "duration": 37,
    "start_time": "2023-02-02T07:53:04.064Z"
   },
   {
    "duration": 19,
    "start_time": "2023-02-02T07:53:04.105Z"
   },
   {
    "duration": 5,
    "start_time": "2023-02-02T07:53:04.126Z"
   },
   {
    "duration": 16,
    "start_time": "2023-02-02T07:53:04.133Z"
   },
   {
    "duration": 41093,
    "start_time": "2023-02-02T07:53:04.151Z"
   },
   {
    "duration": 7,
    "start_time": "2023-02-02T07:53:45.250Z"
   },
   {
    "duration": 30,
    "start_time": "2023-02-02T07:53:45.260Z"
   },
   {
    "duration": 7675,
    "start_time": "2023-02-02T07:53:45.297Z"
   },
   {
    "duration": 9,
    "start_time": "2023-02-02T07:53:56.749Z"
   },
   {
    "duration": 6481,
    "start_time": "2023-02-02T08:00:40.222Z"
   },
   {
    "duration": 11,
    "start_time": "2023-02-02T08:00:51.185Z"
   },
   {
    "duration": 5219,
    "start_time": "2023-02-02T08:01:17.188Z"
   },
   {
    "duration": 10,
    "start_time": "2023-02-02T08:01:27.018Z"
   },
   {
    "duration": 3,
    "start_time": "2023-02-02T08:01:56.875Z"
   },
   {
    "duration": 69,
    "start_time": "2023-02-02T08:01:56.880Z"
   },
   {
    "duration": 15,
    "start_time": "2023-02-02T08:01:56.950Z"
   },
   {
    "duration": 17,
    "start_time": "2023-02-02T08:01:56.966Z"
   },
   {
    "duration": 27,
    "start_time": "2023-02-02T08:01:56.985Z"
   },
   {
    "duration": 20,
    "start_time": "2023-02-02T08:01:57.014Z"
   },
   {
    "duration": 22,
    "start_time": "2023-02-02T08:01:57.035Z"
   },
   {
    "duration": 10,
    "start_time": "2023-02-02T08:01:57.058Z"
   },
   {
    "duration": 21,
    "start_time": "2023-02-02T08:01:57.070Z"
   },
   {
    "duration": 20,
    "start_time": "2023-02-02T08:01:57.093Z"
   },
   {
    "duration": 13,
    "start_time": "2023-02-02T08:01:57.115Z"
   },
   {
    "duration": 17,
    "start_time": "2023-02-02T08:01:57.129Z"
   },
   {
    "duration": 35270,
    "start_time": "2023-02-02T08:01:57.149Z"
   },
   {
    "duration": 4,
    "start_time": "2023-02-02T08:02:32.421Z"
   },
   {
    "duration": 9,
    "start_time": "2023-02-02T08:02:32.427Z"
   },
   {
    "duration": 6111,
    "start_time": "2023-02-02T08:02:32.437Z"
   },
   {
    "duration": 8,
    "start_time": "2023-02-02T08:02:38.549Z"
   },
   {
    "duration": 6312,
    "start_time": "2023-02-02T08:04:20.068Z"
   },
   {
    "duration": 9,
    "start_time": "2023-02-02T08:04:30.253Z"
   },
   {
    "duration": 5,
    "start_time": "2023-02-02T08:05:21.296Z"
   },
   {
    "duration": 76,
    "start_time": "2023-02-02T08:05:21.305Z"
   },
   {
    "duration": 19,
    "start_time": "2023-02-02T08:05:21.383Z"
   },
   {
    "duration": 21,
    "start_time": "2023-02-02T08:05:21.405Z"
   },
   {
    "duration": 21,
    "start_time": "2023-02-02T08:05:21.429Z"
   },
   {
    "duration": 12,
    "start_time": "2023-02-02T08:05:21.452Z"
   },
   {
    "duration": 25,
    "start_time": "2023-02-02T08:05:21.493Z"
   },
   {
    "duration": 10,
    "start_time": "2023-02-02T08:05:21.520Z"
   },
   {
    "duration": 20,
    "start_time": "2023-02-02T08:05:21.532Z"
   },
   {
    "duration": 20,
    "start_time": "2023-02-02T08:05:21.553Z"
   },
   {
    "duration": 23,
    "start_time": "2023-02-02T08:05:21.574Z"
   },
   {
    "duration": 13,
    "start_time": "2023-02-02T08:05:21.600Z"
   },
   {
    "duration": 36439,
    "start_time": "2023-02-02T08:05:21.617Z"
   },
   {
    "duration": 4,
    "start_time": "2023-02-02T08:05:58.058Z"
   },
   {
    "duration": 16,
    "start_time": "2023-02-02T08:05:58.063Z"
   },
   {
    "duration": 6258,
    "start_time": "2023-02-02T08:06:02.791Z"
   },
   {
    "duration": 4757,
    "start_time": "2023-02-02T08:06:20.723Z"
   },
   {
    "duration": 6536,
    "start_time": "2023-02-02T08:07:10.393Z"
   },
   {
    "duration": 9,
    "start_time": "2023-02-02T08:07:18.079Z"
   },
   {
    "duration": 24,
    "start_time": "2023-02-02T08:08:37.114Z"
   },
   {
    "duration": 18,
    "start_time": "2023-02-02T08:11:00.990Z"
   },
   {
    "duration": 21,
    "start_time": "2023-02-02T08:11:12.618Z"
   },
   {
    "duration": 4,
    "start_time": "2023-02-02T08:14:27.197Z"
   },
   {
    "duration": 66,
    "start_time": "2023-02-02T08:14:27.203Z"
   },
   {
    "duration": 15,
    "start_time": "2023-02-02T08:14:27.270Z"
   },
   {
    "duration": 35,
    "start_time": "2023-02-02T08:14:27.286Z"
   },
   {
    "duration": 25,
    "start_time": "2023-02-02T08:14:27.323Z"
   },
   {
    "duration": 23,
    "start_time": "2023-02-02T08:14:37.011Z"
   },
   {
    "duration": 33,
    "start_time": "2023-02-02T08:14:51.560Z"
   },
   {
    "duration": 19,
    "start_time": "2023-02-02T08:15:18.055Z"
   },
   {
    "duration": 20,
    "start_time": "2023-02-02T08:15:33.099Z"
   },
   {
    "duration": 19,
    "start_time": "2023-02-02T08:17:11.414Z"
   },
   {
    "duration": 9,
    "start_time": "2023-02-02T08:21:35.967Z"
   },
   {
    "duration": 4,
    "start_time": "2023-02-02T08:21:46.594Z"
   },
   {
    "duration": 72,
    "start_time": "2023-02-02T08:21:46.599Z"
   },
   {
    "duration": 14,
    "start_time": "2023-02-02T08:21:46.672Z"
   },
   {
    "duration": 28,
    "start_time": "2023-02-02T08:21:46.688Z"
   },
   {
    "duration": 30,
    "start_time": "2023-02-02T08:21:46.719Z"
   },
   {
    "duration": 16,
    "start_time": "2023-02-02T08:21:46.751Z"
   },
   {
    "duration": 24,
    "start_time": "2023-02-02T08:21:46.769Z"
   },
   {
    "duration": 11,
    "start_time": "2023-02-02T08:21:46.794Z"
   },
   {
    "duration": 19,
    "start_time": "2023-02-02T08:21:46.807Z"
   },
   {
    "duration": 19,
    "start_time": "2023-02-02T08:21:46.828Z"
   },
   {
    "duration": 5,
    "start_time": "2023-02-02T08:21:46.849Z"
   },
   {
    "duration": 22,
    "start_time": "2023-02-02T08:21:46.856Z"
   },
   {
    "duration": 32101,
    "start_time": "2023-02-02T08:21:46.880Z"
   },
   {
    "duration": 8,
    "start_time": "2023-02-02T08:22:18.984Z"
   },
   {
    "duration": 6,
    "start_time": "2023-02-02T08:22:18.993Z"
   },
   {
    "duration": 5683,
    "start_time": "2023-02-02T08:22:19.001Z"
   },
   {
    "duration": 24,
    "start_time": "2023-02-02T08:22:24.685Z"
   },
   {
    "duration": 6,
    "start_time": "2023-02-02T08:29:00.930Z"
   },
   {
    "duration": 6,
    "start_time": "2023-02-02T08:46:20.145Z"
   },
   {
    "duration": 23,
    "start_time": "2023-02-02T08:46:28.260Z"
   },
   {
    "duration": 5,
    "start_time": "2023-02-02T08:46:40.722Z"
   },
   {
    "duration": 173,
    "start_time": "2023-02-02T08:55:58.370Z"
   },
   {
    "duration": 16,
    "start_time": "2023-02-02T08:56:35.925Z"
   },
   {
    "duration": 179,
    "start_time": "2023-02-02T08:56:56.742Z"
   },
   {
    "duration": 205,
    "start_time": "2023-02-02T08:57:03.892Z"
   },
   {
    "duration": 155,
    "start_time": "2023-02-02T08:57:09.176Z"
   },
   {
    "duration": 142,
    "start_time": "2023-02-02T08:57:13.922Z"
   },
   {
    "duration": 153,
    "start_time": "2023-02-02T08:57:18.717Z"
   },
   {
    "duration": 130,
    "start_time": "2023-02-02T08:57:28.053Z"
   },
   {
    "duration": 351,
    "start_time": "2023-02-02T08:57:41.907Z"
   },
   {
    "duration": 245,
    "start_time": "2023-02-02T08:57:55.213Z"
   },
   {
    "duration": 255,
    "start_time": "2023-02-02T08:58:04.776Z"
   },
   {
    "duration": 249,
    "start_time": "2023-02-02T08:58:10.737Z"
   },
   {
    "duration": 241,
    "start_time": "2023-02-02T08:58:15.484Z"
   },
   {
    "duration": 270,
    "start_time": "2023-02-02T08:58:22.391Z"
   },
   {
    "duration": 289,
    "start_time": "2023-02-02T08:58:43.765Z"
   },
   {
    "duration": 272,
    "start_time": "2023-02-02T08:58:51.502Z"
   },
   {
    "duration": 209,
    "start_time": "2023-02-02T08:58:59.669Z"
   },
   {
    "duration": 851,
    "start_time": "2023-02-02T10:26:25.286Z"
   },
   {
    "duration": 131,
    "start_time": "2023-02-02T10:26:39.146Z"
   },
   {
    "duration": 8,
    "start_time": "2023-02-02T10:27:12.365Z"
   },
   {
    "duration": 8,
    "start_time": "2023-02-02T10:27:21.964Z"
   },
   {
    "duration": 16,
    "start_time": "2023-02-02T10:30:16.469Z"
   },
   {
    "duration": 18,
    "start_time": "2023-02-02T10:30:23.200Z"
   },
   {
    "duration": 8,
    "start_time": "2023-02-02T10:30:32.290Z"
   },
   {
    "duration": 8,
    "start_time": "2023-02-02T10:30:47.242Z"
   },
   {
    "duration": 8,
    "start_time": "2023-02-02T10:34:27.853Z"
   },
   {
    "duration": 8,
    "start_time": "2023-02-02T10:34:32.299Z"
   },
   {
    "duration": 5,
    "start_time": "2023-02-02T10:35:56.161Z"
   },
   {
    "duration": 15,
    "start_time": "2023-02-02T10:39:41.194Z"
   },
   {
    "duration": 7,
    "start_time": "2023-02-02T10:39:50.680Z"
   },
   {
    "duration": 9,
    "start_time": "2023-02-02T10:40:02.625Z"
   },
   {
    "duration": 9,
    "start_time": "2023-02-02T10:40:15.142Z"
   },
   {
    "duration": 8,
    "start_time": "2023-02-02T10:40:31.400Z"
   },
   {
    "duration": 9,
    "start_time": "2023-02-02T10:41:05.876Z"
   },
   {
    "duration": 1248,
    "start_time": "2023-02-02T10:41:22.744Z"
   },
   {
    "duration": 10,
    "start_time": "2023-02-02T10:41:34.503Z"
   },
   {
    "duration": 7,
    "start_time": "2023-02-02T10:41:37.376Z"
   },
   {
    "duration": 818,
    "start_time": "2023-02-02T10:41:53.665Z"
   },
   {
    "duration": 8,
    "start_time": "2023-02-02T10:42:19.466Z"
   },
   {
    "duration": 17,
    "start_time": "2023-02-02T10:43:54.652Z"
   },
   {
    "duration": 9,
    "start_time": "2023-02-02T10:44:56.114Z"
   },
   {
    "duration": 12,
    "start_time": "2023-02-02T10:45:25.662Z"
   },
   {
    "duration": 16,
    "start_time": "2023-02-02T10:45:29.192Z"
   },
   {
    "duration": 17,
    "start_time": "2023-02-02T10:47:54.230Z"
   },
   {
    "duration": 19,
    "start_time": "2023-02-02T10:48:07.772Z"
   },
   {
    "duration": 17,
    "start_time": "2023-02-02T10:48:14.046Z"
   },
   {
    "duration": 16,
    "start_time": "2023-02-02T10:48:19.640Z"
   },
   {
    "duration": 220,
    "start_time": "2023-02-02T10:49:20.628Z"
   },
   {
    "duration": 418,
    "start_time": "2023-02-02T10:49:51.091Z"
   },
   {
    "duration": 12,
    "start_time": "2023-02-02T10:50:11.096Z"
   },
   {
    "duration": 25,
    "start_time": "2023-02-02T10:50:16.331Z"
   },
   {
    "duration": 19,
    "start_time": "2023-02-02T10:50:22.809Z"
   },
   {
    "duration": 18,
    "start_time": "2023-02-02T10:50:46.390Z"
   },
   {
    "duration": 18,
    "start_time": "2023-02-02T10:51:08.310Z"
   },
   {
    "duration": 207,
    "start_time": "2023-02-02T10:51:26.327Z"
   },
   {
    "duration": 20,
    "start_time": "2023-02-02T10:51:37.119Z"
   },
   {
    "duration": 196,
    "start_time": "2023-02-02T10:52:03.055Z"
   },
   {
    "duration": 194,
    "start_time": "2023-02-02T10:52:16.635Z"
   },
   {
    "duration": 197,
    "start_time": "2023-02-02T10:52:21.973Z"
   },
   {
    "duration": 20,
    "start_time": "2023-02-02T10:52:28.535Z"
   },
   {
    "duration": 21,
    "start_time": "2023-02-02T10:54:46.627Z"
   },
   {
    "duration": 21,
    "start_time": "2023-02-02T10:55:01.408Z"
   },
   {
    "duration": 21,
    "start_time": "2023-02-02T10:56:07.753Z"
   },
   {
    "duration": 4128,
    "start_time": "2023-02-02T10:56:20.630Z"
   },
   {
    "duration": 25,
    "start_time": "2023-02-02T10:59:29.293Z"
   },
   {
    "duration": 17,
    "start_time": "2023-02-02T11:02:26.756Z"
   },
   {
    "duration": 17,
    "start_time": "2023-02-02T11:02:32.302Z"
   },
   {
    "duration": 23,
    "start_time": "2023-02-02T11:02:58.322Z"
   },
   {
    "duration": 26,
    "start_time": "2023-02-02T11:05:44.623Z"
   },
   {
    "duration": 954,
    "start_time": "2023-02-02T11:09:15.459Z"
   },
   {
    "duration": 17,
    "start_time": "2023-02-02T11:09:40.331Z"
   },
   {
    "duration": 2189,
    "start_time": "2023-02-02T11:09:42.573Z"
   },
   {
    "duration": 152,
    "start_time": "2023-02-02T11:09:57.113Z"
   },
   {
    "duration": 150,
    "start_time": "2023-02-02T11:10:46.371Z"
   },
   {
    "duration": 125,
    "start_time": "2023-02-02T11:10:55.704Z"
   },
   {
    "duration": 121,
    "start_time": "2023-02-02T11:11:06.803Z"
   },
   {
    "duration": 135,
    "start_time": "2023-02-02T11:11:14.943Z"
   },
   {
    "duration": 178,
    "start_time": "2023-02-02T11:11:35.629Z"
   },
   {
    "duration": 303,
    "start_time": "2023-02-02T11:11:47.183Z"
   },
   {
    "duration": 132,
    "start_time": "2023-02-02T11:12:04.282Z"
   },
   {
    "duration": 135,
    "start_time": "2023-02-02T11:12:20.876Z"
   },
   {
    "duration": 195,
    "start_time": "2023-02-02T11:13:10.689Z"
   },
   {
    "duration": 140,
    "start_time": "2023-02-02T11:13:59.343Z"
   },
   {
    "duration": 138,
    "start_time": "2023-02-02T11:15:49.436Z"
   },
   {
    "duration": 199,
    "start_time": "2023-02-02T11:15:51.772Z"
   },
   {
    "duration": 875,
    "start_time": "2023-02-02T11:17:50.618Z"
   },
   {
    "duration": 139,
    "start_time": "2023-02-02T11:18:28.471Z"
   },
   {
    "duration": 217,
    "start_time": "2023-02-02T11:19:10.297Z"
   },
   {
    "duration": 767,
    "start_time": "2023-02-02T11:19:21.127Z"
   },
   {
    "duration": 212,
    "start_time": "2023-02-02T11:19:52.612Z"
   },
   {
    "duration": 252,
    "start_time": "2023-02-02T11:20:12.546Z"
   },
   {
    "duration": 25,
    "start_time": "2023-02-02T11:20:49.187Z"
   },
   {
    "duration": 224,
    "start_time": "2023-02-02T11:20:53.299Z"
   },
   {
    "duration": 19,
    "start_time": "2023-02-02T11:23:56.603Z"
   },
   {
    "duration": 22,
    "start_time": "2023-02-02T11:23:58.627Z"
   },
   {
    "duration": 491,
    "start_time": "2023-02-02T11:24:00.836Z"
   },
   {
    "duration": 19,
    "start_time": "2023-02-02T11:24:34.253Z"
   },
   {
    "duration": 26,
    "start_time": "2023-02-02T11:24:36.480Z"
   },
   {
    "duration": 376,
    "start_time": "2023-02-02T11:24:38.160Z"
   },
   {
    "duration": 17,
    "start_time": "2023-02-02T11:25:57.568Z"
   },
   {
    "duration": 18,
    "start_time": "2023-02-02T11:26:01.907Z"
   },
   {
    "duration": 18,
    "start_time": "2023-02-02T11:26:07.822Z"
   },
   {
    "duration": 19,
    "start_time": "2023-02-02T11:26:11.280Z"
   },
   {
    "duration": 23,
    "start_time": "2023-02-02T11:26:12.755Z"
   },
   {
    "duration": 193,
    "start_time": "2023-02-02T11:26:15.666Z"
   },
   {
    "duration": 52,
    "start_time": "2023-02-02T11:36:33.039Z"
   },
   {
    "duration": 131,
    "start_time": "2023-02-02T11:36:36.917Z"
   },
   {
    "duration": 150,
    "start_time": "2023-02-02T11:36:44.642Z"
   },
   {
    "duration": 244,
    "start_time": "2023-02-02T11:37:01.037Z"
   },
   {
    "duration": 219,
    "start_time": "2023-02-02T11:37:52.789Z"
   },
   {
    "duration": 946,
    "start_time": "2023-02-02T11:41:25.465Z"
   },
   {
    "duration": 688,
    "start_time": "2023-02-02T11:41:43.528Z"
   },
   {
    "duration": 680,
    "start_time": "2023-02-02T11:42:41.244Z"
   },
   {
    "duration": 819,
    "start_time": "2023-02-02T11:42:49.525Z"
   },
   {
    "duration": 672,
    "start_time": "2023-02-02T11:43:02.346Z"
   },
   {
    "duration": 681,
    "start_time": "2023-02-02T11:46:05.493Z"
   },
   {
    "duration": 869,
    "start_time": "2023-02-02T11:46:19.920Z"
   },
   {
    "duration": 14,
    "start_time": "2023-02-02T11:47:12.960Z"
   },
   {
    "duration": 316,
    "start_time": "2023-02-02T11:52:23.253Z"
   },
   {
    "duration": 1178,
    "start_time": "2023-02-05T18:04:06.540Z"
   },
   {
    "duration": 194,
    "start_time": "2023-02-05T18:04:07.720Z"
   },
   {
    "duration": 22,
    "start_time": "2023-02-05T18:04:07.916Z"
   },
   {
    "duration": 13,
    "start_time": "2023-02-05T18:04:07.940Z"
   },
   {
    "duration": 21,
    "start_time": "2023-02-05T18:04:07.954Z"
   },
   {
    "duration": 11,
    "start_time": "2023-02-05T18:04:07.977Z"
   },
   {
    "duration": 20,
    "start_time": "2023-02-05T18:04:07.989Z"
   },
   {
    "duration": 39,
    "start_time": "2023-02-05T18:04:08.010Z"
   },
   {
    "duration": 11,
    "start_time": "2023-02-05T18:04:08.051Z"
   },
   {
    "duration": 18,
    "start_time": "2023-02-05T18:04:08.065Z"
   },
   {
    "duration": 6,
    "start_time": "2023-02-05T18:04:08.085Z"
   },
   {
    "duration": 11,
    "start_time": "2023-02-05T18:04:08.092Z"
   },
   {
    "duration": 29448,
    "start_time": "2023-02-05T18:04:08.105Z"
   },
   {
    "duration": 3,
    "start_time": "2023-02-05T18:04:37.555Z"
   },
   {
    "duration": 7,
    "start_time": "2023-02-05T18:04:37.559Z"
   },
   {
    "duration": 5336,
    "start_time": "2023-02-05T18:04:37.568Z"
   },
   {
    "duration": 16,
    "start_time": "2023-02-05T18:04:42.906Z"
   },
   {
    "duration": 17,
    "start_time": "2023-02-05T18:04:42.923Z"
   },
   {
    "duration": 39,
    "start_time": "2023-02-05T18:04:42.942Z"
   },
   {
    "duration": 4,
    "start_time": "2023-02-05T18:04:42.983Z"
   },
   {
    "duration": 11,
    "start_time": "2023-02-05T18:04:42.989Z"
   },
   {
    "duration": 197,
    "start_time": "2023-02-05T18:04:43.001Z"
   },
   {
    "duration": 17,
    "start_time": "2023-02-05T18:04:43.199Z"
   },
   {
    "duration": 31,
    "start_time": "2023-02-05T18:04:43.218Z"
   },
   {
    "duration": 190,
    "start_time": "2023-02-05T18:04:43.250Z"
   },
   {
    "duration": 8,
    "start_time": "2023-02-05T18:04:43.441Z"
   },
   {
    "duration": 250,
    "start_time": "2023-02-05T18:04:43.450Z"
   },
   {
    "duration": 10,
    "start_time": "2023-02-05T18:05:04.608Z"
   }
  ],
  "kernelspec": {
   "display_name": "Python 3",
   "language": "python",
   "name": "python3"
  },
  "language_info": {
   "codemirror_mode": {
    "name": "ipython",
    "version": 3
   },
   "file_extension": ".py",
   "mimetype": "text/x-python",
   "name": "python",
   "nbconvert_exporter": "python",
   "pygments_lexer": "ipython3",
   "version": "3.7.2"
  },
  "toc": {
   "base_numbering": 1,
   "nav_menu": {},
   "number_sections": true,
   "sideBar": true,
   "skip_h1_title": true,
   "title_cell": "Table of Contents",
   "title_sidebar": "Contents",
   "toc_cell": false,
   "toc_position": {
    "height": "calc(100% - 180px)",
    "left": "10px",
    "top": "150px",
    "width": "165px"
   },
   "toc_section_display": true,
   "toc_window_display": true
  }
 },
 "nbformat": 4,
 "nbformat_minor": 2
}
