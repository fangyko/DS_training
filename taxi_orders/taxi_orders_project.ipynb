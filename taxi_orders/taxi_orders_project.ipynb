{
 "cells": [
  {
   "cell_type": "markdown",
   "metadata": {
    "toc": true
   },
   "source": [
    "<h1>Содержание<span class=\"tocSkip\"></span></h1>\n",
    "<div class=\"toc\"><ul class=\"toc-item\"><li><span><a href=\"#Подготовка\" data-toc-modified-id=\"Подготовка-1\"><span class=\"toc-item-num\">1&nbsp;&nbsp;</span>Подготовка</a></span></li><li><span><a href=\"#Анализ\" data-toc-modified-id=\"Анализ-2\"><span class=\"toc-item-num\">2&nbsp;&nbsp;</span>Анализ</a></span></li><li><span><a href=\"#Обучение\" data-toc-modified-id=\"Обучение-3\"><span class=\"toc-item-num\">3&nbsp;&nbsp;</span>Обучение</a></span></li><li><span><a href=\"#Тестирование\" data-toc-modified-id=\"Тестирование-4\"><span class=\"toc-item-num\">4&nbsp;&nbsp;</span>Тестирование</a></span></li><li><span><a href=\"#Чек-лист-проверки\" data-toc-modified-id=\"Чек-лист-проверки-5\"><span class=\"toc-item-num\">5&nbsp;&nbsp;</span>Чек-лист проверки</a></span></li></ul></div>"
   ]
  },
  {
   "cell_type": "markdown",
   "metadata": {},
   "source": [
    "#  Прогнозирование заказов такси"
   ]
  },
  {
   "cell_type": "markdown",
   "metadata": {},
   "source": [
    "Компания «Чётенькое такси» собрала исторические данные о заказах такси в аэропортах. Чтобы привлекать больше водителей в период пиковой нагрузки, нужно спрогнозировать количество заказов такси на следующий час. Постройте модель для такого предсказания.\n",
    "\n",
    "Значение метрики *RMSE* на тестовой выборке должно быть не больше 48.\n",
    "\n",
    "Вам нужно:\n",
    "\n",
    "1. Загрузить данные и выполнить их ресемплирование по одному часу.\n",
    "2. Проанализировать данные.\n",
    "3. Обучить разные модели с различными гиперпараметрами. Сделать тестовую выборку размером 10% от исходных данных.\n",
    "4. Проверить данные на тестовой выборке и сделать выводы.\n",
    "\n",
    "\n",
    "Данные лежат в файле `taxi.csv`. Количество заказов находится в столбце `num_orders` (от англ. *number of orders*, «число заказов»)."
   ]
  },
  {
   "cell_type": "markdown",
   "metadata": {},
   "source": [
    "## Подготовка"
   ]
  },
  {
   "cell_type": "code",
   "execution_count": 1,
   "metadata": {},
   "outputs": [],
   "source": [
    "import matplotlib.pyplot as plt\n",
    "import pandas as pd\n",
    "import warnings\n",
    "from sklearn.model_selection import train_test_split, RandomizedSearchCV\n",
    "from statsmodels.tsa.seasonal import seasonal_decompose\n",
    "from sklearn.linear_model import LinearRegression\n",
    "from sklearn.model_selection import TimeSeriesSplit, cross_val_score\n",
    "from catboost import CatBoostRegressor\n",
    "from sklearn.ensemble import RandomForestRegressor\n",
    "from sklearn.metrics import (\n",
    "    mean_squared_error,\n",
    "    make_scorer\n",
    ")\n",
    "from scipy.stats import randint as sp_randInt"
   ]
  },
  {
   "cell_type": "code",
   "execution_count": 2,
   "metadata": {},
   "outputs": [],
   "source": [
    "try:\n",
    "    df = pd.read_csv('/datasets/taxi.csv', index_col=[0], parse_dates=[0])\n",
    "except:\n",
    "    df = pd.read_csv('taxi.csv', index_col=[0], parse_dates=[0])"
   ]
  },
  {
   "cell_type": "code",
   "execution_count": 3,
   "metadata": {},
   "outputs": [],
   "source": [
    "df.sort_index(inplace=True)\n",
    "df = df.resample('1H').sum()"
   ]
  },
  {
   "cell_type": "code",
   "execution_count": 4,
   "metadata": {},
   "outputs": [
    {
     "data": {
      "text/html": [
       "<div>\n",
       "<style scoped>\n",
       "    .dataframe tbody tr th:only-of-type {\n",
       "        vertical-align: middle;\n",
       "    }\n",
       "\n",
       "    .dataframe tbody tr th {\n",
       "        vertical-align: top;\n",
       "    }\n",
       "\n",
       "    .dataframe thead th {\n",
       "        text-align: right;\n",
       "    }\n",
       "</style>\n",
       "<table border=\"1\" class=\"dataframe\">\n",
       "  <thead>\n",
       "    <tr style=\"text-align: right;\">\n",
       "      <th></th>\n",
       "      <th>num_orders</th>\n",
       "    </tr>\n",
       "    <tr>\n",
       "      <th>datetime</th>\n",
       "      <th></th>\n",
       "    </tr>\n",
       "  </thead>\n",
       "  <tbody>\n",
       "    <tr>\n",
       "      <th>2018-03-01 00:00:00</th>\n",
       "      <td>124</td>\n",
       "    </tr>\n",
       "    <tr>\n",
       "      <th>2018-03-01 01:00:00</th>\n",
       "      <td>85</td>\n",
       "    </tr>\n",
       "    <tr>\n",
       "      <th>2018-03-01 02:00:00</th>\n",
       "      <td>71</td>\n",
       "    </tr>\n",
       "    <tr>\n",
       "      <th>2018-03-01 03:00:00</th>\n",
       "      <td>66</td>\n",
       "    </tr>\n",
       "    <tr>\n",
       "      <th>2018-03-01 04:00:00</th>\n",
       "      <td>43</td>\n",
       "    </tr>\n",
       "  </tbody>\n",
       "</table>\n",
       "</div>"
      ],
      "text/plain": [
       "                     num_orders\n",
       "datetime                       \n",
       "2018-03-01 00:00:00         124\n",
       "2018-03-01 01:00:00          85\n",
       "2018-03-01 02:00:00          71\n",
       "2018-03-01 03:00:00          66\n",
       "2018-03-01 04:00:00          43"
      ]
     },
     "execution_count": 4,
     "metadata": {},
     "output_type": "execute_result"
    }
   ],
   "source": [
    "df.head()"
   ]
  },
  {
   "cell_type": "code",
   "execution_count": 5,
   "metadata": {},
   "outputs": [
    {
     "name": "stdout",
     "output_type": "stream",
     "text": [
      "<class 'pandas.core.frame.DataFrame'>\n",
      "DatetimeIndex: 4416 entries, 2018-03-01 00:00:00 to 2018-08-31 23:00:00\n",
      "Freq: H\n",
      "Data columns (total 1 columns):\n",
      " #   Column      Non-Null Count  Dtype\n",
      "---  ------      --------------  -----\n",
      " 0   num_orders  4416 non-null   int64\n",
      "dtypes: int64(1)\n",
      "memory usage: 69.0 KB\n"
     ]
    }
   ],
   "source": [
    "df.info()"
   ]
  },
  {
   "cell_type": "markdown",
   "metadata": {},
   "source": [
    "Загрузили данные и выполнили их ресемплирование по одному часу."
   ]
  },
  {
   "cell_type": "markdown",
   "metadata": {},
   "source": [
    "## Анализ"
   ]
  },
  {
   "cell_type": "markdown",
   "metadata": {},
   "source": [
    "Оценим суточное скользащее среднее и стандартное отклонение."
   ]
  },
  {
   "cell_type": "code",
   "execution_count": 6,
   "metadata": {},
   "outputs": [
    {
     "data": {
      "image/png": "[encoded data removed]",
      "text/plain": [
       "<Figure size 1224x504 with 1 Axes>"
      ]
     },
     "metadata": {
      "needs_background": "light"
     },
     "output_type": "display_data"
    }
   ],
   "source": [
    "df['rolling_mean'] = df.rolling(24).mean()\n",
    "df['std'] = df['num_orders'].rolling(24).std()\n",
    "df.plot(figsize=(17, 7), title='Количество заказов такси');"
   ]
  },
  {
   "cell_type": "markdown",
   "metadata": {},
   "source": [
    "Видно, что к концу августа количество заказов в среднем растет. Определим тренд и сезонность данных."
   ]
  },
  {
   "cell_type": "code",
   "execution_count": 7,
   "metadata": {},
   "outputs": [],
   "source": [
    "decomposed = seasonal_decompose(df['num_orders'])"
   ]
  },
  {
   "cell_type": "code",
   "execution_count": 8,
   "metadata": {},
   "outputs": [
    {
     "data": {
      "image/png": "[encoded data removed]",
      "text/plain": [
       "<Figure size 1224x360 with 1 Axes>"
      ]
     },
     "metadata": {
      "needs_background": "light"
     },
     "output_type": "display_data"
    },
    {
     "data": {
      "image/png": "[encoded data removed]",
      "text/plain": [
       "<Figure size 1224x360 with 1 Axes>"
      ]
     },
     "metadata": {
      "needs_background": "light"
     },
     "output_type": "display_data"
    },
    {
     "data": {
      "image/png": "[encoded data removed]",
      "text/plain": [
       "<Figure size 1224x360 with 1 Axes>"
      ]
     },
     "metadata": {
      "needs_background": "light"
     },
     "output_type": "display_data"
    }
   ],
   "source": [
    "plt.figure(figsize=(17, 5))\n",
    "decomposed.trend['2018-03-01':'2018-08-31'].plot(ax=plt.gca(), title='trend')\n",
    "plt.show()\n",
    "plt.figure(figsize=(17, 5))\n",
    "decomposed.seasonal['2018-06-01':'2018-06-02'].plot(ax=plt.gca(), title='seasonal')\n",
    "plt.show()\n",
    "plt.figure(figsize=(17, 5))\n",
    "decomposed.resid['2018-03-01':'2018-08-31'].plot(ax=plt.gca(), title='resid')\n",
    "plt.legend();"
   ]
  },
  {
   "cell_type": "markdown",
   "metadata": {},
   "source": [
    "Дейстивительно есть тренд на увеличение количества заказов к концу августа. Для определения сезонности малый период наблюдения."
   ]
  },
  {
   "cell_type": "markdown",
   "metadata": {},
   "source": [
    "Количество заказов увеличивается с ускорением, В августе много остатков, что повлияет на качество модели на тесте. Судя по суточной сезонности пик заказов приходится на полночь. Рассмотрим укрупненную сезонность."
   ]
  },
  {
   "cell_type": "code",
   "execution_count": 9,
   "metadata": {},
   "outputs": [],
   "source": [
    "df_daily = df.resample('1D').sum()"
   ]
  },
  {
   "cell_type": "markdown",
   "metadata": {},
   "source": [
    "Больше всего такси заказывают в понедельник и пятницу.\n"
   ]
  },
  {
   "cell_type": "markdown",
   "metadata": {},
   "source": [
    "## Обучение"
   ]
  },
  {
   "cell_type": "code",
   "execution_count": 10,
   "metadata": {},
   "outputs": [],
   "source": [
    "df = df.drop([\"rolling_mean\",\"std\"], axis=1)"
   ]
  },
  {
   "cell_type": "markdown",
   "metadata": {},
   "source": [
    "Добавим колендарные признаки, отстающие значения, и суточное сколльзящее среднее."
   ]
  },
  {
   "cell_type": "code",
   "execution_count": 11,
   "metadata": {},
   "outputs": [],
   "source": [
    "def make_features(df, max_lag, rolling_mean_size):\n",
    "    df['month'] = df.index.month\n",
    "    df['day'] = df.index.day\n",
    "    df['dayofweek'] = df.index.dayofweek\n",
    "    df['hour'] = df.index.hour\n",
    "    for lag in range(1, max_lag + 1):\n",
    "        df['lag_{}'.format(lag)] = df['num_orders'].shift(lag)\n",
    "\n",
    "    df['rolling_mean'] = df['num_orders'].shift(1).rolling(rolling_mean_size).mean()\n",
    "\n",
    "make_features(df, 50, 50)"
   ]
  },
  {
   "cell_type": "code",
   "execution_count": 12,
   "metadata": {},
   "outputs": [
    {
     "data": {
      "text/html": [
       "<div>\n",
       "<style scoped>\n",
       "    .dataframe tbody tr th:only-of-type {\n",
       "        vertical-align: middle;\n",
       "    }\n",
       "\n",
       "    .dataframe tbody tr th {\n",
       "        vertical-align: top;\n",
       "    }\n",
       "\n",
       "    .dataframe thead th {\n",
       "        text-align: right;\n",
       "    }\n",
       "</style>\n",
       "<table border=\"1\" class=\"dataframe\">\n",
       "  <thead>\n",
       "    <tr style=\"text-align: right;\">\n",
       "      <th></th>\n",
       "      <th>num_orders</th>\n",
       "      <th>month</th>\n",
       "      <th>day</th>\n",
       "      <th>dayofweek</th>\n",
       "      <th>hour</th>\n",
       "      <th>lag_1</th>\n",
       "      <th>lag_2</th>\n",
       "      <th>lag_3</th>\n",
       "      <th>lag_4</th>\n",
       "      <th>lag_5</th>\n",
       "      <th>...</th>\n",
       "      <th>lag_42</th>\n",
       "      <th>lag_43</th>\n",
       "      <th>lag_44</th>\n",
       "      <th>lag_45</th>\n",
       "      <th>lag_46</th>\n",
       "      <th>lag_47</th>\n",
       "      <th>lag_48</th>\n",
       "      <th>lag_49</th>\n",
       "      <th>lag_50</th>\n",
       "      <th>rolling_mean</th>\n",
       "    </tr>\n",
       "    <tr>\n",
       "      <th>datetime</th>\n",
       "      <th></th>\n",
       "      <th></th>\n",
       "      <th></th>\n",
       "      <th></th>\n",
       "      <th></th>\n",
       "      <th></th>\n",
       "      <th></th>\n",
       "      <th></th>\n",
       "      <th></th>\n",
       "      <th></th>\n",
       "      <th></th>\n",
       "      <th></th>\n",
       "      <th></th>\n",
       "      <th></th>\n",
       "      <th></th>\n",
       "      <th></th>\n",
       "      <th></th>\n",
       "      <th></th>\n",
       "      <th></th>\n",
       "      <th></th>\n",
       "      <th></th>\n",
       "    </tr>\n",
       "  </thead>\n",
       "  <tbody>\n",
       "    <tr>\n",
       "      <th>2018-03-01 00:00:00</th>\n",
       "      <td>124</td>\n",
       "      <td>3</td>\n",
       "      <td>1</td>\n",
       "      <td>3</td>\n",
       "      <td>0</td>\n",
       "      <td>NaN</td>\n",
       "      <td>NaN</td>\n",
       "      <td>NaN</td>\n",
       "      <td>NaN</td>\n",
       "      <td>NaN</td>\n",
       "      <td>...</td>\n",
       "      <td>NaN</td>\n",
       "      <td>NaN</td>\n",
       "      <td>NaN</td>\n",
       "      <td>NaN</td>\n",
       "      <td>NaN</td>\n",
       "      <td>NaN</td>\n",
       "      <td>NaN</td>\n",
       "      <td>NaN</td>\n",
       "      <td>NaN</td>\n",
       "      <td>NaN</td>\n",
       "    </tr>\n",
       "    <tr>\n",
       "      <th>2018-03-01 01:00:00</th>\n",
       "      <td>85</td>\n",
       "      <td>3</td>\n",
       "      <td>1</td>\n",
       "      <td>3</td>\n",
       "      <td>1</td>\n",
       "      <td>124.0</td>\n",
       "      <td>NaN</td>\n",
       "      <td>NaN</td>\n",
       "      <td>NaN</td>\n",
       "      <td>NaN</td>\n",
       "      <td>...</td>\n",
       "      <td>NaN</td>\n",
       "      <td>NaN</td>\n",
       "      <td>NaN</td>\n",
       "      <td>NaN</td>\n",
       "      <td>NaN</td>\n",
       "      <td>NaN</td>\n",
       "      <td>NaN</td>\n",
       "      <td>NaN</td>\n",
       "      <td>NaN</td>\n",
       "      <td>NaN</td>\n",
       "    </tr>\n",
       "    <tr>\n",
       "      <th>2018-03-01 02:00:00</th>\n",
       "      <td>71</td>\n",
       "      <td>3</td>\n",
       "      <td>1</td>\n",
       "      <td>3</td>\n",
       "      <td>2</td>\n",
       "      <td>85.0</td>\n",
       "      <td>124.0</td>\n",
       "      <td>NaN</td>\n",
       "      <td>NaN</td>\n",
       "      <td>NaN</td>\n",
       "      <td>...</td>\n",
       "      <td>NaN</td>\n",
       "      <td>NaN</td>\n",
       "      <td>NaN</td>\n",
       "      <td>NaN</td>\n",
       "      <td>NaN</td>\n",
       "      <td>NaN</td>\n",
       "      <td>NaN</td>\n",
       "      <td>NaN</td>\n",
       "      <td>NaN</td>\n",
       "      <td>NaN</td>\n",
       "    </tr>\n",
       "    <tr>\n",
       "      <th>2018-03-01 03:00:00</th>\n",
       "      <td>66</td>\n",
       "      <td>3</td>\n",
       "      <td>1</td>\n",
       "      <td>3</td>\n",
       "      <td>3</td>\n",
       "      <td>71.0</td>\n",
       "      <td>85.0</td>\n",
       "      <td>124.0</td>\n",
       "      <td>NaN</td>\n",
       "      <td>NaN</td>\n",
       "      <td>...</td>\n",
       "      <td>NaN</td>\n",
       "      <td>NaN</td>\n",
       "      <td>NaN</td>\n",
       "      <td>NaN</td>\n",
       "      <td>NaN</td>\n",
       "      <td>NaN</td>\n",
       "      <td>NaN</td>\n",
       "      <td>NaN</td>\n",
       "      <td>NaN</td>\n",
       "      <td>NaN</td>\n",
       "    </tr>\n",
       "    <tr>\n",
       "      <th>2018-03-01 04:00:00</th>\n",
       "      <td>43</td>\n",
       "      <td>3</td>\n",
       "      <td>1</td>\n",
       "      <td>3</td>\n",
       "      <td>4</td>\n",
       "      <td>66.0</td>\n",
       "      <td>71.0</td>\n",
       "      <td>85.0</td>\n",
       "      <td>124.0</td>\n",
       "      <td>NaN</td>\n",
       "      <td>...</td>\n",
       "      <td>NaN</td>\n",
       "      <td>NaN</td>\n",
       "      <td>NaN</td>\n",
       "      <td>NaN</td>\n",
       "      <td>NaN</td>\n",
       "      <td>NaN</td>\n",
       "      <td>NaN</td>\n",
       "      <td>NaN</td>\n",
       "      <td>NaN</td>\n",
       "      <td>NaN</td>\n",
       "    </tr>\n",
       "  </tbody>\n",
       "</table>\n",
       "<p>5 rows × 56 columns</p>\n",
       "</div>"
      ],
      "text/plain": [
       "                     num_orders  month  day  dayofweek  hour  lag_1  lag_2  \\\n",
       "datetime                                                                     \n",
       "2018-03-01 00:00:00         124      3    1          3     0    NaN    NaN   \n",
       "2018-03-01 01:00:00          85      3    1          3     1  124.0    NaN   \n",
       "2018-03-01 02:00:00          71      3    1          3     2   85.0  124.0   \n",
       "2018-03-01 03:00:00          66      3    1          3     3   71.0   85.0   \n",
       "2018-03-01 04:00:00          43      3    1          3     4   66.0   71.0   \n",
       "\n",
       "                     lag_3  lag_4  lag_5  ...  lag_42  lag_43  lag_44  lag_45  \\\n",
       "datetime                                  ...                                   \n",
       "2018-03-01 00:00:00    NaN    NaN    NaN  ...     NaN     NaN     NaN     NaN   \n",
       "2018-03-01 01:00:00    NaN    NaN    NaN  ...     NaN     NaN     NaN     NaN   \n",
       "2018-03-01 02:00:00    NaN    NaN    NaN  ...     NaN     NaN     NaN     NaN   \n",
       "2018-03-01 03:00:00  124.0    NaN    NaN  ...     NaN     NaN     NaN     NaN   \n",
       "2018-03-01 04:00:00   85.0  124.0    NaN  ...     NaN     NaN     NaN     NaN   \n",
       "\n",
       "                     lag_46  lag_47  lag_48  lag_49  lag_50  rolling_mean  \n",
       "datetime                                                                   \n",
       "2018-03-01 00:00:00     NaN     NaN     NaN     NaN     NaN           NaN  \n",
       "2018-03-01 01:00:00     NaN     NaN     NaN     NaN     NaN           NaN  \n",
       "2018-03-01 02:00:00     NaN     NaN     NaN     NaN     NaN           NaN  \n",
       "2018-03-01 03:00:00     NaN     NaN     NaN     NaN     NaN           NaN  \n",
       "2018-03-01 04:00:00     NaN     NaN     NaN     NaN     NaN           NaN  \n",
       "\n",
       "[5 rows x 56 columns]"
      ]
     },
     "execution_count": 12,
     "metadata": {},
     "output_type": "execute_result"
    }
   ],
   "source": [
    "df.head()"
   ]
  },
  {
   "cell_type": "markdown",
   "metadata": {},
   "source": [
    "Разделим выборку на обучающаю и тестовую (10%), предварительно удалив строчки с пустыми значеними"
   ]
  },
  {
   "cell_type": "code",
   "execution_count": 13,
   "metadata": {},
   "outputs": [],
   "source": [
    "train, test = train_test_split(df, shuffle=False, test_size=0.1)\n",
    "train = train.dropna()\n",
    "\n",
    "f_train = train.drop('num_orders', axis=1)\n",
    "f_test = test.drop('num_orders', axis=1)\n",
    "t_train = train['num_orders']\n",
    "t_test = test['num_orders']"
   ]
  },
  {
   "cell_type": "code",
   "execution_count": 14,
   "metadata": {},
   "outputs": [],
   "source": [
    "def rmse(predict, target):\n",
    "    return round(mean_squared_error(target, predict)**0.5,2)"
   ]
  },
  {
   "cell_type": "markdown",
   "metadata": {},
   "source": [
    "Определим гипермараметры моделей CatBoostRegressor и RandomForestRegressor"
   ]
  },
  {
   "cell_type": "code",
   "execution_count": 15,
   "metadata": {},
   "outputs": [
    {
     "name": "stdout",
     "output_type": "stream",
     "text": [
      "RMSE обучающей выборки: 24.39890206451145\n"
     ]
    }
   ],
   "source": [
    "model_LR = LinearRegression()\n",
    "tscv = TimeSeriesSplit(n_splits=10)\n",
    "score = cross_val_score(model_LR, f_train, t_train, cv=tscv, scoring='neg_mean_squared_error')\n",
    "print(\"RMSE обучающей выборки:\", abs(score.mean())**0.5)"
   ]
  },
  {
   "cell_type": "code",
   "execution_count": 16,
   "metadata": {},
   "outputs": [
    {
     "name": "stdout",
     "output_type": "stream",
     "text": [
      "Training on fold [0/10]\n",
      "0:\tlearn: 61.6130729\ttest: 64.1449488\tbest: 64.1449488 (0)\ttotal: 141ms\tremaining: 4.66s\n",
      "1:\tlearn: 60.2078744\ttest: 62.7754476\tbest: 62.7754476 (1)\ttotal: 144ms\tremaining: 2.3s\n",
      "2:\tlearn: 58.9362889\ttest: 61.4939859\tbest: 61.4939859 (2)\ttotal: 146ms\tremaining: 1.5s\n",
      "3:\tlearn: 57.6615798\ttest: 60.2516447\tbest: 60.2516447 (3)\ttotal: 148ms\tremaining: 1.11s\n",
      "4:\tlearn: 56.4553932\ttest: 59.0537923\tbest: 59.0537923 (4)\ttotal: 151ms\tremaining: 879ms\n",
      "5:\tlearn: 55.2232366\ttest: 57.8139969\tbest: 57.8139969 (5)\ttotal: 154ms\tremaining: 718ms\n",
      "6:\tlearn: 54.0786091\ttest: 56.6285578\tbest: 56.6285578 (6)\ttotal: 156ms\tremaining: 603ms\n",
      "7:\tlearn: 52.9223562\ttest: 55.4942691\tbest: 55.4942691 (7)\ttotal: 159ms\tremaining: 516ms\n",
      "8:\tlearn: 51.7818117\ttest: 54.3723962\tbest: 54.3723962 (8)\ttotal: 161ms\tremaining: 447ms\n",
      "9:\tlearn: 50.6418342\ttest: 53.2557110\tbest: 53.2557110 (9)\ttotal: 165ms\tremaining: 396ms\n",
      "10:\tlearn: 49.6177268\ttest: 52.2540828\tbest: 52.2540828 (10)\ttotal: 168ms\tremaining: 350ms\n",
      "11:\tlearn: 48.4718167\ttest: 51.1458094\tbest: 51.1458094 (11)\ttotal: 170ms\tremaining: 312ms\n",
      "12:\tlearn: 47.4424450\ttest: 50.1167746\tbest: 50.1167746 (12)\ttotal: 173ms\tremaining: 279ms\n",
      "13:\tlearn: 46.5208437\ttest: 49.2715606\tbest: 49.2715606 (13)\ttotal: 175ms\tremaining: 250ms\n",
      "14:\tlearn: 45.5220630\ttest: 48.2901233\tbest: 48.2901233 (14)\ttotal: 177ms\tremaining: 224ms\n",
      "15:\tlearn: 44.5688954\ttest: 47.3240393\tbest: 47.3240393 (15)\ttotal: 179ms\tremaining: 202ms\n",
      "16:\tlearn: 43.6896278\ttest: 46.4903812\tbest: 46.4903812 (16)\ttotal: 182ms\tremaining: 182ms\n",
      "17:\tlearn: 42.7742542\ttest: 45.5882380\tbest: 45.5882380 (17)\ttotal: 184ms\tremaining: 163ms\n",
      "18:\tlearn: 41.9706048\ttest: 44.8085052\tbest: 44.8085052 (18)\ttotal: 186ms\tremaining: 147ms\n",
      "19:\tlearn: 41.1649644\ttest: 44.0166945\tbest: 44.0166945 (19)\ttotal: 187ms\tremaining: 131ms\n",
      "20:\tlearn: 40.3152894\ttest: 43.1663041\tbest: 43.1663041 (20)\ttotal: 189ms\tremaining: 117ms\n",
      "21:\tlearn: 39.5757591\ttest: 42.4855575\tbest: 42.4855575 (21)\ttotal: 191ms\tremaining: 104ms\n",
      "22:\tlearn: 38.8571508\ttest: 41.7721323\tbest: 41.7721323 (22)\ttotal: 193ms\tremaining: 92.5ms\n",
      "23:\tlearn: 38.1714312\ttest: 41.1191089\tbest: 41.1191089 (23)\ttotal: 196ms\tremaining: 81.6ms\n",
      "24:\tlearn: 37.4701591\ttest: 40.4076517\tbest: 40.4076517 (24)\ttotal: 198ms\tremaining: 71.2ms\n",
      "25:\tlearn: 36.8116098\ttest: 39.7575348\tbest: 39.7575348 (25)\ttotal: 200ms\tremaining: 61.4ms\n",
      "26:\tlearn: 36.0987605\ttest: 39.0719558\tbest: 39.0719558 (26)\ttotal: 201ms\tremaining: 52.2ms\n",
      "27:\tlearn: 35.5506425\ttest: 38.5353378\tbest: 38.5353378 (27)\ttotal: 203ms\tremaining: 43.5ms\n",
      "28:\tlearn: 34.8728702\ttest: 37.8712648\tbest: 37.8712648 (28)\ttotal: 205ms\tremaining: 35.4ms\n",
      "29:\tlearn: 34.2494081\ttest: 37.2646771\tbest: 37.2646771 (29)\ttotal: 207ms\tremaining: 27.6ms\n",
      "30:\tlearn: 33.6779540\ttest: 36.7129435\tbest: 36.7129435 (30)\ttotal: 209ms\tremaining: 20.2ms\n",
      "31:\tlearn: 33.1064660\ttest: 36.1406242\tbest: 36.1406242 (31)\ttotal: 211ms\tremaining: 13.2ms\n",
      "32:\tlearn: 32.5645186\ttest: 35.6151956\tbest: 35.6151956 (32)\ttotal: 213ms\tremaining: 6.46ms\n",
      "33:\tlearn: 32.0301805\ttest: 35.0897490\tbest: 35.0897490 (33)\ttotal: 215ms\tremaining: 0us\n",
      "\n",
      "bestTest = 35.08974901\n",
      "bestIteration = 33\n",
      "\n",
      "Training on fold [1/10]\n",
      "0:\tlearn: 62.6956292\ttest: 64.4497239\tbest: 64.4497239 (0)\ttotal: 2.76ms\tremaining: 91ms\n",
      "1:\tlearn: 61.2379302\ttest: 63.0011716\tbest: 63.0011716 (1)\ttotal: 6.24ms\tremaining: 99.9ms\n",
      "2:\tlearn: 59.8612578\ttest: 61.6129078\tbest: 61.6129078 (2)\ttotal: 8.28ms\tremaining: 85.5ms\n",
      "3:\tlearn: 58.4017889\ttest: 60.1635850\tbest: 60.1635850 (3)\ttotal: 10.4ms\tremaining: 77.8ms\n",
      "4:\tlearn: 57.0758138\ttest: 58.8709176\tbest: 58.8709176 (4)\ttotal: 12.8ms\tremaining: 74.2ms\n",
      "5:\tlearn: 55.7691014\ttest: 57.5874662\tbest: 57.5874662 (5)\ttotal: 15.8ms\tremaining: 73.7ms\n",
      "6:\tlearn: 54.4740056\ttest: 56.3113587\tbest: 56.3113587 (6)\ttotal: 19.2ms\tremaining: 73.9ms\n",
      "7:\tlearn: 53.1657068\ttest: 55.0197670\tbest: 55.0197670 (7)\ttotal: 22.9ms\tremaining: 74.4ms\n",
      "8:\tlearn: 51.9274558\ttest: 53.8040244\tbest: 53.8040244 (8)\ttotal: 25.7ms\tremaining: 71.3ms\n",
      "9:\tlearn: 50.7655189\ttest: 52.6664064\tbest: 52.6664064 (9)\ttotal: 28.6ms\tremaining: 68.6ms\n",
      "10:\tlearn: 49.6553340\ttest: 51.5483507\tbest: 51.5483507 (10)\ttotal: 31.7ms\tremaining: 66.2ms\n",
      "11:\tlearn: 48.4929141\ttest: 50.3948354\tbest: 50.3948354 (11)\ttotal: 34ms\tremaining: 62.4ms\n",
      "12:\tlearn: 47.4799182\ttest: 49.4214430\tbest: 49.4214430 (12)\ttotal: 36.2ms\tremaining: 58.5ms\n",
      "13:\tlearn: 46.4443663\ttest: 48.4175809\tbest: 48.4175809 (13)\ttotal: 38.4ms\tremaining: 54.8ms\n",
      "14:\tlearn: 45.4255536\ttest: 47.3785997\tbest: 47.3785997 (14)\ttotal: 40.4ms\tremaining: 51.2ms\n",
      "15:\tlearn: 44.4540809\ttest: 46.4054189\tbest: 46.4054189 (15)\ttotal: 42.5ms\tremaining: 47.8ms\n",
      "16:\tlearn: 43.5232818\ttest: 45.4674477\tbest: 45.4674477 (16)\ttotal: 44.6ms\tremaining: 44.6ms\n",
      "17:\tlearn: 42.6659243\ttest: 44.6270865\tbest: 44.6270865 (17)\ttotal: 46.8ms\tremaining: 41.6ms\n",
      "18:\tlearn: 41.8493505\ttest: 43.8098761\tbest: 43.8098761 (18)\ttotal: 49.7ms\tremaining: 39.2ms\n",
      "19:\tlearn: 41.0154385\ttest: 42.9745966\tbest: 42.9745966 (19)\ttotal: 53.8ms\tremaining: 37.7ms\n",
      "20:\tlearn: 40.1879861\ttest: 42.1439907\tbest: 42.1439907 (20)\ttotal: 56.3ms\tremaining: 34.8ms\n",
      "21:\tlearn: 39.3703530\ttest: 41.3535000\tbest: 41.3535000 (21)\ttotal: 58.3ms\tremaining: 31.8ms\n",
      "22:\tlearn: 38.6049203\ttest: 40.6586387\tbest: 40.6586387 (22)\ttotal: 60.3ms\tremaining: 28.9ms\n",
      "23:\tlearn: 37.8809283\ttest: 40.2139117\tbest: 40.2139117 (23)\ttotal: 62.5ms\tremaining: 26ms\n",
      "24:\tlearn: 37.0922361\ttest: 39.4633029\tbest: 39.4633029 (24)\ttotal: 65.1ms\tremaining: 23.4ms\n",
      "25:\tlearn: 36.4440345\ttest: 38.8155988\tbest: 38.8155988 (25)\ttotal: 68.4ms\tremaining: 21ms\n",
      "26:\tlearn: 35.7515896\ttest: 38.1150216\tbest: 38.1150216 (26)\ttotal: 71.2ms\tremaining: 18.5ms\n",
      "27:\tlearn: 35.0807165\ttest: 37.4308837\tbest: 37.4308837 (27)\ttotal: 73.5ms\tremaining: 15.8ms\n",
      "28:\tlearn: 34.4300152\ttest: 36.7922370\tbest: 36.7922370 (28)\ttotal: 75.7ms\tremaining: 13.1ms\n",
      "29:\tlearn: 33.8216055\ttest: 36.1887377\tbest: 36.1887377 (29)\ttotal: 78.3ms\tremaining: 10.4ms\n",
      "30:\tlearn: 33.1954851\ttest: 35.5900468\tbest: 35.5900468 (30)\ttotal: 81.5ms\tremaining: 7.88ms\n",
      "31:\tlearn: 32.6274457\ttest: 35.0438414\tbest: 35.0438414 (31)\ttotal: 85.5ms\tremaining: 5.34ms\n",
      "32:\tlearn: 32.1037665\ttest: 34.5261160\tbest: 34.5261160 (32)\ttotal: 87.7ms\tremaining: 2.66ms\n",
      "33:\tlearn: 31.5541384\ttest: 33.9863683\tbest: 33.9863683 (33)\ttotal: 89.7ms\tremaining: 0us\n",
      "\n",
      "bestTest = 33.98636825\n",
      "bestIteration = 33\n",
      "\n",
      "Training on fold [2/10]\n",
      "0:\tlearn: 63.2564954\ttest: 74.5591727\tbest: 74.5591727 (0)\ttotal: 3.43ms\tremaining: 113ms\n",
      "1:\tlearn: 61.7547225\ttest: 73.0627843\tbest: 73.0627843 (1)\ttotal: 5.57ms\tremaining: 89.1ms\n",
      "2:\tlearn: 60.3110162\ttest: 71.6089424\tbest: 71.6089424 (2)\ttotal: 9.79ms\tremaining: 101ms\n",
      "3:\tlearn: 58.8329954\ttest: 70.0829260\tbest: 70.0829260 (3)\ttotal: 13ms\tremaining: 97.3ms\n",
      "4:\tlearn: 57.4757217\ttest: 68.7222543\tbest: 68.7222543 (4)\ttotal: 16.7ms\tremaining: 96.8ms\n",
      "5:\tlearn: 56.1216722\ttest: 67.3539609\tbest: 67.3539609 (5)\ttotal: 19.7ms\tremaining: 92.1ms\n",
      "6:\tlearn: 54.7959006\ttest: 65.9065929\tbest: 65.9065929 (6)\ttotal: 23.3ms\tremaining: 89.8ms\n",
      "7:\tlearn: 53.4712169\ttest: 64.5501702\tbest: 64.5501702 (7)\ttotal: 26.3ms\tremaining: 85.6ms\n",
      "8:\tlearn: 52.2263660\ttest: 63.4196937\tbest: 63.4196937 (8)\ttotal: 29.2ms\tremaining: 81.1ms\n",
      "9:\tlearn: 51.0567521\ttest: 62.1542202\tbest: 62.1542202 (9)\ttotal: 32.1ms\tremaining: 77.1ms\n",
      "10:\tlearn: 49.9264657\ttest: 60.9471143\tbest: 60.9471143 (10)\ttotal: 36.5ms\tremaining: 76.4ms\n",
      "11:\tlearn: 48.7611516\ttest: 59.6979875\tbest: 59.6979875 (11)\ttotal: 40ms\tremaining: 73.3ms\n",
      "12:\tlearn: 47.7050063\ttest: 58.5619680\tbest: 58.5619680 (12)\ttotal: 43.5ms\tremaining: 70.3ms\n",
      "13:\tlearn: 46.6203833\ttest: 57.3845010\tbest: 57.3845010 (13)\ttotal: 46.5ms\tremaining: 66.5ms\n",
      "14:\tlearn: 45.5810734\ttest: 56.2693393\tbest: 56.2693393 (14)\ttotal: 49.2ms\tremaining: 62.3ms\n",
      "15:\tlearn: 44.5857961\ttest: 55.1550831\tbest: 55.1550831 (15)\ttotal: 52.2ms\tremaining: 58.7ms\n",
      "16:\tlearn: 43.6178188\ttest: 54.1631972\tbest: 54.1631972 (16)\ttotal: 55.6ms\tremaining: 55.6ms\n",
      "17:\tlearn: 42.7159779\ttest: 53.2412911\tbest: 53.2412911 (17)\ttotal: 59.5ms\tremaining: 52.9ms\n",
      "18:\tlearn: 41.8579526\ttest: 52.3321147\tbest: 52.3321147 (18)\ttotal: 62.9ms\tremaining: 49.7ms\n",
      "19:\tlearn: 41.0081857\ttest: 51.3994801\tbest: 51.3994801 (19)\ttotal: 65.9ms\tremaining: 46.1ms\n",
      "20:\tlearn: 40.1754694\ttest: 50.5381172\tbest: 50.5381172 (20)\ttotal: 70.3ms\tremaining: 43.5ms\n",
      "21:\tlearn: 39.3755948\ttest: 49.6644288\tbest: 49.6644288 (21)\ttotal: 74.1ms\tremaining: 40.4ms\n",
      "22:\tlearn: 38.5834103\ttest: 48.9236725\tbest: 48.9236725 (22)\ttotal: 77.2ms\tremaining: 36.9ms\n",
      "23:\tlearn: 37.8713984\ttest: 48.1243965\tbest: 48.1243965 (23)\ttotal: 80.1ms\tremaining: 33.4ms\n",
      "24:\tlearn: 37.1283251\ttest: 47.4171505\tbest: 47.4171505 (24)\ttotal: 84.2ms\tremaining: 30.3ms\n",
      "25:\tlearn: 36.4540726\ttest: 46.8229316\tbest: 46.8229316 (25)\ttotal: 87.3ms\tremaining: 26.9ms\n",
      "26:\tlearn: 35.7626591\ttest: 46.0840603\tbest: 46.0840603 (26)\ttotal: 90.7ms\tremaining: 23.5ms\n",
      "27:\tlearn: 35.0912508\ttest: 45.3000949\tbest: 45.3000949 (27)\ttotal: 93.7ms\tremaining: 20.1ms\n",
      "28:\tlearn: 34.4337482\ttest: 44.6203836\tbest: 44.6203836 (28)\ttotal: 97.1ms\tremaining: 16.7ms\n",
      "29:\tlearn: 33.8274647\ttest: 43.9665525\tbest: 43.9665525 (29)\ttotal: 100ms\tremaining: 13.4ms\n",
      "30:\tlearn: 33.2092934\ttest: 43.3348973\tbest: 43.3348973 (30)\ttotal: 103ms\tremaining: 10ms\n",
      "31:\tlearn: 32.6438932\ttest: 42.7751231\tbest: 42.7751231 (31)\ttotal: 106ms\tremaining: 6.63ms\n",
      "32:\tlearn: 32.0995967\ttest: 42.2079224\tbest: 42.2079224 (32)\ttotal: 109ms\tremaining: 3.31ms\n",
      "33:\tlearn: 31.5575135\ttest: 41.5629797\tbest: 41.5629797 (33)\ttotal: 113ms\tremaining: 0us\n",
      "\n",
      "bestTest = 41.56297972\n",
      "bestIteration = 33\n",
      "\n",
      "Training on fold [3/10]\n",
      "0:\tlearn: 66.1834941\ttest: 74.2515204\tbest: 74.2515204 (0)\ttotal: 2.9ms\tremaining: 95.7ms\n"
     ]
    },
    {
     "name": "stdout",
     "output_type": "stream",
     "text": [
      "1:\tlearn: 64.5613898\ttest: 72.5155506\tbest: 72.5155506 (1)\ttotal: 5.82ms\tremaining: 93.1ms\n",
      "2:\tlearn: 63.0799886\ttest: 71.0527488\tbest: 71.0527488 (2)\ttotal: 8.86ms\tremaining: 91.6ms\n",
      "3:\tlearn: 61.5030142\ttest: 69.3972174\tbest: 69.3972174 (3)\ttotal: 12ms\tremaining: 89.8ms\n",
      "4:\tlearn: 60.0900044\ttest: 67.9301075\tbest: 67.9301075 (4)\ttotal: 14.6ms\tremaining: 84.9ms\n",
      "5:\tlearn: 58.6434037\ttest: 66.5012207\tbest: 66.5012207 (5)\ttotal: 17.3ms\tremaining: 80.7ms\n",
      "6:\tlearn: 57.2441458\ttest: 65.0665673\tbest: 65.0665673 (6)\ttotal: 19.8ms\tremaining: 76.3ms\n",
      "7:\tlearn: 55.9101144\ttest: 63.6519815\tbest: 63.6519815 (7)\ttotal: 23.9ms\tremaining: 77.6ms\n",
      "8:\tlearn: 54.6697942\ttest: 62.3887898\tbest: 62.3887898 (8)\ttotal: 27.8ms\tremaining: 77.2ms\n",
      "9:\tlearn: 53.4388937\ttest: 61.1906123\tbest: 61.1906123 (9)\ttotal: 30.6ms\tremaining: 73.4ms\n",
      "10:\tlearn: 52.3014636\ttest: 59.9834534\tbest: 59.9834534 (10)\ttotal: 33.3ms\tremaining: 69.6ms\n",
      "11:\tlearn: 51.0825886\ttest: 58.8215908\tbest: 58.8215908 (11)\ttotal: 36.3ms\tremaining: 66.5ms\n",
      "12:\tlearn: 49.9802853\ttest: 57.6945782\tbest: 57.6945782 (12)\ttotal: 39.6ms\tremaining: 63.9ms\n",
      "13:\tlearn: 48.8333774\ttest: 56.4930512\tbest: 56.4930512 (13)\ttotal: 46.9ms\tremaining: 67ms\n",
      "14:\tlearn: 47.7456665\ttest: 55.3392154\tbest: 55.3392154 (14)\ttotal: 51.9ms\tremaining: 65.7ms\n",
      "15:\tlearn: 46.7298505\ttest: 54.2459742\tbest: 54.2459742 (15)\ttotal: 55.3ms\tremaining: 62.2ms\n",
      "16:\tlearn: 45.7498571\ttest: 53.1965355\tbest: 53.1965355 (16)\ttotal: 58.6ms\tremaining: 58.6ms\n",
      "17:\tlearn: 44.7955552\ttest: 52.1861724\tbest: 52.1861724 (17)\ttotal: 61.7ms\tremaining: 54.8ms\n",
      "18:\tlearn: 43.8574952\ttest: 51.2765444\tbest: 51.2765444 (18)\ttotal: 64.6ms\tremaining: 51ms\n",
      "19:\tlearn: 42.9712620\ttest: 50.9175692\tbest: 50.9175692 (19)\ttotal: 67.6ms\tremaining: 47.3ms\n",
      "20:\tlearn: 42.0504494\ttest: 49.9004389\tbest: 49.9004389 (20)\ttotal: 70.2ms\tremaining: 43.4ms\n",
      "21:\tlearn: 41.1763294\ttest: 48.9843056\tbest: 48.9843056 (21)\ttotal: 73ms\tremaining: 39.8ms\n",
      "22:\tlearn: 40.3441606\ttest: 48.1377863\tbest: 48.1377863 (22)\ttotal: 75.5ms\tremaining: 36.1ms\n",
      "23:\tlearn: 39.5790754\ttest: 47.2580873\tbest: 47.2580873 (23)\ttotal: 78.1ms\tremaining: 32.5ms\n",
      "24:\tlearn: 38.7983552\ttest: 46.4814085\tbest: 46.4814085 (24)\ttotal: 80.8ms\tremaining: 29.1ms\n",
      "25:\tlearn: 38.0560508\ttest: 45.6538022\tbest: 45.6538022 (25)\ttotal: 83.7ms\tremaining: 25.8ms\n",
      "26:\tlearn: 37.3276640\ttest: 44.8442430\tbest: 44.8442430 (26)\ttotal: 86.2ms\tremaining: 22.3ms\n",
      "27:\tlearn: 36.6876192\ttest: 44.1897495\tbest: 44.1897495 (27)\ttotal: 88.7ms\tremaining: 19ms\n",
      "28:\tlearn: 36.0110888\ttest: 43.4357065\tbest: 43.4357065 (28)\ttotal: 91.4ms\tremaining: 15.8ms\n",
      "29:\tlearn: 35.3827416\ttest: 42.7923621\tbest: 42.7923621 (29)\ttotal: 93.9ms\tremaining: 12.5ms\n",
      "30:\tlearn: 34.7454222\ttest: 42.0701694\tbest: 42.0701694 (30)\ttotal: 96.6ms\tremaining: 9.35ms\n",
      "31:\tlearn: 34.1362806\ttest: 41.3890922\tbest: 41.3890922 (31)\ttotal: 99.6ms\tremaining: 6.23ms\n",
      "32:\tlearn: 33.5436010\ttest: 40.7534396\tbest: 40.7534396 (32)\ttotal: 102ms\tremaining: 3.09ms\n",
      "33:\tlearn: 32.9882377\ttest: 40.0936948\tbest: 40.0936948 (33)\ttotal: 105ms\tremaining: 0us\n",
      "\n",
      "bestTest = 40.09369475\n",
      "bestIteration = 33\n",
      "\n",
      "Training on fold [4/10]\n",
      "0:\tlearn: 67.8131957\ttest: 85.8359300\tbest: 85.8359300 (0)\ttotal: 3.06ms\tremaining: 101ms\n",
      "1:\tlearn: 66.1353816\ttest: 83.9281040\tbest: 83.9281040 (1)\ttotal: 5.37ms\tremaining: 86ms\n",
      "2:\tlearn: 64.6069950\ttest: 82.4596680\tbest: 82.4596680 (2)\ttotal: 7.59ms\tremaining: 78.5ms\n",
      "3:\tlearn: 62.9827484\ttest: 80.7079233\tbest: 80.7079233 (3)\ttotal: 10ms\tremaining: 75.3ms\n",
      "4:\tlearn: 61.5189461\ttest: 79.1498936\tbest: 79.1498936 (4)\ttotal: 12.5ms\tremaining: 72.8ms\n",
      "5:\tlearn: 60.0368804\ttest: 77.6527687\tbest: 77.6527687 (5)\ttotal: 15.2ms\tremaining: 70.7ms\n",
      "6:\tlearn: 58.5973754\ttest: 76.1667668\tbest: 76.1667668 (6)\ttotal: 18.1ms\tremaining: 70ms\n",
      "7:\tlearn: 57.2115126\ttest: 74.6281139\tbest: 74.6281139 (7)\ttotal: 20.7ms\tremaining: 67.4ms\n",
      "8:\tlearn: 55.8497156\ttest: 73.1702428\tbest: 73.1702428 (8)\ttotal: 23.3ms\tremaining: 64.8ms\n",
      "9:\tlearn: 54.5831485\ttest: 71.8381201\tbest: 71.8381201 (9)\ttotal: 26.3ms\tremaining: 63.1ms\n",
      "10:\tlearn: 53.4078596\ttest: 70.6076265\tbest: 70.6076265 (10)\ttotal: 28.9ms\tremaining: 60.4ms\n",
      "11:\tlearn: 52.1762729\ttest: 69.2641938\tbest: 69.2641938 (11)\ttotal: 31.8ms\tremaining: 58.2ms\n",
      "12:\tlearn: 51.0311097\ttest: 67.9914333\tbest: 67.9914333 (12)\ttotal: 34.8ms\tremaining: 56.2ms\n",
      "13:\tlearn: 49.8705890\ttest: 66.7445400\tbest: 66.7445400 (13)\ttotal: 38ms\tremaining: 54.2ms\n",
      "14:\tlearn: 48.7589445\ttest: 65.5050550\tbest: 65.5050550 (14)\ttotal: 40.8ms\tremaining: 51.7ms\n",
      "15:\tlearn: 47.7076489\ttest: 64.3201646\tbest: 64.3201646 (15)\ttotal: 44.2ms\tremaining: 49.7ms\n",
      "16:\tlearn: 46.7059847\ttest: 63.2056831\tbest: 63.2056831 (16)\ttotal: 48.1ms\tremaining: 48.1ms\n",
      "17:\tlearn: 45.7206234\ttest: 62.0809897\tbest: 62.0809897 (17)\ttotal: 51.5ms\tremaining: 45.8ms\n",
      "18:\tlearn: 44.7667996\ttest: 60.9844574\tbest: 60.9844574 (18)\ttotal: 54.7ms\tremaining: 43.2ms\n",
      "19:\tlearn: 43.8709381\ttest: 59.9444058\tbest: 59.9444058 (19)\ttotal: 57.6ms\tremaining: 40.3ms\n",
      "20:\tlearn: 42.9399186\ttest: 58.7902940\tbest: 58.7902940 (20)\ttotal: 60.6ms\tremaining: 37.5ms\n",
      "21:\tlearn: 42.0456575\ttest: 57.8178750\tbest: 57.8178750 (21)\ttotal: 64.7ms\tremaining: 35.3ms\n",
      "22:\tlearn: 41.1941369\ttest: 56.9206153\tbest: 56.9206153 (22)\ttotal: 68.2ms\tremaining: 32.6ms\n",
      "23:\tlearn: 40.3852177\ttest: 55.9966981\tbest: 55.9966981 (23)\ttotal: 70.9ms\tremaining: 29.6ms\n",
      "24:\tlearn: 39.5929493\ttest: 55.1865354\tbest: 55.1865354 (24)\ttotal: 73.7ms\tremaining: 26.5ms\n",
      "25:\tlearn: 38.8302997\ttest: 54.2737812\tbest: 54.2737812 (25)\ttotal: 76.6ms\tremaining: 23.6ms\n",
      "26:\tlearn: 38.1334342\ttest: 53.4875104\tbest: 53.4875104 (26)\ttotal: 80ms\tremaining: 20.7ms\n",
      "27:\tlearn: 37.4760912\ttest: 52.7484425\tbest: 52.7484425 (27)\ttotal: 83.4ms\tremaining: 17.9ms\n",
      "28:\tlearn: 36.7820413\ttest: 51.9968898\tbest: 51.9968898 (28)\ttotal: 87.2ms\tremaining: 15ms\n",
      "29:\tlearn: 36.1268888\ttest: 51.2484503\tbest: 51.2484503 (29)\ttotal: 91.1ms\tremaining: 12.1ms\n",
      "30:\tlearn: 35.5015566\ttest: 50.3864641\tbest: 50.3864641 (30)\ttotal: 94.9ms\tremaining: 9.19ms\n",
      "31:\tlearn: 34.8801946\ttest: 49.5982657\tbest: 49.5982657 (31)\ttotal: 98.6ms\tremaining: 6.16ms\n",
      "32:\tlearn: 34.2670602\ttest: 48.7757000\tbest: 48.7757000 (32)\ttotal: 103ms\tremaining: 3.13ms\n",
      "33:\tlearn: 33.6954830\ttest: 48.0425966\tbest: 48.0425966 (33)\ttotal: 106ms\tremaining: 0us\n",
      "\n",
      "bestTest = 48.04259656\n",
      "bestIteration = 33\n",
      "\n",
      "Training on fold [5/10]\n",
      "0:\tlearn: 70.9521651\ttest: 84.0663809\tbest: 84.0663809 (0)\ttotal: 3.64ms\tremaining: 120ms\n",
      "1:\tlearn: 69.1898781\ttest: 82.0656584\tbest: 82.0656584 (1)\ttotal: 6.59ms\tremaining: 106ms\n",
      "2:\tlearn: 67.5378819\ttest: 80.2156140\tbest: 80.2156140 (2)\ttotal: 10.5ms\tremaining: 109ms\n",
      "3:\tlearn: 65.8642472\ttest: 78.3266089\tbest: 78.3266089 (3)\ttotal: 13.5ms\tremaining: 102ms\n",
      "4:\tlearn: 64.3154105\ttest: 76.6375769\tbest: 76.6375769 (4)\ttotal: 16.4ms\tremaining: 95ms\n",
      "5:\tlearn: 62.7454345\ttest: 74.8813907\tbest: 74.8813907 (5)\ttotal: 19.3ms\tremaining: 89.9ms\n",
      "6:\tlearn: 61.2257467\ttest: 73.1248111\tbest: 73.1248111 (6)\ttotal: 22.2ms\tremaining: 85.7ms\n",
      "7:\tlearn: 59.7579259\ttest: 71.4825062\tbest: 71.4825062 (7)\ttotal: 25.3ms\tremaining: 82.3ms\n",
      "8:\tlearn: 58.3788347\ttest: 69.8781034\tbest: 69.8781034 (8)\ttotal: 28.2ms\tremaining: 78.3ms\n",
      "9:\tlearn: 57.0004792\ttest: 68.3903046\tbest: 68.3903046 (9)\ttotal: 31.1ms\tremaining: 74.5ms\n",
      "10:\tlearn: 55.6926479\ttest: 66.8696702\tbest: 66.8696702 (10)\ttotal: 33.9ms\tremaining: 71ms\n",
      "11:\tlearn: 54.4049723\ttest: 65.4326210\tbest: 65.4326210 (11)\ttotal: 36.8ms\tremaining: 67.5ms\n",
      "12:\tlearn: 53.1969054\ttest: 64.0351520\tbest: 64.0351520 (12)\ttotal: 39.7ms\tremaining: 64.1ms\n",
      "13:\tlearn: 51.9623807\ttest: 62.6561486\tbest: 62.6561486 (13)\ttotal: 42.6ms\tremaining: 60.8ms\n",
      "14:\tlearn: 50.7882085\ttest: 61.3295623\tbest: 61.3295623 (14)\ttotal: 45.4ms\tremaining: 57.6ms\n",
      "15:\tlearn: 49.6976478\ttest: 60.0625844\tbest: 60.0625844 (15)\ttotal: 48.3ms\tremaining: 54.4ms\n",
      "16:\tlearn: 48.6306839\ttest: 58.7620404\tbest: 58.7620404 (16)\ttotal: 51.2ms\tremaining: 51.2ms\n",
      "17:\tlearn: 47.6235930\ttest: 57.6336282\tbest: 57.6336282 (17)\ttotal: 54.1ms\tremaining: 48.1ms\n",
      "18:\tlearn: 46.6122289\ttest: 56.5996797\tbest: 56.5996797 (18)\ttotal: 57.7ms\tremaining: 45.5ms\n",
      "19:\tlearn: 45.6632881\ttest: 55.4395790\tbest: 55.4395790 (19)\ttotal: 60.5ms\tremaining: 42.4ms\n",
      "20:\tlearn: 44.6848152\ttest: 54.2980341\tbest: 54.2980341 (20)\ttotal: 63.3ms\tremaining: 39.2ms\n",
      "21:\tlearn: 43.7463614\ttest: 53.2082708\tbest: 53.2082708 (21)\ttotal: 66.1ms\tremaining: 36.1ms\n",
      "22:\tlearn: 42.8437693\ttest: 52.1805336\tbest: 52.1805336 (22)\ttotal: 68.9ms\tremaining: 33ms\n",
      "23:\tlearn: 42.0017476\ttest: 51.1600891\tbest: 51.1600891 (23)\ttotal: 72.1ms\tremaining: 30ms\n",
      "24:\tlearn: 41.1762124\ttest: 50.3035937\tbest: 50.3035937 (24)\ttotal: 74.9ms\tremaining: 27ms\n",
      "25:\tlearn: 40.3795206\ttest: 49.3653213\tbest: 49.3653213 (25)\ttotal: 77.8ms\tremaining: 23.9ms\n",
      "26:\tlearn: 39.6054038\ttest: 48.3957963\tbest: 48.3957963 (26)\ttotal: 80.7ms\tremaining: 20.9ms\n",
      "27:\tlearn: 38.8872767\ttest: 47.5302166\tbest: 47.5302166 (27)\ttotal: 83.6ms\tremaining: 17.9ms\n"
     ]
    },
    {
     "name": "stdout",
     "output_type": "stream",
     "text": [
      "28:\tlearn: 38.1510284\ttest: 46.6542227\tbest: 46.6542227 (28)\ttotal: 87.9ms\tremaining: 15.2ms\n",
      "29:\tlearn: 37.4419890\ttest: 45.8282007\tbest: 45.8282007 (29)\ttotal: 91.7ms\tremaining: 12.2ms\n",
      "30:\tlearn: 36.7836850\ttest: 45.0116959\tbest: 45.0116959 (30)\ttotal: 95.2ms\tremaining: 9.21ms\n",
      "31:\tlearn: 36.1385837\ttest: 44.2166146\tbest: 44.2166146 (31)\ttotal: 98.7ms\tremaining: 6.17ms\n",
      "32:\tlearn: 35.4955499\ttest: 43.4072334\tbest: 43.4072334 (32)\ttotal: 102ms\tremaining: 3.1ms\n",
      "33:\tlearn: 34.9001643\ttest: 42.6668200\tbest: 42.6668200 (33)\ttotal: 106ms\tremaining: 0us\n",
      "\n",
      "bestTest = 42.66681996\n",
      "bestIteration = 33\n",
      "\n",
      "Training on fold [6/10]\n",
      "0:\tlearn: 72.9232762\ttest: 89.9687470\tbest: 89.9687470 (0)\ttotal: 3.25ms\tremaining: 107ms\n",
      "1:\tlearn: 71.0947956\ttest: 87.7985323\tbest: 87.7985323 (1)\ttotal: 6.81ms\tremaining: 109ms\n",
      "2:\tlearn: 69.3787665\ttest: 85.8406617\tbest: 85.8406617 (2)\ttotal: 10.6ms\tremaining: 110ms\n",
      "3:\tlearn: 67.6483794\ttest: 83.6739916\tbest: 83.6739916 (3)\ttotal: 13.5ms\tremaining: 101ms\n",
      "4:\tlearn: 66.0404333\ttest: 81.8396058\tbest: 81.8396058 (4)\ttotal: 16.3ms\tremaining: 94.3ms\n",
      "5:\tlearn: 64.4238539\ttest: 79.9460538\tbest: 79.9460538 (5)\ttotal: 19.4ms\tremaining: 90.4ms\n",
      "6:\tlearn: 62.8493903\ttest: 78.0750901\tbest: 78.0750901 (6)\ttotal: 22.7ms\tremaining: 87.6ms\n",
      "7:\tlearn: 61.3283608\ttest: 76.3392567\tbest: 76.3392567 (7)\ttotal: 27.5ms\tremaining: 89.3ms\n",
      "8:\tlearn: 59.8554174\ttest: 74.7164567\tbest: 74.7164567 (8)\ttotal: 30.9ms\tremaining: 86ms\n",
      "9:\tlearn: 58.4323802\ttest: 72.9760835\tbest: 72.9760835 (9)\ttotal: 35ms\tremaining: 84.1ms\n",
      "10:\tlearn: 57.1137061\ttest: 71.4846709\tbest: 71.4846709 (10)\ttotal: 39ms\tremaining: 81.7ms\n",
      "11:\tlearn: 55.7817598\ttest: 69.9585305\tbest: 69.9585305 (11)\ttotal: 42.7ms\tremaining: 78.3ms\n",
      "12:\tlearn: 54.5210804\ttest: 68.4413521\tbest: 68.4413521 (12)\ttotal: 46ms\tremaining: 74.3ms\n",
      "13:\tlearn: 53.2490561\ttest: 66.9060310\tbest: 66.9060310 (13)\ttotal: 49.1ms\tremaining: 70.2ms\n",
      "14:\tlearn: 52.0368041\ttest: 65.4906669\tbest: 65.4906669 (14)\ttotal: 52.7ms\tremaining: 66.8ms\n",
      "15:\tlearn: 50.8962600\ttest: 64.1205637\tbest: 64.1205637 (15)\ttotal: 56.5ms\tremaining: 63.5ms\n",
      "16:\tlearn: 49.7865323\ttest: 62.7225376\tbest: 62.7225376 (16)\ttotal: 59.9ms\tremaining: 59.9ms\n",
      "17:\tlearn: 48.7288593\ttest: 61.4327939\tbest: 61.4327939 (17)\ttotal: 64.1ms\tremaining: 57ms\n",
      "18:\tlearn: 47.6566954\ttest: 60.0873291\tbest: 60.0873291 (18)\ttotal: 67.6ms\tremaining: 53.4ms\n",
      "19:\tlearn: 46.6710151\ttest: 58.8303342\tbest: 58.8303342 (19)\ttotal: 70.7ms\tremaining: 49.5ms\n",
      "20:\tlearn: 45.6626409\ttest: 57.5925828\tbest: 57.5925828 (20)\ttotal: 73.7ms\tremaining: 45.6ms\n",
      "21:\tlearn: 44.6909663\ttest: 56.4438574\tbest: 56.4438574 (21)\ttotal: 77ms\tremaining: 42ms\n",
      "22:\tlearn: 43.7704550\ttest: 55.3533987\tbest: 55.3533987 (22)\ttotal: 80.2ms\tremaining: 38.3ms\n",
      "23:\tlearn: 42.8897927\ttest: 54.2689743\tbest: 54.2689743 (23)\ttotal: 83.7ms\tremaining: 34.9ms\n",
      "24:\tlearn: 42.0446391\ttest: 53.3808594\tbest: 53.3808594 (24)\ttotal: 87ms\tremaining: 31.3ms\n",
      "25:\tlearn: 41.2224572\ttest: 52.2938204\tbest: 52.2938204 (25)\ttotal: 90.2ms\tremaining: 27.8ms\n",
      "26:\tlearn: 40.4295201\ttest: 51.2484880\tbest: 51.2484880 (26)\ttotal: 93.5ms\tremaining: 24.2ms\n",
      "27:\tlearn: 39.6672702\ttest: 50.3105359\tbest: 50.3105359 (27)\ttotal: 96.9ms\tremaining: 20.8ms\n",
      "28:\tlearn: 38.9304032\ttest: 49.3701770\tbest: 49.3701770 (28)\ttotal: 100ms\tremaining: 17.3ms\n",
      "29:\tlearn: 38.2247447\ttest: 48.5177342\tbest: 48.5177342 (29)\ttotal: 104ms\tremaining: 13.8ms\n",
      "30:\tlearn: 37.5285264\ttest: 47.5965024\tbest: 47.5965024 (30)\ttotal: 107ms\tremaining: 10.3ms\n",
      "31:\tlearn: 36.8520634\ttest: 46.7158715\tbest: 46.7158715 (31)\ttotal: 111ms\tremaining: 6.91ms\n",
      "32:\tlearn: 36.1904466\ttest: 45.8143938\tbest: 45.8143938 (32)\ttotal: 114ms\tremaining: 3.45ms\n",
      "33:\tlearn: 35.5725454\ttest: 44.9866395\tbest: 44.9866395 (33)\ttotal: 117ms\tremaining: 0us\n",
      "\n",
      "bestTest = 44.98663946\n",
      "bestIteration = 33\n",
      "\n",
      "Training on fold [7/10]\n",
      "0:\tlearn: 75.2160975\ttest: 97.5053225\tbest: 97.5053225 (0)\ttotal: 4.89ms\tremaining: 161ms\n",
      "1:\tlearn: 73.3080168\ttest: 95.2157636\tbest: 95.2157636 (1)\ttotal: 9.5ms\tremaining: 152ms\n",
      "2:\tlearn: 71.5156236\ttest: 93.1295053\tbest: 93.1295053 (2)\ttotal: 13.7ms\tremaining: 142ms\n",
      "3:\tlearn: 69.7058338\ttest: 90.8408918\tbest: 90.8408918 (3)\ttotal: 18.2ms\tremaining: 137ms\n",
      "4:\tlearn: 67.9973259\ttest: 88.8010994\tbest: 88.8010994 (4)\ttotal: 22.7ms\tremaining: 132ms\n",
      "5:\tlearn: 66.3070306\ttest: 86.8742040\tbest: 86.8742040 (5)\ttotal: 26.7ms\tremaining: 125ms\n",
      "6:\tlearn: 64.6696806\ttest: 84.9320260\tbest: 84.9320260 (6)\ttotal: 30.6ms\tremaining: 118ms\n",
      "7:\tlearn: 63.0880245\ttest: 83.0433921\tbest: 83.0433921 (7)\ttotal: 35.9ms\tremaining: 117ms\n",
      "8:\tlearn: 61.5431129\ttest: 81.2151494\tbest: 81.2151494 (8)\ttotal: 40.8ms\tremaining: 113ms\n",
      "9:\tlearn: 60.0592719\ttest: 79.5390770\tbest: 79.5390770 (9)\ttotal: 44.7ms\tremaining: 107ms\n",
      "10:\tlearn: 58.6447628\ttest: 77.7846769\tbest: 77.7846769 (10)\ttotal: 49.7ms\tremaining: 104ms\n",
      "11:\tlearn: 57.2602381\ttest: 76.2390322\tbest: 76.2390322 (11)\ttotal: 53.7ms\tremaining: 98.4ms\n",
      "12:\tlearn: 55.9432412\ttest: 74.6093593\tbest: 74.6093593 (12)\ttotal: 57.5ms\tremaining: 93ms\n",
      "13:\tlearn: 54.6223965\ttest: 73.0189324\tbest: 73.0189324 (13)\ttotal: 61.1ms\tremaining: 87.3ms\n",
      "14:\tlearn: 53.3664077\ttest: 71.5436275\tbest: 71.5436275 (14)\ttotal: 65.4ms\tremaining: 82.9ms\n",
      "15:\tlearn: 52.1618986\ttest: 70.0444961\tbest: 70.0444961 (15)\ttotal: 69.1ms\tremaining: 77.8ms\n",
      "16:\tlearn: 51.0069511\ttest: 68.5626978\tbest: 68.5626978 (16)\ttotal: 73ms\tremaining: 73ms\n",
      "17:\tlearn: 49.9105958\ttest: 67.2518234\tbest: 67.2518234 (17)\ttotal: 76.8ms\tremaining: 68.3ms\n",
      "18:\tlearn: 48.8488691\ttest: 66.0071203\tbest: 66.0071203 (18)\ttotal: 84.2ms\tremaining: 66.5ms\n",
      "19:\tlearn: 47.8171709\ttest: 64.6613605\tbest: 64.6613605 (19)\ttotal: 88.2ms\tremaining: 61.8ms\n",
      "20:\tlearn: 46.7730659\ttest: 63.3932137\tbest: 63.3932137 (20)\ttotal: 92.1ms\tremaining: 57ms\n",
      "21:\tlearn: 45.7649231\ttest: 62.1781967\tbest: 62.1781967 (21)\ttotal: 96.3ms\tremaining: 52.5ms\n",
      "22:\tlearn: 44.8071162\ttest: 61.0158425\tbest: 61.0158425 (22)\ttotal: 101ms\tremaining: 48.1ms\n",
      "23:\tlearn: 43.8960848\ttest: 59.8406790\tbest: 59.8406790 (23)\ttotal: 105ms\tremaining: 43.6ms\n",
      "24:\tlearn: 42.9956900\ttest: 58.8019498\tbest: 58.8019498 (24)\ttotal: 108ms\tremaining: 39ms\n",
      "25:\tlearn: 42.1364386\ttest: 57.7050410\tbest: 57.7050410 (25)\ttotal: 112ms\tremaining: 34.4ms\n",
      "26:\tlearn: 41.2883366\ttest: 56.5809164\tbest: 56.5809164 (26)\ttotal: 115ms\tremaining: 29.9ms\n",
      "27:\tlearn: 40.5123668\ttest: 55.6429172\tbest: 55.6429172 (27)\ttotal: 119ms\tremaining: 25.5ms\n",
      "28:\tlearn: 39.7309879\ttest: 54.5938933\tbest: 54.5938933 (28)\ttotal: 123ms\tremaining: 21.2ms\n",
      "29:\tlearn: 38.9716891\ttest: 53.6596547\tbest: 53.6596547 (29)\ttotal: 126ms\tremaining: 16.8ms\n",
      "30:\tlearn: 38.2649871\ttest: 52.6670148\tbest: 52.6670148 (30)\ttotal: 129ms\tremaining: 12.5ms\n",
      "31:\tlearn: 37.5616694\ttest: 51.6919887\tbest: 51.6919887 (31)\ttotal: 133ms\tremaining: 8.29ms\n",
      "32:\tlearn: 36.8721499\ttest: 50.7228041\tbest: 50.7228041 (32)\ttotal: 136ms\tremaining: 4.12ms\n",
      "33:\tlearn: 36.2327655\ttest: 49.8321701\tbest: 49.8321701 (33)\ttotal: 139ms\tremaining: 0us\n",
      "\n",
      "bestTest = 49.83217014\n",
      "bestIteration = 33\n",
      "\n",
      "Training on fold [8/10]\n",
      "0:\tlearn: 77.9485166\ttest: 108.4889190\tbest: 108.4889190 (0)\ttotal: 4.52ms\tremaining: 149ms\n",
      "1:\tlearn: 75.9088901\ttest: 106.1016534\tbest: 106.1016534 (1)\ttotal: 7.73ms\tremaining: 124ms\n",
      "2:\tlearn: 74.0319597\ttest: 103.9121620\tbest: 103.9121620 (2)\ttotal: 11.9ms\tremaining: 123ms\n",
      "3:\tlearn: 72.1381476\ttest: 101.5238288\tbest: 101.5238288 (3)\ttotal: 18.1ms\tremaining: 136ms\n",
      "4:\tlearn: 70.3871070\ttest: 99.4543351\tbest: 99.4543351 (4)\ttotal: 21.3ms\tremaining: 124ms\n",
      "5:\tlearn: 68.6275257\ttest: 97.4288607\tbest: 97.4288607 (5)\ttotal: 25ms\tremaining: 117ms\n",
      "6:\tlearn: 66.9185998\ttest: 95.4211904\tbest: 95.4211904 (6)\ttotal: 29.8ms\tremaining: 115ms\n",
      "7:\tlearn: 65.2561975\ttest: 93.4385525\tbest: 93.4385525 (7)\ttotal: 33.9ms\tremaining: 110ms\n",
      "8:\tlearn: 63.6426526\ttest: 91.5285837\tbest: 91.5285837 (8)\ttotal: 43.7ms\tremaining: 121ms\n",
      "9:\tlearn: 62.0614844\ttest: 89.5928183\tbest: 89.5928183 (9)\ttotal: 50.4ms\tremaining: 121ms\n",
      "10:\tlearn: 60.5812320\ttest: 87.7203913\tbest: 87.7203913 (10)\ttotal: 55ms\tremaining: 115ms\n",
      "11:\tlearn: 59.1377242\ttest: 86.1312768\tbest: 86.1312768 (11)\ttotal: 60.8ms\tremaining: 111ms\n",
      "12:\tlearn: 57.7422393\ttest: 84.3616480\tbest: 84.3616480 (12)\ttotal: 64.6ms\tremaining: 104ms\n",
      "13:\tlearn: 56.3714326\ttest: 82.6932920\tbest: 82.6932920 (13)\ttotal: 68ms\tremaining: 97.1ms\n",
      "14:\tlearn: 55.0692924\ttest: 81.1723927\tbest: 81.1723927 (14)\ttotal: 72.7ms\tremaining: 92.1ms\n",
      "15:\tlearn: 53.8140974\ttest: 79.6269672\tbest: 79.6269672 (15)\ttotal: 76.5ms\tremaining: 86ms\n",
      "16:\tlearn: 52.6058357\ttest: 78.0997967\tbest: 78.0997967 (16)\ttotal: 79.9ms\tremaining: 79.9ms\n",
      "17:\tlearn: 51.4710630\ttest: 76.6752827\tbest: 76.6752827 (17)\ttotal: 83.1ms\tremaining: 73.8ms\n",
      "18:\tlearn: 50.3527287\ttest: 75.2051817\tbest: 75.2051817 (18)\ttotal: 88ms\tremaining: 69.5ms\n",
      "19:\tlearn: 49.2767580\ttest: 73.7075776\tbest: 73.7075776 (19)\ttotal: 92.4ms\tremaining: 64.7ms\n",
      "20:\tlearn: 48.1911532\ttest: 72.3763356\tbest: 72.3763356 (20)\ttotal: 96.1ms\tremaining: 59.5ms\n",
      "21:\tlearn: 47.1448484\ttest: 71.1636683\tbest: 71.1636683 (21)\ttotal: 99.8ms\tremaining: 54.5ms\n",
      "22:\tlearn: 46.1476398\ttest: 69.9503528\tbest: 69.9503528 (22)\ttotal: 105ms\tremaining: 50.2ms\n",
      "23:\tlearn: 45.1913173\ttest: 68.7284761\tbest: 68.7284761 (23)\ttotal: 109ms\tremaining: 45.5ms\n",
      "24:\tlearn: 44.2545214\ttest: 67.6030827\tbest: 67.6030827 (24)\ttotal: 113ms\tremaining: 40.7ms\n",
      "25:\tlearn: 43.3648984\ttest: 66.4056289\tbest: 66.4056289 (25)\ttotal: 118ms\tremaining: 36.4ms\n",
      "26:\tlearn: 42.5114303\ttest: 65.2574614\tbest: 65.2574614 (26)\ttotal: 123ms\tremaining: 32ms\n",
      "27:\tlearn: 41.6893023\ttest: 64.1729661\tbest: 64.1729661 (27)\ttotal: 129ms\tremaining: 27.6ms\n",
      "28:\tlearn: 40.8661461\ttest: 62.9904062\tbest: 62.9904062 (28)\ttotal: 133ms\tremaining: 23ms\n",
      "29:\tlearn: 40.1050276\ttest: 62.0494187\tbest: 62.0494187 (29)\ttotal: 137ms\tremaining: 18.3ms\n",
      "30:\tlearn: 39.3581329\ttest: 60.9992561\tbest: 60.9992561 (30)\ttotal: 141ms\tremaining: 13.7ms\n",
      "31:\tlearn: 38.6398282\ttest: 59.9279920\tbest: 59.9279920 (31)\ttotal: 145ms\tremaining: 9.07ms\n",
      "32:\tlearn: 37.9455368\ttest: 58.9329333\tbest: 58.9329333 (32)\ttotal: 150ms\tremaining: 4.53ms\n",
      "33:\tlearn: 37.2719134\ttest: 57.9895654\tbest: 57.9895654 (33)\ttotal: 154ms\tremaining: 0us\n",
      "\n",
      "bestTest = 57.98956535\n",
      "bestIteration = 33\n",
      "\n",
      "Training on fold [9/10]\n",
      "0:\tlearn: 81.4427582\ttest: 117.3466136\tbest: 117.3466136 (0)\ttotal: 4.82ms\tremaining: 159ms\n"
     ]
    },
    {
     "name": "stdout",
     "output_type": "stream",
     "text": [
      "1:\tlearn: 79.3482584\ttest: 114.8400438\tbest: 114.8400438 (1)\ttotal: 9.03ms\tremaining: 145ms\n",
      "2:\tlearn: 77.3736818\ttest: 112.6441926\tbest: 112.6441926 (2)\ttotal: 13.9ms\tremaining: 143ms\n",
      "3:\tlearn: 75.3866025\ttest: 110.1443260\tbest: 110.1443260 (3)\ttotal: 19.8ms\tremaining: 149ms\n",
      "4:\tlearn: 73.5384170\ttest: 107.9957455\tbest: 107.9957455 (4)\ttotal: 24.6ms\tremaining: 142ms\n",
      "5:\tlearn: 71.6994191\ttest: 105.7677265\tbest: 105.7677265 (5)\ttotal: 28.8ms\tremaining: 134ms\n",
      "6:\tlearn: 69.9124236\ttest: 103.7866969\tbest: 103.7866969 (6)\ttotal: 32.8ms\tremaining: 127ms\n",
      "7:\tlearn: 68.1911011\ttest: 101.6945449\tbest: 101.6945449 (7)\ttotal: 36.8ms\tremaining: 120ms\n",
      "8:\tlearn: 66.5015002\ttest: 99.7297697\tbest: 99.7297697 (8)\ttotal: 43ms\tremaining: 119ms\n",
      "9:\tlearn: 64.8487854\ttest: 97.7316822\tbest: 97.7316822 (9)\ttotal: 51.1ms\tremaining: 123ms\n",
      "10:\tlearn: 63.3582632\ttest: 95.9116927\tbest: 95.9116927 (10)\ttotal: 55.6ms\tremaining: 116ms\n",
      "11:\tlearn: 61.8481107\ttest: 94.1328000\tbest: 94.1328000 (11)\ttotal: 59.7ms\tremaining: 109ms\n",
      "12:\tlearn: 60.4005815\ttest: 92.3508359\tbest: 92.3508359 (12)\ttotal: 63.8ms\tremaining: 103ms\n",
      "13:\tlearn: 58.9392223\ttest: 90.5273178\tbest: 90.5273178 (13)\ttotal: 68.3ms\tremaining: 97.6ms\n",
      "14:\tlearn: 57.5801136\ttest: 88.9952456\tbest: 88.9952456 (14)\ttotal: 73.1ms\tremaining: 92.6ms\n",
      "15:\tlearn: 56.2652563\ttest: 87.3744085\tbest: 87.3744085 (15)\ttotal: 77.2ms\tremaining: 86.9ms\n",
      "16:\tlearn: 54.9938734\ttest: 85.7029454\tbest: 85.7029454 (16)\ttotal: 81.4ms\tremaining: 81.4ms\n",
      "17:\tlearn: 53.7278979\ttest: 84.0108426\tbest: 84.0108426 (17)\ttotal: 87.2ms\tremaining: 77.5ms\n",
      "18:\tlearn: 52.5128498\ttest: 82.6601465\tbest: 82.6601465 (18)\ttotal: 91.2ms\tremaining: 72ms\n",
      "19:\tlearn: 51.3757998\ttest: 81.0837210\tbest: 81.0837210 (19)\ttotal: 95.2ms\tremaining: 66.6ms\n",
      "20:\tlearn: 50.2425237\ttest: 79.7095646\tbest: 79.7095646 (20)\ttotal: 99.4ms\tremaining: 61.5ms\n",
      "21:\tlearn: 49.1595367\ttest: 78.3918818\tbest: 78.3918818 (21)\ttotal: 104ms\tremaining: 56.7ms\n",
      "22:\tlearn: 48.1386476\ttest: 76.9389214\tbest: 76.9389214 (22)\ttotal: 108ms\tremaining: 51.6ms\n",
      "23:\tlearn: 47.1365359\ttest: 75.5613425\tbest: 75.5613425 (23)\ttotal: 112ms\tremaining: 46.8ms\n",
      "24:\tlearn: 46.1581408\ttest: 74.3713725\tbest: 74.3713725 (24)\ttotal: 118ms\tremaining: 42.3ms\n",
      "25:\tlearn: 45.2214494\ttest: 73.0844100\tbest: 73.0844100 (25)\ttotal: 122ms\tremaining: 37.5ms\n",
      "26:\tlearn: 44.2936529\ttest: 71.8896044\tbest: 71.8896044 (26)\ttotal: 126ms\tremaining: 32.6ms\n",
      "27:\tlearn: 43.4310404\ttest: 70.7890436\tbest: 70.7890436 (27)\ttotal: 130ms\tremaining: 27.8ms\n",
      "28:\tlearn: 42.5642731\ttest: 69.5334062\tbest: 69.5334062 (28)\ttotal: 135ms\tremaining: 23.2ms\n",
      "29:\tlearn: 41.7654587\ttest: 68.5507187\tbest: 68.5507187 (29)\ttotal: 139ms\tremaining: 18.5ms\n",
      "30:\tlearn: 41.0116032\ttest: 67.4077145\tbest: 67.4077145 (30)\ttotal: 143ms\tremaining: 13.8ms\n",
      "31:\tlearn: 40.2565404\ttest: 66.3101485\tbest: 66.3101485 (31)\ttotal: 147ms\tremaining: 9.19ms\n",
      "32:\tlearn: 39.4986037\ttest: 65.2329667\tbest: 65.2329667 (32)\ttotal: 153ms\tremaining: 4.63ms\n",
      "33:\tlearn: 38.7930639\ttest: 64.2747468\tbest: 64.2747468 (33)\ttotal: 157ms\tremaining: 0us\n",
      "\n",
      "bestTest = 64.2747468\n",
      "bestIteration = 33\n",
      "\n",
      "Training on fold [0/10]\n",
      "0:\tlearn: 61.6130729\ttest: 64.1449488\tbest: 64.1449488 (0)\ttotal: 2.39ms\tremaining: 76.4ms\n",
      "1:\tlearn: 60.2078744\ttest: 62.7754476\tbest: 62.7754476 (1)\ttotal: 5.23ms\tremaining: 81.1ms\n",
      "2:\tlearn: 58.9362889\ttest: 61.4939859\tbest: 61.4939859 (2)\ttotal: 10.9ms\tremaining: 109ms\n",
      "3:\tlearn: 57.6615798\ttest: 60.2516447\tbest: 60.2516447 (3)\ttotal: 13.9ms\tremaining: 101ms\n",
      "4:\tlearn: 56.4553932\ttest: 59.0537923\tbest: 59.0537923 (4)\ttotal: 16.8ms\tremaining: 93.8ms\n",
      "5:\tlearn: 55.2232366\ttest: 57.8139969\tbest: 57.8139969 (5)\ttotal: 19.2ms\tremaining: 86.6ms\n",
      "6:\tlearn: 54.0786091\ttest: 56.6285578\tbest: 56.6285578 (6)\ttotal: 22.7ms\tremaining: 84.4ms\n",
      "7:\tlearn: 52.9223562\ttest: 55.4942691\tbest: 55.4942691 (7)\ttotal: 25.1ms\tremaining: 78.5ms\n",
      "8:\tlearn: 51.7818117\ttest: 54.3723962\tbest: 54.3723962 (8)\ttotal: 27.7ms\tremaining: 74ms\n",
      "9:\tlearn: 50.6418342\ttest: 53.2557110\tbest: 53.2557110 (9)\ttotal: 30.7ms\tremaining: 70.7ms\n",
      "10:\tlearn: 49.6177268\ttest: 52.2540828\tbest: 52.2540828 (10)\ttotal: 33ms\tremaining: 66.1ms\n",
      "11:\tlearn: 48.4718167\ttest: 51.1458094\tbest: 51.1458094 (11)\ttotal: 36ms\tremaining: 63ms\n",
      "12:\tlearn: 47.4424450\ttest: 50.1167746\tbest: 50.1167746 (12)\ttotal: 39.1ms\tremaining: 60.2ms\n",
      "13:\tlearn: 46.5208437\ttest: 49.2715606\tbest: 49.2715606 (13)\ttotal: 42.8ms\tremaining: 58.1ms\n",
      "14:\tlearn: 45.5220630\ttest: 48.2901233\tbest: 48.2901233 (14)\ttotal: 45.4ms\tremaining: 54.5ms\n",
      "15:\tlearn: 44.5688954\ttest: 47.3240393\tbest: 47.3240393 (15)\ttotal: 49ms\tremaining: 52ms\n",
      "16:\tlearn: 43.6896278\ttest: 46.4903812\tbest: 46.4903812 (16)\ttotal: 51.7ms\tremaining: 48.7ms\n",
      "17:\tlearn: 42.7742542\ttest: 45.5882380\tbest: 45.5882380 (17)\ttotal: 54.2ms\tremaining: 45.2ms\n",
      "18:\tlearn: 41.9706048\ttest: 44.8085052\tbest: 44.8085052 (18)\ttotal: 56.9ms\tremaining: 42ms\n",
      "19:\tlearn: 41.1649644\ttest: 44.0166945\tbest: 44.0166945 (19)\ttotal: 59.4ms\tremaining: 38.6ms\n",
      "20:\tlearn: 40.3152894\ttest: 43.1663041\tbest: 43.1663041 (20)\ttotal: 62.9ms\tremaining: 35.9ms\n",
      "21:\tlearn: 39.5757591\ttest: 42.4855575\tbest: 42.4855575 (21)\ttotal: 66.1ms\tremaining: 33.1ms\n",
      "22:\tlearn: 38.8571508\ttest: 41.7721323\tbest: 41.7721323 (22)\ttotal: 68.8ms\tremaining: 29.9ms\n",
      "23:\tlearn: 38.1714312\ttest: 41.1191089\tbest: 41.1191089 (23)\ttotal: 71.9ms\tremaining: 26.9ms\n",
      "24:\tlearn: 37.4701591\ttest: 40.4076517\tbest: 40.4076517 (24)\ttotal: 74.3ms\tremaining: 23.8ms\n",
      "25:\tlearn: 36.8116098\ttest: 39.7575348\tbest: 39.7575348 (25)\ttotal: 76.9ms\tremaining: 20.7ms\n",
      "26:\tlearn: 36.0987605\ttest: 39.0719558\tbest: 39.0719558 (26)\ttotal: 80.3ms\tremaining: 17.8ms\n",
      "27:\tlearn: 35.5506425\ttest: 38.5353378\tbest: 38.5353378 (27)\ttotal: 82.5ms\tremaining: 14.7ms\n",
      "28:\tlearn: 34.8728702\ttest: 37.8712648\tbest: 37.8712648 (28)\ttotal: 85ms\tremaining: 11.7ms\n",
      "29:\tlearn: 34.2494081\ttest: 37.2646771\tbest: 37.2646771 (29)\ttotal: 87.2ms\tremaining: 8.71ms\n",
      "30:\tlearn: 33.6779540\ttest: 36.7129435\tbest: 36.7129435 (30)\ttotal: 89.3ms\tremaining: 5.76ms\n",
      "31:\tlearn: 33.1064660\ttest: 36.1406242\tbest: 36.1406242 (31)\ttotal: 91.7ms\tremaining: 2.87ms\n",
      "32:\tlearn: 32.5645186\ttest: 35.6151956\tbest: 35.6151956 (32)\ttotal: 95.2ms\tremaining: 0us\n",
      "\n",
      "bestTest = 35.61519563\n",
      "bestIteration = 32\n",
      "\n",
      "Training on fold [1/10]\n",
      "0:\tlearn: 62.6956292\ttest: 64.4497239\tbest: 64.4497239 (0)\ttotal: 3.5ms\tremaining: 112ms\n",
      "1:\tlearn: 61.2379302\ttest: 63.0011716\tbest: 63.0011716 (1)\ttotal: 6.47ms\tremaining: 100ms\n",
      "2:\tlearn: 59.8612578\ttest: 61.6129078\tbest: 61.6129078 (2)\ttotal: 8.92ms\tremaining: 89.2ms\n",
      "3:\tlearn: 58.4017889\ttest: 60.1635850\tbest: 60.1635850 (3)\ttotal: 11.2ms\tremaining: 81.1ms\n",
      "4:\tlearn: 57.0758138\ttest: 58.8709176\tbest: 58.8709176 (4)\ttotal: 13.5ms\tremaining: 75.8ms\n",
      "5:\tlearn: 55.7691014\ttest: 57.5874662\tbest: 57.5874662 (5)\ttotal: 15.8ms\tremaining: 71.1ms\n",
      "6:\tlearn: 54.4740056\ttest: 56.3113587\tbest: 56.3113587 (6)\ttotal: 18.7ms\tremaining: 69.5ms\n",
      "7:\tlearn: 53.1657068\ttest: 55.0197670\tbest: 55.0197670 (7)\ttotal: 22.5ms\tremaining: 70.4ms\n",
      "8:\tlearn: 51.9274558\ttest: 53.8040244\tbest: 53.8040244 (8)\ttotal: 25.3ms\tremaining: 67.6ms\n",
      "9:\tlearn: 50.7655189\ttest: 52.6664064\tbest: 52.6664064 (9)\ttotal: 28.2ms\tremaining: 64.9ms\n",
      "10:\tlearn: 49.6553340\ttest: 51.5483507\tbest: 51.5483507 (10)\ttotal: 31ms\tremaining: 62ms\n",
      "11:\tlearn: 48.4929141\ttest: 50.3948354\tbest: 50.3948354 (11)\ttotal: 33.9ms\tremaining: 59.3ms\n",
      "12:\tlearn: 47.4799182\ttest: 49.4214430\tbest: 49.4214430 (12)\ttotal: 36.7ms\tremaining: 56.5ms\n",
      "13:\tlearn: 46.4443663\ttest: 48.4175809\tbest: 48.4175809 (13)\ttotal: 39.9ms\tremaining: 54.2ms\n",
      "14:\tlearn: 45.4255536\ttest: 47.3785997\tbest: 47.3785997 (14)\ttotal: 43.1ms\tremaining: 51.8ms\n",
      "15:\tlearn: 44.4540809\ttest: 46.4054189\tbest: 46.4054189 (15)\ttotal: 45.7ms\tremaining: 48.6ms\n",
      "16:\tlearn: 43.5232818\ttest: 45.4674477\tbest: 45.4674477 (16)\ttotal: 49.3ms\tremaining: 46.4ms\n",
      "17:\tlearn: 42.6659243\ttest: 44.6270865\tbest: 44.6270865 (17)\ttotal: 51.9ms\tremaining: 43.2ms\n",
      "18:\tlearn: 41.8493505\ttest: 43.8098761\tbest: 43.8098761 (18)\ttotal: 54.2ms\tremaining: 40ms\n",
      "19:\tlearn: 41.0154385\ttest: 42.9745966\tbest: 42.9745966 (19)\ttotal: 57.4ms\tremaining: 37.3ms\n",
      "20:\tlearn: 40.1879861\ttest: 42.1439907\tbest: 42.1439907 (20)\ttotal: 59.9ms\tremaining: 34.2ms\n",
      "21:\tlearn: 39.3703530\ttest: 41.3535000\tbest: 41.3535000 (21)\ttotal: 63.1ms\tremaining: 31.5ms\n",
      "22:\tlearn: 38.6049203\ttest: 40.6586387\tbest: 40.6586387 (22)\ttotal: 65.8ms\tremaining: 28.6ms\n",
      "23:\tlearn: 37.8809283\ttest: 40.2139117\tbest: 40.2139117 (23)\ttotal: 68.4ms\tremaining: 25.6ms\n",
      "24:\tlearn: 37.0922361\ttest: 39.4633029\tbest: 39.4633029 (24)\ttotal: 70.9ms\tremaining: 22.7ms\n",
      "25:\tlearn: 36.4440345\ttest: 38.8155988\tbest: 38.8155988 (25)\ttotal: 73.4ms\tremaining: 19.8ms\n",
      "26:\tlearn: 35.7515896\ttest: 38.1150216\tbest: 38.1150216 (26)\ttotal: 75.9ms\tremaining: 16.9ms\n",
      "27:\tlearn: 35.0807165\ttest: 37.4308837\tbest: 37.4308837 (27)\ttotal: 78.6ms\tremaining: 14ms\n",
      "28:\tlearn: 34.4300152\ttest: 36.7922370\tbest: 36.7922370 (28)\ttotal: 81.5ms\tremaining: 11.2ms\n",
      "29:\tlearn: 33.8216055\ttest: 36.1887377\tbest: 36.1887377 (29)\ttotal: 84.8ms\tremaining: 8.48ms\n",
      "30:\tlearn: 33.1954851\ttest: 35.5900468\tbest: 35.5900468 (30)\ttotal: 87.7ms\tremaining: 5.66ms\n",
      "31:\tlearn: 32.6274457\ttest: 35.0438414\tbest: 35.0438414 (31)\ttotal: 90.3ms\tremaining: 2.82ms\n",
      "32:\tlearn: 32.1037665\ttest: 34.5261160\tbest: 34.5261160 (32)\ttotal: 93.2ms\tremaining: 0us\n",
      "\n",
      "bestTest = 34.52611604\n",
      "bestIteration = 32\n",
      "\n",
      "Training on fold [2/10]\n",
      "0:\tlearn: 63.2564954\ttest: 74.5591727\tbest: 74.5591727 (0)\ttotal: 3.71ms\tremaining: 119ms\n",
      "1:\tlearn: 61.7547225\ttest: 73.0627843\tbest: 73.0627843 (1)\ttotal: 6.66ms\tremaining: 103ms\n",
      "2:\tlearn: 60.3110162\ttest: 71.6089424\tbest: 71.6089424 (2)\ttotal: 8.92ms\tremaining: 89.2ms\n",
      "3:\tlearn: 58.8329954\ttest: 70.0829260\tbest: 70.0829260 (3)\ttotal: 11.4ms\tremaining: 82.7ms\n",
      "4:\tlearn: 57.4757217\ttest: 68.7222543\tbest: 68.7222543 (4)\ttotal: 14.3ms\tremaining: 80ms\n",
      "5:\tlearn: 56.1216722\ttest: 67.3539609\tbest: 67.3539609 (5)\ttotal: 16.8ms\tremaining: 75.5ms\n",
      "6:\tlearn: 54.7959006\ttest: 65.9065929\tbest: 65.9065929 (6)\ttotal: 19.5ms\tremaining: 72.3ms\n",
      "7:\tlearn: 53.4712169\ttest: 64.5501702\tbest: 64.5501702 (7)\ttotal: 23.5ms\tremaining: 73.4ms\n",
      "8:\tlearn: 52.2263660\ttest: 63.4196937\tbest: 63.4196937 (8)\ttotal: 26.4ms\tremaining: 70.4ms\n",
      "9:\tlearn: 51.0567521\ttest: 62.1542202\tbest: 62.1542202 (9)\ttotal: 28.8ms\tremaining: 66.3ms\n",
      "10:\tlearn: 49.9264657\ttest: 60.9471143\tbest: 60.9471143 (10)\ttotal: 31.3ms\tremaining: 62.5ms\n",
      "11:\tlearn: 48.7611516\ttest: 59.6979875\tbest: 59.6979875 (11)\ttotal: 34.8ms\tremaining: 60.9ms\n",
      "12:\tlearn: 47.7050063\ttest: 58.5619680\tbest: 58.5619680 (12)\ttotal: 37.9ms\tremaining: 58.3ms\n",
      "13:\tlearn: 46.6203833\ttest: 57.3845010\tbest: 57.3845010 (13)\ttotal: 40.7ms\tremaining: 55.3ms\n",
      "14:\tlearn: 45.5810734\ttest: 56.2693393\tbest: 56.2693393 (14)\ttotal: 43.4ms\tremaining: 52ms\n",
      "15:\tlearn: 44.5857961\ttest: 55.1550831\tbest: 55.1550831 (15)\ttotal: 45.7ms\tremaining: 48.6ms\n",
      "16:\tlearn: 43.6178188\ttest: 54.1631972\tbest: 54.1631972 (16)\ttotal: 48.5ms\tremaining: 45.6ms\n",
      "17:\tlearn: 42.7159779\ttest: 53.2412911\tbest: 53.2412911 (17)\ttotal: 51.9ms\tremaining: 43.3ms\n",
      "18:\tlearn: 41.8579526\ttest: 52.3321147\tbest: 52.3321147 (18)\ttotal: 54.6ms\tremaining: 40.2ms\n",
      "19:\tlearn: 41.0081857\ttest: 51.3994801\tbest: 51.3994801 (19)\ttotal: 57.1ms\tremaining: 37.1ms\n",
      "20:\tlearn: 40.1754694\ttest: 50.5381172\tbest: 50.5381172 (20)\ttotal: 59.7ms\tremaining: 34.1ms\n",
      "21:\tlearn: 39.3755948\ttest: 49.6644288\tbest: 49.6644288 (21)\ttotal: 62.3ms\tremaining: 31.1ms\n",
      "22:\tlearn: 38.5834103\ttest: 48.9236725\tbest: 48.9236725 (22)\ttotal: 66ms\tremaining: 28.7ms\n",
      "23:\tlearn: 37.8713984\ttest: 48.1243965\tbest: 48.1243965 (23)\ttotal: 68.5ms\tremaining: 25.7ms\n"
     ]
    },
    {
     "name": "stdout",
     "output_type": "stream",
     "text": [
      "24:\tlearn: 37.1283251\ttest: 47.4171505\tbest: 47.4171505 (24)\ttotal: 71.9ms\tremaining: 23ms\n",
      "25:\tlearn: 36.4540726\ttest: 46.8229316\tbest: 46.8229316 (25)\ttotal: 74.9ms\tremaining: 20.2ms\n",
      "26:\tlearn: 35.7626591\ttest: 46.0840603\tbest: 46.0840603 (26)\ttotal: 79.6ms\tremaining: 17.7ms\n",
      "27:\tlearn: 35.0912508\ttest: 45.3000949\tbest: 45.3000949 (27)\ttotal: 83.1ms\tremaining: 14.8ms\n",
      "28:\tlearn: 34.4337482\ttest: 44.6203836\tbest: 44.6203836 (28)\ttotal: 87.1ms\tremaining: 12ms\n",
      "29:\tlearn: 33.8274647\ttest: 43.9665525\tbest: 43.9665525 (29)\ttotal: 89.7ms\tremaining: 8.96ms\n",
      "30:\tlearn: 33.2092934\ttest: 43.3348973\tbest: 43.3348973 (30)\ttotal: 92.6ms\tremaining: 5.97ms\n",
      "31:\tlearn: 32.6438932\ttest: 42.7751231\tbest: 42.7751231 (31)\ttotal: 96.2ms\tremaining: 3.01ms\n",
      "32:\tlearn: 32.0995967\ttest: 42.2079224\tbest: 42.2079224 (32)\ttotal: 100ms\tremaining: 0us\n",
      "\n",
      "bestTest = 42.20792237\n",
      "bestIteration = 32\n",
      "\n",
      "Training on fold [3/10]\n",
      "0:\tlearn: 66.1834941\ttest: 74.2515204\tbest: 74.2515204 (0)\ttotal: 6.22ms\tremaining: 199ms\n",
      "1:\tlearn: 64.5613898\ttest: 72.5155506\tbest: 72.5155506 (1)\ttotal: 9.74ms\tremaining: 151ms\n",
      "2:\tlearn: 63.0799886\ttest: 71.0527488\tbest: 71.0527488 (2)\ttotal: 14.3ms\tremaining: 143ms\n",
      "3:\tlearn: 61.5030142\ttest: 69.3972174\tbest: 69.3972174 (3)\ttotal: 18.2ms\tremaining: 132ms\n",
      "4:\tlearn: 60.0900044\ttest: 67.9301075\tbest: 67.9301075 (4)\ttotal: 21.3ms\tremaining: 119ms\n",
      "5:\tlearn: 58.6434037\ttest: 66.5012207\tbest: 66.5012207 (5)\ttotal: 24.4ms\tremaining: 110ms\n",
      "6:\tlearn: 57.2441458\ttest: 65.0665673\tbest: 65.0665673 (6)\ttotal: 27.8ms\tremaining: 103ms\n",
      "7:\tlearn: 55.9101144\ttest: 63.6519815\tbest: 63.6519815 (7)\ttotal: 31.6ms\tremaining: 98.6ms\n",
      "8:\tlearn: 54.6697942\ttest: 62.3887898\tbest: 62.3887898 (8)\ttotal: 34.5ms\tremaining: 92ms\n",
      "9:\tlearn: 53.4388937\ttest: 61.1906123\tbest: 61.1906123 (9)\ttotal: 37.6ms\tremaining: 86.5ms\n",
      "10:\tlearn: 52.3014636\ttest: 59.9834534\tbest: 59.9834534 (10)\ttotal: 42.4ms\tremaining: 84.8ms\n",
      "11:\tlearn: 51.0825886\ttest: 58.8215908\tbest: 58.8215908 (11)\ttotal: 46.5ms\tremaining: 81.4ms\n",
      "12:\tlearn: 49.9802853\ttest: 57.6945782\tbest: 57.6945782 (12)\ttotal: 49.7ms\tremaining: 76.4ms\n",
      "13:\tlearn: 48.8333774\ttest: 56.4930512\tbest: 56.4930512 (13)\ttotal: 53.8ms\tremaining: 73ms\n",
      "14:\tlearn: 47.7456665\ttest: 55.3392154\tbest: 55.3392154 (14)\ttotal: 60ms\tremaining: 72ms\n",
      "15:\tlearn: 46.7298505\ttest: 54.2459742\tbest: 54.2459742 (15)\ttotal: 65.6ms\tremaining: 69.7ms\n",
      "16:\tlearn: 45.7498571\ttest: 53.1965355\tbest: 53.1965355 (16)\ttotal: 69.2ms\tremaining: 65.1ms\n",
      "17:\tlearn: 44.7955552\ttest: 52.1861724\tbest: 52.1861724 (17)\ttotal: 76.2ms\tremaining: 63.5ms\n",
      "18:\tlearn: 43.8574952\ttest: 51.2765444\tbest: 51.2765444 (18)\ttotal: 80.6ms\tremaining: 59.4ms\n",
      "19:\tlearn: 42.9712620\ttest: 50.9175692\tbest: 50.9175692 (19)\ttotal: 84.2ms\tremaining: 54.7ms\n",
      "20:\tlearn: 42.0504494\ttest: 49.9004389\tbest: 49.9004389 (20)\ttotal: 88.6ms\tremaining: 50.6ms\n",
      "21:\tlearn: 41.1763294\ttest: 48.9843056\tbest: 48.9843056 (21)\ttotal: 92.8ms\tremaining: 46.4ms\n",
      "22:\tlearn: 40.3441606\ttest: 48.1377863\tbest: 48.1377863 (22)\ttotal: 96.6ms\tremaining: 42ms\n",
      "23:\tlearn: 39.5790754\ttest: 47.2580873\tbest: 47.2580873 (23)\ttotal: 101ms\tremaining: 37.9ms\n",
      "24:\tlearn: 38.7983552\ttest: 46.4814085\tbest: 46.4814085 (24)\ttotal: 105ms\tremaining: 33.7ms\n",
      "25:\tlearn: 38.0560508\ttest: 45.6538022\tbest: 45.6538022 (25)\ttotal: 109ms\tremaining: 29.4ms\n",
      "26:\tlearn: 37.3276640\ttest: 44.8442430\tbest: 44.8442430 (26)\ttotal: 114ms\tremaining: 25.3ms\n",
      "27:\tlearn: 36.6876192\ttest: 44.1897495\tbest: 44.1897495 (27)\ttotal: 118ms\tremaining: 21.1ms\n",
      "28:\tlearn: 36.0110888\ttest: 43.4357065\tbest: 43.4357065 (28)\ttotal: 123ms\tremaining: 16.9ms\n",
      "29:\tlearn: 35.3827416\ttest: 42.7923621\tbest: 42.7923621 (29)\ttotal: 127ms\tremaining: 12.7ms\n",
      "30:\tlearn: 34.7454222\ttest: 42.0701694\tbest: 42.0701694 (30)\ttotal: 131ms\tremaining: 8.44ms\n",
      "31:\tlearn: 34.1362806\ttest: 41.3890922\tbest: 41.3890922 (31)\ttotal: 135ms\tremaining: 4.23ms\n",
      "32:\tlearn: 33.5436010\ttest: 40.7534396\tbest: 40.7534396 (32)\ttotal: 140ms\tremaining: 0us\n",
      "\n",
      "bestTest = 40.75343957\n",
      "bestIteration = 32\n",
      "\n",
      "Training on fold [4/10]\n",
      "0:\tlearn: 67.8131957\ttest: 85.8359300\tbest: 85.8359300 (0)\ttotal: 3.83ms\tremaining: 123ms\n",
      "1:\tlearn: 66.1353816\ttest: 83.9281040\tbest: 83.9281040 (1)\ttotal: 6.73ms\tremaining: 104ms\n",
      "2:\tlearn: 64.6069950\ttest: 82.4596680\tbest: 82.4596680 (2)\ttotal: 10.8ms\tremaining: 108ms\n",
      "3:\tlearn: 62.9827484\ttest: 80.7079233\tbest: 80.7079233 (3)\ttotal: 14.1ms\tremaining: 102ms\n",
      "4:\tlearn: 61.5189461\ttest: 79.1498936\tbest: 79.1498936 (4)\ttotal: 17.4ms\tremaining: 97.6ms\n",
      "5:\tlearn: 60.0368804\ttest: 77.6527687\tbest: 77.6527687 (5)\ttotal: 20.9ms\tremaining: 94.1ms\n",
      "6:\tlearn: 58.5973754\ttest: 76.1667668\tbest: 76.1667668 (6)\ttotal: 25ms\tremaining: 92.9ms\n",
      "7:\tlearn: 57.2115126\ttest: 74.6281139\tbest: 74.6281139 (7)\ttotal: 29.2ms\tremaining: 91.4ms\n",
      "8:\tlearn: 55.8497156\ttest: 73.1702428\tbest: 73.1702428 (8)\ttotal: 32.8ms\tremaining: 87.4ms\n",
      "9:\tlearn: 54.5831485\ttest: 71.8381201\tbest: 71.8381201 (9)\ttotal: 36.2ms\tremaining: 83.2ms\n",
      "10:\tlearn: 53.4078596\ttest: 70.6076265\tbest: 70.6076265 (10)\ttotal: 40ms\tremaining: 80.1ms\n",
      "11:\tlearn: 52.1762729\ttest: 69.2641938\tbest: 69.2641938 (11)\ttotal: 44ms\tremaining: 77ms\n",
      "12:\tlearn: 51.0311097\ttest: 67.9914333\tbest: 67.9914333 (12)\ttotal: 47.1ms\tremaining: 72.4ms\n",
      "13:\tlearn: 49.8705890\ttest: 66.7445400\tbest: 66.7445400 (13)\ttotal: 53.1ms\tremaining: 72ms\n",
      "14:\tlearn: 48.7589445\ttest: 65.5050550\tbest: 65.5050550 (14)\ttotal: 56.8ms\tremaining: 68.2ms\n",
      "15:\tlearn: 47.7076489\ttest: 64.3201646\tbest: 64.3201646 (15)\ttotal: 60.4ms\tremaining: 64.2ms\n",
      "16:\tlearn: 46.7059847\ttest: 63.2056831\tbest: 63.2056831 (16)\ttotal: 63.5ms\tremaining: 59.8ms\n",
      "17:\tlearn: 45.7206234\ttest: 62.0809897\tbest: 62.0809897 (17)\ttotal: 67.7ms\tremaining: 56.5ms\n",
      "18:\tlearn: 44.7667996\ttest: 60.9844574\tbest: 60.9844574 (18)\ttotal: 71.1ms\tremaining: 52.4ms\n",
      "19:\tlearn: 43.8709381\ttest: 59.9444058\tbest: 59.9444058 (19)\ttotal: 74.3ms\tremaining: 48.3ms\n",
      "20:\tlearn: 42.9399186\ttest: 58.7902940\tbest: 58.7902940 (20)\ttotal: 77.2ms\tremaining: 44.1ms\n",
      "21:\tlearn: 42.0456575\ttest: 57.8178750\tbest: 57.8178750 (21)\ttotal: 80.2ms\tremaining: 40.1ms\n",
      "22:\tlearn: 41.1941369\ttest: 56.9206153\tbest: 56.9206153 (22)\ttotal: 84.3ms\tremaining: 36.6ms\n",
      "23:\tlearn: 40.3852177\ttest: 55.9966981\tbest: 55.9966981 (23)\ttotal: 88.1ms\tremaining: 33ms\n",
      "24:\tlearn: 39.5929493\ttest: 55.1865354\tbest: 55.1865354 (24)\ttotal: 90.8ms\tremaining: 29ms\n",
      "25:\tlearn: 38.8302997\ttest: 54.2737812\tbest: 54.2737812 (25)\ttotal: 93.6ms\tremaining: 25.2ms\n",
      "26:\tlearn: 38.1334342\ttest: 53.4875104\tbest: 53.4875104 (26)\ttotal: 97ms\tremaining: 21.6ms\n",
      "27:\tlearn: 37.4760912\ttest: 52.7484425\tbest: 52.7484425 (27)\ttotal: 102ms\tremaining: 18.1ms\n",
      "28:\tlearn: 36.7820413\ttest: 51.9968898\tbest: 51.9968898 (28)\ttotal: 105ms\tremaining: 14.5ms\n",
      "29:\tlearn: 36.1268888\ttest: 51.2484503\tbest: 51.2484503 (29)\ttotal: 108ms\tremaining: 10.8ms\n",
      "30:\tlearn: 35.5015566\ttest: 50.3864641\tbest: 50.3864641 (30)\ttotal: 111ms\tremaining: 7.14ms\n",
      "31:\tlearn: 34.8801946\ttest: 49.5982657\tbest: 49.5982657 (31)\ttotal: 114ms\tremaining: 3.57ms\n",
      "32:\tlearn: 34.2670602\ttest: 48.7757000\tbest: 48.7757000 (32)\ttotal: 118ms\tremaining: 0us\n",
      "\n",
      "bestTest = 48.77570003\n",
      "bestIteration = 32\n",
      "\n",
      "Training on fold [5/10]\n",
      "0:\tlearn: 70.9521651\ttest: 84.0663809\tbest: 84.0663809 (0)\ttotal: 4.76ms\tremaining: 152ms\n",
      "1:\tlearn: 69.1898781\ttest: 82.0656584\tbest: 82.0656584 (1)\ttotal: 7.91ms\tremaining: 123ms\n",
      "2:\tlearn: 67.5378819\ttest: 80.2156140\tbest: 80.2156140 (2)\ttotal: 10.8ms\tremaining: 108ms\n",
      "3:\tlearn: 65.8642472\ttest: 78.3266089\tbest: 78.3266089 (3)\ttotal: 13.8ms\tremaining: 99.7ms\n",
      "4:\tlearn: 64.3154105\ttest: 76.6375769\tbest: 76.6375769 (4)\ttotal: 19.3ms\tremaining: 108ms\n",
      "5:\tlearn: 62.7454345\ttest: 74.8813907\tbest: 74.8813907 (5)\ttotal: 22.8ms\tremaining: 103ms\n",
      "6:\tlearn: 61.2257467\ttest: 73.1248111\tbest: 73.1248111 (6)\ttotal: 26.1ms\tremaining: 96.9ms\n",
      "7:\tlearn: 59.7579259\ttest: 71.4825062\tbest: 71.4825062 (7)\ttotal: 29.6ms\tremaining: 92.5ms\n",
      "8:\tlearn: 58.3788347\ttest: 69.8781034\tbest: 69.8781034 (8)\ttotal: 35.1ms\tremaining: 93.5ms\n",
      "9:\tlearn: 57.0004792\ttest: 68.3903046\tbest: 68.3903046 (9)\ttotal: 39.1ms\tremaining: 89.9ms\n",
      "10:\tlearn: 55.6926479\ttest: 66.8696702\tbest: 66.8696702 (10)\ttotal: 42.9ms\tremaining: 85.8ms\n",
      "11:\tlearn: 54.4049723\ttest: 65.4326210\tbest: 65.4326210 (11)\ttotal: 46.9ms\tremaining: 82ms\n",
      "12:\tlearn: 53.1969054\ttest: 64.0351520\tbest: 64.0351520 (12)\ttotal: 50.9ms\tremaining: 78.3ms\n",
      "13:\tlearn: 51.9623807\ttest: 62.6561486\tbest: 62.6561486 (13)\ttotal: 54.4ms\tremaining: 73.8ms\n",
      "14:\tlearn: 50.7882085\ttest: 61.3295623\tbest: 61.3295623 (14)\ttotal: 57.6ms\tremaining: 69.1ms\n",
      "15:\tlearn: 49.6976478\ttest: 60.0625844\tbest: 60.0625844 (15)\ttotal: 61.4ms\tremaining: 65.3ms\n",
      "16:\tlearn: 48.6306839\ttest: 58.7620404\tbest: 58.7620404 (16)\ttotal: 64.8ms\tremaining: 61ms\n",
      "17:\tlearn: 47.6235930\ttest: 57.6336282\tbest: 57.6336282 (17)\ttotal: 67.9ms\tremaining: 56.6ms\n",
      "18:\tlearn: 46.6122289\ttest: 56.5996797\tbest: 56.5996797 (18)\ttotal: 71.6ms\tremaining: 52.8ms\n",
      "19:\tlearn: 45.6632881\ttest: 55.4395790\tbest: 55.4395790 (19)\ttotal: 75ms\tremaining: 48.7ms\n",
      "20:\tlearn: 44.6848152\ttest: 54.2980341\tbest: 54.2980341 (20)\ttotal: 78.9ms\tremaining: 45.1ms\n",
      "21:\tlearn: 43.7463614\ttest: 53.2082708\tbest: 53.2082708 (21)\ttotal: 82ms\tremaining: 41ms\n",
      "22:\tlearn: 42.8437693\ttest: 52.1805336\tbest: 52.1805336 (22)\ttotal: 85.2ms\tremaining: 37ms\n",
      "23:\tlearn: 42.0017476\ttest: 51.1600891\tbest: 51.1600891 (23)\ttotal: 88.7ms\tremaining: 33.3ms\n",
      "24:\tlearn: 41.1762124\ttest: 50.3035937\tbest: 50.3035937 (24)\ttotal: 93.1ms\tremaining: 29.8ms\n",
      "25:\tlearn: 40.3795206\ttest: 49.3653213\tbest: 49.3653213 (25)\ttotal: 96.5ms\tremaining: 26ms\n",
      "26:\tlearn: 39.6054038\ttest: 48.3957963\tbest: 48.3957963 (26)\ttotal: 99.8ms\tremaining: 22.2ms\n",
      "27:\tlearn: 38.8872767\ttest: 47.5302166\tbest: 47.5302166 (27)\ttotal: 103ms\tremaining: 18.4ms\n",
      "28:\tlearn: 38.1510284\ttest: 46.6542227\tbest: 46.6542227 (28)\ttotal: 107ms\tremaining: 14.8ms\n",
      "29:\tlearn: 37.4419890\ttest: 45.8282007\tbest: 45.8282007 (29)\ttotal: 111ms\tremaining: 11.1ms\n",
      "30:\tlearn: 36.7836850\ttest: 45.0116959\tbest: 45.0116959 (30)\ttotal: 114ms\tremaining: 7.35ms\n",
      "31:\tlearn: 36.1385837\ttest: 44.2166146\tbest: 44.2166146 (31)\ttotal: 117ms\tremaining: 3.66ms\n",
      "32:\tlearn: 35.4955499\ttest: 43.4072334\tbest: 43.4072334 (32)\ttotal: 121ms\tremaining: 0us\n",
      "\n"
     ]
    },
    {
     "name": "stdout",
     "output_type": "stream",
     "text": [
      "bestTest = 43.4072334\n",
      "bestIteration = 32\n",
      "\n",
      "Training on fold [6/10]\n",
      "0:\tlearn: 72.9232762\ttest: 89.9687470\tbest: 89.9687470 (0)\ttotal: 4.01ms\tremaining: 128ms\n",
      "1:\tlearn: 71.0947956\ttest: 87.7985323\tbest: 87.7985323 (1)\ttotal: 7.13ms\tremaining: 111ms\n",
      "2:\tlearn: 69.3787665\ttest: 85.8406617\tbest: 85.8406617 (2)\ttotal: 11.2ms\tremaining: 112ms\n",
      "3:\tlearn: 67.6483794\ttest: 83.6739916\tbest: 83.6739916 (3)\ttotal: 15.6ms\tremaining: 113ms\n",
      "4:\tlearn: 66.0404333\ttest: 81.8396058\tbest: 81.8396058 (4)\ttotal: 19.8ms\tremaining: 111ms\n",
      "5:\tlearn: 64.4238539\ttest: 79.9460538\tbest: 79.9460538 (5)\ttotal: 23.6ms\tremaining: 106ms\n",
      "6:\tlearn: 62.8493903\ttest: 78.0750901\tbest: 78.0750901 (6)\ttotal: 29.3ms\tremaining: 109ms\n",
      "7:\tlearn: 61.3283608\ttest: 76.3392567\tbest: 76.3392567 (7)\ttotal: 32.9ms\tremaining: 103ms\n",
      "8:\tlearn: 59.8554174\ttest: 74.7164567\tbest: 74.7164567 (8)\ttotal: 36.2ms\tremaining: 96.6ms\n",
      "9:\tlearn: 58.4323802\ttest: 72.9760835\tbest: 72.9760835 (9)\ttotal: 40.3ms\tremaining: 92.7ms\n",
      "10:\tlearn: 57.1137061\ttest: 71.4846709\tbest: 71.4846709 (10)\ttotal: 46ms\tremaining: 92.1ms\n",
      "11:\tlearn: 55.7817598\ttest: 69.9585305\tbest: 69.9585305 (11)\ttotal: 49.7ms\tremaining: 86.9ms\n",
      "12:\tlearn: 54.5210804\ttest: 68.4413521\tbest: 68.4413521 (12)\ttotal: 53ms\tremaining: 81.6ms\n",
      "13:\tlearn: 53.2490561\ttest: 66.9060310\tbest: 66.9060310 (13)\ttotal: 58.3ms\tremaining: 79.1ms\n",
      "14:\tlearn: 52.0368041\ttest: 65.4906669\tbest: 65.4906669 (14)\ttotal: 62.7ms\tremaining: 75.3ms\n",
      "15:\tlearn: 50.8962600\ttest: 64.1205637\tbest: 64.1205637 (15)\ttotal: 66.9ms\tremaining: 71.1ms\n",
      "16:\tlearn: 49.7865323\ttest: 62.7225376\tbest: 62.7225376 (16)\ttotal: 71.1ms\tremaining: 66.9ms\n",
      "17:\tlearn: 48.7288593\ttest: 61.4327939\tbest: 61.4327939 (17)\ttotal: 77.6ms\tremaining: 64.7ms\n",
      "18:\tlearn: 47.6566954\ttest: 60.0873291\tbest: 60.0873291 (18)\ttotal: 81.5ms\tremaining: 60.1ms\n",
      "19:\tlearn: 46.6710151\ttest: 58.8303342\tbest: 58.8303342 (19)\ttotal: 85.9ms\tremaining: 55.8ms\n",
      "20:\tlearn: 45.6626409\ttest: 57.5925828\tbest: 57.5925828 (20)\ttotal: 90.6ms\tremaining: 51.8ms\n",
      "21:\tlearn: 44.6909663\ttest: 56.4438574\tbest: 56.4438574 (21)\ttotal: 94.3ms\tremaining: 47.2ms\n",
      "22:\tlearn: 43.7704550\ttest: 55.3533987\tbest: 55.3533987 (22)\ttotal: 98.4ms\tremaining: 42.8ms\n",
      "23:\tlearn: 42.8897927\ttest: 54.2689743\tbest: 54.2689743 (23)\ttotal: 104ms\tremaining: 38.8ms\n",
      "24:\tlearn: 42.0446391\ttest: 53.3808594\tbest: 53.3808594 (24)\ttotal: 107ms\tremaining: 34.4ms\n",
      "25:\tlearn: 41.2224572\ttest: 52.2938204\tbest: 52.2938204 (25)\ttotal: 112ms\tremaining: 30.2ms\n",
      "26:\tlearn: 40.4295201\ttest: 51.2484880\tbest: 51.2484880 (26)\ttotal: 116ms\tremaining: 25.8ms\n",
      "27:\tlearn: 39.6672702\ttest: 50.3105359\tbest: 50.3105359 (27)\ttotal: 120ms\tremaining: 21.5ms\n",
      "28:\tlearn: 38.9304032\ttest: 49.3701770\tbest: 49.3701770 (28)\ttotal: 124ms\tremaining: 17.1ms\n",
      "29:\tlearn: 38.2247447\ttest: 48.5177342\tbest: 48.5177342 (29)\ttotal: 128ms\tremaining: 12.8ms\n",
      "30:\tlearn: 37.5285264\ttest: 47.5965024\tbest: 47.5965024 (30)\ttotal: 132ms\tremaining: 8.49ms\n",
      "31:\tlearn: 36.8520634\ttest: 46.7158715\tbest: 46.7158715 (31)\ttotal: 137ms\tremaining: 4.27ms\n",
      "32:\tlearn: 36.1904466\ttest: 45.8143938\tbest: 45.8143938 (32)\ttotal: 140ms\tremaining: 0us\n",
      "\n",
      "bestTest = 45.81439378\n",
      "bestIteration = 32\n",
      "\n",
      "Training on fold [7/10]\n",
      "0:\tlearn: 75.2160975\ttest: 97.5053225\tbest: 97.5053225 (0)\ttotal: 4.85ms\tremaining: 155ms\n",
      "1:\tlearn: 73.3080168\ttest: 95.2157636\tbest: 95.2157636 (1)\ttotal: 9.36ms\tremaining: 145ms\n",
      "2:\tlearn: 71.5156236\ttest: 93.1295053\tbest: 93.1295053 (2)\ttotal: 14.4ms\tremaining: 144ms\n",
      "3:\tlearn: 69.7058338\ttest: 90.8408918\tbest: 90.8408918 (3)\ttotal: 19.6ms\tremaining: 142ms\n",
      "4:\tlearn: 67.9973259\ttest: 88.8010994\tbest: 88.8010994 (4)\ttotal: 24.1ms\tremaining: 135ms\n",
      "5:\tlearn: 66.3070306\ttest: 86.8742040\tbest: 86.8742040 (5)\ttotal: 28.2ms\tremaining: 127ms\n",
      "6:\tlearn: 64.6696806\ttest: 84.9320260\tbest: 84.9320260 (6)\ttotal: 33ms\tremaining: 122ms\n",
      "7:\tlearn: 63.0880245\ttest: 83.0433921\tbest: 83.0433921 (7)\ttotal: 39.2ms\tremaining: 122ms\n",
      "8:\tlearn: 61.5431129\ttest: 81.2151494\tbest: 81.2151494 (8)\ttotal: 43.5ms\tremaining: 116ms\n",
      "9:\tlearn: 60.0592719\ttest: 79.5390770\tbest: 79.5390770 (9)\ttotal: 51.2ms\tremaining: 118ms\n",
      "10:\tlearn: 58.6447628\ttest: 77.7846769\tbest: 77.7846769 (10)\ttotal: 55.4ms\tremaining: 111ms\n",
      "11:\tlearn: 57.2602381\ttest: 76.2390322\tbest: 76.2390322 (11)\ttotal: 59.6ms\tremaining: 104ms\n",
      "12:\tlearn: 55.9432412\ttest: 74.6093593\tbest: 74.6093593 (12)\ttotal: 64.6ms\tremaining: 99.4ms\n",
      "13:\tlearn: 54.6223965\ttest: 73.0189324\tbest: 73.0189324 (13)\ttotal: 69.9ms\tremaining: 94.9ms\n",
      "14:\tlearn: 53.3664077\ttest: 71.5436275\tbest: 71.5436275 (14)\ttotal: 73.9ms\tremaining: 88.7ms\n",
      "15:\tlearn: 52.1618986\ttest: 70.0444961\tbest: 70.0444961 (15)\ttotal: 77.8ms\tremaining: 82.7ms\n",
      "16:\tlearn: 51.0069511\ttest: 68.5626978\tbest: 68.5626978 (16)\ttotal: 81.3ms\tremaining: 76.5ms\n",
      "17:\tlearn: 49.9105958\ttest: 67.2518234\tbest: 67.2518234 (17)\ttotal: 85ms\tremaining: 70.8ms\n",
      "18:\tlearn: 48.8488691\ttest: 66.0071203\tbest: 66.0071203 (18)\ttotal: 88.3ms\tremaining: 65.1ms\n",
      "19:\tlearn: 47.8171709\ttest: 64.6613605\tbest: 64.6613605 (19)\ttotal: 92.1ms\tremaining: 59.9ms\n",
      "20:\tlearn: 46.7730659\ttest: 63.3932137\tbest: 63.3932137 (20)\ttotal: 95.8ms\tremaining: 54.8ms\n",
      "21:\tlearn: 45.7649231\ttest: 62.1781967\tbest: 62.1781967 (21)\ttotal: 99ms\tremaining: 49.5ms\n",
      "22:\tlearn: 44.8071162\ttest: 61.0158425\tbest: 61.0158425 (22)\ttotal: 102ms\tremaining: 44.5ms\n",
      "23:\tlearn: 43.8960848\ttest: 59.8406790\tbest: 59.8406790 (23)\ttotal: 106ms\tremaining: 39.6ms\n",
      "24:\tlearn: 42.9956900\ttest: 58.8019498\tbest: 58.8019498 (24)\ttotal: 109ms\tremaining: 35ms\n",
      "25:\tlearn: 42.1364386\ttest: 57.7050410\tbest: 57.7050410 (25)\ttotal: 113ms\tremaining: 30.3ms\n",
      "26:\tlearn: 41.2883366\ttest: 56.5809164\tbest: 56.5809164 (26)\ttotal: 116ms\tremaining: 25.7ms\n",
      "27:\tlearn: 40.5123668\ttest: 55.6429172\tbest: 55.6429172 (27)\ttotal: 119ms\tremaining: 21.2ms\n",
      "28:\tlearn: 39.7309879\ttest: 54.5938933\tbest: 54.5938933 (28)\ttotal: 123ms\tremaining: 16.9ms\n",
      "29:\tlearn: 38.9716891\ttest: 53.6596547\tbest: 53.6596547 (29)\ttotal: 126ms\tremaining: 12.6ms\n",
      "30:\tlearn: 38.2649871\ttest: 52.6670148\tbest: 52.6670148 (30)\ttotal: 129ms\tremaining: 8.35ms\n",
      "31:\tlearn: 37.5616694\ttest: 51.6919887\tbest: 51.6919887 (31)\ttotal: 133ms\tremaining: 4.14ms\n",
      "32:\tlearn: 36.8721499\ttest: 50.7228041\tbest: 50.7228041 (32)\ttotal: 136ms\tremaining: 0us\n",
      "\n",
      "bestTest = 50.72280409\n",
      "bestIteration = 32\n",
      "\n",
      "Training on fold [8/10]\n",
      "0:\tlearn: 77.9485166\ttest: 108.4889190\tbest: 108.4889190 (0)\ttotal: 5.31ms\tremaining: 170ms\n",
      "1:\tlearn: 75.9088901\ttest: 106.1016534\tbest: 106.1016534 (1)\ttotal: 9.42ms\tremaining: 146ms\n",
      "2:\tlearn: 74.0319597\ttest: 103.9121620\tbest: 103.9121620 (2)\ttotal: 14.2ms\tremaining: 142ms\n",
      "3:\tlearn: 72.1381476\ttest: 101.5238288\tbest: 101.5238288 (3)\ttotal: 19.6ms\tremaining: 142ms\n",
      "4:\tlearn: 70.3871070\ttest: 99.4543351\tbest: 99.4543351 (4)\ttotal: 24.7ms\tremaining: 138ms\n",
      "5:\tlearn: 68.6275257\ttest: 97.4288607\tbest: 97.4288607 (5)\ttotal: 29.8ms\tremaining: 134ms\n",
      "6:\tlearn: 66.9185998\ttest: 95.4211904\tbest: 95.4211904 (6)\ttotal: 33.9ms\tremaining: 126ms\n",
      "7:\tlearn: 65.2561975\ttest: 93.4385525\tbest: 93.4385525 (7)\ttotal: 38.9ms\tremaining: 122ms\n",
      "8:\tlearn: 63.6426526\ttest: 91.5285837\tbest: 91.5285837 (8)\ttotal: 44.5ms\tremaining: 119ms\n",
      "9:\tlearn: 62.0614844\ttest: 89.5928183\tbest: 89.5928183 (9)\ttotal: 50.8ms\tremaining: 117ms\n",
      "10:\tlearn: 60.5812320\ttest: 87.7203913\tbest: 87.7203913 (10)\ttotal: 56.4ms\tremaining: 113ms\n",
      "11:\tlearn: 59.1377242\ttest: 86.1312768\tbest: 86.1312768 (11)\ttotal: 61.6ms\tremaining: 108ms\n",
      "12:\tlearn: 57.7422393\ttest: 84.3616480\tbest: 84.3616480 (12)\ttotal: 65ms\tremaining: 100ms\n",
      "13:\tlearn: 56.3714326\ttest: 82.6932920\tbest: 82.6932920 (13)\ttotal: 68.3ms\tremaining: 92.7ms\n",
      "14:\tlearn: 55.0692924\ttest: 81.1723927\tbest: 81.1723927 (14)\ttotal: 75ms\tremaining: 89.9ms\n",
      "15:\tlearn: 53.8140974\ttest: 79.6269672\tbest: 79.6269672 (15)\ttotal: 79.6ms\tremaining: 84.6ms\n",
      "16:\tlearn: 52.6058357\ttest: 78.0997967\tbest: 78.0997967 (16)\ttotal: 83.9ms\tremaining: 79ms\n",
      "17:\tlearn: 51.4710630\ttest: 76.6752827\tbest: 76.6752827 (17)\ttotal: 87.8ms\tremaining: 73.2ms\n",
      "18:\tlearn: 50.3527287\ttest: 75.2051817\tbest: 75.2051817 (18)\ttotal: 91.6ms\tremaining: 67.5ms\n",
      "19:\tlearn: 49.2767580\ttest: 73.7075776\tbest: 73.7075776 (19)\ttotal: 95.3ms\tremaining: 62ms\n",
      "20:\tlearn: 48.1911532\ttest: 72.3763356\tbest: 72.3763356 (20)\ttotal: 98.9ms\tremaining: 56.5ms\n",
      "21:\tlearn: 47.1448484\ttest: 71.1636683\tbest: 71.1636683 (21)\ttotal: 104ms\tremaining: 51.8ms\n",
      "22:\tlearn: 46.1476398\ttest: 69.9503528\tbest: 69.9503528 (22)\ttotal: 108ms\tremaining: 46.9ms\n",
      "23:\tlearn: 45.1913173\ttest: 68.7284761\tbest: 68.7284761 (23)\ttotal: 112ms\tremaining: 41.8ms\n",
      "24:\tlearn: 44.2545214\ttest: 67.6030827\tbest: 67.6030827 (24)\ttotal: 116ms\tremaining: 37ms\n",
      "25:\tlearn: 43.3648984\ttest: 66.4056289\tbest: 66.4056289 (25)\ttotal: 121ms\tremaining: 32.5ms\n",
      "26:\tlearn: 42.5114303\ttest: 65.2574614\tbest: 65.2574614 (26)\ttotal: 125ms\tremaining: 27.7ms\n",
      "27:\tlearn: 41.6893023\ttest: 64.1729661\tbest: 64.1729661 (27)\ttotal: 128ms\tremaining: 22.9ms\n",
      "28:\tlearn: 40.8661461\ttest: 62.9904062\tbest: 62.9904062 (28)\ttotal: 133ms\tremaining: 18.3ms\n",
      "29:\tlearn: 40.1050276\ttest: 62.0494187\tbest: 62.0494187 (29)\ttotal: 136ms\tremaining: 13.6ms\n",
      "30:\tlearn: 39.3581329\ttest: 60.9992561\tbest: 60.9992561 (30)\ttotal: 140ms\tremaining: 9.03ms\n",
      "31:\tlearn: 38.6398282\ttest: 59.9279920\tbest: 59.9279920 (31)\ttotal: 144ms\tremaining: 4.5ms\n",
      "32:\tlearn: 37.9455368\ttest: 58.9329333\tbest: 58.9329333 (32)\ttotal: 148ms\tremaining: 0us\n",
      "\n",
      "bestTest = 58.93293327\n",
      "bestIteration = 32\n",
      "\n",
      "Training on fold [9/10]\n",
      "0:\tlearn: 81.4427582\ttest: 117.3466136\tbest: 117.3466136 (0)\ttotal: 6.93ms\tremaining: 222ms\n",
      "1:\tlearn: 79.3482584\ttest: 114.8400438\tbest: 114.8400438 (1)\ttotal: 10.5ms\tremaining: 163ms\n"
     ]
    },
    {
     "name": "stdout",
     "output_type": "stream",
     "text": [
      "2:\tlearn: 77.3736818\ttest: 112.6441926\tbest: 112.6441926 (2)\ttotal: 14.8ms\tremaining: 148ms\n",
      "3:\tlearn: 75.3866025\ttest: 110.1443260\tbest: 110.1443260 (3)\ttotal: 20.1ms\tremaining: 146ms\n",
      "4:\tlearn: 73.5384170\ttest: 107.9957455\tbest: 107.9957455 (4)\ttotal: 24.6ms\tremaining: 138ms\n",
      "5:\tlearn: 71.6994191\ttest: 105.7677265\tbest: 105.7677265 (5)\ttotal: 29.2ms\tremaining: 131ms\n",
      "6:\tlearn: 69.9124236\ttest: 103.7866969\tbest: 103.7866969 (6)\ttotal: 33.6ms\tremaining: 125ms\n",
      "7:\tlearn: 68.1911011\ttest: 101.6945449\tbest: 101.6945449 (7)\ttotal: 37.9ms\tremaining: 119ms\n",
      "8:\tlearn: 66.5015002\ttest: 99.7297697\tbest: 99.7297697 (8)\ttotal: 41.5ms\tremaining: 111ms\n",
      "9:\tlearn: 64.8487854\ttest: 97.7316822\tbest: 97.7316822 (9)\ttotal: 46ms\tremaining: 106ms\n",
      "10:\tlearn: 63.3582632\ttest: 95.9116927\tbest: 95.9116927 (10)\ttotal: 51.3ms\tremaining: 103ms\n",
      "11:\tlearn: 61.8481107\ttest: 94.1328000\tbest: 94.1328000 (11)\ttotal: 56.2ms\tremaining: 98.3ms\n",
      "12:\tlearn: 60.4005815\ttest: 92.3508359\tbest: 92.3508359 (12)\ttotal: 60.3ms\tremaining: 92.7ms\n",
      "13:\tlearn: 58.9392223\ttest: 90.5273178\tbest: 90.5273178 (13)\ttotal: 64.4ms\tremaining: 87.5ms\n",
      "14:\tlearn: 57.5801136\ttest: 88.9952456\tbest: 88.9952456 (14)\ttotal: 69.2ms\tremaining: 83ms\n",
      "15:\tlearn: 56.2652563\ttest: 87.3744085\tbest: 87.3744085 (15)\ttotal: 74.2ms\tremaining: 78.9ms\n",
      "16:\tlearn: 54.9938734\ttest: 85.7029454\tbest: 85.7029454 (16)\ttotal: 78.7ms\tremaining: 74.1ms\n",
      "17:\tlearn: 53.7278979\ttest: 84.0108426\tbest: 84.0108426 (17)\ttotal: 83.5ms\tremaining: 69.6ms\n",
      "18:\tlearn: 52.5128498\ttest: 82.6601465\tbest: 82.6601465 (18)\ttotal: 87.6ms\tremaining: 64.6ms\n",
      "19:\tlearn: 51.3757998\ttest: 81.0837210\tbest: 81.0837210 (19)\ttotal: 91.3ms\tremaining: 59.4ms\n",
      "20:\tlearn: 50.2425237\ttest: 79.7095646\tbest: 79.7095646 (20)\ttotal: 97.8ms\tremaining: 55.9ms\n",
      "21:\tlearn: 49.1595367\ttest: 78.3918818\tbest: 78.3918818 (21)\ttotal: 102ms\tremaining: 50.8ms\n",
      "22:\tlearn: 48.1386476\ttest: 76.9389214\tbest: 76.9389214 (22)\ttotal: 105ms\tremaining: 45.8ms\n",
      "23:\tlearn: 47.1365359\ttest: 75.5613425\tbest: 75.5613425 (23)\ttotal: 109ms\tremaining: 41ms\n",
      "24:\tlearn: 46.1581408\ttest: 74.3713725\tbest: 74.3713725 (24)\ttotal: 113ms\tremaining: 36.3ms\n",
      "25:\tlearn: 45.2214494\ttest: 73.0844100\tbest: 73.0844100 (25)\ttotal: 117ms\tremaining: 31.5ms\n",
      "26:\tlearn: 44.2936529\ttest: 71.8896044\tbest: 71.8896044 (26)\ttotal: 121ms\tremaining: 26.8ms\n",
      "27:\tlearn: 43.4310404\ttest: 70.7890436\tbest: 70.7890436 (27)\ttotal: 125ms\tremaining: 22.3ms\n",
      "28:\tlearn: 42.5642731\ttest: 69.5334062\tbest: 69.5334062 (28)\ttotal: 130ms\tremaining: 17.9ms\n",
      "29:\tlearn: 41.7654587\ttest: 68.5507187\tbest: 68.5507187 (29)\ttotal: 134ms\tremaining: 13.4ms\n",
      "30:\tlearn: 41.0116032\ttest: 67.4077145\tbest: 67.4077145 (30)\ttotal: 137ms\tremaining: 8.86ms\n",
      "31:\tlearn: 40.2565404\ttest: 66.3101485\tbest: 66.3101485 (31)\ttotal: 143ms\tremaining: 4.46ms\n",
      "32:\tlearn: 39.4986037\ttest: 65.2329667\tbest: 65.2329667 (32)\ttotal: 147ms\tremaining: 0us\n",
      "\n",
      "bestTest = 65.2329667\n",
      "bestIteration = 32\n",
      "\n",
      "Training on fold [0/10]\n",
      "0:\tlearn: 61.6130729\ttest: 64.1449488\tbest: 64.1449488 (0)\ttotal: 3.34ms\tremaining: 137ms\n",
      "1:\tlearn: 60.2078744\ttest: 62.7754476\tbest: 62.7754476 (1)\ttotal: 5.81ms\tremaining: 116ms\n",
      "2:\tlearn: 58.9362889\ttest: 61.4939859\tbest: 61.4939859 (2)\ttotal: 7.53ms\tremaining: 97.8ms\n",
      "3:\tlearn: 57.6615798\ttest: 60.2516447\tbest: 60.2516447 (3)\ttotal: 9.3ms\tremaining: 88.3ms\n",
      "4:\tlearn: 56.4553932\ttest: 59.0537923\tbest: 59.0537923 (4)\ttotal: 11.2ms\tremaining: 83ms\n",
      "5:\tlearn: 55.2232366\ttest: 57.8139969\tbest: 57.8139969 (5)\ttotal: 13ms\tremaining: 78.3ms\n",
      "6:\tlearn: 54.0786091\ttest: 56.6285578\tbest: 56.6285578 (6)\ttotal: 14.9ms\tremaining: 74.4ms\n",
      "7:\tlearn: 52.9223562\ttest: 55.4942691\tbest: 55.4942691 (7)\ttotal: 17.6ms\tremaining: 74.8ms\n",
      "8:\tlearn: 51.7818117\ttest: 54.3723962\tbest: 54.3723962 (8)\ttotal: 20.4ms\tremaining: 74.8ms\n",
      "9:\tlearn: 50.6418342\ttest: 53.2557110\tbest: 53.2557110 (9)\ttotal: 22.5ms\tremaining: 71.9ms\n",
      "10:\tlearn: 49.6177268\ttest: 52.2540828\tbest: 52.2540828 (10)\ttotal: 24.5ms\tremaining: 69ms\n",
      "11:\tlearn: 48.4718167\ttest: 51.1458094\tbest: 51.1458094 (11)\ttotal: 26.7ms\tremaining: 66.8ms\n",
      "12:\tlearn: 47.4424450\ttest: 50.1167746\tbest: 50.1167746 (12)\ttotal: 28.6ms\tremaining: 63.7ms\n",
      "13:\tlearn: 46.5208437\ttest: 49.2715606\tbest: 49.2715606 (13)\ttotal: 30.8ms\tremaining: 61.7ms\n",
      "14:\tlearn: 45.5220630\ttest: 48.2901233\tbest: 48.2901233 (14)\ttotal: 33ms\tremaining: 59.4ms\n",
      "15:\tlearn: 44.5688954\ttest: 47.3240393\tbest: 47.3240393 (15)\ttotal: 35.4ms\tremaining: 57.6ms\n",
      "16:\tlearn: 43.6896278\ttest: 46.4903812\tbest: 46.4903812 (16)\ttotal: 38ms\tremaining: 55.8ms\n",
      "17:\tlearn: 42.7742542\ttest: 45.5882380\tbest: 45.5882380 (17)\ttotal: 40.4ms\tremaining: 53.9ms\n",
      "18:\tlearn: 41.9706048\ttest: 44.8085052\tbest: 44.8085052 (18)\ttotal: 42.7ms\tremaining: 51.7ms\n",
      "19:\tlearn: 41.1649644\ttest: 44.0166945\tbest: 44.0166945 (19)\ttotal: 45.5ms\tremaining: 50.1ms\n",
      "20:\tlearn: 40.3152894\ttest: 43.1663041\tbest: 43.1663041 (20)\ttotal: 47.9ms\tremaining: 47.9ms\n",
      "21:\tlearn: 39.5757591\ttest: 42.4855575\tbest: 42.4855575 (21)\ttotal: 50.2ms\tremaining: 45.6ms\n",
      "22:\tlearn: 38.8571508\ttest: 41.7721323\tbest: 41.7721323 (22)\ttotal: 52ms\tremaining: 43ms\n",
      "23:\tlearn: 38.1714312\ttest: 41.1191089\tbest: 41.1191089 (23)\ttotal: 53.9ms\tremaining: 40.5ms\n",
      "24:\tlearn: 37.4701591\ttest: 40.4076517\tbest: 40.4076517 (24)\ttotal: 56.2ms\tremaining: 38.2ms\n",
      "25:\tlearn: 36.8116098\ttest: 39.7575348\tbest: 39.7575348 (25)\ttotal: 58.3ms\tremaining: 35.9ms\n",
      "26:\tlearn: 36.0987605\ttest: 39.0719558\tbest: 39.0719558 (26)\ttotal: 61ms\tremaining: 33.9ms\n",
      "27:\tlearn: 35.5506425\ttest: 38.5353378\tbest: 38.5353378 (27)\ttotal: 63.5ms\tremaining: 31.8ms\n",
      "28:\tlearn: 34.8728702\ttest: 37.8712648\tbest: 37.8712648 (28)\ttotal: 65.7ms\tremaining: 29.5ms\n",
      "29:\tlearn: 34.2494081\ttest: 37.2646771\tbest: 37.2646771 (29)\ttotal: 67.7ms\tremaining: 27.1ms\n",
      "30:\tlearn: 33.6779540\ttest: 36.7129435\tbest: 36.7129435 (30)\ttotal: 69.7ms\tremaining: 24.7ms\n",
      "31:\tlearn: 33.1064660\ttest: 36.1406242\tbest: 36.1406242 (31)\ttotal: 71.9ms\tremaining: 22.5ms\n",
      "32:\tlearn: 32.5645186\ttest: 35.6151956\tbest: 35.6151956 (32)\ttotal: 74.5ms\tremaining: 20.3ms\n",
      "33:\tlearn: 32.0301805\ttest: 35.0897490\tbest: 35.0897490 (33)\ttotal: 76.8ms\tremaining: 18.1ms\n",
      "34:\tlearn: 31.5351333\ttest: 34.5836443\tbest: 34.5836443 (34)\ttotal: 79ms\tremaining: 15.8ms\n",
      "35:\tlearn: 31.0122771\ttest: 34.0849193\tbest: 34.0849193 (35)\ttotal: 81.8ms\tremaining: 13.6ms\n",
      "36:\tlearn: 30.5070139\ttest: 33.5863398\tbest: 33.5863398 (36)\ttotal: 84.2ms\tremaining: 11.4ms\n",
      "37:\tlearn: 30.0999055\ttest: 33.2083719\tbest: 33.2083719 (37)\ttotal: 86.3ms\tremaining: 9.09ms\n",
      "38:\tlearn: 29.6635341\ttest: 32.7820954\tbest: 32.7820954 (38)\ttotal: 88.8ms\tremaining: 6.83ms\n",
      "39:\tlearn: 29.2322880\ttest: 32.3595923\tbest: 32.3595923 (39)\ttotal: 91ms\tremaining: 4.55ms\n",
      "40:\tlearn: 28.8345435\ttest: 31.9927855\tbest: 31.9927855 (40)\ttotal: 93.1ms\tremaining: 2.27ms\n",
      "41:\tlearn: 28.4498922\ttest: 31.6514275\tbest: 31.6514275 (41)\ttotal: 95.2ms\tremaining: 0us\n",
      "\n",
      "bestTest = 31.65142751\n",
      "bestIteration = 41\n",
      "\n",
      "Training on fold [1/10]\n",
      "0:\tlearn: 62.6956292\ttest: 64.4497239\tbest: 64.4497239 (0)\ttotal: 2.46ms\tremaining: 101ms\n",
      "1:\tlearn: 61.2379302\ttest: 63.0011716\tbest: 63.0011716 (1)\ttotal: 4.64ms\tremaining: 92.8ms\n",
      "2:\tlearn: 59.8612578\ttest: 61.6129078\tbest: 61.6129078 (2)\ttotal: 7.05ms\tremaining: 91.6ms\n",
      "3:\tlearn: 58.4017889\ttest: 60.1635850\tbest: 60.1635850 (3)\ttotal: 9.04ms\tremaining: 85.8ms\n",
      "4:\tlearn: 57.0758138\ttest: 58.8709176\tbest: 58.8709176 (4)\ttotal: 11ms\tremaining: 81.8ms\n",
      "5:\tlearn: 55.7691014\ttest: 57.5874662\tbest: 57.5874662 (5)\ttotal: 13.2ms\tremaining: 78.9ms\n",
      "6:\tlearn: 54.4740056\ttest: 56.3113587\tbest: 56.3113587 (6)\ttotal: 15.3ms\tremaining: 76.4ms\n",
      "7:\tlearn: 53.1657068\ttest: 55.0197670\tbest: 55.0197670 (7)\ttotal: 17.4ms\tremaining: 73.8ms\n",
      "8:\tlearn: 51.9274558\ttest: 53.8040244\tbest: 53.8040244 (8)\ttotal: 19.8ms\tremaining: 72.7ms\n",
      "9:\tlearn: 50.7655189\ttest: 52.6664064\tbest: 52.6664064 (9)\ttotal: 22.8ms\tremaining: 72.9ms\n",
      "10:\tlearn: 49.6553340\ttest: 51.5483507\tbest: 51.5483507 (10)\ttotal: 25ms\tremaining: 70.5ms\n",
      "11:\tlearn: 48.4929141\ttest: 50.3948354\tbest: 50.3948354 (11)\ttotal: 27.3ms\tremaining: 68.3ms\n",
      "12:\tlearn: 47.4799182\ttest: 49.4214430\tbest: 49.4214430 (12)\ttotal: 29.8ms\tremaining: 66.4ms\n",
      "13:\tlearn: 46.4443663\ttest: 48.4175809\tbest: 48.4175809 (13)\ttotal: 32.1ms\tremaining: 64.3ms\n",
      "14:\tlearn: 45.4255536\ttest: 47.3785997\tbest: 47.3785997 (14)\ttotal: 34.9ms\tremaining: 62.8ms\n",
      "15:\tlearn: 44.4540809\ttest: 46.4054189\tbest: 46.4054189 (15)\ttotal: 38.6ms\tremaining: 62.7ms\n",
      "16:\tlearn: 43.5232818\ttest: 45.4674477\tbest: 45.4674477 (16)\ttotal: 41.4ms\tremaining: 60.9ms\n",
      "17:\tlearn: 42.6659243\ttest: 44.6270865\tbest: 44.6270865 (17)\ttotal: 44ms\tremaining: 58.6ms\n",
      "18:\tlearn: 41.8493505\ttest: 43.8098761\tbest: 43.8098761 (18)\ttotal: 46.6ms\tremaining: 56.4ms\n",
      "19:\tlearn: 41.0154385\ttest: 42.9745966\tbest: 42.9745966 (19)\ttotal: 49.7ms\tremaining: 54.6ms\n",
      "20:\tlearn: 40.1879861\ttest: 42.1439907\tbest: 42.1439907 (20)\ttotal: 53.2ms\tremaining: 53.2ms\n",
      "21:\tlearn: 39.3703530\ttest: 41.3535000\tbest: 41.3535000 (21)\ttotal: 55.9ms\tremaining: 50.8ms\n",
      "22:\tlearn: 38.6049203\ttest: 40.6586387\tbest: 40.6586387 (22)\ttotal: 58ms\tremaining: 47.9ms\n",
      "23:\tlearn: 37.8809283\ttest: 40.2139117\tbest: 40.2139117 (23)\ttotal: 60.3ms\tremaining: 45.2ms\n",
      "24:\tlearn: 37.0922361\ttest: 39.4633029\tbest: 39.4633029 (24)\ttotal: 62.5ms\tremaining: 42.5ms\n",
      "25:\tlearn: 36.4440345\ttest: 38.8155988\tbest: 38.8155988 (25)\ttotal: 66.3ms\tremaining: 40.8ms\n"
     ]
    },
    {
     "name": "stdout",
     "output_type": "stream",
     "text": [
      "26:\tlearn: 35.7515896\ttest: 38.1150216\tbest: 38.1150216 (26)\ttotal: 70.3ms\tremaining: 39ms\n",
      "27:\tlearn: 35.0807165\ttest: 37.4308837\tbest: 37.4308837 (27)\ttotal: 72.9ms\tremaining: 36.4ms\n",
      "28:\tlearn: 34.4300152\ttest: 36.7922370\tbest: 36.7922370 (28)\ttotal: 75.3ms\tremaining: 33.7ms\n",
      "29:\tlearn: 33.8216055\ttest: 36.1887377\tbest: 36.1887377 (29)\ttotal: 78ms\tremaining: 31.2ms\n",
      "30:\tlearn: 33.1954851\ttest: 35.5900468\tbest: 35.5900468 (30)\ttotal: 80.8ms\tremaining: 28.7ms\n",
      "31:\tlearn: 32.6274457\ttest: 35.0438414\tbest: 35.0438414 (31)\ttotal: 84.4ms\tremaining: 26.4ms\n",
      "32:\tlearn: 32.1037665\ttest: 34.5261160\tbest: 34.5261160 (32)\ttotal: 86.8ms\tremaining: 23.7ms\n",
      "33:\tlearn: 31.5541384\ttest: 33.9863683\tbest: 33.9863683 (33)\ttotal: 89ms\tremaining: 20.9ms\n",
      "34:\tlearn: 30.9931725\ttest: 33.4511210\tbest: 33.4511210 (34)\ttotal: 91.3ms\tremaining: 18.3ms\n",
      "35:\tlearn: 30.4427029\ttest: 32.9642216\tbest: 32.9642216 (35)\ttotal: 94.3ms\tremaining: 15.7ms\n",
      "36:\tlearn: 29.9601115\ttest: 32.5023640\tbest: 32.5023640 (36)\ttotal: 100ms\tremaining: 13.5ms\n",
      "37:\tlearn: 29.4807795\ttest: 32.0092576\tbest: 32.0092576 (37)\ttotal: 104ms\tremaining: 10.9ms\n",
      "38:\tlearn: 29.0000826\ttest: 31.5459295\tbest: 31.5459295 (38)\ttotal: 108ms\tremaining: 8.3ms\n",
      "39:\tlearn: 28.6071090\ttest: 31.1532439\tbest: 31.1532439 (39)\ttotal: 111ms\tremaining: 5.56ms\n",
      "40:\tlearn: 28.1932651\ttest: 30.8271700\tbest: 30.8271700 (40)\ttotal: 115ms\tremaining: 2.8ms\n",
      "41:\tlearn: 27.7831987\ttest: 30.4078197\tbest: 30.4078197 (41)\ttotal: 120ms\tremaining: 0us\n",
      "\n",
      "bestTest = 30.40781971\n",
      "bestIteration = 41\n",
      "\n",
      "Training on fold [2/10]\n",
      "0:\tlearn: 63.2564954\ttest: 74.5591727\tbest: 74.5591727 (0)\ttotal: 7.45ms\tremaining: 305ms\n",
      "1:\tlearn: 61.7547225\ttest: 73.0627843\tbest: 73.0627843 (1)\ttotal: 10.2ms\tremaining: 203ms\n",
      "2:\tlearn: 60.3110162\ttest: 71.6089424\tbest: 71.6089424 (2)\ttotal: 13ms\tremaining: 169ms\n",
      "3:\tlearn: 58.8329954\ttest: 70.0829260\tbest: 70.0829260 (3)\ttotal: 16.1ms\tremaining: 153ms\n",
      "4:\tlearn: 57.4757217\ttest: 68.7222543\tbest: 68.7222543 (4)\ttotal: 20.8ms\tremaining: 154ms\n",
      "5:\tlearn: 56.1216722\ttest: 67.3539609\tbest: 67.3539609 (5)\ttotal: 24.2ms\tremaining: 145ms\n",
      "6:\tlearn: 54.7959006\ttest: 65.9065929\tbest: 65.9065929 (6)\ttotal: 27ms\tremaining: 135ms\n",
      "7:\tlearn: 53.4712169\ttest: 64.5501702\tbest: 64.5501702 (7)\ttotal: 29.9ms\tremaining: 127ms\n",
      "8:\tlearn: 52.2263660\ttest: 63.4196937\tbest: 63.4196937 (8)\ttotal: 34.2ms\tremaining: 126ms\n",
      "9:\tlearn: 51.0567521\ttest: 62.1542202\tbest: 62.1542202 (9)\ttotal: 37.8ms\tremaining: 121ms\n",
      "10:\tlearn: 49.9264657\ttest: 60.9471143\tbest: 60.9471143 (10)\ttotal: 40.6ms\tremaining: 115ms\n",
      "11:\tlearn: 48.7611516\ttest: 59.6979875\tbest: 59.6979875 (11)\ttotal: 43.4ms\tremaining: 109ms\n",
      "12:\tlearn: 47.7050063\ttest: 58.5619680\tbest: 58.5619680 (12)\ttotal: 46.9ms\tremaining: 105ms\n",
      "13:\tlearn: 46.6203833\ttest: 57.3845010\tbest: 57.3845010 (13)\ttotal: 51ms\tremaining: 102ms\n",
      "14:\tlearn: 45.5810734\ttest: 56.2693393\tbest: 56.2693393 (14)\ttotal: 53.8ms\tremaining: 96.8ms\n",
      "15:\tlearn: 44.5857961\ttest: 55.1550831\tbest: 55.1550831 (15)\ttotal: 56.3ms\tremaining: 91.5ms\n",
      "16:\tlearn: 43.6178188\ttest: 54.1631972\tbest: 54.1631972 (16)\ttotal: 60.4ms\tremaining: 88.9ms\n",
      "17:\tlearn: 42.7159779\ttest: 53.2412911\tbest: 53.2412911 (17)\ttotal: 66.5ms\tremaining: 88.6ms\n",
      "18:\tlearn: 41.8579526\ttest: 52.3321147\tbest: 52.3321147 (18)\ttotal: 71.2ms\tremaining: 86.2ms\n",
      "19:\tlearn: 41.0081857\ttest: 51.3994801\tbest: 51.3994801 (19)\ttotal: 74.3ms\tremaining: 81.8ms\n",
      "20:\tlearn: 40.1754694\ttest: 50.5381172\tbest: 50.5381172 (20)\ttotal: 78ms\tremaining: 78ms\n",
      "21:\tlearn: 39.3755948\ttest: 49.6644288\tbest: 49.6644288 (21)\ttotal: 82.1ms\tremaining: 74.7ms\n",
      "22:\tlearn: 38.5834103\ttest: 48.9236725\tbest: 48.9236725 (22)\ttotal: 85.7ms\tremaining: 70.8ms\n",
      "23:\tlearn: 37.8713984\ttest: 48.1243965\tbest: 48.1243965 (23)\ttotal: 89.6ms\tremaining: 67.2ms\n",
      "24:\tlearn: 37.1283251\ttest: 47.4171505\tbest: 47.4171505 (24)\ttotal: 97.8ms\tremaining: 66.5ms\n",
      "25:\tlearn: 36.4540726\ttest: 46.8229316\tbest: 46.8229316 (25)\ttotal: 101ms\tremaining: 61.9ms\n",
      "26:\tlearn: 35.7626591\ttest: 46.0840603\tbest: 46.0840603 (26)\ttotal: 104ms\tremaining: 57.6ms\n",
      "27:\tlearn: 35.0912508\ttest: 45.3000949\tbest: 45.3000949 (27)\ttotal: 107ms\tremaining: 53.5ms\n",
      "28:\tlearn: 34.4337482\ttest: 44.6203836\tbest: 44.6203836 (28)\ttotal: 113ms\tremaining: 50.8ms\n",
      "29:\tlearn: 33.8274647\ttest: 43.9665525\tbest: 43.9665525 (29)\ttotal: 118ms\tremaining: 47.3ms\n",
      "30:\tlearn: 33.2092934\ttest: 43.3348973\tbest: 43.3348973 (30)\ttotal: 123ms\tremaining: 43.5ms\n",
      "31:\tlearn: 32.6438932\ttest: 42.7751231\tbest: 42.7751231 (31)\ttotal: 127ms\tremaining: 39.7ms\n",
      "32:\tlearn: 32.0995967\ttest: 42.2079224\tbest: 42.2079224 (32)\ttotal: 131ms\tremaining: 35.8ms\n",
      "33:\tlearn: 31.5575135\ttest: 41.5629797\tbest: 41.5629797 (33)\ttotal: 136ms\tremaining: 32.1ms\n",
      "34:\tlearn: 31.0047818\ttest: 40.9325825\tbest: 40.9325825 (34)\ttotal: 141ms\tremaining: 28.1ms\n",
      "35:\tlearn: 30.4625656\ttest: 40.4016617\tbest: 40.4016617 (35)\ttotal: 144ms\tremaining: 24ms\n",
      "36:\tlearn: 29.9932079\ttest: 39.9220107\tbest: 39.9220107 (36)\ttotal: 148ms\tremaining: 20ms\n",
      "37:\tlearn: 29.5005725\ttest: 39.4139694\tbest: 39.4139694 (37)\ttotal: 152ms\tremaining: 16ms\n",
      "38:\tlearn: 29.0378011\ttest: 38.9509890\tbest: 38.9509890 (38)\ttotal: 154ms\tremaining: 11.9ms\n",
      "39:\tlearn: 28.6377799\ttest: 38.4868858\tbest: 38.4868858 (39)\ttotal: 157ms\tremaining: 7.87ms\n",
      "40:\tlearn: 28.2395362\ttest: 38.0617954\tbest: 38.0617954 (40)\ttotal: 161ms\tremaining: 3.92ms\n",
      "41:\tlearn: 27.8561273\ttest: 37.6059628\tbest: 37.6059628 (41)\ttotal: 164ms\tremaining: 0us\n",
      "\n",
      "bestTest = 37.60596282\n",
      "bestIteration = 41\n",
      "\n",
      "Training on fold [3/10]\n",
      "0:\tlearn: 66.1834941\ttest: 74.2515204\tbest: 74.2515204 (0)\ttotal: 5.32ms\tremaining: 218ms\n",
      "1:\tlearn: 64.5613898\ttest: 72.5155506\tbest: 72.5155506 (1)\ttotal: 10.4ms\tremaining: 208ms\n",
      "2:\tlearn: 63.0799886\ttest: 71.0527488\tbest: 71.0527488 (2)\ttotal: 13.9ms\tremaining: 181ms\n",
      "3:\tlearn: 61.5030142\ttest: 69.3972174\tbest: 69.3972174 (3)\ttotal: 17.9ms\tremaining: 170ms\n",
      "4:\tlearn: 60.0900044\ttest: 67.9301075\tbest: 67.9301075 (4)\ttotal: 21.8ms\tremaining: 162ms\n",
      "5:\tlearn: 58.6434037\ttest: 66.5012207\tbest: 66.5012207 (5)\ttotal: 25.9ms\tremaining: 155ms\n",
      "6:\tlearn: 57.2441458\ttest: 65.0665673\tbest: 65.0665673 (6)\ttotal: 29.2ms\tremaining: 146ms\n",
      "7:\tlearn: 55.9101144\ttest: 63.6519815\tbest: 63.6519815 (7)\ttotal: 32.2ms\tremaining: 137ms\n",
      "8:\tlearn: 54.6697942\ttest: 62.3887898\tbest: 62.3887898 (8)\ttotal: 36ms\tremaining: 132ms\n",
      "9:\tlearn: 53.4388937\ttest: 61.1906123\tbest: 61.1906123 (9)\ttotal: 40ms\tremaining: 128ms\n",
      "10:\tlearn: 52.3014636\ttest: 59.9834534\tbest: 59.9834534 (10)\ttotal: 45ms\tremaining: 127ms\n",
      "11:\tlearn: 51.0825886\ttest: 58.8215908\tbest: 58.8215908 (11)\ttotal: 48.1ms\tremaining: 120ms\n",
      "12:\tlearn: 49.9802853\ttest: 57.6945782\tbest: 57.6945782 (12)\ttotal: 53.1ms\tremaining: 118ms\n",
      "13:\tlearn: 48.8333774\ttest: 56.4930512\tbest: 56.4930512 (13)\ttotal: 57.1ms\tremaining: 114ms\n",
      "14:\tlearn: 47.7456665\ttest: 55.3392154\tbest: 55.3392154 (14)\ttotal: 60.5ms\tremaining: 109ms\n",
      "15:\tlearn: 46.7298505\ttest: 54.2459742\tbest: 54.2459742 (15)\ttotal: 65.3ms\tremaining: 106ms\n",
      "16:\tlearn: 45.7498571\ttest: 53.1965355\tbest: 53.1965355 (16)\ttotal: 70.9ms\tremaining: 104ms\n",
      "17:\tlearn: 44.7955552\ttest: 52.1861724\tbest: 52.1861724 (17)\ttotal: 75.4ms\tremaining: 101ms\n",
      "18:\tlearn: 43.8574952\ttest: 51.2765444\tbest: 51.2765444 (18)\ttotal: 79.1ms\tremaining: 95.7ms\n",
      "19:\tlearn: 42.9712620\ttest: 50.9175692\tbest: 50.9175692 (19)\ttotal: 83.1ms\tremaining: 91.4ms\n",
      "20:\tlearn: 42.0504494\ttest: 49.9004389\tbest: 49.9004389 (20)\ttotal: 87.3ms\tremaining: 87.3ms\n",
      "21:\tlearn: 41.1763294\ttest: 48.9843056\tbest: 48.9843056 (21)\ttotal: 91.3ms\tremaining: 83ms\n",
      "22:\tlearn: 40.3441606\ttest: 48.1377863\tbest: 48.1377863 (22)\ttotal: 96.3ms\tremaining: 79.6ms\n",
      "23:\tlearn: 39.5790754\ttest: 47.2580873\tbest: 47.2580873 (23)\ttotal: 99.8ms\tremaining: 74.8ms\n",
      "24:\tlearn: 38.7983552\ttest: 46.4814085\tbest: 46.4814085 (24)\ttotal: 104ms\tremaining: 70.6ms\n",
      "25:\tlearn: 38.0560508\ttest: 45.6538022\tbest: 45.6538022 (25)\ttotal: 109ms\tremaining: 67ms\n",
      "26:\tlearn: 37.3276640\ttest: 44.8442430\tbest: 44.8442430 (26)\ttotal: 114ms\tremaining: 63.6ms\n",
      "27:\tlearn: 36.6876192\ttest: 44.1897495\tbest: 44.1897495 (27)\ttotal: 119ms\tremaining: 59.3ms\n",
      "28:\tlearn: 36.0110888\ttest: 43.4357065\tbest: 43.4357065 (28)\ttotal: 123ms\tremaining: 55.2ms\n",
      "29:\tlearn: 35.3827416\ttest: 42.7923621\tbest: 42.7923621 (29)\ttotal: 128ms\tremaining: 51.3ms\n",
      "30:\tlearn: 34.7454222\ttest: 42.0701694\tbest: 42.0701694 (30)\ttotal: 132ms\tremaining: 46.9ms\n",
      "31:\tlearn: 34.1362806\ttest: 41.3890922\tbest: 41.3890922 (31)\ttotal: 135ms\tremaining: 42.3ms\n",
      "32:\tlearn: 33.5436010\ttest: 40.7534396\tbest: 40.7534396 (32)\ttotal: 141ms\tremaining: 38.4ms\n",
      "33:\tlearn: 32.9882377\ttest: 40.0936948\tbest: 40.0936948 (33)\ttotal: 144ms\tremaining: 33.9ms\n",
      "34:\tlearn: 32.4460138\ttest: 39.5169199\tbest: 39.5169199 (34)\ttotal: 147ms\tremaining: 29.5ms\n",
      "35:\tlearn: 31.8994593\ttest: 38.9461629\tbest: 38.9461629 (35)\ttotal: 150ms\tremaining: 25.1ms\n",
      "36:\tlearn: 31.4124013\ttest: 38.4236670\tbest: 38.4236670 (36)\ttotal: 154ms\tremaining: 20.8ms\n",
      "37:\tlearn: 30.9276398\ttest: 37.9211631\tbest: 37.9211631 (37)\ttotal: 158ms\tremaining: 16.6ms\n",
      "38:\tlearn: 30.4475781\ttest: 37.3480501\tbest: 37.3480501 (38)\ttotal: 161ms\tremaining: 12.4ms\n",
      "39:\tlearn: 30.0346327\ttest: 36.9371474\tbest: 36.9371474 (39)\ttotal: 164ms\tremaining: 8.2ms\n",
      "40:\tlearn: 29.6012935\ttest: 36.4523548\tbest: 36.4523548 (40)\ttotal: 168ms\tremaining: 4.09ms\n",
      "41:\tlearn: 29.1714546\ttest: 35.9525000\tbest: 35.9525000 (41)\ttotal: 172ms\tremaining: 0us\n",
      "\n",
      "bestTest = 35.9525\n",
      "bestIteration = 41\n",
      "\n",
      "Training on fold [4/10]\n",
      "0:\tlearn: 67.8131957\ttest: 85.8359300\tbest: 85.8359300 (0)\ttotal: 4.94ms\tremaining: 202ms\n",
      "1:\tlearn: 66.1353816\ttest: 83.9281040\tbest: 83.9281040 (1)\ttotal: 8.3ms\tremaining: 166ms\n",
      "2:\tlearn: 64.6069950\ttest: 82.4596680\tbest: 82.4596680 (2)\ttotal: 11.4ms\tremaining: 148ms\n",
      "3:\tlearn: 62.9827484\ttest: 80.7079233\tbest: 80.7079233 (3)\ttotal: 15.5ms\tremaining: 148ms\n",
      "4:\tlearn: 61.5189461\ttest: 79.1498936\tbest: 79.1498936 (4)\ttotal: 19.8ms\tremaining: 147ms\n",
      "5:\tlearn: 60.0368804\ttest: 77.6527687\tbest: 77.6527687 (5)\ttotal: 23.4ms\tremaining: 140ms\n",
      "6:\tlearn: 58.5973754\ttest: 76.1667668\tbest: 76.1667668 (6)\ttotal: 26.6ms\tremaining: 133ms\n",
      "7:\tlearn: 57.2115126\ttest: 74.6281139\tbest: 74.6281139 (7)\ttotal: 30.7ms\tremaining: 131ms\n"
     ]
    },
    {
     "name": "stdout",
     "output_type": "stream",
     "text": [
      "8:\tlearn: 55.8497156\ttest: 73.1702428\tbest: 73.1702428 (8)\ttotal: 36ms\tremaining: 132ms\n",
      "9:\tlearn: 54.5831485\ttest: 71.8381201\tbest: 71.8381201 (9)\ttotal: 39ms\tremaining: 125ms\n",
      "10:\tlearn: 53.4078596\ttest: 70.6076265\tbest: 70.6076265 (10)\ttotal: 42.3ms\tremaining: 119ms\n",
      "11:\tlearn: 52.1762729\ttest: 69.2641938\tbest: 69.2641938 (11)\ttotal: 46.5ms\tremaining: 116ms\n",
      "12:\tlearn: 51.0311097\ttest: 67.9914333\tbest: 67.9914333 (12)\ttotal: 50ms\tremaining: 112ms\n",
      "13:\tlearn: 49.8705890\ttest: 66.7445400\tbest: 66.7445400 (13)\ttotal: 53.6ms\tremaining: 107ms\n",
      "14:\tlearn: 48.7589445\ttest: 65.5050550\tbest: 65.5050550 (14)\ttotal: 57.4ms\tremaining: 103ms\n",
      "15:\tlearn: 47.7076489\ttest: 64.3201646\tbest: 64.3201646 (15)\ttotal: 61.8ms\tremaining: 100ms\n",
      "16:\tlearn: 46.7059847\ttest: 63.2056831\tbest: 63.2056831 (16)\ttotal: 65.7ms\tremaining: 96.6ms\n",
      "17:\tlearn: 45.7206234\ttest: 62.0809897\tbest: 62.0809897 (17)\ttotal: 70.5ms\tremaining: 94ms\n",
      "18:\tlearn: 44.7667996\ttest: 60.9844574\tbest: 60.9844574 (18)\ttotal: 73.8ms\tremaining: 89.4ms\n",
      "19:\tlearn: 43.8709381\ttest: 59.9444058\tbest: 59.9444058 (19)\ttotal: 78ms\tremaining: 85.7ms\n",
      "20:\tlearn: 42.9399186\ttest: 58.7902940\tbest: 58.7902940 (20)\ttotal: 81.2ms\tremaining: 81.2ms\n",
      "21:\tlearn: 42.0456575\ttest: 57.8178750\tbest: 57.8178750 (21)\ttotal: 84.6ms\tremaining: 77ms\n",
      "22:\tlearn: 41.1941369\ttest: 56.9206153\tbest: 56.9206153 (22)\ttotal: 88.8ms\tremaining: 73.4ms\n",
      "23:\tlearn: 40.3852177\ttest: 55.9966981\tbest: 55.9966981 (23)\ttotal: 92.5ms\tremaining: 69.4ms\n",
      "24:\tlearn: 39.5929493\ttest: 55.1865354\tbest: 55.1865354 (24)\ttotal: 97.3ms\tremaining: 66.2ms\n",
      "25:\tlearn: 38.8302997\ttest: 54.2737812\tbest: 54.2737812 (25)\ttotal: 101ms\tremaining: 62.4ms\n",
      "26:\tlearn: 38.1334342\ttest: 53.4875104\tbest: 53.4875104 (26)\ttotal: 105ms\tremaining: 58.3ms\n",
      "27:\tlearn: 37.4760912\ttest: 52.7484425\tbest: 52.7484425 (27)\ttotal: 108ms\tremaining: 54ms\n",
      "28:\tlearn: 36.7820413\ttest: 51.9968898\tbest: 51.9968898 (28)\ttotal: 111ms\tremaining: 49.8ms\n",
      "29:\tlearn: 36.1268888\ttest: 51.2484503\tbest: 51.2484503 (29)\ttotal: 114ms\tremaining: 45.7ms\n",
      "30:\tlearn: 35.5015566\ttest: 50.3864641\tbest: 50.3864641 (30)\ttotal: 118ms\tremaining: 41.9ms\n",
      "31:\tlearn: 34.8801946\ttest: 49.5982657\tbest: 49.5982657 (31)\ttotal: 121ms\tremaining: 38ms\n",
      "32:\tlearn: 34.2670602\ttest: 48.7757000\tbest: 48.7757000 (32)\ttotal: 125ms\tremaining: 34ms\n",
      "33:\tlearn: 33.6954830\ttest: 48.0425966\tbest: 48.0425966 (33)\ttotal: 128ms\tremaining: 30.1ms\n",
      "34:\tlearn: 33.1425595\ttest: 47.4215295\tbest: 47.4215295 (34)\ttotal: 131ms\tremaining: 26.3ms\n",
      "35:\tlearn: 32.6154171\ttest: 46.8699315\tbest: 46.8699315 (35)\ttotal: 135ms\tremaining: 22.5ms\n",
      "36:\tlearn: 32.1228362\ttest: 46.3107069\tbest: 46.3107069 (36)\ttotal: 138ms\tremaining: 18.7ms\n",
      "37:\tlearn: 31.6251327\ttest: 45.7780844\tbest: 45.7780844 (37)\ttotal: 141ms\tremaining: 14.9ms\n",
      "38:\tlearn: 31.1083278\ttest: 45.0513528\tbest: 45.0513528 (38)\ttotal: 145ms\tremaining: 11.2ms\n",
      "39:\tlearn: 30.6711740\ttest: 44.5877721\tbest: 44.5877721 (39)\ttotal: 148ms\tremaining: 7.42ms\n",
      "40:\tlearn: 30.2487020\ttest: 44.0261285\tbest: 44.0261285 (40)\ttotal: 152ms\tremaining: 3.71ms\n",
      "41:\tlearn: 29.7942041\ttest: 43.4559647\tbest: 43.4559647 (41)\ttotal: 156ms\tremaining: 0us\n",
      "\n",
      "bestTest = 43.45596469\n",
      "bestIteration = 41\n",
      "\n",
      "Training on fold [5/10]\n",
      "0:\tlearn: 70.9521651\ttest: 84.0663809\tbest: 84.0663809 (0)\ttotal: 4.77ms\tremaining: 196ms\n",
      "1:\tlearn: 69.1898781\ttest: 82.0656584\tbest: 82.0656584 (1)\ttotal: 8ms\tremaining: 160ms\n",
      "2:\tlearn: 67.5378819\ttest: 80.2156140\tbest: 80.2156140 (2)\ttotal: 11.1ms\tremaining: 144ms\n",
      "3:\tlearn: 65.8642472\ttest: 78.3266089\tbest: 78.3266089 (3)\ttotal: 14.3ms\tremaining: 136ms\n",
      "4:\tlearn: 64.3154105\ttest: 76.6375769\tbest: 76.6375769 (4)\ttotal: 19.3ms\tremaining: 143ms\n",
      "5:\tlearn: 62.7454345\ttest: 74.8813907\tbest: 74.8813907 (5)\ttotal: 23.2ms\tremaining: 139ms\n",
      "6:\tlearn: 61.2257467\ttest: 73.1248111\tbest: 73.1248111 (6)\ttotal: 26.6ms\tremaining: 133ms\n",
      "7:\tlearn: 59.7579259\ttest: 71.4825062\tbest: 71.4825062 (7)\ttotal: 30ms\tremaining: 127ms\n",
      "8:\tlearn: 58.3788347\ttest: 69.8781034\tbest: 69.8781034 (8)\ttotal: 35.3ms\tremaining: 129ms\n",
      "9:\tlearn: 57.0004792\ttest: 68.3903046\tbest: 68.3903046 (9)\ttotal: 39.9ms\tremaining: 128ms\n",
      "10:\tlearn: 55.6926479\ttest: 66.8696702\tbest: 66.8696702 (10)\ttotal: 43ms\tremaining: 121ms\n",
      "11:\tlearn: 54.4049723\ttest: 65.4326210\tbest: 65.4326210 (11)\ttotal: 46.5ms\tremaining: 116ms\n",
      "12:\tlearn: 53.1969054\ttest: 64.0351520\tbest: 64.0351520 (12)\ttotal: 54.1ms\tremaining: 121ms\n",
      "13:\tlearn: 51.9623807\ttest: 62.6561486\tbest: 62.6561486 (13)\ttotal: 58.6ms\tremaining: 117ms\n",
      "14:\tlearn: 50.7882085\ttest: 61.3295623\tbest: 61.3295623 (14)\ttotal: 62.4ms\tremaining: 112ms\n",
      "15:\tlearn: 49.6976478\ttest: 60.0625844\tbest: 60.0625844 (15)\ttotal: 66.5ms\tremaining: 108ms\n",
      "16:\tlearn: 48.6306839\ttest: 58.7620404\tbest: 58.7620404 (16)\ttotal: 69.9ms\tremaining: 103ms\n",
      "17:\tlearn: 47.6235930\ttest: 57.6336282\tbest: 57.6336282 (17)\ttotal: 73.1ms\tremaining: 97.5ms\n",
      "18:\tlearn: 46.6122289\ttest: 56.5996797\tbest: 56.5996797 (18)\ttotal: 76.1ms\tremaining: 92.1ms\n",
      "19:\tlearn: 45.6632881\ttest: 55.4395790\tbest: 55.4395790 (19)\ttotal: 79.8ms\tremaining: 87.8ms\n",
      "20:\tlearn: 44.6848152\ttest: 54.2980341\tbest: 54.2980341 (20)\ttotal: 83.2ms\tremaining: 83.2ms\n",
      "21:\tlearn: 43.7463614\ttest: 53.2082708\tbest: 53.2082708 (21)\ttotal: 87.9ms\tremaining: 79.9ms\n",
      "22:\tlearn: 42.8437693\ttest: 52.1805336\tbest: 52.1805336 (22)\ttotal: 91.3ms\tremaining: 75.4ms\n",
      "23:\tlearn: 42.0017476\ttest: 51.1600891\tbest: 51.1600891 (23)\ttotal: 94.6ms\tremaining: 71ms\n",
      "24:\tlearn: 41.1762124\ttest: 50.3035937\tbest: 50.3035937 (24)\ttotal: 97.6ms\tremaining: 66.4ms\n",
      "25:\tlearn: 40.3795206\ttest: 49.3653213\tbest: 49.3653213 (25)\ttotal: 101ms\tremaining: 61.9ms\n",
      "26:\tlearn: 39.6054038\ttest: 48.3957963\tbest: 48.3957963 (26)\ttotal: 104ms\tremaining: 57.5ms\n",
      "27:\tlearn: 38.8872767\ttest: 47.5302166\tbest: 47.5302166 (27)\ttotal: 107ms\tremaining: 53.3ms\n",
      "28:\tlearn: 38.1510284\ttest: 46.6542227\tbest: 46.6542227 (28)\ttotal: 110ms\tremaining: 49.3ms\n",
      "29:\tlearn: 37.4419890\ttest: 45.8282007\tbest: 45.8282007 (29)\ttotal: 113ms\tremaining: 45.2ms\n",
      "30:\tlearn: 36.7836850\ttest: 45.0116959\tbest: 45.0116959 (30)\ttotal: 116ms\tremaining: 41.1ms\n",
      "31:\tlearn: 36.1385837\ttest: 44.2166146\tbest: 44.2166146 (31)\ttotal: 119ms\tremaining: 37.2ms\n",
      "32:\tlearn: 35.4955499\ttest: 43.4072334\tbest: 43.4072334 (32)\ttotal: 123ms\tremaining: 33.4ms\n",
      "33:\tlearn: 34.9001643\ttest: 42.6668200\tbest: 42.6668200 (33)\ttotal: 126ms\tremaining: 29.7ms\n",
      "34:\tlearn: 34.3226525\ttest: 42.0168451\tbest: 42.0168451 (34)\ttotal: 130ms\tremaining: 25.9ms\n",
      "35:\tlearn: 33.7688451\ttest: 41.3917436\tbest: 41.3917436 (35)\ttotal: 133ms\tremaining: 22.1ms\n",
      "36:\tlearn: 33.2707606\ttest: 40.7696351\tbest: 40.7696351 (36)\ttotal: 136ms\tremaining: 18.4ms\n",
      "37:\tlearn: 32.7495252\ttest: 40.1940811\tbest: 40.1940811 (37)\ttotal: 139ms\tremaining: 14.7ms\n",
      "38:\tlearn: 32.2144728\ttest: 39.4623747\tbest: 39.4623747 (38)\ttotal: 142ms\tremaining: 10.9ms\n",
      "39:\tlearn: 31.7491345\ttest: 38.9744532\tbest: 38.9744532 (39)\ttotal: 145ms\tremaining: 7.25ms\n",
      "40:\tlearn: 31.2960603\ttest: 38.3672973\tbest: 38.3672973 (40)\ttotal: 148ms\tremaining: 3.62ms\n",
      "41:\tlearn: 30.8672307\ttest: 37.7865743\tbest: 37.7865743 (41)\ttotal: 151ms\tremaining: 0us\n",
      "\n",
      "bestTest = 37.78657432\n",
      "bestIteration = 41\n",
      "\n",
      "Training on fold [6/10]\n",
      "0:\tlearn: 72.9232762\ttest: 89.9687470\tbest: 89.9687470 (0)\ttotal: 3.67ms\tremaining: 151ms\n",
      "1:\tlearn: 71.0947956\ttest: 87.7985323\tbest: 87.7985323 (1)\ttotal: 6.83ms\tremaining: 137ms\n",
      "2:\tlearn: 69.3787665\ttest: 85.8406617\tbest: 85.8406617 (2)\ttotal: 10ms\tremaining: 130ms\n",
      "3:\tlearn: 67.6483794\ttest: 83.6739916\tbest: 83.6739916 (3)\ttotal: 13.3ms\tremaining: 126ms\n",
      "4:\tlearn: 66.0404333\ttest: 81.8396058\tbest: 81.8396058 (4)\ttotal: 16.9ms\tremaining: 125ms\n",
      "5:\tlearn: 64.4238539\ttest: 79.9460538\tbest: 79.9460538 (5)\ttotal: 20.2ms\tremaining: 121ms\n",
      "6:\tlearn: 62.8493903\ttest: 78.0750901\tbest: 78.0750901 (6)\ttotal: 25ms\tremaining: 125ms\n",
      "7:\tlearn: 61.3283608\ttest: 76.3392567\tbest: 76.3392567 (7)\ttotal: 28.9ms\tremaining: 123ms\n",
      "8:\tlearn: 59.8554174\ttest: 74.7164567\tbest: 74.7164567 (8)\ttotal: 32.7ms\tremaining: 120ms\n",
      "9:\tlearn: 58.4323802\ttest: 72.9760835\tbest: 72.9760835 (9)\ttotal: 38.4ms\tremaining: 123ms\n",
      "10:\tlearn: 57.1137061\ttest: 71.4846709\tbest: 71.4846709 (10)\ttotal: 43ms\tremaining: 121ms\n",
      "11:\tlearn: 55.7817598\ttest: 69.9585305\tbest: 69.9585305 (11)\ttotal: 48.2ms\tremaining: 120ms\n",
      "12:\tlearn: 54.5210804\ttest: 68.4413521\tbest: 68.4413521 (12)\ttotal: 52.3ms\tremaining: 117ms\n",
      "13:\tlearn: 53.2490561\ttest: 66.9060310\tbest: 66.9060310 (13)\ttotal: 56.1ms\tremaining: 112ms\n",
      "14:\tlearn: 52.0368041\ttest: 65.4906669\tbest: 65.4906669 (14)\ttotal: 60ms\tremaining: 108ms\n",
      "15:\tlearn: 50.8962600\ttest: 64.1205637\tbest: 64.1205637 (15)\ttotal: 64ms\tremaining: 104ms\n",
      "16:\tlearn: 49.7865323\ttest: 62.7225376\tbest: 62.7225376 (16)\ttotal: 68.2ms\tremaining: 100ms\n",
      "17:\tlearn: 48.7288593\ttest: 61.4327939\tbest: 61.4327939 (17)\ttotal: 72.8ms\tremaining: 97.1ms\n",
      "18:\tlearn: 47.6566954\ttest: 60.0873291\tbest: 60.0873291 (18)\ttotal: 76.6ms\tremaining: 92.7ms\n",
      "19:\tlearn: 46.6710151\ttest: 58.8303342\tbest: 58.8303342 (19)\ttotal: 80.1ms\tremaining: 88.1ms\n",
      "20:\tlearn: 45.6626409\ttest: 57.5925828\tbest: 57.5925828 (20)\ttotal: 84.1ms\tremaining: 84.1ms\n",
      "21:\tlearn: 44.6909663\ttest: 56.4438574\tbest: 56.4438574 (21)\ttotal: 87.3ms\tremaining: 79.4ms\n",
      "22:\tlearn: 43.7704550\ttest: 55.3533987\tbest: 55.3533987 (22)\ttotal: 91.4ms\tremaining: 75.5ms\n",
      "23:\tlearn: 42.8897927\ttest: 54.2689743\tbest: 54.2689743 (23)\ttotal: 95.8ms\tremaining: 71.8ms\n",
      "24:\tlearn: 42.0446391\ttest: 53.3808594\tbest: 53.3808594 (24)\ttotal: 102ms\tremaining: 69.3ms\n",
      "25:\tlearn: 41.2224572\ttest: 52.2938204\tbest: 52.2938204 (25)\ttotal: 106ms\tremaining: 65ms\n",
      "26:\tlearn: 40.4295201\ttest: 51.2484880\tbest: 51.2484880 (26)\ttotal: 112ms\tremaining: 62.5ms\n",
      "27:\tlearn: 39.6672702\ttest: 50.3105359\tbest: 50.3105359 (27)\ttotal: 116ms\tremaining: 58.1ms\n",
      "28:\tlearn: 38.9304032\ttest: 49.3701770\tbest: 49.3701770 (28)\ttotal: 120ms\tremaining: 53.9ms\n",
      "29:\tlearn: 38.2247447\ttest: 48.5177342\tbest: 48.5177342 (29)\ttotal: 125ms\tremaining: 49.8ms\n",
      "30:\tlearn: 37.5285264\ttest: 47.5965024\tbest: 47.5965024 (30)\ttotal: 130ms\tremaining: 46.2ms\n",
      "31:\tlearn: 36.8520634\ttest: 46.7158715\tbest: 46.7158715 (31)\ttotal: 136ms\tremaining: 42.5ms\n",
      "32:\tlearn: 36.1904466\ttest: 45.8143938\tbest: 45.8143938 (32)\ttotal: 141ms\tremaining: 38.5ms\n",
      "33:\tlearn: 35.5725454\ttest: 44.9866395\tbest: 44.9866395 (33)\ttotal: 146ms\tremaining: 34.3ms\n",
      "34:\tlearn: 34.9775418\ttest: 44.3036121\tbest: 44.3036121 (34)\ttotal: 151ms\tremaining: 30.2ms\n",
      "35:\tlearn: 34.3809169\ttest: 43.6523259\tbest: 43.6523259 (35)\ttotal: 155ms\tremaining: 25.9ms\n",
      "36:\tlearn: 33.8291772\ttest: 42.9059678\tbest: 42.9059678 (36)\ttotal: 160ms\tremaining: 21.6ms\n",
      "37:\tlearn: 33.2962485\ttest: 42.3211411\tbest: 42.3211411 (37)\ttotal: 165ms\tremaining: 17.4ms\n",
      "38:\tlearn: 32.7649338\ttest: 41.5673100\tbest: 41.5673100 (38)\ttotal: 169ms\tremaining: 13ms\n",
      "39:\tlearn: 32.2640216\ttest: 40.9286497\tbest: 40.9286497 (39)\ttotal: 172ms\tremaining: 8.61ms\n",
      "40:\tlearn: 31.7743925\ttest: 40.2859159\tbest: 40.2859159 (40)\ttotal: 176ms\tremaining: 4.29ms\n",
      "41:\tlearn: 31.3217520\ttest: 39.6332379\tbest: 39.6332379 (41)\ttotal: 179ms\tremaining: 0us\n",
      "\n",
      "bestTest = 39.63323793\n",
      "bestIteration = 41\n",
      "\n",
      "Training on fold [7/10]\n"
     ]
    },
    {
     "name": "stdout",
     "output_type": "stream",
     "text": [
      "0:\tlearn: 75.2160975\ttest: 97.5053225\tbest: 97.5053225 (0)\ttotal: 8ms\tremaining: 328ms\n",
      "1:\tlearn: 73.3080168\ttest: 95.2157636\tbest: 95.2157636 (1)\ttotal: 14.6ms\tremaining: 293ms\n",
      "2:\tlearn: 71.5156236\ttest: 93.1295053\tbest: 93.1295053 (2)\ttotal: 19.2ms\tremaining: 249ms\n",
      "3:\tlearn: 69.7058338\ttest: 90.8408918\tbest: 90.8408918 (3)\ttotal: 24ms\tremaining: 228ms\n",
      "4:\tlearn: 67.9973259\ttest: 88.8010994\tbest: 88.8010994 (4)\ttotal: 31.3ms\tremaining: 231ms\n",
      "5:\tlearn: 66.3070306\ttest: 86.8742040\tbest: 86.8742040 (5)\ttotal: 36ms\tremaining: 216ms\n",
      "6:\tlearn: 64.6696806\ttest: 84.9320260\tbest: 84.9320260 (6)\ttotal: 43.7ms\tremaining: 219ms\n",
      "7:\tlearn: 63.0880245\ttest: 83.0433921\tbest: 83.0433921 (7)\ttotal: 49.6ms\tremaining: 211ms\n",
      "8:\tlearn: 61.5431129\ttest: 81.2151494\tbest: 81.2151494 (8)\ttotal: 55.8ms\tremaining: 204ms\n",
      "9:\tlearn: 60.0592719\ttest: 79.5390770\tbest: 79.5390770 (9)\ttotal: 62.9ms\tremaining: 201ms\n",
      "10:\tlearn: 58.6447628\ttest: 77.7846769\tbest: 77.7846769 (10)\ttotal: 66.6ms\tremaining: 188ms\n",
      "11:\tlearn: 57.2602381\ttest: 76.2390322\tbest: 76.2390322 (11)\ttotal: 71.9ms\tremaining: 180ms\n",
      "12:\tlearn: 55.9432412\ttest: 74.6093593\tbest: 74.6093593 (12)\ttotal: 76.3ms\tremaining: 170ms\n",
      "13:\tlearn: 54.6223965\ttest: 73.0189324\tbest: 73.0189324 (13)\ttotal: 80.3ms\tremaining: 161ms\n",
      "14:\tlearn: 53.3664077\ttest: 71.5436275\tbest: 71.5436275 (14)\ttotal: 84.6ms\tremaining: 152ms\n",
      "15:\tlearn: 52.1618986\ttest: 70.0444961\tbest: 70.0444961 (15)\ttotal: 90.8ms\tremaining: 148ms\n",
      "16:\tlearn: 51.0069511\ttest: 68.5626978\tbest: 68.5626978 (16)\ttotal: 94.6ms\tremaining: 139ms\n",
      "17:\tlearn: 49.9105958\ttest: 67.2518234\tbest: 67.2518234 (17)\ttotal: 98.5ms\tremaining: 131ms\n",
      "18:\tlearn: 48.8488691\ttest: 66.0071203\tbest: 66.0071203 (18)\ttotal: 105ms\tremaining: 127ms\n",
      "19:\tlearn: 47.8171709\ttest: 64.6613605\tbest: 64.6613605 (19)\ttotal: 109ms\tremaining: 120ms\n",
      "20:\tlearn: 46.7730659\ttest: 63.3932137\tbest: 63.3932137 (20)\ttotal: 113ms\tremaining: 113ms\n",
      "21:\tlearn: 45.7649231\ttest: 62.1781967\tbest: 62.1781967 (21)\ttotal: 120ms\tremaining: 109ms\n",
      "22:\tlearn: 44.8071162\ttest: 61.0158425\tbest: 61.0158425 (22)\ttotal: 124ms\tremaining: 102ms\n",
      "23:\tlearn: 43.8960848\ttest: 59.8406790\tbest: 59.8406790 (23)\ttotal: 129ms\tremaining: 96.6ms\n",
      "24:\tlearn: 42.9956900\ttest: 58.8019498\tbest: 58.8019498 (24)\ttotal: 138ms\tremaining: 93.6ms\n",
      "25:\tlearn: 42.1364386\ttest: 57.7050410\tbest: 57.7050410 (25)\ttotal: 142ms\tremaining: 87.4ms\n",
      "26:\tlearn: 41.2883366\ttest: 56.5809164\tbest: 56.5809164 (26)\ttotal: 149ms\tremaining: 82.6ms\n",
      "27:\tlearn: 40.5123668\ttest: 55.6429172\tbest: 55.6429172 (27)\ttotal: 154ms\tremaining: 76.9ms\n",
      "28:\tlearn: 39.7309879\ttest: 54.5938933\tbest: 54.5938933 (28)\ttotal: 158ms\tremaining: 71ms\n",
      "29:\tlearn: 38.9716891\ttest: 53.6596547\tbest: 53.6596547 (29)\ttotal: 163ms\tremaining: 65.3ms\n",
      "30:\tlearn: 38.2649871\ttest: 52.6670148\tbest: 52.6670148 (30)\ttotal: 170ms\tremaining: 60.3ms\n",
      "31:\tlearn: 37.5616694\ttest: 51.6919887\tbest: 51.6919887 (31)\ttotal: 174ms\tremaining: 54.4ms\n",
      "32:\tlearn: 36.8721499\ttest: 50.7228041\tbest: 50.7228041 (32)\ttotal: 181ms\tremaining: 49.4ms\n",
      "33:\tlearn: 36.2327655\ttest: 49.8321701\tbest: 49.8321701 (33)\ttotal: 187ms\tremaining: 44ms\n",
      "34:\tlearn: 35.6193999\ttest: 49.1129902\tbest: 49.1129902 (34)\ttotal: 191ms\tremaining: 38.2ms\n",
      "35:\tlearn: 35.0026160\ttest: 48.4157262\tbest: 48.4157262 (35)\ttotal: 196ms\tremaining: 32.7ms\n",
      "36:\tlearn: 34.4288682\ttest: 47.6479683\tbest: 47.6479683 (36)\ttotal: 204ms\tremaining: 27.6ms\n",
      "37:\tlearn: 33.8639597\ttest: 46.9984103\tbest: 46.9984103 (37)\ttotal: 210ms\tremaining: 22.1ms\n",
      "38:\tlearn: 33.3007956\ttest: 46.2274682\tbest: 46.2274682 (38)\ttotal: 213ms\tremaining: 16.4ms\n",
      "39:\tlearn: 32.7771265\ttest: 45.5143377\tbest: 45.5143377 (39)\ttotal: 217ms\tremaining: 10.9ms\n",
      "40:\tlearn: 32.3048200\ttest: 44.8952157\tbest: 44.8952157 (40)\ttotal: 221ms\tremaining: 5.38ms\n",
      "41:\tlearn: 31.8321259\ttest: 44.2045073\tbest: 44.2045073 (41)\ttotal: 226ms\tremaining: 0us\n",
      "\n",
      "bestTest = 44.20450727\n",
      "bestIteration = 41\n",
      "\n",
      "Training on fold [8/10]\n",
      "0:\tlearn: 77.9485166\ttest: 108.4889190\tbest: 108.4889190 (0)\ttotal: 5.4ms\tremaining: 221ms\n",
      "1:\tlearn: 75.9088901\ttest: 106.1016534\tbest: 106.1016534 (1)\ttotal: 8.98ms\tremaining: 180ms\n",
      "2:\tlearn: 74.0319597\ttest: 103.9121620\tbest: 103.9121620 (2)\ttotal: 12.2ms\tremaining: 158ms\n",
      "3:\tlearn: 72.1381476\ttest: 101.5238288\tbest: 101.5238288 (3)\ttotal: 15.9ms\tremaining: 151ms\n",
      "4:\tlearn: 70.3871070\ttest: 99.4543351\tbest: 99.4543351 (4)\ttotal: 21.5ms\tremaining: 159ms\n",
      "5:\tlearn: 68.6275257\ttest: 97.4288607\tbest: 97.4288607 (5)\ttotal: 24.8ms\tremaining: 149ms\n",
      "6:\tlearn: 66.9185998\ttest: 95.4211904\tbest: 95.4211904 (6)\ttotal: 28.3ms\tremaining: 141ms\n",
      "7:\tlearn: 65.2561975\ttest: 93.4385525\tbest: 93.4385525 (7)\ttotal: 31.9ms\tremaining: 135ms\n",
      "8:\tlearn: 63.6426526\ttest: 91.5285837\tbest: 91.5285837 (8)\ttotal: 36.4ms\tremaining: 133ms\n",
      "9:\tlearn: 62.0614844\ttest: 89.5928183\tbest: 89.5928183 (9)\ttotal: 40.1ms\tremaining: 128ms\n",
      "10:\tlearn: 60.5812320\ttest: 87.7203913\tbest: 87.7203913 (10)\ttotal: 43.7ms\tremaining: 123ms\n",
      "11:\tlearn: 59.1377242\ttest: 86.1312768\tbest: 86.1312768 (11)\ttotal: 47.3ms\tremaining: 118ms\n",
      "12:\tlearn: 57.7422393\ttest: 84.3616480\tbest: 84.3616480 (12)\ttotal: 51.2ms\tremaining: 114ms\n",
      "13:\tlearn: 56.3714326\ttest: 82.6932920\tbest: 82.6932920 (13)\ttotal: 54.6ms\tremaining: 109ms\n",
      "14:\tlearn: 55.0692924\ttest: 81.1723927\tbest: 81.1723927 (14)\ttotal: 58.2ms\tremaining: 105ms\n",
      "15:\tlearn: 53.8140974\ttest: 79.6269672\tbest: 79.6269672 (15)\ttotal: 62ms\tremaining: 101ms\n",
      "16:\tlearn: 52.6058357\ttest: 78.0997967\tbest: 78.0997967 (16)\ttotal: 65.8ms\tremaining: 96.8ms\n",
      "17:\tlearn: 51.4710630\ttest: 76.6752827\tbest: 76.6752827 (17)\ttotal: 69.7ms\tremaining: 92.9ms\n",
      "18:\tlearn: 50.3527287\ttest: 75.2051817\tbest: 75.2051817 (18)\ttotal: 73.6ms\tremaining: 89ms\n",
      "19:\tlearn: 49.2767580\ttest: 73.7075776\tbest: 73.7075776 (19)\ttotal: 77ms\tremaining: 84.7ms\n",
      "20:\tlearn: 48.1911532\ttest: 72.3763356\tbest: 72.3763356 (20)\ttotal: 81.4ms\tremaining: 81.4ms\n",
      "21:\tlearn: 47.1448484\ttest: 71.1636683\tbest: 71.1636683 (21)\ttotal: 84.7ms\tremaining: 77ms\n",
      "22:\tlearn: 46.1476398\ttest: 69.9503528\tbest: 69.9503528 (22)\ttotal: 88.5ms\tremaining: 73.1ms\n",
      "23:\tlearn: 45.1913173\ttest: 68.7284761\tbest: 68.7284761 (23)\ttotal: 92.6ms\tremaining: 69.5ms\n",
      "24:\tlearn: 44.2545214\ttest: 67.6030827\tbest: 67.6030827 (24)\ttotal: 96.1ms\tremaining: 65.4ms\n",
      "25:\tlearn: 43.3648984\ttest: 66.4056289\tbest: 66.4056289 (25)\ttotal: 100ms\tremaining: 61.7ms\n",
      "26:\tlearn: 42.5114303\ttest: 65.2574614\tbest: 65.2574614 (26)\ttotal: 105ms\tremaining: 58.1ms\n",
      "27:\tlearn: 41.6893023\ttest: 64.1729661\tbest: 64.1729661 (27)\ttotal: 109ms\tremaining: 54.6ms\n",
      "28:\tlearn: 40.8661461\ttest: 62.9904062\tbest: 62.9904062 (28)\ttotal: 114ms\tremaining: 51.2ms\n",
      "29:\tlearn: 40.1050276\ttest: 62.0494187\tbest: 62.0494187 (29)\ttotal: 119ms\tremaining: 47.5ms\n",
      "30:\tlearn: 39.3581329\ttest: 60.9992561\tbest: 60.9992561 (30)\ttotal: 123ms\tremaining: 43.7ms\n",
      "31:\tlearn: 38.6398282\ttest: 59.9279920\tbest: 59.9279920 (31)\ttotal: 128ms\tremaining: 40ms\n",
      "32:\tlearn: 37.9455368\ttest: 58.9329333\tbest: 58.9329333 (32)\ttotal: 134ms\tremaining: 36.5ms\n",
      "33:\tlearn: 37.2719134\ttest: 57.9895654\tbest: 57.9895654 (33)\ttotal: 138ms\tremaining: 32.4ms\n",
      "34:\tlearn: 36.6387563\ttest: 57.1372341\tbest: 57.1372341 (34)\ttotal: 142ms\tremaining: 28.5ms\n",
      "35:\tlearn: 36.0111872\ttest: 56.3917203\tbest: 56.3917203 (35)\ttotal: 147ms\tremaining: 24.5ms\n",
      "36:\tlearn: 35.4361796\ttest: 55.5478203\tbest: 55.5478203 (36)\ttotal: 151ms\tremaining: 20.4ms\n",
      "37:\tlearn: 34.8398374\ttest: 54.8193401\tbest: 54.8193401 (37)\ttotal: 155ms\tremaining: 16.3ms\n",
      "38:\tlearn: 34.2553311\ttest: 53.9832044\tbest: 53.9832044 (38)\ttotal: 160ms\tremaining: 12.3ms\n",
      "39:\tlearn: 33.7372515\ttest: 53.2334367\tbest: 53.2334367 (39)\ttotal: 164ms\tremaining: 8.2ms\n",
      "40:\tlearn: 33.2393267\ttest: 52.5946504\tbest: 52.5946504 (40)\ttotal: 168ms\tremaining: 4.1ms\n",
      "41:\tlearn: 32.7397355\ttest: 51.9289429\tbest: 51.9289429 (41)\ttotal: 172ms\tremaining: 0us\n",
      "\n",
      "bestTest = 51.92894294\n",
      "bestIteration = 41\n",
      "\n",
      "Training on fold [9/10]\n",
      "0:\tlearn: 81.4427582\ttest: 117.3466136\tbest: 117.3466136 (0)\ttotal: 3.73ms\tremaining: 153ms\n",
      "1:\tlearn: 79.3482584\ttest: 114.8400438\tbest: 114.8400438 (1)\ttotal: 7.45ms\tremaining: 149ms\n",
      "2:\tlearn: 77.3736818\ttest: 112.6441926\tbest: 112.6441926 (2)\ttotal: 10.9ms\tremaining: 142ms\n",
      "3:\tlearn: 75.3866025\ttest: 110.1443260\tbest: 110.1443260 (3)\ttotal: 14.9ms\tremaining: 141ms\n",
      "4:\tlearn: 73.5384170\ttest: 107.9957455\tbest: 107.9957455 (4)\ttotal: 18.5ms\tremaining: 137ms\n",
      "5:\tlearn: 71.6994191\ttest: 105.7677265\tbest: 105.7677265 (5)\ttotal: 22.7ms\tremaining: 136ms\n",
      "6:\tlearn: 69.9124236\ttest: 103.7866969\tbest: 103.7866969 (6)\ttotal: 26.1ms\tremaining: 131ms\n",
      "7:\tlearn: 68.1911011\ttest: 101.6945449\tbest: 101.6945449 (7)\ttotal: 29.8ms\tremaining: 126ms\n",
      "8:\tlearn: 66.5015002\ttest: 99.7297697\tbest: 99.7297697 (8)\ttotal: 34.9ms\tremaining: 128ms\n",
      "9:\tlearn: 64.8487854\ttest: 97.7316822\tbest: 97.7316822 (9)\ttotal: 39.4ms\tremaining: 126ms\n",
      "10:\tlearn: 63.3582632\ttest: 95.9116927\tbest: 95.9116927 (10)\ttotal: 45.3ms\tremaining: 128ms\n",
      "11:\tlearn: 61.8481107\ttest: 94.1328000\tbest: 94.1328000 (11)\ttotal: 50.4ms\tremaining: 126ms\n",
      "12:\tlearn: 60.4005815\ttest: 92.3508359\tbest: 92.3508359 (12)\ttotal: 55.4ms\tremaining: 124ms\n",
      "13:\tlearn: 58.9392223\ttest: 90.5273178\tbest: 90.5273178 (13)\ttotal: 59.8ms\tremaining: 120ms\n",
      "14:\tlearn: 57.5801136\ttest: 88.9952456\tbest: 88.9952456 (14)\ttotal: 64.8ms\tremaining: 117ms\n",
      "15:\tlearn: 56.2652563\ttest: 87.3744085\tbest: 87.3744085 (15)\ttotal: 69.6ms\tremaining: 113ms\n",
      "16:\tlearn: 54.9938734\ttest: 85.7029454\tbest: 85.7029454 (16)\ttotal: 74.1ms\tremaining: 109ms\n"
     ]
    },
    {
     "name": "stdout",
     "output_type": "stream",
     "text": [
      "17:\tlearn: 53.7278979\ttest: 84.0108426\tbest: 84.0108426 (17)\ttotal: 79ms\tremaining: 105ms\n",
      "18:\tlearn: 52.5128498\ttest: 82.6601465\tbest: 82.6601465 (18)\ttotal: 85.1ms\tremaining: 103ms\n",
      "19:\tlearn: 51.3757998\ttest: 81.0837210\tbest: 81.0837210 (19)\ttotal: 90.5ms\tremaining: 99.6ms\n",
      "20:\tlearn: 50.2425237\ttest: 79.7095646\tbest: 79.7095646 (20)\ttotal: 94.8ms\tremaining: 94.8ms\n",
      "21:\tlearn: 49.1595367\ttest: 78.3918818\tbest: 78.3918818 (21)\ttotal: 99.7ms\tremaining: 90.7ms\n",
      "22:\tlearn: 48.1386476\ttest: 76.9389214\tbest: 76.9389214 (22)\ttotal: 106ms\tremaining: 87.2ms\n",
      "23:\tlearn: 47.1365359\ttest: 75.5613425\tbest: 75.5613425 (23)\ttotal: 111ms\tremaining: 83.2ms\n",
      "24:\tlearn: 46.1581408\ttest: 74.3713725\tbest: 74.3713725 (24)\ttotal: 116ms\tremaining: 78.6ms\n",
      "25:\tlearn: 45.2214494\ttest: 73.0844100\tbest: 73.0844100 (25)\ttotal: 120ms\tremaining: 73.9ms\n",
      "26:\tlearn: 44.2936529\ttest: 71.8896044\tbest: 71.8896044 (26)\ttotal: 125ms\tremaining: 69.2ms\n",
      "27:\tlearn: 43.4310404\ttest: 70.7890436\tbest: 70.7890436 (27)\ttotal: 129ms\tremaining: 64.4ms\n",
      "28:\tlearn: 42.5642731\ttest: 69.5334062\tbest: 69.5334062 (28)\ttotal: 134ms\tremaining: 60.1ms\n",
      "29:\tlearn: 41.7654587\ttest: 68.5507187\tbest: 68.5507187 (29)\ttotal: 139ms\tremaining: 55.4ms\n",
      "30:\tlearn: 41.0116032\ttest: 67.4077145\tbest: 67.4077145 (30)\ttotal: 144ms\tremaining: 50.9ms\n",
      "31:\tlearn: 40.2565404\ttest: 66.3101485\tbest: 66.3101485 (31)\ttotal: 148ms\tremaining: 46.3ms\n",
      "32:\tlearn: 39.4986037\ttest: 65.2329667\tbest: 65.2329667 (32)\ttotal: 152ms\tremaining: 41.5ms\n",
      "33:\tlearn: 38.7930639\ttest: 64.2747468\tbest: 64.2747468 (33)\ttotal: 157ms\tremaining: 37ms\n",
      "34:\tlearn: 38.1193418\ttest: 63.4015620\tbest: 63.4015620 (34)\ttotal: 162ms\tremaining: 32.5ms\n",
      "35:\tlearn: 37.4605385\ttest: 62.5717325\tbest: 62.5717325 (35)\ttotal: 166ms\tremaining: 27.7ms\n",
      "36:\tlearn: 36.8605842\ttest: 61.6475489\tbest: 61.6475489 (36)\ttotal: 171ms\tremaining: 23.1ms\n",
      "37:\tlearn: 36.2524399\ttest: 60.8690455\tbest: 60.8690455 (37)\ttotal: 177ms\tremaining: 18.6ms\n",
      "38:\tlearn: 35.6361146\ttest: 60.0642994\tbest: 60.0642994 (38)\ttotal: 181ms\tremaining: 13.9ms\n",
      "39:\tlearn: 35.0831621\ttest: 59.2725174\tbest: 59.2725174 (39)\ttotal: 186ms\tremaining: 9.29ms\n",
      "40:\tlearn: 34.5361352\ttest: 58.4157433\tbest: 58.4157433 (40)\ttotal: 191ms\tremaining: 4.66ms\n",
      "41:\tlearn: 33.9921566\ttest: 57.6467956\tbest: 57.6467956 (41)\ttotal: 195ms\tremaining: 0us\n",
      "\n",
      "bestTest = 57.64679558\n",
      "bestIteration = 41\n",
      "\n",
      "Training on fold [0/10]\n",
      "0:\tlearn: 61.5109491\ttest: 64.0081027\tbest: 64.0081027 (0)\ttotal: 1.89ms\tremaining: 30.2ms\n",
      "1:\tlearn: 60.0186286\ttest: 62.4903729\tbest: 62.4903729 (1)\ttotal: 3.27ms\tremaining: 24.6ms\n",
      "2:\tlearn: 58.5923307\ttest: 61.0201003\tbest: 61.0201003 (2)\ttotal: 4.42ms\tremaining: 20.6ms\n",
      "3:\tlearn: 57.2525208\ttest: 59.6881600\tbest: 59.6881600 (3)\ttotal: 5.34ms\tremaining: 17.4ms\n",
      "4:\tlearn: 55.8634901\ttest: 58.2865246\tbest: 58.2865246 (4)\ttotal: 6.39ms\tremaining: 15.3ms\n",
      "5:\tlearn: 54.6142968\ttest: 57.0604473\tbest: 57.0604473 (5)\ttotal: 7.4ms\tremaining: 13.6ms\n",
      "6:\tlearn: 53.3306339\ttest: 55.7773965\tbest: 55.7773965 (6)\ttotal: 8.53ms\tremaining: 12.2ms\n",
      "7:\tlearn: 52.0647556\ttest: 54.5093735\tbest: 54.5093735 (7)\ttotal: 9.46ms\tremaining: 10.6ms\n",
      "8:\tlearn: 50.8536162\ttest: 53.3134461\tbest: 53.3134461 (8)\ttotal: 10.6ms\tremaining: 9.41ms\n",
      "9:\tlearn: 49.7183344\ttest: 52.1809550\tbest: 52.1809550 (9)\ttotal: 28.1ms\tremaining: 19.7ms\n",
      "10:\tlearn: 48.6727134\ttest: 51.1574345\tbest: 51.1574345 (10)\ttotal: 29.2ms\tremaining: 15.9ms\n",
      "11:\tlearn: 47.5848617\ttest: 50.0912531\tbest: 50.0912531 (11)\ttotal: 30.4ms\tremaining: 12.7ms\n",
      "12:\tlearn: 46.5735051\ttest: 49.0898922\tbest: 49.0898922 (12)\ttotal: 31.4ms\tremaining: 9.66ms\n",
      "13:\tlearn: 45.6348737\ttest: 48.1553815\tbest: 48.1553815 (13)\ttotal: 32.2ms\tremaining: 6.91ms\n",
      "14:\tlearn: 44.7519565\ttest: 47.2955564\tbest: 47.2955564 (14)\ttotal: 33.1ms\tremaining: 4.41ms\n",
      "15:\tlearn: 43.8689849\ttest: 46.4525381\tbest: 46.4525381 (15)\ttotal: 34.2ms\tremaining: 2.14ms\n",
      "16:\tlearn: 42.9772382\ttest: 45.5812581\tbest: 45.5812581 (16)\ttotal: 35.9ms\tremaining: 0us\n",
      "\n",
      "bestTest = 45.58125813\n",
      "bestIteration = 16\n",
      "\n",
      "Training on fold [1/10]\n",
      "0:\tlearn: 62.7026044\ttest: 64.4465649\tbest: 64.4465649 (0)\ttotal: 1.87ms\tremaining: 30ms\n",
      "1:\tlearn: 61.2470624\ttest: 63.0007387\tbest: 63.0007387 (1)\ttotal: 2.97ms\tremaining: 22.3ms\n",
      "2:\tlearn: 59.8041630\ttest: 61.5715070\tbest: 61.5715070 (2)\ttotal: 4.01ms\tremaining: 18.7ms\n",
      "3:\tlearn: 58.4327938\ttest: 60.2005130\tbest: 60.2005130 (3)\ttotal: 5.07ms\tremaining: 16.5ms\n",
      "4:\tlearn: 57.0833648\ttest: 58.8675959\tbest: 58.8675959 (4)\ttotal: 6.71ms\tremaining: 16.1ms\n",
      "5:\tlearn: 55.7079556\ttest: 57.4791904\tbest: 57.4791904 (5)\ttotal: 8.45ms\tremaining: 15.5ms\n",
      "6:\tlearn: 54.4137371\ttest: 56.2176544\tbest: 56.2176544 (6)\ttotal: 10.6ms\tremaining: 15.2ms\n",
      "7:\tlearn: 53.2052651\ttest: 55.2242480\tbest: 55.2242480 (7)\ttotal: 11.6ms\tremaining: 13ms\n",
      "8:\tlearn: 52.0923282\ttest: 54.0978011\tbest: 54.0978011 (8)\ttotal: 12.7ms\tremaining: 11.3ms\n",
      "9:\tlearn: 50.9445868\ttest: 52.9341520\tbest: 52.9341520 (9)\ttotal: 13.8ms\tremaining: 9.63ms\n",
      "10:\tlearn: 49.7708707\ttest: 51.7463698\tbest: 51.7463698 (10)\ttotal: 14.8ms\tremaining: 8.09ms\n",
      "11:\tlearn: 48.7662684\ttest: 50.7299724\tbest: 50.7299724 (11)\ttotal: 16.1ms\tremaining: 6.72ms\n",
      "12:\tlearn: 47.7896711\ttest: 49.7488806\tbest: 49.7488806 (12)\ttotal: 17.2ms\tremaining: 5.3ms\n",
      "13:\tlearn: 46.7815876\ttest: 48.7199679\tbest: 48.7199679 (13)\ttotal: 18.7ms\tremaining: 4ms\n",
      "14:\tlearn: 45.8231396\ttest: 47.7646522\tbest: 47.7646522 (14)\ttotal: 19.8ms\tremaining: 2.64ms\n",
      "15:\tlearn: 44.8288498\ttest: 46.7625232\tbest: 46.7625232 (15)\ttotal: 21.3ms\tremaining: 1.33ms\n",
      "16:\tlearn: 43.9134343\ttest: 45.8434222\tbest: 45.8434222 (16)\ttotal: 22.9ms\tremaining: 0us\n",
      "\n",
      "bestTest = 45.84342224\n",
      "bestIteration = 16\n",
      "\n",
      "Training on fold [2/10]\n",
      "0:\tlearn: 63.2642719\ttest: 74.5099258\tbest: 74.5099258 (0)\ttotal: 1.53ms\tremaining: 24.5ms\n",
      "1:\tlearn: 61.7822766\ttest: 73.0346715\tbest: 73.0346715 (1)\ttotal: 2.69ms\tremaining: 20.2ms\n",
      "2:\tlearn: 60.3122465\ttest: 71.6602192\tbest: 71.6602192 (2)\ttotal: 4.62ms\tremaining: 21.6ms\n",
      "3:\tlearn: 58.9172792\ttest: 70.2531703\tbest: 70.2531703 (3)\ttotal: 5.96ms\tremaining: 19.4ms\n",
      "4:\tlearn: 57.5497395\ttest: 68.8889686\tbest: 68.8889686 (4)\ttotal: 7.86ms\tremaining: 18.9ms\n",
      "5:\tlearn: 56.1293409\ttest: 67.3283960\tbest: 67.3283960 (5)\ttotal: 9.33ms\tremaining: 17.1ms\n",
      "6:\tlearn: 54.8356110\ttest: 66.1239845\tbest: 66.1239845 (6)\ttotal: 10.8ms\tremaining: 15.4ms\n",
      "7:\tlearn: 53.5788734\ttest: 64.8050936\tbest: 64.8050936 (7)\ttotal: 12ms\tremaining: 13.5ms\n",
      "8:\tlearn: 52.4437571\ttest: 63.5774144\tbest: 63.5774144 (8)\ttotal: 13.3ms\tremaining: 11.8ms\n",
      "9:\tlearn: 51.2754431\ttest: 62.3512952\tbest: 62.3512952 (9)\ttotal: 14.7ms\tremaining: 10.3ms\n",
      "10:\tlearn: 50.0837251\ttest: 61.0963280\tbest: 61.0963280 (10)\ttotal: 15.8ms\tremaining: 8.64ms\n",
      "11:\tlearn: 49.0605563\ttest: 60.0722214\tbest: 60.0722214 (11)\ttotal: 17.1ms\tremaining: 7.13ms\n",
      "12:\tlearn: 48.0023131\ttest: 58.9245264\tbest: 58.9245264 (12)\ttotal: 18.8ms\tremaining: 5.78ms\n",
      "13:\tlearn: 46.9823248\ttest: 57.8852262\tbest: 57.8852262 (13)\ttotal: 20.1ms\tremaining: 4.31ms\n",
      "14:\tlearn: 45.9626273\ttest: 56.8681267\tbest: 56.8681267 (14)\ttotal: 22ms\tremaining: 2.93ms\n",
      "15:\tlearn: 45.0006935\ttest: 55.8134089\tbest: 55.8134089 (15)\ttotal: 23.4ms\tremaining: 1.46ms\n",
      "16:\tlearn: 44.0606857\ttest: 54.8521227\tbest: 54.8521227 (16)\ttotal: 25.5ms\tremaining: 0us\n",
      "\n",
      "bestTest = 54.85212269\n",
      "bestIteration = 16\n",
      "\n",
      "Training on fold [3/10]\n",
      "0:\tlearn: 66.1484546\ttest: 74.2149907\tbest: 74.2149907 (0)\ttotal: 1.92ms\tremaining: 30.7ms\n",
      "1:\tlearn: 64.4917007\ttest: 72.4861558\tbest: 72.4861558 (1)\ttotal: 3.46ms\tremaining: 26ms\n",
      "2:\tlearn: 62.8969437\ttest: 70.7914010\tbest: 70.7914010 (2)\ttotal: 5.93ms\tremaining: 27.7ms\n",
      "3:\tlearn: 61.3754155\ttest: 69.2303712\tbest: 69.2303712 (3)\ttotal: 7.42ms\tremaining: 24.1ms\n",
      "4:\tlearn: 59.9310083\ttest: 67.7077805\tbest: 67.7077805 (4)\ttotal: 9.46ms\tremaining: 22.7ms\n",
      "5:\tlearn: 58.5187194\ttest: 66.2704922\tbest: 66.2704922 (5)\ttotal: 10.9ms\tremaining: 19.9ms\n",
      "6:\tlearn: 57.1722780\ttest: 64.9631578\tbest: 64.9631578 (6)\ttotal: 12.2ms\tremaining: 17.4ms\n",
      "7:\tlearn: 55.8571574\ttest: 63.5312415\tbest: 63.5312415 (7)\ttotal: 13.8ms\tremaining: 15.5ms\n",
      "8:\tlearn: 54.5193408\ttest: 62.1324959\tbest: 62.1324959 (8)\ttotal: 15.1ms\tremaining: 13.4ms\n",
      "9:\tlearn: 53.2786526\ttest: 60.8047175\tbest: 60.8047175 (9)\ttotal: 17ms\tremaining: 11.9ms\n",
      "10:\tlearn: 52.0434751\ttest: 59.5229730\tbest: 59.5229730 (10)\ttotal: 19.1ms\tremaining: 10.4ms\n",
      "11:\tlearn: 50.9514579\ttest: 58.4210227\tbest: 58.4210227 (11)\ttotal: 20.7ms\tremaining: 8.61ms\n",
      "12:\tlearn: 49.9036023\ttest: 57.3574106\tbest: 57.3574106 (12)\ttotal: 22.1ms\tremaining: 6.79ms\n",
      "13:\tlearn: 48.7799721\ttest: 56.1592697\tbest: 56.1592697 (13)\ttotal: 23.5ms\tremaining: 5.03ms\n",
      "14:\tlearn: 47.7194128\ttest: 54.9946128\tbest: 54.9946128 (14)\ttotal: 25.3ms\tremaining: 3.37ms\n",
      "15:\tlearn: 46.6863478\ttest: 53.8720907\tbest: 53.8720907 (15)\ttotal: 27.3ms\tremaining: 1.71ms\n",
      "16:\tlearn: 45.6699369\ttest: 52.8136534\tbest: 52.8136534 (16)\ttotal: 28.8ms\tremaining: 0us\n",
      "\n",
      "bestTest = 52.81365344\n",
      "bestIteration = 16\n",
      "\n",
      "Training on fold [4/10]\n",
      "0:\tlearn: 67.7838879\ttest: 85.8043231\tbest: 85.8043231 (0)\ttotal: 2.05ms\tremaining: 32.8ms\n"
     ]
    },
    {
     "name": "stdout",
     "output_type": "stream",
     "text": [
      "1:\tlearn: 66.0730032\ttest: 83.9877192\tbest: 83.9877192 (1)\ttotal: 3.9ms\tremaining: 29.2ms\n",
      "2:\tlearn: 64.4273488\ttest: 82.1877656\tbest: 82.1877656 (2)\ttotal: 5.48ms\tremaining: 25.6ms\n",
      "3:\tlearn: 62.8625501\ttest: 80.5491384\tbest: 80.5491384 (3)\ttotal: 7.62ms\tremaining: 24.8ms\n",
      "4:\tlearn: 61.3685966\ttest: 78.9442983\tbest: 78.9442983 (4)\ttotal: 9.68ms\tremaining: 23.2ms\n",
      "5:\tlearn: 59.9065784\ttest: 77.3971739\tbest: 77.3971739 (5)\ttotal: 11.5ms\tremaining: 21ms\n",
      "6:\tlearn: 58.5271075\ttest: 76.0817257\tbest: 76.0817257 (6)\ttotal: 13.2ms\tremaining: 18.9ms\n",
      "7:\tlearn: 57.1745283\ttest: 74.5207019\tbest: 74.5207019 (7)\ttotal: 17.2ms\tremaining: 19.3ms\n",
      "8:\tlearn: 55.8861188\ttest: 73.0427163\tbest: 73.0427163 (8)\ttotal: 18.9ms\tremaining: 16.8ms\n",
      "9:\tlearn: 54.6056541\ttest: 71.6292362\tbest: 71.6292362 (9)\ttotal: 20.8ms\tremaining: 14.6ms\n",
      "10:\tlearn: 53.3391804\ttest: 70.2728794\tbest: 70.2728794 (10)\ttotal: 23.1ms\tremaining: 12.6ms\n",
      "11:\tlearn: 52.2151818\ttest: 69.1526274\tbest: 69.1526274 (11)\ttotal: 25.8ms\tremaining: 10.8ms\n",
      "12:\tlearn: 51.0479643\ttest: 67.8407917\tbest: 67.8407917 (12)\ttotal: 29.7ms\tremaining: 9.15ms\n",
      "13:\tlearn: 49.8927200\ttest: 66.5622577\tbest: 66.5622577 (13)\ttotal: 33.3ms\tremaining: 7.13ms\n",
      "14:\tlearn: 48.7909728\ttest: 65.3246968\tbest: 65.3246968 (14)\ttotal: 34.8ms\tremaining: 4.64ms\n",
      "15:\tlearn: 47.7317856\ttest: 64.1234104\tbest: 64.1234104 (15)\ttotal: 37.8ms\tremaining: 2.36ms\n",
      "16:\tlearn: 46.6943939\ttest: 63.0029288\tbest: 63.0029288 (16)\ttotal: 39.4ms\tremaining: 0us\n",
      "\n",
      "bestTest = 63.00292882\n",
      "bestIteration = 16\n",
      "\n",
      "Training on fold [5/10]\n",
      "0:\tlearn: 71.0246698\ttest: 84.1477521\tbest: 84.1477521 (0)\ttotal: 1.6ms\tremaining: 25.6ms\n",
      "1:\tlearn: 69.2308672\ttest: 82.1749041\tbest: 82.1749041 (1)\ttotal: 3.08ms\tremaining: 23.1ms\n",
      "2:\tlearn: 67.4939682\ttest: 80.2580859\tbest: 80.2580859 (2)\ttotal: 6.22ms\tremaining: 29ms\n",
      "3:\tlearn: 65.8630240\ttest: 78.3354907\tbest: 78.3354907 (3)\ttotal: 7.67ms\tremaining: 24.9ms\n",
      "4:\tlearn: 64.2950255\ttest: 76.6315894\tbest: 76.6315894 (4)\ttotal: 9.35ms\tremaining: 22.4ms\n",
      "5:\tlearn: 62.7734276\ttest: 74.9870257\tbest: 74.9870257 (5)\ttotal: 10.9ms\tremaining: 20ms\n",
      "6:\tlearn: 61.2815480\ttest: 73.4212134\tbest: 73.4212134 (6)\ttotal: 12.5ms\tremaining: 17.8ms\n",
      "7:\tlearn: 59.8564402\ttest: 71.7402045\tbest: 71.7402045 (7)\ttotal: 14.5ms\tremaining: 16.3ms\n",
      "8:\tlearn: 58.4900080\ttest: 70.1972494\tbest: 70.1972494 (8)\ttotal: 16.2ms\tremaining: 14.4ms\n",
      "9:\tlearn: 57.1497325\ttest: 68.6943797\tbest: 68.6943797 (9)\ttotal: 18.5ms\tremaining: 12.9ms\n",
      "10:\tlearn: 55.8390560\ttest: 67.1655633\tbest: 67.1655633 (10)\ttotal: 20.2ms\tremaining: 11ms\n",
      "11:\tlearn: 54.6721102\ttest: 65.9143637\tbest: 65.9143637 (11)\ttotal: 21.8ms\tremaining: 9.09ms\n",
      "12:\tlearn: 53.4484506\ttest: 64.4904788\tbest: 64.4904788 (12)\ttotal: 23.3ms\tremaining: 7.18ms\n",
      "13:\tlearn: 52.2339563\ttest: 63.1349118\tbest: 63.1349118 (13)\ttotal: 24.9ms\tremaining: 5.33ms\n",
      "14:\tlearn: 51.0751445\ttest: 61.8042325\tbest: 61.8042325 (14)\ttotal: 26.5ms\tremaining: 3.53ms\n",
      "15:\tlearn: 49.9672925\ttest: 60.5181057\tbest: 60.5181057 (15)\ttotal: 28.2ms\tremaining: 1.76ms\n",
      "16:\tlearn: 48.9417166\ttest: 59.3719098\tbest: 59.3719098 (16)\ttotal: 30ms\tremaining: 0us\n",
      "\n",
      "bestTest = 59.37190981\n",
      "bestIteration = 16\n",
      "\n",
      "Training on fold [6/10]\n",
      "0:\tlearn: 72.9925716\ttest: 90.0437844\tbest: 90.0437844 (0)\ttotal: 2.58ms\tremaining: 41.4ms\n",
      "1:\tlearn: 71.1387978\ttest: 87.9877922\tbest: 87.9877922 (1)\ttotal: 4.14ms\tremaining: 31ms\n",
      "2:\tlearn: 69.3476332\ttest: 85.9451725\tbest: 85.9451725 (2)\ttotal: 6.03ms\tremaining: 28.1ms\n",
      "3:\tlearn: 67.5996045\ttest: 83.9217040\tbest: 83.9217040 (3)\ttotal: 8.11ms\tremaining: 26.3ms\n",
      "4:\tlearn: 65.9904228\ttest: 82.2993538\tbest: 82.2993538 (4)\ttotal: 10ms\tremaining: 24ms\n",
      "5:\tlearn: 64.4035473\ttest: 80.4921428\tbest: 80.4921428 (5)\ttotal: 12.3ms\tremaining: 22.6ms\n",
      "6:\tlearn: 62.8597384\ttest: 78.8637248\tbest: 78.8637248 (6)\ttotal: 14.6ms\tremaining: 20.9ms\n",
      "7:\tlearn: 61.3764405\ttest: 77.0549803\tbest: 77.0549803 (7)\ttotal: 16.4ms\tremaining: 18.5ms\n",
      "8:\tlearn: 59.9577727\ttest: 75.3314681\tbest: 75.3314681 (8)\ttotal: 18.3ms\tremaining: 16.3ms\n",
      "9:\tlearn: 58.5663902\ttest: 73.7384687\tbest: 73.7384687 (9)\ttotal: 20.1ms\tremaining: 14ms\n",
      "10:\tlearn: 57.1975576\ttest: 72.1731541\tbest: 72.1731541 (10)\ttotal: 21.9ms\tremaining: 12ms\n",
      "11:\tlearn: 55.9839019\ttest: 70.8496390\tbest: 70.8496390 (11)\ttotal: 23.5ms\tremaining: 9.8ms\n",
      "12:\tlearn: 54.6995416\ttest: 69.3954175\tbest: 69.3954175 (12)\ttotal: 26.6ms\tremaining: 8.19ms\n",
      "13:\tlearn: 53.4512327\ttest: 67.9727196\tbest: 67.9727196 (13)\ttotal: 28.8ms\tremaining: 6.17ms\n",
      "14:\tlearn: 52.2531166\ttest: 66.5847467\tbest: 66.5847467 (14)\ttotal: 30.6ms\tremaining: 4.08ms\n",
      "15:\tlearn: 51.1030197\ttest: 65.2491665\tbest: 65.2491665 (15)\ttotal: 32.2ms\tremaining: 2.01ms\n",
      "16:\tlearn: 49.9879418\ttest: 63.9327723\tbest: 63.9327723 (16)\ttotal: 34.3ms\tremaining: 0us\n",
      "\n",
      "bestTest = 63.93277233\n",
      "bestIteration = 16\n",
      "\n",
      "Training on fold [7/10]\n",
      "0:\tlearn: 75.1967633\ttest: 97.4566588\tbest: 97.4566588 (0)\ttotal: 1.9ms\tremaining: 30.5ms\n",
      "1:\tlearn: 73.2743376\ttest: 95.3186447\tbest: 95.3186447 (1)\ttotal: 3.86ms\tremaining: 28.9ms\n",
      "2:\tlearn: 71.4203782\ttest: 93.1706528\tbest: 93.1706528 (2)\ttotal: 5.69ms\tremaining: 26.6ms\n",
      "3:\tlearn: 69.6093992\ttest: 91.0710017\tbest: 91.0710017 (3)\ttotal: 7.45ms\tremaining: 24.2ms\n",
      "4:\tlearn: 67.9137641\ttest: 89.1835253\tbest: 89.1835253 (4)\ttotal: 9.51ms\tremaining: 22.8ms\n",
      "5:\tlearn: 66.2592272\ttest: 87.2910655\tbest: 87.2910655 (5)\ttotal: 11.1ms\tremaining: 20.4ms\n",
      "6:\tlearn: 64.6590796\ttest: 85.5681141\tbest: 85.5681141 (6)\ttotal: 12.9ms\tremaining: 18.5ms\n",
      "7:\tlearn: 63.1105761\ttest: 83.6624861\tbest: 83.6624861 (7)\ttotal: 14.9ms\tremaining: 16.7ms\n",
      "8:\tlearn: 61.6261712\ttest: 81.8598236\tbest: 81.8598236 (8)\ttotal: 18.6ms\tremaining: 16.5ms\n",
      "9:\tlearn: 60.1933728\ttest: 80.1908433\tbest: 80.1908433 (9)\ttotal: 20.4ms\tremaining: 14.3ms\n",
      "10:\tlearn: 58.7709782\ttest: 78.5536940\tbest: 78.5536940 (10)\ttotal: 23.1ms\tremaining: 12.6ms\n",
      "11:\tlearn: 57.4017688\ttest: 77.0033248\tbest: 77.0033248 (11)\ttotal: 24.7ms\tremaining: 10.3ms\n",
      "12:\tlearn: 56.0815806\ttest: 75.4208008\tbest: 75.4208008 (12)\ttotal: 27.3ms\tremaining: 8.39ms\n",
      "13:\tlearn: 54.7866055\ttest: 73.9465198\tbest: 73.9465198 (13)\ttotal: 30.3ms\tremaining: 6.49ms\n",
      "14:\tlearn: 53.5388961\ttest: 72.5049206\tbest: 72.5049206 (14)\ttotal: 32.4ms\tremaining: 4.32ms\n",
      "15:\tlearn: 52.3442749\ttest: 71.0169358\tbest: 71.0169358 (15)\ttotal: 34.3ms\tremaining: 2.14ms\n",
      "16:\tlearn: 51.1876220\ttest: 69.6460605\tbest: 69.6460605 (16)\ttotal: 36.7ms\tremaining: 0us\n",
      "\n",
      "bestTest = 69.64606048\n",
      "bestIteration = 16\n",
      "\n",
      "Training on fold [8/10]\n",
      "0:\tlearn: 77.9288022\ttest: 108.4214538\tbest: 108.4214538 (0)\ttotal: 2.69ms\tremaining: 43ms\n",
      "1:\tlearn: 75.9308679\ttest: 106.0317508\tbest: 106.0317508 (1)\ttotal: 4.26ms\tremaining: 31.9ms\n",
      "2:\tlearn: 73.9989115\ttest: 103.7879366\tbest: 103.7879366 (2)\ttotal: 6.04ms\tremaining: 28.2ms\n",
      "3:\tlearn: 72.1105527\ttest: 101.6048649\tbest: 101.6048649 (3)\ttotal: 7.88ms\tremaining: 25.6ms\n",
      "4:\tlearn: 70.3381337\ttest: 99.6070616\tbest: 99.6070616 (4)\ttotal: 9.56ms\tremaining: 22.9ms\n",
      "5:\tlearn: 68.6094623\ttest: 97.6401239\tbest: 97.6401239 (5)\ttotal: 12ms\tremaining: 22ms\n",
      "6:\tlearn: 66.9468636\ttest: 95.6412655\tbest: 95.6412655 (6)\ttotal: 14ms\tremaining: 20ms\n",
      "7:\tlearn: 65.3272235\ttest: 93.6309277\tbest: 93.6309277 (7)\ttotal: 16ms\tremaining: 17.9ms\n",
      "8:\tlearn: 63.7739183\ttest: 91.6952651\tbest: 91.6952651 (8)\ttotal: 17.9ms\tremaining: 15.9ms\n",
      "9:\tlearn: 62.2610570\ttest: 89.9572127\tbest: 89.9572127 (9)\ttotal: 19.7ms\tremaining: 13.8ms\n",
      "10:\tlearn: 60.7767446\ttest: 88.2441684\tbest: 88.2441684 (10)\ttotal: 23.3ms\tremaining: 12.7ms\n",
      "11:\tlearn: 59.3467237\ttest: 86.6435826\tbest: 86.6435826 (11)\ttotal: 25.7ms\tremaining: 10.7ms\n",
      "12:\tlearn: 57.9668497\ttest: 85.0041211\tbest: 85.0041211 (12)\ttotal: 27.8ms\tremaining: 8.57ms\n",
      "13:\tlearn: 56.6193779\ttest: 83.4821692\tbest: 83.4821692 (13)\ttotal: 29.9ms\tremaining: 6.4ms\n",
      "14:\tlearn: 55.3183791\ttest: 81.9341751\tbest: 81.9341751 (14)\ttotal: 31.8ms\tremaining: 4.24ms\n",
      "15:\tlearn: 54.0709826\ttest: 80.3631156\tbest: 80.3631156 (15)\ttotal: 33.9ms\tremaining: 2.12ms\n",
      "16:\tlearn: 52.8538651\ttest: 78.8203129\tbest: 78.8203129 (16)\ttotal: 36.2ms\tremaining: 0us\n",
      "\n",
      "bestTest = 78.8203129\n",
      "bestIteration = 16\n",
      "\n",
      "Training on fold [9/10]\n",
      "0:\tlearn: 81.4221265\ttest: 117.2944103\tbest: 117.2944103 (0)\ttotal: 2.33ms\tremaining: 37.3ms\n",
      "1:\tlearn: 79.3285070\ttest: 114.7823551\tbest: 114.7823551 (1)\ttotal: 4.6ms\tremaining: 34.5ms\n",
      "2:\tlearn: 77.2986788\ttest: 112.3044343\tbest: 112.3044343 (2)\ttotal: 6.64ms\tremaining: 31ms\n",
      "3:\tlearn: 75.3089700\ttest: 109.6804111\tbest: 109.6804111 (3)\ttotal: 8.56ms\tremaining: 27.8ms\n",
      "4:\tlearn: 73.4531477\ttest: 107.6001402\tbest: 107.6001402 (4)\ttotal: 10.9ms\tremaining: 26.1ms\n",
      "5:\tlearn: 71.6461910\ttest: 105.5938447\tbest: 105.5938447 (5)\ttotal: 13.2ms\tremaining: 24.2ms\n",
      "6:\tlearn: 69.9030935\ttest: 103.5028513\tbest: 103.5028513 (6)\ttotal: 15.4ms\tremaining: 22ms\n",
      "7:\tlearn: 68.2027295\ttest: 101.4319346\tbest: 101.4319346 (7)\ttotal: 17.9ms\tremaining: 20.2ms\n",
      "8:\tlearn: 66.5668224\ttest: 99.3785461\tbest: 99.3785461 (8)\ttotal: 19.8ms\tremaining: 17.6ms\n",
      "9:\tlearn: 64.9850380\ttest: 97.5960408\tbest: 97.5960408 (9)\ttotal: 21.8ms\tremaining: 15.2ms\n",
      "10:\tlearn: 63.4322140\ttest: 95.6045459\tbest: 95.6045459 (10)\ttotal: 24.6ms\tremaining: 13.4ms\n",
      "11:\tlearn: 61.9389544\ttest: 93.8667312\tbest: 93.8667312 (11)\ttotal: 26.7ms\tremaining: 11.1ms\n",
      "12:\tlearn: 60.4944390\ttest: 92.1495128\tbest: 92.1495128 (12)\ttotal: 28.6ms\tremaining: 8.81ms\n",
      "13:\tlearn: 59.0999925\ttest: 90.4396333\tbest: 90.4396333 (13)\ttotal: 31.3ms\tremaining: 6.7ms\n",
      "14:\tlearn: 57.7324786\ttest: 88.7553397\tbest: 88.7553397 (14)\ttotal: 33ms\tremaining: 4.41ms\n",
      "15:\tlearn: 56.4502189\ttest: 87.1462672\tbest: 87.1462672 (15)\ttotal: 34.8ms\tremaining: 2.17ms\n",
      "16:\tlearn: 55.1842747\ttest: 85.7017728\tbest: 85.7017728 (16)\ttotal: 37ms\tremaining: 0us\n",
      "\n",
      "bestTest = 85.70177281\n",
      "bestIteration = 16\n",
      "\n",
      "Training on fold [0/10]\n"
     ]
    },
    {
     "name": "stdout",
     "output_type": "stream",
     "text": [
      "0:\tlearn: 61.6130729\ttest: 64.1449488\tbest: 64.1449488 (0)\ttotal: 2.46ms\tremaining: 98.6ms\n",
      "1:\tlearn: 60.2078744\ttest: 62.7754476\tbest: 62.7754476 (1)\ttotal: 4.8ms\tremaining: 93.6ms\n",
      "2:\tlearn: 58.9362889\ttest: 61.4939859\tbest: 61.4939859 (2)\ttotal: 7.3ms\tremaining: 92.5ms\n",
      "3:\tlearn: 57.6615798\ttest: 60.2516447\tbest: 60.2516447 (3)\ttotal: 10.9ms\tremaining: 101ms\n",
      "4:\tlearn: 56.4553932\ttest: 59.0537923\tbest: 59.0537923 (4)\ttotal: 13.4ms\tremaining: 96.5ms\n",
      "5:\tlearn: 55.2232366\ttest: 57.8139969\tbest: 57.8139969 (5)\ttotal: 15.7ms\tremaining: 91.6ms\n",
      "6:\tlearn: 54.0786091\ttest: 56.6285578\tbest: 56.6285578 (6)\ttotal: 18.1ms\tremaining: 88.1ms\n",
      "7:\tlearn: 52.9223562\ttest: 55.4942691\tbest: 55.4942691 (7)\ttotal: 21.4ms\tremaining: 88.2ms\n",
      "8:\tlearn: 51.7818117\ttest: 54.3723962\tbest: 54.3723962 (8)\ttotal: 23.7ms\tremaining: 84.3ms\n",
      "9:\tlearn: 50.6418342\ttest: 53.2557110\tbest: 53.2557110 (9)\ttotal: 26ms\tremaining: 80.6ms\n",
      "10:\tlearn: 49.6177268\ttest: 52.2540828\tbest: 52.2540828 (10)\ttotal: 27.9ms\tremaining: 76ms\n",
      "11:\tlearn: 48.4718167\ttest: 51.1458094\tbest: 51.1458094 (11)\ttotal: 30ms\tremaining: 72.5ms\n",
      "12:\tlearn: 47.4424450\ttest: 50.1167746\tbest: 50.1167746 (12)\ttotal: 32ms\tremaining: 69ms\n",
      "13:\tlearn: 46.5208437\ttest: 49.2715606\tbest: 49.2715606 (13)\ttotal: 34.5ms\tremaining: 66.6ms\n",
      "14:\tlearn: 45.5220630\ttest: 48.2901233\tbest: 48.2901233 (14)\ttotal: 37ms\tremaining: 64.2ms\n",
      "15:\tlearn: 44.5688954\ttest: 47.3240393\tbest: 47.3240393 (15)\ttotal: 39ms\tremaining: 60.9ms\n",
      "16:\tlearn: 43.6896278\ttest: 46.4903812\tbest: 46.4903812 (16)\ttotal: 41.9ms\tremaining: 59.1ms\n",
      "17:\tlearn: 42.7742542\ttest: 45.5882380\tbest: 45.5882380 (17)\ttotal: 43.9ms\tremaining: 56.1ms\n",
      "18:\tlearn: 41.9706048\ttest: 44.8085052\tbest: 44.8085052 (18)\ttotal: 46.4ms\tremaining: 53.7ms\n",
      "19:\tlearn: 41.1649644\ttest: 44.0166945\tbest: 44.0166945 (19)\ttotal: 48.4ms\tremaining: 50.8ms\n",
      "20:\tlearn: 40.3152894\ttest: 43.1663041\tbest: 43.1663041 (20)\ttotal: 51.9ms\tremaining: 49.4ms\n",
      "21:\tlearn: 39.5757591\ttest: 42.4855575\tbest: 42.4855575 (21)\ttotal: 54.4ms\tremaining: 46.9ms\n",
      "22:\tlearn: 38.8571508\ttest: 41.7721323\tbest: 41.7721323 (22)\ttotal: 56.6ms\tremaining: 44.3ms\n",
      "23:\tlearn: 38.1714312\ttest: 41.1191089\tbest: 41.1191089 (23)\ttotal: 58.9ms\tremaining: 41.7ms\n",
      "24:\tlearn: 37.4701591\ttest: 40.4076517\tbest: 40.4076517 (24)\ttotal: 61.2ms\tremaining: 39.2ms\n",
      "25:\tlearn: 36.8116098\ttest: 39.7575348\tbest: 39.7575348 (25)\ttotal: 63.8ms\tremaining: 36.8ms\n",
      "26:\tlearn: 36.0987605\ttest: 39.0719558\tbest: 39.0719558 (26)\ttotal: 66.1ms\tremaining: 34.3ms\n",
      "27:\tlearn: 35.5506425\ttest: 38.5353378\tbest: 38.5353378 (27)\ttotal: 68.2ms\tremaining: 31.7ms\n",
      "28:\tlearn: 34.8728702\ttest: 37.8712648\tbest: 37.8712648 (28)\ttotal: 70.4ms\tremaining: 29.1ms\n",
      "29:\tlearn: 34.2494081\ttest: 37.2646771\tbest: 37.2646771 (29)\ttotal: 72.4ms\tremaining: 26.5ms\n",
      "30:\tlearn: 33.6779540\ttest: 36.7129435\tbest: 36.7129435 (30)\ttotal: 74.9ms\tremaining: 24.2ms\n",
      "31:\tlearn: 33.1064660\ttest: 36.1406242\tbest: 36.1406242 (31)\ttotal: 77.1ms\tremaining: 21.7ms\n",
      "32:\tlearn: 32.5645186\ttest: 35.6151956\tbest: 35.6151956 (32)\ttotal: 79.5ms\tremaining: 19.3ms\n",
      "33:\tlearn: 32.0301805\ttest: 35.0897490\tbest: 35.0897490 (33)\ttotal: 81.8ms\tremaining: 16.9ms\n",
      "34:\tlearn: 31.5351333\ttest: 34.5836443\tbest: 34.5836443 (34)\ttotal: 83.9ms\tremaining: 14.4ms\n",
      "35:\tlearn: 31.0122771\ttest: 34.0849193\tbest: 34.0849193 (35)\ttotal: 86.2ms\tremaining: 12ms\n",
      "36:\tlearn: 30.5070139\ttest: 33.5863398\tbest: 33.5863398 (36)\ttotal: 89ms\tremaining: 9.63ms\n",
      "37:\tlearn: 30.0999055\ttest: 33.2083719\tbest: 33.2083719 (37)\ttotal: 91.6ms\tremaining: 7.23ms\n",
      "38:\tlearn: 29.6635341\ttest: 32.7820954\tbest: 32.7820954 (38)\ttotal: 94.2ms\tremaining: 4.83ms\n",
      "39:\tlearn: 29.2322880\ttest: 32.3595923\tbest: 32.3595923 (39)\ttotal: 96.7ms\tremaining: 2.42ms\n",
      "40:\tlearn: 28.8345435\ttest: 31.9927855\tbest: 31.9927855 (40)\ttotal: 98.9ms\tremaining: 0us\n",
      "\n",
      "bestTest = 31.99278546\n",
      "bestIteration = 40\n",
      "\n",
      "Training on fold [1/10]\n",
      "0:\tlearn: 62.6956292\ttest: 64.4497239\tbest: 64.4497239 (0)\ttotal: 2.97ms\tremaining: 119ms\n",
      "1:\tlearn: 61.2379302\ttest: 63.0011716\tbest: 63.0011716 (1)\ttotal: 6.07ms\tremaining: 118ms\n",
      "2:\tlearn: 59.8612578\ttest: 61.6129078\tbest: 61.6129078 (2)\ttotal: 9.15ms\tremaining: 116ms\n",
      "3:\tlearn: 58.4017889\ttest: 60.1635850\tbest: 60.1635850 (3)\ttotal: 11.7ms\tremaining: 108ms\n",
      "4:\tlearn: 57.0758138\ttest: 58.8709176\tbest: 58.8709176 (4)\ttotal: 14.4ms\tremaining: 104ms\n",
      "5:\tlearn: 55.7691014\ttest: 57.5874662\tbest: 57.5874662 (5)\ttotal: 17.5ms\tremaining: 102ms\n",
      "6:\tlearn: 54.4740056\ttest: 56.3113587\tbest: 56.3113587 (6)\ttotal: 20.6ms\tremaining: 100ms\n",
      "7:\tlearn: 53.1657068\ttest: 55.0197670\tbest: 55.0197670 (7)\ttotal: 22.9ms\tremaining: 94.5ms\n",
      "8:\tlearn: 51.9274558\ttest: 53.8040244\tbest: 53.8040244 (8)\ttotal: 25.5ms\tremaining: 90.5ms\n",
      "9:\tlearn: 50.7655189\ttest: 52.6664064\tbest: 52.6664064 (9)\ttotal: 27.9ms\tremaining: 86.4ms\n",
      "10:\tlearn: 49.6553340\ttest: 51.5483507\tbest: 51.5483507 (10)\ttotal: 31.2ms\tremaining: 85.2ms\n",
      "11:\tlearn: 48.4929141\ttest: 50.3948354\tbest: 50.3948354 (11)\ttotal: 34.7ms\tremaining: 83.9ms\n",
      "12:\tlearn: 47.4799182\ttest: 49.4214430\tbest: 49.4214430 (12)\ttotal: 37.5ms\tremaining: 80.7ms\n",
      "13:\tlearn: 46.4443663\ttest: 48.4175809\tbest: 48.4175809 (13)\ttotal: 40.8ms\tremaining: 78.6ms\n",
      "14:\tlearn: 45.4255536\ttest: 47.3785997\tbest: 47.3785997 (14)\ttotal: 44ms\tremaining: 76.3ms\n",
      "15:\tlearn: 44.4540809\ttest: 46.4054189\tbest: 46.4054189 (15)\ttotal: 46.2ms\tremaining: 72.2ms\n",
      "16:\tlearn: 43.5232818\ttest: 45.4674477\tbest: 45.4674477 (16)\ttotal: 48.9ms\tremaining: 69.1ms\n",
      "17:\tlearn: 42.6659243\ttest: 44.6270865\tbest: 44.6270865 (17)\ttotal: 52.6ms\tremaining: 67.2ms\n",
      "18:\tlearn: 41.8493505\ttest: 43.8098761\tbest: 43.8098761 (18)\ttotal: 55.7ms\tremaining: 64.5ms\n",
      "19:\tlearn: 41.0154385\ttest: 42.9745966\tbest: 42.9745966 (19)\ttotal: 59.1ms\tremaining: 62ms\n",
      "20:\tlearn: 40.1879861\ttest: 42.1439907\tbest: 42.1439907 (20)\ttotal: 61.6ms\tremaining: 58.7ms\n",
      "21:\tlearn: 39.3703530\ttest: 41.3535000\tbest: 41.3535000 (21)\ttotal: 64.3ms\tremaining: 55.5ms\n",
      "22:\tlearn: 38.6049203\ttest: 40.6586387\tbest: 40.6586387 (22)\ttotal: 67ms\tremaining: 52.4ms\n",
      "23:\tlearn: 37.8809283\ttest: 40.2139117\tbest: 40.2139117 (23)\ttotal: 69.4ms\tremaining: 49.2ms\n",
      "24:\tlearn: 37.0922361\ttest: 39.4633029\tbest: 39.4633029 (24)\ttotal: 72.1ms\tremaining: 46.1ms\n",
      "25:\tlearn: 36.4440345\ttest: 38.8155988\tbest: 38.8155988 (25)\ttotal: 74.4ms\tremaining: 42.9ms\n",
      "26:\tlearn: 35.7515896\ttest: 38.1150216\tbest: 38.1150216 (26)\ttotal: 76.9ms\tremaining: 39.9ms\n",
      "27:\tlearn: 35.0807165\ttest: 37.4308837\tbest: 37.4308837 (27)\ttotal: 79.4ms\tremaining: 36.8ms\n",
      "28:\tlearn: 34.4300152\ttest: 36.7922370\tbest: 36.7922370 (28)\ttotal: 81.8ms\tremaining: 33.9ms\n",
      "29:\tlearn: 33.8216055\ttest: 36.1887377\tbest: 36.1887377 (29)\ttotal: 84.2ms\tremaining: 30.9ms\n",
      "30:\tlearn: 33.1954851\ttest: 35.5900468\tbest: 35.5900468 (30)\ttotal: 86.5ms\tremaining: 27.9ms\n",
      "31:\tlearn: 32.6274457\ttest: 35.0438414\tbest: 35.0438414 (31)\ttotal: 88.9ms\tremaining: 25ms\n",
      "32:\tlearn: 32.1037665\ttest: 34.5261160\tbest: 34.5261160 (32)\ttotal: 91.3ms\tremaining: 22.1ms\n",
      "33:\tlearn: 31.5541384\ttest: 33.9863683\tbest: 33.9863683 (33)\ttotal: 93.7ms\tremaining: 19.3ms\n",
      "34:\tlearn: 30.9931725\ttest: 33.4511210\tbest: 33.4511210 (34)\ttotal: 96.1ms\tremaining: 16.5ms\n",
      "35:\tlearn: 30.4427029\ttest: 32.9642216\tbest: 32.9642216 (35)\ttotal: 98.9ms\tremaining: 13.7ms\n",
      "36:\tlearn: 29.9601115\ttest: 32.5023640\tbest: 32.5023640 (36)\ttotal: 101ms\tremaining: 10.9ms\n",
      "37:\tlearn: 29.4807795\ttest: 32.0092576\tbest: 32.0092576 (37)\ttotal: 103ms\tremaining: 8.16ms\n",
      "38:\tlearn: 29.0000826\ttest: 31.5459295\tbest: 31.5459295 (38)\ttotal: 106ms\tremaining: 5.43ms\n",
      "39:\tlearn: 28.6071090\ttest: 31.1532439\tbest: 31.1532439 (39)\ttotal: 108ms\tremaining: 2.7ms\n",
      "40:\tlearn: 28.1932651\ttest: 30.8271700\tbest: 30.8271700 (40)\ttotal: 111ms\tremaining: 0us\n",
      "\n",
      "bestTest = 30.82716999\n",
      "bestIteration = 40\n",
      "\n",
      "Training on fold [2/10]\n",
      "0:\tlearn: 63.2564954\ttest: 74.5591727\tbest: 74.5591727 (0)\ttotal: 3.34ms\tremaining: 134ms\n",
      "1:\tlearn: 61.7547225\ttest: 73.0627843\tbest: 73.0627843 (1)\ttotal: 5.72ms\tremaining: 112ms\n",
      "2:\tlearn: 60.3110162\ttest: 71.6089424\tbest: 71.6089424 (2)\ttotal: 8.64ms\tremaining: 109ms\n",
      "3:\tlearn: 58.8329954\ttest: 70.0829260\tbest: 70.0829260 (3)\ttotal: 11.1ms\tremaining: 103ms\n",
      "4:\tlearn: 57.4757217\ttest: 68.7222543\tbest: 68.7222543 (4)\ttotal: 13.7ms\tremaining: 98.7ms\n",
      "5:\tlearn: 56.1216722\ttest: 67.3539609\tbest: 67.3539609 (5)\ttotal: 16.3ms\tremaining: 95.2ms\n",
      "6:\tlearn: 54.7959006\ttest: 65.9065929\tbest: 65.9065929 (6)\ttotal: 18.7ms\tremaining: 91ms\n",
      "7:\tlearn: 53.4712169\ttest: 64.5501702\tbest: 64.5501702 (7)\ttotal: 21.7ms\tremaining: 89.5ms\n",
      "8:\tlearn: 52.2263660\ttest: 63.4196937\tbest: 63.4196937 (8)\ttotal: 24.6ms\tremaining: 87.5ms\n",
      "9:\tlearn: 51.0567521\ttest: 62.1542202\tbest: 62.1542202 (9)\ttotal: 27.9ms\tremaining: 86.4ms\n",
      "10:\tlearn: 49.9264657\ttest: 60.9471143\tbest: 60.9471143 (10)\ttotal: 30.4ms\tremaining: 83ms\n",
      "11:\tlearn: 48.7611516\ttest: 59.6979875\tbest: 59.6979875 (11)\ttotal: 33.1ms\tremaining: 80.1ms\n",
      "12:\tlearn: 47.7050063\ttest: 58.5619680\tbest: 58.5619680 (12)\ttotal: 36.2ms\tremaining: 77.9ms\n",
      "13:\tlearn: 46.6203833\ttest: 57.3845010\tbest: 57.3845010 (13)\ttotal: 39.2ms\tremaining: 75.6ms\n",
      "14:\tlearn: 45.5810734\ttest: 56.2693393\tbest: 56.2693393 (14)\ttotal: 43.3ms\tremaining: 75ms\n",
      "15:\tlearn: 44.5857961\ttest: 55.1550831\tbest: 55.1550831 (15)\ttotal: 46.1ms\tremaining: 72ms\n",
      "16:\tlearn: 43.6178188\ttest: 54.1631972\tbest: 54.1631972 (16)\ttotal: 49ms\tremaining: 69.1ms\n",
      "17:\tlearn: 42.7159779\ttest: 53.2412911\tbest: 53.2412911 (17)\ttotal: 52.4ms\tremaining: 67ms\n",
      "18:\tlearn: 41.8579526\ttest: 52.3321147\tbest: 52.3321147 (18)\ttotal: 55.9ms\tremaining: 64.7ms\n",
      "19:\tlearn: 41.0081857\ttest: 51.3994801\tbest: 51.3994801 (19)\ttotal: 59.7ms\tremaining: 62.7ms\n",
      "20:\tlearn: 40.1754694\ttest: 50.5381172\tbest: 50.5381172 (20)\ttotal: 62.7ms\tremaining: 59.7ms\n",
      "21:\tlearn: 39.3755948\ttest: 49.6644288\tbest: 49.6644288 (21)\ttotal: 66.3ms\tremaining: 57.2ms\n"
     ]
    },
    {
     "name": "stdout",
     "output_type": "stream",
     "text": [
      "22:\tlearn: 38.5834103\ttest: 48.9236725\tbest: 48.9236725 (22)\ttotal: 69.3ms\tremaining: 54.3ms\n",
      "23:\tlearn: 37.8713984\ttest: 48.1243965\tbest: 48.1243965 (23)\ttotal: 72.5ms\tremaining: 51.4ms\n",
      "24:\tlearn: 37.1283251\ttest: 47.4171505\tbest: 47.4171505 (24)\ttotal: 75.7ms\tremaining: 48.5ms\n",
      "25:\tlearn: 36.4540726\ttest: 46.8229316\tbest: 46.8229316 (25)\ttotal: 79.2ms\tremaining: 45.7ms\n",
      "26:\tlearn: 35.7626591\ttest: 46.0840603\tbest: 46.0840603 (26)\ttotal: 82.6ms\tremaining: 42.8ms\n",
      "27:\tlearn: 35.0912508\ttest: 45.3000949\tbest: 45.3000949 (27)\ttotal: 86ms\tremaining: 40ms\n",
      "28:\tlearn: 34.4337482\ttest: 44.6203836\tbest: 44.6203836 (28)\ttotal: 91.1ms\tremaining: 37.7ms\n",
      "29:\tlearn: 33.8274647\ttest: 43.9665525\tbest: 43.9665525 (29)\ttotal: 94.7ms\tremaining: 34.7ms\n",
      "30:\tlearn: 33.2092934\ttest: 43.3348973\tbest: 43.3348973 (30)\ttotal: 98.2ms\tremaining: 31.7ms\n",
      "31:\tlearn: 32.6438932\ttest: 42.7751231\tbest: 42.7751231 (31)\ttotal: 101ms\tremaining: 28.4ms\n",
      "32:\tlearn: 32.0995967\ttest: 42.2079224\tbest: 42.2079224 (32)\ttotal: 104ms\tremaining: 25.3ms\n",
      "33:\tlearn: 31.5575135\ttest: 41.5629797\tbest: 41.5629797 (33)\ttotal: 107ms\tremaining: 22ms\n",
      "34:\tlearn: 31.0047818\ttest: 40.9325825\tbest: 40.9325825 (34)\ttotal: 110ms\tremaining: 18.8ms\n",
      "35:\tlearn: 30.4625656\ttest: 40.4016617\tbest: 40.4016617 (35)\ttotal: 113ms\tremaining: 15.7ms\n",
      "36:\tlearn: 29.9932079\ttest: 39.9220107\tbest: 39.9220107 (36)\ttotal: 116ms\tremaining: 12.6ms\n",
      "37:\tlearn: 29.5005725\ttest: 39.4139694\tbest: 39.4139694 (37)\ttotal: 119ms\tremaining: 9.43ms\n",
      "38:\tlearn: 29.0378011\ttest: 38.9509890\tbest: 38.9509890 (38)\ttotal: 122ms\tremaining: 6.27ms\n",
      "39:\tlearn: 28.6377799\ttest: 38.4868858\tbest: 38.4868858 (39)\ttotal: 125ms\tremaining: 3.13ms\n",
      "40:\tlearn: 28.2395362\ttest: 38.0617954\tbest: 38.0617954 (40)\ttotal: 128ms\tremaining: 0us\n",
      "\n",
      "bestTest = 38.0617954\n",
      "bestIteration = 40\n",
      "\n",
      "Training on fold [3/10]\n",
      "0:\tlearn: 66.1834941\ttest: 74.2515204\tbest: 74.2515204 (0)\ttotal: 4.96ms\tremaining: 199ms\n",
      "1:\tlearn: 64.5613898\ttest: 72.5155506\tbest: 72.5155506 (1)\ttotal: 7.75ms\tremaining: 151ms\n",
      "2:\tlearn: 63.0799886\ttest: 71.0527488\tbest: 71.0527488 (2)\ttotal: 11.6ms\tremaining: 147ms\n",
      "3:\tlearn: 61.5030142\ttest: 69.3972174\tbest: 69.3972174 (3)\ttotal: 15.5ms\tremaining: 144ms\n",
      "4:\tlearn: 60.0900044\ttest: 67.9301075\tbest: 67.9301075 (4)\ttotal: 18.8ms\tremaining: 135ms\n",
      "5:\tlearn: 58.6434037\ttest: 66.5012207\tbest: 66.5012207 (5)\ttotal: 22.5ms\tremaining: 131ms\n",
      "6:\tlearn: 57.2441458\ttest: 65.0665673\tbest: 65.0665673 (6)\ttotal: 26.2ms\tremaining: 127ms\n",
      "7:\tlearn: 55.9101144\ttest: 63.6519815\tbest: 63.6519815 (7)\ttotal: 30ms\tremaining: 124ms\n",
      "8:\tlearn: 54.6697942\ttest: 62.3887898\tbest: 62.3887898 (8)\ttotal: 32.9ms\tremaining: 117ms\n",
      "9:\tlearn: 53.4388937\ttest: 61.1906123\tbest: 61.1906123 (9)\ttotal: 37ms\tremaining: 115ms\n",
      "10:\tlearn: 52.3014636\ttest: 59.9834534\tbest: 59.9834534 (10)\ttotal: 42.5ms\tremaining: 116ms\n",
      "11:\tlearn: 51.0825886\ttest: 58.8215908\tbest: 58.8215908 (11)\ttotal: 46.5ms\tremaining: 112ms\n",
      "12:\tlearn: 49.9802853\ttest: 57.6945782\tbest: 57.6945782 (12)\ttotal: 49.5ms\tremaining: 107ms\n",
      "13:\tlearn: 48.8333774\ttest: 56.4930512\tbest: 56.4930512 (13)\ttotal: 53.4ms\tremaining: 103ms\n",
      "14:\tlearn: 47.7456665\ttest: 55.3392154\tbest: 55.3392154 (14)\ttotal: 57.1ms\tremaining: 99ms\n",
      "15:\tlearn: 46.7298505\ttest: 54.2459742\tbest: 54.2459742 (15)\ttotal: 61.5ms\tremaining: 96.1ms\n",
      "16:\tlearn: 45.7498571\ttest: 53.1965355\tbest: 53.1965355 (16)\ttotal: 65.7ms\tremaining: 92.7ms\n",
      "17:\tlearn: 44.7955552\ttest: 52.1861724\tbest: 52.1861724 (17)\ttotal: 68.8ms\tremaining: 87.9ms\n",
      "18:\tlearn: 43.8574952\ttest: 51.2765444\tbest: 51.2765444 (18)\ttotal: 73.1ms\tremaining: 84.6ms\n",
      "19:\tlearn: 42.9712620\ttest: 50.9175692\tbest: 50.9175692 (19)\ttotal: 77.8ms\tremaining: 81.7ms\n",
      "20:\tlearn: 42.0504494\ttest: 49.9004389\tbest: 49.9004389 (20)\ttotal: 83.5ms\tremaining: 79.5ms\n",
      "21:\tlearn: 41.1763294\ttest: 48.9843056\tbest: 48.9843056 (21)\ttotal: 90ms\tremaining: 77.8ms\n",
      "22:\tlearn: 40.3441606\ttest: 48.1377863\tbest: 48.1377863 (22)\ttotal: 94.3ms\tremaining: 73.8ms\n",
      "23:\tlearn: 39.5790754\ttest: 47.2580873\tbest: 47.2580873 (23)\ttotal: 98.4ms\tremaining: 69.7ms\n",
      "24:\tlearn: 38.7983552\ttest: 46.4814085\tbest: 46.4814085 (24)\ttotal: 105ms\tremaining: 67.2ms\n",
      "25:\tlearn: 38.0560508\ttest: 45.6538022\tbest: 45.6538022 (25)\ttotal: 109ms\tremaining: 63.1ms\n",
      "26:\tlearn: 37.3276640\ttest: 44.8442430\tbest: 44.8442430 (26)\ttotal: 114ms\tremaining: 59.2ms\n",
      "27:\tlearn: 36.6876192\ttest: 44.1897495\tbest: 44.1897495 (27)\ttotal: 119ms\tremaining: 55.2ms\n",
      "28:\tlearn: 36.0110888\ttest: 43.4357065\tbest: 43.4357065 (28)\ttotal: 123ms\tremaining: 50.8ms\n",
      "29:\tlearn: 35.3827416\ttest: 42.7923621\tbest: 42.7923621 (29)\ttotal: 126ms\tremaining: 46.1ms\n",
      "30:\tlearn: 34.7454222\ttest: 42.0701694\tbest: 42.0701694 (30)\ttotal: 131ms\tremaining: 42.2ms\n",
      "31:\tlearn: 34.1362806\ttest: 41.3890922\tbest: 41.3890922 (31)\ttotal: 138ms\tremaining: 38.9ms\n",
      "32:\tlearn: 33.5436010\ttest: 40.7534396\tbest: 40.7534396 (32)\ttotal: 142ms\tremaining: 34.4ms\n",
      "33:\tlearn: 32.9882377\ttest: 40.0936948\tbest: 40.0936948 (33)\ttotal: 145ms\tremaining: 29.9ms\n",
      "34:\tlearn: 32.4460138\ttest: 39.5169199\tbest: 39.5169199 (34)\ttotal: 151ms\tremaining: 25.8ms\n",
      "35:\tlearn: 31.8994593\ttest: 38.9461629\tbest: 38.9461629 (35)\ttotal: 155ms\tremaining: 21.5ms\n",
      "36:\tlearn: 31.4124013\ttest: 38.4236670\tbest: 38.4236670 (36)\ttotal: 161ms\tremaining: 17.4ms\n",
      "37:\tlearn: 30.9276398\ttest: 37.9211631\tbest: 37.9211631 (37)\ttotal: 166ms\tremaining: 13.1ms\n",
      "38:\tlearn: 30.4475781\ttest: 37.3480501\tbest: 37.3480501 (38)\ttotal: 171ms\tremaining: 8.76ms\n",
      "39:\tlearn: 30.0346327\ttest: 36.9371474\tbest: 36.9371474 (39)\ttotal: 174ms\tremaining: 4.34ms\n",
      "40:\tlearn: 29.6012935\ttest: 36.4523548\tbest: 36.4523548 (40)\ttotal: 178ms\tremaining: 0us\n",
      "\n",
      "bestTest = 36.45235479\n",
      "bestIteration = 40\n",
      "\n",
      "Training on fold [4/10]\n",
      "0:\tlearn: 67.8131957\ttest: 85.8359300\tbest: 85.8359300 (0)\ttotal: 7ms\tremaining: 280ms\n",
      "1:\tlearn: 66.1353816\ttest: 83.9281040\tbest: 83.9281040 (1)\ttotal: 9.98ms\tremaining: 195ms\n",
      "2:\tlearn: 64.6069950\ttest: 82.4596680\tbest: 82.4596680 (2)\ttotal: 14.1ms\tremaining: 178ms\n",
      "3:\tlearn: 62.9827484\ttest: 80.7079233\tbest: 80.7079233 (3)\ttotal: 19.4ms\tremaining: 179ms\n",
      "4:\tlearn: 61.5189461\ttest: 79.1498936\tbest: 79.1498936 (4)\ttotal: 22.5ms\tremaining: 162ms\n",
      "5:\tlearn: 60.0368804\ttest: 77.6527687\tbest: 77.6527687 (5)\ttotal: 25.5ms\tremaining: 149ms\n",
      "6:\tlearn: 58.5973754\ttest: 76.1667668\tbest: 76.1667668 (6)\ttotal: 30.3ms\tremaining: 147ms\n",
      "7:\tlearn: 57.2115126\ttest: 74.6281139\tbest: 74.6281139 (7)\ttotal: 35.8ms\tremaining: 148ms\n",
      "8:\tlearn: 55.8497156\ttest: 73.1702428\tbest: 73.1702428 (8)\ttotal: 38.7ms\tremaining: 138ms\n",
      "9:\tlearn: 54.5831485\ttest: 71.8381201\tbest: 71.8381201 (9)\ttotal: 43.1ms\tremaining: 133ms\n",
      "10:\tlearn: 53.4078596\ttest: 70.6076265\tbest: 70.6076265 (10)\ttotal: 49.8ms\tremaining: 136ms\n",
      "11:\tlearn: 52.1762729\ttest: 69.2641938\tbest: 69.2641938 (11)\ttotal: 52.6ms\tremaining: 127ms\n",
      "12:\tlearn: 51.0311097\ttest: 67.9914333\tbest: 67.9914333 (12)\ttotal: 55.5ms\tremaining: 120ms\n",
      "13:\tlearn: 49.8705890\ttest: 66.7445400\tbest: 66.7445400 (13)\ttotal: 60.3ms\tremaining: 116ms\n",
      "14:\tlearn: 48.7589445\ttest: 65.5050550\tbest: 65.5050550 (14)\ttotal: 65.9ms\tremaining: 114ms\n",
      "15:\tlearn: 47.7076489\ttest: 64.3201646\tbest: 64.3201646 (15)\ttotal: 68.8ms\tremaining: 108ms\n",
      "16:\tlearn: 46.7059847\ttest: 63.2056831\tbest: 63.2056831 (16)\ttotal: 73.5ms\tremaining: 104ms\n",
      "17:\tlearn: 45.7206234\ttest: 62.0809897\tbest: 62.0809897 (17)\ttotal: 77.8ms\tremaining: 99.4ms\n",
      "18:\tlearn: 44.7667996\ttest: 60.9844574\tbest: 60.9844574 (18)\ttotal: 82.1ms\tremaining: 95.1ms\n",
      "19:\tlearn: 43.8709381\ttest: 59.9444058\tbest: 59.9444058 (19)\ttotal: 85ms\tremaining: 89.2ms\n",
      "20:\tlearn: 42.9399186\ttest: 58.7902940\tbest: 58.7902940 (20)\ttotal: 90.8ms\tremaining: 86.4ms\n",
      "21:\tlearn: 42.0456575\ttest: 57.8178750\tbest: 57.8178750 (21)\ttotal: 95.4ms\tremaining: 82.4ms\n",
      "22:\tlearn: 41.1941369\ttest: 56.9206153\tbest: 56.9206153 (22)\ttotal: 98.5ms\tremaining: 77.1ms\n",
      "23:\tlearn: 40.3852177\ttest: 55.9966981\tbest: 55.9966981 (23)\ttotal: 103ms\tremaining: 73.1ms\n",
      "24:\tlearn: 39.5929493\ttest: 55.1865354\tbest: 55.1865354 (24)\ttotal: 108ms\tremaining: 69ms\n",
      "25:\tlearn: 38.8302997\ttest: 54.2737812\tbest: 54.2737812 (25)\ttotal: 111ms\tremaining: 64.2ms\n",
      "26:\tlearn: 38.1334342\ttest: 53.4875104\tbest: 53.4875104 (26)\ttotal: 116ms\tremaining: 60.2ms\n",
      "27:\tlearn: 37.4760912\ttest: 52.7484425\tbest: 52.7484425 (27)\ttotal: 119ms\tremaining: 55.4ms\n",
      "28:\tlearn: 36.7820413\ttest: 51.9968898\tbest: 51.9968898 (28)\ttotal: 123ms\tremaining: 50.8ms\n",
      "29:\tlearn: 36.1268888\ttest: 51.2484503\tbest: 51.2484503 (29)\ttotal: 126ms\tremaining: 46.2ms\n",
      "30:\tlearn: 35.5015566\ttest: 50.3864641\tbest: 50.3864641 (30)\ttotal: 129ms\tremaining: 41.5ms\n",
      "31:\tlearn: 34.8801946\ttest: 49.5982657\tbest: 49.5982657 (31)\ttotal: 132ms\tremaining: 37.2ms\n",
      "32:\tlearn: 34.2670602\ttest: 48.7757000\tbest: 48.7757000 (32)\ttotal: 135ms\tremaining: 32.8ms\n",
      "33:\tlearn: 33.6954830\ttest: 48.0425966\tbest: 48.0425966 (33)\ttotal: 138ms\tremaining: 28.4ms\n",
      "34:\tlearn: 33.1425595\ttest: 47.4215295\tbest: 47.4215295 (34)\ttotal: 141ms\tremaining: 24.1ms\n",
      "35:\tlearn: 32.6154171\ttest: 46.8699315\tbest: 46.8699315 (35)\ttotal: 143ms\tremaining: 19.9ms\n",
      "36:\tlearn: 32.1228362\ttest: 46.3107069\tbest: 46.3107069 (36)\ttotal: 146ms\tremaining: 15.8ms\n",
      "37:\tlearn: 31.6251327\ttest: 45.7780844\tbest: 45.7780844 (37)\ttotal: 149ms\tremaining: 11.8ms\n",
      "38:\tlearn: 31.1083278\ttest: 45.0513528\tbest: 45.0513528 (38)\ttotal: 152ms\tremaining: 7.79ms\n",
      "39:\tlearn: 30.6711740\ttest: 44.5877721\tbest: 44.5877721 (39)\ttotal: 155ms\tremaining: 3.87ms\n",
      "40:\tlearn: 30.2487020\ttest: 44.0261285\tbest: 44.0261285 (40)\ttotal: 158ms\tremaining: 0us\n",
      "\n",
      "bestTest = 44.02612849\n",
      "bestIteration = 40\n",
      "\n",
      "Training on fold [5/10]\n",
      "0:\tlearn: 70.9521651\ttest: 84.0663809\tbest: 84.0663809 (0)\ttotal: 3.12ms\tremaining: 125ms\n",
      "1:\tlearn: 69.1898781\ttest: 82.0656584\tbest: 82.0656584 (1)\ttotal: 5.8ms\tremaining: 113ms\n",
      "2:\tlearn: 67.5378819\ttest: 80.2156140\tbest: 80.2156140 (2)\ttotal: 8.45ms\tremaining: 107ms\n",
      "3:\tlearn: 65.8642472\ttest: 78.3266089\tbest: 78.3266089 (3)\ttotal: 11.5ms\tremaining: 106ms\n",
      "4:\tlearn: 64.3154105\ttest: 76.6375769\tbest: 76.6375769 (4)\ttotal: 14.4ms\tremaining: 104ms\n",
      "5:\tlearn: 62.7454345\ttest: 74.8813907\tbest: 74.8813907 (5)\ttotal: 17.7ms\tremaining: 103ms\n",
      "6:\tlearn: 61.2257467\ttest: 73.1248111\tbest: 73.1248111 (6)\ttotal: 20.4ms\tremaining: 99.2ms\n",
      "7:\tlearn: 59.7579259\ttest: 71.4825062\tbest: 71.4825062 (7)\ttotal: 23.3ms\tremaining: 96.1ms\n",
      "8:\tlearn: 58.3788347\ttest: 69.8781034\tbest: 69.8781034 (8)\ttotal: 26.3ms\tremaining: 93.4ms\n",
      "9:\tlearn: 57.0004792\ttest: 68.3903046\tbest: 68.3903046 (9)\ttotal: 29.3ms\tremaining: 90.9ms\n",
      "10:\tlearn: 55.6926479\ttest: 66.8696702\tbest: 66.8696702 (10)\ttotal: 33.4ms\tremaining: 91ms\n",
      "11:\tlearn: 54.4049723\ttest: 65.4326210\tbest: 65.4326210 (11)\ttotal: 36.8ms\tremaining: 89ms\n"
     ]
    },
    {
     "name": "stdout",
     "output_type": "stream",
     "text": [
      "12:\tlearn: 53.1969054\ttest: 64.0351520\tbest: 64.0351520 (12)\ttotal: 41.4ms\tremaining: 89.1ms\n",
      "13:\tlearn: 51.9623807\ttest: 62.6561486\tbest: 62.6561486 (13)\ttotal: 45ms\tremaining: 86.8ms\n",
      "14:\tlearn: 50.7882085\ttest: 61.3295623\tbest: 61.3295623 (14)\ttotal: 49.6ms\tremaining: 86ms\n",
      "15:\tlearn: 49.6976478\ttest: 60.0625844\tbest: 60.0625844 (15)\ttotal: 52.9ms\tremaining: 82.7ms\n",
      "16:\tlearn: 48.6306839\ttest: 58.7620404\tbest: 58.7620404 (16)\ttotal: 56.7ms\tremaining: 80.1ms\n",
      "17:\tlearn: 47.6235930\ttest: 57.6336282\tbest: 57.6336282 (17)\ttotal: 61.1ms\tremaining: 78.1ms\n",
      "18:\tlearn: 46.6122289\ttest: 56.5996797\tbest: 56.5996797 (18)\ttotal: 64.9ms\tremaining: 75.2ms\n",
      "19:\tlearn: 45.6632881\ttest: 55.4395790\tbest: 55.4395790 (19)\ttotal: 68.4ms\tremaining: 71.8ms\n",
      "20:\tlearn: 44.6848152\ttest: 54.2980341\tbest: 54.2980341 (20)\ttotal: 71.6ms\tremaining: 68.2ms\n",
      "21:\tlearn: 43.7463614\ttest: 53.2082708\tbest: 53.2082708 (21)\ttotal: 75.3ms\tremaining: 65ms\n",
      "22:\tlearn: 42.8437693\ttest: 52.1805336\tbest: 52.1805336 (22)\ttotal: 80.1ms\tremaining: 62.7ms\n",
      "23:\tlearn: 42.0017476\ttest: 51.1600891\tbest: 51.1600891 (23)\ttotal: 86.8ms\tremaining: 61.5ms\n",
      "24:\tlearn: 41.1762124\ttest: 50.3035937\tbest: 50.3035937 (24)\ttotal: 92.6ms\tremaining: 59.2ms\n",
      "25:\tlearn: 40.3795206\ttest: 49.3653213\tbest: 49.3653213 (25)\ttotal: 95.9ms\tremaining: 55.3ms\n",
      "26:\tlearn: 39.6054038\ttest: 48.3957963\tbest: 48.3957963 (26)\ttotal: 99.8ms\tremaining: 51.7ms\n",
      "27:\tlearn: 38.8872767\ttest: 47.5302166\tbest: 47.5302166 (27)\ttotal: 103ms\tremaining: 48ms\n",
      "28:\tlearn: 38.1510284\ttest: 46.6542227\tbest: 46.6542227 (28)\ttotal: 107ms\tremaining: 44.4ms\n",
      "29:\tlearn: 37.4419890\ttest: 45.8282007\tbest: 45.8282007 (29)\ttotal: 113ms\tremaining: 41.4ms\n",
      "30:\tlearn: 36.7836850\ttest: 45.0116959\tbest: 45.0116959 (30)\ttotal: 117ms\tremaining: 37.9ms\n",
      "31:\tlearn: 36.1385837\ttest: 44.2166146\tbest: 44.2166146 (31)\ttotal: 121ms\tremaining: 34ms\n",
      "32:\tlearn: 35.4955499\ttest: 43.4072334\tbest: 43.4072334 (32)\ttotal: 126ms\tremaining: 30.6ms\n",
      "33:\tlearn: 34.9001643\ttest: 42.6668200\tbest: 42.6668200 (33)\ttotal: 130ms\tremaining: 26.8ms\n",
      "34:\tlearn: 34.3226525\ttest: 42.0168451\tbest: 42.0168451 (34)\ttotal: 134ms\tremaining: 23ms\n",
      "35:\tlearn: 33.7688451\ttest: 41.3917436\tbest: 41.3917436 (35)\ttotal: 138ms\tremaining: 19.1ms\n",
      "36:\tlearn: 33.2707606\ttest: 40.7696351\tbest: 40.7696351 (36)\ttotal: 142ms\tremaining: 15.4ms\n",
      "37:\tlearn: 32.7495252\ttest: 40.1940811\tbest: 40.1940811 (37)\ttotal: 147ms\tremaining: 11.6ms\n",
      "38:\tlearn: 32.2144728\ttest: 39.4623747\tbest: 39.4623747 (38)\ttotal: 151ms\tremaining: 7.76ms\n",
      "39:\tlearn: 31.7491345\ttest: 38.9744532\tbest: 38.9744532 (39)\ttotal: 155ms\tremaining: 3.87ms\n",
      "40:\tlearn: 31.2960603\ttest: 38.3672973\tbest: 38.3672973 (40)\ttotal: 159ms\tremaining: 0us\n",
      "\n",
      "bestTest = 38.3672973\n",
      "bestIteration = 40\n",
      "\n",
      "Training on fold [6/10]\n",
      "0:\tlearn: 72.9232762\ttest: 89.9687470\tbest: 89.9687470 (0)\ttotal: 5.14ms\tremaining: 206ms\n",
      "1:\tlearn: 71.0947956\ttest: 87.7985323\tbest: 87.7985323 (1)\ttotal: 9.09ms\tremaining: 177ms\n",
      "2:\tlearn: 69.3787665\ttest: 85.8406617\tbest: 85.8406617 (2)\ttotal: 13.8ms\tremaining: 175ms\n",
      "3:\tlearn: 67.6483794\ttest: 83.6739916\tbest: 83.6739916 (3)\ttotal: 18.2ms\tremaining: 168ms\n",
      "4:\tlearn: 66.0404333\ttest: 81.8396058\tbest: 81.8396058 (4)\ttotal: 22.6ms\tremaining: 163ms\n",
      "5:\tlearn: 64.4238539\ttest: 79.9460538\tbest: 79.9460538 (5)\ttotal: 26.5ms\tremaining: 154ms\n",
      "6:\tlearn: 62.8493903\ttest: 78.0750901\tbest: 78.0750901 (6)\ttotal: 30.3ms\tremaining: 147ms\n",
      "7:\tlearn: 61.3283608\ttest: 76.3392567\tbest: 76.3392567 (7)\ttotal: 34ms\tremaining: 140ms\n",
      "8:\tlearn: 59.8554174\ttest: 74.7164567\tbest: 74.7164567 (8)\ttotal: 38.3ms\tremaining: 136ms\n",
      "9:\tlearn: 58.4323802\ttest: 72.9760835\tbest: 72.9760835 (9)\ttotal: 42.1ms\tremaining: 131ms\n",
      "10:\tlearn: 57.1137061\ttest: 71.4846709\tbest: 71.4846709 (10)\ttotal: 46.1ms\tremaining: 126ms\n",
      "11:\tlearn: 55.7817598\ttest: 69.9585305\tbest: 69.9585305 (11)\ttotal: 49.3ms\tremaining: 119ms\n",
      "12:\tlearn: 54.5210804\ttest: 68.4413521\tbest: 68.4413521 (12)\ttotal: 52.5ms\tremaining: 113ms\n",
      "13:\tlearn: 53.2490561\ttest: 66.9060310\tbest: 66.9060310 (13)\ttotal: 56.3ms\tremaining: 109ms\n",
      "14:\tlearn: 52.0368041\ttest: 65.4906669\tbest: 65.4906669 (14)\ttotal: 60.7ms\tremaining: 105ms\n",
      "15:\tlearn: 50.8962600\ttest: 64.1205637\tbest: 64.1205637 (15)\ttotal: 63.8ms\tremaining: 99.6ms\n",
      "16:\tlearn: 49.7865323\ttest: 62.7225376\tbest: 62.7225376 (16)\ttotal: 66.9ms\tremaining: 94.4ms\n",
      "17:\tlearn: 48.7288593\ttest: 61.4327939\tbest: 61.4327939 (17)\ttotal: 70.2ms\tremaining: 89.7ms\n",
      "18:\tlearn: 47.6566954\ttest: 60.0873291\tbest: 60.0873291 (18)\ttotal: 74.1ms\tremaining: 85.8ms\n",
      "19:\tlearn: 46.6710151\ttest: 58.8303342\tbest: 58.8303342 (19)\ttotal: 77.2ms\tremaining: 81ms\n",
      "20:\tlearn: 45.6626409\ttest: 57.5925828\tbest: 57.5925828 (20)\ttotal: 80.5ms\tremaining: 76.7ms\n",
      "21:\tlearn: 44.6909663\ttest: 56.4438574\tbest: 56.4438574 (21)\ttotal: 83.8ms\tremaining: 72.4ms\n",
      "22:\tlearn: 43.7704550\ttest: 55.3533987\tbest: 55.3533987 (22)\ttotal: 87ms\tremaining: 68.1ms\n",
      "23:\tlearn: 42.8897927\ttest: 54.2689743\tbest: 54.2689743 (23)\ttotal: 90.1ms\tremaining: 63.8ms\n",
      "24:\tlearn: 42.0446391\ttest: 53.3808594\tbest: 53.3808594 (24)\ttotal: 93.8ms\tremaining: 60ms\n",
      "25:\tlearn: 41.2224572\ttest: 52.2938204\tbest: 52.2938204 (25)\ttotal: 97.3ms\tremaining: 56.1ms\n",
      "26:\tlearn: 40.4295201\ttest: 51.2484880\tbest: 51.2484880 (26)\ttotal: 101ms\tremaining: 52.4ms\n",
      "27:\tlearn: 39.6672702\ttest: 50.3105359\tbest: 50.3105359 (27)\ttotal: 105ms\tremaining: 48.9ms\n",
      "28:\tlearn: 38.9304032\ttest: 49.3701770\tbest: 49.3701770 (28)\ttotal: 109ms\tremaining: 45ms\n",
      "29:\tlearn: 38.2247447\ttest: 48.5177342\tbest: 48.5177342 (29)\ttotal: 112ms\tremaining: 41ms\n",
      "30:\tlearn: 37.5285264\ttest: 47.5965024\tbest: 47.5965024 (30)\ttotal: 115ms\tremaining: 37.1ms\n",
      "31:\tlearn: 36.8520634\ttest: 46.7158715\tbest: 46.7158715 (31)\ttotal: 118ms\tremaining: 33.3ms\n",
      "32:\tlearn: 36.1904466\ttest: 45.8143938\tbest: 45.8143938 (32)\ttotal: 122ms\tremaining: 29.5ms\n",
      "33:\tlearn: 35.5725454\ttest: 44.9866395\tbest: 44.9866395 (33)\ttotal: 125ms\tremaining: 25.7ms\n",
      "34:\tlearn: 34.9775418\ttest: 44.3036121\tbest: 44.3036121 (34)\ttotal: 128ms\tremaining: 21.9ms\n",
      "35:\tlearn: 34.3809169\ttest: 43.6523259\tbest: 43.6523259 (35)\ttotal: 131ms\tremaining: 18.2ms\n",
      "36:\tlearn: 33.8291772\ttest: 42.9059678\tbest: 42.9059678 (36)\ttotal: 134ms\tremaining: 14.5ms\n",
      "37:\tlearn: 33.2962485\ttest: 42.3211411\tbest: 42.3211411 (37)\ttotal: 137ms\tremaining: 10.8ms\n",
      "38:\tlearn: 32.7649338\ttest: 41.5673100\tbest: 41.5673100 (38)\ttotal: 140ms\tremaining: 7.18ms\n",
      "39:\tlearn: 32.2640216\ttest: 40.9286497\tbest: 40.9286497 (39)\ttotal: 143ms\tremaining: 3.58ms\n",
      "40:\tlearn: 31.7743925\ttest: 40.2859159\tbest: 40.2859159 (40)\ttotal: 147ms\tremaining: 0us\n",
      "\n",
      "bestTest = 40.28591589\n",
      "bestIteration = 40\n",
      "\n",
      "Training on fold [7/10]\n",
      "0:\tlearn: 75.2160975\ttest: 97.5053225\tbest: 97.5053225 (0)\ttotal: 3.58ms\tremaining: 143ms\n",
      "1:\tlearn: 73.3080168\ttest: 95.2157636\tbest: 95.2157636 (1)\ttotal: 6.65ms\tremaining: 130ms\n",
      "2:\tlearn: 71.5156236\ttest: 93.1295053\tbest: 93.1295053 (2)\ttotal: 10.8ms\tremaining: 137ms\n",
      "3:\tlearn: 69.7058338\ttest: 90.8408918\tbest: 90.8408918 (3)\ttotal: 14.2ms\tremaining: 131ms\n",
      "4:\tlearn: 67.9973259\ttest: 88.8010994\tbest: 88.8010994 (4)\ttotal: 17.5ms\tremaining: 126ms\n",
      "5:\tlearn: 66.3070306\ttest: 86.8742040\tbest: 86.8742040 (5)\ttotal: 21.2ms\tremaining: 124ms\n",
      "6:\tlearn: 64.6696806\ttest: 84.9320260\tbest: 84.9320260 (6)\ttotal: 26.2ms\tremaining: 127ms\n",
      "7:\tlearn: 63.0880245\ttest: 83.0433921\tbest: 83.0433921 (7)\ttotal: 29.7ms\tremaining: 122ms\n",
      "8:\tlearn: 61.5431129\ttest: 81.2151494\tbest: 81.2151494 (8)\ttotal: 33.6ms\tremaining: 120ms\n",
      "9:\tlearn: 60.0592719\ttest: 79.5390770\tbest: 79.5390770 (9)\ttotal: 37.8ms\tremaining: 117ms\n",
      "10:\tlearn: 58.6447628\ttest: 77.7846769\tbest: 77.7846769 (10)\ttotal: 42.4ms\tremaining: 116ms\n",
      "11:\tlearn: 57.2602381\ttest: 76.2390322\tbest: 76.2390322 (11)\ttotal: 46.4ms\tremaining: 112ms\n",
      "12:\tlearn: 55.9432412\ttest: 74.6093593\tbest: 74.6093593 (12)\ttotal: 50.6ms\tremaining: 109ms\n",
      "13:\tlearn: 54.6223965\ttest: 73.0189324\tbest: 73.0189324 (13)\ttotal: 55.4ms\tremaining: 107ms\n",
      "14:\tlearn: 53.3664077\ttest: 71.5436275\tbest: 71.5436275 (14)\ttotal: 59.2ms\tremaining: 103ms\n",
      "15:\tlearn: 52.1618986\ttest: 70.0444961\tbest: 70.0444961 (15)\ttotal: 63.1ms\tremaining: 98.6ms\n",
      "16:\tlearn: 51.0069511\ttest: 68.5626978\tbest: 68.5626978 (16)\ttotal: 67.4ms\tremaining: 95.2ms\n",
      "17:\tlearn: 49.9105958\ttest: 67.2518234\tbest: 67.2518234 (17)\ttotal: 71.9ms\tremaining: 91.9ms\n",
      "18:\tlearn: 48.8488691\ttest: 66.0071203\tbest: 66.0071203 (18)\ttotal: 76.7ms\tremaining: 88.8ms\n",
      "19:\tlearn: 47.8171709\ttest: 64.6613605\tbest: 64.6613605 (19)\ttotal: 81.2ms\tremaining: 85.3ms\n",
      "20:\tlearn: 46.7730659\ttest: 63.3932137\tbest: 63.3932137 (20)\ttotal: 85.8ms\tremaining: 81.7ms\n",
      "21:\tlearn: 45.7649231\ttest: 62.1781967\tbest: 62.1781967 (21)\ttotal: 90.1ms\tremaining: 77.8ms\n",
      "22:\tlearn: 44.8071162\ttest: 61.0158425\tbest: 61.0158425 (22)\ttotal: 95.2ms\tremaining: 74.5ms\n",
      "23:\tlearn: 43.8960848\ttest: 59.8406790\tbest: 59.8406790 (23)\ttotal: 100ms\tremaining: 70.8ms\n",
      "24:\tlearn: 42.9956900\ttest: 58.8019498\tbest: 58.8019498 (24)\ttotal: 105ms\tremaining: 66.9ms\n",
      "25:\tlearn: 42.1364386\ttest: 57.7050410\tbest: 57.7050410 (25)\ttotal: 110ms\tremaining: 63.4ms\n",
      "26:\tlearn: 41.2883366\ttest: 56.5809164\tbest: 56.5809164 (26)\ttotal: 114ms\tremaining: 59.2ms\n",
      "27:\tlearn: 40.5123668\ttest: 55.6429172\tbest: 55.6429172 (27)\ttotal: 118ms\tremaining: 54.9ms\n",
      "28:\tlearn: 39.7309879\ttest: 54.5938933\tbest: 54.5938933 (28)\ttotal: 123ms\tremaining: 51ms\n",
      "29:\tlearn: 38.9716891\ttest: 53.6596547\tbest: 53.6596547 (29)\ttotal: 127ms\tremaining: 46.5ms\n",
      "30:\tlearn: 38.2649871\ttest: 52.6670148\tbest: 52.6670148 (30)\ttotal: 132ms\tremaining: 42.6ms\n",
      "31:\tlearn: 37.5616694\ttest: 51.6919887\tbest: 51.6919887 (31)\ttotal: 135ms\tremaining: 38.1ms\n",
      "32:\tlearn: 36.8721499\ttest: 50.7228041\tbest: 50.7228041 (32)\ttotal: 139ms\tremaining: 33.6ms\n",
      "33:\tlearn: 36.2327655\ttest: 49.8321701\tbest: 49.8321701 (33)\ttotal: 143ms\tremaining: 29.4ms\n",
      "34:\tlearn: 35.6193999\ttest: 49.1129902\tbest: 49.1129902 (34)\ttotal: 146ms\tremaining: 25.1ms\n",
      "35:\tlearn: 35.0026160\ttest: 48.4157262\tbest: 48.4157262 (35)\ttotal: 150ms\tremaining: 20.9ms\n",
      "36:\tlearn: 34.4288682\ttest: 47.6479683\tbest: 47.6479683 (36)\ttotal: 155ms\tremaining: 16.8ms\n",
      "37:\tlearn: 33.8639597\ttest: 46.9984103\tbest: 46.9984103 (37)\ttotal: 160ms\tremaining: 12.6ms\n",
      "38:\tlearn: 33.3007956\ttest: 46.2274682\tbest: 46.2274682 (38)\ttotal: 168ms\tremaining: 8.6ms\n",
      "39:\tlearn: 32.7771265\ttest: 45.5143377\tbest: 45.5143377 (39)\ttotal: 172ms\tremaining: 4.3ms\n",
      "40:\tlearn: 32.3048200\ttest: 44.8952157\tbest: 44.8952157 (40)\ttotal: 176ms\tremaining: 0us\n",
      "\n",
      "bestTest = 44.8952157\n",
      "bestIteration = 40\n",
      "\n",
      "Training on fold [8/10]\n",
      "0:\tlearn: 77.9485166\ttest: 108.4889190\tbest: 108.4889190 (0)\ttotal: 7.64ms\tremaining: 306ms\n"
     ]
    },
    {
     "name": "stdout",
     "output_type": "stream",
     "text": [
      "1:\tlearn: 75.9088901\ttest: 106.1016534\tbest: 106.1016534 (1)\ttotal: 12.8ms\tremaining: 251ms\n",
      "2:\tlearn: 74.0319597\ttest: 103.9121620\tbest: 103.9121620 (2)\ttotal: 17.4ms\tremaining: 220ms\n",
      "3:\tlearn: 72.1381476\ttest: 101.5238288\tbest: 101.5238288 (3)\ttotal: 21.7ms\tremaining: 201ms\n",
      "4:\tlearn: 70.3871070\ttest: 99.4543351\tbest: 99.4543351 (4)\ttotal: 25.9ms\tremaining: 187ms\n",
      "5:\tlearn: 68.6275257\ttest: 97.4288607\tbest: 97.4288607 (5)\ttotal: 30.6ms\tremaining: 179ms\n",
      "6:\tlearn: 66.9185998\ttest: 95.4211904\tbest: 95.4211904 (6)\ttotal: 34.8ms\tremaining: 169ms\n",
      "7:\tlearn: 65.2561975\ttest: 93.4385525\tbest: 93.4385525 (7)\ttotal: 39.2ms\tremaining: 162ms\n",
      "8:\tlearn: 63.6426526\ttest: 91.5285837\tbest: 91.5285837 (8)\ttotal: 42.4ms\tremaining: 151ms\n",
      "9:\tlearn: 62.0614844\ttest: 89.5928183\tbest: 89.5928183 (9)\ttotal: 47.8ms\tremaining: 148ms\n",
      "10:\tlearn: 60.5812320\ttest: 87.7203913\tbest: 87.7203913 (10)\ttotal: 54.2ms\tremaining: 148ms\n",
      "11:\tlearn: 59.1377242\ttest: 86.1312768\tbest: 86.1312768 (11)\ttotal: 58.4ms\tremaining: 141ms\n",
      "12:\tlearn: 57.7422393\ttest: 84.3616480\tbest: 84.3616480 (12)\ttotal: 62.5ms\tremaining: 135ms\n",
      "13:\tlearn: 56.3714326\ttest: 82.6932920\tbest: 82.6932920 (13)\ttotal: 66.7ms\tremaining: 129ms\n",
      "14:\tlearn: 55.0692924\ttest: 81.1723927\tbest: 81.1723927 (14)\ttotal: 70.5ms\tremaining: 122ms\n",
      "15:\tlearn: 53.8140974\ttest: 79.6269672\tbest: 79.6269672 (15)\ttotal: 74.2ms\tremaining: 116ms\n",
      "16:\tlearn: 52.6058357\ttest: 78.0997967\tbest: 78.0997967 (16)\ttotal: 77.6ms\tremaining: 110ms\n",
      "17:\tlearn: 51.4710630\ttest: 76.6752827\tbest: 76.6752827 (17)\ttotal: 80.9ms\tremaining: 103ms\n",
      "18:\tlearn: 50.3527287\ttest: 75.2051817\tbest: 75.2051817 (18)\ttotal: 84.4ms\tremaining: 97.7ms\n",
      "19:\tlearn: 49.2767580\ttest: 73.7075776\tbest: 73.7075776 (19)\ttotal: 87.7ms\tremaining: 92ms\n",
      "20:\tlearn: 48.1911532\ttest: 72.3763356\tbest: 72.3763356 (20)\ttotal: 91.3ms\tremaining: 86.9ms\n",
      "21:\tlearn: 47.1448484\ttest: 71.1636683\tbest: 71.1636683 (21)\ttotal: 94.7ms\tremaining: 81.8ms\n",
      "22:\tlearn: 46.1476398\ttest: 69.9503528\tbest: 69.9503528 (22)\ttotal: 98.1ms\tremaining: 76.8ms\n",
      "23:\tlearn: 45.1913173\ttest: 68.7284761\tbest: 68.7284761 (23)\ttotal: 102ms\tremaining: 72ms\n",
      "24:\tlearn: 44.2545214\ttest: 67.6030827\tbest: 67.6030827 (24)\ttotal: 105ms\tremaining: 67.1ms\n",
      "25:\tlearn: 43.3648984\ttest: 66.4056289\tbest: 66.4056289 (25)\ttotal: 108ms\tremaining: 62.5ms\n",
      "26:\tlearn: 42.5114303\ttest: 65.2574614\tbest: 65.2574614 (26)\ttotal: 112ms\tremaining: 58.3ms\n",
      "27:\tlearn: 41.6893023\ttest: 64.1729661\tbest: 64.1729661 (27)\ttotal: 116ms\tremaining: 53.7ms\n",
      "28:\tlearn: 40.8661461\ttest: 62.9904062\tbest: 62.9904062 (28)\ttotal: 119ms\tremaining: 49.2ms\n",
      "29:\tlearn: 40.1050276\ttest: 62.0494187\tbest: 62.0494187 (29)\ttotal: 122ms\tremaining: 44.9ms\n",
      "30:\tlearn: 39.3581329\ttest: 60.9992561\tbest: 60.9992561 (30)\ttotal: 126ms\tremaining: 40.6ms\n",
      "31:\tlearn: 38.6398282\ttest: 59.9279920\tbest: 59.9279920 (31)\ttotal: 130ms\tremaining: 36.5ms\n",
      "32:\tlearn: 37.9455368\ttest: 58.9329333\tbest: 58.9329333 (32)\ttotal: 133ms\tremaining: 32.3ms\n",
      "33:\tlearn: 37.2719134\ttest: 57.9895654\tbest: 57.9895654 (33)\ttotal: 137ms\tremaining: 28.1ms\n",
      "34:\tlearn: 36.6387563\ttest: 57.1372341\tbest: 57.1372341 (34)\ttotal: 140ms\tremaining: 24ms\n",
      "35:\tlearn: 36.0111872\ttest: 56.3917203\tbest: 56.3917203 (35)\ttotal: 144ms\tremaining: 19.9ms\n",
      "36:\tlearn: 35.4361796\ttest: 55.5478203\tbest: 55.5478203 (36)\ttotal: 147ms\tremaining: 15.9ms\n",
      "37:\tlearn: 34.8398374\ttest: 54.8193401\tbest: 54.8193401 (37)\ttotal: 150ms\tremaining: 11.8ms\n",
      "38:\tlearn: 34.2553311\ttest: 53.9832044\tbest: 53.9832044 (38)\ttotal: 154ms\tremaining: 7.88ms\n",
      "39:\tlearn: 33.7372515\ttest: 53.2334367\tbest: 53.2334367 (39)\ttotal: 157ms\tremaining: 3.93ms\n",
      "40:\tlearn: 33.2393267\ttest: 52.5946504\tbest: 52.5946504 (40)\ttotal: 160ms\tremaining: 0us\n",
      "\n",
      "bestTest = 52.59465035\n",
      "bestIteration = 40\n",
      "\n",
      "Training on fold [9/10]\n",
      "0:\tlearn: 81.4427582\ttest: 117.3466136\tbest: 117.3466136 (0)\ttotal: 3.72ms\tremaining: 149ms\n",
      "1:\tlearn: 79.3482584\ttest: 114.8400438\tbest: 114.8400438 (1)\ttotal: 7.36ms\tremaining: 144ms\n",
      "2:\tlearn: 77.3736818\ttest: 112.6441926\tbest: 112.6441926 (2)\ttotal: 10.8ms\tremaining: 137ms\n",
      "3:\tlearn: 75.3866025\ttest: 110.1443260\tbest: 110.1443260 (3)\ttotal: 14.6ms\tremaining: 135ms\n",
      "4:\tlearn: 73.5384170\ttest: 107.9957455\tbest: 107.9957455 (4)\ttotal: 18.7ms\tremaining: 134ms\n",
      "5:\tlearn: 71.6994191\ttest: 105.7677265\tbest: 105.7677265 (5)\ttotal: 23ms\tremaining: 134ms\n",
      "6:\tlearn: 69.9124236\ttest: 103.7866969\tbest: 103.7866969 (6)\ttotal: 26.4ms\tremaining: 128ms\n",
      "7:\tlearn: 68.1911011\ttest: 101.6945449\tbest: 101.6945449 (7)\ttotal: 30.5ms\tremaining: 126ms\n",
      "8:\tlearn: 66.5015002\ttest: 99.7297697\tbest: 99.7297697 (8)\ttotal: 35.1ms\tremaining: 125ms\n",
      "9:\tlearn: 64.8487854\ttest: 97.7316822\tbest: 97.7316822 (9)\ttotal: 39.9ms\tremaining: 124ms\n",
      "10:\tlearn: 63.3582632\ttest: 95.9116927\tbest: 95.9116927 (10)\ttotal: 43.9ms\tremaining: 120ms\n",
      "11:\tlearn: 61.8481107\ttest: 94.1328000\tbest: 94.1328000 (11)\ttotal: 48.4ms\tremaining: 117ms\n",
      "12:\tlearn: 60.4005815\ttest: 92.3508359\tbest: 92.3508359 (12)\ttotal: 51.9ms\tremaining: 112ms\n",
      "13:\tlearn: 58.9392223\ttest: 90.5273178\tbest: 90.5273178 (13)\ttotal: 56.3ms\tremaining: 109ms\n",
      "14:\tlearn: 57.5801136\ttest: 88.9952456\tbest: 88.9952456 (14)\ttotal: 59.9ms\tremaining: 104ms\n",
      "15:\tlearn: 56.2652563\ttest: 87.3744085\tbest: 87.3744085 (15)\ttotal: 63.7ms\tremaining: 99.6ms\n",
      "16:\tlearn: 54.9938734\ttest: 85.7029454\tbest: 85.7029454 (16)\ttotal: 67.3ms\tremaining: 95ms\n",
      "17:\tlearn: 53.7278979\ttest: 84.0108426\tbest: 84.0108426 (17)\ttotal: 70.8ms\tremaining: 90.5ms\n",
      "18:\tlearn: 52.5128498\ttest: 82.6601465\tbest: 82.6601465 (18)\ttotal: 74.4ms\tremaining: 86.1ms\n",
      "19:\tlearn: 51.3757998\ttest: 81.0837210\tbest: 81.0837210 (19)\ttotal: 78.4ms\tremaining: 82.3ms\n",
      "20:\tlearn: 50.2425237\ttest: 79.7095646\tbest: 79.7095646 (20)\ttotal: 82.1ms\tremaining: 78.2ms\n",
      "21:\tlearn: 49.1595367\ttest: 78.3918818\tbest: 78.3918818 (21)\ttotal: 85.8ms\tremaining: 74.1ms\n",
      "22:\tlearn: 48.1386476\ttest: 76.9389214\tbest: 76.9389214 (22)\ttotal: 89.5ms\tremaining: 70ms\n",
      "23:\tlearn: 47.1365359\ttest: 75.5613425\tbest: 75.5613425 (23)\ttotal: 94.6ms\tremaining: 67ms\n",
      "24:\tlearn: 46.1581408\ttest: 74.3713725\tbest: 74.3713725 (24)\ttotal: 99ms\tremaining: 63.4ms\n",
      "25:\tlearn: 45.2214494\ttest: 73.0844100\tbest: 73.0844100 (25)\ttotal: 103ms\tremaining: 59.4ms\n",
      "26:\tlearn: 44.2936529\ttest: 71.8896044\tbest: 71.8896044 (26)\ttotal: 107ms\tremaining: 55.6ms\n",
      "27:\tlearn: 43.4310404\ttest: 70.7890436\tbest: 70.7890436 (27)\ttotal: 111ms\tremaining: 51.7ms\n",
      "28:\tlearn: 42.5642731\ttest: 69.5334062\tbest: 69.5334062 (28)\ttotal: 115ms\tremaining: 47.6ms\n",
      "29:\tlearn: 41.7654587\ttest: 68.5507187\tbest: 68.5507187 (29)\ttotal: 120ms\tremaining: 44ms\n",
      "30:\tlearn: 41.0116032\ttest: 67.4077145\tbest: 67.4077145 (30)\ttotal: 125ms\tremaining: 40.3ms\n",
      "31:\tlearn: 40.2565404\ttest: 66.3101485\tbest: 66.3101485 (31)\ttotal: 129ms\tremaining: 36.4ms\n",
      "32:\tlearn: 39.4986037\ttest: 65.2329667\tbest: 65.2329667 (32)\ttotal: 134ms\tremaining: 32.4ms\n",
      "33:\tlearn: 38.7930639\ttest: 64.2747468\tbest: 64.2747468 (33)\ttotal: 138ms\tremaining: 28.5ms\n",
      "34:\tlearn: 38.1193418\ttest: 63.4015620\tbest: 63.4015620 (34)\ttotal: 142ms\tremaining: 24.4ms\n",
      "35:\tlearn: 37.4605385\ttest: 62.5717325\tbest: 62.5717325 (35)\ttotal: 146ms\tremaining: 20.3ms\n",
      "36:\tlearn: 36.8605842\ttest: 61.6475489\tbest: 61.6475489 (36)\ttotal: 152ms\tremaining: 16.4ms\n",
      "37:\tlearn: 36.2524399\ttest: 60.8690455\tbest: 60.8690455 (37)\ttotal: 157ms\tremaining: 12.4ms\n",
      "38:\tlearn: 35.6361146\ttest: 60.0642994\tbest: 60.0642994 (38)\ttotal: 161ms\tremaining: 8.27ms\n",
      "39:\tlearn: 35.0831621\ttest: 59.2725174\tbest: 59.2725174 (39)\ttotal: 166ms\tremaining: 4.15ms\n",
      "40:\tlearn: 34.5361352\ttest: 58.4157433\tbest: 58.4157433 (40)\ttotal: 171ms\tremaining: 0us\n",
      "\n",
      "bestTest = 58.41574328\n",
      "bestIteration = 40\n",
      "\n",
      "Training on fold [0/10]\n",
      "0:\tlearn: 61.6130729\ttest: 64.1449488\tbest: 64.1449488 (0)\ttotal: 2.6ms\tremaining: 49.5ms\n",
      "1:\tlearn: 60.2078744\ttest: 62.7754476\tbest: 62.7754476 (1)\ttotal: 4.96ms\tremaining: 44.7ms\n",
      "2:\tlearn: 58.9362889\ttest: 61.4939859\tbest: 61.4939859 (2)\ttotal: 6.83ms\tremaining: 38.7ms\n",
      "3:\tlearn: 57.6615798\ttest: 60.2516447\tbest: 60.2516447 (3)\ttotal: 9.14ms\tremaining: 36.5ms\n",
      "4:\tlearn: 56.4553932\ttest: 59.0537923\tbest: 59.0537923 (4)\ttotal: 11.7ms\tremaining: 35.2ms\n",
      "5:\tlearn: 55.2232366\ttest: 57.8139969\tbest: 57.8139969 (5)\ttotal: 14.3ms\tremaining: 33.3ms\n",
      "6:\tlearn: 54.0786091\ttest: 56.6285578\tbest: 56.6285578 (6)\ttotal: 17.4ms\tremaining: 32.3ms\n",
      "7:\tlearn: 52.9223562\ttest: 55.4942691\tbest: 55.4942691 (7)\ttotal: 20ms\tremaining: 30ms\n",
      "8:\tlearn: 51.7818117\ttest: 54.3723962\tbest: 54.3723962 (8)\ttotal: 22.9ms\tremaining: 28ms\n",
      "9:\tlearn: 50.6418342\ttest: 53.2557110\tbest: 53.2557110 (9)\ttotal: 27.2ms\tremaining: 27.2ms\n",
      "10:\tlearn: 49.6177268\ttest: 52.2540828\tbest: 52.2540828 (10)\ttotal: 30.2ms\tremaining: 24.7ms\n",
      "11:\tlearn: 48.4718167\ttest: 51.1458094\tbest: 51.1458094 (11)\ttotal: 33.3ms\tremaining: 22.2ms\n",
      "12:\tlearn: 47.4424450\ttest: 50.1167746\tbest: 50.1167746 (12)\ttotal: 35.8ms\tremaining: 19.3ms\n",
      "13:\tlearn: 46.5208437\ttest: 49.2715606\tbest: 49.2715606 (13)\ttotal: 38.7ms\tremaining: 16.6ms\n",
      "14:\tlearn: 45.5220630\ttest: 48.2901233\tbest: 48.2901233 (14)\ttotal: 41.2ms\tremaining: 13.7ms\n",
      "15:\tlearn: 44.5688954\ttest: 47.3240393\tbest: 47.3240393 (15)\ttotal: 44.1ms\tremaining: 11ms\n",
      "16:\tlearn: 43.6896278\ttest: 46.4903812\tbest: 46.4903812 (16)\ttotal: 46.7ms\tremaining: 8.23ms\n",
      "17:\tlearn: 42.7742542\ttest: 45.5882380\tbest: 45.5882380 (17)\ttotal: 49.6ms\tremaining: 5.51ms\n",
      "18:\tlearn: 41.9706048\ttest: 44.8085052\tbest: 44.8085052 (18)\ttotal: 53.2ms\tremaining: 2.8ms\n",
      "19:\tlearn: 41.1649644\ttest: 44.0166945\tbest: 44.0166945 (19)\ttotal: 55.8ms\tremaining: 0us\n",
      "\n",
      "bestTest = 44.01669451\n",
      "bestIteration = 19\n",
      "\n",
      "Training on fold [1/10]\n",
      "0:\tlearn: 62.6956292\ttest: 64.4497239\tbest: 64.4497239 (0)\ttotal: 3.46ms\tremaining: 65.8ms\n",
      "1:\tlearn: 61.2379302\ttest: 63.0011716\tbest: 63.0011716 (1)\ttotal: 6.22ms\tremaining: 56ms\n",
      "2:\tlearn: 59.8612578\ttest: 61.6129078\tbest: 61.6129078 (2)\ttotal: 9.34ms\tremaining: 52.9ms\n",
      "3:\tlearn: 58.4017889\ttest: 60.1635850\tbest: 60.1635850 (3)\ttotal: 12.7ms\tremaining: 50.9ms\n",
      "4:\tlearn: 57.0758138\ttest: 58.8709176\tbest: 58.8709176 (4)\ttotal: 15.4ms\tremaining: 46.2ms\n",
      "5:\tlearn: 55.7691014\ttest: 57.5874662\tbest: 57.5874662 (5)\ttotal: 18.1ms\tremaining: 42.3ms\n",
      "6:\tlearn: 54.4740056\ttest: 56.3113587\tbest: 56.3113587 (6)\ttotal: 21.8ms\tremaining: 40.6ms\n",
      "7:\tlearn: 53.1657068\ttest: 55.0197670\tbest: 55.0197670 (7)\ttotal: 24.3ms\tremaining: 36.5ms\n",
      "8:\tlearn: 51.9274558\ttest: 53.8040244\tbest: 53.8040244 (8)\ttotal: 28ms\tremaining: 34.3ms\n",
      "9:\tlearn: 50.7655189\ttest: 52.6664064\tbest: 52.6664064 (9)\ttotal: 31ms\tremaining: 31ms\n",
      "10:\tlearn: 49.6553340\ttest: 51.5483507\tbest: 51.5483507 (10)\ttotal: 34.9ms\tremaining: 28.6ms\n",
      "11:\tlearn: 48.4929141\ttest: 50.3948354\tbest: 50.3948354 (11)\ttotal: 37.8ms\tremaining: 25.2ms\n",
      "12:\tlearn: 47.4799182\ttest: 49.4214430\tbest: 49.4214430 (12)\ttotal: 40.4ms\tremaining: 21.8ms\n",
      "13:\tlearn: 46.4443663\ttest: 48.4175809\tbest: 48.4175809 (13)\ttotal: 43.7ms\tremaining: 18.7ms\n",
      "14:\tlearn: 45.4255536\ttest: 47.3785997\tbest: 47.3785997 (14)\ttotal: 47.2ms\tremaining: 15.7ms\n",
      "15:\tlearn: 44.4540809\ttest: 46.4054189\tbest: 46.4054189 (15)\ttotal: 51.2ms\tremaining: 12.8ms\n",
      "16:\tlearn: 43.5232818\ttest: 45.4674477\tbest: 45.4674477 (16)\ttotal: 54.4ms\tremaining: 9.6ms\n",
      "17:\tlearn: 42.6659243\ttest: 44.6270865\tbest: 44.6270865 (17)\ttotal: 57.1ms\tremaining: 6.34ms\n",
      "18:\tlearn: 41.8493505\ttest: 43.8098761\tbest: 43.8098761 (18)\ttotal: 59.7ms\tremaining: 3.14ms\n",
      "19:\tlearn: 41.0154385\ttest: 42.9745966\tbest: 42.9745966 (19)\ttotal: 62.8ms\tremaining: 0us\n",
      "\n",
      "bestTest = 42.9745966\n",
      "bestIteration = 19\n",
      "\n",
      "Training on fold [2/10]\n",
      "0:\tlearn: 63.2564954\ttest: 74.5591727\tbest: 74.5591727 (0)\ttotal: 4.79ms\tremaining: 91ms\n"
     ]
    },
    {
     "name": "stdout",
     "output_type": "stream",
     "text": [
      "1:\tlearn: 61.7547225\ttest: 73.0627843\tbest: 73.0627843 (1)\ttotal: 9.34ms\tremaining: 84.1ms\n",
      "2:\tlearn: 60.3110162\ttest: 71.6089424\tbest: 71.6089424 (2)\ttotal: 13.2ms\tremaining: 74.9ms\n",
      "3:\tlearn: 58.8329954\ttest: 70.0829260\tbest: 70.0829260 (3)\ttotal: 17.3ms\tremaining: 69.3ms\n",
      "4:\tlearn: 57.4757217\ttest: 68.7222543\tbest: 68.7222543 (4)\ttotal: 20.8ms\tremaining: 62.3ms\n",
      "5:\tlearn: 56.1216722\ttest: 67.3539609\tbest: 67.3539609 (5)\ttotal: 26.4ms\tremaining: 61.7ms\n",
      "6:\tlearn: 54.7959006\ttest: 65.9065929\tbest: 65.9065929 (6)\ttotal: 30.7ms\tremaining: 57.1ms\n",
      "7:\tlearn: 53.4712169\ttest: 64.5501702\tbest: 64.5501702 (7)\ttotal: 34.6ms\tremaining: 51.9ms\n",
      "8:\tlearn: 52.2263660\ttest: 63.4196937\tbest: 63.4196937 (8)\ttotal: 38.9ms\tremaining: 47.6ms\n",
      "9:\tlearn: 51.0567521\ttest: 62.1542202\tbest: 62.1542202 (9)\ttotal: 42.7ms\tremaining: 42.7ms\n",
      "10:\tlearn: 49.9264657\ttest: 60.9471143\tbest: 60.9471143 (10)\ttotal: 46.2ms\tremaining: 37.8ms\n",
      "11:\tlearn: 48.7611516\ttest: 59.6979875\tbest: 59.6979875 (11)\ttotal: 49.7ms\tremaining: 33.1ms\n",
      "12:\tlearn: 47.7050063\ttest: 58.5619680\tbest: 58.5619680 (12)\ttotal: 53ms\tremaining: 28.6ms\n",
      "13:\tlearn: 46.6203833\ttest: 57.3845010\tbest: 57.3845010 (13)\ttotal: 55.8ms\tremaining: 23.9ms\n",
      "14:\tlearn: 45.5810734\ttest: 56.2693393\tbest: 56.2693393 (14)\ttotal: 58.3ms\tremaining: 19.4ms\n",
      "15:\tlearn: 44.5857961\ttest: 55.1550831\tbest: 55.1550831 (15)\ttotal: 61.1ms\tremaining: 15.3ms\n",
      "16:\tlearn: 43.6178188\ttest: 54.1631972\tbest: 54.1631972 (16)\ttotal: 63.9ms\tremaining: 11.3ms\n",
      "17:\tlearn: 42.7159779\ttest: 53.2412911\tbest: 53.2412911 (17)\ttotal: 66.8ms\tremaining: 7.42ms\n",
      "18:\tlearn: 41.8579526\ttest: 52.3321147\tbest: 52.3321147 (18)\ttotal: 69.7ms\tremaining: 3.67ms\n",
      "19:\tlearn: 41.0081857\ttest: 51.3994801\tbest: 51.3994801 (19)\ttotal: 72.3ms\tremaining: 0us\n",
      "\n",
      "bestTest = 51.39948008\n",
      "bestIteration = 19\n",
      "\n",
      "Training on fold [3/10]\n",
      "0:\tlearn: 66.1834941\ttest: 74.2515204\tbest: 74.2515204 (0)\ttotal: 5.5ms\tremaining: 104ms\n",
      "1:\tlearn: 64.5613898\ttest: 72.5155506\tbest: 72.5155506 (1)\ttotal: 8.65ms\tremaining: 77.9ms\n",
      "2:\tlearn: 63.0799886\ttest: 71.0527488\tbest: 71.0527488 (2)\ttotal: 11.9ms\tremaining: 67.2ms\n",
      "3:\tlearn: 61.5030142\ttest: 69.3972174\tbest: 69.3972174 (3)\ttotal: 15ms\tremaining: 60.2ms\n",
      "4:\tlearn: 60.0900044\ttest: 67.9301075\tbest: 67.9301075 (4)\ttotal: 19.2ms\tremaining: 57.7ms\n",
      "5:\tlearn: 58.6434037\ttest: 66.5012207\tbest: 66.5012207 (5)\ttotal: 22.9ms\tremaining: 53.4ms\n",
      "6:\tlearn: 57.2441458\ttest: 65.0665673\tbest: 65.0665673 (6)\ttotal: 26.3ms\tremaining: 48.8ms\n",
      "7:\tlearn: 55.9101144\ttest: 63.6519815\tbest: 63.6519815 (7)\ttotal: 29.8ms\tremaining: 44.7ms\n",
      "8:\tlearn: 54.6697942\ttest: 62.3887898\tbest: 62.3887898 (8)\ttotal: 33.3ms\tremaining: 40.7ms\n",
      "9:\tlearn: 53.4388937\ttest: 61.1906123\tbest: 61.1906123 (9)\ttotal: 36.8ms\tremaining: 36.8ms\n",
      "10:\tlearn: 52.3014636\ttest: 59.9834534\tbest: 59.9834534 (10)\ttotal: 40.4ms\tremaining: 33ms\n",
      "11:\tlearn: 51.0825886\ttest: 58.8215908\tbest: 58.8215908 (11)\ttotal: 44.5ms\tremaining: 29.6ms\n",
      "12:\tlearn: 49.9802853\ttest: 57.6945782\tbest: 57.6945782 (12)\ttotal: 48.5ms\tremaining: 26.1ms\n",
      "13:\tlearn: 48.8333774\ttest: 56.4930512\tbest: 56.4930512 (13)\ttotal: 52.5ms\tremaining: 22.5ms\n",
      "14:\tlearn: 47.7456665\ttest: 55.3392154\tbest: 55.3392154 (14)\ttotal: 55.8ms\tremaining: 18.6ms\n",
      "15:\tlearn: 46.7298505\ttest: 54.2459742\tbest: 54.2459742 (15)\ttotal: 59.7ms\tremaining: 14.9ms\n",
      "16:\tlearn: 45.7498571\ttest: 53.1965355\tbest: 53.1965355 (16)\ttotal: 63.5ms\tremaining: 11.2ms\n",
      "17:\tlearn: 44.7955552\ttest: 52.1861724\tbest: 52.1861724 (17)\ttotal: 67.3ms\tremaining: 7.48ms\n",
      "18:\tlearn: 43.8574952\ttest: 51.2765444\tbest: 51.2765444 (18)\ttotal: 71.1ms\tremaining: 3.74ms\n",
      "19:\tlearn: 42.9712620\ttest: 50.9175692\tbest: 50.9175692 (19)\ttotal: 75ms\tremaining: 0us\n",
      "\n",
      "bestTest = 50.91756925\n",
      "bestIteration = 19\n",
      "\n",
      "Training on fold [4/10]\n",
      "0:\tlearn: 67.8131957\ttest: 85.8359300\tbest: 85.8359300 (0)\ttotal: 5.63ms\tremaining: 107ms\n",
      "1:\tlearn: 66.1353816\ttest: 83.9281040\tbest: 83.9281040 (1)\ttotal: 9.45ms\tremaining: 85.1ms\n",
      "2:\tlearn: 64.6069950\ttest: 82.4596680\tbest: 82.4596680 (2)\ttotal: 12.8ms\tremaining: 72.6ms\n",
      "3:\tlearn: 62.9827484\ttest: 80.7079233\tbest: 80.7079233 (3)\ttotal: 17.3ms\tremaining: 69.2ms\n",
      "4:\tlearn: 61.5189461\ttest: 79.1498936\tbest: 79.1498936 (4)\ttotal: 20.9ms\tremaining: 62.8ms\n",
      "5:\tlearn: 60.0368804\ttest: 77.6527687\tbest: 77.6527687 (5)\ttotal: 24.5ms\tremaining: 57.1ms\n",
      "6:\tlearn: 58.5973754\ttest: 76.1667668\tbest: 76.1667668 (6)\ttotal: 28.4ms\tremaining: 52.8ms\n",
      "7:\tlearn: 57.2115126\ttest: 74.6281139\tbest: 74.6281139 (7)\ttotal: 32.6ms\tremaining: 48.9ms\n",
      "8:\tlearn: 55.8497156\ttest: 73.1702428\tbest: 73.1702428 (8)\ttotal: 39.1ms\tremaining: 47.8ms\n",
      "9:\tlearn: 54.5831485\ttest: 71.8381201\tbest: 71.8381201 (9)\ttotal: 42.8ms\tremaining: 42.8ms\n",
      "10:\tlearn: 53.4078596\ttest: 70.6076265\tbest: 70.6076265 (10)\ttotal: 46.1ms\tremaining: 37.7ms\n",
      "11:\tlearn: 52.1762729\ttest: 69.2641938\tbest: 69.2641938 (11)\ttotal: 50.7ms\tremaining: 33.8ms\n",
      "12:\tlearn: 51.0311097\ttest: 67.9914333\tbest: 67.9914333 (12)\ttotal: 54.4ms\tremaining: 29.3ms\n",
      "13:\tlearn: 49.8705890\ttest: 66.7445400\tbest: 66.7445400 (13)\ttotal: 58ms\tremaining: 24.8ms\n",
      "14:\tlearn: 48.7589445\ttest: 65.5050550\tbest: 65.5050550 (14)\ttotal: 62.5ms\tremaining: 20.8ms\n",
      "15:\tlearn: 47.7076489\ttest: 64.3201646\tbest: 64.3201646 (15)\ttotal: 68.6ms\tremaining: 17.2ms\n",
      "16:\tlearn: 46.7059847\ttest: 63.2056831\tbest: 63.2056831 (16)\ttotal: 72.5ms\tremaining: 12.8ms\n",
      "17:\tlearn: 45.7206234\ttest: 62.0809897\tbest: 62.0809897 (17)\ttotal: 76ms\tremaining: 8.44ms\n",
      "18:\tlearn: 44.7667996\ttest: 60.9844574\tbest: 60.9844574 (18)\ttotal: 80.2ms\tremaining: 4.22ms\n",
      "19:\tlearn: 43.8709381\ttest: 59.9444058\tbest: 59.9444058 (19)\ttotal: 84.2ms\tremaining: 0us\n",
      "\n",
      "bestTest = 59.94440582\n",
      "bestIteration = 19\n",
      "\n",
      "Training on fold [5/10]\n",
      "0:\tlearn: 70.9521651\ttest: 84.0663809\tbest: 84.0663809 (0)\ttotal: 8.89ms\tremaining: 169ms\n",
      "1:\tlearn: 69.1898781\ttest: 82.0656584\tbest: 82.0656584 (1)\ttotal: 12.4ms\tremaining: 112ms\n",
      "2:\tlearn: 67.5378819\ttest: 80.2156140\tbest: 80.2156140 (2)\ttotal: 17.5ms\tremaining: 99.2ms\n",
      "3:\tlearn: 65.8642472\ttest: 78.3266089\tbest: 78.3266089 (3)\ttotal: 21.6ms\tremaining: 86.3ms\n",
      "4:\tlearn: 64.3154105\ttest: 76.6375769\tbest: 76.6375769 (4)\ttotal: 26.6ms\tremaining: 79.7ms\n",
      "5:\tlearn: 62.7454345\ttest: 74.8813907\tbest: 74.8813907 (5)\ttotal: 31.3ms\tremaining: 73ms\n",
      "6:\tlearn: 61.2257467\ttest: 73.1248111\tbest: 73.1248111 (6)\ttotal: 38.1ms\tremaining: 70.8ms\n",
      "7:\tlearn: 59.7579259\ttest: 71.4825062\tbest: 71.4825062 (7)\ttotal: 43.8ms\tremaining: 65.7ms\n",
      "8:\tlearn: 58.3788347\ttest: 69.8781034\tbest: 69.8781034 (8)\ttotal: 50.6ms\tremaining: 61.8ms\n",
      "9:\tlearn: 57.0004792\ttest: 68.3903046\tbest: 68.3903046 (9)\ttotal: 54.9ms\tremaining: 54.9ms\n",
      "10:\tlearn: 55.6926479\ttest: 66.8696702\tbest: 66.8696702 (10)\ttotal: 62ms\tremaining: 50.8ms\n",
      "11:\tlearn: 54.4049723\ttest: 65.4326210\tbest: 65.4326210 (11)\ttotal: 69.6ms\tremaining: 46.4ms\n",
      "12:\tlearn: 53.1969054\ttest: 64.0351520\tbest: 64.0351520 (12)\ttotal: 73.9ms\tremaining: 39.8ms\n",
      "13:\tlearn: 51.9623807\ttest: 62.6561486\tbest: 62.6561486 (13)\ttotal: 77.9ms\tremaining: 33.4ms\n",
      "14:\tlearn: 50.7882085\ttest: 61.3295623\tbest: 61.3295623 (14)\ttotal: 81.5ms\tremaining: 27.2ms\n",
      "15:\tlearn: 49.6976478\ttest: 60.0625844\tbest: 60.0625844 (15)\ttotal: 85.7ms\tremaining: 21.4ms\n",
      "16:\tlearn: 48.6306839\ttest: 58.7620404\tbest: 58.7620404 (16)\ttotal: 90.1ms\tremaining: 15.9ms\n",
      "17:\tlearn: 47.6235930\ttest: 57.6336282\tbest: 57.6336282 (17)\ttotal: 93.7ms\tremaining: 10.4ms\n",
      "18:\tlearn: 46.6122289\ttest: 56.5996797\tbest: 56.5996797 (18)\ttotal: 97.6ms\tremaining: 5.13ms\n",
      "19:\tlearn: 45.6632881\ttest: 55.4395790\tbest: 55.4395790 (19)\ttotal: 103ms\tremaining: 0us\n",
      "\n",
      "bestTest = 55.43957902\n",
      "bestIteration = 19\n",
      "\n",
      "Training on fold [6/10]\n",
      "0:\tlearn: 72.9232762\ttest: 89.9687470\tbest: 89.9687470 (0)\ttotal: 5.28ms\tremaining: 100ms\n",
      "1:\tlearn: 71.0947956\ttest: 87.7985323\tbest: 87.7985323 (1)\ttotal: 8.58ms\tremaining: 77.3ms\n",
      "2:\tlearn: 69.3787665\ttest: 85.8406617\tbest: 85.8406617 (2)\ttotal: 11.8ms\tremaining: 67ms\n",
      "3:\tlearn: 67.6483794\ttest: 83.6739916\tbest: 83.6739916 (3)\ttotal: 15.3ms\tremaining: 61.3ms\n",
      "4:\tlearn: 66.0404333\ttest: 81.8396058\tbest: 81.8396058 (4)\ttotal: 19.6ms\tremaining: 58.8ms\n",
      "5:\tlearn: 64.4238539\ttest: 79.9460538\tbest: 79.9460538 (5)\ttotal: 23.1ms\tremaining: 53.9ms\n",
      "6:\tlearn: 62.8493903\ttest: 78.0750901\tbest: 78.0750901 (6)\ttotal: 26.3ms\tremaining: 48.8ms\n",
      "7:\tlearn: 61.3283608\ttest: 76.3392567\tbest: 76.3392567 (7)\ttotal: 30ms\tremaining: 45ms\n",
      "8:\tlearn: 59.8554174\ttest: 74.7164567\tbest: 74.7164567 (8)\ttotal: 34.3ms\tremaining: 41.9ms\n",
      "9:\tlearn: 58.4323802\ttest: 72.9760835\tbest: 72.9760835 (9)\ttotal: 38.4ms\tremaining: 38.4ms\n",
      "10:\tlearn: 57.1137061\ttest: 71.4846709\tbest: 71.4846709 (10)\ttotal: 41.9ms\tremaining: 34.3ms\n",
      "11:\tlearn: 55.7817598\ttest: 69.9585305\tbest: 69.9585305 (11)\ttotal: 45.9ms\tremaining: 30.6ms\n",
      "12:\tlearn: 54.5210804\ttest: 68.4413521\tbest: 68.4413521 (12)\ttotal: 49.6ms\tremaining: 26.7ms\n",
      "13:\tlearn: 53.2490561\ttest: 66.9060310\tbest: 66.9060310 (13)\ttotal: 54ms\tremaining: 23.1ms\n",
      "14:\tlearn: 52.0368041\ttest: 65.4906669\tbest: 65.4906669 (14)\ttotal: 58ms\tremaining: 19.3ms\n",
      "15:\tlearn: 50.8962600\ttest: 64.1205637\tbest: 64.1205637 (15)\ttotal: 61.1ms\tremaining: 15.3ms\n",
      "16:\tlearn: 49.7865323\ttest: 62.7225376\tbest: 62.7225376 (16)\ttotal: 65ms\tremaining: 11.5ms\n",
      "17:\tlearn: 48.7288593\ttest: 61.4327939\tbest: 61.4327939 (17)\ttotal: 68.2ms\tremaining: 7.58ms\n",
      "18:\tlearn: 47.6566954\ttest: 60.0873291\tbest: 60.0873291 (18)\ttotal: 71.5ms\tremaining: 3.76ms\n"
     ]
    },
    {
     "name": "stdout",
     "output_type": "stream",
     "text": [
      "19:\tlearn: 46.6710151\ttest: 58.8303342\tbest: 58.8303342 (19)\ttotal: 76.2ms\tremaining: 0us\n",
      "\n",
      "bestTest = 58.83033418\n",
      "bestIteration = 19\n",
      "\n",
      "Training on fold [7/10]\n",
      "0:\tlearn: 75.2160975\ttest: 97.5053225\tbest: 97.5053225 (0)\ttotal: 5.7ms\tremaining: 108ms\n",
      "1:\tlearn: 73.3080168\ttest: 95.2157636\tbest: 95.2157636 (1)\ttotal: 9.19ms\tremaining: 82.8ms\n",
      "2:\tlearn: 71.5156236\ttest: 93.1295053\tbest: 93.1295053 (2)\ttotal: 12.9ms\tremaining: 73.2ms\n",
      "3:\tlearn: 69.7058338\ttest: 90.8408918\tbest: 90.8408918 (3)\ttotal: 16.5ms\tremaining: 65.9ms\n",
      "4:\tlearn: 67.9973259\ttest: 88.8010994\tbest: 88.8010994 (4)\ttotal: 20.9ms\tremaining: 62.6ms\n",
      "5:\tlearn: 66.3070306\ttest: 86.8742040\tbest: 86.8742040 (5)\ttotal: 25ms\tremaining: 58.3ms\n",
      "6:\tlearn: 64.6696806\ttest: 84.9320260\tbest: 84.9320260 (6)\ttotal: 29.3ms\tremaining: 54.5ms\n",
      "7:\tlearn: 63.0880245\ttest: 83.0433921\tbest: 83.0433921 (7)\ttotal: 32.9ms\tremaining: 49.3ms\n",
      "8:\tlearn: 61.5431129\ttest: 81.2151494\tbest: 81.2151494 (8)\ttotal: 36.7ms\tremaining: 44.9ms\n",
      "9:\tlearn: 60.0592719\ttest: 79.5390770\tbest: 79.5390770 (9)\ttotal: 40.6ms\tremaining: 40.6ms\n",
      "10:\tlearn: 58.6447628\ttest: 77.7846769\tbest: 77.7846769 (10)\ttotal: 44.1ms\tremaining: 36.1ms\n",
      "11:\tlearn: 57.2602381\ttest: 76.2390322\tbest: 76.2390322 (11)\ttotal: 47.9ms\tremaining: 32ms\n",
      "12:\tlearn: 55.9432412\ttest: 74.6093593\tbest: 74.6093593 (12)\ttotal: 52.4ms\tremaining: 28.2ms\n",
      "13:\tlearn: 54.6223965\ttest: 73.0189324\tbest: 73.0189324 (13)\ttotal: 56.1ms\tremaining: 24ms\n",
      "14:\tlearn: 53.3664077\ttest: 71.5436275\tbest: 71.5436275 (14)\ttotal: 61ms\tremaining: 20.3ms\n",
      "15:\tlearn: 52.1618986\ttest: 70.0444961\tbest: 70.0444961 (15)\ttotal: 65.3ms\tremaining: 16.3ms\n",
      "16:\tlearn: 51.0069511\ttest: 68.5626978\tbest: 68.5626978 (16)\ttotal: 70.3ms\tremaining: 12.4ms\n",
      "17:\tlearn: 49.9105958\ttest: 67.2518234\tbest: 67.2518234 (17)\ttotal: 73.8ms\tremaining: 8.2ms\n",
      "18:\tlearn: 48.8488691\ttest: 66.0071203\tbest: 66.0071203 (18)\ttotal: 77.9ms\tremaining: 4.1ms\n",
      "19:\tlearn: 47.8171709\ttest: 64.6613605\tbest: 64.6613605 (19)\ttotal: 82.1ms\tremaining: 0us\n",
      "\n",
      "bestTest = 64.66136048\n",
      "bestIteration = 19\n",
      "\n",
      "Training on fold [8/10]\n",
      "0:\tlearn: 77.9485166\ttest: 108.4889190\tbest: 108.4889190 (0)\ttotal: 6.13ms\tremaining: 116ms\n",
      "1:\tlearn: 75.9088901\ttest: 106.1016534\tbest: 106.1016534 (1)\ttotal: 10.7ms\tremaining: 96ms\n",
      "2:\tlearn: 74.0319597\ttest: 103.9121620\tbest: 103.9121620 (2)\ttotal: 14.2ms\tremaining: 80.4ms\n",
      "3:\tlearn: 72.1381476\ttest: 101.5238288\tbest: 101.5238288 (3)\ttotal: 18.5ms\tremaining: 74ms\n",
      "4:\tlearn: 70.3871070\ttest: 99.4543351\tbest: 99.4543351 (4)\ttotal: 26.7ms\tremaining: 80.2ms\n",
      "5:\tlearn: 68.6275257\ttest: 97.4288607\tbest: 97.4288607 (5)\ttotal: 30.6ms\tremaining: 71.4ms\n",
      "6:\tlearn: 66.9185998\ttest: 95.4211904\tbest: 95.4211904 (6)\ttotal: 34.7ms\tremaining: 64.4ms\n",
      "7:\tlearn: 65.2561975\ttest: 93.4385525\tbest: 93.4385525 (7)\ttotal: 40.8ms\tremaining: 61.3ms\n",
      "8:\tlearn: 63.6426526\ttest: 91.5285837\tbest: 91.5285837 (8)\ttotal: 45.4ms\tremaining: 55.4ms\n",
      "9:\tlearn: 62.0614844\ttest: 89.5928183\tbest: 89.5928183 (9)\ttotal: 49.7ms\tremaining: 49.7ms\n",
      "10:\tlearn: 60.5812320\ttest: 87.7203913\tbest: 87.7203913 (10)\ttotal: 55.9ms\tremaining: 45.7ms\n",
      "11:\tlearn: 59.1377242\ttest: 86.1312768\tbest: 86.1312768 (11)\ttotal: 60.2ms\tremaining: 40.1ms\n",
      "12:\tlearn: 57.7422393\ttest: 84.3616480\tbest: 84.3616480 (12)\ttotal: 65.3ms\tremaining: 35.2ms\n",
      "13:\tlearn: 56.3714326\ttest: 82.6932920\tbest: 82.6932920 (13)\ttotal: 69.8ms\tremaining: 29.9ms\n",
      "14:\tlearn: 55.0692924\ttest: 81.1723927\tbest: 81.1723927 (14)\ttotal: 74.2ms\tremaining: 24.7ms\n",
      "15:\tlearn: 53.8140974\ttest: 79.6269672\tbest: 79.6269672 (15)\ttotal: 77.7ms\tremaining: 19.4ms\n",
      "16:\tlearn: 52.6058357\ttest: 78.0997967\tbest: 78.0997967 (16)\ttotal: 81.5ms\tremaining: 14.4ms\n",
      "17:\tlearn: 51.4710630\ttest: 76.6752827\tbest: 76.6752827 (17)\ttotal: 87ms\tremaining: 9.67ms\n",
      "18:\tlearn: 50.3527287\ttest: 75.2051817\tbest: 75.2051817 (18)\ttotal: 90.5ms\tremaining: 4.76ms\n",
      "19:\tlearn: 49.2767580\ttest: 73.7075776\tbest: 73.7075776 (19)\ttotal: 93.9ms\tremaining: 0us\n",
      "\n",
      "bestTest = 73.70757756\n",
      "bestIteration = 19\n",
      "\n",
      "Training on fold [9/10]\n",
      "0:\tlearn: 81.4427582\ttest: 117.3466136\tbest: 117.3466136 (0)\ttotal: 3.69ms\tremaining: 70.2ms\n",
      "1:\tlearn: 79.3482584\ttest: 114.8400438\tbest: 114.8400438 (1)\ttotal: 7.13ms\tremaining: 64.2ms\n",
      "2:\tlearn: 77.3736818\ttest: 112.6441926\tbest: 112.6441926 (2)\ttotal: 11.7ms\tremaining: 66.5ms\n",
      "3:\tlearn: 75.3866025\ttest: 110.1443260\tbest: 110.1443260 (3)\ttotal: 15.4ms\tremaining: 61.5ms\n",
      "4:\tlearn: 73.5384170\ttest: 107.9957455\tbest: 107.9957455 (4)\ttotal: 18.7ms\tremaining: 56.2ms\n",
      "5:\tlearn: 71.6994191\ttest: 105.7677265\tbest: 105.7677265 (5)\ttotal: 22.9ms\tremaining: 53.4ms\n",
      "6:\tlearn: 69.9124236\ttest: 103.7866969\tbest: 103.7866969 (6)\ttotal: 27.9ms\tremaining: 51.7ms\n",
      "7:\tlearn: 68.1911011\ttest: 101.6945449\tbest: 101.6945449 (7)\ttotal: 31.3ms\tremaining: 46.9ms\n",
      "8:\tlearn: 66.5015002\ttest: 99.7297697\tbest: 99.7297697 (8)\ttotal: 34.6ms\tremaining: 42.3ms\n",
      "9:\tlearn: 64.8487854\ttest: 97.7316822\tbest: 97.7316822 (9)\ttotal: 38.9ms\tremaining: 38.9ms\n",
      "10:\tlearn: 63.3582632\ttest: 95.9116927\tbest: 95.9116927 (10)\ttotal: 43.7ms\tremaining: 35.7ms\n",
      "11:\tlearn: 61.8481107\ttest: 94.1328000\tbest: 94.1328000 (11)\ttotal: 47.5ms\tremaining: 31.7ms\n",
      "12:\tlearn: 60.4005815\ttest: 92.3508359\tbest: 92.3508359 (12)\ttotal: 51.5ms\tremaining: 27.7ms\n",
      "13:\tlearn: 58.9392223\ttest: 90.5273178\tbest: 90.5273178 (13)\ttotal: 55.5ms\tremaining: 23.8ms\n",
      "14:\tlearn: 57.5801136\ttest: 88.9952456\tbest: 88.9952456 (14)\ttotal: 60.2ms\tremaining: 20.1ms\n",
      "15:\tlearn: 56.2652563\ttest: 87.3744085\tbest: 87.3744085 (15)\ttotal: 64.3ms\tremaining: 16.1ms\n",
      "16:\tlearn: 54.9938734\ttest: 85.7029454\tbest: 85.7029454 (16)\ttotal: 68ms\tremaining: 12ms\n",
      "17:\tlearn: 53.7278979\ttest: 84.0108426\tbest: 84.0108426 (17)\ttotal: 73.8ms\tremaining: 8.2ms\n",
      "18:\tlearn: 52.5128498\ttest: 82.6601465\tbest: 82.6601465 (18)\ttotal: 77.4ms\tremaining: 4.08ms\n",
      "19:\tlearn: 51.3757998\ttest: 81.0837210\tbest: 81.0837210 (19)\ttotal: 80.9ms\tremaining: 0us\n",
      "\n",
      "bestTest = 81.08372095\n",
      "bestIteration = 19\n",
      "\n",
      "Training on fold [0/10]\n",
      "0:\tlearn: 61.6360782\ttest: 64.1708599\tbest: 64.1708599 (0)\ttotal: 5.13ms\tremaining: 221ms\n",
      "1:\tlearn: 60.3344549\ttest: 62.8850648\tbest: 62.8850648 (1)\ttotal: 9.03ms\tremaining: 190ms\n",
      "2:\tlearn: 58.8971747\ttest: 61.4943195\tbest: 61.4943195 (2)\ttotal: 13.1ms\tremaining: 179ms\n",
      "3:\tlearn: 57.5597797\ttest: 60.1858310\tbest: 60.1858310 (3)\ttotal: 20.4ms\tremaining: 204ms\n",
      "4:\tlearn: 56.2890602\ttest: 58.9551073\tbest: 58.9551073 (4)\ttotal: 23.7ms\tremaining: 185ms\n",
      "5:\tlearn: 55.1007497\ttest: 57.8568895\tbest: 57.8568895 (5)\ttotal: 30.3ms\tremaining: 192ms\n",
      "6:\tlearn: 53.8705023\ttest: 56.6605456\tbest: 56.6605456 (6)\ttotal: 34.7ms\tremaining: 183ms\n",
      "7:\tlearn: 52.8642888\ttest: 55.7408887\tbest: 55.7408887 (7)\ttotal: 41ms\tremaining: 185ms\n",
      "8:\tlearn: 51.6965242\ttest: 54.5747433\tbest: 54.5747433 (8)\ttotal: 45ms\tremaining: 175ms\n",
      "9:\tlearn: 50.5179025\ttest: 53.4376364\tbest: 53.4376364 (9)\ttotal: 48.7ms\tremaining: 165ms\n",
      "10:\tlearn: 49.4776414\ttest: 52.4244022\tbest: 52.4244022 (10)\ttotal: 53.4ms\tremaining: 160ms\n",
      "11:\tlearn: 48.4658300\ttest: 51.4757484\tbest: 51.4757484 (11)\ttotal: 57.9ms\tremaining: 155ms\n",
      "12:\tlearn: 47.4567992\ttest: 50.4977624\tbest: 50.4977624 (12)\ttotal: 62ms\tremaining: 148ms\n",
      "13:\tlearn: 46.5717183\ttest: 49.6553113\tbest: 49.6553113 (13)\ttotal: 65.7ms\tremaining: 141ms\n",
      "14:\tlearn: 45.6695185\ttest: 48.7424720\tbest: 48.7424720 (14)\ttotal: 69.9ms\tremaining: 135ms\n",
      "15:\tlearn: 44.7022922\ttest: 47.7873748\tbest: 47.7873748 (15)\ttotal: 76.3ms\tremaining: 134ms\n",
      "16:\tlearn: 43.8403153\ttest: 46.9625221\tbest: 46.9625221 (16)\ttotal: 80.4ms\tremaining: 128ms\n",
      "17:\tlearn: 43.0221709\ttest: 46.1580136\tbest: 46.1580136 (17)\ttotal: 86.3ms\tremaining: 125ms\n",
      "18:\tlearn: 42.1435368\ttest: 45.3086442\tbest: 45.3086442 (18)\ttotal: 91.9ms\tremaining: 121ms\n",
      "19:\tlearn: 41.3044030\ttest: 44.4842732\tbest: 44.4842732 (19)\ttotal: 95.7ms\tremaining: 115ms\n",
      "20:\tlearn: 40.5168511\ttest: 43.7367704\tbest: 43.7367704 (20)\ttotal: 101ms\tremaining: 111ms\n",
      "21:\tlearn: 39.7962101\ttest: 43.0701747\tbest: 43.0701747 (21)\ttotal: 105ms\tremaining: 105ms\n",
      "22:\tlearn: 39.0785864\ttest: 42.4184740\tbest: 42.4184740 (22)\ttotal: 109ms\tremaining: 99.9ms\n",
      "23:\tlearn: 38.2966343\ttest: 41.6449103\tbest: 41.6449103 (23)\ttotal: 116ms\tremaining: 97ms\n",
      "24:\tlearn: 37.5223990\ttest: 40.8652709\tbest: 40.8652709 (24)\ttotal: 121ms\tremaining: 91.9ms\n",
      "25:\tlearn: 36.7893097\ttest: 40.1284059\tbest: 40.1284059 (25)\ttotal: 125ms\tremaining: 86.6ms\n",
      "26:\tlearn: 36.1249213\ttest: 39.4969618\tbest: 39.4969618 (26)\ttotal: 130ms\tremaining: 81.6ms\n",
      "27:\tlearn: 35.4012503\ttest: 38.7769502\tbest: 38.7769502 (27)\ttotal: 134ms\tremaining: 76.4ms\n",
      "28:\tlearn: 34.8093679\ttest: 38.2570210\tbest: 38.2570210 (28)\ttotal: 137ms\tremaining: 71ms\n",
      "29:\tlearn: 34.2829296\ttest: 37.7545591\tbest: 37.7545591 (29)\ttotal: 141ms\tremaining: 66ms\n",
      "30:\tlearn: 33.7396426\ttest: 37.2390006\tbest: 37.2390006 (30)\ttotal: 149ms\tremaining: 62.3ms\n"
     ]
    },
    {
     "name": "stdout",
     "output_type": "stream",
     "text": [
      "31:\tlearn: 33.1347435\ttest: 36.6220286\tbest: 36.6220286 (31)\ttotal: 153ms\tremaining: 57.3ms\n",
      "32:\tlearn: 32.5804731\ttest: 36.1125550\tbest: 36.1125550 (32)\ttotal: 158ms\tremaining: 52.6ms\n",
      "33:\tlearn: 31.9876571\ttest: 35.5617921\tbest: 35.5617921 (33)\ttotal: 164ms\tremaining: 48.2ms\n",
      "34:\tlearn: 31.4647128\ttest: 35.0754340\tbest: 35.0754340 (34)\ttotal: 168ms\tremaining: 43.2ms\n",
      "35:\tlearn: 30.9939664\ttest: 34.6374554\tbest: 34.6374554 (35)\ttotal: 173ms\tremaining: 38.5ms\n",
      "36:\tlearn: 30.4977223\ttest: 34.1681901\tbest: 34.1681901 (36)\ttotal: 179ms\tremaining: 33.8ms\n",
      "37:\tlearn: 30.0471620\ttest: 33.7306125\tbest: 33.7306125 (37)\ttotal: 184ms\tremaining: 29ms\n",
      "38:\tlearn: 29.5617278\ttest: 33.2204509\tbest: 33.2204509 (38)\ttotal: 188ms\tremaining: 24.2ms\n",
      "39:\tlearn: 29.0873384\ttest: 32.7619566\tbest: 32.7619566 (39)\ttotal: 195ms\tremaining: 19.5ms\n",
      "40:\tlearn: 28.6636350\ttest: 32.3373482\tbest: 32.3373482 (40)\ttotal: 200ms\tremaining: 14.6ms\n",
      "41:\tlearn: 28.2257459\ttest: 31.9239892\tbest: 31.9239892 (41)\ttotal: 206ms\tremaining: 9.82ms\n",
      "42:\tlearn: 27.8172735\ttest: 31.5219846\tbest: 31.5219846 (42)\ttotal: 212ms\tremaining: 4.93ms\n",
      "43:\tlearn: 27.3892902\ttest: 31.1110876\tbest: 31.1110876 (43)\ttotal: 218ms\tremaining: 0us\n",
      "\n",
      "bestTest = 31.11108763\n",
      "bestIteration = 43\n",
      "\n",
      "Training on fold [1/10]\n",
      "0:\tlearn: 62.6808610\ttest: 64.4158308\tbest: 64.4158308 (0)\ttotal: 10.4ms\tremaining: 446ms\n",
      "1:\tlearn: 61.1962653\ttest: 62.9800242\tbest: 62.9800242 (1)\ttotal: 16.1ms\tremaining: 339ms\n",
      "2:\tlearn: 59.7672652\ttest: 61.5933264\tbest: 61.5933264 (2)\ttotal: 21ms\tremaining: 287ms\n",
      "3:\tlearn: 58.4261082\ttest: 60.2703120\tbest: 60.2703120 (3)\ttotal: 26.2ms\tremaining: 262ms\n",
      "4:\tlearn: 57.0533984\ttest: 58.8985744\tbest: 58.8985744 (4)\ttotal: 32.3ms\tremaining: 252ms\n",
      "5:\tlearn: 55.7267733\ttest: 57.5987704\tbest: 57.5987704 (5)\ttotal: 37.9ms\tremaining: 240ms\n",
      "6:\tlearn: 54.5351473\ttest: 56.4474792\tbest: 56.4474792 (6)\ttotal: 44.5ms\tremaining: 235ms\n",
      "7:\tlearn: 53.2622977\ttest: 55.1755931\tbest: 55.1755931 (7)\ttotal: 49.8ms\tremaining: 224ms\n",
      "8:\tlearn: 52.0204430\ttest: 53.9431681\tbest: 53.9431681 (8)\ttotal: 55.7ms\tremaining: 217ms\n",
      "9:\tlearn: 50.8800574\ttest: 52.8756366\tbest: 52.8756366 (9)\ttotal: 63.5ms\tremaining: 216ms\n",
      "10:\tlearn: 49.7172891\ttest: 51.7395659\tbest: 51.7395659 (10)\ttotal: 70.3ms\tremaining: 211ms\n",
      "11:\tlearn: 48.6441689\ttest: 50.7038569\tbest: 50.7038569 (11)\ttotal: 78.8ms\tremaining: 210ms\n",
      "12:\tlearn: 47.6241591\ttest: 49.6844119\tbest: 49.6844119 (12)\ttotal: 85.1ms\tremaining: 203ms\n",
      "13:\tlearn: 46.6466343\ttest: 49.1843242\tbest: 49.1843242 (13)\ttotal: 91.6ms\tremaining: 196ms\n",
      "14:\tlearn: 45.5998694\ttest: 48.1654808\tbest: 48.1654808 (14)\ttotal: 97.3ms\tremaining: 188ms\n",
      "15:\tlearn: 44.5672154\ttest: 47.4766702\tbest: 47.4766702 (15)\ttotal: 103ms\tremaining: 181ms\n",
      "16:\tlearn: 43.6086563\ttest: 46.5776211\tbest: 46.5776211 (16)\ttotal: 107ms\tremaining: 170ms\n",
      "17:\tlearn: 42.6935957\ttest: 45.6762722\tbest: 45.6762722 (17)\ttotal: 112ms\tremaining: 161ms\n",
      "18:\tlearn: 41.8419885\ttest: 44.8908225\tbest: 44.8908225 (18)\ttotal: 116ms\tremaining: 153ms\n",
      "19:\tlearn: 41.0657350\ttest: 44.4703362\tbest: 44.4703362 (19)\ttotal: 121ms\tremaining: 145ms\n",
      "20:\tlearn: 40.2134200\ttest: 43.6491693\tbest: 43.6491693 (20)\ttotal: 126ms\tremaining: 138ms\n",
      "21:\tlearn: 39.4640613\ttest: 42.9271379\tbest: 42.9271379 (21)\ttotal: 131ms\tremaining: 131ms\n",
      "22:\tlearn: 38.6788207\ttest: 42.1860859\tbest: 42.1860859 (22)\ttotal: 136ms\tremaining: 125ms\n",
      "23:\tlearn: 37.9215405\ttest: 41.4315800\tbest: 41.4315800 (23)\ttotal: 141ms\tremaining: 117ms\n",
      "24:\tlearn: 37.1767907\ttest: 40.7163845\tbest: 40.7163845 (24)\ttotal: 145ms\tremaining: 110ms\n",
      "25:\tlearn: 36.4794711\ttest: 40.0859806\tbest: 40.0859806 (25)\ttotal: 149ms\tremaining: 103ms\n",
      "26:\tlearn: 35.8178198\ttest: 39.4264918\tbest: 39.4264918 (26)\ttotal: 153ms\tremaining: 96.5ms\n",
      "27:\tlearn: 35.1317046\ttest: 38.7828291\tbest: 38.7828291 (27)\ttotal: 157ms\tremaining: 89.7ms\n",
      "28:\tlearn: 34.5642865\ttest: 38.2588066\tbest: 38.2588066 (28)\ttotal: 162ms\tremaining: 83.7ms\n",
      "29:\tlearn: 33.9051700\ttest: 37.5970208\tbest: 37.5970208 (29)\ttotal: 166ms\tremaining: 77.6ms\n",
      "30:\tlearn: 33.2637823\ttest: 37.1568482\tbest: 37.1568482 (30)\ttotal: 170ms\tremaining: 71.4ms\n",
      "31:\tlearn: 32.6911079\ttest: 36.5724323\tbest: 36.5724323 (31)\ttotal: 174ms\tremaining: 65.4ms\n",
      "32:\tlearn: 32.1008120\ttest: 35.9764190\tbest: 35.9764190 (32)\ttotal: 179ms\tremaining: 59.6ms\n",
      "33:\tlearn: 31.5171652\ttest: 35.4368005\tbest: 35.4368005 (33)\ttotal: 183ms\tremaining: 53.8ms\n",
      "34:\tlearn: 31.0142394\ttest: 34.9442761\tbest: 34.9442761 (34)\ttotal: 187ms\tremaining: 48ms\n",
      "35:\tlearn: 30.4997152\ttest: 34.4666715\tbest: 34.4666715 (35)\ttotal: 191ms\tremaining: 42.4ms\n",
      "36:\tlearn: 29.9813099\ttest: 33.9658041\tbest: 33.9658041 (36)\ttotal: 195ms\tremaining: 36.9ms\n",
      "37:\tlearn: 29.5305901\ttest: 33.5329880\tbest: 33.5329880 (37)\ttotal: 199ms\tremaining: 31.4ms\n",
      "38:\tlearn: 29.0706266\ttest: 33.1167006\tbest: 33.1167006 (38)\ttotal: 203ms\tremaining: 26ms\n",
      "39:\tlearn: 28.6106887\ttest: 32.6457669\tbest: 32.6457669 (39)\ttotal: 207ms\tremaining: 20.7ms\n",
      "40:\tlearn: 28.1829123\ttest: 32.2504487\tbest: 32.2504487 (40)\ttotal: 211ms\tremaining: 15.5ms\n",
      "41:\tlearn: 27.7738392\ttest: 31.8541928\tbest: 31.8541928 (41)\ttotal: 215ms\tremaining: 10.2ms\n",
      "42:\tlearn: 27.3479783\ttest: 31.4630851\tbest: 31.4630851 (42)\ttotal: 219ms\tremaining: 5.09ms\n",
      "43:\tlearn: 26.9553477\ttest: 31.0774392\tbest: 31.0774392 (43)\ttotal: 223ms\tremaining: 0us\n",
      "\n",
      "bestTest = 31.07743916\n",
      "bestIteration = 43\n",
      "\n",
      "Training on fold [2/10]\n",
      "0:\tlearn: 63.2290052\ttest: 74.5015100\tbest: 74.5015100 (0)\ttotal: 4.9ms\tremaining: 211ms\n",
      "1:\tlearn: 61.7430119\ttest: 72.9476195\tbest: 72.9476195 (1)\ttotal: 10ms\tremaining: 210ms\n",
      "2:\tlearn: 60.2759034\ttest: 71.4917057\tbest: 71.4917057 (2)\ttotal: 16.8ms\tremaining: 230ms\n",
      "3:\tlearn: 58.9127980\ttest: 70.1598894\tbest: 70.1598894 (3)\ttotal: 21.8ms\tremaining: 218ms\n",
      "4:\tlearn: 57.4854847\ttest: 68.6691494\tbest: 68.6691494 (4)\ttotal: 26.1ms\tremaining: 203ms\n",
      "5:\tlearn: 56.1355237\ttest: 67.2985239\tbest: 67.2985239 (5)\ttotal: 30.5ms\tremaining: 193ms\n",
      "6:\tlearn: 54.8762740\ttest: 66.1253049\tbest: 66.1253049 (6)\ttotal: 35.5ms\tremaining: 188ms\n",
      "7:\tlearn: 53.5409805\ttest: 64.6840907\tbest: 64.6840907 (7)\ttotal: 41.1ms\tremaining: 185ms\n",
      "8:\tlearn: 52.2904787\ttest: 63.4008908\tbest: 63.4008908 (8)\ttotal: 46ms\tremaining: 179ms\n",
      "9:\tlearn: 51.1167838\ttest: 62.1366216\tbest: 62.1366216 (9)\ttotal: 50.4ms\tremaining: 171ms\n",
      "10:\tlearn: 49.9346609\ttest: 60.8874261\tbest: 60.8874261 (10)\ttotal: 55.5ms\tremaining: 167ms\n",
      "11:\tlearn: 48.8664262\ttest: 59.7503718\tbest: 59.7503718 (11)\ttotal: 60.9ms\tremaining: 162ms\n",
      "12:\tlearn: 47.8091274\ttest: 58.5895341\tbest: 58.5895341 (12)\ttotal: 66ms\tremaining: 157ms\n",
      "13:\tlearn: 46.8283347\ttest: 57.6160543\tbest: 57.6160543 (13)\ttotal: 70.2ms\tremaining: 150ms\n",
      "14:\tlearn: 45.8618385\ttest: 56.6210496\tbest: 56.6210496 (14)\ttotal: 74.4ms\tremaining: 144ms\n",
      "15:\tlearn: 44.8355245\ttest: 55.6102580\tbest: 55.6102580 (15)\ttotal: 78.1ms\tremaining: 137ms\n",
      "16:\tlearn: 43.8710073\ttest: 54.6030182\tbest: 54.6030182 (16)\ttotal: 82.1ms\tremaining: 130ms\n",
      "17:\tlearn: 42.9346108\ttest: 53.6412666\tbest: 53.6412666 (17)\ttotal: 86.3ms\tremaining: 125ms\n",
      "18:\tlearn: 42.0943378\ttest: 52.7729798\tbest: 52.7729798 (18)\ttotal: 90.4ms\tremaining: 119ms\n",
      "19:\tlearn: 41.3220171\ttest: 52.0256963\tbest: 52.0256963 (19)\ttotal: 94.1ms\tremaining: 113ms\n",
      "20:\tlearn: 40.4702785\ttest: 51.2669222\tbest: 51.2669222 (20)\ttotal: 97.7ms\tremaining: 107ms\n",
      "21:\tlearn: 39.6608566\ttest: 50.4561655\tbest: 50.4561655 (21)\ttotal: 102ms\tremaining: 102ms\n",
      "22:\tlearn: 38.8438091\ttest: 49.6410354\tbest: 49.6410354 (22)\ttotal: 106ms\tremaining: 96.7ms\n",
      "23:\tlearn: 38.0782493\ttest: 48.8802972\tbest: 48.8802972 (23)\ttotal: 110ms\tremaining: 91.5ms\n",
      "24:\tlearn: 37.3209911\ttest: 47.9743692\tbest: 47.9743692 (24)\ttotal: 114ms\tremaining: 86.3ms\n",
      "25:\tlearn: 36.6156914\ttest: 47.1205548\tbest: 47.1205548 (25)\ttotal: 118ms\tremaining: 81.4ms\n",
      "26:\tlearn: 35.9160375\ttest: 46.4225663\tbest: 46.4225663 (26)\ttotal: 122ms\tremaining: 76.6ms\n",
      "27:\tlearn: 35.2344189\ttest: 45.6527954\tbest: 45.6527954 (27)\ttotal: 126ms\tremaining: 71.8ms\n",
      "28:\tlearn: 34.6180740\ttest: 45.1113499\tbest: 45.1113499 (28)\ttotal: 129ms\tremaining: 66.9ms\n",
      "29:\tlearn: 33.9635474\ttest: 44.3775885\tbest: 44.3775885 (29)\ttotal: 133ms\tremaining: 62.2ms\n",
      "30:\tlearn: 33.3527391\ttest: 43.6970763\tbest: 43.6970763 (30)\ttotal: 137ms\tremaining: 57.6ms\n",
      "31:\tlearn: 32.7681358\ttest: 43.1230274\tbest: 43.1230274 (31)\ttotal: 141ms\tremaining: 53ms\n",
      "32:\tlearn: 32.1859623\ttest: 42.4796578\tbest: 42.4796578 (32)\ttotal: 145ms\tremaining: 48.4ms\n",
      "33:\tlearn: 31.6203205\ttest: 41.8919108\tbest: 41.8919108 (33)\ttotal: 150ms\tremaining: 44ms\n",
      "34:\tlearn: 31.0797186\ttest: 41.3770607\tbest: 41.3770607 (34)\ttotal: 154ms\tremaining: 39.5ms\n",
      "35:\tlearn: 30.5593081\ttest: 40.8282416\tbest: 40.8282416 (35)\ttotal: 158ms\tremaining: 35ms\n",
      "36:\tlearn: 30.0607323\ttest: 40.3520212\tbest: 40.3520212 (36)\ttotal: 162ms\tremaining: 30.6ms\n",
      "37:\tlearn: 29.6091092\ttest: 39.8588611\tbest: 39.8588611 (37)\ttotal: 166ms\tremaining: 26.2ms\n",
      "38:\tlearn: 29.1614021\ttest: 39.3648874\tbest: 39.3648874 (38)\ttotal: 171ms\tremaining: 21.9ms\n",
      "39:\tlearn: 28.6952921\ttest: 38.8225149\tbest: 38.8225149 (39)\ttotal: 175ms\tremaining: 17.5ms\n"
     ]
    },
    {
     "name": "stdout",
     "output_type": "stream",
     "text": [
      "40:\tlearn: 28.2661848\ttest: 38.3349245\tbest: 38.3349245 (40)\ttotal: 181ms\tremaining: 13.2ms\n",
      "41:\tlearn: 27.8662996\ttest: 37.8804839\tbest: 37.8804839 (41)\ttotal: 185ms\tremaining: 8.8ms\n",
      "42:\tlearn: 27.4588940\ttest: 37.4381907\tbest: 37.4381907 (42)\ttotal: 189ms\tremaining: 4.39ms\n",
      "43:\tlearn: 27.1054446\ttest: 37.0495846\tbest: 37.0495846 (43)\ttotal: 194ms\tremaining: 0us\n",
      "\n",
      "bestTest = 37.0495846\n",
      "bestIteration = 43\n",
      "\n",
      "Training on fold [3/10]\n",
      "0:\tlearn: 66.1513984\ttest: 74.2246008\tbest: 74.2246008 (0)\ttotal: 5.28ms\tremaining: 227ms\n",
      "1:\tlearn: 64.6006104\ttest: 72.5666599\tbest: 72.5666599 (1)\ttotal: 8.87ms\tremaining: 186ms\n",
      "2:\tlearn: 63.0211938\ttest: 70.8793336\tbest: 70.8793336 (2)\ttotal: 13.2ms\tremaining: 180ms\n",
      "3:\tlearn: 61.5647099\ttest: 69.4119209\tbest: 69.4119209 (3)\ttotal: 17.3ms\tremaining: 173ms\n",
      "4:\tlearn: 60.0850361\ttest: 67.9379762\tbest: 67.9379762 (4)\ttotal: 23.2ms\tremaining: 181ms\n",
      "5:\tlearn: 58.7003063\ttest: 66.5287370\tbest: 66.5287370 (5)\ttotal: 28.1ms\tremaining: 178ms\n",
      "6:\tlearn: 57.2951425\ttest: 65.0392591\tbest: 65.0392591 (6)\ttotal: 32.2ms\tremaining: 170ms\n",
      "7:\tlearn: 55.9173576\ttest: 63.6597255\tbest: 63.6597255 (7)\ttotal: 36.9ms\tremaining: 166ms\n",
      "8:\tlearn: 54.5911029\ttest: 62.2925210\tbest: 62.2925210 (8)\ttotal: 41.6ms\tremaining: 162ms\n",
      "9:\tlearn: 53.4154914\ttest: 61.0948540\tbest: 61.0948540 (9)\ttotal: 46.3ms\tremaining: 157ms\n",
      "10:\tlearn: 52.2560912\ttest: 59.9228730\tbest: 59.9228730 (10)\ttotal: 51.4ms\tremaining: 154ms\n",
      "11:\tlearn: 51.0844651\ttest: 58.7218036\tbest: 58.7218036 (11)\ttotal: 56.3ms\tremaining: 150ms\n",
      "12:\tlearn: 49.9641243\ttest: 57.5382434\tbest: 57.5382434 (12)\ttotal: 61.1ms\tremaining: 146ms\n",
      "13:\tlearn: 48.8532464\ttest: 56.3571846\tbest: 56.3571846 (13)\ttotal: 65.4ms\tremaining: 140ms\n",
      "14:\tlearn: 47.8625135\ttest: 55.4577946\tbest: 55.4577946 (14)\ttotal: 69.7ms\tremaining: 135ms\n",
      "15:\tlearn: 46.8413979\ttest: 54.3589216\tbest: 54.3589216 (15)\ttotal: 74.3ms\tremaining: 130ms\n",
      "16:\tlearn: 45.8297985\ttest: 53.2765653\tbest: 53.2765653 (16)\ttotal: 79ms\tremaining: 125ms\n",
      "17:\tlearn: 44.8442502\ttest: 52.2310520\tbest: 52.2310520 (17)\ttotal: 83.5ms\tremaining: 121ms\n",
      "18:\tlearn: 43.9096313\ttest: 51.3202794\tbest: 51.3202794 (18)\ttotal: 88ms\tremaining: 116ms\n",
      "19:\tlearn: 42.9925374\ttest: 50.3203973\tbest: 50.3203973 (19)\ttotal: 92.8ms\tremaining: 111ms\n",
      "20:\tlearn: 42.0842064\ttest: 49.4260535\tbest: 49.4260535 (20)\ttotal: 97.1ms\tremaining: 106ms\n",
      "21:\tlearn: 41.2366151\ttest: 48.5018110\tbest: 48.5018110 (21)\ttotal: 101ms\tremaining: 101ms\n",
      "22:\tlearn: 40.4507270\ttest: 47.6755917\tbest: 47.6755917 (22)\ttotal: 106ms\tremaining: 96.6ms\n",
      "23:\tlearn: 39.6338276\ttest: 46.7938064\tbest: 46.7938064 (23)\ttotal: 110ms\tremaining: 91.8ms\n",
      "24:\tlearn: 38.8728844\ttest: 46.5673649\tbest: 46.5673649 (24)\ttotal: 114ms\tremaining: 86.8ms\n",
      "25:\tlearn: 38.1047928\ttest: 45.6746787\tbest: 45.6746787 (25)\ttotal: 119ms\tremaining: 82.1ms\n",
      "26:\tlearn: 37.3970816\ttest: 44.8776777\tbest: 44.8776777 (26)\ttotal: 123ms\tremaining: 77.5ms\n",
      "27:\tlearn: 36.6903932\ttest: 44.0920488\tbest: 44.0920488 (27)\ttotal: 127ms\tremaining: 72.7ms\n",
      "28:\tlearn: 36.1054068\ttest: 43.4966517\tbest: 43.4966517 (28)\ttotal: 131ms\tremaining: 67.9ms\n",
      "29:\tlearn: 35.4306841\ttest: 42.7785863\tbest: 42.7785863 (29)\ttotal: 136ms\tremaining: 63.6ms\n",
      "30:\tlearn: 34.8147840\ttest: 42.1047633\tbest: 42.1047633 (30)\ttotal: 142ms\tremaining: 59.6ms\n",
      "31:\tlearn: 34.1913651\ttest: 41.4457757\tbest: 41.4457757 (31)\ttotal: 147ms\tremaining: 55ms\n",
      "32:\tlearn: 33.5919786\ttest: 40.8159426\tbest: 40.8159426 (32)\ttotal: 152ms\tremaining: 50.7ms\n",
      "33:\tlearn: 33.0237585\ttest: 40.6194832\tbest: 40.6194832 (33)\ttotal: 156ms\tremaining: 45.9ms\n",
      "34:\tlearn: 32.4704220\ttest: 39.9885925\tbest: 39.9885925 (34)\ttotal: 160ms\tremaining: 41.2ms\n",
      "35:\tlearn: 31.9274064\ttest: 39.3891461\tbest: 39.3891461 (35)\ttotal: 165ms\tremaining: 36.6ms\n",
      "36:\tlearn: 31.4171189\ttest: 38.8681658\tbest: 38.8681658 (36)\ttotal: 170ms\tremaining: 32.2ms\n",
      "37:\tlearn: 30.9157403\ttest: 38.4227926\tbest: 38.4227926 (37)\ttotal: 175ms\tremaining: 27.6ms\n",
      "38:\tlearn: 30.4135625\ttest: 37.8851249\tbest: 37.8851249 (38)\ttotal: 179ms\tremaining: 22.9ms\n",
      "39:\tlearn: 29.9450202\ttest: 37.3842353\tbest: 37.3842353 (39)\ttotal: 183ms\tremaining: 18.3ms\n",
      "40:\tlearn: 29.4932458\ttest: 36.8823090\tbest: 36.8823090 (40)\ttotal: 187ms\tremaining: 13.7ms\n",
      "41:\tlearn: 29.0874783\ttest: 36.3853449\tbest: 36.3853449 (41)\ttotal: 191ms\tremaining: 9.1ms\n",
      "42:\tlearn: 28.6651700\ttest: 35.9062391\tbest: 35.9062391 (42)\ttotal: 196ms\tremaining: 4.55ms\n",
      "43:\tlearn: 28.3063030\ttest: 35.4943422\tbest: 35.4943422 (43)\ttotal: 200ms\tremaining: 0us\n",
      "\n",
      "bestTest = 35.49434215\n",
      "bestIteration = 43\n",
      "\n",
      "Training on fold [4/10]\n",
      "0:\tlearn: 67.8047724\ttest: 85.8878317\tbest: 85.8878317 (0)\ttotal: 16.8ms\tremaining: 723ms\n",
      "1:\tlearn: 66.1837189\ttest: 84.0742124\tbest: 84.0742124 (1)\ttotal: 21.2ms\tremaining: 446ms\n",
      "2:\tlearn: 64.5475163\ttest: 82.2427894\tbest: 82.2427894 (2)\ttotal: 25.2ms\tremaining: 345ms\n",
      "3:\tlearn: 63.0408517\ttest: 80.6873189\tbest: 80.6873189 (3)\ttotal: 29.3ms\tremaining: 293ms\n",
      "4:\tlearn: 61.5182332\ttest: 79.1475080\tbest: 79.1475080 (4)\ttotal: 33.6ms\tremaining: 262ms\n",
      "5:\tlearn: 60.0926119\ttest: 77.7136049\tbest: 77.7136049 (5)\ttotal: 38ms\tremaining: 240ms\n",
      "6:\tlearn: 58.6622076\ttest: 76.1060276\tbest: 76.1060276 (6)\ttotal: 42.4ms\tremaining: 224ms\n",
      "7:\tlearn: 57.2531688\ttest: 74.6978859\tbest: 74.6978859 (7)\ttotal: 46.7ms\tremaining: 210ms\n",
      "8:\tlearn: 55.9056457\ttest: 73.2766021\tbest: 73.2766021 (8)\ttotal: 52.2ms\tremaining: 203ms\n",
      "9:\tlearn: 54.6745640\ttest: 72.0588781\tbest: 72.0588781 (9)\ttotal: 56.6ms\tremaining: 193ms\n",
      "10:\tlearn: 53.4357757\ttest: 70.7274024\tbest: 70.7274024 (10)\ttotal: 60.9ms\tremaining: 183ms\n",
      "11:\tlearn: 52.1882250\ttest: 69.3721917\tbest: 69.3721917 (11)\ttotal: 65.8ms\tremaining: 176ms\n",
      "12:\tlearn: 51.0275549\ttest: 68.0643224\tbest: 68.0643224 (12)\ttotal: 70.8ms\tremaining: 169ms\n",
      "13:\tlearn: 49.8855890\ttest: 66.7648835\tbest: 66.7648835 (13)\ttotal: 75.2ms\tremaining: 161ms\n",
      "14:\tlearn: 48.8488731\ttest: 65.6189442\tbest: 65.6189442 (14)\ttotal: 79.5ms\tremaining: 154ms\n",
      "15:\tlearn: 47.7867648\ttest: 64.4055984\tbest: 64.4055984 (15)\ttotal: 83.8ms\tremaining: 147ms\n",
      "16:\tlearn: 46.7645101\ttest: 63.2951297\tbest: 63.2951297 (16)\ttotal: 87.9ms\tremaining: 140ms\n",
      "17:\tlearn: 45.7376103\ttest: 62.0718897\tbest: 62.0718897 (17)\ttotal: 92.6ms\tremaining: 134ms\n",
      "18:\tlearn: 44.7768220\ttest: 61.0866621\tbest: 61.0866621 (18)\ttotal: 97.3ms\tremaining: 128ms\n",
      "19:\tlearn: 43.8340510\ttest: 60.0007507\tbest: 60.0007507 (19)\ttotal: 103ms\tremaining: 123ms\n",
      "20:\tlearn: 42.9065694\ttest: 59.0615371\tbest: 59.0615371 (20)\ttotal: 108ms\tremaining: 118ms\n",
      "21:\tlearn: 42.0318098\ttest: 58.1015837\tbest: 58.1015837 (21)\ttotal: 113ms\tremaining: 113ms\n",
      "22:\tlearn: 41.2273362\ttest: 57.1869222\tbest: 57.1869222 (22)\ttotal: 119ms\tremaining: 108ms\n",
      "23:\tlearn: 40.3909854\ttest: 56.2316227\tbest: 56.2316227 (23)\ttotal: 125ms\tremaining: 105ms\n",
      "24:\tlearn: 39.6240768\ttest: 55.4253363\tbest: 55.4253363 (24)\ttotal: 131ms\tremaining: 99.3ms\n",
      "25:\tlearn: 38.8317610\ttest: 54.4416499\tbest: 54.4416499 (25)\ttotal: 136ms\tremaining: 94ms\n",
      "26:\tlearn: 38.0966732\ttest: 53.5241672\tbest: 53.5241672 (26)\ttotal: 140ms\tremaining: 88.5ms\n",
      "27:\tlearn: 37.3749643\ttest: 52.6824178\tbest: 52.6824178 (27)\ttotal: 147ms\tremaining: 84.2ms\n",
      "28:\tlearn: 36.7380930\ttest: 51.9684824\tbest: 51.9684824 (28)\ttotal: 152ms\tremaining: 78.5ms\n",
      "29:\tlearn: 36.0563764\ttest: 51.1501609\tbest: 51.1501609 (29)\ttotal: 157ms\tremaining: 73.1ms\n",
      "30:\tlearn: 35.4228773\ttest: 50.4189484\tbest: 50.4189484 (30)\ttotal: 161ms\tremaining: 67.6ms\n",
      "31:\tlearn: 34.7836325\ttest: 49.7028659\tbest: 49.7028659 (31)\ttotal: 167ms\tremaining: 62.5ms\n",
      "32:\tlearn: 34.1749880\ttest: 49.0310268\tbest: 49.0310268 (32)\ttotal: 171ms\tremaining: 57.1ms\n",
      "33:\tlearn: 33.6076486\ttest: 48.3599033\tbest: 48.3599033 (33)\ttotal: 176ms\tremaining: 51.8ms\n",
      "34:\tlearn: 33.0352653\ttest: 47.6577213\tbest: 47.6577213 (34)\ttotal: 181ms\tremaining: 46.5ms\n",
      "35:\tlearn: 32.4930328\ttest: 46.9230477\tbest: 46.9230477 (35)\ttotal: 185ms\tremaining: 41.2ms\n",
      "36:\tlearn: 31.9817430\ttest: 46.3780583\tbest: 46.3780583 (36)\ttotal: 190ms\tremaining: 36ms\n",
      "37:\tlearn: 31.4986997\ttest: 45.7805023\tbest: 45.7805023 (37)\ttotal: 195ms\tremaining: 30.8ms\n",
      "38:\tlearn: 30.9931740\ttest: 45.1916353\tbest: 45.1916353 (38)\ttotal: 201ms\tremaining: 25.7ms\n",
      "39:\tlearn: 30.5183683\ttest: 44.6024560\tbest: 44.6024560 (39)\ttotal: 205ms\tremaining: 20.5ms\n",
      "40:\tlearn: 30.0902680\ttest: 44.1200802\tbest: 44.1200802 (40)\ttotal: 210ms\tremaining: 15.4ms\n",
      "41:\tlearn: 29.6667417\ttest: 43.5615752\tbest: 43.5615752 (41)\ttotal: 215ms\tremaining: 10.2ms\n",
      "42:\tlearn: 29.2331509\ttest: 43.0573765\tbest: 43.0573765 (42)\ttotal: 220ms\tremaining: 5.11ms\n",
      "43:\tlearn: 28.8496050\ttest: 42.5300222\tbest: 42.5300222 (43)\ttotal: 225ms\tremaining: 0us\n",
      "\n",
      "bestTest = 42.53002218\n",
      "bestIteration = 43\n",
      "\n",
      "Training on fold [5/10]\n",
      "0:\tlearn: 70.9538884\ttest: 84.0396120\tbest: 84.0396120 (0)\ttotal: 5.53ms\tremaining: 238ms\n",
      "1:\tlearn: 69.2318794\ttest: 82.0676920\tbest: 82.0676920 (1)\ttotal: 10.2ms\tremaining: 214ms\n",
      "2:\tlearn: 67.4966500\ttest: 80.0871081\tbest: 80.0871081 (2)\ttotal: 15.1ms\tremaining: 206ms\n"
     ]
    },
    {
     "name": "stdout",
     "output_type": "stream",
     "text": [
      "3:\tlearn: 65.9144741\ttest: 78.4141528\tbest: 78.4141528 (3)\ttotal: 20.9ms\tremaining: 209ms\n",
      "4:\tlearn: 64.3286255\ttest: 76.6794708\tbest: 76.6794708 (4)\ttotal: 29.6ms\tremaining: 231ms\n",
      "5:\tlearn: 62.8562494\ttest: 75.1010311\tbest: 75.1010311 (5)\ttotal: 35.6ms\tremaining: 225ms\n",
      "6:\tlearn: 61.3404675\ttest: 73.3967387\tbest: 73.3967387 (6)\ttotal: 40.2ms\tremaining: 212ms\n",
      "7:\tlearn: 59.8759042\ttest: 71.8480820\tbest: 71.8480820 (7)\ttotal: 45.4ms\tremaining: 204ms\n",
      "8:\tlearn: 58.4430490\ttest: 70.1769941\tbest: 70.1769941 (8)\ttotal: 51.5ms\tremaining: 200ms\n",
      "9:\tlearn: 57.1583690\ttest: 68.8609807\tbest: 68.8609807 (9)\ttotal: 57.8ms\tremaining: 197ms\n",
      "10:\tlearn: 55.8679530\ttest: 67.3794650\tbest: 67.3794650 (10)\ttotal: 64.7ms\tremaining: 194ms\n",
      "11:\tlearn: 54.5931915\ttest: 65.9532600\tbest: 65.9532600 (11)\ttotal: 69.8ms\tremaining: 186ms\n",
      "12:\tlearn: 53.3722423\ttest: 64.5245200\tbest: 64.5245200 (12)\ttotal: 75.1ms\tremaining: 179ms\n",
      "13:\tlearn: 52.1546796\ttest: 63.0647768\tbest: 63.0647768 (13)\ttotal: 80.3ms\tremaining: 172ms\n",
      "14:\tlearn: 51.0672279\ttest: 61.9653403\tbest: 61.9653403 (14)\ttotal: 86ms\tremaining: 166ms\n",
      "15:\tlearn: 49.9386606\ttest: 60.6081308\tbest: 60.6081308 (15)\ttotal: 91.3ms\tremaining: 160ms\n",
      "16:\tlearn: 48.8526552\ttest: 59.2955845\tbest: 59.2955845 (16)\ttotal: 97ms\tremaining: 154ms\n",
      "17:\tlearn: 47.7840535\ttest: 58.0753157\tbest: 58.0753157 (17)\ttotal: 104ms\tremaining: 150ms\n",
      "18:\tlearn: 46.7653424\ttest: 56.8446978\tbest: 56.8446978 (18)\ttotal: 108ms\tremaining: 143ms\n",
      "19:\tlearn: 45.7814301\ttest: 55.6748064\tbest: 55.6748064 (19)\ttotal: 114ms\tremaining: 136ms\n",
      "20:\tlearn: 44.7999708\ttest: 54.5093161\tbest: 54.5093161 (20)\ttotal: 119ms\tremaining: 130ms\n",
      "21:\tlearn: 43.8841899\ttest: 53.4835147\tbest: 53.4835147 (21)\ttotal: 124ms\tremaining: 124ms\n",
      "22:\tlearn: 43.0180724\ttest: 52.3885521\tbest: 52.3885521 (22)\ttotal: 130ms\tremaining: 119ms\n",
      "23:\tlearn: 42.1577515\ttest: 51.3629361\tbest: 51.3629361 (23)\ttotal: 135ms\tremaining: 113ms\n",
      "24:\tlearn: 41.3514060\ttest: 50.3665305\tbest: 50.3665305 (24)\ttotal: 140ms\tremaining: 106ms\n",
      "25:\tlearn: 40.5225680\ttest: 49.3338087\tbest: 49.3338087 (25)\ttotal: 145ms\tremaining: 100ms\n",
      "26:\tlearn: 39.7452699\ttest: 48.4514993\tbest: 48.4514993 (26)\ttotal: 150ms\tremaining: 94.4ms\n",
      "27:\tlearn: 38.9892668\ttest: 47.5641410\tbest: 47.5641410 (27)\ttotal: 155ms\tremaining: 88.5ms\n",
      "28:\tlearn: 38.2718157\ttest: 46.7461843\tbest: 46.7461843 (28)\ttotal: 160ms\tremaining: 82.9ms\n",
      "29:\tlearn: 37.5624654\ttest: 45.8837646\tbest: 45.8837646 (29)\ttotal: 165ms\tremaining: 77ms\n",
      "30:\tlearn: 36.9024072\ttest: 45.1187826\tbest: 45.1187826 (30)\ttotal: 170ms\tremaining: 71.3ms\n",
      "31:\tlearn: 36.2624574\ttest: 44.3727713\tbest: 44.3727713 (31)\ttotal: 175ms\tremaining: 65.7ms\n",
      "32:\tlearn: 35.6322881\ttest: 43.6731924\tbest: 43.6731924 (32)\ttotal: 180ms\tremaining: 59.9ms\n",
      "33:\tlearn: 35.0397285\ttest: 42.9364648\tbest: 42.9364648 (33)\ttotal: 185ms\tremaining: 54.4ms\n",
      "34:\tlearn: 34.4141696\ttest: 42.1629384\tbest: 42.1629384 (34)\ttotal: 190ms\tremaining: 48.8ms\n",
      "35:\tlearn: 33.8359520\ttest: 41.5758140\tbest: 41.5758140 (35)\ttotal: 195ms\tremaining: 43.4ms\n",
      "36:\tlearn: 33.2953499\ttest: 40.9851707\tbest: 40.9851707 (36)\ttotal: 202ms\tremaining: 38.2ms\n",
      "37:\tlearn: 32.7816467\ttest: 40.4213872\tbest: 40.4213872 (37)\ttotal: 208ms\tremaining: 32.9ms\n",
      "38:\tlearn: 32.2607224\ttest: 39.7529893\tbest: 39.7529893 (38)\ttotal: 214ms\tremaining: 27.4ms\n",
      "39:\tlearn: 31.7654660\ttest: 39.1716960\tbest: 39.1716960 (39)\ttotal: 219ms\tremaining: 21.9ms\n",
      "40:\tlearn: 31.2986438\ttest: 38.5816804\tbest: 38.5816804 (40)\ttotal: 224ms\tremaining: 16.4ms\n",
      "41:\tlearn: 30.8456396\ttest: 37.9824685\tbest: 37.9824685 (41)\ttotal: 229ms\tremaining: 10.9ms\n",
      "42:\tlearn: 30.4066866\ttest: 37.4071552\tbest: 37.4071552 (42)\ttotal: 233ms\tremaining: 5.42ms\n",
      "43:\tlearn: 30.0150117\ttest: 36.8829375\tbest: 36.8829375 (43)\ttotal: 238ms\tremaining: 0us\n",
      "\n",
      "bestTest = 36.88293746\n",
      "bestIteration = 43\n",
      "\n",
      "Training on fold [6/10]\n",
      "0:\tlearn: 72.9238560\ttest: 89.9364689\tbest: 89.9364689 (0)\ttotal: 5.95ms\tremaining: 256ms\n",
      "1:\tlearn: 71.1272683\ttest: 87.7355296\tbest: 87.7355296 (1)\ttotal: 12.4ms\tremaining: 260ms\n",
      "2:\tlearn: 69.3232986\ttest: 85.6943615\tbest: 85.6943615 (2)\ttotal: 18ms\tremaining: 245ms\n",
      "3:\tlearn: 67.6829233\ttest: 83.8799500\tbest: 83.8799500 (3)\ttotal: 23.3ms\tremaining: 233ms\n",
      "4:\tlearn: 66.0211790\ttest: 82.0128365\tbest: 82.0128365 (4)\ttotal: 28.6ms\tremaining: 223ms\n",
      "5:\tlearn: 64.4586950\ttest: 80.2759670\tbest: 80.2759670 (5)\ttotal: 35.9ms\tremaining: 228ms\n",
      "6:\tlearn: 62.8927845\ttest: 78.4629430\tbest: 78.4629430 (6)\ttotal: 41.8ms\tremaining: 221ms\n",
      "7:\tlearn: 61.3991137\ttest: 76.7257389\tbest: 76.7257389 (7)\ttotal: 47.2ms\tremaining: 212ms\n",
      "8:\tlearn: 59.9134787\ttest: 74.9422056\tbest: 74.9422056 (8)\ttotal: 53.2ms\tremaining: 207ms\n",
      "9:\tlearn: 58.5813993\ttest: 73.5813614\tbest: 73.5813614 (9)\ttotal: 59.4ms\tremaining: 202ms\n",
      "10:\tlearn: 57.1804838\ttest: 71.8387109\tbest: 71.8387109 (10)\ttotal: 67.3ms\tremaining: 202ms\n",
      "11:\tlearn: 55.8542968\ttest: 70.3198103\tbest: 70.3198103 (11)\ttotal: 73.3ms\tremaining: 195ms\n",
      "12:\tlearn: 54.5869514\ttest: 68.7660424\tbest: 68.7660424 (12)\ttotal: 78.6ms\tremaining: 187ms\n",
      "13:\tlearn: 53.3350941\ttest: 67.1837053\tbest: 67.1837053 (13)\ttotal: 84.2ms\tremaining: 180ms\n",
      "14:\tlearn: 52.1261943\ttest: 65.7066458\tbest: 65.7066458 (14)\ttotal: 89.3ms\tremaining: 173ms\n",
      "15:\tlearn: 51.0003203\ttest: 64.2568312\tbest: 64.2568312 (15)\ttotal: 95ms\tremaining: 166ms\n",
      "16:\tlearn: 49.8857813\ttest: 62.8706807\tbest: 62.8706807 (16)\ttotal: 101ms\tremaining: 160ms\n",
      "17:\tlearn: 48.7856342\ttest: 61.6217315\tbest: 61.6217315 (17)\ttotal: 106ms\tremaining: 153ms\n",
      "18:\tlearn: 47.7424884\ttest: 60.3884594\tbest: 60.3884594 (18)\ttotal: 111ms\tremaining: 147ms\n",
      "19:\tlearn: 46.7305443\ttest: 59.1879308\tbest: 59.1879308 (19)\ttotal: 117ms\tremaining: 141ms\n",
      "20:\tlearn: 45.7512248\ttest: 58.1624119\tbest: 58.1624119 (20)\ttotal: 123ms\tremaining: 134ms\n",
      "21:\tlearn: 44.8115545\ttest: 57.0317911\tbest: 57.0317911 (21)\ttotal: 128ms\tremaining: 128ms\n",
      "22:\tlearn: 43.9034365\ttest: 55.8567202\tbest: 55.8567202 (22)\ttotal: 134ms\tremaining: 122ms\n",
      "23:\tlearn: 43.0129104\ttest: 54.7627005\tbest: 54.7627005 (23)\ttotal: 140ms\tremaining: 117ms\n",
      "24:\tlearn: 42.1841079\ttest: 53.7085041\tbest: 53.7085041 (24)\ttotal: 145ms\tremaining: 110ms\n",
      "25:\tlearn: 41.3262310\ttest: 52.5679801\tbest: 52.5679801 (25)\ttotal: 151ms\tremaining: 104ms\n",
      "26:\tlearn: 40.5295987\ttest: 51.5409527\tbest: 51.5409527 (26)\ttotal: 156ms\tremaining: 98ms\n",
      "27:\tlearn: 39.7593219\ttest: 50.5945544\tbest: 50.5945544 (27)\ttotal: 161ms\tremaining: 91.7ms\n",
      "28:\tlearn: 39.0498272\ttest: 49.7729569\tbest: 49.7729569 (28)\ttotal: 165ms\tremaining: 85.5ms\n",
      "29:\tlearn: 38.3335907\ttest: 48.8514350\tbest: 48.8514350 (29)\ttotal: 170ms\tremaining: 79.5ms\n",
      "30:\tlearn: 37.6518039\ttest: 48.0107913\tbest: 48.0107913 (30)\ttotal: 175ms\tremaining: 73.4ms\n",
      "31:\tlearn: 36.9843358\ttest: 47.1378243\tbest: 47.1378243 (31)\ttotal: 180ms\tremaining: 67.5ms\n",
      "32:\tlearn: 36.3582909\ttest: 46.3421811\tbest: 46.3421811 (32)\ttotal: 185ms\tremaining: 61.5ms\n",
      "33:\tlearn: 35.7550179\ttest: 45.5595285\tbest: 45.5595285 (33)\ttotal: 189ms\tremaining: 55.7ms\n",
      "34:\tlearn: 35.1051148\ttest: 44.6567787\tbest: 44.6567787 (34)\ttotal: 194ms\tremaining: 50ms\n",
      "35:\tlearn: 34.5006032\ttest: 43.8642990\tbest: 43.8642990 (35)\ttotal: 200ms\tremaining: 44.4ms\n",
      "36:\tlearn: 33.9241735\ttest: 43.2500888\tbest: 43.2500888 (36)\ttotal: 204ms\tremaining: 38.7ms\n",
      "37:\tlearn: 33.3947655\ttest: 42.5616715\tbest: 42.5616715 (37)\ttotal: 209ms\tremaining: 33.1ms\n",
      "38:\tlearn: 32.8661154\ttest: 41.8993451\tbest: 41.8993451 (38)\ttotal: 215ms\tremaining: 27.5ms\n",
      "39:\tlearn: 32.3487390\ttest: 41.2244045\tbest: 41.2244045 (39)\ttotal: 219ms\tremaining: 21.9ms\n",
      "40:\tlearn: 31.8714324\ttest: 40.5752239\tbest: 40.5752239 (40)\ttotal: 225ms\tremaining: 16.4ms\n",
      "41:\tlearn: 31.4209402\ttest: 39.9356185\tbest: 39.9356185 (41)\ttotal: 230ms\tremaining: 10.9ms\n",
      "42:\tlearn: 30.9632772\ttest: 39.3303593\tbest: 39.3303593 (42)\ttotal: 234ms\tremaining: 5.45ms\n",
      "43:\tlearn: 30.5589654\ttest: 38.7587359\tbest: 38.7587359 (43)\ttotal: 239ms\tremaining: 0us\n",
      "\n",
      "bestTest = 38.75873592\n",
      "bestIteration = 43\n",
      "\n",
      "Training on fold [7/10]\n",
      "0:\tlearn: 75.2192878\ttest: 97.4434590\tbest: 97.4434590 (0)\ttotal: 5.18ms\tremaining: 223ms\n",
      "1:\tlearn: 73.3371879\ttest: 95.1026346\tbest: 95.1026346 (1)\ttotal: 9.91ms\tremaining: 208ms\n",
      "2:\tlearn: 71.4617572\ttest: 92.9672905\tbest: 92.9672905 (2)\ttotal: 15.7ms\tremaining: 215ms\n",
      "3:\tlearn: 69.7449382\ttest: 91.0180501\tbest: 91.0180501 (3)\ttotal: 20.6ms\tremaining: 206ms\n"
     ]
    },
    {
     "name": "stdout",
     "output_type": "stream",
     "text": [
      "4:\tlearn: 68.0158254\ttest: 89.0678701\tbest: 89.0678701 (4)\ttotal: 26.5ms\tremaining: 207ms\n",
      "5:\tlearn: 66.3876219\ttest: 87.2023825\tbest: 87.2023825 (5)\ttotal: 32.7ms\tremaining: 207ms\n",
      "6:\tlearn: 64.7587798\ttest: 85.3209550\tbest: 85.3209550 (6)\ttotal: 38.5ms\tremaining: 204ms\n",
      "7:\tlearn: 63.2035220\ttest: 83.4801135\tbest: 83.4801135 (7)\ttotal: 43.6ms\tremaining: 196ms\n",
      "8:\tlearn: 61.6559827\ttest: 81.6333996\tbest: 81.6333996 (8)\ttotal: 50.3ms\tremaining: 196ms\n",
      "9:\tlearn: 60.1956102\ttest: 79.8782420\tbest: 79.8782420 (9)\ttotal: 56.1ms\tremaining: 191ms\n",
      "10:\tlearn: 58.8024965\ttest: 78.2472465\tbest: 78.2472465 (10)\ttotal: 62.4ms\tremaining: 187ms\n",
      "11:\tlearn: 57.4094270\ttest: 76.5250317\tbest: 76.5250317 (11)\ttotal: 67.7ms\tremaining: 180ms\n",
      "12:\tlearn: 56.0622873\ttest: 74.7543268\tbest: 74.7543268 (12)\ttotal: 72.7ms\tremaining: 173ms\n",
      "13:\tlearn: 54.7515323\ttest: 73.1010685\tbest: 73.1010685 (13)\ttotal: 77.9ms\tremaining: 167ms\n",
      "14:\tlearn: 53.5699677\ttest: 71.7690271\tbest: 71.7690271 (14)\ttotal: 83ms\tremaining: 161ms\n",
      "15:\tlearn: 52.3562814\ttest: 70.2818779\tbest: 70.2818779 (15)\ttotal: 88ms\tremaining: 154ms\n",
      "16:\tlearn: 51.1930599\ttest: 68.8527090\tbest: 68.8527090 (16)\ttotal: 93ms\tremaining: 148ms\n",
      "17:\tlearn: 50.0470015\ttest: 67.4652386\tbest: 67.4652386 (17)\ttotal: 98ms\tremaining: 142ms\n",
      "18:\tlearn: 48.9482155\ttest: 66.1601141\tbest: 66.1601141 (18)\ttotal: 103ms\tremaining: 136ms\n",
      "19:\tlearn: 47.8942543\ttest: 64.9028051\tbest: 64.9028051 (19)\ttotal: 108ms\tremaining: 130ms\n",
      "20:\tlearn: 46.8457380\ttest: 63.6145442\tbest: 63.6145442 (20)\ttotal: 113ms\tremaining: 124ms\n",
      "21:\tlearn: 45.8619706\ttest: 62.4725083\tbest: 62.4725083 (21)\ttotal: 118ms\tremaining: 118ms\n",
      "22:\tlearn: 44.9304241\ttest: 61.2895049\tbest: 61.2895049 (22)\ttotal: 124ms\tremaining: 113ms\n",
      "23:\tlearn: 43.9988886\ttest: 60.1296784\tbest: 60.1296784 (23)\ttotal: 129ms\tremaining: 107ms\n",
      "24:\tlearn: 43.1331734\ttest: 59.0342919\tbest: 59.0342919 (24)\ttotal: 134ms\tremaining: 102ms\n",
      "25:\tlearn: 42.2409851\ttest: 57.8668211\tbest: 57.8668211 (25)\ttotal: 139ms\tremaining: 96.1ms\n",
      "26:\tlearn: 41.3981093\ttest: 56.7837631\tbest: 56.7837631 (26)\ttotal: 144ms\tremaining: 90.5ms\n",
      "27:\tlearn: 40.5919534\ttest: 55.7250286\tbest: 55.7250286 (27)\ttotal: 149ms\tremaining: 85ms\n",
      "28:\tlearn: 39.8336935\ttest: 54.7672629\tbest: 54.7672629 (28)\ttotal: 154ms\tremaining: 79.7ms\n",
      "29:\tlearn: 39.0894749\ttest: 53.7686131\tbest: 53.7686131 (29)\ttotal: 159ms\tremaining: 74.3ms\n",
      "30:\tlearn: 38.3807861\ttest: 52.8931328\tbest: 52.8931328 (30)\ttotal: 164ms\tremaining: 68.8ms\n",
      "31:\tlearn: 37.6982852\ttest: 52.0438294\tbest: 52.0438294 (31)\ttotal: 169ms\tremaining: 63.4ms\n",
      "32:\tlearn: 37.0518442\ttest: 51.2264323\tbest: 51.2264323 (32)\ttotal: 174ms\tremaining: 58ms\n",
      "33:\tlearn: 36.4091177\ttest: 50.3702955\tbest: 50.3702955 (33)\ttotal: 179ms\tremaining: 52.7ms\n",
      "34:\tlearn: 35.7631468\ttest: 49.4641304\tbest: 49.4641304 (34)\ttotal: 184ms\tremaining: 47.3ms\n",
      "35:\tlearn: 35.1548148\ttest: 48.7577593\tbest: 48.7577593 (35)\ttotal: 190ms\tremaining: 42.1ms\n",
      "36:\tlearn: 34.5682259\ttest: 48.0964051\tbest: 48.0964051 (36)\ttotal: 194ms\tremaining: 36.8ms\n",
      "37:\tlearn: 34.0342748\ttest: 47.4058450\tbest: 47.4058450 (37)\ttotal: 200ms\tremaining: 31.6ms\n",
      "38:\tlearn: 33.4845537\ttest: 46.6415161\tbest: 46.6415161 (38)\ttotal: 206ms\tremaining: 26.4ms\n",
      "39:\tlearn: 32.9514926\ttest: 45.9239269\tbest: 45.9239269 (39)\ttotal: 212ms\tremaining: 21.2ms\n",
      "40:\tlearn: 32.4613711\ttest: 45.2550502\tbest: 45.2550502 (40)\ttotal: 218ms\tremaining: 15.9ms\n",
      "41:\tlearn: 31.9946665\ttest: 44.5904429\tbest: 44.5904429 (41)\ttotal: 224ms\tremaining: 10.7ms\n",
      "42:\tlearn: 31.5233189\ttest: 43.9118639\tbest: 43.9118639 (42)\ttotal: 229ms\tremaining: 5.33ms\n",
      "43:\tlearn: 31.1060254\ttest: 43.2655843\tbest: 43.2655843 (43)\ttotal: 235ms\tremaining: 0us\n",
      "\n",
      "bestTest = 43.26558427\n",
      "bestIteration = 43\n",
      "\n",
      "Training on fold [8/10]\n",
      "0:\tlearn: 77.9510383\ttest: 108.4323141\tbest: 108.4323141 (0)\ttotal: 4.9ms\tremaining: 211ms\n",
      "1:\tlearn: 75.9569146\ttest: 105.9999986\tbest: 105.9999986 (1)\ttotal: 9.5ms\tremaining: 200ms\n",
      "2:\tlearn: 74.0001980\ttest: 103.6690912\tbest: 103.6690912 (2)\ttotal: 14.4ms\tremaining: 196ms\n",
      "3:\tlearn: 72.2033285\ttest: 101.5647345\tbest: 101.5647345 (3)\ttotal: 19.5ms\tremaining: 195ms\n",
      "4:\tlearn: 70.4002149\ttest: 99.5340012\tbest: 99.5340012 (4)\ttotal: 25ms\tremaining: 195ms\n",
      "5:\tlearn: 68.7030392\ttest: 97.6352083\tbest: 97.6352083 (5)\ttotal: 30.2ms\tremaining: 191ms\n",
      "6:\tlearn: 67.0068009\ttest: 95.6828357\tbest: 95.6828357 (6)\ttotal: 35.4ms\tremaining: 187ms\n",
      "7:\tlearn: 65.3832392\ttest: 93.8372986\tbest: 93.8372986 (7)\ttotal: 41.4ms\tremaining: 186ms\n",
      "8:\tlearn: 63.7695987\ttest: 91.9269864\tbest: 91.9269864 (8)\ttotal: 47.2ms\tremaining: 183ms\n",
      "9:\tlearn: 62.2419931\ttest: 90.0662158\tbest: 90.0662158 (9)\ttotal: 52.5ms\tremaining: 178ms\n",
      "10:\tlearn: 60.7269153\ttest: 88.2173137\tbest: 88.2173137 (10)\ttotal: 58.3ms\tremaining: 175ms\n",
      "11:\tlearn: 59.2698229\ttest: 86.3827602\tbest: 86.3827602 (11)\ttotal: 63.6ms\tremaining: 170ms\n",
      "12:\tlearn: 57.8607472\ttest: 84.5517673\tbest: 84.5517673 (12)\ttotal: 69.2ms\tremaining: 165ms\n",
      "13:\tlearn: 56.4879175\ttest: 82.8083738\tbest: 82.8083738 (13)\ttotal: 75.3ms\tremaining: 161ms\n",
      "14:\tlearn: 55.1868165\ttest: 81.2570210\tbest: 81.2570210 (14)\ttotal: 81.3ms\tremaining: 157ms\n",
      "15:\tlearn: 53.9332023\ttest: 79.6973298\tbest: 79.6973298 (15)\ttotal: 87ms\tremaining: 152ms\n",
      "16:\tlearn: 52.7223341\ttest: 78.2130350\tbest: 78.2130350 (16)\ttotal: 92.8ms\tremaining: 147ms\n",
      "17:\tlearn: 51.5248385\ttest: 76.7397767\tbest: 76.7397767 (17)\ttotal: 98.3ms\tremaining: 142ms\n",
      "18:\tlearn: 50.3629052\ttest: 75.3149315\tbest: 75.3149315 (18)\ttotal: 104ms\tremaining: 137ms\n",
      "19:\tlearn: 49.2629004\ttest: 74.0285428\tbest: 74.0285428 (19)\ttotal: 110ms\tremaining: 132ms\n",
      "20:\tlearn: 48.2206655\ttest: 72.7802570\tbest: 72.7802570 (20)\ttotal: 115ms\tremaining: 126ms\n",
      "21:\tlearn: 47.2205460\ttest: 71.5562421\tbest: 71.5562421 (21)\ttotal: 122ms\tremaining: 122ms\n",
      "22:\tlearn: 46.2251896\ttest: 70.1738801\tbest: 70.1738801 (22)\ttotal: 128ms\tremaining: 117ms\n",
      "23:\tlearn: 45.2512179\ttest: 68.9580840\tbest: 68.9580840 (23)\ttotal: 136ms\tremaining: 113ms\n",
      "24:\tlearn: 44.3393955\ttest: 67.7541358\tbest: 67.7541358 (24)\ttotal: 143ms\tremaining: 108ms\n",
      "25:\tlearn: 43.4069519\ttest: 66.5617488\tbest: 66.5617488 (25)\ttotal: 148ms\tremaining: 103ms\n",
      "26:\tlearn: 42.5259177\ttest: 65.4042991\tbest: 65.4042991 (26)\ttotal: 154ms\tremaining: 97.3ms\n",
      "27:\tlearn: 41.6777805\ttest: 64.3650782\tbest: 64.3650782 (27)\ttotal: 160ms\tremaining: 91.6ms\n",
      "28:\tlearn: 40.8895997\ttest: 63.3819296\tbest: 63.3819296 (28)\ttotal: 166ms\tremaining: 86ms\n",
      "29:\tlearn: 40.1123800\ttest: 62.2559944\tbest: 62.2559944 (29)\ttotal: 172ms\tremaining: 80.1ms\n",
      "30:\tlearn: 39.3756938\ttest: 61.3375071\tbest: 61.3375071 (30)\ttotal: 177ms\tremaining: 74.4ms\n",
      "31:\tlearn: 38.6657903\ttest: 60.4544565\tbest: 60.4544565 (31)\ttotal: 184ms\tremaining: 68.9ms\n",
      "32:\tlearn: 37.9894517\ttest: 59.6036899\tbest: 59.6036899 (32)\ttotal: 189ms\tremaining: 63ms\n",
      "33:\tlearn: 37.3204451\ttest: 58.7043442\tbest: 58.7043442 (33)\ttotal: 194ms\tremaining: 57.2ms\n",
      "34:\tlearn: 36.6375540\ttest: 57.7324764\tbest: 57.7324764 (34)\ttotal: 201ms\tremaining: 51.6ms\n",
      "35:\tlearn: 35.9935622\ttest: 56.8352393\tbest: 56.8352393 (35)\ttotal: 207ms\tremaining: 46ms\n",
      "36:\tlearn: 35.3886604\ttest: 56.1156539\tbest: 56.1156539 (36)\ttotal: 213ms\tremaining: 40.2ms\n",
      "37:\tlearn: 34.8280388\ttest: 55.3938515\tbest: 55.3938515 (37)\ttotal: 218ms\tremaining: 34.4ms\n",
      "38:\tlearn: 34.2659548\ttest: 54.6743616\tbest: 54.6743616 (38)\ttotal: 223ms\tremaining: 28.6ms\n",
      "39:\tlearn: 33.7079217\ttest: 53.8302488\tbest: 53.8302488 (39)\ttotal: 229ms\tremaining: 22.9ms\n",
      "40:\tlearn: 33.1906074\ttest: 53.0320020\tbest: 53.0320020 (40)\ttotal: 234ms\tremaining: 17.1ms\n",
      "41:\tlearn: 32.7035619\ttest: 52.3385939\tbest: 52.3385939 (41)\ttotal: 239ms\tremaining: 11.4ms\n",
      "42:\tlearn: 32.2112891\ttest: 51.6495761\tbest: 51.6495761 (42)\ttotal: 245ms\tremaining: 5.69ms\n",
      "43:\tlearn: 31.7715348\ttest: 50.9677202\tbest: 50.9677202 (43)\ttotal: 250ms\tremaining: 0us\n",
      "\n",
      "bestTest = 50.9677202\n",
      "bestIteration = 43\n",
      "\n",
      "Training on fold [9/10]\n",
      "0:\tlearn: 81.4435072\ttest: 117.2900584\tbest: 117.2900584 (0)\ttotal: 6.39ms\tremaining: 275ms\n",
      "1:\tlearn: 79.3330570\ttest: 114.8670544\tbest: 114.8670544 (1)\ttotal: 12.1ms\tremaining: 253ms\n",
      "2:\tlearn: 77.2883426\ttest: 112.5064760\tbest: 112.5064760 (2)\ttotal: 17.6ms\tremaining: 240ms\n",
      "3:\tlearn: 75.4004718\ttest: 110.3099736\tbest: 110.3099736 (3)\ttotal: 23.6ms\tremaining: 236ms\n",
      "4:\tlearn: 73.5208608\ttest: 108.1371412\tbest: 108.1371412 (4)\ttotal: 30.4ms\tremaining: 237ms\n",
      "5:\tlearn: 71.7381999\ttest: 106.0487519\tbest: 106.0487519 (5)\ttotal: 36.8ms\tremaining: 233ms\n",
      "6:\tlearn: 69.9655660\ttest: 103.8546272\tbest: 103.8546272 (6)\ttotal: 43.1ms\tremaining: 228ms\n",
      "7:\tlearn: 68.2702770\ttest: 101.9063438\tbest: 101.9063438 (7)\ttotal: 48.6ms\tremaining: 219ms\n",
      "8:\tlearn: 66.5835504\ttest: 99.8794809\tbest: 99.8794809 (8)\ttotal: 56.1ms\tremaining: 218ms\n",
      "9:\tlearn: 64.9774923\ttest: 97.9511633\tbest: 97.9511633 (9)\ttotal: 63.8ms\tremaining: 217ms\n",
      "10:\tlearn: 63.3916158\ttest: 95.9582616\tbest: 95.9582616 (10)\ttotal: 71.4ms\tremaining: 214ms\n",
      "11:\tlearn: 61.8656465\ttest: 93.9880083\tbest: 93.9880083 (11)\ttotal: 79.1ms\tremaining: 211ms\n",
      "12:\tlearn: 60.3876642\ttest: 92.1113934\tbest: 92.1113934 (12)\ttotal: 90.5ms\tremaining: 216ms\n",
      "13:\tlearn: 58.9469732\ttest: 90.2959830\tbest: 90.2959830 (13)\ttotal: 97.7ms\tremaining: 209ms\n",
      "14:\tlearn: 57.5820004\ttest: 88.7297876\tbest: 88.7297876 (14)\ttotal: 106ms\tremaining: 205ms\n",
      "15:\tlearn: 56.3021601\ttest: 87.0132665\tbest: 87.0132665 (15)\ttotal: 113ms\tremaining: 198ms\n",
      "16:\tlearn: 55.0288366\ttest: 85.4960001\tbest: 85.4960001 (16)\ttotal: 121ms\tremaining: 193ms\n",
      "17:\tlearn: 53.7547556\ttest: 83.8615190\tbest: 83.8615190 (17)\ttotal: 130ms\tremaining: 188ms\n",
      "18:\tlearn: 52.5570954\ttest: 82.2866618\tbest: 82.2866618 (18)\ttotal: 138ms\tremaining: 182ms\n",
      "19:\tlearn: 51.4635416\ttest: 80.9123138\tbest: 80.9123138 (19)\ttotal: 146ms\tremaining: 176ms\n",
      "20:\tlearn: 50.3280516\ttest: 79.5499686\tbest: 79.5499686 (20)\ttotal: 153ms\tremaining: 167ms\n",
      "21:\tlearn: 49.2734707\ttest: 78.1864387\tbest: 78.1864387 (21)\ttotal: 160ms\tremaining: 160ms\n",
      "22:\tlearn: 48.2191985\ttest: 76.7826745\tbest: 76.7826745 (22)\ttotal: 167ms\tremaining: 153ms\n",
      "23:\tlearn: 47.2080077\ttest: 75.4898610\tbest: 75.4898610 (23)\ttotal: 175ms\tremaining: 145ms\n",
      "24:\tlearn: 46.2552090\ttest: 74.2712521\tbest: 74.2712521 (24)\ttotal: 182ms\tremaining: 138ms\n",
      "25:\tlearn: 45.2768901\ttest: 73.0256090\tbest: 73.0256090 (25)\ttotal: 189ms\tremaining: 131ms\n",
      "26:\tlearn: 44.3802481\ttest: 71.8612739\tbest: 71.8612739 (26)\ttotal: 196ms\tremaining: 124ms\n"
     ]
    },
    {
     "name": "stdout",
     "output_type": "stream",
     "text": [
      "27:\tlearn: 43.4868092\ttest: 70.7858544\tbest: 70.7858544 (27)\ttotal: 205ms\tremaining: 117ms\n",
      "28:\tlearn: 42.6581614\ttest: 69.6411950\tbest: 69.6411950 (28)\ttotal: 213ms\tremaining: 110ms\n",
      "29:\tlearn: 41.8292312\ttest: 68.5094132\tbest: 68.5094132 (29)\ttotal: 220ms\tremaining: 103ms\n",
      "30:\tlearn: 41.0592963\ttest: 67.5799128\tbest: 67.5799128 (30)\ttotal: 228ms\tremaining: 95.5ms\n",
      "31:\tlearn: 40.3070558\ttest: 66.6238836\tbest: 66.6238836 (31)\ttotal: 236ms\tremaining: 88.4ms\n",
      "32:\tlearn: 39.5908052\ttest: 65.6765912\tbest: 65.6765912 (32)\ttotal: 243ms\tremaining: 81.1ms\n",
      "33:\tlearn: 38.8948624\ttest: 64.7712050\tbest: 64.7712050 (33)\ttotal: 252ms\tremaining: 74ms\n",
      "34:\tlearn: 38.1815355\ttest: 63.7999517\tbest: 63.7999517 (34)\ttotal: 261ms\tremaining: 67.2ms\n",
      "35:\tlearn: 37.5038892\ttest: 62.8822874\tbest: 62.8822874 (35)\ttotal: 268ms\tremaining: 59.6ms\n",
      "36:\tlearn: 36.8666985\ttest: 62.0821752\tbest: 62.0821752 (36)\ttotal: 277ms\tremaining: 52.4ms\n",
      "37:\tlearn: 36.2509696\ttest: 61.2900285\tbest: 61.2900285 (37)\ttotal: 284ms\tremaining: 44.9ms\n",
      "38:\tlearn: 35.6612450\ttest: 60.5227573\tbest: 60.5227573 (38)\ttotal: 294ms\tremaining: 37.7ms\n",
      "39:\tlearn: 35.0770920\ttest: 59.6776143\tbest: 59.6776143 (39)\ttotal: 301ms\tremaining: 30.1ms\n",
      "40:\tlearn: 34.5331928\ttest: 58.8634262\tbest: 58.8634262 (40)\ttotal: 309ms\tremaining: 22.6ms\n",
      "41:\tlearn: 34.0260134\ttest: 58.1708274\tbest: 58.1708274 (41)\ttotal: 316ms\tremaining: 15ms\n",
      "42:\tlearn: 33.5194873\ttest: 57.5671484\tbest: 57.5671484 (42)\ttotal: 323ms\tremaining: 7.52ms\n",
      "43:\tlearn: 33.0649078\ttest: 56.9063605\tbest: 56.9063605 (43)\ttotal: 330ms\tremaining: 0us\n",
      "\n",
      "bestTest = 56.90636055\n",
      "bestIteration = 43\n",
      "\n",
      "Training on fold [0/10]\n",
      "0:\tlearn: 61.5109491\ttest: 64.0081027\tbest: 64.0081027 (0)\ttotal: 1.07ms\tremaining: 50.1ms\n",
      "1:\tlearn: 60.0186286\ttest: 62.4903729\tbest: 62.4903729 (1)\ttotal: 1.9ms\tremaining: 43.7ms\n",
      "2:\tlearn: 58.5923307\ttest: 61.0201003\tbest: 61.0201003 (2)\ttotal: 2.67ms\tremaining: 40.1ms\n",
      "3:\tlearn: 57.2525208\ttest: 59.6881600\tbest: 59.6881600 (3)\ttotal: 3.44ms\tremaining: 37.9ms\n",
      "4:\tlearn: 55.8634901\ttest: 58.2865246\tbest: 58.2865246 (4)\ttotal: 4.22ms\tremaining: 36.3ms\n",
      "5:\tlearn: 54.6142968\ttest: 57.0604473\tbest: 57.0604473 (5)\ttotal: 4.98ms\tremaining: 34.8ms\n",
      "6:\tlearn: 53.3306339\ttest: 55.7773965\tbest: 55.7773965 (6)\ttotal: 5.74ms\tremaining: 33.6ms\n",
      "7:\tlearn: 52.0647556\ttest: 54.5093735\tbest: 54.5093735 (7)\ttotal: 6.5ms\tremaining: 32.5ms\n",
      "8:\tlearn: 50.8536162\ttest: 53.3134461\tbest: 53.3134461 (8)\ttotal: 7.34ms\tremaining: 31.8ms\n",
      "9:\tlearn: 49.7183344\ttest: 52.1809550\tbest: 52.1809550 (9)\ttotal: 8.15ms\tremaining: 31ms\n",
      "10:\tlearn: 48.6727134\ttest: 51.1574345\tbest: 51.1574345 (10)\ttotal: 8.96ms\tremaining: 30.2ms\n",
      "11:\tlearn: 47.5848617\ttest: 50.0912531\tbest: 50.0912531 (11)\ttotal: 9.78ms\tremaining: 29.3ms\n",
      "12:\tlearn: 46.5735051\ttest: 49.0898922\tbest: 49.0898922 (12)\ttotal: 10.6ms\tremaining: 28.4ms\n",
      "13:\tlearn: 45.6348737\ttest: 48.1553815\tbest: 48.1553815 (13)\ttotal: 11.3ms\tremaining: 27.6ms\n",
      "14:\tlearn: 44.7519565\ttest: 47.2955564\tbest: 47.2955564 (14)\ttotal: 12.1ms\tremaining: 26.7ms\n",
      "15:\tlearn: 43.8689849\ttest: 46.4525381\tbest: 46.4525381 (15)\ttotal: 13ms\tremaining: 25.9ms\n",
      "16:\tlearn: 42.9772382\ttest: 45.5812581\tbest: 45.5812581 (16)\ttotal: 13.9ms\tremaining: 25.3ms\n",
      "17:\tlearn: 42.0926835\ttest: 44.6917624\tbest: 44.6917624 (17)\ttotal: 14.8ms\tremaining: 24.7ms\n",
      "18:\tlearn: 41.3050402\ttest: 43.9337145\tbest: 43.9337145 (18)\ttotal: 15.7ms\tremaining: 23.9ms\n",
      "19:\tlearn: 40.4985791\ttest: 43.1496334\tbest: 43.1496334 (19)\ttotal: 16.5ms\tremaining: 23.1ms\n",
      "20:\tlearn: 39.6756079\ttest: 42.3365292\tbest: 42.3365292 (20)\ttotal: 17.4ms\tremaining: 22.3ms\n",
      "21:\tlearn: 38.9937470\ttest: 41.6623611\tbest: 41.6623611 (21)\ttotal: 18.2ms\tremaining: 21.5ms\n",
      "22:\tlearn: 38.2989800\ttest: 40.9790738\tbest: 40.9790738 (22)\ttotal: 19ms\tremaining: 20.7ms\n",
      "23:\tlearn: 37.6529341\ttest: 40.3501528\tbest: 40.3501528 (23)\ttotal: 19.9ms\tremaining: 19.9ms\n",
      "24:\tlearn: 37.0154929\ttest: 39.7481857\tbest: 39.7481857 (24)\ttotal: 20.7ms\tremaining: 19.1ms\n",
      "25:\tlearn: 36.3465389\ttest: 39.0738333\tbest: 39.0738333 (25)\ttotal: 21.6ms\tremaining: 18.3ms\n",
      "26:\tlearn: 35.6923807\ttest: 38.4165739\tbest: 38.4165739 (26)\ttotal: 22.7ms\tremaining: 17.6ms\n",
      "27:\tlearn: 35.0363082\ttest: 37.7528196\tbest: 37.7528196 (27)\ttotal: 23.8ms\tremaining: 17ms\n",
      "28:\tlearn: 34.4179682\ttest: 37.1236289\tbest: 37.1236289 (28)\ttotal: 24.9ms\tremaining: 16.3ms\n",
      "29:\tlearn: 33.7868846\ttest: 36.4928932\tbest: 36.4928932 (29)\ttotal: 25.9ms\tremaining: 15.5ms\n",
      "30:\tlearn: 33.2572786\ttest: 35.9710353\tbest: 35.9710353 (30)\ttotal: 26.8ms\tremaining: 14.7ms\n",
      "31:\tlearn: 32.6499355\ttest: 35.3524670\tbest: 35.3524670 (31)\ttotal: 28ms\tremaining: 14ms\n",
      "32:\tlearn: 32.1910446\ttest: 34.8761501\tbest: 34.8761501 (32)\ttotal: 28.9ms\tremaining: 13.1ms\n",
      "33:\tlearn: 31.6514407\ttest: 34.3317093\tbest: 34.3317093 (33)\ttotal: 29.9ms\tremaining: 12.3ms\n",
      "34:\tlearn: 31.2120697\ttest: 33.8825899\tbest: 33.8825899 (34)\ttotal: 30.8ms\tremaining: 11.4ms\n",
      "35:\tlearn: 30.7290772\ttest: 33.4091935\tbest: 33.4091935 (35)\ttotal: 31.8ms\tremaining: 10.6ms\n",
      "36:\tlearn: 30.2871850\ttest: 33.2887669\tbest: 33.2887669 (36)\ttotal: 32.9ms\tremaining: 9.78ms\n",
      "37:\tlearn: 29.9150437\ttest: 32.9179443\tbest: 32.9179443 (37)\ttotal: 33.9ms\tremaining: 8.93ms\n",
      "38:\tlearn: 29.4447189\ttest: 32.4452622\tbest: 32.4452622 (38)\ttotal: 34.9ms\tremaining: 8.06ms\n",
      "39:\tlearn: 29.0864469\ttest: 32.0800861\tbest: 32.0800861 (39)\ttotal: 35.9ms\tremaining: 7.17ms\n",
      "40:\tlearn: 28.7517255\ttest: 31.7347420\tbest: 31.7347420 (40)\ttotal: 37.2ms\tremaining: 6.35ms\n",
      "41:\tlearn: 28.3819428\ttest: 31.3869625\tbest: 31.3869625 (41)\ttotal: 38.2ms\tremaining: 5.46ms\n",
      "42:\tlearn: 27.9779306\ttest: 30.9799619\tbest: 30.9799619 (42)\ttotal: 39.3ms\tremaining: 4.57ms\n",
      "43:\tlearn: 27.6370768\ttest: 30.6247738\tbest: 30.6247738 (43)\ttotal: 40.2ms\tremaining: 3.65ms\n",
      "44:\tlearn: 27.3310419\ttest: 30.3195238\tbest: 30.3195238 (44)\ttotal: 41.4ms\tremaining: 2.76ms\n",
      "45:\tlearn: 26.9784018\ttest: 29.9557327\tbest: 29.9557327 (45)\ttotal: 42.3ms\tremaining: 1.84ms\n",
      "46:\tlearn: 26.6473869\ttest: 29.6510195\tbest: 29.6510195 (46)\ttotal: 43.3ms\tremaining: 921us\n",
      "47:\tlearn: 26.2664785\ttest: 29.2890005\tbest: 29.2890005 (47)\ttotal: 44.4ms\tremaining: 0us\n",
      "\n",
      "bestTest = 29.28900053\n",
      "bestIteration = 47\n",
      "\n",
      "Training on fold [1/10]\n",
      "0:\tlearn: 62.7026044\ttest: 64.4465649\tbest: 64.4465649 (0)\ttotal: 1.13ms\tremaining: 53.3ms\n",
      "1:\tlearn: 61.2470624\ttest: 63.0007387\tbest: 63.0007387 (1)\ttotal: 2.04ms\tremaining: 46.9ms\n",
      "2:\tlearn: 59.8041630\ttest: 61.5715070\tbest: 61.5715070 (2)\ttotal: 3ms\tremaining: 44.9ms\n",
      "3:\tlearn: 58.4327938\ttest: 60.2005130\tbest: 60.2005130 (3)\ttotal: 3.89ms\tremaining: 42.8ms\n",
      "4:\tlearn: 57.0833648\ttest: 58.8675959\tbest: 58.8675959 (4)\ttotal: 4.89ms\tremaining: 42ms\n",
      "5:\tlearn: 55.7079556\ttest: 57.4791904\tbest: 57.4791904 (5)\ttotal: 5.87ms\tremaining: 41.1ms\n",
      "6:\tlearn: 54.4137371\ttest: 56.2176544\tbest: 56.2176544 (6)\ttotal: 6.77ms\tremaining: 39.7ms\n",
      "7:\tlearn: 53.2052651\ttest: 55.2242480\tbest: 55.2242480 (7)\ttotal: 7.88ms\tremaining: 39.4ms\n",
      "8:\tlearn: 52.0923282\ttest: 54.0978011\tbest: 54.0978011 (8)\ttotal: 8.87ms\tremaining: 38.4ms\n",
      "9:\tlearn: 50.9445868\ttest: 52.9341520\tbest: 52.9341520 (9)\ttotal: 9.85ms\tremaining: 37.4ms\n",
      "10:\tlearn: 49.7708707\ttest: 51.7463698\tbest: 51.7463698 (10)\ttotal: 10.8ms\tremaining: 36.4ms\n",
      "11:\tlearn: 48.7662684\ttest: 50.7299724\tbest: 50.7299724 (11)\ttotal: 11.8ms\tremaining: 35.4ms\n",
      "12:\tlearn: 47.7896711\ttest: 49.7488806\tbest: 49.7488806 (12)\ttotal: 12.8ms\tremaining: 34.5ms\n",
      "13:\tlearn: 46.7815876\ttest: 48.7199679\tbest: 48.7199679 (13)\ttotal: 13.8ms\tremaining: 33.5ms\n",
      "14:\tlearn: 45.8231396\ttest: 47.7646522\tbest: 47.7646522 (14)\ttotal: 14.8ms\tremaining: 32.5ms\n",
      "15:\tlearn: 44.8288498\ttest: 46.7625232\tbest: 46.7625232 (15)\ttotal: 16.1ms\tremaining: 32.2ms\n",
      "16:\tlearn: 43.9134343\ttest: 45.8434222\tbest: 45.8434222 (16)\ttotal: 17.3ms\tremaining: 31.5ms\n",
      "17:\tlearn: 42.9807473\ttest: 44.9162657\tbest: 44.9162657 (17)\ttotal: 18.3ms\tremaining: 30.5ms\n",
      "18:\tlearn: 42.0950069\ttest: 44.0533791\tbest: 44.0533791 (18)\ttotal: 19.3ms\tremaining: 29.4ms\n",
      "19:\tlearn: 41.3229203\ttest: 43.2819820\tbest: 43.2819820 (19)\ttotal: 20.2ms\tremaining: 28.3ms\n",
      "20:\tlearn: 40.4604040\ttest: 42.4684189\tbest: 42.4684189 (20)\ttotal: 21.4ms\tremaining: 27.5ms\n",
      "21:\tlearn: 39.6150324\ttest: 41.6060509\tbest: 41.6060509 (21)\ttotal: 22.5ms\tremaining: 26.6ms\n",
      "22:\tlearn: 38.9159015\ttest: 40.9075471\tbest: 40.9075471 (22)\ttotal: 23.7ms\tremaining: 25.7ms\n",
      "23:\tlearn: 38.1492453\ttest: 40.1482447\tbest: 40.1482447 (23)\ttotal: 24.7ms\tremaining: 24.7ms\n",
      "24:\tlearn: 37.4301916\ttest: 39.4124787\tbest: 39.4124787 (24)\ttotal: 25.8ms\tremaining: 23.7ms\n",
      "25:\tlearn: 36.7228616\ttest: 38.7299060\tbest: 38.7299060 (25)\ttotal: 26.8ms\tremaining: 22.7ms\n",
      "26:\tlearn: 36.0098698\ttest: 37.9957338\tbest: 37.9957338 (26)\ttotal: 27.8ms\tremaining: 21.6ms\n",
      "27:\tlearn: 35.4053077\ttest: 37.3880371\tbest: 37.3880371 (27)\ttotal: 28.8ms\tremaining: 20.6ms\n",
      "28:\tlearn: 34.7623147\ttest: 36.7556950\tbest: 36.7556950 (28)\ttotal: 30ms\tremaining: 19.7ms\n",
      "29:\tlearn: 34.1339197\ttest: 36.1216086\tbest: 36.1216086 (29)\ttotal: 31.1ms\tremaining: 18.7ms\n",
      "30:\tlearn: 33.5571252\ttest: 35.5352484\tbest: 35.5352484 (30)\ttotal: 32.2ms\tremaining: 17.6ms\n",
      "31:\tlearn: 32.9912506\ttest: 34.9690366\tbest: 34.9690366 (31)\ttotal: 33.3ms\tremaining: 16.7ms\n",
      "32:\tlearn: 32.4493042\ttest: 34.4000795\tbest: 34.4000795 (32)\ttotal: 34.8ms\tremaining: 15.8ms\n",
      "33:\tlearn: 31.9114235\ttest: 33.8968503\tbest: 33.8968503 (33)\ttotal: 36.1ms\tremaining: 14.9ms\n",
      "34:\tlearn: 31.4344393\ttest: 33.4249422\tbest: 33.4249422 (34)\ttotal: 37.2ms\tremaining: 13.8ms\n",
      "35:\tlearn: 30.9529409\ttest: 32.9904432\tbest: 32.9904432 (35)\ttotal: 38.3ms\tremaining: 12.8ms\n",
      "36:\tlearn: 30.4475319\ttest: 32.5032061\tbest: 32.5032061 (36)\ttotal: 39.4ms\tremaining: 11.7ms\n",
      "37:\tlearn: 29.9946894\ttest: 32.0628602\tbest: 32.0628602 (37)\ttotal: 40.5ms\tremaining: 10.6ms\n",
      "38:\tlearn: 29.5909793\ttest: 31.6321538\tbest: 31.6321538 (38)\ttotal: 41.5ms\tremaining: 9.59ms\n",
      "39:\tlearn: 29.1329687\ttest: 31.1907293\tbest: 31.1907293 (39)\ttotal: 42.6ms\tremaining: 8.52ms\n",
      "40:\tlearn: 28.6853514\ttest: 30.7684653\tbest: 30.7684653 (40)\ttotal: 43.7ms\tremaining: 7.46ms\n",
      "41:\tlearn: 28.2734568\ttest: 30.3606561\tbest: 30.3606561 (41)\ttotal: 44.7ms\tremaining: 6.39ms\n",
      "42:\tlearn: 27.9059730\ttest: 29.9951516\tbest: 29.9951516 (42)\ttotal: 45.8ms\tremaining: 5.32ms\n",
      "43:\tlearn: 27.5284755\ttest: 29.6047752\tbest: 29.6047752 (43)\ttotal: 46.9ms\tremaining: 4.26ms\n",
      "44:\tlearn: 27.1508841\ttest: 29.2345319\tbest: 29.2345319 (44)\ttotal: 47.9ms\tremaining: 3.2ms\n",
      "45:\tlearn: 26.8362075\ttest: 28.9397905\tbest: 28.9397905 (45)\ttotal: 49ms\tremaining: 2.13ms\n",
      "46:\tlearn: 26.5110115\ttest: 28.6291130\tbest: 28.6291130 (46)\ttotal: 50.2ms\tremaining: 1.07ms\n",
      "47:\tlearn: 26.1977840\ttest: 28.3342095\tbest: 28.3342095 (47)\ttotal: 51.3ms\tremaining: 0us\n",
      "\n",
      "bestTest = 28.3342095\n",
      "bestIteration = 47\n",
      "\n",
      "Training on fold [2/10]\n",
      "0:\tlearn: 63.2642719\ttest: 74.5099258\tbest: 74.5099258 (0)\ttotal: 1.32ms\tremaining: 62ms\n",
      "1:\tlearn: 61.7822766\ttest: 73.0346715\tbest: 73.0346715 (1)\ttotal: 2.44ms\tremaining: 56.1ms\n",
      "2:\tlearn: 60.3122465\ttest: 71.6602192\tbest: 71.6602192 (2)\ttotal: 3.55ms\tremaining: 53.2ms\n",
      "3:\tlearn: 58.9172792\ttest: 70.2531703\tbest: 70.2531703 (3)\ttotal: 4.64ms\tremaining: 51.1ms\n",
      "4:\tlearn: 57.5497395\ttest: 68.8889686\tbest: 68.8889686 (4)\ttotal: 5.74ms\tremaining: 49.4ms\n",
      "5:\tlearn: 56.1293409\ttest: 67.3283960\tbest: 67.3283960 (5)\ttotal: 6.82ms\tremaining: 47.7ms\n",
      "6:\tlearn: 54.8356110\ttest: 66.1239845\tbest: 66.1239845 (6)\ttotal: 7.91ms\tremaining: 46.4ms\n",
      "7:\tlearn: 53.5788734\ttest: 64.8050936\tbest: 64.8050936 (7)\ttotal: 9.07ms\tremaining: 45.4ms\n",
      "8:\tlearn: 52.4437571\ttest: 63.5774144\tbest: 63.5774144 (8)\ttotal: 10.3ms\tremaining: 44.6ms\n",
      "9:\tlearn: 51.2754431\ttest: 62.3512952\tbest: 62.3512952 (9)\ttotal: 11.6ms\tremaining: 43.9ms\n",
      "10:\tlearn: 50.0837251\ttest: 61.0963280\tbest: 61.0963280 (10)\ttotal: 12.8ms\tremaining: 43.2ms\n",
      "11:\tlearn: 49.0605563\ttest: 60.0722214\tbest: 60.0722214 (11)\ttotal: 14.1ms\tremaining: 42.4ms\n",
      "12:\tlearn: 48.0023131\ttest: 58.9245264\tbest: 58.9245264 (12)\ttotal: 15.3ms\tremaining: 41.2ms\n",
      "13:\tlearn: 46.9823248\ttest: 57.8852262\tbest: 57.8852262 (13)\ttotal: 16.5ms\tremaining: 40ms\n",
      "14:\tlearn: 45.9626273\ttest: 56.8681267\tbest: 56.8681267 (14)\ttotal: 17.7ms\tremaining: 38.9ms\n",
      "15:\tlearn: 45.0006935\ttest: 55.8134089\tbest: 55.8134089 (15)\ttotal: 18.9ms\tremaining: 37.8ms\n",
      "16:\tlearn: 44.0606857\ttest: 54.8521227\tbest: 54.8521227 (16)\ttotal: 20.1ms\tremaining: 36.7ms\n",
      "17:\tlearn: 43.1611226\ttest: 53.8395471\tbest: 53.8395471 (17)\ttotal: 21.4ms\tremaining: 35.7ms\n",
      "18:\tlearn: 42.2459347\ttest: 52.8714808\tbest: 52.8714808 (18)\ttotal: 22.6ms\tremaining: 34.5ms\n",
      "19:\tlearn: 41.4558493\ttest: 52.0699546\tbest: 52.0699546 (19)\ttotal: 23.9ms\tremaining: 33.4ms\n",
      "20:\tlearn: 40.6259963\ttest: 51.2601599\tbest: 51.2601599 (20)\ttotal: 25.4ms\tremaining: 32.6ms\n",
      "21:\tlearn: 39.7887812\ttest: 50.3825510\tbest: 50.3825510 (21)\ttotal: 26.6ms\tremaining: 31.4ms\n",
      "22:\tlearn: 39.0725979\ttest: 49.6779925\tbest: 49.6779925 (22)\ttotal: 28ms\tremaining: 30.5ms\n",
      "23:\tlearn: 38.3166577\ttest: 48.8688098\tbest: 48.8688098 (23)\ttotal: 29.4ms\tremaining: 29.4ms\n",
      "24:\tlearn: 37.6000787\ttest: 48.1223875\tbest: 48.1223875 (24)\ttotal: 30.7ms\tremaining: 28.2ms\n",
      "25:\tlearn: 36.8989136\ttest: 47.3386565\tbest: 47.3386565 (25)\ttotal: 31.9ms\tremaining: 27ms\n",
      "26:\tlearn: 36.1733559\ttest: 46.5232683\tbest: 46.5232683 (26)\ttotal: 33.8ms\tremaining: 26.3ms\n",
      "27:\tlearn: 35.5641399\ttest: 45.8532883\tbest: 45.8532883 (27)\ttotal: 35.1ms\tremaining: 25.1ms\n",
      "28:\tlearn: 34.9067560\ttest: 45.1453915\tbest: 45.1453915 (28)\ttotal: 36.5ms\tremaining: 23.9ms\n",
      "29:\tlearn: 34.2686055\ttest: 44.3970060\tbest: 44.3970060 (29)\ttotal: 37.8ms\tremaining: 22.7ms\n",
      "30:\tlearn: 33.6741728\ttest: 43.6650025\tbest: 43.6650025 (30)\ttotal: 39.4ms\tremaining: 21.6ms\n",
      "31:\tlearn: 33.1043919\ttest: 43.0257912\tbest: 43.0257912 (31)\ttotal: 40.8ms\tremaining: 20.4ms\n",
      "32:\tlearn: 32.5554525\ttest: 42.4240913\tbest: 42.4240913 (32)\ttotal: 42.1ms\tremaining: 19.1ms\n",
      "33:\tlearn: 32.0724014\ttest: 41.8771789\tbest: 41.8771789 (33)\ttotal: 43.4ms\tremaining: 17.9ms\n",
      "34:\tlearn: 31.5650148\ttest: 41.2727275\tbest: 41.2727275 (34)\ttotal: 44.7ms\tremaining: 16.6ms\n",
      "35:\tlearn: 31.0737367\ttest: 40.7558443\tbest: 40.7558443 (35)\ttotal: 46.1ms\tremaining: 15.4ms\n",
      "36:\tlearn: 30.5564677\ttest: 40.2155863\tbest: 40.2155863 (36)\ttotal: 47.9ms\tremaining: 14.2ms\n",
      "37:\tlearn: 30.1108642\ttest: 39.7311301\tbest: 39.7311301 (37)\ttotal: 49.4ms\tremaining: 13ms\n",
      "38:\tlearn: 29.6792200\ttest: 39.2025749\tbest: 39.2025749 (38)\ttotal: 50.8ms\tremaining: 11.7ms\n"
     ]
    },
    {
     "name": "stdout",
     "output_type": "stream",
     "text": [
      "39:\tlearn: 29.2623957\ttest: 38.7290032\tbest: 38.7290032 (39)\ttotal: 52.4ms\tremaining: 10.5ms\n",
      "40:\tlearn: 28.8838984\ttest: 38.3963887\tbest: 38.3963887 (40)\ttotal: 55.6ms\tremaining: 9.49ms\n",
      "41:\tlearn: 28.4783133\ttest: 37.8797303\tbest: 37.8797303 (41)\ttotal: 56.9ms\tremaining: 8.13ms\n",
      "42:\tlearn: 28.0901154\ttest: 37.4564168\tbest: 37.4564168 (42)\ttotal: 58.2ms\tremaining: 6.76ms\n",
      "43:\tlearn: 27.7185920\ttest: 37.0356560\tbest: 37.0356560 (43)\ttotal: 59.5ms\tremaining: 5.41ms\n",
      "44:\tlearn: 27.3591416\ttest: 36.6212142\tbest: 36.6212142 (44)\ttotal: 60.8ms\tremaining: 4.05ms\n",
      "45:\tlearn: 27.0504484\ttest: 36.2549036\tbest: 36.2549036 (45)\ttotal: 62.1ms\tremaining: 2.7ms\n",
      "46:\tlearn: 26.7384662\ttest: 35.9166971\tbest: 35.9166971 (46)\ttotal: 63.5ms\tremaining: 1.35ms\n",
      "47:\tlearn: 26.4312012\ttest: 35.6086183\tbest: 35.6086183 (47)\ttotal: 64.8ms\tremaining: 0us\n",
      "\n",
      "bestTest = 35.60861825\n",
      "bestIteration = 47\n",
      "\n",
      "Training on fold [3/10]\n",
      "0:\tlearn: 66.1484546\ttest: 74.2149907\tbest: 74.2149907 (0)\ttotal: 1.46ms\tremaining: 68.4ms\n",
      "1:\tlearn: 64.4917007\ttest: 72.4861558\tbest: 72.4861558 (1)\ttotal: 2.77ms\tremaining: 63.6ms\n",
      "2:\tlearn: 62.8969437\ttest: 70.7914010\tbest: 70.7914010 (2)\ttotal: 3.95ms\tremaining: 59.3ms\n",
      "3:\tlearn: 61.3754155\ttest: 69.2303712\tbest: 69.2303712 (3)\ttotal: 5.31ms\tremaining: 58.4ms\n",
      "4:\tlearn: 59.9310083\ttest: 67.7077805\tbest: 67.7077805 (4)\ttotal: 6.56ms\tremaining: 56.4ms\n",
      "5:\tlearn: 58.5187194\ttest: 66.2704922\tbest: 66.2704922 (5)\ttotal: 8.32ms\tremaining: 58.2ms\n",
      "6:\tlearn: 57.1722780\ttest: 64.9631578\tbest: 64.9631578 (6)\ttotal: 9.58ms\tremaining: 56.1ms\n",
      "7:\tlearn: 55.8571574\ttest: 63.5312415\tbest: 63.5312415 (7)\ttotal: 11.3ms\tremaining: 56.5ms\n",
      "8:\tlearn: 54.5193408\ttest: 62.1324959\tbest: 62.1324959 (8)\ttotal: 12.8ms\tremaining: 55.6ms\n",
      "9:\tlearn: 53.2786526\ttest: 60.8047175\tbest: 60.8047175 (9)\ttotal: 14.2ms\tremaining: 53.8ms\n",
      "10:\tlearn: 52.0434751\ttest: 59.5229730\tbest: 59.5229730 (10)\ttotal: 15.8ms\tremaining: 53.1ms\n",
      "11:\tlearn: 50.9514579\ttest: 58.4210227\tbest: 58.4210227 (11)\ttotal: 17.4ms\tremaining: 52.2ms\n",
      "12:\tlearn: 49.9036023\ttest: 57.3574106\tbest: 57.3574106 (12)\ttotal: 18.9ms\tremaining: 51ms\n",
      "13:\tlearn: 48.7799721\ttest: 56.1592697\tbest: 56.1592697 (13)\ttotal: 20.3ms\tremaining: 49.3ms\n",
      "14:\tlearn: 47.7194128\ttest: 54.9946128\tbest: 54.9946128 (14)\ttotal: 21.7ms\tremaining: 47.7ms\n",
      "15:\tlearn: 46.6863478\ttest: 53.8720907\tbest: 53.8720907 (15)\ttotal: 22.9ms\tremaining: 45.8ms\n",
      "16:\tlearn: 45.6699369\ttest: 52.8136534\tbest: 52.8136534 (16)\ttotal: 24.4ms\tremaining: 44.5ms\n",
      "17:\tlearn: 44.7089239\ttest: 51.8151239\tbest: 51.8151239 (17)\ttotal: 25.7ms\tremaining: 42.8ms\n",
      "18:\tlearn: 43.7861897\ttest: 50.8292259\tbest: 50.8292259 (18)\ttotal: 26.9ms\tremaining: 41.1ms\n",
      "19:\tlearn: 42.8369231\ttest: 49.7921272\tbest: 49.7921272 (19)\ttotal: 28.2ms\tremaining: 39.4ms\n",
      "20:\tlearn: 42.0791154\ttest: 49.0000722\tbest: 49.0000722 (20)\ttotal: 29.4ms\tremaining: 37.8ms\n",
      "21:\tlearn: 41.2458641\ttest: 48.0814388\tbest: 48.0814388 (21)\ttotal: 30.7ms\tremaining: 36.3ms\n",
      "22:\tlearn: 40.5279205\ttest: 47.3470080\tbest: 47.3470080 (22)\ttotal: 32ms\tremaining: 34.7ms\n",
      "23:\tlearn: 39.7172368\ttest: 46.4489165\tbest: 46.4489165 (23)\ttotal: 33.2ms\tremaining: 33.2ms\n",
      "24:\tlearn: 39.0132465\ttest: 45.7169172\tbest: 45.7169172 (24)\ttotal: 34.4ms\tremaining: 31.7ms\n",
      "25:\tlearn: 38.2543865\ttest: 44.9585752\tbest: 44.9585752 (25)\ttotal: 35.7ms\tremaining: 30.2ms\n",
      "26:\tlearn: 37.5194069\ttest: 44.1408818\tbest: 44.1408818 (26)\ttotal: 36.9ms\tremaining: 28.7ms\n",
      "27:\tlearn: 36.8313782\ttest: 43.4153724\tbest: 43.4153724 (27)\ttotal: 38.6ms\tremaining: 27.6ms\n",
      "28:\tlearn: 36.1477771\ttest: 42.6682073\tbest: 42.6682073 (28)\ttotal: 39.9ms\tremaining: 26.1ms\n",
      "29:\tlearn: 35.4944956\ttest: 41.9384833\tbest: 41.9384833 (29)\ttotal: 41.1ms\tremaining: 24.6ms\n",
      "30:\tlearn: 34.8862752\ttest: 41.2627767\tbest: 41.2627767 (30)\ttotal: 42.3ms\tremaining: 23.2ms\n",
      "31:\tlearn: 34.2785487\ttest: 40.6011376\tbest: 40.6011376 (31)\ttotal: 43.5ms\tremaining: 21.7ms\n",
      "32:\tlearn: 33.6949933\ttest: 39.9415525\tbest: 39.9415525 (32)\ttotal: 44.7ms\tremaining: 20.3ms\n",
      "33:\tlearn: 33.1719119\ttest: 39.3470771\tbest: 39.3470771 (33)\ttotal: 46.2ms\tremaining: 19ms\n",
      "34:\tlearn: 32.6254914\ttest: 38.7428149\tbest: 38.7428149 (34)\ttotal: 47.4ms\tremaining: 17.6ms\n",
      "35:\tlearn: 32.1142953\ttest: 38.1570726\tbest: 38.1570726 (35)\ttotal: 48.7ms\tremaining: 16.2ms\n",
      "36:\tlearn: 31.6304593\ttest: 37.6614477\tbest: 37.6614477 (36)\ttotal: 49.9ms\tremaining: 14.8ms\n",
      "37:\tlearn: 31.1886695\ttest: 37.1992105\tbest: 37.1992105 (37)\ttotal: 51.1ms\tremaining: 13.4ms\n",
      "38:\tlearn: 30.7397035\ttest: 36.6925919\tbest: 36.6925919 (38)\ttotal: 52.6ms\tremaining: 12.1ms\n",
      "39:\tlearn: 30.2900049\ttest: 36.1921972\tbest: 36.1921972 (39)\ttotal: 53.9ms\tremaining: 10.8ms\n",
      "40:\tlearn: 29.8692462\ttest: 35.7541782\tbest: 35.7541782 (40)\ttotal: 55.1ms\tremaining: 9.41ms\n",
      "41:\tlearn: 29.4696673\ttest: 35.3015246\tbest: 35.3015246 (41)\ttotal: 56.4ms\tremaining: 8.06ms\n",
      "42:\tlearn: 29.1163905\ttest: 34.9479209\tbest: 34.9479209 (42)\ttotal: 57.6ms\tremaining: 6.7ms\n",
      "43:\tlearn: 28.7303912\ttest: 34.5455545\tbest: 34.5455545 (43)\ttotal: 59ms\tremaining: 5.36ms\n",
      "44:\tlearn: 28.3924361\ttest: 34.1768954\tbest: 34.1768954 (44)\ttotal: 60.2ms\tremaining: 4.02ms\n",
      "45:\tlearn: 28.0885877\ttest: 33.8553918\tbest: 33.8553918 (45)\ttotal: 61.5ms\tremaining: 2.67ms\n",
      "46:\tlearn: 27.7662664\ttest: 33.4873797\tbest: 33.4873797 (46)\ttotal: 62.7ms\tremaining: 1.33ms\n",
      "47:\tlearn: 27.4455574\ttest: 33.1366838\tbest: 33.1366838 (47)\ttotal: 64.1ms\tremaining: 0us\n",
      "\n",
      "bestTest = 33.13668383\n",
      "bestIteration = 47\n",
      "\n",
      "Training on fold [4/10]\n",
      "0:\tlearn: 67.7838879\ttest: 85.8043231\tbest: 85.8043231 (0)\ttotal: 1.39ms\tremaining: 65.3ms\n",
      "1:\tlearn: 66.0730032\ttest: 83.9877192\tbest: 83.9877192 (1)\ttotal: 2.58ms\tremaining: 59.4ms\n",
      "2:\tlearn: 64.4273488\ttest: 82.1877656\tbest: 82.1877656 (2)\ttotal: 3.77ms\tremaining: 56.6ms\n",
      "3:\tlearn: 62.8625501\ttest: 80.5491384\tbest: 80.5491384 (3)\ttotal: 4.96ms\tremaining: 54.6ms\n",
      "4:\tlearn: 61.3685966\ttest: 78.9442983\tbest: 78.9442983 (4)\ttotal: 6.22ms\tremaining: 53.5ms\n",
      "5:\tlearn: 59.9065784\ttest: 77.3971739\tbest: 77.3971739 (5)\ttotal: 7.45ms\tremaining: 52.1ms\n",
      "6:\tlearn: 58.5271075\ttest: 76.0817257\tbest: 76.0817257 (6)\ttotal: 8.79ms\tremaining: 51.5ms\n",
      "7:\tlearn: 57.1745283\ttest: 74.5207019\tbest: 74.5207019 (7)\ttotal: 10.1ms\tremaining: 50.5ms\n",
      "8:\tlearn: 55.8861188\ttest: 73.0427163\tbest: 73.0427163 (8)\ttotal: 11.4ms\tremaining: 49.3ms\n",
      "9:\tlearn: 54.6056541\ttest: 71.6292362\tbest: 71.6292362 (9)\ttotal: 12.7ms\tremaining: 48.3ms\n",
      "10:\tlearn: 53.3391804\ttest: 70.2728794\tbest: 70.2728794 (10)\ttotal: 14.2ms\tremaining: 47.6ms\n",
      "11:\tlearn: 52.2151818\ttest: 69.1526274\tbest: 69.1526274 (11)\ttotal: 15.5ms\tremaining: 46.6ms\n",
      "12:\tlearn: 51.0479643\ttest: 67.8407917\tbest: 67.8407917 (12)\ttotal: 17ms\tremaining: 45.6ms\n",
      "13:\tlearn: 49.8927200\ttest: 66.5622577\tbest: 66.5622577 (13)\ttotal: 18.3ms\tremaining: 44.4ms\n",
      "14:\tlearn: 48.7909728\ttest: 65.3246968\tbest: 65.3246968 (14)\ttotal: 19.7ms\tremaining: 43.3ms\n",
      "15:\tlearn: 47.7317856\ttest: 64.1234104\tbest: 64.1234104 (15)\ttotal: 21.1ms\tremaining: 42.2ms\n",
      "16:\tlearn: 46.6943939\ttest: 63.0029288\tbest: 63.0029288 (16)\ttotal: 22.6ms\tremaining: 41.2ms\n",
      "17:\tlearn: 45.7086239\ttest: 61.9585191\tbest: 61.9585191 (17)\ttotal: 24ms\tremaining: 40.1ms\n",
      "18:\tlearn: 44.7874320\ttest: 60.9983556\tbest: 60.9983556 (18)\ttotal: 25.6ms\tremaining: 39.1ms\n",
      "19:\tlearn: 43.8218966\ttest: 59.8504398\tbest: 59.8504398 (19)\ttotal: 27ms\tremaining: 37.7ms\n",
      "20:\tlearn: 43.0420453\ttest: 59.0185029\tbest: 59.0185029 (20)\ttotal: 28.4ms\tremaining: 36.5ms\n",
      "21:\tlearn: 42.1805264\ttest: 58.0369645\tbest: 58.0369645 (21)\ttotal: 29.7ms\tremaining: 35.1ms\n",
      "22:\tlearn: 41.4458474\ttest: 57.2643541\tbest: 57.2643541 (22)\ttotal: 31.2ms\tremaining: 33.9ms\n",
      "23:\tlearn: 40.6133187\ttest: 56.2845030\tbest: 56.2845030 (23)\ttotal: 32.8ms\tremaining: 32.8ms\n",
      "24:\tlearn: 39.8680711\ttest: 55.3665486\tbest: 55.3665486 (24)\ttotal: 34.2ms\tremaining: 31.4ms\n",
      "25:\tlearn: 39.0753158\ttest: 54.3804491\tbest: 54.3804491 (25)\ttotal: 35.6ms\tremaining: 30.1ms\n",
      "26:\tlearn: 38.3324457\ttest: 53.4852459\tbest: 53.4852459 (26)\ttotal: 37ms\tremaining: 28.8ms\n",
      "27:\tlearn: 37.6636072\ttest: 52.6071682\tbest: 52.6071682 (27)\ttotal: 38.4ms\tremaining: 27.5ms\n",
      "28:\tlearn: 36.9557811\ttest: 51.7263643\tbest: 51.7263643 (28)\ttotal: 39.9ms\tremaining: 26.1ms\n",
      "29:\tlearn: 36.3036578\ttest: 50.8020901\tbest: 50.8020901 (29)\ttotal: 41.3ms\tremaining: 24.8ms\n",
      "30:\tlearn: 35.6750933\ttest: 50.0387871\tbest: 50.0387871 (30)\ttotal: 42.8ms\tremaining: 23.5ms\n",
      "31:\tlearn: 35.0324460\ttest: 49.2865555\tbest: 49.2865555 (31)\ttotal: 44.2ms\tremaining: 22.1ms\n"
     ]
    },
    {
     "name": "stdout",
     "output_type": "stream",
     "text": [
      "32:\tlearn: 34.4333709\ttest: 48.4665420\tbest: 48.4665420 (32)\ttotal: 46ms\tremaining: 20.9ms\n",
      "33:\tlearn: 33.8971123\ttest: 47.8458798\tbest: 47.8458798 (33)\ttotal: 47.5ms\tremaining: 19.5ms\n",
      "34:\tlearn: 33.3372737\ttest: 47.1044168\tbest: 47.1044168 (34)\ttotal: 49ms\tremaining: 18.2ms\n",
      "35:\tlearn: 32.8096938\ttest: 46.5239575\tbest: 46.5239575 (35)\ttotal: 50.5ms\tremaining: 16.8ms\n",
      "36:\tlearn: 32.3156171\ttest: 45.9761232\tbest: 45.9761232 (36)\ttotal: 52.1ms\tremaining: 15.5ms\n",
      "37:\tlearn: 31.8467967\ttest: 45.4825140\tbest: 45.4825140 (37)\ttotal: 53.6ms\tremaining: 14.1ms\n",
      "38:\tlearn: 31.4311461\ttest: 44.9628298\tbest: 44.9628298 (38)\ttotal: 55.1ms\tremaining: 12.7ms\n",
      "39:\tlearn: 30.9649939\ttest: 44.3741528\tbest: 44.3741528 (39)\ttotal: 56.6ms\tremaining: 11.3ms\n",
      "40:\tlearn: 30.5399919\ttest: 43.9100729\tbest: 43.9100729 (40)\ttotal: 58.6ms\tremaining: 10ms\n",
      "41:\tlearn: 30.1370688\ttest: 43.4027698\tbest: 43.4027698 (41)\ttotal: 60.7ms\tremaining: 8.66ms\n",
      "42:\tlearn: 29.7673575\ttest: 42.9899168\tbest: 42.9899168 (42)\ttotal: 62.3ms\tremaining: 7.24ms\n",
      "43:\tlearn: 29.3907719\ttest: 42.5827299\tbest: 42.5827299 (43)\ttotal: 63.7ms\tremaining: 5.79ms\n",
      "44:\tlearn: 29.0321861\ttest: 42.0961261\tbest: 42.0961261 (44)\ttotal: 65.2ms\tremaining: 4.35ms\n",
      "45:\tlearn: 28.7259655\ttest: 41.7511069\tbest: 41.7511069 (45)\ttotal: 66.6ms\tremaining: 2.89ms\n",
      "46:\tlearn: 28.3958576\ttest: 41.3561140\tbest: 41.3561140 (46)\ttotal: 67.9ms\tremaining: 1.44ms\n",
      "47:\tlearn: 28.0692529\ttest: 40.9301322\tbest: 40.9301322 (47)\ttotal: 69.3ms\tremaining: 0us\n",
      "\n",
      "bestTest = 40.93013215\n",
      "bestIteration = 47\n",
      "\n",
      "Training on fold [5/10]\n",
      "0:\tlearn: 71.0246698\ttest: 84.1477521\tbest: 84.1477521 (0)\ttotal: 1.44ms\tremaining: 67.5ms\n",
      "1:\tlearn: 69.2308672\ttest: 82.1749041\tbest: 82.1749041 (1)\ttotal: 2.63ms\tremaining: 60.5ms\n",
      "2:\tlearn: 67.4939682\ttest: 80.2580859\tbest: 80.2580859 (2)\ttotal: 3.87ms\tremaining: 58ms\n",
      "3:\tlearn: 65.8630240\ttest: 78.3354907\tbest: 78.3354907 (3)\ttotal: 5.14ms\tremaining: 56.5ms\n",
      "4:\tlearn: 64.2950255\ttest: 76.6315894\tbest: 76.6315894 (4)\ttotal: 6.46ms\tremaining: 55.6ms\n",
      "5:\tlearn: 62.7734276\ttest: 74.9870257\tbest: 74.9870257 (5)\ttotal: 7.75ms\tremaining: 54.3ms\n",
      "6:\tlearn: 61.2815480\ttest: 73.4212134\tbest: 73.4212134 (6)\ttotal: 9.07ms\tremaining: 53.1ms\n",
      "7:\tlearn: 59.8564402\ttest: 71.7402045\tbest: 71.7402045 (7)\ttotal: 10.4ms\tremaining: 52ms\n",
      "8:\tlearn: 58.4900080\ttest: 70.1972494\tbest: 70.1972494 (8)\ttotal: 11.9ms\tremaining: 51.7ms\n",
      "9:\tlearn: 57.1497325\ttest: 68.6943797\tbest: 68.6943797 (9)\ttotal: 13.3ms\tremaining: 50.7ms\n",
      "10:\tlearn: 55.8390560\ttest: 67.1655633\tbest: 67.1655633 (10)\ttotal: 14.7ms\tremaining: 49.5ms\n",
      "11:\tlearn: 54.6721102\ttest: 65.9143637\tbest: 65.9143637 (11)\ttotal: 16.1ms\tremaining: 48.3ms\n",
      "12:\tlearn: 53.4484506\ttest: 64.4904788\tbest: 64.4904788 (12)\ttotal: 17.5ms\tremaining: 47.1ms\n",
      "13:\tlearn: 52.2339563\ttest: 63.1349118\tbest: 63.1349118 (13)\ttotal: 18.9ms\tremaining: 45.8ms\n",
      "14:\tlearn: 51.0751445\ttest: 61.8042325\tbest: 61.8042325 (14)\ttotal: 20.3ms\tremaining: 44.6ms\n",
      "15:\tlearn: 49.9672925\ttest: 60.5181057\tbest: 60.5181057 (15)\ttotal: 21.7ms\tremaining: 43.4ms\n",
      "16:\tlearn: 48.9417166\ttest: 59.3719098\tbest: 59.3719098 (16)\ttotal: 23.1ms\tremaining: 42.2ms\n",
      "17:\tlearn: 47.9078901\ttest: 58.1833614\tbest: 58.1833614 (17)\ttotal: 24.7ms\tremaining: 41.1ms\n",
      "18:\tlearn: 46.9069293\ttest: 57.0132028\tbest: 57.0132028 (18)\ttotal: 26.2ms\tremaining: 40ms\n",
      "19:\tlearn: 45.8875171\ttest: 55.8159753\tbest: 55.8159753 (19)\ttotal: 27.7ms\tremaining: 38.7ms\n",
      "20:\tlearn: 45.0709735\ttest: 54.9250407\tbest: 54.9250407 (20)\ttotal: 29.1ms\tremaining: 37.4ms\n",
      "21:\tlearn: 44.1401535\ttest: 53.8190153\tbest: 53.8190153 (21)\ttotal: 30.5ms\tremaining: 36.1ms\n",
      "22:\tlearn: 43.3707343\ttest: 53.0000832\tbest: 53.0000832 (22)\ttotal: 32ms\tremaining: 34.8ms\n",
      "23:\tlearn: 42.4985840\ttest: 51.9454602\tbest: 51.9454602 (23)\ttotal: 33.5ms\tremaining: 33.5ms\n",
      "24:\tlearn: 41.7285026\ttest: 51.0178896\tbest: 51.0178896 (24)\ttotal: 35ms\tremaining: 32.2ms\n",
      "25:\tlearn: 40.9183904\ttest: 50.0003224\tbest: 50.0003224 (25)\ttotal: 36.5ms\tremaining: 30.9ms\n",
      "26:\tlearn: 40.1211301\ttest: 49.0074419\tbest: 49.0074419 (26)\ttotal: 38ms\tremaining: 29.5ms\n",
      "27:\tlearn: 39.3692416\ttest: 48.0637655\tbest: 48.0637655 (27)\ttotal: 39.5ms\tremaining: 28.2ms\n",
      "28:\tlearn: 38.6295291\ttest: 47.1826140\tbest: 47.1826140 (28)\ttotal: 41.4ms\tremaining: 27.1ms\n",
      "29:\tlearn: 37.9138094\ttest: 46.2749853\tbest: 46.2749853 (29)\ttotal: 42.9ms\tremaining: 25.7ms\n",
      "30:\tlearn: 37.2550367\ttest: 45.4632827\tbest: 45.4632827 (30)\ttotal: 44.3ms\tremaining: 24.3ms\n",
      "31:\tlearn: 36.6034807\ttest: 44.6522236\tbest: 44.6522236 (31)\ttotal: 45.7ms\tremaining: 22.9ms\n",
      "32:\tlearn: 35.9702796\ttest: 43.8419803\tbest: 43.8419803 (32)\ttotal: 47.2ms\tremaining: 21.4ms\n",
      "33:\tlearn: 35.3955513\ttest: 43.1418320\tbest: 43.1418320 (33)\ttotal: 48.6ms\tremaining: 20ms\n",
      "34:\tlearn: 34.8049754\ttest: 42.4125510\tbest: 42.4125510 (34)\ttotal: 50.1ms\tremaining: 18.6ms\n",
      "35:\tlearn: 34.2560353\ttest: 41.7435423\tbest: 41.7435423 (35)\ttotal: 51.6ms\tremaining: 17.2ms\n",
      "36:\tlearn: 33.6971485\ttest: 41.0983385\tbest: 41.0983385 (36)\ttotal: 53.3ms\tremaining: 15.8ms\n",
      "37:\tlearn: 33.1968414\ttest: 40.4944717\tbest: 40.4944717 (37)\ttotal: 54.9ms\tremaining: 14.4ms\n",
      "38:\tlearn: 32.7199797\ttest: 39.9048480\tbest: 39.9048480 (38)\ttotal: 56.4ms\tremaining: 13ms\n",
      "39:\tlearn: 32.2600158\ttest: 39.2826248\tbest: 39.2826248 (39)\ttotal: 57.8ms\tremaining: 11.6ms\n",
      "40:\tlearn: 31.8132868\ttest: 38.8061147\tbest: 38.8061147 (40)\ttotal: 59.2ms\tremaining: 10.1ms\n",
      "41:\tlearn: 31.3943925\ttest: 38.2711009\tbest: 38.2711009 (41)\ttotal: 60.7ms\tremaining: 8.67ms\n",
      "42:\tlearn: 30.9664365\ttest: 37.7185516\tbest: 37.7185516 (42)\ttotal: 62.2ms\tremaining: 7.23ms\n",
      "43:\tlearn: 30.5818197\ttest: 37.2418693\tbest: 37.2418693 (43)\ttotal: 63.7ms\tremaining: 5.79ms\n",
      "44:\tlearn: 30.1941851\ttest: 36.8098235\tbest: 36.8098235 (44)\ttotal: 65.1ms\tremaining: 4.34ms\n",
      "45:\tlearn: 29.8791699\ttest: 36.4553111\tbest: 36.4553111 (45)\ttotal: 66.6ms\tremaining: 2.89ms\n",
      "46:\tlearn: 29.5171529\ttest: 35.9586060\tbest: 35.9586060 (46)\ttotal: 68ms\tremaining: 1.45ms\n",
      "47:\tlearn: 29.1876926\ttest: 35.5322012\tbest: 35.5322012 (47)\ttotal: 69.6ms\tremaining: 0us\n",
      "\n",
      "bestTest = 35.53220121\n",
      "bestIteration = 47\n",
      "\n",
      "Training on fold [6/10]\n",
      "0:\tlearn: 72.9925716\ttest: 90.0437844\tbest: 90.0437844 (0)\ttotal: 1.52ms\tremaining: 71.3ms\n",
      "1:\tlearn: 71.1387978\ttest: 87.9877922\tbest: 87.9877922 (1)\ttotal: 2.79ms\tremaining: 64.2ms\n",
      "2:\tlearn: 69.3476332\ttest: 85.9451725\tbest: 85.9451725 (2)\ttotal: 4.05ms\tremaining: 60.8ms\n",
      "3:\tlearn: 67.5996045\ttest: 83.9217040\tbest: 83.9217040 (3)\ttotal: 5.54ms\tremaining: 60.9ms\n",
      "4:\tlearn: 65.9904228\ttest: 82.2993538\tbest: 82.2993538 (4)\ttotal: 6.87ms\tremaining: 59.1ms\n",
      "5:\tlearn: 64.4035473\ttest: 80.4921428\tbest: 80.4921428 (5)\ttotal: 8.23ms\tremaining: 57.6ms\n",
      "6:\tlearn: 62.8597384\ttest: 78.8637248\tbest: 78.8637248 (6)\ttotal: 9.69ms\tremaining: 56.7ms\n",
      "7:\tlearn: 61.3764405\ttest: 77.0549803\tbest: 77.0549803 (7)\ttotal: 11.3ms\tremaining: 56.4ms\n",
      "8:\tlearn: 59.9577727\ttest: 75.3314681\tbest: 75.3314681 (8)\ttotal: 12.7ms\tremaining: 54.9ms\n",
      "9:\tlearn: 58.5663902\ttest: 73.7384687\tbest: 73.7384687 (9)\ttotal: 14.2ms\tremaining: 53.8ms\n",
      "10:\tlearn: 57.1975576\ttest: 72.1731541\tbest: 72.1731541 (10)\ttotal: 15.6ms\tremaining: 52.4ms\n",
      "11:\tlearn: 55.9839019\ttest: 70.8496390\tbest: 70.8496390 (11)\ttotal: 17ms\tremaining: 51ms\n",
      "12:\tlearn: 54.6995416\ttest: 69.3954175\tbest: 69.3954175 (12)\ttotal: 18.4ms\tremaining: 49.7ms\n",
      "13:\tlearn: 53.4512327\ttest: 67.9727196\tbest: 67.9727196 (13)\ttotal: 19.9ms\tremaining: 48.4ms\n",
      "14:\tlearn: 52.2531166\ttest: 66.5847467\tbest: 66.5847467 (14)\ttotal: 21.4ms\tremaining: 47.1ms\n",
      "15:\tlearn: 51.1030197\ttest: 65.2491665\tbest: 65.2491665 (15)\ttotal: 23ms\tremaining: 45.9ms\n",
      "16:\tlearn: 49.9879418\ttest: 63.9327723\tbest: 63.9327723 (16)\ttotal: 24.5ms\tremaining: 44.6ms\n",
      "17:\tlearn: 48.9241964\ttest: 62.7058455\tbest: 62.7058455 (17)\ttotal: 26.1ms\tremaining: 43.5ms\n",
      "18:\tlearn: 47.8849902\ttest: 61.3169612\tbest: 61.3169612 (18)\ttotal: 27.7ms\tremaining: 42.2ms\n",
      "19:\tlearn: 46.8434494\ttest: 60.0394655\tbest: 60.0394655 (19)\ttotal: 29.2ms\tremaining: 40.9ms\n",
      "20:\tlearn: 45.9918824\ttest: 59.0874882\tbest: 59.0874882 (20)\ttotal: 30.9ms\tremaining: 39.7ms\n",
      "21:\tlearn: 45.0506429\ttest: 57.9829533\tbest: 57.9829533 (21)\ttotal: 32.9ms\tremaining: 38.9ms\n",
      "22:\tlearn: 44.2540039\ttest: 57.0947529\tbest: 57.0947529 (22)\ttotal: 34.6ms\tremaining: 37.7ms\n",
      "23:\tlearn: 43.3469624\ttest: 55.9420690\tbest: 55.9420690 (23)\ttotal: 36.3ms\tremaining: 36.3ms\n",
      "24:\tlearn: 42.5450731\ttest: 54.9373025\tbest: 54.9373025 (24)\ttotal: 38ms\tremaining: 35ms\n",
      "25:\tlearn: 41.6885886\ttest: 53.8165904\tbest: 53.8165904 (25)\ttotal: 39.9ms\tremaining: 33.7ms\n",
      "26:\tlearn: 40.8733754\ttest: 52.7201849\tbest: 52.7201849 (26)\ttotal: 41.7ms\tremaining: 32.4ms\n",
      "27:\tlearn: 40.0900850\ttest: 51.6707619\tbest: 51.6707619 (27)\ttotal: 43.4ms\tremaining: 31ms\n",
      "28:\tlearn: 39.3369442\ttest: 50.7099832\tbest: 50.7099832 (28)\ttotal: 45.2ms\tremaining: 29.6ms\n",
      "29:\tlearn: 38.6049525\ttest: 49.6838954\tbest: 49.6838954 (29)\ttotal: 46.8ms\tremaining: 28.1ms\n",
      "30:\tlearn: 37.9142904\ttest: 48.7945131\tbest: 48.7945131 (30)\ttotal: 48.6ms\tremaining: 26.7ms\n",
      "31:\tlearn: 37.2477058\ttest: 47.9338008\tbest: 47.9338008 (31)\ttotal: 50.1ms\tremaining: 25.1ms\n",
      "32:\tlearn: 36.6589740\ttest: 47.1420640\tbest: 47.1420640 (32)\ttotal: 51.6ms\tremaining: 23.5ms\n",
      "33:\tlearn: 36.0421698\ttest: 46.1950902\tbest: 46.1950902 (33)\ttotal: 53.2ms\tremaining: 21.9ms\n",
      "34:\tlearn: 35.4381391\ttest: 45.3949154\tbest: 45.3949154 (34)\ttotal: 55ms\tremaining: 20.4ms\n",
      "35:\tlearn: 34.8765524\ttest: 44.6713189\tbest: 44.6713189 (35)\ttotal: 56.6ms\tremaining: 18.9ms\n",
      "36:\tlearn: 34.3150181\ttest: 43.9691549\tbest: 43.9691549 (36)\ttotal: 58.7ms\tremaining: 17.4ms\n",
      "37:\tlearn: 33.7876661\ttest: 43.2114448\tbest: 43.2114448 (37)\ttotal: 60.7ms\tremaining: 16ms\n",
      "38:\tlearn: 33.3126874\ttest: 42.5109812\tbest: 42.5109812 (38)\ttotal: 62.5ms\tremaining: 14.4ms\n",
      "39:\tlearn: 32.8131233\ttest: 41.8805952\tbest: 41.8805952 (39)\ttotal: 64ms\tremaining: 12.8ms\n",
      "40:\tlearn: 32.3561923\ttest: 41.2782341\tbest: 41.2782341 (40)\ttotal: 65.6ms\tremaining: 11.2ms\n",
      "41:\tlearn: 31.9210728\ttest: 40.6862542\tbest: 40.6862542 (41)\ttotal: 67.2ms\tremaining: 9.61ms\n",
      "42:\tlearn: 31.4900716\ttest: 40.0379310\tbest: 40.0379310 (42)\ttotal: 68.9ms\tremaining: 8.01ms\n",
      "43:\tlearn: 31.0920484\ttest: 39.5329394\tbest: 39.5329394 (43)\ttotal: 70.5ms\tremaining: 6.41ms\n",
      "44:\tlearn: 30.7011618\ttest: 38.9524966\tbest: 38.9524966 (44)\ttotal: 72.5ms\tremaining: 4.84ms\n",
      "45:\tlearn: 30.3771281\ttest: 38.5676443\tbest: 38.5676443 (45)\ttotal: 74.3ms\tremaining: 3.23ms\n",
      "46:\tlearn: 29.9999363\ttest: 38.0018308\tbest: 38.0018308 (46)\ttotal: 76.1ms\tremaining: 1.62ms\n",
      "47:\tlearn: 29.6558220\ttest: 37.5427414\tbest: 37.5427414 (47)\ttotal: 77.7ms\tremaining: 0us\n",
      "\n",
      "bestTest = 37.54274143\n",
      "bestIteration = 47\n",
      "\n",
      "Training on fold [7/10]\n",
      "0:\tlearn: 75.1967633\ttest: 97.4566588\tbest: 97.4566588 (0)\ttotal: 1.61ms\tremaining: 75.7ms\n",
      "1:\tlearn: 73.2743376\ttest: 95.3186447\tbest: 95.3186447 (1)\ttotal: 3.07ms\tremaining: 70.7ms\n",
      "2:\tlearn: 71.4203782\ttest: 93.1706528\tbest: 93.1706528 (2)\ttotal: 4.49ms\tremaining: 67.4ms\n",
      "3:\tlearn: 69.6093992\ttest: 91.0710017\tbest: 91.0710017 (3)\ttotal: 5.92ms\tremaining: 65.1ms\n",
      "4:\tlearn: 67.9137641\ttest: 89.1835253\tbest: 89.1835253 (4)\ttotal: 7.34ms\tremaining: 63.1ms\n",
      "5:\tlearn: 66.2592272\ttest: 87.2910655\tbest: 87.2910655 (5)\ttotal: 8.72ms\tremaining: 61ms\n",
      "6:\tlearn: 64.6590796\ttest: 85.5681141\tbest: 85.5681141 (6)\ttotal: 10.2ms\tremaining: 59.6ms\n",
      "7:\tlearn: 63.1105761\ttest: 83.6624861\tbest: 83.6624861 (7)\ttotal: 11.7ms\tremaining: 58.3ms\n",
      "8:\tlearn: 61.6261712\ttest: 81.8598236\tbest: 81.8598236 (8)\ttotal: 13.1ms\tremaining: 56.9ms\n",
      "9:\tlearn: 60.1933728\ttest: 80.1908433\tbest: 80.1908433 (9)\ttotal: 14.7ms\tremaining: 55.8ms\n",
      "10:\tlearn: 58.7709782\ttest: 78.5536940\tbest: 78.5536940 (10)\ttotal: 16.2ms\tremaining: 54.4ms\n",
      "11:\tlearn: 57.4017688\ttest: 77.0033248\tbest: 77.0033248 (11)\ttotal: 18ms\tremaining: 54ms\n",
      "12:\tlearn: 56.0815806\ttest: 75.4208008\tbest: 75.4208008 (12)\ttotal: 19.6ms\tremaining: 52.8ms\n",
      "13:\tlearn: 54.7866055\ttest: 73.9465198\tbest: 73.9465198 (13)\ttotal: 21.1ms\tremaining: 51.3ms\n",
      "14:\tlearn: 53.5388961\ttest: 72.5049206\tbest: 72.5049206 (14)\ttotal: 22.7ms\tremaining: 50ms\n",
      "15:\tlearn: 52.3442749\ttest: 71.0169358\tbest: 71.0169358 (15)\ttotal: 24.3ms\tremaining: 48.5ms\n",
      "16:\tlearn: 51.1876220\ttest: 69.6460605\tbest: 69.6460605 (16)\ttotal: 25.8ms\tremaining: 47.1ms\n",
      "17:\tlearn: 50.0795111\ttest: 68.3659217\tbest: 68.3659217 (17)\ttotal: 27.4ms\tremaining: 45.7ms\n",
      "18:\tlearn: 48.9980162\ttest: 66.9188667\tbest: 66.9188667 (18)\ttotal: 29.1ms\tremaining: 44.4ms\n",
      "19:\tlearn: 47.9141685\ttest: 65.5535893\tbest: 65.5535893 (19)\ttotal: 30.8ms\tremaining: 43.2ms\n",
      "20:\tlearn: 47.0208514\ttest: 64.5559688\tbest: 64.5559688 (20)\ttotal: 32.6ms\tremaining: 41.9ms\n",
      "21:\tlearn: 46.0622088\ttest: 63.4104012\tbest: 63.4104012 (21)\ttotal: 34.1ms\tremaining: 40.3ms\n",
      "22:\tlearn: 45.2299363\ttest: 62.4624086\tbest: 62.4624086 (22)\ttotal: 35.7ms\tremaining: 38.8ms\n",
      "23:\tlearn: 44.2912997\ttest: 61.2411748\tbest: 61.2411748 (23)\ttotal: 37.3ms\tremaining: 37.3ms\n",
      "24:\tlearn: 43.4532532\ttest: 60.1852546\tbest: 60.1852546 (24)\ttotal: 38.8ms\tremaining: 35.7ms\n",
      "25:\tlearn: 42.5720024\ttest: 58.9807480\tbest: 58.9807480 (25)\ttotal: 40.5ms\tremaining: 34.3ms\n",
      "26:\tlearn: 41.7221268\ttest: 57.8250362\tbest: 57.8250362 (26)\ttotal: 42.1ms\tremaining: 32.8ms\n",
      "27:\tlearn: 40.9079687\ttest: 56.7414428\tbest: 56.7414428 (27)\ttotal: 43.7ms\tremaining: 31.2ms\n",
      "28:\tlearn: 40.1201697\ttest: 55.6742211\tbest: 55.6742211 (28)\ttotal: 45.3ms\tremaining: 29.7ms\n",
      "29:\tlearn: 39.3713829\ttest: 54.6600754\tbest: 54.6600754 (29)\ttotal: 47.1ms\tremaining: 28.2ms\n",
      "30:\tlearn: 38.6506111\ttest: 53.7313996\tbest: 53.7313996 (30)\ttotal: 48.7ms\tremaining: 26.7ms\n",
      "31:\tlearn: 37.9576147\ttest: 52.8227168\tbest: 52.8227168 (31)\ttotal: 50.3ms\tremaining: 25.1ms\n",
      "32:\tlearn: 37.3425949\ttest: 51.9543255\tbest: 51.9543255 (32)\ttotal: 51.9ms\tremaining: 23.6ms\n",
      "33:\tlearn: 36.7270245\ttest: 51.1152830\tbest: 51.1152830 (33)\ttotal: 53.5ms\tremaining: 22ms\n",
      "34:\tlearn: 36.1013695\ttest: 50.2281478\tbest: 50.2281478 (34)\ttotal: 55.1ms\tremaining: 20.5ms\n",
      "35:\tlearn: 35.5187715\ttest: 49.4693858\tbest: 49.4693858 (35)\ttotal: 56.8ms\tremaining: 18.9ms\n",
      "36:\tlearn: 34.9616487\ttest: 48.7040343\tbest: 48.7040343 (36)\ttotal: 58.6ms\tremaining: 17.4ms\n",
      "37:\tlearn: 34.4482486\ttest: 48.0260614\tbest: 48.0260614 (37)\ttotal: 60.1ms\tremaining: 15.8ms\n",
      "38:\tlearn: 33.9557357\ttest: 47.2907283\tbest: 47.2907283 (38)\ttotal: 61.9ms\tremaining: 14.3ms\n",
      "39:\tlearn: 33.4365785\ttest: 46.5962923\tbest: 46.5962923 (39)\ttotal: 63.4ms\tremaining: 12.7ms\n",
      "40:\tlearn: 32.9636166\ttest: 45.8709940\tbest: 45.8709940 (40)\ttotal: 65.1ms\tremaining: 11.1ms\n",
      "41:\tlearn: 32.5058530\ttest: 45.2416980\tbest: 45.2416980 (41)\ttotal: 66.7ms\tremaining: 9.53ms\n",
      "42:\tlearn: 32.0598125\ttest: 44.6605602\tbest: 44.6605602 (42)\ttotal: 68.3ms\tremaining: 7.94ms\n",
      "43:\tlearn: 31.6509749\ttest: 44.1161893\tbest: 44.1161893 (43)\ttotal: 69.9ms\tremaining: 6.35ms\n",
      "44:\tlearn: 31.2439421\ttest: 43.5024123\tbest: 43.5024123 (44)\ttotal: 71.7ms\tremaining: 4.78ms\n",
      "45:\tlearn: 30.8662788\ttest: 42.9539634\tbest: 42.9539634 (45)\ttotal: 73.4ms\tremaining: 3.19ms\n",
      "46:\tlearn: 30.5123183\ttest: 42.4113813\tbest: 42.4113813 (46)\ttotal: 74.9ms\tremaining: 1.59ms\n",
      "47:\tlearn: 30.1496531\ttest: 41.9067787\tbest: 41.9067787 (47)\ttotal: 76.7ms\tremaining: 0us\n",
      "\n",
      "bestTest = 41.90677866\n",
      "bestIteration = 47\n",
      "\n",
      "Training on fold [8/10]\n",
      "0:\tlearn: 77.9288022\ttest: 108.4214538\tbest: 108.4214538 (0)\ttotal: 1.68ms\tremaining: 79ms\n",
      "1:\tlearn: 75.9308679\ttest: 106.0317508\tbest: 106.0317508 (1)\ttotal: 3.19ms\tremaining: 73.3ms\n"
     ]
    },
    {
     "name": "stdout",
     "output_type": "stream",
     "text": [
      "2:\tlearn: 73.9989115\ttest: 103.7879366\tbest: 103.7879366 (2)\ttotal: 5.19ms\tremaining: 77.9ms\n",
      "3:\tlearn: 72.1105527\ttest: 101.6048649\tbest: 101.6048649 (3)\ttotal: 6.99ms\tremaining: 76.9ms\n",
      "4:\tlearn: 70.3381337\ttest: 99.6070616\tbest: 99.6070616 (4)\ttotal: 8.68ms\tremaining: 74.6ms\n",
      "5:\tlearn: 68.6094623\ttest: 97.6401239\tbest: 97.6401239 (5)\ttotal: 10.6ms\tremaining: 74.1ms\n",
      "6:\tlearn: 66.9468636\ttest: 95.6412655\tbest: 95.6412655 (6)\ttotal: 12.3ms\tremaining: 72.2ms\n",
      "7:\tlearn: 65.3272235\ttest: 93.6309277\tbest: 93.6309277 (7)\ttotal: 14ms\tremaining: 70.2ms\n",
      "8:\tlearn: 63.7739183\ttest: 91.6952651\tbest: 91.6952651 (8)\ttotal: 15.9ms\tremaining: 68.8ms\n",
      "9:\tlearn: 62.2610570\ttest: 89.9572127\tbest: 89.9572127 (9)\ttotal: 17.7ms\tremaining: 67.3ms\n",
      "10:\tlearn: 60.7767446\ttest: 88.2441684\tbest: 88.2441684 (10)\ttotal: 19.5ms\tremaining: 65.5ms\n",
      "11:\tlearn: 59.3467237\ttest: 86.6435826\tbest: 86.6435826 (11)\ttotal: 21.2ms\tremaining: 63.7ms\n",
      "12:\tlearn: 57.9668497\ttest: 85.0041211\tbest: 85.0041211 (12)\ttotal: 23.3ms\tremaining: 62.7ms\n",
      "13:\tlearn: 56.6193779\ttest: 83.4821692\tbest: 83.4821692 (13)\ttotal: 25.3ms\tremaining: 61.4ms\n",
      "14:\tlearn: 55.3183791\ttest: 81.9341751\tbest: 81.9341751 (14)\ttotal: 27.1ms\tremaining: 59.5ms\n",
      "15:\tlearn: 54.0709826\ttest: 80.3631156\tbest: 80.3631156 (15)\ttotal: 29ms\tremaining: 57.9ms\n",
      "16:\tlearn: 52.8538651\ttest: 78.8203129\tbest: 78.8203129 (16)\ttotal: 30.9ms\tremaining: 56.3ms\n",
      "17:\tlearn: 51.6975169\ttest: 77.5134600\tbest: 77.5134600 (17)\ttotal: 32.8ms\tremaining: 54.6ms\n",
      "18:\tlearn: 50.5665410\ttest: 76.0232294\tbest: 76.0232294 (18)\ttotal: 34.5ms\tremaining: 52.7ms\n",
      "19:\tlearn: 49.4370021\ttest: 74.6006224\tbest: 74.6006224 (19)\ttotal: 36.1ms\tremaining: 50.6ms\n",
      "20:\tlearn: 48.5025262\ttest: 73.5774286\tbest: 73.5774286 (20)\ttotal: 37.7ms\tremaining: 48.5ms\n",
      "21:\tlearn: 47.4672296\ttest: 72.2363048\tbest: 72.2363048 (21)\ttotal: 39.5ms\tremaining: 46.6ms\n",
      "22:\tlearn: 46.4962431\ttest: 71.0627825\tbest: 71.0627825 (22)\ttotal: 41.1ms\tremaining: 44.7ms\n",
      "23:\tlearn: 45.5257897\ttest: 69.8559212\tbest: 69.8559212 (23)\ttotal: 42.7ms\tremaining: 42.7ms\n",
      "24:\tlearn: 44.6264446\ttest: 68.6758672\tbest: 68.6758672 (24)\ttotal: 45.1ms\tremaining: 41.5ms\n",
      "25:\tlearn: 43.7264668\ttest: 67.3875248\tbest: 67.3875248 (25)\ttotal: 46.7ms\tremaining: 39.6ms\n",
      "26:\tlearn: 42.8404298\ttest: 66.2098522\tbest: 66.2098522 (26)\ttotal: 48.4ms\tremaining: 37.7ms\n",
      "27:\tlearn: 42.0366975\ttest: 65.0377234\tbest: 65.0377234 (27)\ttotal: 50.2ms\tremaining: 35.9ms\n",
      "28:\tlearn: 41.2150171\ttest: 63.9305188\tbest: 63.9305188 (28)\ttotal: 51.8ms\tremaining: 33.9ms\n",
      "29:\tlearn: 40.4383867\ttest: 62.8421789\tbest: 62.8421789 (29)\ttotal: 53.7ms\tremaining: 32.2ms\n",
      "30:\tlearn: 39.6888381\ttest: 61.8570265\tbest: 61.8570265 (30)\ttotal: 55.3ms\tremaining: 30.3ms\n",
      "31:\tlearn: 38.9318825\ttest: 60.7753802\tbest: 60.7753802 (31)\ttotal: 57ms\tremaining: 28.5ms\n",
      "32:\tlearn: 38.2660893\ttest: 59.8307810\tbest: 59.8307810 (32)\ttotal: 58.8ms\tremaining: 26.7ms\n",
      "33:\tlearn: 37.6010294\ttest: 58.7949825\tbest: 58.7949825 (33)\ttotal: 60.5ms\tremaining: 24.9ms\n",
      "34:\tlearn: 36.9591537\ttest: 57.9198412\tbest: 57.9198412 (34)\ttotal: 62.2ms\tremaining: 23.1ms\n",
      "35:\tlearn: 36.3481272\ttest: 57.1461024\tbest: 57.1461024 (35)\ttotal: 63.8ms\tremaining: 21.3ms\n",
      "36:\tlearn: 35.7624125\ttest: 56.3574069\tbest: 56.3574069 (36)\ttotal: 65.5ms\tremaining: 19.5ms\n",
      "37:\tlearn: 35.2345050\ttest: 55.6605916\tbest: 55.6605916 (37)\ttotal: 67.1ms\tremaining: 17.7ms\n",
      "38:\tlearn: 34.7051647\ttest: 54.9852260\tbest: 54.9852260 (38)\ttotal: 68.9ms\tremaining: 15.9ms\n",
      "39:\tlearn: 34.1636936\ttest: 54.2741734\tbest: 54.2741734 (39)\ttotal: 70.6ms\tremaining: 14.1ms\n",
      "40:\tlearn: 33.6677988\ttest: 53.5243366\tbest: 53.5243366 (40)\ttotal: 72.5ms\tremaining: 12.4ms\n",
      "41:\tlearn: 33.1946010\ttest: 52.8796670\tbest: 52.8796670 (41)\ttotal: 74.2ms\tremaining: 10.6ms\n",
      "42:\tlearn: 32.7323501\ttest: 52.2844308\tbest: 52.2844308 (42)\ttotal: 75.8ms\tremaining: 8.82ms\n",
      "43:\tlearn: 32.3009101\ttest: 51.7229883\tbest: 51.7229883 (43)\ttotal: 77.5ms\tremaining: 7.05ms\n",
      "44:\tlearn: 31.8733022\ttest: 51.0984279\tbest: 51.0984279 (44)\ttotal: 79.2ms\tremaining: 5.28ms\n",
      "45:\tlearn: 31.4826996\ttest: 50.5308340\tbest: 50.5308340 (45)\ttotal: 80.9ms\tremaining: 3.52ms\n",
      "46:\tlearn: 31.1147604\ttest: 49.9954637\tbest: 49.9954637 (46)\ttotal: 82.6ms\tremaining: 1.76ms\n",
      "47:\tlearn: 30.7221415\ttest: 49.2818659\tbest: 49.2818659 (47)\ttotal: 84.3ms\tremaining: 0us\n",
      "\n",
      "bestTest = 49.28186592\n",
      "bestIteration = 47\n",
      "\n",
      "Training on fold [9/10]\n",
      "0:\tlearn: 81.4221265\ttest: 117.2944103\tbest: 117.2944103 (0)\ttotal: 1.82ms\tremaining: 85.7ms\n",
      "1:\tlearn: 79.3285070\ttest: 114.7823551\tbest: 114.7823551 (1)\ttotal: 3.38ms\tremaining: 77.8ms\n",
      "2:\tlearn: 77.2986788\ttest: 112.3044343\tbest: 112.3044343 (2)\ttotal: 5.05ms\tremaining: 75.8ms\n",
      "3:\tlearn: 75.3089700\ttest: 109.6804111\tbest: 109.6804111 (3)\ttotal: 6.68ms\tremaining: 73.5ms\n",
      "4:\tlearn: 73.4531477\ttest: 107.6001402\tbest: 107.6001402 (4)\ttotal: 8.54ms\tremaining: 73.4ms\n",
      "5:\tlearn: 71.6461910\ttest: 105.5938447\tbest: 105.5938447 (5)\ttotal: 10.3ms\tremaining: 71.8ms\n",
      "6:\tlearn: 69.9030935\ttest: 103.5028513\tbest: 103.5028513 (6)\ttotal: 12ms\tremaining: 70.2ms\n",
      "7:\tlearn: 68.2027295\ttest: 101.4319346\tbest: 101.4319346 (7)\ttotal: 13.8ms\tremaining: 69.2ms\n",
      "8:\tlearn: 66.5668224\ttest: 99.3785461\tbest: 99.3785461 (8)\ttotal: 15.7ms\tremaining: 68.2ms\n",
      "9:\tlearn: 64.9850380\ttest: 97.5960408\tbest: 97.5960408 (9)\ttotal: 17.6ms\tremaining: 66.7ms\n",
      "10:\tlearn: 63.4322140\ttest: 95.6045459\tbest: 95.6045459 (10)\ttotal: 19.4ms\tremaining: 65.2ms\n",
      "11:\tlearn: 61.9389544\ttest: 93.8667312\tbest: 93.8667312 (11)\ttotal: 21.1ms\tremaining: 63.3ms\n",
      "12:\tlearn: 60.4944390\ttest: 92.1495128\tbest: 92.1495128 (12)\ttotal: 23ms\tremaining: 61.8ms\n",
      "13:\tlearn: 59.0999925\ttest: 90.4396333\tbest: 90.4396333 (13)\ttotal: 24.9ms\tremaining: 60.4ms\n",
      "14:\tlearn: 57.7324786\ttest: 88.7553397\tbest: 88.7553397 (14)\ttotal: 26.7ms\tremaining: 58.8ms\n",
      "15:\tlearn: 56.4502189\ttest: 87.1462672\tbest: 87.1462672 (15)\ttotal: 28.6ms\tremaining: 57.3ms\n",
      "16:\tlearn: 55.1842747\ttest: 85.7017728\tbest: 85.7017728 (16)\ttotal: 30.5ms\tremaining: 55.5ms\n",
      "17:\tlearn: 53.9766561\ttest: 84.3251057\tbest: 84.3251057 (17)\ttotal: 32.2ms\tremaining: 53.7ms\n",
      "18:\tlearn: 52.7950163\ttest: 82.8036328\tbest: 82.8036328 (18)\ttotal: 34.1ms\tremaining: 52ms\n",
      "19:\tlearn: 51.6160607\ttest: 81.3589561\tbest: 81.3589561 (19)\ttotal: 35.9ms\tremaining: 50.3ms\n",
      "20:\tlearn: 50.6132571\ttest: 80.1609439\tbest: 80.1609439 (20)\ttotal: 37.8ms\tremaining: 48.5ms\n",
      "21:\tlearn: 49.5315818\ttest: 78.8221285\tbest: 78.8221285 (21)\ttotal: 39.8ms\tremaining: 47.1ms\n",
      "22:\tlearn: 48.6222407\ttest: 77.7410520\tbest: 77.7410520 (22)\ttotal: 41.6ms\tremaining: 45.3ms\n",
      "23:\tlearn: 47.6010140\ttest: 76.5040791\tbest: 76.5040791 (23)\ttotal: 43.5ms\tremaining: 43.5ms\n",
      "24:\tlearn: 46.6575712\ttest: 75.2933105\tbest: 75.2933105 (24)\ttotal: 45.4ms\tremaining: 41.8ms\n",
      "25:\tlearn: 45.6980742\ttest: 74.1014699\tbest: 74.1014699 (25)\ttotal: 47.3ms\tremaining: 40ms\n",
      "26:\tlearn: 44.7696604\ttest: 72.8986828\tbest: 72.8986828 (26)\ttotal: 49.1ms\tremaining: 38.2ms\n",
      "27:\tlearn: 43.9226363\ttest: 71.6883398\tbest: 71.6883398 (27)\ttotal: 51ms\tremaining: 36.4ms\n",
      "28:\tlearn: 43.0718217\ttest: 70.5960523\tbest: 70.5960523 (28)\ttotal: 52.8ms\tremaining: 34.6ms\n",
      "29:\tlearn: 42.2626677\ttest: 69.5662117\tbest: 69.5662117 (29)\ttotal: 54.8ms\tremaining: 32.9ms\n",
      "30:\tlearn: 41.4772712\ttest: 68.5590615\tbest: 68.5590615 (30)\ttotal: 56.6ms\tremaining: 31ms\n",
      "31:\tlearn: 40.7230774\ttest: 67.4623026\tbest: 67.4623026 (31)\ttotal: 58.4ms\tremaining: 29.2ms\n",
      "32:\tlearn: 40.0127931\ttest: 66.3268256\tbest: 66.3268256 (32)\ttotal: 60.3ms\tremaining: 27.4ms\n",
      "33:\tlearn: 39.3162678\ttest: 65.2809557\tbest: 65.2809557 (33)\ttotal: 62.2ms\tremaining: 25.6ms\n",
      "34:\tlearn: 38.6291010\ttest: 64.3543259\tbest: 64.3543259 (34)\ttotal: 64ms\tremaining: 23.8ms\n",
      "35:\tlearn: 37.9974187\ttest: 63.4856308\tbest: 63.4856308 (35)\ttotal: 65.8ms\tremaining: 21.9ms\n",
      "36:\tlearn: 37.3828796\ttest: 62.6915026\tbest: 62.6915026 (36)\ttotal: 68.3ms\tremaining: 20.3ms\n",
      "37:\tlearn: 36.7893956\ttest: 61.9014577\tbest: 61.9014577 (37)\ttotal: 70.4ms\tremaining: 18.5ms\n",
      "38:\tlearn: 36.2361780\ttest: 61.2323027\tbest: 61.2323027 (38)\ttotal: 72.6ms\tremaining: 16.8ms\n",
      "39:\tlearn: 35.6936206\ttest: 60.3351673\tbest: 60.3351673 (39)\ttotal: 74.6ms\tremaining: 14.9ms\n",
      "40:\tlearn: 35.1598531\ttest: 59.5727058\tbest: 59.5727058 (40)\ttotal: 76.5ms\tremaining: 13.1ms\n",
      "41:\tlearn: 34.6638034\ttest: 58.9236726\tbest: 58.9236726 (41)\ttotal: 78.4ms\tremaining: 11.2ms\n",
      "42:\tlearn: 34.1830045\ttest: 58.2992143\tbest: 58.2992143 (42)\ttotal: 80.8ms\tremaining: 9.39ms\n",
      "43:\tlearn: 33.6986431\ttest: 57.5934287\tbest: 57.5934287 (43)\ttotal: 82.9ms\tremaining: 7.54ms\n",
      "44:\tlearn: 33.2278205\ttest: 56.9824626\tbest: 56.9824626 (44)\ttotal: 84.9ms\tremaining: 5.66ms\n",
      "45:\tlearn: 32.8208564\ttest: 56.3880241\tbest: 56.3880241 (45)\ttotal: 87.2ms\tremaining: 3.79ms\n",
      "46:\tlearn: 32.4219309\ttest: 55.7411781\tbest: 55.7411781 (46)\ttotal: 89.5ms\tremaining: 1.9ms\n",
      "47:\tlearn: 32.0157805\ttest: 55.1310465\tbest: 55.1310465 (47)\ttotal: 91.7ms\tremaining: 0us\n",
      "\n",
      "bestTest = 55.13104655\n",
      "bestIteration = 47\n",
      "\n",
      "Training on fold [0/10]\n",
      "0:\tlearn: 61.5621104\ttest: 64.0742206\tbest: 64.0742206 (0)\ttotal: 1.53ms\tremaining: 61.1ms\n",
      "1:\tlearn: 60.0639052\ttest: 62.5096822\tbest: 62.5096822 (1)\ttotal: 2.92ms\tremaining: 56.9ms\n",
      "2:\tlearn: 58.6504820\ttest: 61.1326698\tbest: 61.1326698 (2)\ttotal: 4.13ms\tremaining: 52.4ms\n",
      "3:\tlearn: 57.3929476\ttest: 59.9364629\tbest: 59.9364629 (3)\ttotal: 5.42ms\tremaining: 50.1ms\n",
      "4:\tlearn: 56.0114687\ttest: 58.5606476\tbest: 58.5606476 (4)\ttotal: 6.66ms\tremaining: 47.9ms\n",
      "5:\tlearn: 54.6519906\ttest: 57.1985216\tbest: 57.1985216 (5)\ttotal: 7.91ms\tremaining: 46.1ms\n",
      "6:\tlearn: 53.3928312\ttest: 55.9282761\tbest: 55.9282761 (6)\ttotal: 9.2ms\tremaining: 44.7ms\n",
      "7:\tlearn: 52.1898832\ttest: 54.6666316\tbest: 54.6666316 (7)\ttotal: 10.5ms\tremaining: 43.2ms\n",
      "8:\tlearn: 51.0532642\ttest: 53.5500807\tbest: 53.5500807 (8)\ttotal: 11.8ms\tremaining: 42.1ms\n",
      "9:\tlearn: 49.9489614\ttest: 52.4618669\tbest: 52.4618669 (9)\ttotal: 13.2ms\tremaining: 40.9ms\n",
      "10:\tlearn: 48.8787407\ttest: 51.4318971\tbest: 51.4318971 (10)\ttotal: 14.5ms\tremaining: 39.6ms\n",
      "11:\tlearn: 47.8002430\ttest: 50.3549254\tbest: 50.3549254 (11)\ttotal: 15.8ms\tremaining: 38.2ms\n",
      "12:\tlearn: 46.8114218\ttest: 49.3826798\tbest: 49.3826798 (12)\ttotal: 17.2ms\tremaining: 37.1ms\n",
      "13:\tlearn: 45.8271327\ttest: 48.4341487\tbest: 48.4341487 (13)\ttotal: 18.6ms\tremaining: 35.8ms\n",
      "14:\tlearn: 44.9162661\ttest: 47.5402135\tbest: 47.5402135 (14)\ttotal: 19.9ms\tremaining: 34.5ms\n",
      "15:\tlearn: 43.9956764\ttest: 46.6248268\tbest: 46.6248268 (15)\ttotal: 21.3ms\tremaining: 33.3ms\n",
      "16:\tlearn: 43.1794121\ttest: 45.8700631\tbest: 45.8700631 (16)\ttotal: 22.7ms\tremaining: 32.1ms\n",
      "17:\tlearn: 42.2918989\ttest: 44.9577655\tbest: 44.9577655 (17)\ttotal: 24.1ms\tremaining: 30.8ms\n",
      "18:\tlearn: 41.5265714\ttest: 44.2078785\tbest: 44.2078785 (18)\ttotal: 25.5ms\tremaining: 29.5ms\n",
      "19:\tlearn: 40.6877443\ttest: 43.3761346\tbest: 43.3761346 (19)\ttotal: 26.8ms\tremaining: 28.2ms\n",
      "20:\tlearn: 39.8862300\ttest: 42.6201988\tbest: 42.6201988 (20)\ttotal: 28.2ms\tremaining: 26.9ms\n",
      "21:\tlearn: 39.1195146\ttest: 41.8576085\tbest: 41.8576085 (21)\ttotal: 29.6ms\tremaining: 25.6ms\n",
      "22:\tlearn: 38.4579762\ttest: 41.2154633\tbest: 41.2154633 (22)\ttotal: 31ms\tremaining: 24.2ms\n",
      "23:\tlearn: 37.6590727\ttest: 40.4113685\tbest: 40.4113685 (23)\ttotal: 32.5ms\tremaining: 23ms\n",
      "24:\tlearn: 36.9674039\ttest: 39.7439169\tbest: 39.7439169 (24)\ttotal: 33.9ms\tremaining: 21.7ms\n",
      "25:\tlearn: 36.2988155\ttest: 39.0622040\tbest: 39.0622040 (25)\ttotal: 35.3ms\tremaining: 20.4ms\n",
      "26:\tlearn: 35.6933277\ttest: 38.4736667\tbest: 38.4736667 (26)\ttotal: 36.8ms\tremaining: 19.1ms\n",
      "27:\tlearn: 35.0055637\ttest: 37.7981063\tbest: 37.7981063 (27)\ttotal: 38.3ms\tremaining: 17.8ms\n",
      "28:\tlearn: 34.4275301\ttest: 37.2527121\tbest: 37.2527121 (28)\ttotal: 39.6ms\tremaining: 16.4ms\n",
      "29:\tlearn: 33.8354049\ttest: 36.6619410\tbest: 36.6619410 (29)\ttotal: 41.1ms\tremaining: 15.1ms\n",
      "30:\tlearn: 33.2948743\ttest: 36.1359957\tbest: 36.1359957 (30)\ttotal: 42.4ms\tremaining: 13.7ms\n",
      "31:\tlearn: 32.7415168\ttest: 35.5943025\tbest: 35.5943025 (31)\ttotal: 43.9ms\tremaining: 12.3ms\n",
      "32:\tlearn: 32.1799602\ttest: 35.0291276\tbest: 35.0291276 (32)\ttotal: 45.3ms\tremaining: 11ms\n",
      "33:\tlearn: 31.6634959\ttest: 34.5216919\tbest: 34.5216919 (33)\ttotal: 46.8ms\tremaining: 9.63ms\n",
      "34:\tlearn: 31.1266969\ttest: 33.9888073\tbest: 33.9888073 (34)\ttotal: 48.2ms\tremaining: 8.26ms\n",
      "35:\tlearn: 30.6765496\ttest: 33.5579197\tbest: 33.5579197 (35)\ttotal: 49.6ms\tremaining: 6.88ms\n",
      "36:\tlearn: 30.2517446\ttest: 33.1656529\tbest: 33.1656529 (36)\ttotal: 50.9ms\tremaining: 5.51ms\n",
      "37:\tlearn: 29.7870709\ttest: 32.7185961\tbest: 32.7185961 (37)\ttotal: 52.3ms\tremaining: 4.13ms\n",
      "38:\tlearn: 29.3207023\ttest: 32.2748035\tbest: 32.2748035 (38)\ttotal: 53.6ms\tremaining: 2.75ms\n",
      "39:\tlearn: 28.9051273\ttest: 31.8487716\tbest: 31.8487716 (39)\ttotal: 55ms\tremaining: 1.37ms\n",
      "40:\tlearn: 28.4929885\ttest: 31.4216844\tbest: 31.4216844 (40)\ttotal: 56.4ms\tremaining: 0us\n",
      "\n",
      "bestTest = 31.42168436\n",
      "bestIteration = 40\n",
      "\n",
      "Training on fold [1/10]\n",
      "0:\tlearn: 62.7079247\ttest: 64.4559661\tbest: 64.4559661 (0)\ttotal: 1.6ms\tremaining: 63.9ms\n",
      "1:\tlearn: 61.1392670\ttest: 62.8930997\tbest: 62.8930997 (1)\ttotal: 3.11ms\tremaining: 60.7ms\n",
      "2:\tlearn: 59.7217214\ttest: 61.4850526\tbest: 61.4850526 (2)\ttotal: 4.53ms\tremaining: 57.4ms\n",
      "3:\tlearn: 58.3084631\ttest: 60.0793785\tbest: 60.0793785 (3)\ttotal: 5.76ms\tremaining: 53.3ms\n",
      "4:\tlearn: 56.8905573\ttest: 59.2203070\tbest: 59.2203070 (4)\ttotal: 7.08ms\tremaining: 51ms\n",
      "5:\tlearn: 55.6421100\ttest: 57.9609192\tbest: 57.9609192 (5)\ttotal: 8.4ms\tremaining: 49ms\n",
      "6:\tlearn: 54.3716318\ttest: 56.7281143\tbest: 56.7281143 (6)\ttotal: 9.96ms\tremaining: 48.4ms\n",
      "7:\tlearn: 53.1365555\ttest: 55.6928783\tbest: 55.6928783 (7)\ttotal: 11.3ms\tremaining: 46.6ms\n",
      "8:\tlearn: 52.0014955\ttest: 54.5919504\tbest: 54.5919504 (8)\ttotal: 12.6ms\tremaining: 44.9ms\n",
      "9:\tlearn: 50.9258811\ttest: 53.5017088\tbest: 53.5017088 (9)\ttotal: 14ms\tremaining: 43.4ms\n",
      "10:\tlearn: 49.8029176\ttest: 52.3725554\tbest: 52.3725554 (10)\ttotal: 15.3ms\tremaining: 41.8ms\n",
      "11:\tlearn: 48.7351672\ttest: 51.2723380\tbest: 51.2723380 (11)\ttotal: 16.7ms\tremaining: 40.5ms\n",
      "12:\tlearn: 47.7702633\ttest: 50.3144887\tbest: 50.3144887 (12)\ttotal: 18.2ms\tremaining: 39.2ms\n",
      "13:\tlearn: 46.8396403\ttest: 49.3817339\tbest: 49.3817339 (13)\ttotal: 19.7ms\tremaining: 38.1ms\n",
      "14:\tlearn: 45.7980158\ttest: 48.3859812\tbest: 48.3859812 (14)\ttotal: 21.3ms\tremaining: 37ms\n",
      "15:\tlearn: 44.7593031\ttest: 47.3625050\tbest: 47.3625050 (15)\ttotal: 22.9ms\tremaining: 35.7ms\n",
      "16:\tlearn: 43.7966297\ttest: 46.4067254\tbest: 46.4067254 (16)\ttotal: 24.4ms\tremaining: 34.5ms\n",
      "17:\tlearn: 42.8897037\ttest: 45.4728960\tbest: 45.4728960 (17)\ttotal: 25.8ms\tremaining: 33ms\n",
      "18:\tlearn: 41.9632727\ttest: 44.7841160\tbest: 44.7841160 (18)\ttotal: 27.4ms\tremaining: 31.7ms\n",
      "19:\tlearn: 41.0938920\ttest: 43.9111784\tbest: 43.9111784 (19)\ttotal: 29ms\tremaining: 30.5ms\n",
      "20:\tlearn: 40.2202234\ttest: 43.0325388\tbest: 43.0325388 (20)\ttotal: 30.5ms\tremaining: 29ms\n",
      "21:\tlearn: 39.4039295\ttest: 42.1921347\tbest: 42.1921347 (21)\ttotal: 32.4ms\tremaining: 27.9ms\n",
      "22:\tlearn: 38.6317045\ttest: 41.4077732\tbest: 41.4077732 (22)\ttotal: 33.8ms\tremaining: 26.5ms\n",
      "23:\tlearn: 37.8964707\ttest: 40.6754633\tbest: 40.6754633 (23)\ttotal: 35.4ms\tremaining: 25.1ms\n",
      "24:\tlearn: 37.1211106\ttest: 39.9148494\tbest: 39.9148494 (24)\ttotal: 37ms\tremaining: 23.7ms\n",
      "25:\tlearn: 36.4302196\ttest: 39.2142280\tbest: 39.2142280 (25)\ttotal: 38.5ms\tremaining: 22.2ms\n",
      "26:\tlearn: 35.7619878\ttest: 38.5676621\tbest: 38.5676621 (26)\ttotal: 40ms\tremaining: 20.8ms\n",
      "27:\tlearn: 35.1026727\ttest: 37.9075278\tbest: 37.9075278 (27)\ttotal: 41.6ms\tremaining: 19.3ms\n",
      "28:\tlearn: 34.4907819\ttest: 37.2804338\tbest: 37.2804338 (28)\ttotal: 43.1ms\tremaining: 17.8ms\n",
      "29:\tlearn: 33.8614142\ttest: 36.6286259\tbest: 36.6286259 (29)\ttotal: 44.5ms\tremaining: 16.3ms\n",
      "30:\tlearn: 33.3015832\ttest: 36.0813433\tbest: 36.0813433 (30)\ttotal: 46.2ms\tremaining: 14.9ms\n"
     ]
    },
    {
     "name": "stdout",
     "output_type": "stream",
     "text": [
      "31:\tlearn: 32.6832472\ttest: 35.5051882\tbest: 35.5051882 (31)\ttotal: 48ms\tremaining: 13.5ms\n",
      "32:\tlearn: 32.1392107\ttest: 34.9524497\tbest: 34.9524497 (32)\ttotal: 49.8ms\tremaining: 12.1ms\n",
      "33:\tlearn: 31.5995448\ttest: 34.4093911\tbest: 34.4093911 (33)\ttotal: 51.4ms\tremaining: 10.6ms\n",
      "34:\tlearn: 31.1186839\ttest: 33.9314808\tbest: 33.9314808 (34)\ttotal: 53ms\tremaining: 9.09ms\n",
      "35:\tlearn: 30.5902628\ttest: 33.4366592\tbest: 33.4366592 (35)\ttotal: 54.7ms\tremaining: 7.6ms\n",
      "36:\tlearn: 30.0962109\ttest: 32.9515687\tbest: 32.9515687 (36)\ttotal: 56.3ms\tremaining: 6.09ms\n",
      "37:\tlearn: 29.6692551\ttest: 32.5160187\tbest: 32.5160187 (37)\ttotal: 57.9ms\tremaining: 4.57ms\n",
      "38:\tlearn: 29.2155170\ttest: 32.0868158\tbest: 32.0868158 (38)\ttotal: 59.7ms\tremaining: 3.06ms\n",
      "39:\tlearn: 28.7802143\ttest: 31.6606526\tbest: 31.6606526 (39)\ttotal: 61.7ms\tremaining: 1.54ms\n",
      "40:\tlearn: 28.3511087\ttest: 31.2304963\tbest: 31.2304963 (40)\ttotal: 63.7ms\tremaining: 0us\n",
      "\n",
      "bestTest = 31.23049633\n",
      "bestIteration = 40\n",
      "\n",
      "Training on fold [2/10]\n",
      "0:\tlearn: 63.2682950\ttest: 74.5235486\tbest: 74.5235486 (0)\ttotal: 2.1ms\tremaining: 84.1ms\n",
      "1:\tlearn: 61.6950289\ttest: 72.9152727\tbest: 72.9152727 (1)\ttotal: 3.56ms\tremaining: 69.4ms\n",
      "2:\tlearn: 60.2237571\ttest: 71.4092930\tbest: 71.4092930 (2)\ttotal: 4.97ms\tremaining: 62.9ms\n",
      "3:\tlearn: 58.7861270\ttest: 69.8686398\tbest: 69.8686398 (3)\ttotal: 6.76ms\tremaining: 62.5ms\n",
      "4:\tlearn: 57.3530490\ttest: 68.3304476\tbest: 68.3304476 (4)\ttotal: 8.45ms\tremaining: 60.8ms\n",
      "5:\tlearn: 56.0788353\ttest: 67.0259255\tbest: 67.0259255 (5)\ttotal: 10ms\tremaining: 58.5ms\n",
      "6:\tlearn: 54.8038074\ttest: 65.7733604\tbest: 65.7733604 (6)\ttotal: 11.6ms\tremaining: 56.2ms\n",
      "7:\tlearn: 53.5514341\ttest: 64.4656655\tbest: 64.4656655 (7)\ttotal: 13.1ms\tremaining: 54.1ms\n",
      "8:\tlearn: 52.3999910\ttest: 63.3326474\tbest: 63.3326474 (8)\ttotal: 14.8ms\tremaining: 52.5ms\n",
      "9:\tlearn: 51.2982762\ttest: 62.2157226\tbest: 62.2157226 (9)\ttotal: 16.4ms\tremaining: 50.9ms\n",
      "10:\tlearn: 50.1440942\ttest: 60.9001615\tbest: 60.9001615 (10)\ttotal: 18.1ms\tremaining: 49.5ms\n",
      "11:\tlearn: 49.0599610\ttest: 59.7621443\tbest: 59.7621443 (11)\ttotal: 19.7ms\tremaining: 47.7ms\n",
      "12:\tlearn: 48.0652986\ttest: 58.7692644\tbest: 58.7692644 (12)\ttotal: 21.5ms\tremaining: 46.3ms\n",
      "13:\tlearn: 47.0994186\ttest: 57.7976354\tbest: 57.7976354 (13)\ttotal: 23.1ms\tremaining: 44.6ms\n",
      "14:\tlearn: 46.0538887\ttest: 56.7813879\tbest: 56.7813879 (14)\ttotal: 24.8ms\tremaining: 43ms\n",
      "15:\tlearn: 45.0244797\ttest: 55.7648808\tbest: 55.7648808 (15)\ttotal: 26.5ms\tremaining: 41.4ms\n",
      "16:\tlearn: 44.0602947\ttest: 54.6816431\tbest: 54.6816431 (16)\ttotal: 28.2ms\tremaining: 39.8ms\n",
      "17:\tlearn: 43.1355010\ttest: 53.6831941\tbest: 53.6831941 (17)\ttotal: 29.9ms\tremaining: 38.2ms\n",
      "18:\tlearn: 42.2152230\ttest: 52.6943021\tbest: 52.6943021 (18)\ttotal: 31.6ms\tremaining: 36.5ms\n",
      "19:\tlearn: 41.3245898\ttest: 51.7615104\tbest: 51.7615104 (19)\ttotal: 33.3ms\tremaining: 35ms\n",
      "20:\tlearn: 40.4709000\ttest: 50.8984443\tbest: 50.8984443 (20)\ttotal: 35ms\tremaining: 33.3ms\n",
      "21:\tlearn: 39.6511560\ttest: 50.0592484\tbest: 50.0592484 (21)\ttotal: 36.9ms\tremaining: 31.8ms\n",
      "22:\tlearn: 38.8513078\ttest: 49.1513850\tbest: 49.1513850 (22)\ttotal: 38.5ms\tremaining: 30.2ms\n",
      "23:\tlearn: 38.0815772\ttest: 48.3005835\tbest: 48.3005835 (23)\ttotal: 40.3ms\tremaining: 28.5ms\n",
      "24:\tlearn: 37.2973624\ttest: 47.4681712\tbest: 47.4681712 (24)\ttotal: 42ms\tremaining: 26.9ms\n",
      "25:\tlearn: 36.5544369\ttest: 46.6974235\tbest: 46.6974235 (25)\ttotal: 43.8ms\tremaining: 25.3ms\n",
      "26:\tlearn: 35.8811837\ttest: 45.9360296\tbest: 45.9360296 (26)\ttotal: 45.5ms\tremaining: 23.6ms\n",
      "27:\tlearn: 35.2307018\ttest: 45.2148251\tbest: 45.2148251 (27)\ttotal: 47.2ms\tremaining: 21.9ms\n",
      "28:\tlearn: 34.6024656\ttest: 44.5072958\tbest: 44.5072958 (28)\ttotal: 48.9ms\tremaining: 20.2ms\n",
      "29:\tlearn: 33.9628567\ttest: 43.7474973\tbest: 43.7474973 (29)\ttotal: 50.9ms\tremaining: 18.7ms\n",
      "30:\tlearn: 33.3791563\ttest: 43.1234932\tbest: 43.1234932 (30)\ttotal: 52.6ms\tremaining: 17ms\n",
      "31:\tlearn: 32.7781194\ttest: 42.4944413\tbest: 42.4944413 (31)\ttotal: 54.3ms\tremaining: 15.3ms\n",
      "32:\tlearn: 32.2411150\ttest: 41.8964984\tbest: 41.8964984 (32)\ttotal: 56ms\tremaining: 13.6ms\n",
      "33:\tlearn: 31.7198023\ttest: 41.3927056\tbest: 41.3927056 (33)\ttotal: 57.7ms\tremaining: 11.9ms\n",
      "34:\tlearn: 31.2323307\ttest: 40.8281977\tbest: 40.8281977 (34)\ttotal: 59.5ms\tremaining: 10.2ms\n",
      "35:\tlearn: 30.7772776\ttest: 40.3446002\tbest: 40.3446002 (35)\ttotal: 61.2ms\tremaining: 8.5ms\n",
      "36:\tlearn: 30.2892085\ttest: 39.8473936\tbest: 39.8473936 (36)\ttotal: 62.9ms\tremaining: 6.8ms\n",
      "37:\tlearn: 29.8318935\ttest: 39.4039071\tbest: 39.4039071 (37)\ttotal: 64.6ms\tremaining: 5.1ms\n",
      "38:\tlearn: 29.3816111\ttest: 38.9393329\tbest: 38.9393329 (38)\ttotal: 66.5ms\tremaining: 3.41ms\n",
      "39:\tlearn: 28.9878664\ttest: 38.5162611\tbest: 38.5162611 (39)\ttotal: 68.2ms\tremaining: 1.71ms\n",
      "40:\tlearn: 28.5614807\ttest: 38.0675263\tbest: 38.0675263 (40)\ttotal: 69.9ms\tremaining: 0us\n",
      "\n",
      "bestTest = 38.0675263\n",
      "bestIteration = 40\n",
      "\n",
      "Training on fold [3/10]\n",
      "0:\tlearn: 66.1548042\ttest: 74.2259166\tbest: 74.2259166 (0)\ttotal: 1.9ms\tremaining: 76ms\n",
      "1:\tlearn: 64.5392434\ttest: 72.5757942\tbest: 72.5757942 (1)\ttotal: 3.49ms\tremaining: 68ms\n",
      "2:\tlearn: 62.9259684\ttest: 70.8600821\tbest: 70.8600821 (2)\ttotal: 4.96ms\tremaining: 62.8ms\n",
      "3:\tlearn: 61.3546818\ttest: 69.1894111\tbest: 69.1894111 (3)\ttotal: 6.57ms\tremaining: 60.7ms\n",
      "4:\tlearn: 59.8467258\ttest: 67.6298195\tbest: 67.6298195 (4)\ttotal: 8.33ms\tremaining: 59.9ms\n",
      "5:\tlearn: 58.4660773\ttest: 66.2600809\tbest: 66.2600809 (5)\ttotal: 9.95ms\tremaining: 58.1ms\n",
      "6:\tlearn: 57.1655303\ttest: 64.9592456\tbest: 64.9592456 (6)\ttotal: 11.6ms\tremaining: 56.3ms\n",
      "7:\tlearn: 55.8246548\ttest: 63.5758743\tbest: 63.5758743 (7)\ttotal: 13.2ms\tremaining: 54.6ms\n",
      "8:\tlearn: 54.5392658\ttest: 62.2674980\tbest: 62.2674980 (8)\ttotal: 14.9ms\tremaining: 52.8ms\n",
      "9:\tlearn: 53.3069922\ttest: 60.9943482\tbest: 60.9943482 (9)\ttotal: 16.7ms\tremaining: 51.6ms\n",
      "10:\tlearn: 52.1076540\ttest: 59.7873593\tbest: 59.7873593 (10)\ttotal: 18.4ms\tremaining: 50.1ms\n",
      "11:\tlearn: 50.9843117\ttest: 58.6335363\tbest: 58.6335363 (11)\ttotal: 20.2ms\tremaining: 48.8ms\n",
      "12:\tlearn: 49.8313346\ttest: 57.4891997\tbest: 57.4891997 (12)\ttotal: 21.9ms\tremaining: 47.2ms\n",
      "13:\tlearn: 48.7230415\ttest: 56.3149401\tbest: 56.3149401 (13)\ttotal: 23.7ms\tremaining: 45.8ms\n",
      "14:\tlearn: 47.6364596\ttest: 55.2009675\tbest: 55.2009675 (14)\ttotal: 25.6ms\tremaining: 44.4ms\n",
      "15:\tlearn: 46.5776874\ttest: 54.1437849\tbest: 54.1437849 (15)\ttotal: 28.3ms\tremaining: 44.3ms\n",
      "16:\tlearn: 45.5725956\ttest: 53.1012626\tbest: 53.1012626 (16)\ttotal: 30.1ms\tremaining: 42.5ms\n",
      "17:\tlearn: 44.6214154\ttest: 52.0703580\tbest: 52.0703580 (17)\ttotal: 31.8ms\tremaining: 40.7ms\n",
      "18:\tlearn: 43.7116085\ttest: 51.0673188\tbest: 51.0673188 (18)\ttotal: 33.7ms\tremaining: 39ms\n",
      "19:\tlearn: 42.7920659\ttest: 50.1028304\tbest: 50.1028304 (19)\ttotal: 35.4ms\tremaining: 37.2ms\n",
      "20:\tlearn: 41.9010664\ttest: 49.1856297\tbest: 49.1856297 (20)\ttotal: 37.4ms\tremaining: 35.6ms\n",
      "21:\tlearn: 41.0748086\ttest: 48.2672621\tbest: 48.2672621 (21)\ttotal: 39.3ms\tremaining: 33.9ms\n",
      "22:\tlearn: 40.2747418\ttest: 47.3949180\tbest: 47.3949180 (22)\ttotal: 41ms\tremaining: 32.1ms\n",
      "23:\tlearn: 39.4609562\ttest: 46.5417823\tbest: 46.5417823 (23)\ttotal: 43.1ms\tremaining: 30.5ms\n",
      "24:\tlearn: 38.6750114\ttest: 45.6496257\tbest: 45.6496257 (24)\ttotal: 45.2ms\tremaining: 28.9ms\n",
      "25:\tlearn: 37.9028078\ttest: 44.8139689\tbest: 44.8139689 (25)\ttotal: 47.4ms\tremaining: 27.3ms\n",
      "26:\tlearn: 37.1978099\ttest: 44.0111587\tbest: 44.0111587 (26)\ttotal: 49.3ms\tremaining: 25.6ms\n",
      "27:\tlearn: 36.5152493\ttest: 43.2325641\tbest: 43.2325641 (27)\ttotal: 51.5ms\tremaining: 23.9ms\n",
      "28:\tlearn: 35.8426706\ttest: 42.4728188\tbest: 42.4728188 (28)\ttotal: 53.5ms\tremaining: 22.1ms\n",
      "29:\tlearn: 35.1875067\ttest: 41.7711652\tbest: 41.7711652 (29)\ttotal: 55.3ms\tremaining: 20.3ms\n",
      "30:\tlearn: 34.5582816\ttest: 41.0826984\tbest: 41.0826984 (30)\ttotal: 57.5ms\tremaining: 18.6ms\n",
      "31:\tlearn: 33.9495221\ttest: 40.3912721\tbest: 40.3912721 (31)\ttotal: 59.4ms\tremaining: 16.7ms\n",
      "32:\tlearn: 33.3882813\ttest: 39.7720388\tbest: 39.7720388 (32)\ttotal: 61.2ms\tremaining: 14.8ms\n",
      "33:\tlearn: 32.8279979\ttest: 39.1502936\tbest: 39.1502936 (33)\ttotal: 62.9ms\tremaining: 12.9ms\n",
      "34:\tlearn: 32.2630462\ttest: 38.5172682\tbest: 38.5172682 (34)\ttotal: 64.9ms\tremaining: 11.1ms\n",
      "35:\tlearn: 31.7861379\ttest: 37.9634078\tbest: 37.9634078 (35)\ttotal: 67.2ms\tremaining: 9.33ms\n",
      "36:\tlearn: 31.2742660\ttest: 37.4460323\tbest: 37.4460323 (36)\ttotal: 69.2ms\tremaining: 7.49ms\n",
      "37:\tlearn: 30.8110117\ttest: 36.9888894\tbest: 36.9888894 (37)\ttotal: 71.6ms\tremaining: 5.65ms\n",
      "38:\tlearn: 30.3717864\ttest: 36.4848702\tbest: 36.4848702 (38)\ttotal: 73.6ms\tremaining: 3.77ms\n",
      "39:\tlearn: 29.9408056\ttest: 36.0164697\tbest: 36.0164697 (39)\ttotal: 75.4ms\tremaining: 1.88ms\n",
      "40:\tlearn: 29.5095995\ttest: 35.5731781\tbest: 35.5731781 (40)\ttotal: 77.3ms\tremaining: 0us\n",
      "\n",
      "bestTest = 35.57317811\n",
      "bestIteration = 40\n",
      "\n",
      "Training on fold [4/10]\n",
      "0:\tlearn: 67.7889747\ttest: 85.8030570\tbest: 85.8030570 (0)\ttotal: 2.06ms\tremaining: 82.2ms\n",
      "1:\tlearn: 66.1260498\ttest: 84.1098362\tbest: 84.1098362 (1)\ttotal: 3.66ms\tremaining: 71.3ms\n",
      "2:\tlearn: 64.4718836\ttest: 82.3136534\tbest: 82.3136534 (2)\ttotal: 5.21ms\tremaining: 66ms\n",
      "3:\tlearn: 62.8498664\ttest: 80.4867465\tbest: 80.4867465 (3)\ttotal: 6.83ms\tremaining: 63.1ms\n",
      "4:\tlearn: 61.3422022\ttest: 78.9301794\tbest: 78.9301794 (4)\ttotal: 8.56ms\tremaining: 61.7ms\n",
      "5:\tlearn: 59.8972873\ttest: 77.4717922\tbest: 77.4717922 (5)\ttotal: 10.3ms\tremaining: 59.8ms\n",
      "6:\tlearn: 58.5567554\ttest: 76.1456663\tbest: 76.1456663 (6)\ttotal: 12ms\tremaining: 58.3ms\n",
      "7:\tlearn: 57.1862869\ttest: 74.6953317\tbest: 74.6953317 (7)\ttotal: 13.8ms\tremaining: 56.7ms\n",
      "8:\tlearn: 55.8807096\ttest: 73.3792651\tbest: 73.3792651 (8)\ttotal: 15.9ms\tremaining: 56.4ms\n",
      "9:\tlearn: 54.6134599\ttest: 71.9585355\tbest: 71.9585355 (9)\ttotal: 17.7ms\tremaining: 54.9ms\n",
      "10:\tlearn: 53.4468405\ttest: 70.6393104\tbest: 70.6393104 (10)\ttotal: 19.7ms\tremaining: 53.7ms\n",
      "11:\tlearn: 52.2945397\ttest: 69.4681353\tbest: 69.4681353 (11)\ttotal: 21.6ms\tremaining: 52.3ms\n",
      "12:\tlearn: 51.1130071\ttest: 68.2196261\tbest: 68.2196261 (12)\ttotal: 24.2ms\tremaining: 52.1ms\n",
      "13:\tlearn: 49.9459081\ttest: 67.0042790\tbest: 67.0042790 (13)\ttotal: 26.1ms\tremaining: 50.4ms\n",
      "14:\tlearn: 48.8291949\ttest: 65.8671395\tbest: 65.8671395 (14)\ttotal: 28ms\tremaining: 48.6ms\n",
      "15:\tlearn: 47.7437245\ttest: 64.7797251\tbest: 64.7797251 (15)\ttotal: 29.9ms\tremaining: 46.8ms\n",
      "16:\tlearn: 46.6905299\ttest: 63.6502822\tbest: 63.6502822 (16)\ttotal: 32ms\tremaining: 45.1ms\n",
      "17:\tlearn: 45.6684021\ttest: 62.4292255\tbest: 62.4292255 (17)\ttotal: 33.8ms\tremaining: 43.2ms\n",
      "18:\tlearn: 44.7289379\ttest: 61.3382505\tbest: 61.3382505 (18)\ttotal: 35.8ms\tremaining: 41.5ms\n",
      "19:\tlearn: 43.7869237\ttest: 60.3219735\tbest: 60.3219735 (19)\ttotal: 37.7ms\tremaining: 39.6ms\n",
      "20:\tlearn: 42.9060089\ttest: 59.3928060\tbest: 59.3928060 (20)\ttotal: 39.6ms\tremaining: 37.7ms\n",
      "21:\tlearn: 42.0514975\ttest: 58.3879081\tbest: 58.3879081 (21)\ttotal: 41.5ms\tremaining: 35.9ms\n",
      "22:\tlearn: 41.2243384\ttest: 57.4722462\tbest: 57.4722462 (22)\ttotal: 43.5ms\tremaining: 34ms\n",
      "23:\tlearn: 40.3908185\ttest: 56.5194295\tbest: 56.5194295 (23)\ttotal: 45.6ms\tremaining: 32.3ms\n",
      "24:\tlearn: 39.5858391\ttest: 55.4791786\tbest: 55.4791786 (24)\ttotal: 47.5ms\tremaining: 30.4ms\n",
      "25:\tlearn: 38.7955110\ttest: 54.5458491\tbest: 54.5458491 (25)\ttotal: 49.4ms\tremaining: 28.5ms\n",
      "26:\tlearn: 38.0708993\ttest: 53.7020077\tbest: 53.7020077 (26)\ttotal: 51.3ms\tremaining: 26.6ms\n",
      "27:\tlearn: 37.3633950\ttest: 52.7821450\tbest: 52.7821450 (27)\ttotal: 53.2ms\tremaining: 24.7ms\n",
      "28:\tlearn: 36.6558406\ttest: 51.8971342\tbest: 51.8971342 (28)\ttotal: 55.1ms\tremaining: 22.8ms\n",
      "29:\tlearn: 35.9892747\ttest: 51.0942235\tbest: 51.0942235 (29)\ttotal: 57ms\tremaining: 20.9ms\n",
      "30:\tlearn: 35.3588668\ttest: 50.3164674\tbest: 50.3164674 (30)\ttotal: 59ms\tremaining: 19ms\n",
      "31:\tlearn: 34.7335366\ttest: 49.5298752\tbest: 49.5298752 (31)\ttotal: 61ms\tremaining: 17.2ms\n",
      "32:\tlearn: 34.1586151\ttest: 48.7980646\tbest: 48.7980646 (32)\ttotal: 62.9ms\tremaining: 15.3ms\n",
      "33:\tlearn: 33.5859247\ttest: 48.0322979\tbest: 48.0322979 (33)\ttotal: 64.9ms\tremaining: 13.4ms\n",
      "34:\tlearn: 33.0053556\ttest: 47.3126496\tbest: 47.3126496 (34)\ttotal: 66.8ms\tremaining: 11.4ms\n",
      "35:\tlearn: 32.5045976\ttest: 46.6853751\tbest: 46.6853751 (35)\ttotal: 68.7ms\tremaining: 9.54ms\n",
      "36:\tlearn: 31.9890380\ttest: 46.1058714\tbest: 46.1058714 (36)\ttotal: 70.5ms\tremaining: 7.62ms\n",
      "37:\tlearn: 31.5146884\ttest: 45.6130746\tbest: 45.6130746 (37)\ttotal: 72.4ms\tremaining: 5.72ms\n",
      "38:\tlearn: 31.0279276\ttest: 44.9750397\tbest: 44.9750397 (38)\ttotal: 74.3ms\tremaining: 3.81ms\n",
      "39:\tlearn: 30.5752962\ttest: 44.3823181\tbest: 44.3823181 (39)\ttotal: 76.4ms\tremaining: 1.91ms\n",
      "40:\tlearn: 30.1336957\ttest: 43.8440363\tbest: 43.8440363 (40)\ttotal: 78.4ms\tremaining: 0us\n",
      "\n",
      "bestTest = 43.84403634\n",
      "bestIteration = 40\n",
      "\n",
      "Training on fold [5/10]\n",
      "0:\tlearn: 70.9365421\ttest: 84.0548757\tbest: 84.0548757 (0)\ttotal: 2.12ms\tremaining: 84.6ms\n",
      "1:\tlearn: 69.1468980\ttest: 82.1804966\tbest: 82.1804966 (1)\ttotal: 3.87ms\tremaining: 75.5ms\n",
      "2:\tlearn: 67.4132201\ttest: 80.2485213\tbest: 80.2485213 (2)\ttotal: 5.61ms\tremaining: 71.1ms\n",
      "3:\tlearn: 65.7093332\ttest: 78.2914693\tbest: 78.2914693 (3)\ttotal: 7.38ms\tremaining: 68.3ms\n",
      "4:\tlearn: 64.1835167\ttest: 76.5636736\tbest: 76.5636736 (4)\ttotal: 9.37ms\tremaining: 67.5ms\n",
      "5:\tlearn: 62.7042559\ttest: 75.0173993\tbest: 75.0173993 (5)\ttotal: 11.3ms\tremaining: 66.1ms\n",
      "6:\tlearn: 61.2228862\ttest: 73.4275901\tbest: 73.4275901 (6)\ttotal: 13.2ms\tremaining: 64.3ms\n",
      "7:\tlearn: 59.7871357\ttest: 71.8293208\tbest: 71.8293208 (7)\ttotal: 15.2ms\tremaining: 62.6ms\n",
      "8:\tlearn: 58.3934647\ttest: 70.3515781\tbest: 70.3515781 (8)\ttotal: 17.2ms\tremaining: 61ms\n"
     ]
    },
    {
     "name": "stdout",
     "output_type": "stream",
     "text": [
      "9:\tlearn: 57.0591538\ttest: 68.7987713\tbest: 68.7987713 (9)\ttotal: 19.4ms\tremaining: 60ms\n",
      "10:\tlearn: 55.8223890\ttest: 67.5324062\tbest: 67.5324062 (10)\ttotal: 21.6ms\tremaining: 59ms\n",
      "11:\tlearn: 54.6186580\ttest: 66.2564187\tbest: 66.2564187 (11)\ttotal: 24.3ms\tremaining: 58.6ms\n",
      "12:\tlearn: 53.3800305\ttest: 64.9659188\tbest: 64.9659188 (12)\ttotal: 26.5ms\tremaining: 57.1ms\n",
      "13:\tlearn: 52.1750114\ttest: 63.5308992\tbest: 63.5308992 (13)\ttotal: 28.7ms\tremaining: 55.4ms\n",
      "14:\tlearn: 51.0181079\ttest: 62.2957690\tbest: 62.2957690 (14)\ttotal: 30.9ms\tremaining: 53.6ms\n",
      "15:\tlearn: 49.8882307\ttest: 61.1443424\tbest: 61.1443424 (15)\ttotal: 33.2ms\tremaining: 51.9ms\n",
      "16:\tlearn: 48.7893809\ttest: 59.9135138\tbest: 59.9135138 (16)\ttotal: 35.5ms\tremaining: 50.2ms\n",
      "17:\tlearn: 47.7202813\ttest: 58.6987684\tbest: 58.6987684 (17)\ttotal: 38.8ms\tremaining: 49.6ms\n",
      "18:\tlearn: 46.7341865\ttest: 57.5394457\tbest: 57.5394457 (18)\ttotal: 40.9ms\tremaining: 47.3ms\n",
      "19:\tlearn: 45.7140755\ttest: 56.3377315\tbest: 56.3377315 (19)\ttotal: 42.9ms\tremaining: 45ms\n",
      "20:\tlearn: 44.7727069\ttest: 55.3134475\tbest: 55.3134475 (20)\ttotal: 45ms\tremaining: 42.9ms\n",
      "21:\tlearn: 43.9285453\ttest: 54.4795802\tbest: 54.4795802 (21)\ttotal: 47.1ms\tremaining: 40.6ms\n",
      "22:\tlearn: 43.0716378\ttest: 53.4584723\tbest: 53.4584723 (22)\ttotal: 49.1ms\tremaining: 38.4ms\n",
      "23:\tlearn: 42.2038430\ttest: 52.4641103\tbest: 52.4641103 (23)\ttotal: 51.1ms\tremaining: 36.2ms\n",
      "24:\tlearn: 41.3447558\ttest: 51.4162481\tbest: 51.4162481 (24)\ttotal: 53.4ms\tremaining: 34.2ms\n",
      "25:\tlearn: 40.5678084\ttest: 50.4803198\tbest: 50.4803198 (25)\ttotal: 55.6ms\tremaining: 32.1ms\n",
      "26:\tlearn: 39.8064395\ttest: 49.4871449\tbest: 49.4871449 (26)\ttotal: 58.2ms\tremaining: 30.2ms\n",
      "27:\tlearn: 39.0607825\ttest: 48.5331273\tbest: 48.5331273 (27)\ttotal: 60.6ms\tremaining: 28.1ms\n",
      "28:\tlearn: 38.3090623\ttest: 47.5747027\tbest: 47.5747027 (28)\ttotal: 62.7ms\tremaining: 26ms\n",
      "29:\tlearn: 37.6016868\ttest: 46.6889274\tbest: 46.6889274 (29)\ttotal: 64.8ms\tremaining: 23.8ms\n",
      "30:\tlearn: 36.9178465\ttest: 45.7993544\tbest: 45.7993544 (30)\ttotal: 66.9ms\tremaining: 21.6ms\n",
      "31:\tlearn: 36.2610815\ttest: 44.9950834\tbest: 44.9950834 (31)\ttotal: 69.4ms\tremaining: 19.5ms\n",
      "32:\tlearn: 35.6554448\ttest: 44.2138838\tbest: 44.2138838 (32)\ttotal: 71.5ms\tremaining: 17.3ms\n",
      "33:\tlearn: 35.0515489\ttest: 43.4449297\tbest: 43.4449297 (33)\ttotal: 73.7ms\tremaining: 15.2ms\n",
      "34:\tlearn: 34.4692836\ttest: 42.6994760\tbest: 42.6994760 (34)\ttotal: 75.9ms\tremaining: 13ms\n",
      "35:\tlearn: 33.9363828\ttest: 42.0052342\tbest: 42.0052342 (35)\ttotal: 78ms\tremaining: 10.8ms\n",
      "36:\tlearn: 33.3943583\ttest: 41.3627165\tbest: 41.3627165 (36)\ttotal: 80ms\tremaining: 8.64ms\n",
      "37:\tlearn: 32.8686847\ttest: 40.6798574\tbest: 40.6798574 (37)\ttotal: 82ms\tremaining: 6.47ms\n",
      "38:\tlearn: 32.3582133\ttest: 40.0315370\tbest: 40.0315370 (38)\ttotal: 84.3ms\tremaining: 4.32ms\n",
      "39:\tlearn: 31.8823399\ttest: 39.4144797\tbest: 39.4144797 (39)\ttotal: 86.3ms\tremaining: 2.16ms\n",
      "40:\tlearn: 31.4249074\ttest: 38.8895734\tbest: 38.8895734 (40)\ttotal: 88.3ms\tremaining: 0us\n",
      "\n",
      "bestTest = 38.88957336\n",
      "bestIteration = 40\n",
      "\n",
      "Training on fold [6/10]\n",
      "0:\tlearn: 72.9085708\ttest: 89.9619144\tbest: 89.9619144 (0)\ttotal: 2.27ms\tremaining: 90.6ms\n",
      "1:\tlearn: 71.0619300\ttest: 87.9907065\tbest: 87.9907065 (1)\ttotal: 4.15ms\tremaining: 80.9ms\n",
      "2:\tlearn: 69.2689422\ttest: 85.9540211\tbest: 85.9540211 (2)\ttotal: 6.44ms\tremaining: 81.5ms\n",
      "3:\tlearn: 67.4870271\ttest: 83.7742627\tbest: 83.7742627 (3)\ttotal: 8.72ms\tremaining: 80.7ms\n",
      "4:\tlearn: 65.8801390\ttest: 81.9538870\tbest: 81.9538870 (4)\ttotal: 11.2ms\tremaining: 80.3ms\n",
      "5:\tlearn: 64.3365951\ttest: 80.2611781\tbest: 80.2611781 (5)\ttotal: 13.4ms\tremaining: 77.9ms\n",
      "6:\tlearn: 62.8017528\ttest: 78.5546609\tbest: 78.5546609 (6)\ttotal: 15.6ms\tremaining: 75.6ms\n",
      "7:\tlearn: 61.3088062\ttest: 76.8900079\tbest: 76.8900079 (7)\ttotal: 17.7ms\tremaining: 72.9ms\n",
      "8:\tlearn: 59.8652550\ttest: 75.3138477\tbest: 75.3138477 (8)\ttotal: 20.2ms\tremaining: 71.9ms\n",
      "9:\tlearn: 58.4846859\ttest: 73.6479528\tbest: 73.6479528 (9)\ttotal: 22.5ms\tremaining: 69.7ms\n",
      "10:\tlearn: 57.1388416\ttest: 71.9043688\tbest: 71.9043688 (10)\ttotal: 24.7ms\tremaining: 67.3ms\n",
      "11:\tlearn: 55.8912801\ttest: 70.5627100\tbest: 70.5627100 (11)\ttotal: 26.9ms\tremaining: 64.9ms\n",
      "12:\tlearn: 54.6114582\ttest: 69.0819023\tbest: 69.0819023 (12)\ttotal: 29.1ms\tremaining: 62.7ms\n",
      "13:\tlearn: 53.3626989\ttest: 67.5138285\tbest: 67.5138285 (13)\ttotal: 31.3ms\tremaining: 60.3ms\n",
      "14:\tlearn: 52.1629182\ttest: 66.2430966\tbest: 66.2430966 (14)\ttotal: 33.3ms\tremaining: 57.8ms\n",
      "15:\tlearn: 51.0014692\ttest: 65.0305889\tbest: 65.0305889 (15)\ttotal: 35.7ms\tremaining: 55.8ms\n",
      "16:\tlearn: 49.8622907\ttest: 63.7134156\tbest: 63.7134156 (16)\ttotal: 38ms\tremaining: 53.6ms\n",
      "17:\tlearn: 48.7563239\ttest: 62.4081914\tbest: 62.4081914 (17)\ttotal: 40.2ms\tremaining: 51.3ms\n",
      "18:\tlearn: 47.7347085\ttest: 61.1660572\tbest: 61.1660572 (18)\ttotal: 42.3ms\tremaining: 49ms\n",
      "19:\tlearn: 46.6834154\ttest: 59.8800457\tbest: 59.8800457 (19)\ttotal: 44.5ms\tremaining: 46.8ms\n",
      "20:\tlearn: 45.7138346\ttest: 58.7976727\tbest: 58.7976727 (20)\ttotal: 46.8ms\tremaining: 44.5ms\n",
      "21:\tlearn: 44.7870932\ttest: 57.6765833\tbest: 57.6765833 (21)\ttotal: 48.9ms\tremaining: 42.2ms\n",
      "22:\tlearn: 43.8923490\ttest: 56.5169431\tbest: 56.5169431 (22)\ttotal: 51.3ms\tremaining: 40.2ms\n",
      "23:\tlearn: 42.9930290\ttest: 55.4376210\tbest: 55.4376210 (23)\ttotal: 53.6ms\tremaining: 38ms\n",
      "24:\tlearn: 42.1121852\ttest: 54.3067671\tbest: 54.3067671 (24)\ttotal: 55.8ms\tremaining: 35.7ms\n",
      "25:\tlearn: 41.3095429\ttest: 53.2821013\tbest: 53.2821013 (25)\ttotal: 57.9ms\tremaining: 33.4ms\n",
      "26:\tlearn: 40.5399169\ttest: 52.2451070\tbest: 52.2451070 (26)\ttotal: 60ms\tremaining: 31.1ms\n",
      "27:\tlearn: 39.7685553\ttest: 51.1280939\tbest: 51.1280939 (27)\ttotal: 62.1ms\tremaining: 28.8ms\n",
      "28:\tlearn: 39.0209974\ttest: 50.1368232\tbest: 50.1368232 (28)\ttotal: 64.2ms\tremaining: 26.5ms\n",
      "29:\tlearn: 38.2836275\ttest: 49.2241651\tbest: 49.2241651 (29)\ttotal: 66.9ms\tremaining: 24.5ms\n",
      "30:\tlearn: 37.5802205\ttest: 48.2608290\tbest: 48.2608290 (30)\ttotal: 69.1ms\tremaining: 22.3ms\n",
      "31:\tlearn: 36.9058875\ttest: 47.3923163\tbest: 47.3923163 (31)\ttotal: 71.2ms\tremaining: 20ms\n",
      "32:\tlearn: 36.2804664\ttest: 46.5349662\tbest: 46.5349662 (32)\ttotal: 73.6ms\tremaining: 17.8ms\n",
      "33:\tlearn: 35.6780192\ttest: 45.6996125\tbest: 45.6996125 (33)\ttotal: 75.8ms\tremaining: 15.6ms\n",
      "34:\tlearn: 35.0598121\ttest: 44.8937362\tbest: 44.8937362 (34)\ttotal: 78.5ms\tremaining: 13.5ms\n",
      "35:\tlearn: 34.5071316\ttest: 44.1655286\tbest: 44.1655286 (35)\ttotal: 83.3ms\tremaining: 11.6ms\n",
      "36:\tlearn: 33.9496611\ttest: 43.5131760\tbest: 43.5131760 (36)\ttotal: 85.7ms\tremaining: 9.26ms\n",
      "37:\tlearn: 33.4088085\ttest: 42.7718202\tbest: 42.7718202 (37)\ttotal: 88.1ms\tremaining: 6.95ms\n",
      "38:\tlearn: 32.8901303\ttest: 42.1069692\tbest: 42.1069692 (38)\ttotal: 90.4ms\tremaining: 4.63ms\n",
      "39:\tlearn: 32.3976545\ttest: 41.4108545\tbest: 41.4108545 (39)\ttotal: 92.7ms\tremaining: 2.32ms\n",
      "40:\tlearn: 31.9377248\ttest: 40.8493221\tbest: 40.8493221 (40)\ttotal: 95.2ms\tremaining: 0us\n",
      "\n",
      "bestTest = 40.84932205\n",
      "bestIteration = 40\n",
      "\n",
      "Training on fold [7/10]\n",
      "0:\tlearn: 75.2027838\ttest: 97.4770379\tbest: 97.4770379 (0)\ttotal: 2.46ms\tremaining: 98.3ms\n",
      "1:\tlearn: 73.2872735\ttest: 95.0690485\tbest: 95.0690485 (1)\ttotal: 4.48ms\tremaining: 87.3ms\n",
      "2:\tlearn: 71.4222431\ttest: 92.9457485\tbest: 92.9457485 (2)\ttotal: 6.46ms\tremaining: 81.8ms\n",
      "3:\tlearn: 69.5696421\ttest: 90.6580646\tbest: 90.6580646 (3)\ttotal: 9.09ms\tremaining: 84.1ms\n",
      "4:\tlearn: 67.8711579\ttest: 88.6779954\tbest: 88.6779954 (4)\ttotal: 11.3ms\tremaining: 81.7ms\n",
      "5:\tlearn: 66.2613774\ttest: 86.8974254\tbest: 86.8974254 (5)\ttotal: 13.5ms\tremaining: 78.9ms\n",
      "6:\tlearn: 64.7198550\ttest: 85.0769618\tbest: 85.0769618 (6)\ttotal: 15.6ms\tremaining: 75.7ms\n",
      "7:\tlearn: 63.1242958\ttest: 83.1201028\tbest: 83.1201028 (7)\ttotal: 17.7ms\tremaining: 73ms\n",
      "8:\tlearn: 61.6218236\ttest: 81.4755242\tbest: 81.4755242 (8)\ttotal: 19.9ms\tremaining: 70.9ms\n",
      "9:\tlearn: 60.1830839\ttest: 79.7139806\tbest: 79.7139806 (9)\ttotal: 22.2ms\tremaining: 68.7ms\n",
      "10:\tlearn: 58.7772279\ttest: 78.1067302\tbest: 78.1067302 (10)\ttotal: 24.5ms\tremaining: 66.7ms\n",
      "11:\tlearn: 57.4768265\ttest: 76.6708114\tbest: 76.6708114 (11)\ttotal: 26.6ms\tremaining: 64.2ms\n",
      "12:\tlearn: 56.1447096\ttest: 75.2699885\tbest: 75.2699885 (12)\ttotal: 28.9ms\tremaining: 62.1ms\n",
      "13:\tlearn: 54.8443615\ttest: 73.6150338\tbest: 73.6150338 (13)\ttotal: 31.1ms\tremaining: 59.9ms\n",
      "14:\tlearn: 53.6011790\ttest: 72.3062876\tbest: 72.3062876 (14)\ttotal: 33.2ms\tremaining: 57.6ms\n",
      "15:\tlearn: 52.3969606\ttest: 71.0033058\tbest: 71.0033058 (15)\ttotal: 35.5ms\tremaining: 55.4ms\n",
      "16:\tlearn: 51.2112170\ttest: 69.6368717\tbest: 69.6368717 (16)\ttotal: 38ms\tremaining: 53.6ms\n",
      "17:\tlearn: 50.0743353\ttest: 68.1006405\tbest: 68.1006405 (17)\ttotal: 40.4ms\tremaining: 51.6ms\n",
      "18:\tlearn: 49.0080623\ttest: 66.7822492\tbest: 66.7822492 (18)\ttotal: 42.7ms\tremaining: 49.5ms\n",
      "19:\tlearn: 47.9198045\ttest: 65.2900179\tbest: 65.2900179 (19)\ttotal: 45ms\tremaining: 47.2ms\n",
      "20:\tlearn: 46.9128460\ttest: 64.1697360\tbest: 64.1697360 (20)\ttotal: 47.3ms\tremaining: 45.1ms\n",
      "21:\tlearn: 45.9445357\ttest: 63.0488759\tbest: 63.0488759 (21)\ttotal: 49.5ms\tremaining: 42.8ms\n",
      "22:\tlearn: 45.0084617\ttest: 61.8479582\tbest: 61.8479582 (22)\ttotal: 51.7ms\tremaining: 40.5ms\n",
      "23:\tlearn: 44.0743670\ttest: 60.7163305\tbest: 60.7163305 (23)\ttotal: 54.2ms\tremaining: 38.4ms\n",
      "24:\tlearn: 43.1729878\ttest: 59.5613643\tbest: 59.5613643 (24)\ttotal: 56.5ms\tremaining: 36.2ms\n",
      "25:\tlearn: 42.2818799\ttest: 58.4296771\tbest: 58.4296771 (25)\ttotal: 58.8ms\tremaining: 33.9ms\n",
      "26:\tlearn: 41.4795596\ttest: 57.3304720\tbest: 57.3304720 (26)\ttotal: 61.3ms\tremaining: 31.8ms\n",
      "27:\tlearn: 40.6800454\ttest: 56.2056266\tbest: 56.2056266 (27)\ttotal: 63.5ms\tremaining: 29.5ms\n",
      "28:\tlearn: 39.9007053\ttest: 55.1766260\tbest: 55.1766260 (28)\ttotal: 65.7ms\tremaining: 27.2ms\n",
      "29:\tlearn: 39.1349693\ttest: 54.2015202\tbest: 54.2015202 (29)\ttotal: 67.8ms\tremaining: 24.9ms\n",
      "30:\tlearn: 38.4054745\ttest: 53.1726966\tbest: 53.1726966 (30)\ttotal: 70ms\tremaining: 22.6ms\n",
      "31:\tlearn: 37.7037183\ttest: 52.2535256\tbest: 52.2535256 (31)\ttotal: 72.2ms\tremaining: 20.3ms\n",
      "32:\tlearn: 37.0538693\ttest: 51.3509859\tbest: 51.3509859 (32)\ttotal: 74.4ms\tremaining: 18ms\n",
      "33:\tlearn: 36.4289356\ttest: 50.4649643\tbest: 50.4649643 (33)\ttotal: 76.6ms\tremaining: 15.8ms\n",
      "34:\tlearn: 35.7939327\ttest: 49.5705374\tbest: 49.5705374 (34)\ttotal: 78.9ms\tremaining: 13.5ms\n",
      "35:\tlearn: 35.2255117\ttest: 48.7851814\tbest: 48.7851814 (35)\ttotal: 81.1ms\tremaining: 11.3ms\n",
      "36:\tlearn: 34.6605304\ttest: 48.1429131\tbest: 48.1429131 (36)\ttotal: 83.5ms\tremaining: 9.03ms\n",
      "37:\tlearn: 34.1379146\ttest: 47.4835222\tbest: 47.4835222 (37)\ttotal: 85.6ms\tremaining: 6.76ms\n",
      "38:\tlearn: 33.5991768\ttest: 46.7719665\tbest: 46.7719665 (38)\ttotal: 87.9ms\tremaining: 4.51ms\n",
      "39:\tlearn: 33.0743840\ttest: 46.0495937\tbest: 46.0495937 (39)\ttotal: 90.2ms\tremaining: 2.25ms\n",
      "40:\tlearn: 32.5745927\ttest: 45.3657768\tbest: 45.3657768 (40)\ttotal: 92.5ms\tremaining: 0us\n",
      "\n",
      "bestTest = 45.36577679\n",
      "bestIteration = 40\n",
      "\n",
      "Training on fold [8/10]\n",
      "0:\tlearn: 77.9350716\ttest: 108.4635067\tbest: 108.4635067 (0)\ttotal: 2.69ms\tremaining: 108ms\n",
      "1:\tlearn: 75.9123961\ttest: 106.1031378\tbest: 106.1031378 (1)\ttotal: 4.96ms\tremaining: 96.7ms\n",
      "2:\tlearn: 73.9669965\ttest: 103.8044970\tbest: 103.8044970 (2)\ttotal: 7.5ms\tremaining: 95ms\n",
      "3:\tlearn: 72.0327265\ttest: 101.4599664\tbest: 101.4599664 (3)\ttotal: 9.66ms\tremaining: 89.3ms\n",
      "4:\tlearn: 70.2905910\ttest: 99.4229294\tbest: 99.4229294 (4)\ttotal: 11.8ms\tremaining: 84.8ms\n",
      "5:\tlearn: 68.6126474\ttest: 97.5675196\tbest: 97.5675196 (5)\ttotal: 14ms\tremaining: 81.4ms\n",
      "6:\tlearn: 66.9776048\ttest: 95.6779848\tbest: 95.6779848 (6)\ttotal: 16.2ms\tremaining: 78.8ms\n"
     ]
    },
    {
     "name": "stdout",
     "output_type": "stream",
     "text": [
      "7:\tlearn: 65.3154618\ttest: 93.6622653\tbest: 93.6622653 (7)\ttotal: 18.8ms\tremaining: 77.4ms\n",
      "8:\tlearn: 63.8142618\ttest: 91.8888464\tbest: 91.8888464 (8)\ttotal: 21.7ms\tremaining: 77ms\n",
      "9:\tlearn: 62.3015462\ttest: 89.9726172\tbest: 89.9726172 (9)\ttotal: 24.2ms\tremaining: 74.9ms\n",
      "10:\tlearn: 60.8610123\ttest: 88.1745948\tbest: 88.1745948 (10)\ttotal: 26.7ms\tremaining: 72.9ms\n",
      "11:\tlearn: 59.5041945\ttest: 86.7235765\tbest: 86.7235765 (11)\ttotal: 29.2ms\tremaining: 70.5ms\n",
      "12:\tlearn: 58.1213209\ttest: 85.1292211\tbest: 85.1292211 (12)\ttotal: 32ms\tremaining: 69ms\n",
      "13:\tlearn: 56.7595325\ttest: 83.4136913\tbest: 83.4136913 (13)\ttotal: 34.7ms\tremaining: 66.8ms\n",
      "14:\tlearn: 55.4758987\ttest: 82.0722468\tbest: 82.0722468 (14)\ttotal: 37.6ms\tremaining: 65.1ms\n",
      "15:\tlearn: 54.2188055\ttest: 80.6938991\tbest: 80.6938991 (15)\ttotal: 39.9ms\tremaining: 62.3ms\n",
      "16:\tlearn: 52.9854908\ttest: 79.2333066\tbest: 79.2333066 (16)\ttotal: 42.3ms\tremaining: 59.7ms\n",
      "17:\tlearn: 51.7455526\ttest: 77.5301509\tbest: 77.5301509 (17)\ttotal: 44.7ms\tremaining: 57.1ms\n",
      "18:\tlearn: 50.6326847\ttest: 76.1625056\tbest: 76.1625056 (18)\ttotal: 48ms\tremaining: 55.6ms\n",
      "19:\tlearn: 49.4935804\ttest: 74.7244692\tbest: 74.7244692 (19)\ttotal: 50.9ms\tremaining: 53.4ms\n",
      "20:\tlearn: 48.4521012\ttest: 73.5719902\tbest: 73.5719902 (20)\ttotal: 53.9ms\tremaining: 51.3ms\n",
      "21:\tlearn: 47.4401175\ttest: 72.3601073\tbest: 72.3601073 (21)\ttotal: 56.3ms\tremaining: 48.6ms\n",
      "22:\tlearn: 46.4668629\ttest: 71.1131307\tbest: 71.1131307 (22)\ttotal: 58.6ms\tremaining: 45.9ms\n",
      "23:\tlearn: 45.4905015\ttest: 69.8945391\tbest: 69.8945391 (23)\ttotal: 61.1ms\tremaining: 43.3ms\n",
      "24:\tlearn: 44.5410393\ttest: 68.6813607\tbest: 68.6813607 (24)\ttotal: 63.5ms\tremaining: 40.6ms\n",
      "25:\tlearn: 43.6446019\ttest: 67.5193096\tbest: 67.5193096 (25)\ttotal: 65.8ms\tremaining: 38ms\n",
      "26:\tlearn: 42.7984785\ttest: 66.3629270\tbest: 66.3629270 (26)\ttotal: 68.2ms\tremaining: 35.4ms\n",
      "27:\tlearn: 41.9592655\ttest: 65.1647319\tbest: 65.1647319 (27)\ttotal: 70.8ms\tremaining: 32.9ms\n",
      "28:\tlearn: 41.1228929\ttest: 63.9800219\tbest: 63.9800219 (28)\ttotal: 73.1ms\tremaining: 30.2ms\n",
      "29:\tlearn: 40.3213865\ttest: 62.9285416\tbest: 62.9285416 (29)\ttotal: 75.5ms\tremaining: 27.7ms\n",
      "30:\tlearn: 39.5595994\ttest: 61.8673427\tbest: 61.8673427 (30)\ttotal: 78ms\tremaining: 25.1ms\n",
      "31:\tlearn: 38.8560847\ttest: 60.9150423\tbest: 60.9150423 (31)\ttotal: 80.3ms\tremaining: 22.6ms\n",
      "32:\tlearn: 38.1687728\ttest: 59.9574222\tbest: 59.9574222 (32)\ttotal: 82.7ms\tremaining: 20ms\n",
      "33:\tlearn: 37.5048895\ttest: 58.9790541\tbest: 58.9790541 (33)\ttotal: 85.1ms\tremaining: 17.5ms\n",
      "34:\tlearn: 36.8402992\ttest: 58.0231340\tbest: 58.0231340 (34)\ttotal: 87.5ms\tremaining: 15ms\n",
      "35:\tlearn: 36.2421960\ttest: 57.1998621\tbest: 57.1998621 (35)\ttotal: 89.9ms\tremaining: 12.5ms\n",
      "36:\tlearn: 35.6388610\ttest: 56.3628197\tbest: 56.3628197 (36)\ttotal: 92.5ms\tremaining: 9.99ms\n",
      "37:\tlearn: 35.0600863\ttest: 55.6206565\tbest: 55.6206565 (37)\ttotal: 94.8ms\tremaining: 7.49ms\n",
      "38:\tlearn: 34.4941064\ttest: 54.8635448\tbest: 54.8635448 (38)\ttotal: 97.2ms\tremaining: 4.98ms\n",
      "39:\tlearn: 33.9559042\ttest: 54.0892691\tbest: 54.0892691 (39)\ttotal: 99.5ms\tremaining: 2.49ms\n",
      "40:\tlearn: 33.4345463\ttest: 53.3812536\tbest: 53.3812536 (40)\ttotal: 104ms\tremaining: 0us\n",
      "\n",
      "bestTest = 53.38125365\n",
      "bestIteration = 40\n",
      "\n",
      "Training on fold [9/10]\n",
      "0:\tlearn: 81.4292150\ttest: 117.2993907\tbest: 117.2993907 (0)\ttotal: 2.4ms\tremaining: 95.9ms\n",
      "1:\tlearn: 79.3247311\ttest: 114.6572540\tbest: 114.6572540 (1)\ttotal: 4.52ms\tremaining: 88.2ms\n",
      "2:\tlearn: 77.2591947\ttest: 112.1872479\tbest: 112.1872479 (2)\ttotal: 6.62ms\tremaining: 83.8ms\n",
      "3:\tlearn: 75.2589445\ttest: 109.8126469\tbest: 109.8126469 (3)\ttotal: 8.75ms\tremaining: 81ms\n",
      "4:\tlearn: 73.3534801\ttest: 107.5295474\tbest: 107.5295474 (4)\ttotal: 11ms\tremaining: 79.1ms\n",
      "5:\tlearn: 71.5716794\ttest: 105.1835344\tbest: 105.1835344 (5)\ttotal: 13.2ms\tremaining: 76.9ms\n",
      "6:\tlearn: 69.8579654\ttest: 103.2577808\tbest: 103.2577808 (6)\ttotal: 15.5ms\tremaining: 75.1ms\n",
      "7:\tlearn: 68.1149870\ttest: 101.1972270\tbest: 101.1972270 (7)\ttotal: 17.7ms\tremaining: 73ms\n",
      "8:\tlearn: 66.5363626\ttest: 99.2944351\tbest: 99.2944351 (8)\ttotal: 20.7ms\tremaining: 73.6ms\n",
      "9:\tlearn: 64.9606947\ttest: 97.1462304\tbest: 97.1462304 (9)\ttotal: 23.1ms\tremaining: 71.5ms\n",
      "10:\tlearn: 63.4131303\ttest: 95.2879866\tbest: 95.2879866 (10)\ttotal: 25.4ms\tremaining: 69.2ms\n",
      "11:\tlearn: 61.9970804\ttest: 93.7011815\tbest: 93.7011815 (11)\ttotal: 27.7ms\tremaining: 66.9ms\n",
      "12:\tlearn: 60.5542316\ttest: 92.2119537\tbest: 92.2119537 (12)\ttotal: 30.4ms\tremaining: 65.5ms\n",
      "13:\tlearn: 59.1278787\ttest: 90.4899465\tbest: 90.4899465 (13)\ttotal: 32.8ms\tremaining: 63.2ms\n",
      "14:\tlearn: 57.7793616\ttest: 89.0003686\tbest: 89.0003686 (14)\ttotal: 35.7ms\tremaining: 61.9ms\n",
      "15:\tlearn: 56.4738475\ttest: 87.4048925\tbest: 87.4048925 (15)\ttotal: 38.3ms\tremaining: 59.8ms\n",
      "16:\tlearn: 55.2209665\ttest: 85.8716468\tbest: 85.8716468 (16)\ttotal: 40.7ms\tremaining: 57.4ms\n",
      "17:\tlearn: 53.9609159\ttest: 84.2949927\tbest: 84.2949927 (17)\ttotal: 43ms\tremaining: 54.9ms\n",
      "18:\tlearn: 52.7906689\ttest: 82.8866210\tbest: 82.8866210 (18)\ttotal: 45.5ms\tremaining: 52.7ms\n",
      "19:\tlearn: 51.5984354\ttest: 81.4059363\tbest: 81.4059363 (19)\ttotal: 47.9ms\tremaining: 50.3ms\n",
      "20:\tlearn: 50.4646130\ttest: 80.0304664\tbest: 80.0304664 (20)\ttotal: 50.3ms\tremaining: 47.9ms\n",
      "21:\tlearn: 49.4275796\ttest: 78.7190690\tbest: 78.7190690 (21)\ttotal: 52.7ms\tremaining: 45.5ms\n",
      "22:\tlearn: 48.4072149\ttest: 77.4537727\tbest: 77.4537727 (22)\ttotal: 55.1ms\tremaining: 43.1ms\n",
      "23:\tlearn: 47.3995265\ttest: 76.1157743\tbest: 76.1157743 (23)\ttotal: 57.5ms\tremaining: 40.8ms\n",
      "24:\tlearn: 46.4062039\ttest: 74.8979425\tbest: 74.8979425 (24)\ttotal: 60.2ms\tremaining: 38.5ms\n",
      "25:\tlearn: 45.4646478\ttest: 73.6727548\tbest: 73.6727548 (25)\ttotal: 62.5ms\tremaining: 36ms\n",
      "26:\tlearn: 44.5721102\ttest: 72.5153992\tbest: 72.5153992 (26)\ttotal: 65.3ms\tremaining: 33.9ms\n",
      "27:\tlearn: 43.6919262\ttest: 71.3030070\tbest: 71.3030070 (27)\ttotal: 68ms\tremaining: 31.6ms\n",
      "28:\tlearn: 42.8199269\ttest: 70.1233459\tbest: 70.1233459 (28)\ttotal: 70.6ms\tremaining: 29.2ms\n",
      "29:\tlearn: 41.9843900\ttest: 69.0490729\tbest: 69.0490729 (29)\ttotal: 73.1ms\tremaining: 26.8ms\n",
      "30:\tlearn: 41.1876167\ttest: 67.9937917\tbest: 67.9937917 (30)\ttotal: 76.3ms\tremaining: 24.6ms\n",
      "31:\tlearn: 40.4305752\ttest: 66.9870799\tbest: 66.9870799 (31)\ttotal: 79.1ms\tremaining: 22.2ms\n",
      "32:\tlearn: 39.7161626\ttest: 66.0335455\tbest: 66.0335455 (32)\ttotal: 81.6ms\tremaining: 19.8ms\n",
      "33:\tlearn: 39.0247345\ttest: 65.0093793\tbest: 65.0093793 (33)\ttotal: 84ms\tremaining: 17.3ms\n",
      "34:\tlearn: 38.3291349\ttest: 64.1269037\tbest: 64.1269037 (34)\ttotal: 86.4ms\tremaining: 14.8ms\n",
      "35:\tlearn: 37.7084433\ttest: 63.2916062\tbest: 63.2916062 (35)\ttotal: 89.1ms\tremaining: 12.4ms\n",
      "36:\tlearn: 37.0808658\ttest: 62.3983161\tbest: 62.3983161 (36)\ttotal: 91.9ms\tremaining: 9.93ms\n",
      "37:\tlearn: 36.4766437\ttest: 61.6116739\tbest: 61.6116739 (37)\ttotal: 94.9ms\tremaining: 7.49ms\n",
      "38:\tlearn: 35.8937076\ttest: 60.7747795\tbest: 60.7747795 (38)\ttotal: 97.8ms\tremaining: 5.01ms\n",
      "39:\tlearn: 35.3130612\ttest: 59.8667254\tbest: 59.8667254 (39)\ttotal: 100ms\tremaining: 2.51ms\n",
      "40:\tlearn: 34.7800009\ttest: 59.1491982\tbest: 59.1491982 (40)\ttotal: 103ms\tremaining: 0us\n",
      "\n",
      "bestTest = 59.14919818\n",
      "bestIteration = 40\n",
      "\n",
      "Training on fold [0/10]\n",
      "0:\tlearn: 61.6360782\ttest: 64.1708599\tbest: 64.1708599 (0)\ttotal: 3.41ms\tremaining: 130ms\n",
      "1:\tlearn: 60.3344549\ttest: 62.8850648\tbest: 62.8850648 (1)\ttotal: 6.07ms\tremaining: 112ms\n",
      "2:\tlearn: 58.8971747\ttest: 61.4943195\tbest: 61.4943195 (2)\ttotal: 8.79ms\tremaining: 106ms\n",
      "3:\tlearn: 57.5597797\ttest: 60.1858310\tbest: 60.1858310 (3)\ttotal: 11.7ms\tremaining: 103ms\n",
      "4:\tlearn: 56.2890602\ttest: 58.9551073\tbest: 58.9551073 (4)\ttotal: 14.8ms\tremaining: 100ms\n",
      "5:\tlearn: 55.1007497\ttest: 57.8568895\tbest: 57.8568895 (5)\ttotal: 17.7ms\tremaining: 97.6ms\n",
      "6:\tlearn: 53.8705023\ttest: 56.6605456\tbest: 56.6605456 (6)\ttotal: 20.6ms\tremaining: 94.4ms\n",
      "7:\tlearn: 52.8642888\ttest: 55.7408887\tbest: 55.7408887 (7)\ttotal: 23.5ms\tremaining: 91.2ms\n",
      "8:\tlearn: 51.6965242\ttest: 54.5747433\tbest: 54.5747433 (8)\ttotal: 26.6ms\tremaining: 88.7ms\n",
      "9:\tlearn: 50.5179025\ttest: 53.4376364\tbest: 53.4376364 (9)\ttotal: 30ms\tremaining: 86.9ms\n",
      "10:\tlearn: 49.4776414\ttest: 52.4244022\tbest: 52.4244022 (10)\ttotal: 33.4ms\tremaining: 84.9ms\n",
      "11:\tlearn: 48.4658300\ttest: 51.4757484\tbest: 51.4757484 (11)\ttotal: 36.5ms\tremaining: 82.2ms\n",
      "12:\tlearn: 47.4567992\ttest: 50.4977624\tbest: 50.4977624 (12)\ttotal: 39.7ms\tremaining: 79.4ms\n",
      "13:\tlearn: 46.5717183\ttest: 49.6553113\tbest: 49.6553113 (13)\ttotal: 42.8ms\tremaining: 76.5ms\n",
      "14:\tlearn: 45.6695185\ttest: 48.7424720\tbest: 48.7424720 (14)\ttotal: 46ms\tremaining: 73.6ms\n",
      "15:\tlearn: 44.7022922\ttest: 47.7873748\tbest: 47.7873748 (15)\ttotal: 49.1ms\tremaining: 70.5ms\n",
      "16:\tlearn: 43.8403153\ttest: 46.9625221\tbest: 46.9625221 (16)\ttotal: 52.2ms\tremaining: 67.5ms\n",
      "17:\tlearn: 43.0221709\ttest: 46.1580136\tbest: 46.1580136 (17)\ttotal: 55.2ms\tremaining: 64.3ms\n",
      "18:\tlearn: 42.1435368\ttest: 45.3086442\tbest: 45.3086442 (18)\ttotal: 58.1ms\tremaining: 61.2ms\n",
      "19:\tlearn: 41.3044030\ttest: 44.4842732\tbest: 44.4842732 (19)\ttotal: 61.6ms\tremaining: 58.5ms\n",
      "20:\tlearn: 40.5168511\ttest: 43.7367704\tbest: 43.7367704 (20)\ttotal: 64.7ms\tremaining: 55.4ms\n",
      "21:\tlearn: 39.7962101\ttest: 43.0701747\tbest: 43.0701747 (21)\ttotal: 67.9ms\tremaining: 52.4ms\n",
      "22:\tlearn: 39.0785864\ttest: 42.4184740\tbest: 42.4184740 (22)\ttotal: 70.9ms\tremaining: 49.3ms\n",
      "23:\tlearn: 38.2966343\ttest: 41.6449103\tbest: 41.6449103 (23)\ttotal: 74.2ms\tremaining: 46.3ms\n",
      "24:\tlearn: 37.5223990\ttest: 40.8652709\tbest: 40.8652709 (24)\ttotal: 77.3ms\tremaining: 43.3ms\n",
      "25:\tlearn: 36.7893097\ttest: 40.1284059\tbest: 40.1284059 (25)\ttotal: 80.5ms\tremaining: 40.2ms\n",
      "26:\tlearn: 36.1249213\ttest: 39.4969618\tbest: 39.4969618 (26)\ttotal: 83.6ms\tremaining: 37.1ms\n",
      "27:\tlearn: 35.4012503\ttest: 38.7769502\tbest: 38.7769502 (27)\ttotal: 86.6ms\tremaining: 34ms\n",
      "28:\tlearn: 34.8093679\ttest: 38.2570210\tbest: 38.2570210 (28)\ttotal: 89.7ms\tremaining: 30.9ms\n",
      "29:\tlearn: 34.2829296\ttest: 37.7545591\tbest: 37.7545591 (29)\ttotal: 92.7ms\tremaining: 27.8ms\n",
      "30:\tlearn: 33.7396426\ttest: 37.2390006\tbest: 37.2390006 (30)\ttotal: 96ms\tremaining: 24.8ms\n",
      "31:\tlearn: 33.1347435\ttest: 36.6220286\tbest: 36.6220286 (31)\ttotal: 99ms\tremaining: 21.7ms\n",
      "32:\tlearn: 32.5804731\ttest: 36.1125550\tbest: 36.1125550 (32)\ttotal: 102ms\tremaining: 18.5ms\n",
      "33:\tlearn: 31.9876571\ttest: 35.5617921\tbest: 35.5617921 (33)\ttotal: 105ms\tremaining: 15.5ms\n",
      "34:\tlearn: 31.4647128\ttest: 35.0754340\tbest: 35.0754340 (34)\ttotal: 108ms\tremaining: 12.4ms\n",
      "35:\tlearn: 30.9939664\ttest: 34.6374554\tbest: 34.6374554 (35)\ttotal: 111ms\tremaining: 9.28ms\n"
     ]
    },
    {
     "name": "stdout",
     "output_type": "stream",
     "text": [
      "36:\tlearn: 30.4977223\ttest: 34.1681901\tbest: 34.1681901 (36)\ttotal: 115ms\tremaining: 6.22ms\n",
      "37:\tlearn: 30.0471620\ttest: 33.7306125\tbest: 33.7306125 (37)\ttotal: 119ms\tremaining: 3.12ms\n",
      "38:\tlearn: 29.5617278\ttest: 33.2204509\tbest: 33.2204509 (38)\ttotal: 122ms\tremaining: 0us\n",
      "\n",
      "bestTest = 33.22045094\n",
      "bestIteration = 38\n",
      "\n",
      "Training on fold [1/10]\n",
      "0:\tlearn: 62.6808610\ttest: 64.4158308\tbest: 64.4158308 (0)\ttotal: 3.7ms\tremaining: 141ms\n",
      "1:\tlearn: 61.1962653\ttest: 62.9800242\tbest: 62.9800242 (1)\ttotal: 6.6ms\tremaining: 122ms\n",
      "2:\tlearn: 59.7672652\ttest: 61.5933264\tbest: 61.5933264 (2)\ttotal: 9.82ms\tremaining: 118ms\n",
      "3:\tlearn: 58.4261082\ttest: 60.2703120\tbest: 60.2703120 (3)\ttotal: 13ms\tremaining: 114ms\n",
      "4:\tlearn: 57.0533984\ttest: 58.8985744\tbest: 58.8985744 (4)\ttotal: 16.2ms\tremaining: 110ms\n",
      "5:\tlearn: 55.7267733\ttest: 57.5987704\tbest: 57.5987704 (5)\ttotal: 19.5ms\tremaining: 107ms\n",
      "6:\tlearn: 54.5351473\ttest: 56.4474792\tbest: 56.4474792 (6)\ttotal: 23.1ms\tremaining: 106ms\n",
      "7:\tlearn: 53.2622977\ttest: 55.1755931\tbest: 55.1755931 (7)\ttotal: 27ms\tremaining: 105ms\n",
      "8:\tlearn: 52.0204430\ttest: 53.9431681\tbest: 53.9431681 (8)\ttotal: 30.5ms\tremaining: 102ms\n",
      "9:\tlearn: 50.8800574\ttest: 52.8756366\tbest: 52.8756366 (9)\ttotal: 34.1ms\tremaining: 98.8ms\n",
      "10:\tlearn: 49.7172891\ttest: 51.7395659\tbest: 51.7395659 (10)\ttotal: 37.7ms\tremaining: 96.1ms\n",
      "11:\tlearn: 48.6441689\ttest: 50.7038569\tbest: 50.7038569 (11)\ttotal: 41.3ms\tremaining: 92.9ms\n",
      "12:\tlearn: 47.6241591\ttest: 49.6844119\tbest: 49.6844119 (12)\ttotal: 44.7ms\tremaining: 89.4ms\n",
      "13:\tlearn: 46.6466343\ttest: 49.1843242\tbest: 49.1843242 (13)\ttotal: 48.2ms\tremaining: 86ms\n",
      "14:\tlearn: 45.5998694\ttest: 48.1654808\tbest: 48.1654808 (14)\ttotal: 51.8ms\tremaining: 82.8ms\n",
      "15:\tlearn: 44.5672154\ttest: 47.4766702\tbest: 47.4766702 (15)\ttotal: 55.7ms\tremaining: 80.1ms\n",
      "16:\tlearn: 43.6086563\ttest: 46.5776211\tbest: 46.5776211 (16)\ttotal: 59.2ms\tremaining: 76.6ms\n",
      "17:\tlearn: 42.6935957\ttest: 45.6762722\tbest: 45.6762722 (17)\ttotal: 62.8ms\tremaining: 73.2ms\n",
      "18:\tlearn: 41.8419885\ttest: 44.8908225\tbest: 44.8908225 (18)\ttotal: 66.4ms\tremaining: 69.9ms\n",
      "19:\tlearn: 41.0657350\ttest: 44.4703362\tbest: 44.4703362 (19)\ttotal: 70.3ms\tremaining: 66.8ms\n",
      "20:\tlearn: 40.2134200\ttest: 43.6491693\tbest: 43.6491693 (20)\ttotal: 73.7ms\tremaining: 63.2ms\n",
      "21:\tlearn: 39.4640613\ttest: 42.9271379\tbest: 42.9271379 (21)\ttotal: 77.7ms\tremaining: 60ms\n",
      "22:\tlearn: 38.6788207\ttest: 42.1860859\tbest: 42.1860859 (22)\ttotal: 82ms\tremaining: 57ms\n",
      "23:\tlearn: 37.9215405\ttest: 41.4315800\tbest: 41.4315800 (23)\ttotal: 85.7ms\tremaining: 53.5ms\n",
      "24:\tlearn: 37.1767907\ttest: 40.7163845\tbest: 40.7163845 (24)\ttotal: 89.1ms\tremaining: 49.9ms\n",
      "25:\tlearn: 36.4794711\ttest: 40.0859806\tbest: 40.0859806 (25)\ttotal: 92.7ms\tremaining: 46.4ms\n",
      "26:\tlearn: 35.8178198\ttest: 39.4264918\tbest: 39.4264918 (26)\ttotal: 96.3ms\tremaining: 42.8ms\n",
      "27:\tlearn: 35.1317046\ttest: 38.7828291\tbest: 38.7828291 (27)\ttotal: 100ms\tremaining: 39.4ms\n",
      "28:\tlearn: 34.5642865\ttest: 38.2588066\tbest: 38.2588066 (28)\ttotal: 104ms\tremaining: 35.7ms\n",
      "29:\tlearn: 33.9051700\ttest: 37.5970208\tbest: 37.5970208 (29)\ttotal: 107ms\tremaining: 32.1ms\n",
      "30:\tlearn: 33.2637823\ttest: 37.1568482\tbest: 37.1568482 (30)\ttotal: 111ms\tremaining: 28.5ms\n",
      "31:\tlearn: 32.6911079\ttest: 36.5724323\tbest: 36.5724323 (31)\ttotal: 114ms\tremaining: 25ms\n",
      "32:\tlearn: 32.1008120\ttest: 35.9764190\tbest: 35.9764190 (32)\ttotal: 118ms\tremaining: 21.4ms\n",
      "33:\tlearn: 31.5171652\ttest: 35.4368005\tbest: 35.4368005 (33)\ttotal: 121ms\tremaining: 17.8ms\n",
      "34:\tlearn: 31.0142394\ttest: 34.9442761\tbest: 34.9442761 (34)\ttotal: 125ms\tremaining: 14.2ms\n",
      "35:\tlearn: 30.4997152\ttest: 34.4666715\tbest: 34.4666715 (35)\ttotal: 128ms\tremaining: 10.7ms\n",
      "36:\tlearn: 29.9813099\ttest: 33.9658041\tbest: 33.9658041 (36)\ttotal: 132ms\tremaining: 7.11ms\n",
      "37:\tlearn: 29.5305901\ttest: 33.5329880\tbest: 33.5329880 (37)\ttotal: 135ms\tremaining: 3.55ms\n",
      "38:\tlearn: 29.0706266\ttest: 33.1167006\tbest: 33.1167006 (38)\ttotal: 138ms\tremaining: 0us\n",
      "\n",
      "bestTest = 33.11670063\n",
      "bestIteration = 38\n",
      "\n",
      "Training on fold [2/10]\n",
      "0:\tlearn: 63.2290052\ttest: 74.5015100\tbest: 74.5015100 (0)\ttotal: 10.9ms\tremaining: 414ms\n",
      "1:\tlearn: 61.7430119\ttest: 72.9476195\tbest: 72.9476195 (1)\ttotal: 14.4ms\tremaining: 267ms\n",
      "2:\tlearn: 60.2759034\ttest: 71.4917057\tbest: 71.4917057 (2)\ttotal: 18.6ms\tremaining: 223ms\n",
      "3:\tlearn: 58.9127980\ttest: 70.1598894\tbest: 70.1598894 (3)\ttotal: 22.4ms\tremaining: 196ms\n",
      "4:\tlearn: 57.4854847\ttest: 68.6691494\tbest: 68.6691494 (4)\ttotal: 26.4ms\tremaining: 179ms\n",
      "5:\tlearn: 56.1355237\ttest: 67.2985239\tbest: 67.2985239 (5)\ttotal: 30.2ms\tremaining: 166ms\n",
      "6:\tlearn: 54.8762740\ttest: 66.1253049\tbest: 66.1253049 (6)\ttotal: 34.2ms\tremaining: 156ms\n",
      "7:\tlearn: 53.5409805\ttest: 64.6840907\tbest: 64.6840907 (7)\ttotal: 38ms\tremaining: 147ms\n",
      "8:\tlearn: 52.2904787\ttest: 63.4008908\tbest: 63.4008908 (8)\ttotal: 41.9ms\tremaining: 140ms\n",
      "9:\tlearn: 51.1167838\ttest: 62.1366216\tbest: 62.1366216 (9)\ttotal: 46ms\tremaining: 133ms\n",
      "10:\tlearn: 49.9346609\ttest: 60.8874261\tbest: 60.8874261 (10)\ttotal: 50ms\tremaining: 127ms\n",
      "11:\tlearn: 48.8664262\ttest: 59.7503718\tbest: 59.7503718 (11)\ttotal: 53.9ms\tremaining: 121ms\n",
      "12:\tlearn: 47.8091274\ttest: 58.5895341\tbest: 58.5895341 (12)\ttotal: 58.3ms\tremaining: 117ms\n",
      "13:\tlearn: 46.8283347\ttest: 57.6160543\tbest: 57.6160543 (13)\ttotal: 62.1ms\tremaining: 111ms\n",
      "14:\tlearn: 45.8618385\ttest: 56.6210496\tbest: 56.6210496 (14)\ttotal: 66.3ms\tremaining: 106ms\n",
      "15:\tlearn: 44.8355245\ttest: 55.6102580\tbest: 55.6102580 (15)\ttotal: 70.3ms\tremaining: 101ms\n",
      "16:\tlearn: 43.8710073\ttest: 54.6030182\tbest: 54.6030182 (16)\ttotal: 74.3ms\tremaining: 96.2ms\n",
      "17:\tlearn: 42.9346108\ttest: 53.6412666\tbest: 53.6412666 (17)\ttotal: 78.7ms\tremaining: 91.8ms\n",
      "18:\tlearn: 42.0943378\ttest: 52.7729798\tbest: 52.7729798 (18)\ttotal: 82.7ms\tremaining: 87ms\n",
      "19:\tlearn: 41.3220171\ttest: 52.0256963\tbest: 52.0256963 (19)\ttotal: 86.6ms\tremaining: 82.3ms\n",
      "20:\tlearn: 40.4702785\ttest: 51.2669222\tbest: 51.2669222 (20)\ttotal: 90.4ms\tremaining: 77.5ms\n",
      "21:\tlearn: 39.6608566\ttest: 50.4561655\tbest: 50.4561655 (21)\ttotal: 94.7ms\tremaining: 73.2ms\n",
      "22:\tlearn: 38.8438091\ttest: 49.6410354\tbest: 49.6410354 (22)\ttotal: 98.4ms\tremaining: 68.5ms\n",
      "23:\tlearn: 38.0782493\ttest: 48.8802972\tbest: 48.8802972 (23)\ttotal: 102ms\tremaining: 64ms\n",
      "24:\tlearn: 37.3209911\ttest: 47.9743692\tbest: 47.9743692 (24)\ttotal: 106ms\tremaining: 59.5ms\n",
      "25:\tlearn: 36.6156914\ttest: 47.1205548\tbest: 47.1205548 (25)\ttotal: 110ms\tremaining: 55.2ms\n",
      "26:\tlearn: 35.9160375\ttest: 46.4225663\tbest: 46.4225663 (26)\ttotal: 114ms\tremaining: 50.7ms\n",
      "27:\tlearn: 35.2344189\ttest: 45.6527954\tbest: 45.6527954 (27)\ttotal: 118ms\tremaining: 46.3ms\n",
      "28:\tlearn: 34.6180740\ttest: 45.1113499\tbest: 45.1113499 (28)\ttotal: 122ms\tremaining: 42ms\n",
      "29:\tlearn: 33.9635474\ttest: 44.3775885\tbest: 44.3775885 (29)\ttotal: 126ms\tremaining: 37.7ms\n",
      "30:\tlearn: 33.3527391\ttest: 43.6970763\tbest: 43.6970763 (30)\ttotal: 130ms\tremaining: 33.5ms\n",
      "31:\tlearn: 32.7681358\ttest: 43.1230274\tbest: 43.1230274 (31)\ttotal: 133ms\tremaining: 29.2ms\n",
      "32:\tlearn: 32.1859623\ttest: 42.4796578\tbest: 42.4796578 (32)\ttotal: 137ms\tremaining: 25ms\n",
      "33:\tlearn: 31.6203205\ttest: 41.8919108\tbest: 41.8919108 (33)\ttotal: 141ms\tremaining: 20.8ms\n",
      "34:\tlearn: 31.0797186\ttest: 41.3770607\tbest: 41.3770607 (34)\ttotal: 146ms\tremaining: 16.6ms\n",
      "35:\tlearn: 30.5593081\ttest: 40.8282416\tbest: 40.8282416 (35)\ttotal: 151ms\tremaining: 12.5ms\n",
      "36:\tlearn: 30.0607323\ttest: 40.3520212\tbest: 40.3520212 (36)\ttotal: 154ms\tremaining: 8.35ms\n",
      "37:\tlearn: 29.6091092\ttest: 39.8588611\tbest: 39.8588611 (37)\ttotal: 159ms\tremaining: 4.17ms\n",
      "38:\tlearn: 29.1614021\ttest: 39.3648874\tbest: 39.3648874 (38)\ttotal: 163ms\tremaining: 0us\n",
      "\n",
      "bestTest = 39.36488738\n",
      "bestIteration = 38\n",
      "\n",
      "Training on fold [3/10]\n",
      "0:\tlearn: 66.1513984\ttest: 74.2246008\tbest: 74.2246008 (0)\ttotal: 4.58ms\tremaining: 174ms\n",
      "1:\tlearn: 64.6006104\ttest: 72.5666599\tbest: 72.5666599 (1)\ttotal: 9.3ms\tremaining: 172ms\n",
      "2:\tlearn: 63.0211938\ttest: 70.8793336\tbest: 70.8793336 (2)\ttotal: 13.7ms\tremaining: 164ms\n",
      "3:\tlearn: 61.5647099\ttest: 69.4119209\tbest: 69.4119209 (3)\ttotal: 17.6ms\tremaining: 154ms\n",
      "4:\tlearn: 60.0850361\ttest: 67.9379762\tbest: 67.9379762 (4)\ttotal: 22.2ms\tremaining: 151ms\n",
      "5:\tlearn: 58.7003063\ttest: 66.5287370\tbest: 66.5287370 (5)\ttotal: 26.2ms\tremaining: 144ms\n",
      "6:\tlearn: 57.2951425\ttest: 65.0392591\tbest: 65.0392591 (6)\ttotal: 30.4ms\tremaining: 139ms\n",
      "7:\tlearn: 55.9173576\ttest: 63.6597255\tbest: 63.6597255 (7)\ttotal: 34.9ms\tremaining: 135ms\n",
      "8:\tlearn: 54.5911029\ttest: 62.2925210\tbest: 62.2925210 (8)\ttotal: 39.3ms\tremaining: 131ms\n",
      "9:\tlearn: 53.4154914\ttest: 61.0948540\tbest: 61.0948540 (9)\ttotal: 43.4ms\tremaining: 126ms\n",
      "10:\tlearn: 52.2560912\ttest: 59.9228730\tbest: 59.9228730 (10)\ttotal: 47.4ms\tremaining: 121ms\n",
      "11:\tlearn: 51.0844651\ttest: 58.7218036\tbest: 58.7218036 (11)\ttotal: 52.3ms\tremaining: 118ms\n",
      "12:\tlearn: 49.9641243\ttest: 57.5382434\tbest: 57.5382434 (12)\ttotal: 56.5ms\tremaining: 113ms\n",
      "13:\tlearn: 48.8532464\ttest: 56.3571846\tbest: 56.3571846 (13)\ttotal: 60.6ms\tremaining: 108ms\n",
      "14:\tlearn: 47.8625135\ttest: 55.4577946\tbest: 55.4577946 (14)\ttotal: 64.8ms\tremaining: 104ms\n",
      "15:\tlearn: 46.8413979\ttest: 54.3589216\tbest: 54.3589216 (15)\ttotal: 69ms\tremaining: 99.2ms\n",
      "16:\tlearn: 45.8297985\ttest: 53.2765653\tbest: 53.2765653 (16)\ttotal: 73.1ms\tremaining: 94.6ms\n",
      "17:\tlearn: 44.8442502\ttest: 52.2310520\tbest: 52.2310520 (17)\ttotal: 77.1ms\tremaining: 90ms\n",
      "18:\tlearn: 43.9096313\ttest: 51.3202794\tbest: 51.3202794 (18)\ttotal: 81.3ms\tremaining: 85.6ms\n",
      "19:\tlearn: 42.9925374\ttest: 50.3203973\tbest: 50.3203973 (19)\ttotal: 85.5ms\tremaining: 81.2ms\n",
      "20:\tlearn: 42.0842064\ttest: 49.4260535\tbest: 49.4260535 (20)\ttotal: 89.6ms\tremaining: 76.8ms\n",
      "21:\tlearn: 41.2366151\ttest: 48.5018110\tbest: 48.5018110 (21)\ttotal: 93.7ms\tremaining: 72.4ms\n",
      "22:\tlearn: 40.4507270\ttest: 47.6755917\tbest: 47.6755917 (22)\ttotal: 98ms\tremaining: 68.1ms\n",
      "23:\tlearn: 39.6338276\ttest: 46.7938064\tbest: 46.7938064 (23)\ttotal: 102ms\tremaining: 63.8ms\n",
      "24:\tlearn: 38.8728844\ttest: 46.5673649\tbest: 46.5673649 (24)\ttotal: 106ms\tremaining: 59.4ms\n",
      "25:\tlearn: 38.1047928\ttest: 45.6746787\tbest: 45.6746787 (25)\ttotal: 110ms\tremaining: 55.1ms\n",
      "26:\tlearn: 37.3970816\ttest: 44.8776777\tbest: 44.8776777 (26)\ttotal: 115ms\tremaining: 50.9ms\n",
      "27:\tlearn: 36.6903932\ttest: 44.0920488\tbest: 44.0920488 (27)\ttotal: 119ms\tremaining: 46.6ms\n",
      "28:\tlearn: 36.1054068\ttest: 43.4966517\tbest: 43.4966517 (28)\ttotal: 123ms\tremaining: 42.4ms\n",
      "29:\tlearn: 35.4306841\ttest: 42.7785863\tbest: 42.7785863 (29)\ttotal: 127ms\tremaining: 38.2ms\n",
      "30:\tlearn: 34.8147840\ttest: 42.1047633\tbest: 42.1047633 (30)\ttotal: 131ms\tremaining: 33.9ms\n",
      "31:\tlearn: 34.1913651\ttest: 41.4457757\tbest: 41.4457757 (31)\ttotal: 135ms\tremaining: 29.6ms\n",
      "32:\tlearn: 33.5919786\ttest: 40.8159426\tbest: 40.8159426 (32)\ttotal: 139ms\tremaining: 25.4ms\n",
      "33:\tlearn: 33.0237585\ttest: 40.6194832\tbest: 40.6194832 (33)\ttotal: 144ms\tremaining: 21.1ms\n",
      "34:\tlearn: 32.4704220\ttest: 39.9885925\tbest: 39.9885925 (34)\ttotal: 148ms\tremaining: 16.9ms\n"
     ]
    },
    {
     "name": "stdout",
     "output_type": "stream",
     "text": [
      "35:\tlearn: 31.9274064\ttest: 39.3891461\tbest: 39.3891461 (35)\ttotal: 152ms\tremaining: 12.7ms\n",
      "36:\tlearn: 31.4171189\ttest: 38.8681658\tbest: 38.8681658 (36)\ttotal: 157ms\tremaining: 8.48ms\n",
      "37:\tlearn: 30.9157403\ttest: 38.4227926\tbest: 38.4227926 (37)\ttotal: 161ms\tremaining: 4.24ms\n",
      "38:\tlearn: 30.4135625\ttest: 37.8851249\tbest: 37.8851249 (38)\ttotal: 166ms\tremaining: 0us\n",
      "\n",
      "bestTest = 37.88512492\n",
      "bestIteration = 38\n",
      "\n",
      "Training on fold [4/10]\n",
      "0:\tlearn: 67.8047724\ttest: 85.8878317\tbest: 85.8878317 (0)\ttotal: 4.54ms\tremaining: 172ms\n",
      "1:\tlearn: 66.1837189\ttest: 84.0742124\tbest: 84.0742124 (1)\ttotal: 8.43ms\tremaining: 156ms\n",
      "2:\tlearn: 64.5475163\ttest: 82.2427894\tbest: 82.2427894 (2)\ttotal: 12.3ms\tremaining: 147ms\n",
      "3:\tlearn: 63.0408517\ttest: 80.6873189\tbest: 80.6873189 (3)\ttotal: 16.3ms\tremaining: 143ms\n",
      "4:\tlearn: 61.5182332\ttest: 79.1475080\tbest: 79.1475080 (4)\ttotal: 20.7ms\tremaining: 140ms\n",
      "5:\tlearn: 60.0926119\ttest: 77.7136049\tbest: 77.7136049 (5)\ttotal: 25ms\tremaining: 137ms\n",
      "6:\tlearn: 58.6622076\ttest: 76.1060276\tbest: 76.1060276 (6)\ttotal: 29.3ms\tremaining: 134ms\n",
      "7:\tlearn: 57.2531688\ttest: 74.6978859\tbest: 74.6978859 (7)\ttotal: 33.8ms\tremaining: 131ms\n",
      "8:\tlearn: 55.9056457\ttest: 73.2766021\tbest: 73.2766021 (8)\ttotal: 38.1ms\tremaining: 127ms\n",
      "9:\tlearn: 54.6745640\ttest: 72.0588781\tbest: 72.0588781 (9)\ttotal: 42.4ms\tremaining: 123ms\n",
      "10:\tlearn: 53.4357757\ttest: 70.7274024\tbest: 70.7274024 (10)\ttotal: 46.9ms\tremaining: 119ms\n",
      "11:\tlearn: 52.1882250\ttest: 69.3721917\tbest: 69.3721917 (11)\ttotal: 51.3ms\tremaining: 116ms\n",
      "12:\tlearn: 51.0275549\ttest: 68.0643224\tbest: 68.0643224 (12)\ttotal: 55.6ms\tremaining: 111ms\n",
      "13:\tlearn: 49.8855890\ttest: 66.7648835\tbest: 66.7648835 (13)\ttotal: 60ms\tremaining: 107ms\n",
      "14:\tlearn: 48.8488731\ttest: 65.6189442\tbest: 65.6189442 (14)\ttotal: 64.6ms\tremaining: 103ms\n",
      "15:\tlearn: 47.7867648\ttest: 64.4055984\tbest: 64.4055984 (15)\ttotal: 69ms\tremaining: 99.2ms\n",
      "16:\tlearn: 46.7645101\ttest: 63.2951297\tbest: 63.2951297 (16)\ttotal: 73.3ms\tremaining: 94.9ms\n",
      "17:\tlearn: 45.7376103\ttest: 62.0718897\tbest: 62.0718897 (17)\ttotal: 77.9ms\tremaining: 90.9ms\n",
      "18:\tlearn: 44.7768220\ttest: 61.0866621\tbest: 61.0866621 (18)\ttotal: 82.2ms\tremaining: 86.5ms\n",
      "19:\tlearn: 43.8340510\ttest: 60.0007507\tbest: 60.0007507 (19)\ttotal: 86.5ms\tremaining: 82.1ms\n",
      "20:\tlearn: 42.9065694\ttest: 59.0615371\tbest: 59.0615371 (20)\ttotal: 90.7ms\tremaining: 77.8ms\n",
      "21:\tlearn: 42.0318098\ttest: 58.1015837\tbest: 58.1015837 (21)\ttotal: 95ms\tremaining: 73.4ms\n",
      "22:\tlearn: 41.2273362\ttest: 57.1869222\tbest: 57.1869222 (22)\ttotal: 99.3ms\tremaining: 69.1ms\n",
      "23:\tlearn: 40.3909854\ttest: 56.2316227\tbest: 56.2316227 (23)\ttotal: 104ms\tremaining: 64.7ms\n",
      "24:\tlearn: 39.6240768\ttest: 55.4253363\tbest: 55.4253363 (24)\ttotal: 108ms\tremaining: 60.4ms\n",
      "25:\tlearn: 38.8317610\ttest: 54.4416499\tbest: 54.4416499 (25)\ttotal: 112ms\tremaining: 56.1ms\n",
      "26:\tlearn: 38.0966732\ttest: 53.5241672\tbest: 53.5241672 (26)\ttotal: 117ms\tremaining: 51.8ms\n",
      "27:\tlearn: 37.3749643\ttest: 52.6824178\tbest: 52.6824178 (27)\ttotal: 121ms\tremaining: 47.5ms\n",
      "28:\tlearn: 36.7380930\ttest: 51.9684824\tbest: 51.9684824 (28)\ttotal: 125ms\tremaining: 43.2ms\n",
      "29:\tlearn: 36.0563764\ttest: 51.1501609\tbest: 51.1501609 (29)\ttotal: 130ms\tremaining: 38.9ms\n",
      "30:\tlearn: 35.4228773\ttest: 50.4189484\tbest: 50.4189484 (30)\ttotal: 134ms\tremaining: 34.6ms\n",
      "31:\tlearn: 34.7836325\ttest: 49.7028659\tbest: 49.7028659 (31)\ttotal: 140ms\tremaining: 30.5ms\n",
      "32:\tlearn: 34.1749880\ttest: 49.0310268\tbest: 49.0310268 (32)\ttotal: 144ms\tremaining: 26.2ms\n",
      "33:\tlearn: 33.6076486\ttest: 48.3599033\tbest: 48.3599033 (33)\ttotal: 149ms\tremaining: 21.9ms\n",
      "34:\tlearn: 33.0352653\ttest: 47.6577213\tbest: 47.6577213 (34)\ttotal: 153ms\tremaining: 17.5ms\n",
      "35:\tlearn: 32.4930328\ttest: 46.9230477\tbest: 46.9230477 (35)\ttotal: 159ms\tremaining: 13.3ms\n",
      "36:\tlearn: 31.9817430\ttest: 46.3780583\tbest: 46.3780583 (36)\ttotal: 164ms\tremaining: 8.88ms\n",
      "37:\tlearn: 31.4986997\ttest: 45.7805023\tbest: 45.7805023 (37)\ttotal: 169ms\tremaining: 4.44ms\n",
      "38:\tlearn: 30.9931740\ttest: 45.1916353\tbest: 45.1916353 (38)\ttotal: 174ms\tremaining: 0us\n",
      "\n",
      "bestTest = 45.19163534\n",
      "bestIteration = 38\n",
      "\n",
      "Training on fold [5/10]\n",
      "0:\tlearn: 70.9538884\ttest: 84.0396120\tbest: 84.0396120 (0)\ttotal: 4.63ms\tremaining: 176ms\n",
      "1:\tlearn: 69.2318794\ttest: 82.0676920\tbest: 82.0676920 (1)\ttotal: 8.86ms\tremaining: 164ms\n",
      "2:\tlearn: 67.4966500\ttest: 80.0871081\tbest: 80.0871081 (2)\ttotal: 13.3ms\tremaining: 160ms\n",
      "3:\tlearn: 65.9144741\ttest: 78.4141528\tbest: 78.4141528 (3)\ttotal: 17.7ms\tremaining: 155ms\n",
      "4:\tlearn: 64.3286255\ttest: 76.6794708\tbest: 76.6794708 (4)\ttotal: 22.1ms\tremaining: 150ms\n",
      "5:\tlearn: 62.8562494\ttest: 75.1010311\tbest: 75.1010311 (5)\ttotal: 26.8ms\tremaining: 147ms\n",
      "6:\tlearn: 61.3404675\ttest: 73.3967387\tbest: 73.3967387 (6)\ttotal: 31.3ms\tremaining: 143ms\n",
      "7:\tlearn: 59.8759042\ttest: 71.8480820\tbest: 71.8480820 (7)\ttotal: 35.9ms\tremaining: 139ms\n",
      "8:\tlearn: 58.4430490\ttest: 70.1769941\tbest: 70.1769941 (8)\ttotal: 40.8ms\tremaining: 136ms\n",
      "9:\tlearn: 57.1583690\ttest: 68.8609807\tbest: 68.8609807 (9)\ttotal: 45.4ms\tremaining: 132ms\n",
      "10:\tlearn: 55.8679530\ttest: 67.3794650\tbest: 67.3794650 (10)\ttotal: 50.1ms\tremaining: 128ms\n",
      "11:\tlearn: 54.5931915\ttest: 65.9532600\tbest: 65.9532600 (11)\ttotal: 54.9ms\tremaining: 123ms\n",
      "12:\tlearn: 53.3722423\ttest: 64.5245200\tbest: 64.5245200 (12)\ttotal: 59.6ms\tremaining: 119ms\n",
      "13:\tlearn: 52.1546796\ttest: 63.0647768\tbest: 63.0647768 (13)\ttotal: 64.5ms\tremaining: 115ms\n",
      "14:\tlearn: 51.0672279\ttest: 61.9653403\tbest: 61.9653403 (14)\ttotal: 69.2ms\tremaining: 111ms\n",
      "15:\tlearn: 49.9386606\ttest: 60.6081308\tbest: 60.6081308 (15)\ttotal: 74.6ms\tremaining: 107ms\n",
      "16:\tlearn: 48.8526552\ttest: 59.2955845\tbest: 59.2955845 (16)\ttotal: 79.1ms\tremaining: 102ms\n",
      "17:\tlearn: 47.7840535\ttest: 58.0753157\tbest: 58.0753157 (17)\ttotal: 83.6ms\tremaining: 97.5ms\n",
      "18:\tlearn: 46.7653424\ttest: 56.8446978\tbest: 56.8446978 (18)\ttotal: 88.4ms\tremaining: 93ms\n",
      "19:\tlearn: 45.7814301\ttest: 55.6748064\tbest: 55.6748064 (19)\ttotal: 94ms\tremaining: 89.3ms\n",
      "20:\tlearn: 44.7999708\ttest: 54.5093161\tbest: 54.5093161 (20)\ttotal: 98.4ms\tremaining: 84.3ms\n",
      "21:\tlearn: 43.8841899\ttest: 53.4835147\tbest: 53.4835147 (21)\ttotal: 103ms\tremaining: 79.7ms\n",
      "22:\tlearn: 43.0180724\ttest: 52.3885521\tbest: 52.3885521 (22)\ttotal: 108ms\tremaining: 75.1ms\n",
      "23:\tlearn: 42.1577515\ttest: 51.3629361\tbest: 51.3629361 (23)\ttotal: 113ms\tremaining: 70.4ms\n",
      "24:\tlearn: 41.3514060\ttest: 50.3665305\tbest: 50.3665305 (24)\ttotal: 117ms\tremaining: 65.6ms\n",
      "25:\tlearn: 40.5225680\ttest: 49.3338087\tbest: 49.3338087 (25)\ttotal: 123ms\tremaining: 61.5ms\n",
      "26:\tlearn: 39.7452699\ttest: 48.4514993\tbest: 48.4514993 (26)\ttotal: 128ms\tremaining: 56.8ms\n",
      "27:\tlearn: 38.9892668\ttest: 47.5641410\tbest: 47.5641410 (27)\ttotal: 135ms\tremaining: 52.8ms\n",
      "28:\tlearn: 38.2718157\ttest: 46.7461843\tbest: 46.7461843 (28)\ttotal: 139ms\tremaining: 47.9ms\n",
      "29:\tlearn: 37.5624654\ttest: 45.8837646\tbest: 45.8837646 (29)\ttotal: 144ms\tremaining: 43.1ms\n",
      "30:\tlearn: 36.9024072\ttest: 45.1187826\tbest: 45.1187826 (30)\ttotal: 149ms\tremaining: 38.4ms\n",
      "31:\tlearn: 36.2624574\ttest: 44.3727713\tbest: 44.3727713 (31)\ttotal: 154ms\tremaining: 33.7ms\n",
      "32:\tlearn: 35.6322881\ttest: 43.6731924\tbest: 43.6731924 (32)\ttotal: 160ms\tremaining: 29.1ms\n",
      "33:\tlearn: 35.0397285\ttest: 42.9364648\tbest: 42.9364648 (33)\ttotal: 165ms\tremaining: 24.2ms\n",
      "34:\tlearn: 34.4141696\ttest: 42.1629384\tbest: 42.1629384 (34)\ttotal: 169ms\tremaining: 19.3ms\n",
      "35:\tlearn: 33.8359520\ttest: 41.5758140\tbest: 41.5758140 (35)\ttotal: 174ms\tremaining: 14.5ms\n",
      "36:\tlearn: 33.2953499\ttest: 40.9851707\tbest: 40.9851707 (36)\ttotal: 179ms\tremaining: 9.66ms\n",
      "37:\tlearn: 32.7816467\ttest: 40.4213872\tbest: 40.4213872 (37)\ttotal: 184ms\tremaining: 4.83ms\n",
      "38:\tlearn: 32.2607224\ttest: 39.7529893\tbest: 39.7529893 (38)\ttotal: 188ms\tremaining: 0us\n",
      "\n",
      "bestTest = 39.75298935\n",
      "bestIteration = 38\n",
      "\n",
      "Training on fold [6/10]\n",
      "0:\tlearn: 72.9238560\ttest: 89.9364689\tbest: 89.9364689 (0)\ttotal: 5.27ms\tremaining: 200ms\n",
      "1:\tlearn: 71.1272683\ttest: 87.7355296\tbest: 87.7355296 (1)\ttotal: 9.73ms\tremaining: 180ms\n",
      "2:\tlearn: 69.3232986\ttest: 85.6943615\tbest: 85.6943615 (2)\ttotal: 14.1ms\tremaining: 169ms\n",
      "3:\tlearn: 67.6829233\ttest: 83.8799500\tbest: 83.8799500 (3)\ttotal: 19ms\tremaining: 166ms\n",
      "4:\tlearn: 66.0211790\ttest: 82.0128365\tbest: 82.0128365 (4)\ttotal: 23.6ms\tremaining: 161ms\n",
      "5:\tlearn: 64.4586950\ttest: 80.2759670\tbest: 80.2759670 (5)\ttotal: 28.6ms\tremaining: 158ms\n",
      "6:\tlearn: 62.8927845\ttest: 78.4629430\tbest: 78.4629430 (6)\ttotal: 33.5ms\tremaining: 153ms\n",
      "7:\tlearn: 61.3991137\ttest: 76.7257389\tbest: 76.7257389 (7)\ttotal: 38.5ms\tremaining: 149ms\n",
      "8:\tlearn: 59.9134787\ttest: 74.9422056\tbest: 74.9422056 (8)\ttotal: 43.6ms\tremaining: 145ms\n",
      "9:\tlearn: 58.5813993\ttest: 73.5813614\tbest: 73.5813614 (9)\ttotal: 48.4ms\tremaining: 140ms\n",
      "10:\tlearn: 57.1804838\ttest: 71.8387109\tbest: 71.8387109 (10)\ttotal: 53.5ms\tremaining: 136ms\n",
      "11:\tlearn: 55.8542968\ttest: 70.3198103\tbest: 70.3198103 (11)\ttotal: 58.5ms\tremaining: 132ms\n",
      "12:\tlearn: 54.5869514\ttest: 68.7660424\tbest: 68.7660424 (12)\ttotal: 63.4ms\tremaining: 127ms\n",
      "13:\tlearn: 53.3350941\ttest: 67.1837053\tbest: 67.1837053 (13)\ttotal: 68.3ms\tremaining: 122ms\n",
      "14:\tlearn: 52.1261943\ttest: 65.7066458\tbest: 65.7066458 (14)\ttotal: 73.2ms\tremaining: 117ms\n",
      "15:\tlearn: 51.0003203\ttest: 64.2568312\tbest: 64.2568312 (15)\ttotal: 78ms\tremaining: 112ms\n",
      "16:\tlearn: 49.8857813\ttest: 62.8706807\tbest: 62.8706807 (16)\ttotal: 82.8ms\tremaining: 107ms\n"
     ]
    },
    {
     "name": "stdout",
     "output_type": "stream",
     "text": [
      "17:\tlearn: 48.7856342\ttest: 61.6217315\tbest: 61.6217315 (17)\ttotal: 88.3ms\tremaining: 103ms\n",
      "18:\tlearn: 47.7424884\ttest: 60.3884594\tbest: 60.3884594 (18)\ttotal: 93.9ms\tremaining: 98.9ms\n",
      "19:\tlearn: 46.7305443\ttest: 59.1879308\tbest: 59.1879308 (19)\ttotal: 100ms\tremaining: 95.1ms\n",
      "20:\tlearn: 45.7512248\ttest: 58.1624119\tbest: 58.1624119 (20)\ttotal: 105ms\tremaining: 90.3ms\n",
      "21:\tlearn: 44.8115545\ttest: 57.0317911\tbest: 57.0317911 (21)\ttotal: 110ms\tremaining: 85.1ms\n",
      "22:\tlearn: 43.9034365\ttest: 55.8567202\tbest: 55.8567202 (22)\ttotal: 116ms\tremaining: 80.8ms\n",
      "23:\tlearn: 43.0129104\ttest: 54.7627005\tbest: 54.7627005 (23)\ttotal: 122ms\tremaining: 76ms\n",
      "24:\tlearn: 42.1841079\ttest: 53.7085041\tbest: 53.7085041 (24)\ttotal: 126ms\tremaining: 70.8ms\n",
      "25:\tlearn: 41.3262310\ttest: 52.5679801\tbest: 52.5679801 (25)\ttotal: 132ms\tremaining: 65.8ms\n",
      "26:\tlearn: 40.5295987\ttest: 51.5409527\tbest: 51.5409527 (26)\ttotal: 136ms\tremaining: 60.6ms\n",
      "27:\tlearn: 39.7593219\ttest: 50.5945544\tbest: 50.5945544 (27)\ttotal: 141ms\tremaining: 55.5ms\n",
      "28:\tlearn: 39.0498272\ttest: 49.7729569\tbest: 49.7729569 (28)\ttotal: 146ms\tremaining: 50.4ms\n",
      "29:\tlearn: 38.3335907\ttest: 48.8514350\tbest: 48.8514350 (29)\ttotal: 151ms\tremaining: 45.3ms\n",
      "30:\tlearn: 37.6518039\ttest: 48.0107913\tbest: 48.0107913 (30)\ttotal: 156ms\tremaining: 40.2ms\n",
      "31:\tlearn: 36.9843358\ttest: 47.1378243\tbest: 47.1378243 (31)\ttotal: 161ms\tremaining: 35.2ms\n",
      "32:\tlearn: 36.3582909\ttest: 46.3421811\tbest: 46.3421811 (32)\ttotal: 166ms\tremaining: 30.1ms\n",
      "33:\tlearn: 35.7550179\ttest: 45.5595285\tbest: 45.5595285 (33)\ttotal: 170ms\tremaining: 25.1ms\n",
      "34:\tlearn: 35.1051148\ttest: 44.6567787\tbest: 44.6567787 (34)\ttotal: 175ms\tremaining: 20.1ms\n",
      "35:\tlearn: 34.5006032\ttest: 43.8642990\tbest: 43.8642990 (35)\ttotal: 180ms\tremaining: 15ms\n",
      "36:\tlearn: 33.9241735\ttest: 43.2500888\tbest: 43.2500888 (36)\ttotal: 185ms\tremaining: 10ms\n",
      "37:\tlearn: 33.3947655\ttest: 42.5616715\tbest: 42.5616715 (37)\ttotal: 190ms\tremaining: 5ms\n",
      "38:\tlearn: 32.8661154\ttest: 41.8993451\tbest: 41.8993451 (38)\ttotal: 195ms\tremaining: 0us\n",
      "\n",
      "bestTest = 41.8993451\n",
      "bestIteration = 38\n",
      "\n",
      "Training on fold [7/10]\n",
      "0:\tlearn: 75.2192878\ttest: 97.4434590\tbest: 97.4434590 (0)\ttotal: 4.94ms\tremaining: 188ms\n",
      "1:\tlearn: 73.3371879\ttest: 95.1026346\tbest: 95.1026346 (1)\ttotal: 9.53ms\tremaining: 176ms\n",
      "2:\tlearn: 71.4617572\ttest: 92.9672905\tbest: 92.9672905 (2)\ttotal: 14.2ms\tremaining: 171ms\n",
      "3:\tlearn: 69.7449382\ttest: 91.0180501\tbest: 91.0180501 (3)\ttotal: 18.9ms\tremaining: 165ms\n",
      "4:\tlearn: 68.0158254\ttest: 89.0678701\tbest: 89.0678701 (4)\ttotal: 24.3ms\tremaining: 165ms\n",
      "5:\tlearn: 66.3876219\ttest: 87.2023825\tbest: 87.2023825 (5)\ttotal: 29.1ms\tremaining: 160ms\n",
      "6:\tlearn: 64.7587798\ttest: 85.3209550\tbest: 85.3209550 (6)\ttotal: 33.8ms\tremaining: 154ms\n",
      "7:\tlearn: 63.2035220\ttest: 83.4801135\tbest: 83.4801135 (7)\ttotal: 38.9ms\tremaining: 151ms\n",
      "8:\tlearn: 61.6559827\ttest: 81.6333996\tbest: 81.6333996 (8)\ttotal: 43.9ms\tremaining: 146ms\n",
      "9:\tlearn: 60.1956102\ttest: 79.8782420\tbest: 79.8782420 (9)\ttotal: 49.4ms\tremaining: 143ms\n",
      "10:\tlearn: 58.8024965\ttest: 78.2472465\tbest: 78.2472465 (10)\ttotal: 56ms\tremaining: 142ms\n",
      "11:\tlearn: 57.4094270\ttest: 76.5250317\tbest: 76.5250317 (11)\ttotal: 61.2ms\tremaining: 138ms\n",
      "12:\tlearn: 56.0622873\ttest: 74.7543268\tbest: 74.7543268 (12)\ttotal: 66.1ms\tremaining: 132ms\n",
      "13:\tlearn: 54.7515323\ttest: 73.1010685\tbest: 73.1010685 (13)\ttotal: 71.8ms\tremaining: 128ms\n",
      "14:\tlearn: 53.5699677\ttest: 71.7690271\tbest: 71.7690271 (14)\ttotal: 77.8ms\tremaining: 124ms\n",
      "15:\tlearn: 52.3562814\ttest: 70.2818779\tbest: 70.2818779 (15)\ttotal: 82.6ms\tremaining: 119ms\n",
      "16:\tlearn: 51.1930599\ttest: 68.8527090\tbest: 68.8527090 (16)\ttotal: 88.3ms\tremaining: 114ms\n",
      "17:\tlearn: 50.0470015\ttest: 67.4652386\tbest: 67.4652386 (17)\ttotal: 93.5ms\tremaining: 109ms\n",
      "18:\tlearn: 48.9482155\ttest: 66.1601141\tbest: 66.1601141 (18)\ttotal: 98.8ms\tremaining: 104ms\n",
      "19:\tlearn: 47.8942543\ttest: 64.9028051\tbest: 64.9028051 (19)\ttotal: 104ms\tremaining: 98.7ms\n",
      "20:\tlearn: 46.8457380\ttest: 63.6145442\tbest: 63.6145442 (20)\ttotal: 109ms\tremaining: 93.3ms\n",
      "21:\tlearn: 45.8619706\ttest: 62.4725083\tbest: 62.4725083 (21)\ttotal: 114ms\tremaining: 88ms\n",
      "22:\tlearn: 44.9304241\ttest: 61.2895049\tbest: 61.2895049 (22)\ttotal: 119ms\tremaining: 83.1ms\n",
      "23:\tlearn: 43.9988886\ttest: 60.1296784\tbest: 60.1296784 (23)\ttotal: 124ms\tremaining: 77.7ms\n",
      "24:\tlearn: 43.1331734\ttest: 59.0342919\tbest: 59.0342919 (24)\ttotal: 129ms\tremaining: 72.4ms\n",
      "25:\tlearn: 42.2409851\ttest: 57.8668211\tbest: 57.8668211 (25)\ttotal: 134ms\tremaining: 67.2ms\n",
      "26:\tlearn: 41.3981093\ttest: 56.7837631\tbest: 56.7837631 (26)\ttotal: 139ms\tremaining: 61.8ms\n",
      "27:\tlearn: 40.5919534\ttest: 55.7250286\tbest: 55.7250286 (27)\ttotal: 144ms\tremaining: 56.5ms\n",
      "28:\tlearn: 39.8336935\ttest: 54.7672629\tbest: 54.7672629 (28)\ttotal: 149ms\tremaining: 51.4ms\n",
      "29:\tlearn: 39.0894749\ttest: 53.7686131\tbest: 53.7686131 (29)\ttotal: 154ms\tremaining: 46.2ms\n",
      "30:\tlearn: 38.3807861\ttest: 52.8931328\tbest: 52.8931328 (30)\ttotal: 159ms\tremaining: 41ms\n",
      "31:\tlearn: 37.6982852\ttest: 52.0438294\tbest: 52.0438294 (31)\ttotal: 164ms\tremaining: 35.9ms\n",
      "32:\tlearn: 37.0518442\ttest: 51.2264323\tbest: 51.2264323 (32)\ttotal: 169ms\tremaining: 30.7ms\n",
      "33:\tlearn: 36.4091177\ttest: 50.3702955\tbest: 50.3702955 (33)\ttotal: 174ms\tremaining: 25.6ms\n",
      "34:\tlearn: 35.7631468\ttest: 49.4641304\tbest: 49.4641304 (34)\ttotal: 180ms\tremaining: 20.6ms\n",
      "35:\tlearn: 35.1548148\ttest: 48.7577593\tbest: 48.7577593 (35)\ttotal: 185ms\tremaining: 15.4ms\n",
      "36:\tlearn: 34.5682259\ttest: 48.0964051\tbest: 48.0964051 (36)\ttotal: 190ms\tremaining: 10.3ms\n",
      "37:\tlearn: 34.0342748\ttest: 47.4058450\tbest: 47.4058450 (37)\ttotal: 195ms\tremaining: 5.13ms\n",
      "38:\tlearn: 33.4845537\ttest: 46.6415161\tbest: 46.6415161 (38)\ttotal: 200ms\tremaining: 0us\n",
      "\n",
      "bestTest = 46.64151615\n",
      "bestIteration = 38\n",
      "\n",
      "Training on fold [8/10]\n",
      "0:\tlearn: 77.9510383\ttest: 108.4323141\tbest: 108.4323141 (0)\ttotal: 5.45ms\tremaining: 207ms\n",
      "1:\tlearn: 75.9569146\ttest: 105.9999986\tbest: 105.9999986 (1)\ttotal: 10.8ms\tremaining: 201ms\n",
      "2:\tlearn: 74.0001980\ttest: 103.6690912\tbest: 103.6690912 (2)\ttotal: 16.2ms\tremaining: 195ms\n",
      "3:\tlearn: 72.2033285\ttest: 101.5647345\tbest: 101.5647345 (3)\ttotal: 22.4ms\tremaining: 196ms\n",
      "4:\tlearn: 70.4002149\ttest: 99.5340012\tbest: 99.5340012 (4)\ttotal: 27.3ms\tremaining: 186ms\n",
      "5:\tlearn: 68.7030392\ttest: 97.6352083\tbest: 97.6352083 (5)\ttotal: 32.2ms\tremaining: 177ms\n",
      "6:\tlearn: 67.0068009\ttest: 95.6828357\tbest: 95.6828357 (6)\ttotal: 38.7ms\tremaining: 177ms\n",
      "7:\tlearn: 65.3832392\ttest: 93.8372986\tbest: 93.8372986 (7)\ttotal: 44.4ms\tremaining: 172ms\n",
      "8:\tlearn: 63.7695987\ttest: 91.9269864\tbest: 91.9269864 (8)\ttotal: 49.8ms\tremaining: 166ms\n",
      "9:\tlearn: 62.2419931\ttest: 90.0662158\tbest: 90.0662158 (9)\ttotal: 54.9ms\tremaining: 159ms\n",
      "10:\tlearn: 60.7269153\ttest: 88.2173137\tbest: 88.2173137 (10)\ttotal: 59.9ms\tremaining: 153ms\n",
      "11:\tlearn: 59.2698229\ttest: 86.3827602\tbest: 86.3827602 (11)\ttotal: 65.1ms\tremaining: 146ms\n",
      "12:\tlearn: 57.8607472\ttest: 84.5517673\tbest: 84.5517673 (12)\ttotal: 70.3ms\tremaining: 141ms\n",
      "13:\tlearn: 56.4879175\ttest: 82.8083738\tbest: 82.8083738 (13)\ttotal: 75.4ms\tremaining: 135ms\n",
      "14:\tlearn: 55.1868165\ttest: 81.2570210\tbest: 81.2570210 (14)\ttotal: 81.3ms\tremaining: 130ms\n",
      "15:\tlearn: 53.9332023\ttest: 79.6973298\tbest: 79.6973298 (15)\ttotal: 86.5ms\tremaining: 124ms\n",
      "16:\tlearn: 52.7223341\ttest: 78.2130350\tbest: 78.2130350 (16)\ttotal: 91.5ms\tremaining: 118ms\n",
      "17:\tlearn: 51.5248385\ttest: 76.7397767\tbest: 76.7397767 (17)\ttotal: 96.6ms\tremaining: 113ms\n",
      "18:\tlearn: 50.3629052\ttest: 75.3149315\tbest: 75.3149315 (18)\ttotal: 102ms\tremaining: 107ms\n",
      "19:\tlearn: 49.2629004\ttest: 74.0285428\tbest: 74.0285428 (19)\ttotal: 107ms\tremaining: 102ms\n",
      "20:\tlearn: 48.2206655\ttest: 72.7802570\tbest: 72.7802570 (20)\ttotal: 112ms\tremaining: 96.3ms\n",
      "21:\tlearn: 47.2205460\ttest: 71.5562421\tbest: 71.5562421 (21)\ttotal: 120ms\tremaining: 93ms\n",
      "22:\tlearn: 46.2251896\ttest: 70.1738801\tbest: 70.1738801 (22)\ttotal: 126ms\tremaining: 87.4ms\n",
      "23:\tlearn: 45.2512179\ttest: 68.9580840\tbest: 68.9580840 (23)\ttotal: 131ms\tremaining: 81.8ms\n",
      "24:\tlearn: 44.3393955\ttest: 67.7541358\tbest: 67.7541358 (24)\ttotal: 136ms\tremaining: 76.1ms\n",
      "25:\tlearn: 43.4069519\ttest: 66.5617488\tbest: 66.5617488 (25)\ttotal: 141ms\tremaining: 70.6ms\n",
      "26:\tlearn: 42.5259177\ttest: 65.4042991\tbest: 65.4042991 (26)\ttotal: 146ms\tremaining: 65ms\n",
      "27:\tlearn: 41.6777805\ttest: 64.3650782\tbest: 64.3650782 (27)\ttotal: 152ms\tremaining: 59.7ms\n",
      "28:\tlearn: 40.8895997\ttest: 63.3819296\tbest: 63.3819296 (28)\ttotal: 157ms\tremaining: 54.1ms\n",
      "29:\tlearn: 40.1123800\ttest: 62.2559944\tbest: 62.2559944 (29)\ttotal: 162ms\tremaining: 48.7ms\n",
      "30:\tlearn: 39.3756938\ttest: 61.3375071\tbest: 61.3375071 (30)\ttotal: 168ms\tremaining: 43.3ms\n",
      "31:\tlearn: 38.6657903\ttest: 60.4544565\tbest: 60.4544565 (31)\ttotal: 173ms\tremaining: 37.8ms\n"
     ]
    },
    {
     "name": "stdout",
     "output_type": "stream",
     "text": [
      "32:\tlearn: 37.9894517\ttest: 59.6036899\tbest: 59.6036899 (32)\ttotal: 179ms\tremaining: 32.6ms\n",
      "33:\tlearn: 37.3204451\ttest: 58.7043442\tbest: 58.7043442 (33)\ttotal: 185ms\tremaining: 27.2ms\n",
      "34:\tlearn: 36.6375540\ttest: 57.7324764\tbest: 57.7324764 (34)\ttotal: 191ms\tremaining: 21.8ms\n",
      "35:\tlearn: 35.9935622\ttest: 56.8352393\tbest: 56.8352393 (35)\ttotal: 197ms\tremaining: 16.4ms\n",
      "36:\tlearn: 35.3886604\ttest: 56.1156539\tbest: 56.1156539 (36)\ttotal: 202ms\tremaining: 10.9ms\n",
      "37:\tlearn: 34.8280388\ttest: 55.3938515\tbest: 55.3938515 (37)\ttotal: 208ms\tremaining: 5.46ms\n",
      "38:\tlearn: 34.2659548\ttest: 54.6743616\tbest: 54.6743616 (38)\ttotal: 215ms\tremaining: 0us\n",
      "\n",
      "bestTest = 54.67436163\n",
      "bestIteration = 38\n",
      "\n",
      "Training on fold [9/10]\n",
      "0:\tlearn: 81.4435072\ttest: 117.2900584\tbest: 117.2900584 (0)\ttotal: 6ms\tremaining: 228ms\n",
      "1:\tlearn: 79.3330570\ttest: 114.8670544\tbest: 114.8670544 (1)\ttotal: 11.5ms\tremaining: 213ms\n",
      "2:\tlearn: 77.2883426\ttest: 112.5064760\tbest: 112.5064760 (2)\ttotal: 16.7ms\tremaining: 201ms\n",
      "3:\tlearn: 75.4004718\ttest: 110.3099736\tbest: 110.3099736 (3)\ttotal: 22ms\tremaining: 193ms\n",
      "4:\tlearn: 73.5208608\ttest: 108.1371412\tbest: 108.1371412 (4)\ttotal: 27.4ms\tremaining: 186ms\n",
      "5:\tlearn: 71.7381999\ttest: 106.0487519\tbest: 106.0487519 (5)\ttotal: 32.7ms\tremaining: 180ms\n",
      "6:\tlearn: 69.9655660\ttest: 103.8546272\tbest: 103.8546272 (6)\ttotal: 38.3ms\tremaining: 175ms\n",
      "7:\tlearn: 68.2702770\ttest: 101.9063438\tbest: 101.9063438 (7)\ttotal: 43.8ms\tremaining: 170ms\n",
      "8:\tlearn: 66.5835504\ttest: 99.8794809\tbest: 99.8794809 (8)\ttotal: 49.6ms\tremaining: 165ms\n",
      "9:\tlearn: 64.9774923\ttest: 97.9511633\tbest: 97.9511633 (9)\ttotal: 55.2ms\tremaining: 160ms\n",
      "10:\tlearn: 63.3916158\ttest: 95.9582616\tbest: 95.9582616 (10)\ttotal: 60.6ms\tremaining: 154ms\n",
      "11:\tlearn: 61.8656465\ttest: 93.9880083\tbest: 93.9880083 (11)\ttotal: 66.5ms\tremaining: 150ms\n",
      "12:\tlearn: 60.3876642\ttest: 92.1113934\tbest: 92.1113934 (12)\ttotal: 72.2ms\tremaining: 144ms\n",
      "13:\tlearn: 58.9469732\ttest: 90.2959830\tbest: 90.2959830 (13)\ttotal: 77.6ms\tremaining: 139ms\n",
      "14:\tlearn: 57.5820004\ttest: 88.7297876\tbest: 88.7297876 (14)\ttotal: 83.4ms\tremaining: 133ms\n",
      "15:\tlearn: 56.3021601\ttest: 87.0132665\tbest: 87.0132665 (15)\ttotal: 88.7ms\tremaining: 128ms\n",
      "16:\tlearn: 55.0288366\ttest: 85.4960001\tbest: 85.4960001 (16)\ttotal: 94.2ms\tremaining: 122ms\n",
      "17:\tlearn: 53.7547556\ttest: 83.8615190\tbest: 83.8615190 (17)\ttotal: 99.7ms\tremaining: 116ms\n",
      "18:\tlearn: 52.5570954\ttest: 82.2866618\tbest: 82.2866618 (18)\ttotal: 105ms\tremaining: 111ms\n",
      "19:\tlearn: 51.4635416\ttest: 80.9123138\tbest: 80.9123138 (19)\ttotal: 111ms\tremaining: 105ms\n",
      "20:\tlearn: 50.3280516\ttest: 79.5499686\tbest: 79.5499686 (20)\ttotal: 119ms\tremaining: 102ms\n",
      "21:\tlearn: 49.2734707\ttest: 78.1864387\tbest: 78.1864387 (21)\ttotal: 124ms\tremaining: 96.1ms\n",
      "22:\tlearn: 48.2191985\ttest: 76.7826745\tbest: 76.7826745 (22)\ttotal: 131ms\tremaining: 91ms\n",
      "23:\tlearn: 47.2080077\ttest: 75.4898610\tbest: 75.4898610 (23)\ttotal: 137ms\tremaining: 85.6ms\n",
      "24:\tlearn: 46.2552090\ttest: 74.2712521\tbest: 74.2712521 (24)\ttotal: 143ms\tremaining: 79.9ms\n",
      "25:\tlearn: 45.2768901\ttest: 73.0256090\tbest: 73.0256090 (25)\ttotal: 148ms\tremaining: 74ms\n",
      "26:\tlearn: 44.3802481\ttest: 71.8612739\tbest: 71.8612739 (26)\ttotal: 153ms\tremaining: 68.2ms\n",
      "27:\tlearn: 43.4868092\ttest: 70.7858544\tbest: 70.7858544 (27)\ttotal: 159ms\tremaining: 62.5ms\n",
      "28:\tlearn: 42.6581614\ttest: 69.6411950\tbest: 69.6411950 (28)\ttotal: 165ms\tremaining: 56.8ms\n",
      "29:\tlearn: 41.8292312\ttest: 68.5094132\tbest: 68.5094132 (29)\ttotal: 170ms\tremaining: 51ms\n",
      "30:\tlearn: 41.0592963\ttest: 67.5799128\tbest: 67.5799128 (30)\ttotal: 175ms\tremaining: 45.3ms\n",
      "31:\tlearn: 40.3070558\ttest: 66.6238836\tbest: 66.6238836 (31)\ttotal: 181ms\tremaining: 39.6ms\n",
      "32:\tlearn: 39.5908052\ttest: 65.6765912\tbest: 65.6765912 (32)\ttotal: 186ms\tremaining: 33.9ms\n",
      "33:\tlearn: 38.8948624\ttest: 64.7712050\tbest: 64.7712050 (33)\ttotal: 192ms\tremaining: 28.3ms\n",
      "34:\tlearn: 38.1815355\ttest: 63.7999517\tbest: 63.7999517 (34)\ttotal: 198ms\tremaining: 22.6ms\n",
      "35:\tlearn: 37.5038892\ttest: 62.8822874\tbest: 62.8822874 (35)\ttotal: 203ms\tremaining: 16.9ms\n",
      "36:\tlearn: 36.8666985\ttest: 62.0821752\tbest: 62.0821752 (36)\ttotal: 209ms\tremaining: 11.3ms\n",
      "37:\tlearn: 36.2509696\ttest: 61.2900285\tbest: 61.2900285 (37)\ttotal: 215ms\tremaining: 5.66ms\n",
      "38:\tlearn: 35.6612450\ttest: 60.5227573\tbest: 60.5227573 (38)\ttotal: 220ms\tremaining: 0us\n",
      "\n",
      "bestTest = 60.52275725\n",
      "bestIteration = 38\n",
      "\n"
     ]
    }
   ],
   "source": [
    "model_cat = CatBoostRegressor(random_state=12345, eval_metric='RMSE')\n",
    "parameters = {'iterations' : sp_randInt(10, 51),\n",
    "              'depth' : sp_randInt(2, 7),\n",
    "             }\n",
    "tscv = TimeSeriesSplit(n_splits=10)\n",
    "randm_src_cat = model_cat.randomized_search(param_distributions=parameters, cv=tscv, X=f_train, shuffle=False,\n",
    "                                        y=t_train, verbose=False, search_by_train_test_split=False)"
   ]
  },
  {
   "cell_type": "code",
   "execution_count": 17,
   "metadata": {},
   "outputs": [
    {
     "name": "stdout",
     "output_type": "stream",
     "text": [
      "Лучшая модель CatBoost:\n",
      " {'depth': 3.0, 'iterations': 48.0}\n",
      "Лучшая RMSE:\n",
      " 28.614136355191967\n"
     ]
    }
   ],
   "source": [
    "print(\"Лучшая модель CatBoost:\\n\", randm_src_cat['params'])\n",
    "best_params_cat = randm_src_cat['params']\n",
    "print(\"Лучшая RMSE:\\n\", randm_src_cat['cv_results']['train-RMSE-mean'][int(randm_src_cat['params']['iterations'])-1])"
   ]
  },
  {
   "cell_type": "code",
   "execution_count": 18,
   "metadata": {},
   "outputs": [
    {
     "name": "stdout",
     "output_type": "stream",
     "text": [
      "Лучшая модель:\n",
      " RandomForestRegressor(max_depth=5, n_estimators=41, random_state=12345)\n",
      "Лучшая RMSE:\n",
      " 24.812\n"
     ]
    }
   ],
   "source": [
    "rmse_scorer = make_scorer(rmse, greater_is_better=False)\n",
    "model_forest = RandomForestRegressor(random_state=12345)\n",
    "parameters = {'n_estimators' : sp_randInt(10, 51),\n",
    "              'max_depth'    : sp_randInt(3, 6)\n",
    "             }\n",
    "tscv = TimeSeriesSplit(n_splits=10)\n",
    "randm_src_forest = RandomizedSearchCV(estimator=model_forest, param_distributions=parameters, \n",
    "                                      cv=tscv, scoring=rmse_scorer, n_jobs=-1)\n",
    "randm_src_forest.fit(f_train, t_train)\n",
    "print(\"Лучшая модель:\\n\", randm_src_forest.best_estimator_)\n",
    "print(\"Лучшая RMSE:\\n\", abs(randm_src_forest.best_score_))"
   ]
  },
  {
   "cell_type": "markdown",
   "metadata": {},
   "source": [
    "Определим качество моделей с подобранными гиперпараметрами на тестовой выборке."
   ]
  },
  {
   "cell_type": "markdown",
   "metadata": {},
   "source": [
    "## Тестирование"
   ]
  },
  {
   "cell_type": "code",
   "execution_count": 19,
   "metadata": {},
   "outputs": [],
   "source": [
    "best_model_cat = CatBoostRegressor(random_state=12345, depth=int(best_params_cat['depth']), \n",
    "                                   iterations=int(best_params_cat['iterations']))\n",
    "best_model_cat.fit(f_train, t_train, verbose=False);"
   ]
  },
  {
   "cell_type": "code",
   "execution_count": 20,
   "metadata": {},
   "outputs": [],
   "source": [
    "best_model_forest = randm_src_forest.best_estimator_\n",
    "best_model_forest.fit(f_train, t_train);"
   ]
  },
  {
   "cell_type": "code",
   "execution_count": 21,
   "metadata": {},
   "outputs": [],
   "source": [
    "model_LR.fit(f_train, t_train)\n",
    "pred_test_LR = model_LR.predict(f_test)"
   ]
  },
  {
   "cell_type": "code",
   "execution_count": 22,
   "metadata": {},
   "outputs": [],
   "source": [
    "pred_test_cat = best_model_cat.predict(f_test)"
   ]
  },
  {
   "cell_type": "code",
   "execution_count": 23,
   "metadata": {},
   "outputs": [],
   "source": [
    "pred_test_forest = best_model_forest.predict(f_test)"
   ]
  },
  {
   "cell_type": "code",
   "execution_count": 24,
   "metadata": {},
   "outputs": [
    {
     "name": "stdout",
     "output_type": "stream",
     "text": [
      "RMSE cat 44.06\n",
      "RMSE forest 47.67\n",
      "RMSE LinearRegression 43.19\n"
     ]
    }
   ],
   "source": [
    "print('RMSE cat',rmse(pred_test_cat, t_test))\n",
    "print('RMSE forest',rmse(pred_test_forest, t_test))\n",
    "print('RMSE LinearRegression',rmse(pred_test_LR, t_test))"
   ]
  },
  {
   "cell_type": "markdown",
   "metadata": {},
   "source": [
    "Проверим модели на адекватность сравнив с моделью, предсказанием следующего значения которой будет являться предыдущее"
   ]
  },
  {
   "cell_type": "code",
   "execution_count": 25,
   "metadata": {},
   "outputs": [
    {
     "name": "stdout",
     "output_type": "stream",
     "text": [
      "RMSE test 58.86\n"
     ]
    }
   ],
   "source": [
    "pred_previous = t_test.shift(periods=1, fill_value=t_train.iloc[-1])\n",
    "print('RMSE test',rmse(pred_previous, t_test))"
   ]
  },
  {
   "cell_type": "markdown",
   "metadata": {},
   "source": [
    "Модели CatBoost и линейная регрессия показывают лучшее качество предсказаний. Модели адекватны."
   ]
  }
 ],
 "metadata": {
  "ExecuteTimeLog": [
   {
    "duration": 1582,
    "start_time": "2023-05-14T08:05:49.143Z"
   },
   {
    "duration": 2997,
    "start_time": "2023-05-14T08:05:50.727Z"
   },
   {
    "duration": 17,
    "start_time": "2023-05-14T08:05:53.726Z"
   },
   {
    "duration": 177,
    "start_time": "2023-05-14T08:05:53.744Z"
   },
   {
    "duration": 115,
    "start_time": "2023-05-14T08:06:14.544Z"
   },
   {
    "duration": 7,
    "start_time": "2023-05-14T08:06:16.692Z"
   },
   {
    "duration": 15,
    "start_time": "2023-05-14T08:06:20.027Z"
   },
   {
    "duration": 45,
    "start_time": "2023-05-14T08:09:37.736Z"
   },
   {
    "duration": 9,
    "start_time": "2023-05-14T08:09:39.786Z"
   },
   {
    "duration": 239,
    "start_time": "2023-05-14T08:10:12.486Z"
   },
   {
    "duration": 55,
    "start_time": "2023-05-14T08:10:44.830Z"
   },
   {
    "duration": 12,
    "start_time": "2023-05-14T08:10:46.547Z"
   },
   {
    "duration": 8,
    "start_time": "2023-05-14T08:10:48.016Z"
   },
   {
    "duration": 9,
    "start_time": "2023-05-14T08:10:52.806Z"
   },
   {
    "duration": 43,
    "start_time": "2023-05-14T08:11:36.196Z"
   },
   {
    "duration": 18,
    "start_time": "2023-05-14T08:11:38.810Z"
   },
   {
    "duration": 6,
    "start_time": "2023-05-14T08:11:43.053Z"
   },
   {
    "duration": 4,
    "start_time": "2023-05-14T08:12:02.582Z"
   },
   {
    "duration": 11,
    "start_time": "2023-05-14T08:12:03.858Z"
   },
   {
    "duration": 46,
    "start_time": "2023-05-14T08:12:09.690Z"
   },
   {
    "duration": 6,
    "start_time": "2023-05-14T08:12:11.790Z"
   },
   {
    "duration": 6,
    "start_time": "2023-05-14T08:12:14.113Z"
   },
   {
    "duration": 10,
    "start_time": "2023-05-14T08:12:16.806Z"
   },
   {
    "duration": 260,
    "start_time": "2023-05-14T08:13:50.639Z"
   },
   {
    "duration": 287,
    "start_time": "2023-05-14T08:13:54.789Z"
   },
   {
    "duration": 250,
    "start_time": "2023-05-14T08:14:01.898Z"
   },
   {
    "duration": 351,
    "start_time": "2023-05-14T08:14:23.006Z"
   },
   {
    "duration": 295,
    "start_time": "2023-05-14T08:14:29.537Z"
   },
   {
    "duration": 256,
    "start_time": "2023-05-14T08:14:36.444Z"
   },
   {
    "duration": 297,
    "start_time": "2023-05-14T08:14:46.190Z"
   },
   {
    "duration": 106,
    "start_time": "2023-05-14T08:15:41.834Z"
   },
   {
    "duration": 18,
    "start_time": "2023-05-14T08:19:38.834Z"
   },
   {
    "duration": 26,
    "start_time": "2023-05-14T08:20:04.810Z"
   },
   {
    "duration": 4,
    "start_time": "2023-05-14T08:20:47.142Z"
   },
   {
    "duration": 16,
    "start_time": "2023-05-14T08:20:53.218Z"
   },
   {
    "duration": 9,
    "start_time": "2023-05-14T08:21:17.306Z"
   },
   {
    "duration": 14,
    "start_time": "2023-05-14T08:21:25.815Z"
   },
   {
    "duration": 52,
    "start_time": "2023-05-14T08:21:25.831Z"
   },
   {
    "duration": 8,
    "start_time": "2023-05-14T08:21:25.884Z"
   },
   {
    "duration": 7,
    "start_time": "2023-05-14T08:21:25.894Z"
   },
   {
    "duration": 12,
    "start_time": "2023-05-14T08:21:25.903Z"
   },
   {
    "duration": 293,
    "start_time": "2023-05-14T08:21:25.917Z"
   },
   {
    "duration": 23,
    "start_time": "2023-05-14T08:21:26.212Z"
   },
   {
    "duration": 0,
    "start_time": "2023-05-14T08:21:26.238Z"
   },
   {
    "duration": 0,
    "start_time": "2023-05-14T08:21:26.240Z"
   },
   {
    "duration": 0,
    "start_time": "2023-05-14T08:21:26.241Z"
   },
   {
    "duration": 47,
    "start_time": "2023-05-14T08:25:02.000Z"
   },
   {
    "duration": 7,
    "start_time": "2023-05-14T08:25:05.134Z"
   },
   {
    "duration": 12,
    "start_time": "2023-05-14T08:25:12.153Z"
   },
   {
    "duration": 48,
    "start_time": "2023-05-14T08:25:39.290Z"
   },
   {
    "duration": 6,
    "start_time": "2023-05-14T08:25:42.590Z"
   },
   {
    "duration": 12,
    "start_time": "2023-05-14T08:25:44.590Z"
   },
   {
    "duration": 9,
    "start_time": "2023-05-14T08:25:48.136Z"
   },
   {
    "duration": 6,
    "start_time": "2023-05-14T08:25:49.739Z"
   },
   {
    "duration": 21,
    "start_time": "2023-05-14T08:25:51.815Z"
   },
   {
    "duration": 311,
    "start_time": "2023-05-14T08:25:54.225Z"
   },
   {
    "duration": 10,
    "start_time": "2023-05-14T08:25:57.330Z"
   },
   {
    "duration": 6,
    "start_time": "2023-05-14T08:27:09.094Z"
   },
   {
    "duration": 196,
    "start_time": "2023-05-14T08:27:11.840Z"
   },
   {
    "duration": 133,
    "start_time": "2023-05-14T08:27:14.340Z"
   },
   {
    "duration": 196,
    "start_time": "2023-05-14T08:27:24.344Z"
   },
   {
    "duration": 11,
    "start_time": "2023-05-14T08:27:28.990Z"
   },
   {
    "duration": 11,
    "start_time": "2023-05-14T08:28:24.086Z"
   },
   {
    "duration": 254,
    "start_time": "2023-05-14T08:28:27.430Z"
   },
   {
    "duration": 11,
    "start_time": "2023-05-14T08:28:32.883Z"
   },
   {
    "duration": 7,
    "start_time": "2023-05-14T08:28:41.537Z"
   },
   {
    "duration": 177,
    "start_time": "2023-05-14T08:28:42.729Z"
   },
   {
    "duration": 201,
    "start_time": "2023-05-14T08:28:44.606Z"
   },
   {
    "duration": 198,
    "start_time": "2023-05-14T08:28:48.612Z"
   },
   {
    "duration": 201,
    "start_time": "2023-05-14T08:28:58.590Z"
   },
   {
    "duration": 183,
    "start_time": "2023-05-14T08:29:00.878Z"
   },
   {
    "duration": 522,
    "start_time": "2023-05-14T08:29:14.289Z"
   },
   {
    "duration": 300,
    "start_time": "2023-05-14T08:29:24.439Z"
   },
   {
    "duration": 232,
    "start_time": "2023-05-14T08:29:56.102Z"
   },
   {
    "duration": 349,
    "start_time": "2023-05-14T08:30:11.734Z"
   },
   {
    "duration": 442,
    "start_time": "2023-05-14T08:31:24.694Z"
   },
   {
    "duration": 402,
    "start_time": "2023-05-14T08:32:02.091Z"
   },
   {
    "duration": 367,
    "start_time": "2023-05-14T08:32:15.543Z"
   },
   {
    "duration": 424,
    "start_time": "2023-05-14T08:32:33.029Z"
   },
   {
    "duration": 409,
    "start_time": "2023-05-14T08:32:39.446Z"
   },
   {
    "duration": 523,
    "start_time": "2023-05-14T08:32:47.594Z"
   },
   {
    "duration": 408,
    "start_time": "2023-05-14T08:32:50.397Z"
   },
   {
    "duration": 10,
    "start_time": "2023-05-14T08:33:08.682Z"
   },
   {
    "duration": 5,
    "start_time": "2023-05-14T08:33:15.382Z"
   },
   {
    "duration": 324,
    "start_time": "2023-05-14T08:40:47.522Z"
   },
   {
    "duration": 325,
    "start_time": "2023-05-14T08:40:59.391Z"
   },
   {
    "duration": 12,
    "start_time": "2023-05-14T08:45:22.606Z"
   },
   {
    "duration": 12,
    "start_time": "2023-05-14T08:45:32.135Z"
   },
   {
    "duration": 26,
    "start_time": "2023-05-14T08:47:23.898Z"
   },
   {
    "duration": 31,
    "start_time": "2023-05-14T08:47:30.935Z"
   },
   {
    "duration": 23,
    "start_time": "2023-05-14T08:47:38.025Z"
   },
   {
    "duration": 9,
    "start_time": "2023-05-14T08:47:43.127Z"
   },
   {
    "duration": 12,
    "start_time": "2023-05-14T08:47:45.319Z"
   },
   {
    "duration": 5,
    "start_time": "2023-05-14T08:47:57.328Z"
   },
   {
    "duration": 8,
    "start_time": "2023-05-14T08:47:58.718Z"
   },
   {
    "duration": 13,
    "start_time": "2023-05-14T08:48:00.991Z"
   },
   {
    "duration": 10,
    "start_time": "2023-05-14T08:52:58.002Z"
   },
   {
    "duration": 3,
    "start_time": "2023-05-14T08:53:00.453Z"
   },
   {
    "duration": 8,
    "start_time": "2023-05-14T08:53:15.850Z"
   },
   {
    "duration": 4,
    "start_time": "2023-05-14T08:53:36.456Z"
   },
   {
    "duration": 19,
    "start_time": "2023-05-14T08:54:04.441Z"
   },
   {
    "duration": 6,
    "start_time": "2023-05-14T08:54:08.085Z"
   },
   {
    "duration": 19,
    "start_time": "2023-05-14T08:58:22.696Z"
   },
   {
    "duration": 2333,
    "start_time": "2023-05-14T08:58:24.649Z"
   },
   {
    "duration": 2102,
    "start_time": "2023-05-14T08:59:26.361Z"
   },
   {
    "duration": 2226,
    "start_time": "2023-05-14T08:59:43.314Z"
   },
   {
    "duration": 2255,
    "start_time": "2023-05-14T08:59:57.066Z"
   },
   {
    "duration": 72,
    "start_time": "2023-05-14T09:00:20.452Z"
   },
   {
    "duration": 1955,
    "start_time": "2023-05-14T09:03:38.256Z"
   },
   {
    "duration": 1960,
    "start_time": "2023-05-14T09:04:06.299Z"
   },
   {
    "duration": 2180,
    "start_time": "2023-05-14T09:04:19.211Z"
   },
   {
    "duration": 2389,
    "start_time": "2023-05-14T09:04:31.384Z"
   },
   {
    "duration": 3,
    "start_time": "2023-05-14T09:04:40.048Z"
   },
   {
    "duration": 13,
    "start_time": "2023-05-14T09:05:28.754Z"
   },
   {
    "duration": 13,
    "start_time": "2023-05-14T09:05:43.491Z"
   },
   {
    "duration": 7287,
    "start_time": "2023-05-14T09:05:48.357Z"
   },
   {
    "duration": 5539,
    "start_time": "2023-05-14T09:06:28.416Z"
   },
   {
    "duration": 3,
    "start_time": "2023-05-14T09:09:06.524Z"
   },
   {
    "duration": 9,
    "start_time": "2023-05-14T09:09:08.452Z"
   },
   {
    "duration": 5984,
    "start_time": "2023-05-14T09:09:11.207Z"
   },
   {
    "duration": 3,
    "start_time": "2023-05-14T09:09:17.192Z"
   },
   {
    "duration": 5,
    "start_time": "2023-05-14T09:10:46.276Z"
   },
   {
    "duration": 12,
    "start_time": "2023-05-14T09:10:47.719Z"
   },
   {
    "duration": 514,
    "start_time": "2023-05-14T09:11:40.560Z"
   },
   {
    "duration": 463,
    "start_time": "2023-05-14T09:11:44.803Z"
   },
   {
    "duration": 432,
    "start_time": "2023-05-14T09:11:48.473Z"
   },
   {
    "duration": 645,
    "start_time": "2023-05-14T09:11:58.594Z"
   },
   {
    "duration": 564,
    "start_time": "2023-05-14T09:12:03.914Z"
   },
   {
    "duration": 464,
    "start_time": "2023-05-14T09:12:15.748Z"
   },
   {
    "duration": 307,
    "start_time": "2023-05-14T09:12:33.976Z"
   },
   {
    "duration": 4,
    "start_time": "2023-05-14T09:12:37.855Z"
   },
   {
    "duration": 3,
    "start_time": "2023-05-14T09:12:39.159Z"
   },
   {
    "duration": 9,
    "start_time": "2023-05-14T09:12:42.088Z"
   },
   {
    "duration": 6,
    "start_time": "2023-05-14T09:13:39.717Z"
   },
   {
    "duration": 1388,
    "start_time": "2023-05-14T09:14:55.808Z"
   },
   {
    "duration": 46,
    "start_time": "2023-05-14T09:14:57.198Z"
   },
   {
    "duration": 7,
    "start_time": "2023-05-14T09:14:57.246Z"
   },
   {
    "duration": 18,
    "start_time": "2023-05-14T09:14:57.255Z"
   },
   {
    "duration": 17,
    "start_time": "2023-05-14T09:14:57.275Z"
   },
   {
    "duration": 375,
    "start_time": "2023-05-14T09:14:57.294Z"
   },
   {
    "duration": 6,
    "start_time": "2023-05-14T09:14:57.671Z"
   },
   {
    "duration": 458,
    "start_time": "2023-05-14T09:14:57.678Z"
   },
   {
    "duration": 4,
    "start_time": "2023-05-14T09:14:58.138Z"
   },
   {
    "duration": 13,
    "start_time": "2023-05-14T09:14:58.143Z"
   },
   {
    "duration": 11,
    "start_time": "2023-05-14T09:14:58.157Z"
   },
   {
    "duration": 11,
    "start_time": "2023-05-14T09:14:58.169Z"
   },
   {
    "duration": 6,
    "start_time": "2023-05-14T09:14:58.181Z"
   },
   {
    "duration": 30,
    "start_time": "2023-05-14T09:14:58.189Z"
   },
   {
    "duration": 2496,
    "start_time": "2023-05-14T09:14:58.221Z"
   },
   {
    "duration": 4,
    "start_time": "2023-05-14T09:15:00.719Z"
   },
   {
    "duration": 7928,
    "start_time": "2023-05-14T09:15:00.724Z"
   },
   {
    "duration": 915,
    "start_time": "2023-05-14T09:15:08.654Z"
   },
   {
    "duration": 288,
    "start_time": "2023-05-14T09:15:09.571Z"
   },
   {
    "duration": 6,
    "start_time": "2023-05-14T09:15:09.860Z"
   },
   {
    "duration": 68,
    "start_time": "2023-05-14T09:15:09.867Z"
   },
   {
    "duration": 13,
    "start_time": "2023-05-14T09:15:09.937Z"
   },
   {
    "duration": 6,
    "start_time": "2023-05-14T09:15:09.951Z"
   },
   {
    "duration": 1884,
    "start_time": "2023-05-14T09:17:15.989Z"
   },
   {
    "duration": 4,
    "start_time": "2023-05-14T09:17:22.590Z"
   },
   {
    "duration": 128,
    "start_time": "2023-05-14T09:17:28.824Z"
   },
   {
    "duration": 9,
    "start_time": "2023-05-14T09:17:47.095Z"
   },
   {
    "duration": 10,
    "start_time": "2023-05-14T09:17:56.191Z"
   },
   {
    "duration": 660,
    "start_time": "2023-05-14T09:18:15.183Z"
   },
   {
    "duration": 4,
    "start_time": "2023-05-14T09:18:49.487Z"
   },
   {
    "duration": 9,
    "start_time": "2023-05-14T09:18:52.148Z"
   },
   {
    "duration": 4,
    "start_time": "2023-05-14T09:19:00.659Z"
   },
   {
    "duration": 9,
    "start_time": "2023-05-14T09:19:03.918Z"
   },
   {
    "duration": 4,
    "start_time": "2023-05-14T09:19:16.703Z"
   },
   {
    "duration": 3,
    "start_time": "2023-05-14T09:19:23.610Z"
   },
   {
    "duration": 9,
    "start_time": "2023-05-14T09:19:44.948Z"
   },
   {
    "duration": 9,
    "start_time": "2023-05-14T09:20:20.694Z"
   },
   {
    "duration": 3,
    "start_time": "2023-05-14T09:20:31.588Z"
   },
   {
    "duration": 2309,
    "start_time": "2023-05-14T09:20:41.990Z"
   },
   {
    "duration": 6,
    "start_time": "2023-05-14T09:20:44.553Z"
   },
   {
    "duration": 3,
    "start_time": "2023-05-14T09:20:48.648Z"
   },
   {
    "duration": 4,
    "start_time": "2023-05-14T09:21:03.156Z"
   },
   {
    "duration": 3,
    "start_time": "2023-05-14T09:21:05.698Z"
   },
   {
    "duration": 425,
    "start_time": "2023-05-14T09:21:11.890Z"
   },
   {
    "duration": 291,
    "start_time": "2023-05-14T09:21:13.423Z"
   },
   {
    "duration": 4,
    "start_time": "2023-05-14T09:21:15.064Z"
   },
   {
    "duration": 3,
    "start_time": "2023-05-14T09:21:16.196Z"
   },
   {
    "duration": 9,
    "start_time": "2023-05-14T09:21:17.853Z"
   },
   {
    "duration": 5,
    "start_time": "2023-05-14T09:21:18.996Z"
   },
   {
    "duration": 1387,
    "start_time": "2023-05-14T09:21:40.819Z"
   },
   {
    "duration": 45,
    "start_time": "2023-05-14T09:21:42.208Z"
   },
   {
    "duration": 11,
    "start_time": "2023-05-14T09:21:42.255Z"
   },
   {
    "duration": 10,
    "start_time": "2023-05-14T09:21:42.268Z"
   },
   {
    "duration": 10,
    "start_time": "2023-05-14T09:21:42.280Z"
   },
   {
    "duration": 389,
    "start_time": "2023-05-14T09:21:42.292Z"
   },
   {
    "duration": 7,
    "start_time": "2023-05-14T09:21:42.682Z"
   },
   {
    "duration": 453,
    "start_time": "2023-05-14T09:21:42.690Z"
   },
   {
    "duration": 3,
    "start_time": "2023-05-14T09:21:43.145Z"
   },
   {
    "duration": 34,
    "start_time": "2023-05-14T09:21:43.150Z"
   },
   {
    "duration": 28,
    "start_time": "2023-05-14T09:21:43.186Z"
   },
   {
    "duration": 17,
    "start_time": "2023-05-14T09:21:43.215Z"
   },
   {
    "duration": 27,
    "start_time": "2023-05-14T09:21:43.234Z"
   },
   {
    "duration": 21,
    "start_time": "2023-05-14T09:21:43.264Z"
   },
   {
    "duration": 2081,
    "start_time": "2023-05-14T09:21:43.286Z"
   },
   {
    "duration": 4,
    "start_time": "2023-05-14T09:21:45.368Z"
   },
   {
    "duration": 6758,
    "start_time": "2023-05-14T09:21:45.373Z"
   },
   {
    "duration": 450,
    "start_time": "2023-05-14T09:21:52.133Z"
   },
   {
    "duration": 261,
    "start_time": "2023-05-14T09:21:52.585Z"
   },
   {
    "duration": 4,
    "start_time": "2023-05-14T09:21:52.848Z"
   },
   {
    "duration": 15,
    "start_time": "2023-05-14T09:21:52.853Z"
   },
   {
    "duration": 11,
    "start_time": "2023-05-14T09:21:52.869Z"
   },
   {
    "duration": 6,
    "start_time": "2023-05-14T09:21:52.881Z"
   },
   {
    "duration": 9,
    "start_time": "2023-05-14T09:22:43.146Z"
   },
   {
    "duration": 1482,
    "start_time": "2023-05-14T09:22:49.496Z"
   },
   {
    "duration": 50,
    "start_time": "2023-05-14T09:22:50.980Z"
   },
   {
    "duration": 10,
    "start_time": "2023-05-14T09:22:51.032Z"
   },
   {
    "duration": 24,
    "start_time": "2023-05-14T09:22:51.044Z"
   },
   {
    "duration": 11,
    "start_time": "2023-05-14T09:22:51.070Z"
   },
   {
    "duration": 391,
    "start_time": "2023-05-14T09:22:51.082Z"
   },
   {
    "duration": 8,
    "start_time": "2023-05-14T09:22:51.475Z"
   },
   {
    "duration": 472,
    "start_time": "2023-05-14T09:22:51.485Z"
   },
   {
    "duration": 4,
    "start_time": "2023-05-14T09:22:51.959Z"
   },
   {
    "duration": 17,
    "start_time": "2023-05-14T09:22:51.964Z"
   },
   {
    "duration": 13,
    "start_time": "2023-05-14T09:22:51.982Z"
   },
   {
    "duration": 26,
    "start_time": "2023-05-14T09:22:51.997Z"
   },
   {
    "duration": 3,
    "start_time": "2023-05-14T09:22:52.024Z"
   },
   {
    "duration": 92,
    "start_time": "2023-05-14T09:22:52.031Z"
   },
   {
    "duration": 2081,
    "start_time": "2023-05-14T09:22:52.127Z"
   },
   {
    "duration": 3,
    "start_time": "2023-05-14T09:22:54.210Z"
   },
   {
    "duration": 8611,
    "start_time": "2023-05-14T09:22:54.214Z"
   },
   {
    "duration": 446,
    "start_time": "2023-05-14T09:23:02.826Z"
   },
   {
    "duration": 308,
    "start_time": "2023-05-14T09:23:03.274Z"
   },
   {
    "duration": 5,
    "start_time": "2023-05-14T09:23:03.583Z"
   },
   {
    "duration": 10,
    "start_time": "2023-05-14T09:23:03.589Z"
   },
   {
    "duration": 14,
    "start_time": "2023-05-14T09:23:03.600Z"
   },
   {
    "duration": 7,
    "start_time": "2023-05-14T09:23:03.615Z"
   },
   {
    "duration": 1528,
    "start_time": "2023-05-14T09:32:26.051Z"
   },
   {
    "duration": 63,
    "start_time": "2023-05-14T09:32:27.581Z"
   },
   {
    "duration": 10,
    "start_time": "2023-05-14T09:32:27.645Z"
   },
   {
    "duration": 42,
    "start_time": "2023-05-14T09:32:27.656Z"
   },
   {
    "duration": 11,
    "start_time": "2023-05-14T09:32:27.700Z"
   },
   {
    "duration": 421,
    "start_time": "2023-05-14T09:32:27.712Z"
   },
   {
    "duration": 11,
    "start_time": "2023-05-14T09:32:28.135Z"
   },
   {
    "duration": 512,
    "start_time": "2023-05-14T09:32:28.148Z"
   },
   {
    "duration": 3,
    "start_time": "2023-05-14T09:32:28.661Z"
   },
   {
    "duration": 19,
    "start_time": "2023-05-14T09:32:28.667Z"
   },
   {
    "duration": 13,
    "start_time": "2023-05-14T09:32:28.687Z"
   },
   {
    "duration": 24,
    "start_time": "2023-05-14T09:32:28.701Z"
   },
   {
    "duration": 20,
    "start_time": "2023-05-14T09:32:28.727Z"
   },
   {
    "duration": 176,
    "start_time": "2023-05-14T09:32:28.749Z"
   },
   {
    "duration": 3332,
    "start_time": "2023-05-14T09:32:28.926Z"
   },
   {
    "duration": 4,
    "start_time": "2023-05-14T09:32:32.259Z"
   },
   {
    "duration": 10804,
    "start_time": "2023-05-14T09:32:32.265Z"
   },
   {
    "duration": 593,
    "start_time": "2023-05-14T09:32:43.071Z"
   },
   {
    "duration": 247,
    "start_time": "2023-05-14T09:32:43.666Z"
   },
   {
    "duration": 6,
    "start_time": "2023-05-14T09:32:43.915Z"
   },
   {
    "duration": 26,
    "start_time": "2023-05-14T09:32:43.922Z"
   },
   {
    "duration": 9,
    "start_time": "2023-05-14T09:32:43.949Z"
   },
   {
    "duration": 5,
    "start_time": "2023-05-14T09:32:43.960Z"
   },
   {
    "duration": 1504,
    "start_time": "2023-05-14T09:34:09.959Z"
   },
   {
    "duration": 47,
    "start_time": "2023-05-14T09:34:11.465Z"
   },
   {
    "duration": 9,
    "start_time": "2023-05-14T09:34:11.514Z"
   },
   {
    "duration": 14,
    "start_time": "2023-05-14T09:34:11.525Z"
   },
   {
    "duration": 26,
    "start_time": "2023-05-14T09:34:11.543Z"
   },
   {
    "duration": 387,
    "start_time": "2023-05-14T09:34:11.570Z"
   },
   {
    "duration": 6,
    "start_time": "2023-05-14T09:34:11.959Z"
   },
   {
    "duration": 510,
    "start_time": "2023-05-14T09:34:11.966Z"
   },
   {
    "duration": 5,
    "start_time": "2023-05-14T09:34:12.478Z"
   },
   {
    "duration": 51,
    "start_time": "2023-05-14T09:34:12.485Z"
   },
   {
    "duration": 22,
    "start_time": "2023-05-14T09:34:12.537Z"
   },
   {
    "duration": 16,
    "start_time": "2023-05-14T09:34:12.561Z"
   },
   {
    "duration": 4,
    "start_time": "2023-05-14T09:34:12.578Z"
   },
   {
    "duration": 257,
    "start_time": "2023-05-14T09:34:12.585Z"
   },
   {
    "duration": 7427,
    "start_time": "2023-05-14T09:34:12.844Z"
   },
   {
    "duration": 5,
    "start_time": "2023-05-14T09:34:20.273Z"
   },
   {
    "duration": 53934,
    "start_time": "2023-05-14T09:34:20.279Z"
   },
   {
    "duration": 852,
    "start_time": "2023-05-14T09:35:14.214Z"
   },
   {
    "duration": 2131,
    "start_time": "2023-05-14T09:35:15.068Z"
   },
   {
    "duration": 127,
    "start_time": "2023-05-14T09:35:17.200Z"
   },
   {
    "duration": 24,
    "start_time": "2023-05-14T09:35:17.331Z"
   },
   {
    "duration": 63,
    "start_time": "2023-05-14T09:35:17.357Z"
   },
   {
    "duration": 8,
    "start_time": "2023-05-14T09:35:17.422Z"
   },
   {
    "duration": 1576,
    "start_time": "2023-05-14T09:37:52.697Z"
   },
   {
    "duration": 60,
    "start_time": "2023-05-14T09:37:54.275Z"
   },
   {
    "duration": 13,
    "start_time": "2023-05-14T09:37:54.336Z"
   },
   {
    "duration": 13,
    "start_time": "2023-05-14T09:37:54.351Z"
   },
   {
    "duration": 15,
    "start_time": "2023-05-14T09:37:54.367Z"
   },
   {
    "duration": 576,
    "start_time": "2023-05-14T09:37:54.384Z"
   },
   {
    "duration": 8,
    "start_time": "2023-05-14T09:37:54.962Z"
   },
   {
    "duration": 570,
    "start_time": "2023-05-14T09:37:54.972Z"
   },
   {
    "duration": 4,
    "start_time": "2023-05-14T09:37:55.544Z"
   },
   {
    "duration": 52,
    "start_time": "2023-05-14T09:37:55.549Z"
   },
   {
    "duration": 27,
    "start_time": "2023-05-14T09:37:55.602Z"
   },
   {
    "duration": 24,
    "start_time": "2023-05-14T09:37:55.631Z"
   },
   {
    "duration": 3,
    "start_time": "2023-05-14T09:37:55.657Z"
   },
   {
    "duration": 62,
    "start_time": "2023-05-14T09:37:55.663Z"
   },
   {
    "duration": 4536,
    "start_time": "2023-05-14T09:37:55.727Z"
   },
   {
    "duration": 4,
    "start_time": "2023-05-14T09:38:00.265Z"
   },
   {
    "duration": 21845,
    "start_time": "2023-05-14T09:38:00.271Z"
   },
   {
    "duration": 631,
    "start_time": "2023-05-14T09:38:22.118Z"
   },
   {
    "duration": 783,
    "start_time": "2023-05-14T09:38:22.751Z"
   },
   {
    "duration": 7,
    "start_time": "2023-05-14T09:38:23.538Z"
   },
   {
    "duration": 176,
    "start_time": "2023-05-14T09:38:23.547Z"
   },
   {
    "duration": 20,
    "start_time": "2023-05-14T09:38:23.731Z"
   },
   {
    "duration": 9,
    "start_time": "2023-05-14T09:38:23.753Z"
   },
   {
    "duration": 1438,
    "start_time": "2023-05-14T09:46:32.601Z"
   },
   {
    "duration": 47,
    "start_time": "2023-05-14T09:46:34.041Z"
   },
   {
    "duration": 10,
    "start_time": "2023-05-14T09:46:34.089Z"
   },
   {
    "duration": 10,
    "start_time": "2023-05-14T09:46:34.100Z"
   },
   {
    "duration": 10,
    "start_time": "2023-05-14T09:46:34.116Z"
   },
   {
    "duration": 373,
    "start_time": "2023-05-14T09:46:34.128Z"
   },
   {
    "duration": 7,
    "start_time": "2023-05-14T09:46:34.502Z"
   },
   {
    "duration": 554,
    "start_time": "2023-05-14T09:46:34.510Z"
   },
   {
    "duration": 4,
    "start_time": "2023-05-14T09:46:35.066Z"
   },
   {
    "duration": 23,
    "start_time": "2023-05-14T09:46:35.072Z"
   },
   {
    "duration": 35,
    "start_time": "2023-05-14T09:46:35.097Z"
   },
   {
    "duration": 11,
    "start_time": "2023-05-14T09:46:35.134Z"
   },
   {
    "duration": 3,
    "start_time": "2023-05-14T09:46:35.147Z"
   },
   {
    "duration": 170,
    "start_time": "2023-05-14T09:46:35.153Z"
   },
   {
    "duration": 4205,
    "start_time": "2023-05-14T09:46:35.325Z"
   },
   {
    "duration": 4,
    "start_time": "2023-05-14T09:46:39.532Z"
   },
   {
    "duration": 23311,
    "start_time": "2023-05-14T09:46:39.537Z"
   },
   {
    "duration": 609,
    "start_time": "2023-05-14T09:47:02.851Z"
   },
   {
    "duration": 1102,
    "start_time": "2023-05-14T09:47:03.462Z"
   },
   {
    "duration": 72,
    "start_time": "2023-05-14T09:47:04.566Z"
   },
   {
    "duration": 88,
    "start_time": "2023-05-14T09:47:04.640Z"
   },
   {
    "duration": 22,
    "start_time": "2023-05-14T09:47:04.732Z"
   },
   {
    "duration": 64,
    "start_time": "2023-05-14T09:47:04.757Z"
   },
   {
    "duration": 2193,
    "start_time": "2023-05-14T09:56:41.849Z"
   },
   {
    "duration": 4,
    "start_time": "2023-05-14T09:56:53.066Z"
   },
   {
    "duration": 75,
    "start_time": "2023-05-14T09:56:53.072Z"
   },
   {
    "duration": 8,
    "start_time": "2023-05-14T09:56:53.149Z"
   },
   {
    "duration": 30,
    "start_time": "2023-05-14T09:56:53.159Z"
   },
   {
    "duration": 50,
    "start_time": "2023-05-14T09:56:53.191Z"
   },
   {
    "duration": 568,
    "start_time": "2023-05-14T09:56:54.911Z"
   },
   {
    "duration": 148,
    "start_time": "2023-05-14T10:04:34.282Z"
   },
   {
    "duration": 1368,
    "start_time": "2023-05-14T10:13:52.015Z"
   },
   {
    "duration": 47,
    "start_time": "2023-05-14T10:13:53.385Z"
   },
   {
    "duration": 11,
    "start_time": "2023-05-14T10:13:53.434Z"
   },
   {
    "duration": 14,
    "start_time": "2023-05-14T10:13:53.446Z"
   },
   {
    "duration": 16,
    "start_time": "2023-05-14T10:13:53.462Z"
   },
   {
    "duration": 398,
    "start_time": "2023-05-14T10:13:53.479Z"
   },
   {
    "duration": 7,
    "start_time": "2023-05-14T10:13:53.878Z"
   },
   {
    "duration": 483,
    "start_time": "2023-05-14T10:13:53.887Z"
   },
   {
    "duration": 5,
    "start_time": "2023-05-14T10:13:54.372Z"
   },
   {
    "duration": 39,
    "start_time": "2023-05-14T10:13:54.378Z"
   },
   {
    "duration": 24,
    "start_time": "2023-05-14T10:13:54.419Z"
   },
   {
    "duration": 20,
    "start_time": "2023-05-14T10:13:54.445Z"
   },
   {
    "duration": 14,
    "start_time": "2023-05-14T10:13:54.470Z"
   },
   {
    "duration": 234,
    "start_time": "2023-05-14T10:13:54.488Z"
   },
   {
    "duration": 5139,
    "start_time": "2023-05-14T10:13:54.723Z"
   },
   {
    "duration": 4,
    "start_time": "2023-05-14T10:13:59.864Z"
   },
   {
    "duration": 24797,
    "start_time": "2023-05-14T10:13:59.870Z"
   },
   {
    "duration": 770,
    "start_time": "2023-05-14T10:14:24.669Z"
   },
   {
    "duration": 989,
    "start_time": "2023-05-14T10:14:25.441Z"
   },
   {
    "duration": 9,
    "start_time": "2023-05-14T10:14:26.432Z"
   },
   {
    "duration": 86,
    "start_time": "2023-05-14T10:14:26.444Z"
   },
   {
    "duration": 99,
    "start_time": "2023-05-14T10:14:26.535Z"
   },
   {
    "duration": 7,
    "start_time": "2023-05-14T10:14:26.636Z"
   },
   {
    "duration": 2008,
    "start_time": "2023-05-14T10:21:57.820Z"
   },
   {
    "duration": 48,
    "start_time": "2023-05-14T10:21:59.831Z"
   },
   {
    "duration": 9,
    "start_time": "2023-05-14T10:21:59.881Z"
   },
   {
    "duration": 10,
    "start_time": "2023-05-14T10:21:59.892Z"
   },
   {
    "duration": 9,
    "start_time": "2023-05-14T10:21:59.905Z"
   },
   {
    "duration": 424,
    "start_time": "2023-05-14T10:21:59.916Z"
   },
   {
    "duration": 9,
    "start_time": "2023-05-14T10:22:00.342Z"
   },
   {
    "duration": 541,
    "start_time": "2023-05-14T10:22:00.353Z"
   },
   {
    "duration": 23,
    "start_time": "2023-05-14T10:22:00.896Z"
   },
   {
    "duration": 48,
    "start_time": "2023-05-14T10:22:00.922Z"
   },
   {
    "duration": 38,
    "start_time": "2023-05-14T10:22:00.971Z"
   },
   {
    "duration": 21,
    "start_time": "2023-05-14T10:22:01.011Z"
   },
   {
    "duration": 21,
    "start_time": "2023-05-14T10:22:01.034Z"
   },
   {
    "duration": 261,
    "start_time": "2023-05-14T10:22:01.059Z"
   },
   {
    "duration": 7457,
    "start_time": "2023-05-14T10:22:01.323Z"
   },
   {
    "duration": 5,
    "start_time": "2023-05-14T10:22:08.782Z"
   },
   {
    "duration": 22398,
    "start_time": "2023-05-14T10:22:08.789Z"
   },
   {
    "duration": 1009,
    "start_time": "2023-05-14T10:22:31.189Z"
   },
   {
    "duration": 971,
    "start_time": "2023-05-14T10:22:32.200Z"
   },
   {
    "duration": 53,
    "start_time": "2023-05-14T10:22:33.172Z"
   },
   {
    "duration": 99,
    "start_time": "2023-05-14T10:22:33.227Z"
   },
   {
    "duration": 15,
    "start_time": "2023-05-14T10:22:33.327Z"
   },
   {
    "duration": 5,
    "start_time": "2023-05-14T10:22:33.344Z"
   },
   {
    "duration": 280,
    "start_time": "2023-05-14T10:45:23.320Z"
   },
   {
    "duration": 51,
    "start_time": "2023-05-14T12:51:36.742Z"
   },
   {
    "duration": 1543,
    "start_time": "2023-05-14T12:51:44.659Z"
   },
   {
    "duration": 135,
    "start_time": "2023-05-14T12:51:46.204Z"
   },
   {
    "duration": 11,
    "start_time": "2023-05-14T12:51:46.341Z"
   },
   {
    "duration": 35,
    "start_time": "2023-05-14T12:51:46.354Z"
   },
   {
    "duration": 40,
    "start_time": "2023-05-14T12:51:46.392Z"
   },
   {
    "duration": 383,
    "start_time": "2023-05-14T12:51:47.982Z"
   },
   {
    "duration": 109,
    "start_time": "2023-05-14T12:52:24.582Z"
   },
   {
    "duration": 4,
    "start_time": "2023-05-14T12:52:30.358Z"
   },
   {
    "duration": 82,
    "start_time": "2023-05-14T12:52:30.364Z"
   },
   {
    "duration": 6,
    "start_time": "2023-05-14T12:52:30.448Z"
   },
   {
    "duration": 23,
    "start_time": "2023-05-14T12:52:30.456Z"
   },
   {
    "duration": 26,
    "start_time": "2023-05-14T12:52:30.481Z"
   },
   {
    "duration": 454,
    "start_time": "2023-05-14T12:52:30.509Z"
   },
   {
    "duration": 7,
    "start_time": "2023-05-14T12:52:30.965Z"
   },
   {
    "duration": 735,
    "start_time": "2023-05-14T12:52:34.997Z"
   },
   {
    "duration": 1076,
    "start_time": "2023-05-14T12:52:56.094Z"
   },
   {
    "duration": 775,
    "start_time": "2023-05-14T12:53:15.806Z"
   },
   {
    "duration": 11,
    "start_time": "2023-05-14T12:58:02.297Z"
   },
   {
    "duration": 7,
    "start_time": "2023-05-14T12:58:32.060Z"
   },
   {
    "duration": 237,
    "start_time": "2023-05-14T12:59:09.676Z"
   },
   {
    "duration": 315,
    "start_time": "2023-05-14T12:59:32.142Z"
   },
   {
    "duration": 567,
    "start_time": "2023-05-14T13:00:33.777Z"
   },
   {
    "duration": 566,
    "start_time": "2023-05-14T13:00:42.891Z"
   },
   {
    "duration": 4,
    "start_time": "2023-05-14T13:01:27.590Z"
   },
   {
    "duration": 56,
    "start_time": "2023-05-14T13:01:27.597Z"
   },
   {
    "duration": 7,
    "start_time": "2023-05-14T13:01:27.654Z"
   },
   {
    "duration": 11,
    "start_time": "2023-05-14T13:01:27.662Z"
   },
   {
    "duration": 11,
    "start_time": "2023-05-14T13:01:27.675Z"
   },
   {
    "duration": 382,
    "start_time": "2023-05-14T13:01:27.688Z"
   },
   {
    "duration": 9,
    "start_time": "2023-05-14T13:01:28.071Z"
   },
   {
    "duration": 761,
    "start_time": "2023-05-14T13:01:28.081Z"
   },
   {
    "duration": 6,
    "start_time": "2023-05-14T13:01:28.844Z"
   },
   {
    "duration": 440,
    "start_time": "2023-05-14T13:01:31.452Z"
   },
   {
    "duration": 633,
    "start_time": "2023-05-14T13:01:45.053Z"
   },
   {
    "duration": 752,
    "start_time": "2023-05-14T13:02:47.090Z"
   },
   {
    "duration": 736,
    "start_time": "2023-05-14T13:03:25.446Z"
   },
   {
    "duration": 680,
    "start_time": "2023-05-14T13:03:39.484Z"
   },
   {
    "duration": 368,
    "start_time": "2023-05-14T13:04:12.328Z"
   },
   {
    "duration": 382,
    "start_time": "2023-05-14T13:04:31.241Z"
   },
   {
    "duration": 1372,
    "start_time": "2023-05-14T13:04:56.844Z"
   },
   {
    "duration": 438,
    "start_time": "2023-05-14T13:05:12.982Z"
   },
   {
    "duration": 1705,
    "start_time": "2023-05-14T13:08:15.800Z"
   },
   {
    "duration": 1220,
    "start_time": "2023-05-14T13:11:00.257Z"
   },
   {
    "duration": 191,
    "start_time": "2023-05-14T13:11:15.468Z"
   },
   {
    "duration": 186,
    "start_time": "2023-05-14T13:11:41.586Z"
   },
   {
    "duration": 185,
    "start_time": "2023-05-14T13:12:03.112Z"
   },
   {
    "duration": 225,
    "start_time": "2023-05-14T13:12:19.686Z"
   },
   {
    "duration": 222,
    "start_time": "2023-05-14T13:12:45.087Z"
   },
   {
    "duration": 1048,
    "start_time": "2023-05-14T13:13:16.579Z"
   },
   {
    "duration": 556,
    "start_time": "2023-05-14T13:13:23.345Z"
   },
   {
    "duration": 504,
    "start_time": "2023-05-14T13:14:27.075Z"
   },
   {
    "duration": 24,
    "start_time": "2023-05-14T13:15:15.583Z"
   },
   {
    "duration": 493,
    "start_time": "2023-05-14T13:15:25.750Z"
   },
   {
    "duration": 178,
    "start_time": "2023-05-14T13:16:59.530Z"
   },
   {
    "duration": 206,
    "start_time": "2023-05-14T13:17:07.271Z"
   },
   {
    "duration": 18,
    "start_time": "2023-05-14T13:17:23.233Z"
   },
   {
    "duration": 205,
    "start_time": "2023-05-14T13:17:50.731Z"
   },
   {
    "duration": 177,
    "start_time": "2023-05-14T13:18:01.577Z"
   },
   {
    "duration": 161,
    "start_time": "2023-05-14T13:19:25.754Z"
   },
   {
    "duration": 258,
    "start_time": "2023-05-14T13:19:38.482Z"
   },
   {
    "duration": 175,
    "start_time": "2023-05-14T13:20:08.453Z"
   },
   {
    "duration": 182,
    "start_time": "2023-05-14T13:20:17.997Z"
   },
   {
    "duration": 181,
    "start_time": "2023-05-14T13:20:57.729Z"
   },
   {
    "duration": 183,
    "start_time": "2023-05-14T13:21:05.202Z"
   },
   {
    "duration": 172,
    "start_time": "2023-05-14T13:21:13.397Z"
   },
   {
    "duration": 174,
    "start_time": "2023-05-14T13:21:25.165Z"
   },
   {
    "duration": 204,
    "start_time": "2023-05-14T13:21:33.161Z"
   },
   {
    "duration": 195,
    "start_time": "2023-05-14T13:21:42.193Z"
   },
   {
    "duration": 25,
    "start_time": "2023-05-14T13:22:17.758Z"
   },
   {
    "duration": 21,
    "start_time": "2023-05-14T13:22:35.273Z"
   },
   {
    "duration": 14,
    "start_time": "2023-05-14T13:22:40.155Z"
   },
   {
    "duration": 2430,
    "start_time": "2023-05-14T13:24:14.913Z"
   },
   {
    "duration": 178,
    "start_time": "2023-05-14T13:24:25.177Z"
   },
   {
    "duration": 12,
    "start_time": "2023-05-14T13:25:42.550Z"
   },
   {
    "duration": 12,
    "start_time": "2023-05-14T13:26:05.890Z"
   },
   {
    "duration": 9,
    "start_time": "2023-05-14T13:26:19.678Z"
   },
   {
    "duration": 9,
    "start_time": "2023-05-14T13:26:23.695Z"
   },
   {
    "duration": 155,
    "start_time": "2023-05-14T13:27:19.545Z"
   },
   {
    "duration": 20,
    "start_time": "2023-05-14T13:29:51.791Z"
   },
   {
    "duration": 62,
    "start_time": "2023-05-14T13:43:52.989Z"
   },
   {
    "duration": 15,
    "start_time": "2023-05-14T13:43:57.238Z"
   },
   {
    "duration": 5,
    "start_time": "2023-05-14T13:44:22.338Z"
   },
   {
    "duration": 11,
    "start_time": "2023-05-14T13:44:26.260Z"
   },
   {
    "duration": 6,
    "start_time": "2023-05-14T13:50:37.856Z"
   },
   {
    "duration": 11,
    "start_time": "2023-05-14T13:52:32.049Z"
   },
   {
    "duration": 4,
    "start_time": "2023-05-14T13:52:38.782Z"
   },
   {
    "duration": 52,
    "start_time": "2023-05-14T13:52:38.788Z"
   },
   {
    "duration": 6,
    "start_time": "2023-05-14T13:52:38.842Z"
   },
   {
    "duration": 13,
    "start_time": "2023-05-14T13:52:38.849Z"
   },
   {
    "duration": 15,
    "start_time": "2023-05-14T13:52:38.864Z"
   },
   {
    "duration": 402,
    "start_time": "2023-05-14T13:52:38.881Z"
   },
   {
    "duration": 8,
    "start_time": "2023-05-14T13:52:39.285Z"
   },
   {
    "duration": 673,
    "start_time": "2023-05-14T13:52:39.294Z"
   },
   {
    "duration": 5,
    "start_time": "2023-05-14T13:52:39.969Z"
   },
   {
    "duration": 183,
    "start_time": "2023-05-14T13:52:39.976Z"
   },
   {
    "duration": 4,
    "start_time": "2023-05-14T13:52:40.161Z"
   },
   {
    "duration": 29,
    "start_time": "2023-05-14T13:52:40.167Z"
   },
   {
    "duration": 39,
    "start_time": "2023-05-14T13:52:40.197Z"
   },
   {
    "duration": 10,
    "start_time": "2023-05-14T13:52:40.239Z"
   },
   {
    "duration": 8,
    "start_time": "2023-05-14T13:52:40.251Z"
   },
   {
    "duration": 14,
    "start_time": "2023-05-14T13:52:48.176Z"
   },
   {
    "duration": 799,
    "start_time": "2023-05-14T13:52:56.232Z"
   },
   {
    "duration": 15,
    "start_time": "2023-05-14T13:53:06.729Z"
   },
   {
    "duration": 1992,
    "start_time": "2023-05-14T13:54:53.232Z"
   },
   {
    "duration": 4,
    "start_time": "2023-05-14T13:55:19.575Z"
   },
   {
    "duration": 17,
    "start_time": "2023-05-14T13:55:22.578Z"
   },
   {
    "duration": 17,
    "start_time": "2023-05-14T13:56:02.662Z"
   },
   {
    "duration": 2567,
    "start_time": "2023-05-14T13:56:09.662Z"
   },
   {
    "duration": 65,
    "start_time": "2023-05-14T13:56:33.347Z"
   },
   {
    "duration": 2296,
    "start_time": "2023-05-14T13:56:44.449Z"
   },
   {
    "duration": 2032,
    "start_time": "2023-05-14T13:56:55.612Z"
   },
   {
    "duration": 103,
    "start_time": "2023-05-14T13:57:16.074Z"
   },
   {
    "duration": 1827,
    "start_time": "2023-05-14T13:57:22.496Z"
   },
   {
    "duration": 1851,
    "start_time": "2023-05-14T13:57:39.394Z"
   },
   {
    "duration": 1708,
    "start_time": "2023-05-14T13:57:48.038Z"
   },
   {
    "duration": 1891,
    "start_time": "2023-05-14T13:57:54.742Z"
   },
   {
    "duration": 1741,
    "start_time": "2023-05-14T13:58:12.800Z"
   },
   {
    "duration": 14810,
    "start_time": "2023-05-14T13:59:05.058Z"
   },
   {
    "duration": 5,
    "start_time": "2023-05-14T13:59:26.533Z"
   },
   {
    "duration": 26150,
    "start_time": "2023-05-14T14:00:03.936Z"
   },
   {
    "duration": 702,
    "start_time": "2023-05-14T14:01:48.232Z"
   },
   {
    "duration": 774,
    "start_time": "2023-05-14T14:02:00.884Z"
   },
   {
    "duration": 12,
    "start_time": "2023-05-14T14:02:02.873Z"
   },
   {
    "duration": 51,
    "start_time": "2023-05-14T14:03:55.275Z"
   },
   {
    "duration": 6,
    "start_time": "2023-05-14T14:03:59.629Z"
   },
   {
    "duration": 8,
    "start_time": "2023-05-14T14:04:01.271Z"
   },
   {
    "duration": 6,
    "start_time": "2023-05-14T14:04:04.468Z"
   },
   {
    "duration": 19,
    "start_time": "2023-05-14T14:07:23.587Z"
   },
   {
    "duration": 1432,
    "start_time": "2023-05-14T14:07:59.004Z"
   },
   {
    "duration": 49,
    "start_time": "2023-05-14T14:08:00.438Z"
   },
   {
    "duration": 10,
    "start_time": "2023-05-14T14:08:00.489Z"
   },
   {
    "duration": 39,
    "start_time": "2023-05-14T14:08:00.501Z"
   },
   {
    "duration": 36,
    "start_time": "2023-05-14T14:08:00.542Z"
   },
   {
    "duration": 456,
    "start_time": "2023-05-14T14:08:00.580Z"
   },
   {
    "duration": 8,
    "start_time": "2023-05-14T14:08:01.038Z"
   },
   {
    "duration": 891,
    "start_time": "2023-05-14T14:08:01.048Z"
   },
   {
    "duration": 8,
    "start_time": "2023-05-14T14:08:01.941Z"
   },
   {
    "duration": 167,
    "start_time": "2023-05-14T14:08:01.952Z"
   },
   {
    "duration": 0,
    "start_time": "2023-05-14T14:08:02.132Z"
   },
   {
    "duration": 0,
    "start_time": "2023-05-14T14:08:02.133Z"
   },
   {
    "duration": 0,
    "start_time": "2023-05-14T14:08:02.135Z"
   },
   {
    "duration": 0,
    "start_time": "2023-05-14T14:08:02.137Z"
   },
   {
    "duration": 0,
    "start_time": "2023-05-14T14:08:02.138Z"
   },
   {
    "duration": 0,
    "start_time": "2023-05-14T14:08:02.139Z"
   },
   {
    "duration": 0,
    "start_time": "2023-05-14T14:08:02.140Z"
   },
   {
    "duration": 0,
    "start_time": "2023-05-14T14:08:02.141Z"
   },
   {
    "duration": 1,
    "start_time": "2023-05-14T14:08:02.142Z"
   },
   {
    "duration": 0,
    "start_time": "2023-05-14T14:08:02.144Z"
   },
   {
    "duration": 0,
    "start_time": "2023-05-14T14:08:02.145Z"
   },
   {
    "duration": 0,
    "start_time": "2023-05-14T14:08:02.146Z"
   },
   {
    "duration": 0,
    "start_time": "2023-05-14T14:08:02.148Z"
   },
   {
    "duration": 0,
    "start_time": "2023-05-14T14:08:02.149Z"
   },
   {
    "duration": 0,
    "start_time": "2023-05-14T14:08:02.150Z"
   },
   {
    "duration": 0,
    "start_time": "2023-05-14T14:08:02.152Z"
   },
   {
    "duration": 0,
    "start_time": "2023-05-14T14:08:02.153Z"
   },
   {
    "duration": 177,
    "start_time": "2023-05-14T14:09:02.396Z"
   },
   {
    "duration": 4,
    "start_time": "2023-05-14T14:09:13.779Z"
   },
   {
    "duration": 46,
    "start_time": "2023-05-14T14:09:13.785Z"
   },
   {
    "duration": 21,
    "start_time": "2023-05-14T14:09:13.832Z"
   },
   {
    "duration": 15,
    "start_time": "2023-05-14T14:09:13.855Z"
   },
   {
    "duration": 3,
    "start_time": "2023-05-14T14:09:13.872Z"
   },
   {
    "duration": 2963,
    "start_time": "2023-05-14T14:09:13.877Z"
   },
   {
    "duration": 24259,
    "start_time": "2023-05-14T14:09:16.842Z"
   },
   {
    "duration": 4,
    "start_time": "2023-05-14T14:09:41.103Z"
   },
   {
    "duration": 54421,
    "start_time": "2023-05-14T14:09:41.108Z"
   },
   {
    "duration": 1435,
    "start_time": "2023-05-14T14:10:35.532Z"
   },
   {
    "duration": 1695,
    "start_time": "2023-05-14T14:10:36.968Z"
   },
   {
    "duration": 71,
    "start_time": "2023-05-14T14:10:38.664Z"
   },
   {
    "duration": 98,
    "start_time": "2023-05-14T14:10:38.737Z"
   },
   {
    "duration": 88,
    "start_time": "2023-05-14T14:10:38.837Z"
   },
   {
    "duration": 9,
    "start_time": "2023-05-14T14:10:38.929Z"
   },
   {
    "duration": 24,
    "start_time": "2023-05-14T14:10:38.941Z"
   },
   {
    "duration": 0,
    "start_time": "2023-05-14T14:10:38.967Z"
   },
   {
    "duration": 9,
    "start_time": "2023-05-14T14:11:45.277Z"
   },
   {
    "duration": 4,
    "start_time": "2023-05-14T14:15:08.407Z"
   }
  ],
  "kernelspec": {
   "display_name": "Python 3",
   "language": "python",
   "name": "python3"
  },
  "language_info": {
   "codemirror_mode": {
    "name": "ipython",
    "version": 3
   },
   "file_extension": ".py",
   "mimetype": "text/x-python",
   "name": "python",
   "nbconvert_exporter": "python",
   "pygments_lexer": "ipython3",
   "version": "3.7.2"
  },
  "toc": {
   "base_numbering": 1,
   "nav_menu": {},
   "number_sections": true,
   "sideBar": true,
   "skip_h1_title": true,
   "title_cell": "Содержание",
   "title_sidebar": "Contents",
   "toc_cell": true,
   "toc_position": {
    "height": "calc(100% - 180px)",
    "left": "10px",
    "top": "150px",
    "width": "492.594px"
   },
   "toc_section_display": true,
   "toc_window_display": true
  }
 },
 "nbformat": 4,
 "nbformat_minor": 2
}
