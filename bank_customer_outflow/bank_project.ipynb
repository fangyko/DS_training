{
 "cells": [
  {
   "cell_type": "markdown",
   "id": "bcfeea83",
   "metadata": {},
   "source": [
    "# Бета-Банк\n",
    "\n",
    "Нужно спрогнозировать, уйдёт клиент из банка в ближайшее время или нет. Предоставлены исторические данные о поведении клиентов и расторжении договоров с банком. \n",
    "\n",
    "Работа включает:\n",
    "1. Загрузку и подготовку данных;\n",
    "2. Исследование баланса классов, обучение модели без учёта дисбаланса;\n",
    "3. Улучшение качества модели, учитывая дисбаланс классов. Обучение разных моделей и поиск лучшей;\n",
    "4. Финальное тестирование."
   ]
  },
  {
   "cell_type": "markdown",
   "id": "4b5aa801",
   "metadata": {},
   "source": [
    "## Загрузка и подготовка данных"
   ]
  },
  {
   "cell_type": "code",
   "execution_count": 203,
   "id": "2194a270",
   "metadata": {},
   "outputs": [],
   "source": [
    "import matplotlib.pyplot as plt\n",
    "import pandas as pd\n",
    "import warnings\n",
    "from sklearn.model_selection import train_test_split\n",
    "from sklearn.tree import DecisionTreeClassifier\n",
    "from sklearn.ensemble import RandomForestClassifier\n",
    "from sklearn.linear_model import LogisticRegression\n",
    "from sklearn.dummy import DummyClassifier\n",
    "from sklearn.preprocessing import (\n",
    "    OneHotEncoder, \n",
    "    OrdinalEncoder, \n",
    "    StandardScaler\n",
    ")\n",
    "from sklearn.metrics import (\n",
    "    f1_score, \n",
    "    roc_curve, \n",
    "    roc_auc_score,\n",
    "    recall_score\n",
    ")\n",
    "from sklearn.utils import shuffle, resample\n",
    "import numpy as np\n",
    "warnings.filterwarnings('ignore')\n",
    "pd.options.mode.chained_assignment = None"
   ]
  },
  {
   "cell_type": "code",
   "execution_count": 80,
   "id": "4226072b",
   "metadata": {},
   "outputs": [],
   "source": [
    "try:\n",
    "    df = pd.read_csv('/datasets/Churn.csv')\n",
    "except:\n",
    "    df = pd.read_csv('Churn.csv')"
   ]
  },
  {
   "cell_type": "code",
   "execution_count": 81,
   "id": "a6d1dc63",
   "metadata": {},
   "outputs": [
    {
     "data": {
      "text/html": [
       "<div>\n",
       "<style scoped>\n",
       "    .dataframe tbody tr th:only-of-type {\n",
       "        vertical-align: middle;\n",
       "    }\n",
       "\n",
       "    .dataframe tbody tr th {\n",
       "        vertical-align: top;\n",
       "    }\n",
       "\n",
       "    .dataframe thead th {\n",
       "        text-align: right;\n",
       "    }\n",
       "</style>\n",
       "<table border=\"1\" class=\"dataframe\">\n",
       "  <thead>\n",
       "    <tr style=\"text-align: right;\">\n",
       "      <th></th>\n",
       "      <th>RowNumber</th>\n",
       "      <th>CustomerId</th>\n",
       "      <th>Surname</th>\n",
       "      <th>CreditScore</th>\n",
       "      <th>Geography</th>\n",
       "      <th>Gender</th>\n",
       "      <th>Age</th>\n",
       "      <th>Tenure</th>\n",
       "      <th>Balance</th>\n",
       "      <th>NumOfProducts</th>\n",
       "      <th>HasCrCard</th>\n",
       "      <th>IsActiveMember</th>\n",
       "      <th>EstimatedSalary</th>\n",
       "      <th>Exited</th>\n",
       "    </tr>\n",
       "  </thead>\n",
       "  <tbody>\n",
       "    <tr>\n",
       "      <th>0</th>\n",
       "      <td>1</td>\n",
       "      <td>15634602</td>\n",
       "      <td>Hargrave</td>\n",
       "      <td>619</td>\n",
       "      <td>France</td>\n",
       "      <td>Female</td>\n",
       "      <td>42</td>\n",
       "      <td>2.0</td>\n",
       "      <td>0.00</td>\n",
       "      <td>1</td>\n",
       "      <td>1</td>\n",
       "      <td>1</td>\n",
       "      <td>101348.88</td>\n",
       "      <td>1</td>\n",
       "    </tr>\n",
       "    <tr>\n",
       "      <th>1</th>\n",
       "      <td>2</td>\n",
       "      <td>15647311</td>\n",
       "      <td>Hill</td>\n",
       "      <td>608</td>\n",
       "      <td>Spain</td>\n",
       "      <td>Female</td>\n",
       "      <td>41</td>\n",
       "      <td>1.0</td>\n",
       "      <td>83807.86</td>\n",
       "      <td>1</td>\n",
       "      <td>0</td>\n",
       "      <td>1</td>\n",
       "      <td>112542.58</td>\n",
       "      <td>0</td>\n",
       "    </tr>\n",
       "    <tr>\n",
       "      <th>2</th>\n",
       "      <td>3</td>\n",
       "      <td>15619304</td>\n",
       "      <td>Onio</td>\n",
       "      <td>502</td>\n",
       "      <td>France</td>\n",
       "      <td>Female</td>\n",
       "      <td>42</td>\n",
       "      <td>8.0</td>\n",
       "      <td>159660.80</td>\n",
       "      <td>3</td>\n",
       "      <td>1</td>\n",
       "      <td>0</td>\n",
       "      <td>113931.57</td>\n",
       "      <td>1</td>\n",
       "    </tr>\n",
       "    <tr>\n",
       "      <th>3</th>\n",
       "      <td>4</td>\n",
       "      <td>15701354</td>\n",
       "      <td>Boni</td>\n",
       "      <td>699</td>\n",
       "      <td>France</td>\n",
       "      <td>Female</td>\n",
       "      <td>39</td>\n",
       "      <td>1.0</td>\n",
       "      <td>0.00</td>\n",
       "      <td>2</td>\n",
       "      <td>0</td>\n",
       "      <td>0</td>\n",
       "      <td>93826.63</td>\n",
       "      <td>0</td>\n",
       "    </tr>\n",
       "    <tr>\n",
       "      <th>4</th>\n",
       "      <td>5</td>\n",
       "      <td>15737888</td>\n",
       "      <td>Mitchell</td>\n",
       "      <td>850</td>\n",
       "      <td>Spain</td>\n",
       "      <td>Female</td>\n",
       "      <td>43</td>\n",
       "      <td>2.0</td>\n",
       "      <td>125510.82</td>\n",
       "      <td>1</td>\n",
       "      <td>1</td>\n",
       "      <td>1</td>\n",
       "      <td>79084.10</td>\n",
       "      <td>0</td>\n",
       "    </tr>\n",
       "  </tbody>\n",
       "</table>\n",
       "</div>"
      ],
      "text/plain": [
       "   RowNumber  CustomerId   Surname  CreditScore Geography  Gender  Age  \\\n",
       "0          1    15634602  Hargrave          619    France  Female   42   \n",
       "1          2    15647311      Hill          608     Spain  Female   41   \n",
       "2          3    15619304      Onio          502    France  Female   42   \n",
       "3          4    15701354      Boni          699    France  Female   39   \n",
       "4          5    15737888  Mitchell          850     Spain  Female   43   \n",
       "\n",
       "   Tenure    Balance  NumOfProducts  HasCrCard  IsActiveMember  \\\n",
       "0     2.0       0.00              1          1               1   \n",
       "1     1.0   83807.86              1          0               1   \n",
       "2     8.0  159660.80              3          1               0   \n",
       "3     1.0       0.00              2          0               0   \n",
       "4     2.0  125510.82              1          1               1   \n",
       "\n",
       "   EstimatedSalary  Exited  \n",
       "0        101348.88       1  \n",
       "1        112542.58       0  \n",
       "2        113931.57       1  \n",
       "3         93826.63       0  \n",
       "4         79084.10       0  "
      ]
     },
     "execution_count": 81,
     "metadata": {},
     "output_type": "execute_result"
    }
   ],
   "source": [
    "df.head()"
   ]
  },
  {
   "cell_type": "code",
   "execution_count": 82,
   "id": "8e146a2a",
   "metadata": {},
   "outputs": [
    {
     "name": "stdout",
     "output_type": "stream",
     "text": [
      "<class 'pandas.core.frame.DataFrame'>\n",
      "RangeIndex: 10000 entries, 0 to 9999\n",
      "Data columns (total 14 columns):\n",
      " #   Column           Non-Null Count  Dtype  \n",
      "---  ------           --------------  -----  \n",
      " 0   RowNumber        10000 non-null  int64  \n",
      " 1   CustomerId       10000 non-null  int64  \n",
      " 2   Surname          10000 non-null  object \n",
      " 3   CreditScore      10000 non-null  int64  \n",
      " 4   Geography        10000 non-null  object \n",
      " 5   Gender           10000 non-null  object \n",
      " 6   Age              10000 non-null  int64  \n",
      " 7   Tenure           9091 non-null   float64\n",
      " 8   Balance          10000 non-null  float64\n",
      " 9   NumOfProducts    10000 non-null  int64  \n",
      " 10  HasCrCard        10000 non-null  int64  \n",
      " 11  IsActiveMember   10000 non-null  int64  \n",
      " 12  EstimatedSalary  10000 non-null  float64\n",
      " 13  Exited           10000 non-null  int64  \n",
      "dtypes: float64(3), int64(8), object(3)\n",
      "memory usage: 1.1+ MB\n"
     ]
    }
   ],
   "source": [
    "df.info()"
   ]
  },
  {
   "cell_type": "code",
   "execution_count": 83,
   "id": "5691e11e",
   "metadata": {},
   "outputs": [],
   "source": [
    "df['Tenure'] = df['Tenure'].fillna(df['Tenure'].median())"
   ]
  },
  {
   "cell_type": "markdown",
   "id": "40ad44c2",
   "metadata": {},
   "source": [
    "Подготовим данные.\n",
    "\n",
    "\n",
    "1. Признаки _CustomerId_ (уникальный идентификатор клиента), _Surname_ (фамилия) и _RowNumber_ ( индекс строки в данных) — не несут в себе полезности для поиска зависимостей, удалим эти признаки\n",
    "\n",
    "\n",
    "2. Преобруем следующие категориальные признаки в численные:\n",
    "\n",
    "    - Geography — страна проживания,\n",
    "    - Gender — пол.\n",
    "\n",
    "\n",
    "3. Масштабируем признаки:\n",
    "\n",
    "    - CreditScore — кредитный рейтинг,\n",
    "    - Balance — баланс на счёте,\n",
    "    - EstimatedSalary — предполагаемая зарплата.\n",
    " "
   ]
  },
  {
   "cell_type": "code",
   "execution_count": 84,
   "id": "828248e7",
   "metadata": {},
   "outputs": [],
   "source": [
    "df = df.drop(['CustomerId','Surname','RowNumber'], axis=1)"
   ]
  },
  {
   "cell_type": "code",
   "execution_count": 85,
   "id": "fb90caec",
   "metadata": {},
   "outputs": [],
   "source": [
    "target = df['Exited']\n",
    "features = df.drop('Exited', axis=1)\n",
    "features_train, features_valid, target_train, target_valid = train_test_split(\n",
    "    features, target, test_size=0.4, random_state=12345)\n",
    "features_valid, features_test, target_valid, target_test = train_test_split(\n",
    "    features_valid, target_valid, test_size=0.5, random_state=12345)"
   ]
  },
  {
   "cell_type": "code",
   "execution_count": 86,
   "id": "42338b99",
   "metadata": {},
   "outputs": [],
   "source": [
    "ohe_features = features_train.select_dtypes(include='object').columns.to_list()\n",
    "\n",
    "encoder_ohe = OneHotEncoder(drop='first', handle_unknown='ignore', sparse=False)\n",
    "encoder_ohe.fit(features_train[ohe_features])\n",
    "features_train[\n",
    "    encoder_ohe.get_feature_names_out()\n",
    "] = encoder_ohe.transform(features_train[ohe_features])\n",
    "features_valid[\n",
    "    encoder_ohe.get_feature_names_out()\n",
    "] = encoder_ohe.transform(features_valid[ohe_features])\n",
    "features_test[\n",
    "    encoder_ohe.get_feature_names_out()\n",
    "] = encoder_ohe.transform(features_test[ohe_features])\n",
    "\n",
    "features_train = features_train.drop(ohe_features, axis=1)\n",
    "features_valid = features_valid.drop(ohe_features, axis=1)\n",
    "features_test = features_test.drop(ohe_features, axis=1)"
   ]
  },
  {
   "cell_type": "code",
   "execution_count": 87,
   "id": "6eb7f1f6",
   "metadata": {},
   "outputs": [
    {
     "data": {
      "text/html": [
       "<div>\n",
       "<style scoped>\n",
       "    .dataframe tbody tr th:only-of-type {\n",
       "        vertical-align: middle;\n",
       "    }\n",
       "\n",
       "    .dataframe tbody tr th {\n",
       "        vertical-align: top;\n",
       "    }\n",
       "\n",
       "    .dataframe thead th {\n",
       "        text-align: right;\n",
       "    }\n",
       "</style>\n",
       "<table border=\"1\" class=\"dataframe\">\n",
       "  <thead>\n",
       "    <tr style=\"text-align: right;\">\n",
       "      <th></th>\n",
       "      <th>CreditScore</th>\n",
       "      <th>Age</th>\n",
       "      <th>Tenure</th>\n",
       "      <th>Balance</th>\n",
       "      <th>NumOfProducts</th>\n",
       "      <th>HasCrCard</th>\n",
       "      <th>IsActiveMember</th>\n",
       "      <th>EstimatedSalary</th>\n",
       "      <th>Geography_Germany</th>\n",
       "      <th>Geography_Spain</th>\n",
       "      <th>Gender_Male</th>\n",
       "    </tr>\n",
       "  </thead>\n",
       "  <tbody>\n",
       "    <tr>\n",
       "      <th>8532</th>\n",
       "      <td>-0.699824</td>\n",
       "      <td>-0.373192</td>\n",
       "      <td>-1.101690</td>\n",
       "      <td>-1.233163</td>\n",
       "      <td>0.830152</td>\n",
       "      <td>1</td>\n",
       "      <td>0</td>\n",
       "      <td>-0.015173</td>\n",
       "      <td>0.0</td>\n",
       "      <td>0.0</td>\n",
       "      <td>0.0</td>\n",
       "    </tr>\n",
       "    <tr>\n",
       "      <th>5799</th>\n",
       "      <td>-0.284431</td>\n",
       "      <td>0.575842</td>\n",
       "      <td>-0.737696</td>\n",
       "      <td>-1.233163</td>\n",
       "      <td>-0.891560</td>\n",
       "      <td>1</td>\n",
       "      <td>1</td>\n",
       "      <td>1.471724</td>\n",
       "      <td>0.0</td>\n",
       "      <td>0.0</td>\n",
       "      <td>0.0</td>\n",
       "    </tr>\n",
       "    <tr>\n",
       "      <th>5511</th>\n",
       "      <td>0.151731</td>\n",
       "      <td>-0.657902</td>\n",
       "      <td>-1.829679</td>\n",
       "      <td>0.438711</td>\n",
       "      <td>-0.891560</td>\n",
       "      <td>1</td>\n",
       "      <td>0</td>\n",
       "      <td>-1.367107</td>\n",
       "      <td>1.0</td>\n",
       "      <td>0.0</td>\n",
       "      <td>1.0</td>\n",
       "    </tr>\n",
       "    <tr>\n",
       "      <th>7365</th>\n",
       "      <td>-0.876366</td>\n",
       "      <td>-0.278288</td>\n",
       "      <td>1.810266</td>\n",
       "      <td>1.239884</td>\n",
       "      <td>-0.891560</td>\n",
       "      <td>1</td>\n",
       "      <td>1</td>\n",
       "      <td>-0.786517</td>\n",
       "      <td>0.0</td>\n",
       "      <td>1.0</td>\n",
       "      <td>0.0</td>\n",
       "    </tr>\n",
       "    <tr>\n",
       "      <th>7367</th>\n",
       "      <td>-0.481743</td>\n",
       "      <td>0.291132</td>\n",
       "      <td>1.810266</td>\n",
       "      <td>-1.233163</td>\n",
       "      <td>0.830152</td>\n",
       "      <td>1</td>\n",
       "      <td>0</td>\n",
       "      <td>1.358533</td>\n",
       "      <td>0.0</td>\n",
       "      <td>1.0</td>\n",
       "      <td>1.0</td>\n",
       "    </tr>\n",
       "    <tr>\n",
       "      <th>...</th>\n",
       "      <td>...</td>\n",
       "      <td>...</td>\n",
       "      <td>...</td>\n",
       "      <td>...</td>\n",
       "      <td>...</td>\n",
       "      <td>...</td>\n",
       "      <td>...</td>\n",
       "      <td>...</td>\n",
       "      <td>...</td>\n",
       "      <td>...</td>\n",
       "      <td>...</td>\n",
       "    </tr>\n",
       "    <tr>\n",
       "      <th>6480</th>\n",
       "      <td>0.276349</td>\n",
       "      <td>-1.417129</td>\n",
       "      <td>0.354288</td>\n",
       "      <td>0.617449</td>\n",
       "      <td>0.830152</td>\n",
       "      <td>0</td>\n",
       "      <td>1</td>\n",
       "      <td>0.628182</td>\n",
       "      <td>0.0</td>\n",
       "      <td>0.0</td>\n",
       "      <td>0.0</td>\n",
       "    </tr>\n",
       "    <tr>\n",
       "      <th>8194</th>\n",
       "      <td>-0.211738</td>\n",
       "      <td>0.291132</td>\n",
       "      <td>-0.373701</td>\n",
       "      <td>0.797229</td>\n",
       "      <td>-0.891560</td>\n",
       "      <td>1</td>\n",
       "      <td>0</td>\n",
       "      <td>0.026002</td>\n",
       "      <td>0.0</td>\n",
       "      <td>0.0</td>\n",
       "      <td>1.0</td>\n",
       "    </tr>\n",
       "    <tr>\n",
       "      <th>1279</th>\n",
       "      <td>-1.364452</td>\n",
       "      <td>0.006422</td>\n",
       "      <td>0.354288</td>\n",
       "      <td>-1.233163</td>\n",
       "      <td>0.830152</td>\n",
       "      <td>0</td>\n",
       "      <td>1</td>\n",
       "      <td>-1.249087</td>\n",
       "      <td>0.0</td>\n",
       "      <td>0.0</td>\n",
       "      <td>0.0</td>\n",
       "    </tr>\n",
       "    <tr>\n",
       "      <th>6532</th>\n",
       "      <td>1.075979</td>\n",
       "      <td>2.663716</td>\n",
       "      <td>-0.373701</td>\n",
       "      <td>-1.233163</td>\n",
       "      <td>2.551864</td>\n",
       "      <td>1</td>\n",
       "      <td>1</td>\n",
       "      <td>-0.111107</td>\n",
       "      <td>0.0</td>\n",
       "      <td>0.0</td>\n",
       "      <td>1.0</td>\n",
       "    </tr>\n",
       "    <tr>\n",
       "      <th>6895</th>\n",
       "      <td>-0.440204</td>\n",
       "      <td>0.955455</td>\n",
       "      <td>0.354288</td>\n",
       "      <td>0.600280</td>\n",
       "      <td>-0.891560</td>\n",
       "      <td>1</td>\n",
       "      <td>0</td>\n",
       "      <td>1.668116</td>\n",
       "      <td>1.0</td>\n",
       "      <td>0.0</td>\n",
       "      <td>1.0</td>\n",
       "    </tr>\n",
       "  </tbody>\n",
       "</table>\n",
       "<p>2000 rows × 11 columns</p>\n",
       "</div>"
      ],
      "text/plain": [
       "      CreditScore       Age    Tenure   Balance  NumOfProducts  HasCrCard  \\\n",
       "8532    -0.699824 -0.373192 -1.101690 -1.233163       0.830152          1   \n",
       "5799    -0.284431  0.575842 -0.737696 -1.233163      -0.891560          1   \n",
       "5511     0.151731 -0.657902 -1.829679  0.438711      -0.891560          1   \n",
       "7365    -0.876366 -0.278288  1.810266  1.239884      -0.891560          1   \n",
       "7367    -0.481743  0.291132  1.810266 -1.233163       0.830152          1   \n",
       "...           ...       ...       ...       ...            ...        ...   \n",
       "6480     0.276349 -1.417129  0.354288  0.617449       0.830152          0   \n",
       "8194    -0.211738  0.291132 -0.373701  0.797229      -0.891560          1   \n",
       "1279    -1.364452  0.006422  0.354288 -1.233163       0.830152          0   \n",
       "6532     1.075979  2.663716 -0.373701 -1.233163       2.551864          1   \n",
       "6895    -0.440204  0.955455  0.354288  0.600280      -0.891560          1   \n",
       "\n",
       "      IsActiveMember  EstimatedSalary  Geography_Germany  Geography_Spain  \\\n",
       "8532               0        -0.015173                0.0              0.0   \n",
       "5799               1         1.471724                0.0              0.0   \n",
       "5511               0        -1.367107                1.0              0.0   \n",
       "7365               1        -0.786517                0.0              1.0   \n",
       "7367               0         1.358533                0.0              1.0   \n",
       "...              ...              ...                ...              ...   \n",
       "6480               1         0.628182                0.0              0.0   \n",
       "8194               0         0.026002                0.0              0.0   \n",
       "1279               1        -1.249087                0.0              0.0   \n",
       "6532               1        -0.111107                0.0              0.0   \n",
       "6895               0         1.668116                1.0              0.0   \n",
       "\n",
       "      Gender_Male  \n",
       "8532          0.0  \n",
       "5799          0.0  \n",
       "5511          1.0  \n",
       "7365          0.0  \n",
       "7367          1.0  \n",
       "...           ...  \n",
       "6480          0.0  \n",
       "8194          1.0  \n",
       "1279          0.0  \n",
       "6532          1.0  \n",
       "6895          1.0  \n",
       "\n",
       "[2000 rows x 11 columns]"
      ]
     },
     "execution_count": 87,
     "metadata": {},
     "output_type": "execute_result"
    }
   ],
   "source": [
    "numeric = ['CreditScore', 'Balance', 'EstimatedSalary', 'Age', 'Tenure', 'NumOfProducts']\n",
    "\n",
    "scaler = StandardScaler()\n",
    "scaler.fit(features_train[numeric]) \n",
    "\n",
    "features_train[numeric] = scaler.transform(features_train[numeric])\n",
    "features_valid[numeric] = scaler.transform(features_valid[numeric])\n",
    "features_test[numeric] = scaler.transform(features_test[numeric])\n",
    "features_valid"
   ]
  },
  {
   "cell_type": "markdown",
   "id": "bb96a229",
   "metadata": {},
   "source": [
    "## Исследование баланса классов, обучение модели без учёта дисбаланса"
   ]
  },
  {
   "cell_type": "code",
   "execution_count": 88,
   "id": "98edf5e9",
   "metadata": {},
   "outputs": [
    {
     "data": {
      "image/png": "[encoded data removed]",
      "text/plain": [
       "<Figure size 432x288 with 1 Axes>"
      ]
     },
     "metadata": {},
     "output_type": "display_data"
    }
   ],
   "source": [
    "df.groupby(by='Exited')['Exited'].count().plot(kind='pie').set_title('Баланс выборки');"
   ]
  },
  {
   "cell_type": "markdown",
   "id": "9fe607ee",
   "metadata": {},
   "source": [
    "Классы несбалансированны, отношение объектов класса 0 к 1 более чем 75:25. Обучим модель без учета дисбаланса."
   ]
  },
  {
   "cell_type": "markdown",
   "id": "da4958d4",
   "metadata": {},
   "source": [
    "### Логистическая регрессия"
   ]
  },
  {
   "cell_type": "code",
   "execution_count": 89,
   "id": "f66f8b95",
   "metadata": {},
   "outputs": [
    {
     "name": "stdout",
     "output_type": "stream",
     "text": [
      "0.33108108108108103\n"
     ]
    }
   ],
   "source": [
    "model_log_disb = LogisticRegression(random_state=12345, solver='liblinear')\n",
    "model_log_disb.fit(features_train, target_train)\n",
    "predictions_valid = model_log_disb.predict(features_valid)\n",
    "print(f1_score(target_valid, predictions_valid))"
   ]
  },
  {
   "cell_type": "code",
   "execution_count": 90,
   "id": "9a79f1f0",
   "metadata": {},
   "outputs": [],
   "source": [
    "def roc_auc_plot_and_print(target_valid, probabilities_one_valid):\n",
    "    fpr, tpr, thresholds = roc_curve(target_valid, probabilities_one_valid)\n",
    "    plt.figure()\n",
    "    plt.plot(fpr, tpr)\n",
    "    plt.plot([0, 1], [0, 1], linestyle='--')\n",
    "    plt.xlim(0, 1) \n",
    "    plt.ylim(0, 1)\n",
    "    plt.xlabel(\"False Positive Rate\")\n",
    "    plt.ylabel(\"True Positive Rate\")\n",
    "    plt.title(\"ROC-кривая\")\n",
    "    plt.show()\n",
    "    print('AUC_ROC =', roc_auc_score(target_valid, probabilities_one_valid))"
   ]
  },
  {
   "cell_type": "code",
   "execution_count": 91,
   "id": "cd56f0a0",
   "metadata": {
    "scrolled": true
   },
   "outputs": [
    {
     "data": {
      "image/png": "[encoded data removed]",
      "text/plain": [
       "<Figure size 432x288 with 1 Axes>"
      ]
     },
     "metadata": {
      "needs_background": "light"
     },
     "output_type": "display_data"
    },
    {
     "name": "stdout",
     "output_type": "stream",
     "text": [
      "AUC_ROC = 0.7587512627102753\n"
     ]
    }
   ],
   "source": [
    "probabilities_valid = model_log_disb.predict_proba(features_valid)\n",
    "probabilities_one_valid = probabilities_valid[:, 1]\n",
    "roc_auc_plot_and_print(target_valid, probabilities_one_valid) "
   ]
  },
  {
   "cell_type": "markdown",
   "id": "6b3834f0",
   "metadata": {},
   "source": [
    "### Случайный лес"
   ]
  },
  {
   "cell_type": "code",
   "execution_count": 149,
   "id": "3ff602d1",
   "metadata": {},
   "outputs": [
    {
     "name": "stdout",
     "output_type": "stream",
     "text": [
      "Точность наилучшей модели на валидационной выборке: 0.589 Количество деревьев: 10 Максимальная глубина: 10\n"
     ]
    }
   ],
   "source": [
    "best_model_frst_disb = None\n",
    "best_f1 = 0\n",
    "best_est_frst = 0\n",
    "best_depth_frst = 0\n",
    "for est in range(10, 100, 10):\n",
    "    for depth in range (1, 12):\n",
    "        model_frst_disb = RandomForestClassifier(random_state=12345, n_estimators=est, max_depth=depth)\n",
    "        model_frst_disb.fit(features_train, target_train)\n",
    "        predictions_valid = model_frst_disb.predict(features_valid)\n",
    "        f1 = f1_score(target_valid, predictions_valid)\n",
    "        if f1 > best_f1:\n",
    "            best_model_frst_disb = model_frst_disb \n",
    "            best_f1 = f1\n",
    "            best_est_frst = est\n",
    "            best_depth_frst = depth\n",
    "\n",
    "print(\"Точность наилучшей модели на валидационной выборке:\", round(best_f1, 3), \\\n",
    "      \"Количество деревьев:\", best_est_frst, \"Максимальная глубина:\", best_depth_frst)"
   ]
  },
  {
   "cell_type": "code",
   "execution_count": 151,
   "id": "f3c4116c",
   "metadata": {},
   "outputs": [
    {
     "data": {
      "image/png": "[encoded data removed]",
      "text/plain": [
       "<Figure size 432x288 with 1 Axes>"
      ]
     },
     "metadata": {
      "needs_background": "light"
     },
     "output_type": "display_data"
    },
    {
     "name": "stdout",
     "output_type": "stream",
     "text": [
      "AUC_ROC = 0.8456038023457679\n"
     ]
    }
   ],
   "source": [
    "probabilities_valid = best_model_frst_disb.predict_proba(features_valid)\n",
    "probabilities_one_valid = probabilities_valid[:, 1]\n",
    "roc_auc_plot_and_print(target_valid, probabilities_one_valid) "
   ]
  },
  {
   "cell_type": "markdown",
   "id": "5b252653",
   "metadata": {},
   "source": [
    "### Дерево решений"
   ]
  },
  {
   "cell_type": "code",
   "execution_count": 132,
   "id": "7c4b1c2c",
   "metadata": {},
   "outputs": [
    {
     "name": "stdout",
     "output_type": "stream",
     "text": [
      "F1 наилучшей модели на валидационной выборке: 0.57 Глубина дерева: 6\n"
     ]
    }
   ],
   "source": [
    "best_model_tree_disb = None\n",
    "best_result_tree_disb = 0\n",
    "best_f1 = 0\n",
    "for depth in range(1, 8):\n",
    "    model_tree_disb = DecisionTreeClassifier(random_state=12345, max_depth=depth)\n",
    "    model_tree_disb.fit(features_train, target_train)\n",
    "    predictions_valid = model_tree_disb.predict(features_valid)\n",
    "    f1 = f1_score(target_valid, predictions_valid)\n",
    "    if f1 > best_f1:\n",
    "        best_f1 = f1\n",
    "        best_model_tree_disb = model_tree_disb\n",
    "        best_depth_tree_disb = depth\n",
    "\n",
    "print(\"F1 наилучшей модели на валидационной выборке:\", round(best_f1, 3), \"Глубина дерева:\", best_depth_tree_disb)"
   ]
  },
  {
   "cell_type": "code",
   "execution_count": 95,
   "id": "643ea6e7",
   "metadata": {},
   "outputs": [
    {
     "data": {
      "image/png": "[encoded data removed]",
      "text/plain": [
       "<Figure size 432x288 with 1 Axes>"
      ]
     },
     "metadata": {
      "needs_background": "light"
     },
     "output_type": "display_data"
    },
    {
     "name": "stdout",
     "output_type": "stream",
     "text": [
      "AUC_ROC = 0.6837644190927842\n"
     ]
    }
   ],
   "source": [
    "probabilities_valid = best_model_tree_disb.predict_proba(features_valid)\n",
    "probabilities_one_valid = probabilities_valid[:, 1]\n",
    "roc_auc_plot_and_print(target_valid, probabilities_one_valid) "
   ]
  },
  {
   "cell_type": "markdown",
   "id": "ff8003c8",
   "metadata": {},
   "source": [
    "### Вывод"
   ]
  },
  {
   "cell_type": "markdown",
   "id": "447ade84",
   "metadata": {},
   "source": [
    "Модели по сравнению со случайной показывает себя лучше, но качество - плохое, что видно по метрикам F1 и AUC-ROC. Лучшие показатели имеет модель случайного леса F1 = 0.58 и AUC-ROC = 0.84 при количестве деревьев равном 10 и глубине деревьев равной 10."
   ]
  },
  {
   "cell_type": "markdown",
   "id": "2137658f",
   "metadata": {},
   "source": [
    "## Улучшение качества модели, учитывая дисбаланс классов. Обучение разных моделей и поиск лучшей"
   ]
  },
  {
   "cell_type": "markdown",
   "id": "4044b2c3",
   "metadata": {},
   "source": [
    "### Взвешивание классов"
   ]
  },
  {
   "cell_type": "markdown",
   "id": "dcc9f072",
   "metadata": {},
   "source": [
    "Если указать class_weight='balanced', алгоритм посчитает, во сколько раз класс «0» встречается чаще класса «1»"
   ]
  },
  {
   "cell_type": "markdown",
   "id": "82b40d03",
   "metadata": {},
   "source": [
    "#### Логистическая регрессия"
   ]
  },
  {
   "cell_type": "code",
   "execution_count": 96,
   "id": "da23b9bb",
   "metadata": {},
   "outputs": [
    {
     "name": "stdout",
     "output_type": "stream",
     "text": [
      "0.4888507718696398\n"
     ]
    }
   ],
   "source": [
    "model_log_balance = LogisticRegression(random_state=12345, solver='liblinear', class_weight='balanced')\n",
    "model_log_balance.fit(features_train, target_train)\n",
    "predictions_valid = model_log_balance.predict(features_valid)\n",
    "print(f1_score(target_valid, predictions_valid))"
   ]
  },
  {
   "cell_type": "code",
   "execution_count": 161,
   "id": "5576e474",
   "metadata": {},
   "outputs": [
    {
     "name": "stdout",
     "output_type": "stream",
     "text": [
      "0.5 0.55\n"
     ]
    }
   ],
   "source": [
    "probabilities_valid = model_log_balance.predict_proba(features_valid)\n",
    "probabilities_one_valid = probabilities_valid[:, 1]\n",
    "\n",
    "b_threshold = 0\n",
    "b_f1 = 0\n",
    "for threshold in np.arange(0, 0.8, 0.01):\n",
    "    predicted_valid = probabilities_one_valid > threshold\n",
    "    f1 = f1_score(target_valid, predicted_valid)\n",
    "    if f1 > b_f1:\n",
    "        b_f1 = f1\n",
    "        b_threshold = threshold\n",
    "print(b_f1, b_threshold)"
   ]
  },
  {
   "cell_type": "code",
   "execution_count": 162,
   "id": "dbf2734b",
   "metadata": {},
   "outputs": [
    {
     "data": {
      "image/png": "[encoded data removed]",
      "text/plain": [
       "<Figure size 432x288 with 1 Axes>"
      ]
     },
     "metadata": {
      "needs_background": "light"
     },
     "output_type": "display_data"
    },
    {
     "name": "stdout",
     "output_type": "stream",
     "text": [
      "AUC_ROC = 0.7637310291013133\n"
     ]
    }
   ],
   "source": [
    "roc_auc_plot_and_print(target_valid, probabilities_one_valid) "
   ]
  },
  {
   "cell_type": "markdown",
   "id": "2116d49c",
   "metadata": {},
   "source": [
    "#### Случайный лес"
   ]
  },
  {
   "cell_type": "code",
   "execution_count": 157,
   "id": "fbd33659",
   "metadata": {},
   "outputs": [
    {
     "name": "stdout",
     "output_type": "stream",
     "text": [
      "Точность наилучшей модели на валидационной выборке: 0.629 Количество деревьев: 110 Максимальная глубина: 9\n"
     ]
    }
   ],
   "source": [
    "best_model_frst_balance = None\n",
    "best_f1 = 0\n",
    "best_est_frst = 0\n",
    "best_depth_frst = 0\n",
    "for est in range(10, 150, 10):\n",
    "    for depth in range (1, 12):\n",
    "        model_frst_balance = RandomForestClassifier(random_state=12345, n_estimators=est, \n",
    "                                                    max_depth=depth, class_weight='balanced')\n",
    "        model_frst_balance.fit(features_train, target_train)\n",
    "        predictions_valid = model_frst_balance.predict(features_valid)\n",
    "        f1 = f1_score(target_valid, predictions_valid)\n",
    "        if f1 > best_f1:\n",
    "            best_model_frst_balance = model_frst_balance \n",
    "            best_f1 = f1\n",
    "            best_est_frst = est\n",
    "            best_depth_frst = depth\n",
    "\n",
    "print(\"Точность наилучшей модели на валидационной выборке:\", round(best_f1, 3), \\\n",
    "      \"Количество деревьев:\", best_est_frst, \"Максимальная глубина:\", best_depth_frst)"
   ]
  },
  {
   "cell_type": "code",
   "execution_count": 158,
   "id": "792bfdb5",
   "metadata": {},
   "outputs": [
    {
     "data": {
      "image/png": "[encoded data removed]",
      "text/plain": [
       "<Figure size 432x288 with 1 Axes>"
      ]
     },
     "metadata": {
      "needs_background": "light"
     },
     "output_type": "display_data"
    },
    {
     "name": "stdout",
     "output_type": "stream",
     "text": [
      "AUC_ROC = 0.8544813360835717\n"
     ]
    }
   ],
   "source": [
    "probabilities_valid = best_model_frst_balance.predict_proba(features_valid)\n",
    "probabilities_one_valid = probabilities_valid[:, 1]\n",
    "roc_auc_plot_and_print(target_valid, probabilities_one_valid) "
   ]
  },
  {
   "cell_type": "markdown",
   "id": "63b3d7d9",
   "metadata": {},
   "source": [
    "#### Дерево решений"
   ]
  },
  {
   "cell_type": "code",
   "execution_count": 131,
   "id": "48c0846d",
   "metadata": {},
   "outputs": [
    {
     "name": "stdout",
     "output_type": "stream",
     "text": [
      "F1 наилучшей модели на валидационной выборке: 0.596 Глубина дерева: 5\n"
     ]
    }
   ],
   "source": [
    "best_model_tree_balance = None\n",
    "best_depth_tree_balance = 0\n",
    "best_f1 = 0\n",
    "for depth in range(1, 8):\n",
    "    model_tree_balance = DecisionTreeClassifier(random_state=12345, max_depth=depth, class_weight='balanced')\n",
    "    model_tree_balance.fit(features_train, target_train)\n",
    "    predictions_valid = model_tree_balance.predict(features_valid)\n",
    "    f1 = f1_score(target_valid, predictions_valid)\n",
    "    if f1 > best_f1:\n",
    "        best_f1 = f1\n",
    "        best_model_tree_balance = model_tree_balance\n",
    "        best_depth_tree_balance = depth\n",
    "\n",
    "print(\"F1 наилучшей модели на валидационной выборке:\", round(best_f1, 3), \"Глубина дерева:\", best_depth_tree_balance)"
   ]
  },
  {
   "cell_type": "code",
   "execution_count": 133,
   "id": "6c907876",
   "metadata": {},
   "outputs": [
    {
     "data": {
      "image/png": "[encoded data removed]",
      "text/plain": [
       "<Figure size 432x288 with 1 Axes>"
      ]
     },
     "metadata": {
      "needs_background": "light"
     },
     "output_type": "display_data"
    },
    {
     "name": "stdout",
     "output_type": "stream",
     "text": [
      "AUC_ROC = 0.8310244134068074\n"
     ]
    }
   ],
   "source": [
    "probabilities_valid = best_model_tree_balance.predict_proba(features_valid)\n",
    "probabilities_one_valid = probabilities_valid[:, 1]\n",
    "roc_auc_plot_and_print(target_valid, probabilities_one_valid) "
   ]
  },
  {
   "cell_type": "markdown",
   "id": "a75b6c7f",
   "metadata": {},
   "source": [
    "#### Вывод"
   ]
  },
  {
   "cell_type": "markdown",
   "id": "fe53ee84",
   "metadata": {},
   "source": [
    "Взвешивание классов положительно повлияло на качество всех моделей, лучший результат у модели случайного леса: F1 = 0.629 и AUC-ROC = 0.85 при количестве деревьев равное 110 и их максимальной глубине равной 9."
   ]
  },
  {
   "cell_type": "markdown",
   "id": "aa2f1ca5",
   "metadata": {},
   "source": [
    "### Upsampling"
   ]
  },
  {
   "cell_type": "markdown",
   "id": "7b130884",
   "metadata": {},
   "source": [
    "Увеличим количество объектом \"меньшего\" класса."
   ]
  },
  {
   "cell_type": "code",
   "execution_count": 102,
   "id": "bed9156e",
   "metadata": {},
   "outputs": [],
   "source": [
    "def upsample(features, target, repeat):\n",
    "    features_zeros = features[target == 0]\n",
    "    features_ones = features[target == 1]\n",
    "    target_zeros = target[target == 0]\n",
    "    target_ones = target[target == 1]\n",
    "\n",
    "    features_upsampled = pd.concat([features_zeros] + [features_ones] * repeat)\n",
    "    target_upsampled = pd.concat([target_zeros] + [target_ones] * repeat)\n",
    "    \n",
    "    features_upsampled, target_upsampled = shuffle(\n",
    "        features_upsampled, target_upsampled, random_state=12345)\n",
    "    \n",
    "    return features_upsampled, target_upsampled"
   ]
  },
  {
   "cell_type": "markdown",
   "id": "3a6b1999",
   "metadata": {},
   "source": [
    "#### Логистическая регрессия"
   ]
  },
  {
   "cell_type": "code",
   "execution_count": 192,
   "id": "10373f19",
   "metadata": {},
   "outputs": [
    {
     "name": "stdout",
     "output_type": "stream",
     "text": [
      "F1: 0.5\n"
     ]
    }
   ],
   "source": [
    "features_upsampled, target_upsampled = upsample(features_train, target_train, 3)\n",
    "\n",
    "model_log_up = LogisticRegression(random_state=12345, solver='liblinear')\n",
    "model_log_up.fit(features_upsampled, target_upsampled)\n",
    "predictions_valid = model_log_up.predict(features_valid)\n",
    "print(\"F1:\", f1_score(target_valid, predictions_valid))"
   ]
  },
  {
   "cell_type": "code",
   "execution_count": 193,
   "id": "f21231c8",
   "metadata": {},
   "outputs": [
    {
     "name": "stdout",
     "output_type": "stream",
     "text": [
      "0.5018867924528302 0.47000000000000003\n"
     ]
    }
   ],
   "source": [
    "probabilities_valid = model_log_up.predict_proba(features_valid)\n",
    "probabilities_one_valid = probabilities_valid[:, 1]\n",
    "\n",
    "b_threshold = 0\n",
    "b_f1 = 0\n",
    "for threshold in np.arange(0, 0.8, 0.01):\n",
    "    predicted_valid = probabilities_one_valid > threshold\n",
    "    f1 = f1_score(target_valid, predicted_valid)\n",
    "    if f1 > b_f1:\n",
    "        b_f1 = f1\n",
    "        b_threshold = threshold\n",
    "print(b_f1, b_threshold)"
   ]
  },
  {
   "cell_type": "code",
   "execution_count": 194,
   "id": "7940f21d",
   "metadata": {},
   "outputs": [
    {
     "data": {
      "image/png": "[encoded data removed]",
      "text/plain": [
       "<Figure size 432x288 with 1 Axes>"
      ]
     },
     "metadata": {
      "needs_background": "light"
     },
     "output_type": "display_data"
    },
    {
     "name": "stdout",
     "output_type": "stream",
     "text": [
      "AUC_ROC = 0.7626815429563449\n"
     ]
    }
   ],
   "source": [
    "probabilities_valid = model_log_up.predict_proba(features_valid)\n",
    "probabilities_one_valid = probabilities_valid[:, 1]\n",
    "roc_auc_plot_and_print(target_valid, probabilities_one_valid) "
   ]
  },
  {
   "cell_type": "markdown",
   "id": "81258868",
   "metadata": {},
   "source": [
    "Модель логистической регрессии дала результаты, ниже требуемых 0.59. Лучший результат достигается при смещении порога на 0,05. AUC_ROC увеличилась, оценим другие модели."
   ]
  },
  {
   "cell_type": "markdown",
   "id": "ad2dfb45",
   "metadata": {},
   "source": [
    "#### Случайный лес"
   ]
  },
  {
   "cell_type": "code",
   "execution_count": 195,
   "id": "de624c7b",
   "metadata": {},
   "outputs": [
    {
     "name": "stdout",
     "output_type": "stream",
     "text": [
      "Точность наилучшей модели на валидационной выборке: 0.638 Количество деревьев: 70 Максимальная глубина: 8\n"
     ]
    }
   ],
   "source": [
    "best_model_frst_up = None\n",
    "best_f1 = 0\n",
    "best_est_frst = 0\n",
    "best_depth_frst = 0\n",
    "for est in range(10, 100, 10):\n",
    "    for depth in range (1, 12):\n",
    "        model_frst_up = RandomForestClassifier(random_state=12345, n_estimators=est, max_depth=depth)\n",
    "        model_frst_up.fit(features_upsampled, target_upsampled)\n",
    "        predictions_valid = model_frst_up.predict(features_valid)\n",
    "        f1 = f1_score(target_valid, predictions_valid)\n",
    "        if f1 > best_f1:\n",
    "            best_model_frst_up = model_frst_up \n",
    "            best_f1 = f1\n",
    "            best_est_frst = est\n",
    "            best_depth_frst = depth\n",
    "\n",
    "print(\"Точность наилучшей модели на валидационной выборке:\", round(best_f1, 3), \\\n",
    "      \"Количество деревьев:\", best_est_frst, \"Максимальная глубина:\", best_depth_frst)"
   ]
  },
  {
   "cell_type": "code",
   "execution_count": 196,
   "id": "5cec20aa",
   "metadata": {},
   "outputs": [
    {
     "data": {
      "image/png": "[encoded data removed]",
      "text/plain": [
       "<Figure size 432x288 with 1 Axes>"
      ]
     },
     "metadata": {
      "needs_background": "light"
     },
     "output_type": "display_data"
    },
    {
     "name": "stdout",
     "output_type": "stream",
     "text": [
      "AUC_ROC = 0.8548548563685964\n"
     ]
    }
   ],
   "source": [
    "probabilities_valid = best_model_frst_up.predict_proba(features_valid)\n",
    "probabilities_one_valid = probabilities_valid[:, 1]\n",
    "roc_auc_plot_and_print(target_valid, probabilities_one_valid) "
   ]
  },
  {
   "cell_type": "markdown",
   "id": "1173b00e",
   "metadata": {},
   "source": [
    "#### Дерево решений"
   ]
  },
  {
   "cell_type": "code",
   "execution_count": 197,
   "id": "36a82909",
   "metadata": {},
   "outputs": [
    {
     "name": "stdout",
     "output_type": "stream",
     "text": [
      "F1 наилучшей модели на валидационной выборке: 0.586 Глубина дерева: 5\n"
     ]
    },
    {
     "data": {
      "image/png": "[encoded data removed]",
      "text/plain": [
       "<Figure size 432x288 with 1 Axes>"
      ]
     },
     "metadata": {
      "needs_background": "light"
     },
     "output_type": "display_data"
    },
    {
     "name": "stdout",
     "output_type": "stream",
     "text": [
      "AUC_ROC = 0.8055554715428959\n"
     ]
    }
   ],
   "source": [
    "best_model_tree_up = None\n",
    "best_result_tree_up = 0\n",
    "best_f1 = 0\n",
    "for depth in range(1, 8):\n",
    "    model_tree_up = DecisionTreeClassifier(random_state=12345, max_depth=depth)\n",
    "    model_tree_up.fit(features_upsampled, target_upsampled)\n",
    "    predictions_valid = model_tree_up.predict(features_valid)\n",
    "    f1 = f1_score(target_valid, predictions_valid)\n",
    "    if f1 > best_f1:\n",
    "        best_f1 = f1\n",
    "        best_model_tree_up = model_tree_up\n",
    "        best_depth_tree_up = depth\n",
    "\n",
    "print(\"F1 наилучшей модели на валидационной выборке:\", round(best_f1, 3), \"Глубина дерева:\", best_depth_tree_up)\n",
    "\n",
    "probabilities_valid = model_tree_up.predict_proba(features_valid)\n",
    "probabilities_one_valid = probabilities_valid[:, 1]\n",
    "roc_auc_plot_and_print(target_valid, probabilities_one_valid)"
   ]
  },
  {
   "cell_type": "markdown",
   "id": "a7389e80",
   "metadata": {},
   "source": [
    "#### Вывод"
   ]
  },
  {
   "cell_type": "markdown",
   "id": "055b4163",
   "metadata": {},
   "source": [
    "Увеличение доли меньшего класса положительно повлияло на все модели, результат близок к результатам взвешивания классов, но с выбором размера увеличения были достигнуты лучшие результаты. Лучшей по качеству моделью так же является модель случайного леса со значением F1 = 0.638, при количестве деревьев 70 и их максимальной глубине 8."
   ]
  },
  {
   "cell_type": "markdown",
   "id": "2b387f2f",
   "metadata": {},
   "source": [
    "### Downsampling"
   ]
  },
  {
   "cell_type": "markdown",
   "id": "6bcaa44a",
   "metadata": {},
   "source": [
    "#### Логистическая регрессия"
   ]
  },
  {
   "cell_type": "code",
   "execution_count": 164,
   "id": "355df059",
   "metadata": {},
   "outputs": [],
   "source": [
    "def downsample(features, target, fraction):\n",
    "    features_zeros = features[target == 0]\n",
    "    features_ones = features[target == 1]\n",
    "    target_zeros = target[target == 0]\n",
    "    target_ones = target[target == 1]\n",
    "\n",
    "    features_downsampled = pd.concat(\n",
    "        [features_zeros.sample(frac=fraction, random_state=12345)] + [features_ones])\n",
    "    target_downsampled = pd.concat(\n",
    "        [target_zeros.sample(frac=fraction, random_state=12345)] + [target_ones])\n",
    "    \n",
    "    features_downsampled, target_downsampled = shuffle(\n",
    "        features_downsampled, target_downsampled, random_state=12345)\n",
    "    \n",
    "    return features_downsampled, target_downsampled"
   ]
  },
  {
   "cell_type": "code",
   "execution_count": 178,
   "id": "8e081c07",
   "metadata": {},
   "outputs": [],
   "source": [
    "features_downsampled, target_downsampled = downsample(features_train, target_train, 0.4)"
   ]
  },
  {
   "cell_type": "code",
   "execution_count": 184,
   "id": "9f630149",
   "metadata": {},
   "outputs": [
    {
     "name": "stdout",
     "output_type": "stream",
     "text": [
      "F1: 0.504875406283857\n"
     ]
    }
   ],
   "source": [
    "model_log_down = LogisticRegression(random_state=12345, solver='liblinear')\n",
    "model_log_down.fit(features_downsampled, target_downsampled)\n",
    "predictions_valid = model_log_down.predict(features_valid)\n",
    "print(\"F1:\", f1_score(target_valid, predictions_valid))"
   ]
  },
  {
   "cell_type": "code",
   "execution_count": 180,
   "id": "cd91f7d8",
   "metadata": {},
   "outputs": [
    {
     "name": "stdout",
     "output_type": "stream",
     "text": [
      "0.504875406283857 0.5\n"
     ]
    }
   ],
   "source": [
    "probabilities_valid = model_log_down.predict_proba(features_valid)\n",
    "probabilities_one_valid = probabilities_valid[:, 1]\n",
    "\n",
    "b_threshold = 0\n",
    "b_f1 = 0\n",
    "for threshold in np.arange(0, 0.8, 0.01):\n",
    "    predicted_valid = probabilities_one_valid > threshold\n",
    "    f1 = f1_score(target_valid, predicted_valid)\n",
    "    if f1 > b_f1:\n",
    "        b_f1 = f1\n",
    "        b_threshold = threshold\n",
    "print(b_f1, b_threshold)"
   ]
  },
  {
   "cell_type": "code",
   "execution_count": 181,
   "id": "780fcf04",
   "metadata": {},
   "outputs": [
    {
     "data": {
      "image/png": "[encoded data removed]",
      "text/plain": [
       "<Figure size 432x288 with 1 Axes>"
      ]
     },
     "metadata": {
      "needs_background": "light"
     },
     "output_type": "display_data"
    },
    {
     "name": "stdout",
     "output_type": "stream",
     "text": [
      "AUC_ROC = 0.7625666136378758\n"
     ]
    }
   ],
   "source": [
    "probabilities_valid = model_log_down.predict_proba(features_valid)\n",
    "probabilities_one_valid = probabilities_valid[:, 1]\n",
    "roc_auc_plot_and_print(target_valid, probabilities_one_valid) "
   ]
  },
  {
   "cell_type": "markdown",
   "id": "2905ae65",
   "metadata": {},
   "source": [
    "#### Случайный лес"
   ]
  },
  {
   "cell_type": "code",
   "execution_count": 183,
   "id": "5575cff1",
   "metadata": {},
   "outputs": [
    {
     "name": "stdout",
     "output_type": "stream",
     "text": [
      "Точность наилучшей модели на валидационной выборке: 0.635 Количество деревьев: 60 Максимальная глубина: 8\n"
     ]
    }
   ],
   "source": [
    "best_model_frst_down = None\n",
    "best_f1 = 0\n",
    "best_est_frst = 0\n",
    "best_depth_frst = 0\n",
    "for est in range(10, 100, 10):\n",
    "    for depth in range (1, 10):\n",
    "        model_frst_down = RandomForestClassifier(random_state=12345, n_estimators=est, max_depth=depth)\n",
    "        model_frst_down.fit(features_downsampled, target_downsampled)\n",
    "        predictions_valid = model_frst_down.predict(features_valid)\n",
    "        f1 = f1_score(target_valid, predictions_valid)\n",
    "        if f1 > best_f1:\n",
    "            best_model_frst_down = model_frst_down \n",
    "            best_f1 = f1\n",
    "            best_est_frst = est\n",
    "            best_depth_frst = depth\n",
    "\n",
    "print(\"Точность наилучшей модели на валидационной выборке:\", round(best_f1, 3), \\\n",
    "      \"Количество деревьев:\", best_est_frst, \"Максимальная глубина:\", best_depth_frst)"
   ]
  },
  {
   "cell_type": "code",
   "execution_count": 173,
   "id": "04fbd175",
   "metadata": {},
   "outputs": [
    {
     "data": {
      "image/png": "[encoded data removed]",
      "text/plain": [
       "<Figure size 432x288 with 1 Axes>"
      ]
     },
     "metadata": {
      "needs_background": "light"
     },
     "output_type": "display_data"
    },
    {
     "name": "stdout",
     "output_type": "stream",
     "text": [
      "AUC_ROC = 0.8380547607957948\n"
     ]
    }
   ],
   "source": [
    "probabilities_valid = best_model_frst_down.predict_proba(features_valid)\n",
    "probabilities_one_valid = probabilities_valid[:, 1]\n",
    "roc_auc_plot_and_print(target_valid, probabilities_one_valid) "
   ]
  },
  {
   "cell_type": "markdown",
   "id": "e2c8da60",
   "metadata": {},
   "source": [
    "#### Дерево решений"
   ]
  },
  {
   "cell_type": "code",
   "execution_count": 182,
   "id": "5ec4099b",
   "metadata": {},
   "outputs": [
    {
     "name": "stdout",
     "output_type": "stream",
     "text": [
      "F1 наилучшей модели на валидационной выборке: 0.571 Глубина дерева: 7\n"
     ]
    },
    {
     "data": {
      "image/png": "[encoded data removed]",
      "text/plain": [
       "<Figure size 432x288 with 1 Axes>"
      ]
     },
     "metadata": {
      "needs_background": "light"
     },
     "output_type": "display_data"
    },
    {
     "name": "stdout",
     "output_type": "stream",
     "text": [
      "AUC_ROC = 0.796398175648292\n"
     ]
    }
   ],
   "source": [
    "best_model_tree_down = None\n",
    "best_result_tree_down = 0\n",
    "best_f1 = 0\n",
    "for depth in range(1, 8):\n",
    "    model_tree_down = DecisionTreeClassifier(random_state=12345, max_depth=depth)\n",
    "    model_tree_down.fit(features_downsampled, target_downsampled)\n",
    "    predictions_valid = model_tree_down.predict(features_valid)\n",
    "    f1 = f1_score(target_valid, predictions_valid)\n",
    "    if f1 > best_f1:\n",
    "        best_f1 = f1\n",
    "        best_model_tree_down = model_tree_down\n",
    "        best_depth_tree_down = depth\n",
    "\n",
    "print(\"F1 наилучшей модели на валидационной выборке:\", round(best_f1, 3), \"Глубина дерева:\", best_depth_tree_down)\n",
    "\n",
    "probabilities_valid = best_model_tree_down.predict_proba(features_valid)\n",
    "probabilities_one_valid = probabilities_valid[:, 1]\n",
    "roc_auc_plot_and_print(target_valid, probabilities_one_valid) "
   ]
  },
  {
   "cell_type": "markdown",
   "id": "9e495f33",
   "metadata": {},
   "source": [
    "#### Вывод"
   ]
  },
  {
   "cell_type": "markdown",
   "id": "62c85c8c",
   "metadata": {},
   "source": [
    "Уменьшение выборки превосходящего класса дало положительные результаты на всех моделях. У лучшей (случайный лес) F1 - 0.635, при количестве деревьев 60, максималььной глубине 8."
   ]
  },
  {
   "cell_type": "markdown",
   "id": "6f248cb0",
   "metadata": {},
   "source": [
    "## Финальное тестирование"
   ]
  },
  {
   "cell_type": "markdown",
   "id": "fb48e3b9",
   "metadata": {},
   "source": [
    "Проведем тестирование лучшей модели (случайный лес на расширенной тренировочной выборке) на заранее подготовленной тестовой выборке."
   ]
  },
  {
   "cell_type": "code",
   "execution_count": 198,
   "id": "989c9302",
   "metadata": {},
   "outputs": [
    {
     "name": "stdout",
     "output_type": "stream",
     "text": [
      "0.6\n"
     ]
    }
   ],
   "source": [
    "predictions_test = best_model_frst_up.predict(features_test)\n",
    "print(f1_score(target_test, predictions_test))"
   ]
  },
  {
   "cell_type": "code",
   "execution_count": 199,
   "id": "1f5f94b5",
   "metadata": {},
   "outputs": [
    {
     "data": {
      "image/png": "[encoded data removed]",
      "text/plain": [
       "<Figure size 432x288 with 1 Axes>"
      ]
     },
     "metadata": {
      "needs_background": "light"
     },
     "output_type": "display_data"
    },
    {
     "name": "stdout",
     "output_type": "stream",
     "text": [
      "AUC_ROC = 0.8583793928982073\n"
     ]
    }
   ],
   "source": [
    "probabilities_test = best_model_frst_up.predict_proba(features_test)\n",
    "probabilities_one_test = probabilities_test[:, 1]\n",
    "roc_auc_plot_and_print(target_test, probabilities_one_test) "
   ]
  },
  {
   "cell_type": "markdown",
   "id": "863720c5",
   "metadata": {},
   "source": [
    "## Вывод \n",
    "\n",
    "В работе были выполнены следующие этапы:\n",
    "\n",
    "1. Загрузка и подготовка данных - определены и преобразованы категориальные признаки, масштабированны численные;\n",
    "2. Исследованы балансы классов, обучена модель без учёта дисбаланса и оценено ее качество - F1 = 0.33;\n",
    "3. Улучшено качество модели, с учетом дисбаланса классов. Обучены разные модели и найдена лучшая \n",
    "    - произведен __upsampling__ обучающей выборки;\n",
    "    - оценены модели логистической регресси, с учетом смещения порога, и дерева решений; \n",
    "    - найдена лучшая модель случайного леса, дающая F1 = 0.638 на валидационной выборке;\n",
    "    - было оценено изменение AUC-ROC метрики.\n",
    "4. Финальное тестирование найденной модели - F1 на тестовых данных составило 0.6."
   ]
  },
  {
   "cell_type": "code",
   "execution_count": 202,
   "id": "244c7800",
   "metadata": {},
   "outputs": [
    {
     "data": {
      "text/plain": [
       "0.3491539413949649"
      ]
     },
     "execution_count": 202,
     "metadata": {},
     "output_type": "execute_result"
    }
   ],
   "source": [
    "dummy_model = DummyClassifier(strategy='constant', constant=1)\n",
    "dummy_model.fit(features_train, target_train)\n",
    "f1_score(dummy_model.predict(features_test), target_test)"
   ]
  },
  {
   "cell_type": "markdown",
   "id": "193617ab",
   "metadata": {},
   "source": [
    "Дисбалансная модель логистической регрессии дает меньший результат."
   ]
  },
  {
   "cell_type": "code",
   "execution_count": 204,
   "id": "c657ac1d",
   "metadata": {},
   "outputs": [
    {
     "data": {
      "text/plain": [
       "0.83"
      ]
     },
     "execution_count": 204,
     "metadata": {},
     "output_type": "execute_result"
    }
   ],
   "source": [
    "recall_score(target_test, predictions_test, average='weighted')"
   ]
  },
  {
   "cell_type": "markdown",
   "id": "49a6f517",
   "metadata": {},
   "source": [
    "Модель верно детектирует 83% клиентов по тестовой выборке."
   ]
  }
 ],
 "metadata": {
  "kernelspec": {
   "display_name": "Python 3",
   "language": "python",
   "name": "python3"
  },
  "language_info": {
   "codemirror_mode": {
    "name": "ipython",
    "version": 3
   },
   "file_extension": ".py",
   "mimetype": "text/x-python",
   "name": "python",
   "nbconvert_exporter": "python",
   "pygments_lexer": "ipython3",
   "version": "3.7.2"
  },
  "toc": {
   "base_numbering": 1,
   "nav_menu": {},
   "number_sections": true,
   "sideBar": true,
   "skip_h1_title": false,
   "title_cell": "",
   "title_sidebar": "",
   "toc_cell": false,
   "toc_position": {
    "height": "541.6px",
    "left": "28px",
    "top": "150px",
    "width": "303.825px"
   },
   "toc_section_display": true,
   "toc_window_display": true
  }
 },
 "nbformat": 4,
 "nbformat_minor": 5
}
