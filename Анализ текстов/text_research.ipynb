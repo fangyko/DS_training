{
 "cells": [
  {
   "cell_type": "markdown",
   "metadata": {
    "toc": true
   },
   "source": [
    "<h1>Содержание<span class=\"tocSkip\"></span></h1>\n",
    "<div class=\"toc\"><ul class=\"toc-item\"><li><span><a href=\"#Подготовка\" data-toc-modified-id=\"Подготовка-1\"><span class=\"toc-item-num\">1&nbsp;&nbsp;</span>Подготовка</a></span></li><li><span><a href=\"#Обучение\" data-toc-modified-id=\"Обучение-2\"><span class=\"toc-item-num\">2&nbsp;&nbsp;</span>Обучение</a></span><ul class=\"toc-item\"><li><span><a href=\"#Логистическая-регрессия\" data-toc-modified-id=\"Логистическая-регрессия-2.1\"><span class=\"toc-item-num\">2.1&nbsp;&nbsp;</span>Логистическая регрессия</a></span></li><li><span><a href=\"#CatBoost\" data-toc-modified-id=\"CatBoost-2.2\"><span class=\"toc-item-num\">2.2&nbsp;&nbsp;</span>CatBoost</a></span></li><li><span><a href=\"#Случайный-лес-с-Pipeline\" data-toc-modified-id=\"Случайный-лес-с-Pipeline-2.3\"><span class=\"toc-item-num\">2.3&nbsp;&nbsp;</span>Случайный лес с Pipeline</a></span></li><li><span><a href=\"#Оценка-модели-на-тестовой-выборке\" data-toc-modified-id=\"Оценка-модели-на-тестовой-выборке-2.4\"><span class=\"toc-item-num\">2.4&nbsp;&nbsp;</span>Оценка модели на тестовой выборке</a></span></li></ul></li><li><span><a href=\"#Выводы\" data-toc-modified-id=\"Выводы-3\"><span class=\"toc-item-num\">3&nbsp;&nbsp;</span>Выводы</a></span></li><li><span><a href=\"#Чек-лист-проверки\" data-toc-modified-id=\"Чек-лист-проверки-4\"><span class=\"toc-item-num\">4&nbsp;&nbsp;</span>Чек-лист проверки</a></span></li></ul></div>"
   ]
  },
  {
   "cell_type": "markdown",
   "metadata": {},
   "source": [
    "# Проект для «Викишоп»"
   ]
  },
  {
   "cell_type": "markdown",
   "metadata": {},
   "source": [
    "Интернет-магазин «Викишоп» запускает новый сервис. Теперь пользователи могут редактировать и дополнять описания товаров, как в вики-сообществах. То есть клиенты предлагают свои правки и комментируют изменения других. Магазину нужен инструмент, который будет искать токсичные комментарии и отправлять их на модерацию. \n",
    "\n",
    "Обучите модель классифицировать комментарии на позитивные и негативные. В вашем распоряжении набор данных с разметкой о токсичности правок.\n",
    "\n",
    "Постройте модель со значением метрики качества *F1* не меньше 0.75. \n",
    "\n",
    "**Инструкция по выполнению проекта**\n",
    "\n",
    "1. Загрузите и подготовьте данные.\n",
    "2. Обучите разные модели. \n",
    "3. Сделайте выводы.\n",
    "\n",
    "Для выполнения проекта применять *BERT* необязательно, но вы можете попробовать.\n",
    "\n",
    "**Описание данных**\n",
    "\n",
    "Данные находятся в файле `toxic_comments.csv`. Столбец *text* в нём содержит текст комментария, а *toxic* — целевой признак."
   ]
  },
  {
   "cell_type": "markdown",
   "metadata": {},
   "source": [
    "## Подготовка"
   ]
  },
  {
   "cell_type": "code",
   "execution_count": 1,
   "metadata": {},
   "outputs": [
    {
     "name": "stdout",
     "output_type": "stream",
     "text": [
      "Requirement already satisfied: imblearn in /opt/conda/lib/python3.9/site-packages (0.0)\n",
      "Requirement already satisfied: imbalanced-learn in /opt/conda/lib/python3.9/site-packages (from imblearn) (0.10.1)\n",
      "Requirement already satisfied: scikit-learn>=1.0.2 in /opt/conda/lib/python3.9/site-packages (from imbalanced-learn->imblearn) (1.2.2)\n",
      "Requirement already satisfied: threadpoolctl>=2.0.0 in /opt/conda/lib/python3.9/site-packages (from imbalanced-learn->imblearn) (3.1.0)\n",
      "Requirement already satisfied: joblib>=1.1.1 in /opt/conda/lib/python3.9/site-packages (from imbalanced-learn->imblearn) (1.2.0)\n",
      "Requirement already satisfied: scipy>=1.3.2 in /opt/conda/lib/python3.9/site-packages (from imbalanced-learn->imblearn) (1.9.1)\n",
      "Requirement already satisfied: numpy>=1.17.3 in /opt/conda/lib/python3.9/site-packages (from imbalanced-learn->imblearn) (1.21.1)\n",
      "Note: you may need to restart the kernel to use updated packages.\n"
     ]
    }
   ],
   "source": [
    "pip install imblearn"
   ]
  },
  {
   "cell_type": "code",
   "execution_count": 2,
   "metadata": {},
   "outputs": [],
   "source": [
    "import pandas as pd\n",
    "from tqdm import tqdm\n",
    "from random import sample\n",
    "from tqdm import notebook\n",
    "from sklearn.linear_model import LogisticRegression\n",
    "from catboost import CatBoostClassifier\n",
    "from sklearn.ensemble import RandomForestClassifier\n",
    "from sklearn.model_selection import (\n",
    "    train_test_split, \n",
    "    RandomizedSearchCV,\n",
    "    cross_val_score,\n",
    "    KFold\n",
    ")\n",
    "import re\n",
    "from sklearn.utils import shuffle\n",
    "import nltk\n",
    "from nltk.corpus import wordnet\n",
    "from nltk.stem import WordNetLemmatizer \n",
    "from nltk.corpus import stopwords as nltk_stopwords\n",
    "from sklearn.feature_extraction.text import TfidfVectorizer\n",
    "from sklearn.metrics import f1_score\n",
    "from scipy.stats import randint as sp_randInt\n",
    "from imblearn.pipeline import Pipeline, make_pipeline\n",
    "from imblearn.under_sampling import RandomUnderSampler"
   ]
  },
  {
   "cell_type": "code",
   "execution_count": 3,
   "metadata": {},
   "outputs": [
    {
     "name": "stderr",
     "output_type": "stream",
     "text": [
      "[nltk_data] Downloading package wordnet to /home/jovyan/nltk_data...\n",
      "[nltk_data]   Package wordnet is already up-to-date!\n",
      "[nltk_data] Downloading package punkt to /home/jovyan/nltk_data...\n",
      "[nltk_data]   Package punkt is already up-to-date!\n",
      "[nltk_data] Downloading package averaged_perceptron_tagger to\n",
      "[nltk_data]     /home/jovyan/nltk_data...\n",
      "[nltk_data]   Unzipping taggers/averaged_perceptron_tagger.zip.\n"
     ]
    },
    {
     "data": {
      "text/plain": [
       "True"
      ]
     },
     "execution_count": 3,
     "metadata": {},
     "output_type": "execute_result"
    }
   ],
   "source": [
    "nltk.download('wordnet')\n",
    "nltk.download('punkt')\n",
    "nltk.download('averaged_perceptron_tagger')"
   ]
  },
  {
   "cell_type": "code",
   "execution_count": 4,
   "metadata": {},
   "outputs": [],
   "source": [
    "try:\n",
    "    df = pd.read_csv('/datasets/toxic_comments.csv')\n",
    "except:\n",
    "    df = pd.read_csv('toxic_comments.csv')"
   ]
  },
  {
   "cell_type": "code",
   "execution_count": 5,
   "metadata": {},
   "outputs": [
    {
     "data": {
      "text/html": [
       "<div>\n",
       "<style scoped>\n",
       "    .dataframe tbody tr th:only-of-type {\n",
       "        vertical-align: middle;\n",
       "    }\n",
       "\n",
       "    .dataframe tbody tr th {\n",
       "        vertical-align: top;\n",
       "    }\n",
       "\n",
       "    .dataframe thead th {\n",
       "        text-align: right;\n",
       "    }\n",
       "</style>\n",
       "<table border=\"1\" class=\"dataframe\">\n",
       "  <thead>\n",
       "    <tr style=\"text-align: right;\">\n",
       "      <th></th>\n",
       "      <th>Unnamed: 0</th>\n",
       "      <th>text</th>\n",
       "      <th>toxic</th>\n",
       "    </tr>\n",
       "  </thead>\n",
       "  <tbody>\n",
       "    <tr>\n",
       "      <th>0</th>\n",
       "      <td>0</td>\n",
       "      <td>Explanation\\nWhy the edits made under my usern...</td>\n",
       "      <td>0</td>\n",
       "    </tr>\n",
       "    <tr>\n",
       "      <th>1</th>\n",
       "      <td>1</td>\n",
       "      <td>D'aww! He matches this background colour I'm s...</td>\n",
       "      <td>0</td>\n",
       "    </tr>\n",
       "    <tr>\n",
       "      <th>2</th>\n",
       "      <td>2</td>\n",
       "      <td>Hey man, I'm really not trying to edit war. It...</td>\n",
       "      <td>0</td>\n",
       "    </tr>\n",
       "    <tr>\n",
       "      <th>3</th>\n",
       "      <td>3</td>\n",
       "      <td>\"\\nMore\\nI can't make any real suggestions on ...</td>\n",
       "      <td>0</td>\n",
       "    </tr>\n",
       "    <tr>\n",
       "      <th>4</th>\n",
       "      <td>4</td>\n",
       "      <td>You, sir, are my hero. Any chance you remember...</td>\n",
       "      <td>0</td>\n",
       "    </tr>\n",
       "  </tbody>\n",
       "</table>\n",
       "</div>"
      ],
      "text/plain": [
       "   Unnamed: 0                                               text  toxic\n",
       "0           0  Explanation\\nWhy the edits made under my usern...      0\n",
       "1           1  D'aww! He matches this background colour I'm s...      0\n",
       "2           2  Hey man, I'm really not trying to edit war. It...      0\n",
       "3           3  \"\\nMore\\nI can't make any real suggestions on ...      0\n",
       "4           4  You, sir, are my hero. Any chance you remember...      0"
      ]
     },
     "execution_count": 5,
     "metadata": {},
     "output_type": "execute_result"
    }
   ],
   "source": [
    "df.head()"
   ]
  },
  {
   "cell_type": "code",
   "execution_count": 6,
   "metadata": {
    "scrolled": true
   },
   "outputs": [
    {
     "name": "stdout",
     "output_type": "stream",
     "text": [
      "<class 'pandas.core.frame.DataFrame'>\n",
      "RangeIndex: 159292 entries, 0 to 159291\n",
      "Data columns (total 3 columns):\n",
      " #   Column      Non-Null Count   Dtype \n",
      "---  ------      --------------   ----- \n",
      " 0   Unnamed: 0  159292 non-null  int64 \n",
      " 1   text        159292 non-null  object\n",
      " 2   toxic       159292 non-null  int64 \n",
      "dtypes: int64(2), object(1)\n",
      "memory usage: 3.6+ MB\n"
     ]
    }
   ],
   "source": [
    "df.info()"
   ]
  },
  {
   "cell_type": "markdown",
   "metadata": {},
   "source": [
    "Оценим баланс классов:"
   ]
  },
  {
   "cell_type": "code",
   "execution_count": 7,
   "metadata": {},
   "outputs": [
    {
     "data": {
      "image/png": "[encoded data removed]",
      "text/plain": [
       "<Figure size 432x288 with 1 Axes>"
      ]
     },
     "metadata": {},
     "output_type": "display_data"
    }
   ],
   "source": [
    "df.groupby(by='toxic')['toxic'].count().plot(kind='pie').set_title('Баланс выборки');"
   ]
  },
  {
   "cell_type": "code",
   "execution_count": 8,
   "metadata": {},
   "outputs": [
    {
     "data": {
      "text/plain": [
       "16186"
      ]
     },
     "execution_count": 8,
     "metadata": {},
     "output_type": "execute_result"
    }
   ],
   "source": [
    "df['toxic'].sum()"
   ]
  },
  {
   "cell_type": "markdown",
   "metadata": {},
   "source": [
    "Удалим паразитный столбцец и произведем Downsampling нулевого класса."
   ]
  },
  {
   "cell_type": "code",
   "execution_count": 9,
   "metadata": {},
   "outputs": [],
   "source": [
    "df = df.drop('Unnamed: 0', axis=1)"
   ]
  },
  {
   "cell_type": "markdown",
   "metadata": {},
   "source": [
    "Создадим функции лемматизации и сопоставления POS-тега"
   ]
  },
  {
   "cell_type": "code",
   "execution_count": 10,
   "metadata": {},
   "outputs": [],
   "source": [
    "wnl = WordNetLemmatizer()\n",
    "\n",
    "def lemmatize(text):\n",
    "    word_list = nltk.word_tokenize(text)\n",
    "    lemmatized_output = ' '.join((re.sub(r'[^a-zA-Z ]', ' ', \n",
    "                                         str([wnl.lemmatize(w, get_wordnet_pos(w)) for w in word_list]))).split())\n",
    "        \n",
    "    return lemmatized_output"
   ]
  },
  {
   "cell_type": "code",
   "execution_count": 11,
   "metadata": {},
   "outputs": [],
   "source": [
    "def get_wordnet_pos(word):\n",
    "    tag = nltk.pos_tag([word])[0][1][0].upper()\n",
    "    tag_dict = {\"J\": wordnet.ADJ,\n",
    "                \"N\": wordnet.NOUN,\n",
    "                \"V\": wordnet.VERB,\n",
    "                \"R\": wordnet.ADV}\n",
    "    return tag_dict.get(tag, wordnet.NOUN)"
   ]
  },
  {
   "cell_type": "markdown",
   "metadata": {},
   "source": [
    "Лемматизируем созданный корпус слов "
   ]
  },
  {
   "cell_type": "code",
   "execution_count": 12,
   "metadata": {},
   "outputs": [],
   "source": [
    "df['text'] = df['text'].str.lower()"
   ]
  },
  {
   "cell_type": "code",
   "execution_count": 13,
   "metadata": {},
   "outputs": [
    {
     "name": "stderr",
     "output_type": "stream",
     "text": [
      "100%|██████████| 159292/159292 [25:38<00:00, 103.51it/s]\n"
     ]
    }
   ],
   "source": [
    "tqdm.pandas()\n",
    "df['lemm'] = df['text'].progress_apply(lemmatize)"
   ]
  },
  {
   "cell_type": "markdown",
   "metadata": {},
   "source": [
    "Разделим датафрейм на на тренировочную и тестовые выборки"
   ]
  },
  {
   "cell_type": "code",
   "execution_count": 15,
   "metadata": {},
   "outputs": [],
   "source": [
    "features = df.drop('toxic', axis=1)\n",
    "target = df['toxic']"
   ]
  },
  {
   "cell_type": "code",
   "execution_count": 16,
   "metadata": {},
   "outputs": [],
   "source": [
    "features_train, features_test, target_train, target_test = train_test_split(\n",
    "    features, target, test_size=0.10, random_state=12345)"
   ]
  },
  {
   "cell_type": "code",
   "execution_count": 17,
   "metadata": {},
   "outputs": [
    {
     "data": {
      "text/plain": [
       "(143362, 2)"
      ]
     },
     "metadata": {},
     "output_type": "display_data"
    },
    {
     "data": {
      "text/plain": [
       "(15930, 2)"
      ]
     },
     "metadata": {},
     "output_type": "display_data"
    },
    {
     "data": {
      "text/plain": [
       "(143362,)"
      ]
     },
     "metadata": {},
     "output_type": "display_data"
    },
    {
     "data": {
      "text/plain": [
       "(15930,)"
      ]
     },
     "metadata": {},
     "output_type": "display_data"
    }
   ],
   "source": [
    "display(features_train.shape)\n",
    "display(features_test.shape)\n",
    "display(target_train.shape)\n",
    "display(target_test.shape)"
   ]
  },
  {
   "cell_type": "markdown",
   "metadata": {},
   "source": [
    "Используем TF-IDF для обработки данных, а так же отфильтруем содержимое при помощи библиотеки nltk, загрузив библиотеку и стоп-слова из английского языка, применив модель TfidfVectorizer и обучив её на тренировочных данных"
   ]
  },
  {
   "cell_type": "code",
   "execution_count": 20,
   "metadata": {},
   "outputs": [
    {
     "name": "stderr",
     "output_type": "stream",
     "text": [
      "[nltk_data] Downloading package stopwords to /home/jovyan/nltk_data...\n",
      "[nltk_data]   Package stopwords is already up-to-date!\n"
     ]
    }
   ],
   "source": [
    "nltk.download('stopwords')\n",
    "stopwords = set(nltk_stopwords.words('english'))\n",
    "\n",
    "count_tf_idf = TfidfVectorizer(stop_words=list(stopwords))\n",
    "tf_idf = count_tf_idf.fit_transform(features_train['lemm'])"
   ]
  },
  {
   "cell_type": "markdown",
   "metadata": {},
   "source": [
    "__Вывод__\n",
    "\n",
    "Ознакомление с данными показало дисбаланс классов, наличие не имеющих полезности для моделей столбца, необходимость лемматизации данных, в связи с чем были произведены необходимые процедуры."
   ]
  },
  {
   "cell_type": "markdown",
   "metadata": {},
   "source": [
    "## Обучение"
   ]
  },
  {
   "cell_type": "markdown",
   "metadata": {},
   "source": [
    "Обучим модели Логистической регрессии, CatBoost и случайного леса, определив оптимальные гиперпараметры."
   ]
  },
  {
   "cell_type": "markdown",
   "metadata": {},
   "source": [
    "### Логистическая регрессия"
   ]
  },
  {
   "cell_type": "code",
   "execution_count": 21,
   "metadata": {},
   "outputs": [],
   "source": [
    "model_log = LogisticRegression(random_state=12345, solver='lbfgs', max_iter=10000, C=12)"
   ]
  },
  {
   "cell_type": "code",
   "execution_count": 22,
   "metadata": {},
   "outputs": [
    {
     "data": {
      "text/html": [
       "<style>#sk-container-id-1 {color: black;background-color: white;}#sk-container-id-1 pre{padding: 0;}#sk-container-id-1 div.sk-toggleable {background-color: white;}#sk-container-id-1 label.sk-toggleable__label {cursor: pointer;display: block;width: 100%;margin-bottom: 0;padding: 0.3em;box-sizing: border-box;text-align: center;}#sk-container-id-1 label.sk-toggleable__label-arrow:before {content: \"▸\";float: left;margin-right: 0.25em;color: #696969;}#sk-container-id-1 label.sk-toggleable__label-arrow:hover:before {color: black;}#sk-container-id-1 div.sk-estimator:hover label.sk-toggleable__label-arrow:before {color: black;}#sk-container-id-1 div.sk-toggleable__content {max-height: 0;max-width: 0;overflow: hidden;text-align: left;background-color: #f0f8ff;}#sk-container-id-1 div.sk-toggleable__content pre {margin: 0.2em;color: black;border-radius: 0.25em;background-color: #f0f8ff;}#sk-container-id-1 input.sk-toggleable__control:checked~div.sk-toggleable__content {max-height: 200px;max-width: 100%;overflow: auto;}#sk-container-id-1 input.sk-toggleable__control:checked~label.sk-toggleable__label-arrow:before {content: \"▾\";}#sk-container-id-1 div.sk-estimator input.sk-toggleable__control:checked~label.sk-toggleable__label {background-color: #d4ebff;}#sk-container-id-1 div.sk-label input.sk-toggleable__control:checked~label.sk-toggleable__label {background-color: #d4ebff;}#sk-container-id-1 input.sk-hidden--visually {border: 0;clip: rect(1px 1px 1px 1px);clip: rect(1px, 1px, 1px, 1px);height: 1px;margin: -1px;overflow: hidden;padding: 0;position: absolute;width: 1px;}#sk-container-id-1 div.sk-estimator {font-family: monospace;background-color: #f0f8ff;border: 1px dotted black;border-radius: 0.25em;box-sizing: border-box;margin-bottom: 0.5em;}#sk-container-id-1 div.sk-estimator:hover {background-color: #d4ebff;}#sk-container-id-1 div.sk-parallel-item::after {content: \"\";width: 100%;border-bottom: 1px solid gray;flex-grow: 1;}#sk-container-id-1 div.sk-label:hover label.sk-toggleable__label {background-color: #d4ebff;}#sk-container-id-1 div.sk-serial::before {content: \"\";position: absolute;border-left: 1px solid gray;box-sizing: border-box;top: 0;bottom: 0;left: 50%;z-index: 0;}#sk-container-id-1 div.sk-serial {display: flex;flex-direction: column;align-items: center;background-color: white;padding-right: 0.2em;padding-left: 0.2em;position: relative;}#sk-container-id-1 div.sk-item {position: relative;z-index: 1;}#sk-container-id-1 div.sk-parallel {display: flex;align-items: stretch;justify-content: center;background-color: white;position: relative;}#sk-container-id-1 div.sk-item::before, #sk-container-id-1 div.sk-parallel-item::before {content: \"\";position: absolute;border-left: 1px solid gray;box-sizing: border-box;top: 0;bottom: 0;left: 50%;z-index: -1;}#sk-container-id-1 div.sk-parallel-item {display: flex;flex-direction: column;z-index: 1;position: relative;background-color: white;}#sk-container-id-1 div.sk-parallel-item:first-child::after {align-self: flex-end;width: 50%;}#sk-container-id-1 div.sk-parallel-item:last-child::after {align-self: flex-start;width: 50%;}#sk-container-id-1 div.sk-parallel-item:only-child::after {width: 0;}#sk-container-id-1 div.sk-dashed-wrapped {border: 1px dashed gray;margin: 0 0.4em 0.5em 0.4em;box-sizing: border-box;padding-bottom: 0.4em;background-color: white;}#sk-container-id-1 div.sk-label label {font-family: monospace;font-weight: bold;display: inline-block;line-height: 1.2em;}#sk-container-id-1 div.sk-label-container {text-align: center;}#sk-container-id-1 div.sk-container {/* jupyter's `normalize.less` sets `[hidden] { display: none; }` but bootstrap.min.css set `[hidden] { display: none !important; }` so we also need the `!important` here to be able to override the default hidden behavior on the sphinx rendered scikit-learn.org. See: https://github.com/scikit-learn/scikit-learn/issues/21755 */display: inline-block !important;position: relative;}#sk-container-id-1 div.sk-text-repr-fallback {display: none;}</style><div id=\"sk-container-id-1\" class=\"sk-top-container\"><div class=\"sk-text-repr-fallback\"><pre>LogisticRegression(C=12, max_iter=10000, random_state=12345)</pre><b>In a Jupyter environment, please rerun this cell to show the HTML representation or trust the notebook. <br />On GitHub, the HTML representation is unable to render, please try loading this page with nbviewer.org.</b></div><div class=\"sk-container\" hidden><div class=\"sk-item\"><div class=\"sk-estimator sk-toggleable\"><input class=\"sk-toggleable__control sk-hidden--visually\" id=\"sk-estimator-id-1\" type=\"checkbox\" checked><label for=\"sk-estimator-id-1\" class=\"sk-toggleable__label sk-toggleable__label-arrow\">LogisticRegression</label><div class=\"sk-toggleable__content\"><pre>LogisticRegression(C=12, max_iter=10000, random_state=12345)</pre></div></div></div></div></div>"
      ],
      "text/plain": [
       "LogisticRegression(C=12, max_iter=10000, random_state=12345)"
      ]
     },
     "execution_count": 22,
     "metadata": {},
     "output_type": "execute_result"
    }
   ],
   "source": [
    "model_log.fit(tf_idf, target_train)"
   ]
  },
  {
   "cell_type": "code",
   "execution_count": 23,
   "metadata": {},
   "outputs": [
    {
     "name": "stdout",
     "output_type": "stream",
     "text": [
      "f1:\n",
      " 0.766087785885633\n"
     ]
    }
   ],
   "source": [
    "scores_list = cross_val_score(estimator=model_log, \n",
    "                              X=tf_idf, \n",
    "                              y=target_train, \n",
    "                              scoring='f1')\n",
    "val_score = scores_list.mean()\n",
    "print(\"f1:\\n\", val_score)"
   ]
  },
  {
   "cell_type": "markdown",
   "metadata": {},
   "source": [
    "### CatBoost"
   ]
  },
  {
   "cell_type": "code",
   "execution_count": 24,
   "metadata": {},
   "outputs": [
    {
     "name": "stdout",
     "output_type": "stream",
     "text": [
      "Learning rate set to 0.5\n",
      "0:\tlearn: 0.3531594\ttotal: 900ms\tremaining: 9s\n",
      "1:\tlearn: 0.2770196\ttotal: 1.74s\tremaining: 7.83s\n",
      "2:\tlearn: 0.2506461\ttotal: 2.61s\tremaining: 6.96s\n",
      "3:\tlearn: 0.2391099\ttotal: 3.44s\tremaining: 6.02s\n",
      "4:\tlearn: 0.2315284\ttotal: 4.26s\tremaining: 5.11s\n",
      "5:\tlearn: 0.2266445\ttotal: 5.07s\tremaining: 4.22s\n",
      "6:\tlearn: 0.2188333\ttotal: 5.91s\tremaining: 3.38s\n",
      "7:\tlearn: 0.2147636\ttotal: 6.78s\tremaining: 2.54s\n",
      "8:\tlearn: 0.2108932\ttotal: 7.58s\tremaining: 1.68s\n",
      "9:\tlearn: 0.2079104\ttotal: 8.39s\tremaining: 839ms\n",
      "10:\tlearn: 0.2050302\ttotal: 9.2s\tremaining: 0us\n",
      "Learning rate set to 0.5\n",
      "0:\tlearn: 0.3526949\ttotal: 865ms\tremaining: 8.64s\n",
      "1:\tlearn: 0.2759354\ttotal: 1.73s\tremaining: 7.78s\n",
      "2:\tlearn: 0.2498863\ttotal: 2.57s\tremaining: 6.86s\n",
      "3:\tlearn: 0.2387180\ttotal: 3.38s\tremaining: 5.92s\n",
      "4:\tlearn: 0.2310756\ttotal: 4.21s\tremaining: 5.05s\n",
      "5:\tlearn: 0.2231241\ttotal: 5.06s\tremaining: 4.21s\n",
      "6:\tlearn: 0.2183635\ttotal: 5.96s\tremaining: 3.4s\n",
      "7:\tlearn: 0.2136618\ttotal: 6.79s\tremaining: 2.55s\n",
      "8:\tlearn: 0.2087430\ttotal: 7.57s\tremaining: 1.68s\n",
      "9:\tlearn: 0.2057537\ttotal: 8.36s\tremaining: 836ms\n",
      "10:\tlearn: 0.2033338\ttotal: 9.24s\tremaining: 0us\n",
      "Learning rate set to 0.5\n",
      "0:\tlearn: 0.3446957\ttotal: 868ms\tremaining: 8.68s\n",
      "1:\tlearn: 0.2708593\ttotal: 1.67s\tremaining: 7.53s\n",
      "2:\tlearn: 0.2476454\ttotal: 2.48s\tremaining: 6.61s\n",
      "3:\tlearn: 0.2368395\ttotal: 3.3s\tremaining: 5.77s\n",
      "4:\tlearn: 0.2310538\ttotal: 4.11s\tremaining: 4.93s\n",
      "5:\tlearn: 0.2231762\ttotal: 4.94s\tremaining: 4.12s\n",
      "6:\tlearn: 0.2182859\ttotal: 5.71s\tremaining: 3.26s\n",
      "7:\tlearn: 0.2137560\ttotal: 6.47s\tremaining: 2.42s\n",
      "8:\tlearn: 0.2099618\ttotal: 7.22s\tremaining: 1.6s\n",
      "9:\tlearn: 0.2070477\ttotal: 7.97s\tremaining: 797ms\n",
      "10:\tlearn: 0.2040445\ttotal: 8.74s\tremaining: 0us\n",
      "Learning rate set to 0.5\n",
      "0:\tlearn: 0.3463859\ttotal: 886ms\tremaining: 8.86s\n",
      "1:\tlearn: 0.2712534\ttotal: 1.69s\tremaining: 7.61s\n",
      "2:\tlearn: 0.2470229\ttotal: 2.48s\tremaining: 6.62s\n",
      "3:\tlearn: 0.2376093\ttotal: 3.27s\tremaining: 5.71s\n",
      "4:\tlearn: 0.2310346\ttotal: 4.08s\tremaining: 4.89s\n",
      "5:\tlearn: 0.2231291\ttotal: 4.92s\tremaining: 4.1s\n",
      "6:\tlearn: 0.2185524\ttotal: 5.71s\tremaining: 3.27s\n",
      "7:\tlearn: 0.2137167\ttotal: 6.47s\tremaining: 2.42s\n",
      "8:\tlearn: 0.2104018\ttotal: 7.21s\tremaining: 1.6s\n",
      "9:\tlearn: 0.2060747\ttotal: 8s\tremaining: 800ms\n",
      "10:\tlearn: 0.2034323\ttotal: 8.79s\tremaining: 0us\n",
      "Learning rate set to 0.5\n",
      "0:\tlearn: 0.3534564\ttotal: 902ms\tremaining: 9.02s\n",
      "1:\tlearn: 0.2759570\ttotal: 1.72s\tremaining: 7.75s\n",
      "2:\tlearn: 0.2505115\ttotal: 2.55s\tremaining: 6.79s\n",
      "3:\tlearn: 0.2400456\ttotal: 3.38s\tremaining: 5.91s\n",
      "4:\tlearn: 0.2333824\ttotal: 4.19s\tremaining: 5.03s\n",
      "5:\tlearn: 0.2266037\ttotal: 5.05s\tremaining: 4.21s\n",
      "6:\tlearn: 0.2186313\ttotal: 5.88s\tremaining: 3.36s\n",
      "7:\tlearn: 0.2144281\ttotal: 6.67s\tremaining: 2.5s\n",
      "8:\tlearn: 0.2094127\ttotal: 7.48s\tremaining: 1.66s\n",
      "9:\tlearn: 0.2059067\ttotal: 8.29s\tremaining: 829ms\n",
      "10:\tlearn: 0.2034443\ttotal: 9.15s\tremaining: 0us\n",
      "Learning rate set to 0.5\n",
      "0:\tlearn: 0.3531594\ttotal: 910ms\tremaining: 6.37s\n",
      "1:\tlearn: 0.2770196\ttotal: 1.82s\tremaining: 5.46s\n",
      "2:\tlearn: 0.2506461\ttotal: 2.7s\tremaining: 4.5s\n",
      "3:\tlearn: 0.2391099\ttotal: 3.54s\tremaining: 3.54s\n",
      "4:\tlearn: 0.2315284\ttotal: 4.37s\tremaining: 2.62s\n",
      "5:\tlearn: 0.2266445\ttotal: 5.25s\tremaining: 1.75s\n",
      "6:\tlearn: 0.2188333\ttotal: 6.13s\tremaining: 876ms\n",
      "7:\tlearn: 0.2147636\ttotal: 6.95s\tremaining: 0us\n",
      "Learning rate set to 0.5\n",
      "0:\tlearn: 0.3526949\ttotal: 848ms\tremaining: 5.94s\n",
      "1:\tlearn: 0.2759354\ttotal: 1.66s\tremaining: 4.98s\n",
      "2:\tlearn: 0.2498863\ttotal: 2.48s\tremaining: 4.14s\n",
      "3:\tlearn: 0.2387180\ttotal: 3.3s\tremaining: 3.3s\n",
      "4:\tlearn: 0.2310756\ttotal: 4.11s\tremaining: 2.47s\n",
      "5:\tlearn: 0.2231241\ttotal: 4.97s\tremaining: 1.66s\n",
      "6:\tlearn: 0.2183635\ttotal: 5.84s\tremaining: 835ms\n",
      "7:\tlearn: 0.2136618\ttotal: 6.65s\tremaining: 0us\n",
      "Learning rate set to 0.5\n",
      "0:\tlearn: 0.3446957\ttotal: 896ms\tremaining: 6.27s\n",
      "1:\tlearn: 0.2708593\ttotal: 1.77s\tremaining: 5.33s\n",
      "2:\tlearn: 0.2476454\ttotal: 2.64s\tremaining: 4.4s\n",
      "3:\tlearn: 0.2368395\ttotal: 3.49s\tremaining: 3.49s\n",
      "4:\tlearn: 0.2310538\ttotal: 4.35s\tremaining: 2.61s\n",
      "5:\tlearn: 0.2231762\ttotal: 5.2s\tremaining: 1.73s\n",
      "6:\tlearn: 0.2182859\ttotal: 6.03s\tremaining: 862ms\n",
      "7:\tlearn: 0.2137560\ttotal: 6.8s\tremaining: 0us\n",
      "Learning rate set to 0.5\n",
      "0:\tlearn: 0.3463859\ttotal: 900ms\tremaining: 6.3s\n",
      "1:\tlearn: 0.2712534\ttotal: 1.7s\tremaining: 5.11s\n",
      "2:\tlearn: 0.2470229\ttotal: 2.49s\tremaining: 4.15s\n",
      "3:\tlearn: 0.2376093\ttotal: 3.28s\tremaining: 3.28s\n",
      "4:\tlearn: 0.2310346\ttotal: 4.07s\tremaining: 2.44s\n",
      "5:\tlearn: 0.2231291\ttotal: 4.91s\tremaining: 1.64s\n",
      "6:\tlearn: 0.2185524\ttotal: 5.7s\tremaining: 814ms\n",
      "7:\tlearn: 0.2137167\ttotal: 6.53s\tremaining: 0us\n",
      "Learning rate set to 0.5\n",
      "0:\tlearn: 0.3534564\ttotal: 955ms\tremaining: 6.68s\n",
      "1:\tlearn: 0.2759570\ttotal: 1.78s\tremaining: 5.33s\n",
      "2:\tlearn: 0.2505115\ttotal: 2.61s\tremaining: 4.36s\n",
      "3:\tlearn: 0.2400456\ttotal: 3.43s\tremaining: 3.43s\n",
      "4:\tlearn: 0.2333824\ttotal: 4.25s\tremaining: 2.55s\n",
      "5:\tlearn: 0.2266037\ttotal: 5.05s\tremaining: 1.68s\n",
      "6:\tlearn: 0.2186313\ttotal: 5.89s\tremaining: 841ms\n",
      "7:\tlearn: 0.2144281\ttotal: 6.72s\tremaining: 0us\n",
      "Learning rate set to 0.5\n",
      "0:\tlearn: 0.3531577\ttotal: 704ms\tremaining: 6.34s\n",
      "1:\tlearn: 0.2819001\ttotal: 1.35s\tremaining: 5.4s\n",
      "2:\tlearn: 0.2601458\ttotal: 2.02s\tremaining: 4.72s\n",
      "3:\tlearn: 0.2476505\ttotal: 2.65s\tremaining: 3.98s\n",
      "4:\tlearn: 0.2401957\ttotal: 3.28s\tremaining: 3.28s\n",
      "5:\tlearn: 0.2346719\ttotal: 3.9s\tremaining: 2.6s\n",
      "6:\tlearn: 0.2306340\ttotal: 4.52s\tremaining: 1.94s\n",
      "7:\tlearn: 0.2276681\ttotal: 5.15s\tremaining: 1.29s\n",
      "8:\tlearn: 0.2218631\ttotal: 5.79s\tremaining: 643ms\n",
      "9:\tlearn: 0.2188804\ttotal: 6.41s\tremaining: 0us\n",
      "Learning rate set to 0.5\n",
      "0:\tlearn: 0.3526746\ttotal: 663ms\tremaining: 5.97s\n",
      "1:\tlearn: 0.2818094\ttotal: 1.27s\tremaining: 5.09s\n",
      "2:\tlearn: 0.2596173\ttotal: 1.89s\tremaining: 4.41s\n",
      "3:\tlearn: 0.2477736\ttotal: 2.49s\tremaining: 3.74s\n",
      "4:\tlearn: 0.2410437\ttotal: 3.08s\tremaining: 3.08s\n",
      "5:\tlearn: 0.2359377\ttotal: 3.72s\tremaining: 2.48s\n",
      "6:\tlearn: 0.2297883\ttotal: 4.36s\tremaining: 1.87s\n",
      "7:\tlearn: 0.2256971\ttotal: 4.95s\tremaining: 1.24s\n",
      "8:\tlearn: 0.2220180\ttotal: 5.55s\tremaining: 616ms\n",
      "9:\tlearn: 0.2192306\ttotal: 6.14s\tremaining: 0us\n",
      "Learning rate set to 0.5\n",
      "0:\tlearn: 0.3537033\ttotal: 670ms\tremaining: 6.03s\n",
      "1:\tlearn: 0.2826258\ttotal: 1.29s\tremaining: 5.17s\n",
      "2:\tlearn: 0.2607224\ttotal: 1.96s\tremaining: 4.56s\n",
      "3:\tlearn: 0.2486225\ttotal: 2.56s\tremaining: 3.84s\n",
      "4:\tlearn: 0.2418704\ttotal: 3.22s\tremaining: 3.22s\n",
      "5:\tlearn: 0.2372933\ttotal: 3.86s\tremaining: 2.57s\n",
      "6:\tlearn: 0.2327281\ttotal: 4.47s\tremaining: 1.92s\n",
      "7:\tlearn: 0.2263406\ttotal: 5.12s\tremaining: 1.28s\n",
      "8:\tlearn: 0.2232595\ttotal: 5.74s\tremaining: 638ms\n",
      "9:\tlearn: 0.2201883\ttotal: 6.32s\tremaining: 0us\n",
      "Learning rate set to 0.5\n",
      "0:\tlearn: 0.3463892\ttotal: 694ms\tremaining: 6.25s\n",
      "1:\tlearn: 0.2765778\ttotal: 1.31s\tremaining: 5.23s\n",
      "2:\tlearn: 0.2551429\ttotal: 1.92s\tremaining: 4.48s\n",
      "3:\tlearn: 0.2444514\ttotal: 2.57s\tremaining: 3.85s\n",
      "4:\tlearn: 0.2389304\ttotal: 3.19s\tremaining: 3.19s\n",
      "5:\tlearn: 0.2337747\ttotal: 3.78s\tremaining: 2.52s\n",
      "6:\tlearn: 0.2300968\ttotal: 4.4s\tremaining: 1.89s\n",
      "7:\tlearn: 0.2246565\ttotal: 5.01s\tremaining: 1.25s\n",
      "8:\tlearn: 0.2213380\ttotal: 5.61s\tremaining: 623ms\n",
      "9:\tlearn: 0.2180107\ttotal: 6.26s\tremaining: 0us\n",
      "Learning rate set to 0.5\n",
      "0:\tlearn: 0.3534582\ttotal: 651ms\tremaining: 5.86s\n",
      "1:\tlearn: 0.2824253\ttotal: 1.29s\tremaining: 5.17s\n",
      "2:\tlearn: 0.2612774\ttotal: 1.91s\tremaining: 4.45s\n",
      "3:\tlearn: 0.2477474\ttotal: 2.52s\tremaining: 3.77s\n",
      "4:\tlearn: 0.2401512\ttotal: 3.15s\tremaining: 3.15s\n",
      "5:\tlearn: 0.2323146\ttotal: 3.74s\tremaining: 2.49s\n",
      "6:\tlearn: 0.2282451\ttotal: 4.35s\tremaining: 1.86s\n",
      "7:\tlearn: 0.2245038\ttotal: 4.95s\tremaining: 1.24s\n",
      "8:\tlearn: 0.2211426\ttotal: 5.56s\tremaining: 618ms\n",
      "9:\tlearn: 0.2178731\ttotal: 6.2s\tremaining: 0us\n",
      "Learning rate set to 0.5\n",
      "0:\tlearn: 0.3531577\ttotal: 642ms\tremaining: 7.7s\n",
      "1:\tlearn: 0.2819001\ttotal: 1.26s\tremaining: 6.93s\n",
      "2:\tlearn: 0.2601458\ttotal: 1.87s\tremaining: 6.24s\n",
      "3:\tlearn: 0.2476505\ttotal: 2.5s\tremaining: 5.61s\n",
      "4:\tlearn: 0.2401957\ttotal: 3.13s\tremaining: 5.01s\n",
      "5:\tlearn: 0.2346719\ttotal: 3.74s\tremaining: 4.37s\n",
      "6:\tlearn: 0.2306340\ttotal: 4.34s\tremaining: 3.72s\n",
      "7:\tlearn: 0.2276681\ttotal: 4.98s\tremaining: 3.11s\n",
      "8:\tlearn: 0.2218631\ttotal: 5.6s\tremaining: 2.49s\n",
      "9:\tlearn: 0.2188804\ttotal: 6.21s\tremaining: 1.86s\n",
      "10:\tlearn: 0.2161400\ttotal: 6.87s\tremaining: 1.25s\n",
      "11:\tlearn: 0.2136200\ttotal: 7.55s\tremaining: 630ms\n",
      "12:\tlearn: 0.2100016\ttotal: 8.16s\tremaining: 0us\n",
      "Learning rate set to 0.5\n",
      "0:\tlearn: 0.3526746\ttotal: 673ms\tremaining: 8.07s\n",
      "1:\tlearn: 0.2818094\ttotal: 1.3s\tremaining: 7.13s\n",
      "2:\tlearn: 0.2596173\ttotal: 1.92s\tremaining: 6.41s\n",
      "3:\tlearn: 0.2477736\ttotal: 2.54s\tremaining: 5.72s\n",
      "4:\tlearn: 0.2410437\ttotal: 3.18s\tremaining: 5.09s\n",
      "5:\tlearn: 0.2359377\ttotal: 3.81s\tremaining: 4.44s\n",
      "6:\tlearn: 0.2297883\ttotal: 4.49s\tremaining: 3.85s\n",
      "7:\tlearn: 0.2256971\ttotal: 5.12s\tremaining: 3.2s\n",
      "8:\tlearn: 0.2220180\ttotal: 5.8s\tremaining: 2.58s\n",
      "9:\tlearn: 0.2192306\ttotal: 6.4s\tremaining: 1.92s\n",
      "10:\tlearn: 0.2153194\ttotal: 6.99s\tremaining: 1.27s\n",
      "11:\tlearn: 0.2123255\ttotal: 7.58s\tremaining: 631ms\n",
      "12:\tlearn: 0.2097648\ttotal: 8.22s\tremaining: 0us\n",
      "Learning rate set to 0.5\n",
      "0:\tlearn: 0.3537033\ttotal: 649ms\tremaining: 7.79s\n",
      "1:\tlearn: 0.2826258\ttotal: 1.28s\tremaining: 7.04s\n",
      "2:\tlearn: 0.2607224\ttotal: 1.9s\tremaining: 6.33s\n",
      "3:\tlearn: 0.2486225\ttotal: 2.51s\tremaining: 5.65s\n",
      "4:\tlearn: 0.2418704\ttotal: 3.12s\tremaining: 4.99s\n",
      "5:\tlearn: 0.2372933\ttotal: 3.74s\tremaining: 4.37s\n",
      "6:\tlearn: 0.2327281\ttotal: 4.37s\tremaining: 3.75s\n",
      "7:\tlearn: 0.2263406\ttotal: 5.05s\tremaining: 3.16s\n",
      "8:\tlearn: 0.2232595\ttotal: 5.7s\tremaining: 2.54s\n",
      "9:\tlearn: 0.2201883\ttotal: 6.31s\tremaining: 1.89s\n",
      "10:\tlearn: 0.2175526\ttotal: 6.89s\tremaining: 1.25s\n",
      "11:\tlearn: 0.2140091\ttotal: 7.53s\tremaining: 628ms\n",
      "12:\tlearn: 0.2114870\ttotal: 8.13s\tremaining: 0us\n",
      "Learning rate set to 0.5\n",
      "0:\tlearn: 0.3463892\ttotal: 656ms\tremaining: 7.87s\n",
      "1:\tlearn: 0.2765778\ttotal: 1.28s\tremaining: 7.07s\n",
      "2:\tlearn: 0.2551429\ttotal: 1.92s\tremaining: 6.4s\n",
      "3:\tlearn: 0.2444514\ttotal: 2.54s\tremaining: 5.73s\n",
      "4:\tlearn: 0.2389304\ttotal: 3.17s\tremaining: 5.07s\n",
      "5:\tlearn: 0.2337747\ttotal: 3.78s\tremaining: 4.41s\n",
      "6:\tlearn: 0.2300968\ttotal: 4.41s\tremaining: 3.78s\n",
      "7:\tlearn: 0.2246565\ttotal: 5.04s\tremaining: 3.15s\n",
      "8:\tlearn: 0.2213380\ttotal: 5.69s\tremaining: 2.53s\n",
      "9:\tlearn: 0.2180107\ttotal: 6.33s\tremaining: 1.9s\n",
      "10:\tlearn: 0.2153407\ttotal: 6.93s\tremaining: 1.26s\n",
      "11:\tlearn: 0.2121611\ttotal: 7.54s\tremaining: 629ms\n",
      "12:\tlearn: 0.2094401\ttotal: 8.19s\tremaining: 0us\n",
      "Learning rate set to 0.5\n",
      "0:\tlearn: 0.3534582\ttotal: 683ms\tremaining: 8.2s\n",
      "1:\tlearn: 0.2824253\ttotal: 1.3s\tremaining: 7.17s\n",
      "2:\tlearn: 0.2612774\ttotal: 1.92s\tremaining: 6.39s\n",
      "3:\tlearn: 0.2477474\ttotal: 2.54s\tremaining: 5.71s\n",
      "4:\tlearn: 0.2401512\ttotal: 3.13s\tremaining: 5.01s\n",
      "5:\tlearn: 0.2323146\ttotal: 3.71s\tremaining: 4.32s\n",
      "6:\tlearn: 0.2282451\ttotal: 4.31s\tremaining: 3.69s\n",
      "7:\tlearn: 0.2245038\ttotal: 4.91s\tremaining: 3.07s\n",
      "8:\tlearn: 0.2211426\ttotal: 5.54s\tremaining: 2.46s\n",
      "9:\tlearn: 0.2178731\ttotal: 6.14s\tremaining: 1.84s\n",
      "10:\tlearn: 0.2151061\ttotal: 6.76s\tremaining: 1.23s\n",
      "11:\tlearn: 0.2119319\ttotal: 7.38s\tremaining: 615ms\n",
      "12:\tlearn: 0.2098049\ttotal: 8.05s\tremaining: 0us\n",
      "Learning rate set to 0.5\n",
      "0:\tlearn: 0.3531577\ttotal: 642ms\tremaining: 9.63s\n",
      "1:\tlearn: 0.2819001\ttotal: 1.27s\tremaining: 8.89s\n",
      "2:\tlearn: 0.2601458\ttotal: 1.94s\tremaining: 8.4s\n",
      "3:\tlearn: 0.2476505\ttotal: 2.54s\tremaining: 7.62s\n",
      "4:\tlearn: 0.2401957\ttotal: 3.14s\tremaining: 6.91s\n",
      "5:\tlearn: 0.2346719\ttotal: 3.76s\tremaining: 6.27s\n",
      "6:\tlearn: 0.2306340\ttotal: 4.36s\tremaining: 5.6s\n",
      "7:\tlearn: 0.2276681\ttotal: 4.97s\tremaining: 4.97s\n",
      "8:\tlearn: 0.2218631\ttotal: 5.58s\tremaining: 4.34s\n",
      "9:\tlearn: 0.2188804\ttotal: 6.17s\tremaining: 3.7s\n",
      "10:\tlearn: 0.2161400\ttotal: 6.75s\tremaining: 3.07s\n",
      "11:\tlearn: 0.2136200\ttotal: 7.36s\tremaining: 2.45s\n",
      "12:\tlearn: 0.2100016\ttotal: 7.94s\tremaining: 1.83s\n",
      "13:\tlearn: 0.2075598\ttotal: 8.5s\tremaining: 1.21s\n",
      "14:\tlearn: 0.2061560\ttotal: 9.1s\tremaining: 607ms\n",
      "15:\tlearn: 0.2045530\ttotal: 9.71s\tremaining: 0us\n",
      "Learning rate set to 0.5\n",
      "0:\tlearn: 0.3526746\ttotal: 671ms\tremaining: 10.1s\n",
      "1:\tlearn: 0.2818094\ttotal: 1.3s\tremaining: 9.1s\n",
      "2:\tlearn: 0.2596173\ttotal: 1.93s\tremaining: 8.36s\n",
      "3:\tlearn: 0.2477736\ttotal: 2.55s\tremaining: 7.64s\n",
      "4:\tlearn: 0.2410437\ttotal: 3.16s\tremaining: 6.95s\n",
      "5:\tlearn: 0.2359377\ttotal: 3.78s\tremaining: 6.3s\n",
      "6:\tlearn: 0.2297883\ttotal: 4.43s\tremaining: 5.7s\n",
      "7:\tlearn: 0.2256971\ttotal: 5.04s\tremaining: 5.04s\n",
      "8:\tlearn: 0.2220180\ttotal: 5.66s\tremaining: 4.4s\n",
      "9:\tlearn: 0.2192306\ttotal: 6.24s\tremaining: 3.75s\n",
      "10:\tlearn: 0.2153194\ttotal: 6.87s\tremaining: 3.12s\n",
      "11:\tlearn: 0.2123255\ttotal: 7.49s\tremaining: 2.5s\n",
      "12:\tlearn: 0.2097648\ttotal: 8.11s\tremaining: 1.87s\n",
      "13:\tlearn: 0.2075617\ttotal: 8.73s\tremaining: 1.25s\n",
      "14:\tlearn: 0.2063067\ttotal: 9.35s\tremaining: 624ms\n",
      "15:\tlearn: 0.2043796\ttotal: 9.95s\tremaining: 0us\n",
      "Learning rate set to 0.5\n",
      "0:\tlearn: 0.3537033\ttotal: 675ms\tremaining: 10.1s\n",
      "1:\tlearn: 0.2826258\ttotal: 1.3s\tremaining: 9.1s\n",
      "2:\tlearn: 0.2607224\ttotal: 1.92s\tremaining: 8.32s\n",
      "3:\tlearn: 0.2486225\ttotal: 2.54s\tremaining: 7.62s\n",
      "4:\tlearn: 0.2418704\ttotal: 3.16s\tremaining: 6.95s\n",
      "5:\tlearn: 0.2372933\ttotal: 3.79s\tremaining: 6.32s\n",
      "6:\tlearn: 0.2327281\ttotal: 4.44s\tremaining: 5.71s\n",
      "7:\tlearn: 0.2263406\ttotal: 5.18s\tremaining: 5.18s\n",
      "8:\tlearn: 0.2232595\ttotal: 5.87s\tremaining: 4.56s\n",
      "9:\tlearn: 0.2201883\ttotal: 6.51s\tremaining: 3.91s\n",
      "10:\tlearn: 0.2175526\ttotal: 7.11s\tremaining: 3.23s\n",
      "11:\tlearn: 0.2140091\ttotal: 7.77s\tremaining: 2.59s\n",
      "12:\tlearn: 0.2114870\ttotal: 8.4s\tremaining: 1.94s\n",
      "13:\tlearn: 0.2091572\ttotal: 9.04s\tremaining: 1.29s\n",
      "14:\tlearn: 0.2067328\ttotal: 9.64s\tremaining: 643ms\n",
      "15:\tlearn: 0.2039901\ttotal: 10.3s\tremaining: 0us\n",
      "Learning rate set to 0.5\n",
      "0:\tlearn: 0.3463892\ttotal: 696ms\tremaining: 10.4s\n",
      "1:\tlearn: 0.2765778\ttotal: 1.34s\tremaining: 9.39s\n",
      "2:\tlearn: 0.2551429\ttotal: 1.98s\tremaining: 8.58s\n",
      "3:\tlearn: 0.2444514\ttotal: 2.61s\tremaining: 7.84s\n",
      "4:\tlearn: 0.2389304\ttotal: 3.24s\tremaining: 7.12s\n",
      "5:\tlearn: 0.2337747\ttotal: 3.87s\tremaining: 6.45s\n",
      "6:\tlearn: 0.2300968\ttotal: 4.53s\tremaining: 5.83s\n",
      "7:\tlearn: 0.2246565\ttotal: 5.16s\tremaining: 5.16s\n",
      "8:\tlearn: 0.2213380\ttotal: 5.78s\tremaining: 4.5s\n",
      "9:\tlearn: 0.2180107\ttotal: 6.46s\tremaining: 3.88s\n",
      "10:\tlearn: 0.2153407\ttotal: 7.07s\tremaining: 3.21s\n",
      "11:\tlearn: 0.2121611\ttotal: 7.66s\tremaining: 2.55s\n",
      "12:\tlearn: 0.2094401\ttotal: 8.29s\tremaining: 1.91s\n",
      "13:\tlearn: 0.2074249\ttotal: 8.91s\tremaining: 1.27s\n",
      "14:\tlearn: 0.2054751\ttotal: 9.54s\tremaining: 636ms\n",
      "15:\tlearn: 0.2041867\ttotal: 10.2s\tremaining: 0us\n",
      "Learning rate set to 0.5\n",
      "0:\tlearn: 0.3534582\ttotal: 669ms\tremaining: 10s\n",
      "1:\tlearn: 0.2824253\ttotal: 1.31s\tremaining: 9.19s\n",
      "2:\tlearn: 0.2612774\ttotal: 1.92s\tremaining: 8.3s\n",
      "3:\tlearn: 0.2477474\ttotal: 2.53s\tremaining: 7.59s\n",
      "4:\tlearn: 0.2401512\ttotal: 3.16s\tremaining: 6.95s\n",
      "5:\tlearn: 0.2323146\ttotal: 3.75s\tremaining: 6.25s\n",
      "6:\tlearn: 0.2282451\ttotal: 4.39s\tremaining: 5.64s\n",
      "7:\tlearn: 0.2245038\ttotal: 5.07s\tremaining: 5.07s\n",
      "8:\tlearn: 0.2211426\ttotal: 5.7s\tremaining: 4.43s\n",
      "9:\tlearn: 0.2178731\ttotal: 6.3s\tremaining: 3.78s\n",
      "10:\tlearn: 0.2151061\ttotal: 6.9s\tremaining: 3.14s\n",
      "11:\tlearn: 0.2119319\ttotal: 7.54s\tremaining: 2.51s\n",
      "12:\tlearn: 0.2098049\ttotal: 8.17s\tremaining: 1.89s\n",
      "13:\tlearn: 0.2069639\ttotal: 8.79s\tremaining: 1.25s\n",
      "14:\tlearn: 0.2047721\ttotal: 9.39s\tremaining: 626ms\n",
      "15:\tlearn: 0.2029875\ttotal: 10s\tremaining: 0us\n",
      "Learning rate set to 0.5\n",
      "0:\tlearn: 0.3531594\ttotal: 876ms\tremaining: 5.26s\n",
      "1:\tlearn: 0.2770196\ttotal: 1.71s\tremaining: 4.27s\n",
      "2:\tlearn: 0.2506461\ttotal: 2.55s\tremaining: 3.4s\n",
      "3:\tlearn: 0.2391099\ttotal: 3.39s\tremaining: 2.55s\n",
      "4:\tlearn: 0.2315284\ttotal: 4.25s\tremaining: 1.7s\n",
      "5:\tlearn: 0.2266445\ttotal: 5.06s\tremaining: 844ms\n",
      "6:\tlearn: 0.2188333\ttotal: 5.9s\tremaining: 0us\n",
      "Learning rate set to 0.5\n",
      "0:\tlearn: 0.3526949\ttotal: 816ms\tremaining: 4.89s\n",
      "1:\tlearn: 0.2759354\ttotal: 1.62s\tremaining: 4.04s\n",
      "2:\tlearn: 0.2498863\ttotal: 2.42s\tremaining: 3.23s\n",
      "3:\tlearn: 0.2387180\ttotal: 3.21s\tremaining: 2.41s\n",
      "4:\tlearn: 0.2310756\ttotal: 3.98s\tremaining: 1.59s\n",
      "5:\tlearn: 0.2231241\ttotal: 4.81s\tremaining: 802ms\n",
      "6:\tlearn: 0.2183635\ttotal: 5.62s\tremaining: 0us\n",
      "Learning rate set to 0.5\n",
      "0:\tlearn: 0.3446957\ttotal: 880ms\tremaining: 5.28s\n",
      "1:\tlearn: 0.2708593\ttotal: 1.68s\tremaining: 4.2s\n",
      "2:\tlearn: 0.2476454\ttotal: 2.47s\tremaining: 3.3s\n",
      "3:\tlearn: 0.2368395\ttotal: 3.26s\tremaining: 2.45s\n",
      "4:\tlearn: 0.2310538\ttotal: 4.07s\tremaining: 1.63s\n",
      "5:\tlearn: 0.2231762\ttotal: 4.91s\tremaining: 819ms\n",
      "6:\tlearn: 0.2182859\ttotal: 5.69s\tremaining: 0us\n",
      "Learning rate set to 0.5\n",
      "0:\tlearn: 0.3463859\ttotal: 893ms\tremaining: 5.36s\n",
      "1:\tlearn: 0.2712534\ttotal: 1.69s\tremaining: 4.23s\n",
      "2:\tlearn: 0.2470229\ttotal: 2.51s\tremaining: 3.34s\n",
      "3:\tlearn: 0.2376093\ttotal: 3.33s\tremaining: 2.5s\n",
      "4:\tlearn: 0.2310346\ttotal: 4.18s\tremaining: 1.67s\n",
      "5:\tlearn: 0.2231291\ttotal: 5.08s\tremaining: 846ms\n",
      "6:\tlearn: 0.2185524\ttotal: 5.9s\tremaining: 0us\n",
      "Learning rate set to 0.5\n",
      "0:\tlearn: 0.3534564\ttotal: 984ms\tremaining: 5.9s\n",
      "1:\tlearn: 0.2759570\ttotal: 1.92s\tremaining: 4.81s\n",
      "2:\tlearn: 0.2505115\ttotal: 2.87s\tremaining: 3.82s\n",
      "3:\tlearn: 0.2400456\ttotal: 3.81s\tremaining: 2.85s\n",
      "4:\tlearn: 0.2333824\ttotal: 4.66s\tremaining: 1.86s\n",
      "5:\tlearn: 0.2266037\ttotal: 5.5s\tremaining: 916ms\n",
      "6:\tlearn: 0.2186313\ttotal: 6.33s\tremaining: 0us\n",
      "Learning rate set to 0.5\n",
      "0:\tlearn: 0.3531577\ttotal: 664ms\tremaining: 5.31s\n",
      "1:\tlearn: 0.2819001\ttotal: 1.33s\tremaining: 4.65s\n",
      "2:\tlearn: 0.2601458\ttotal: 1.98s\tremaining: 3.95s\n",
      "3:\tlearn: 0.2476505\ttotal: 2.63s\tremaining: 3.29s\n",
      "4:\tlearn: 0.2401957\ttotal: 3.25s\tremaining: 2.6s\n",
      "5:\tlearn: 0.2346719\ttotal: 3.85s\tremaining: 1.92s\n",
      "6:\tlearn: 0.2306340\ttotal: 4.49s\tremaining: 1.28s\n",
      "7:\tlearn: 0.2276681\ttotal: 5.12s\tremaining: 641ms\n",
      "8:\tlearn: 0.2218631\ttotal: 5.75s\tremaining: 0us\n",
      "Learning rate set to 0.5\n",
      "0:\tlearn: 0.3526746\ttotal: 693ms\tremaining: 5.54s\n",
      "1:\tlearn: 0.2818094\ttotal: 1.39s\tremaining: 4.88s\n",
      "2:\tlearn: 0.2596173\ttotal: 2.04s\tremaining: 4.08s\n",
      "3:\tlearn: 0.2477736\ttotal: 2.68s\tremaining: 3.35s\n",
      "4:\tlearn: 0.2410437\ttotal: 3.32s\tremaining: 2.66s\n",
      "5:\tlearn: 0.2359377\ttotal: 3.97s\tremaining: 1.98s\n",
      "6:\tlearn: 0.2297883\ttotal: 4.64s\tremaining: 1.32s\n",
      "7:\tlearn: 0.2256971\ttotal: 5.27s\tremaining: 659ms\n",
      "8:\tlearn: 0.2220180\ttotal: 5.92s\tremaining: 0us\n",
      "Learning rate set to 0.5\n",
      "0:\tlearn: 0.3537033\ttotal: 669ms\tremaining: 5.35s\n",
      "1:\tlearn: 0.2826258\ttotal: 1.32s\tremaining: 4.64s\n",
      "2:\tlearn: 0.2607224\ttotal: 1.99s\tremaining: 3.98s\n",
      "3:\tlearn: 0.2486225\ttotal: 2.62s\tremaining: 3.27s\n",
      "4:\tlearn: 0.2418704\ttotal: 3.31s\tremaining: 2.65s\n",
      "5:\tlearn: 0.2372933\ttotal: 4.02s\tremaining: 2.01s\n",
      "6:\tlearn: 0.2327281\ttotal: 4.71s\tremaining: 1.34s\n",
      "7:\tlearn: 0.2263406\ttotal: 5.42s\tremaining: 678ms\n",
      "8:\tlearn: 0.2232595\ttotal: 6.1s\tremaining: 0us\n",
      "Learning rate set to 0.5\n",
      "0:\tlearn: 0.3463892\ttotal: 660ms\tremaining: 5.28s\n",
      "1:\tlearn: 0.2765778\ttotal: 1.3s\tremaining: 4.57s\n",
      "2:\tlearn: 0.2551429\ttotal: 1.94s\tremaining: 3.88s\n",
      "3:\tlearn: 0.2444514\ttotal: 2.62s\tremaining: 3.28s\n",
      "4:\tlearn: 0.2389304\ttotal: 3.29s\tremaining: 2.63s\n",
      "5:\tlearn: 0.2337747\ttotal: 3.92s\tremaining: 1.96s\n",
      "6:\tlearn: 0.2300968\ttotal: 4.56s\tremaining: 1.3s\n",
      "7:\tlearn: 0.2246565\ttotal: 5.18s\tremaining: 648ms\n",
      "8:\tlearn: 0.2213380\ttotal: 5.81s\tremaining: 0us\n",
      "Learning rate set to 0.5\n",
      "0:\tlearn: 0.3534582\ttotal: 705ms\tremaining: 5.64s\n",
      "1:\tlearn: 0.2824253\ttotal: 1.32s\tremaining: 4.64s\n",
      "2:\tlearn: 0.2612774\ttotal: 1.93s\tremaining: 3.85s\n",
      "3:\tlearn: 0.2477474\ttotal: 2.53s\tremaining: 3.16s\n",
      "4:\tlearn: 0.2401512\ttotal: 3.12s\tremaining: 2.5s\n",
      "5:\tlearn: 0.2323146\ttotal: 3.7s\tremaining: 1.85s\n",
      "6:\tlearn: 0.2282451\ttotal: 4.29s\tremaining: 1.23s\n",
      "7:\tlearn: 0.2245038\ttotal: 4.93s\tremaining: 616ms\n",
      "8:\tlearn: 0.2211426\ttotal: 5.54s\tremaining: 0us\n",
      "Learning rate set to 0.5\n",
      "0:\tlearn: 0.3531594\ttotal: 883ms\tremaining: 15s\n",
      "1:\tlearn: 0.2770196\ttotal: 1.75s\tremaining: 14s\n",
      "2:\tlearn: 0.2506461\ttotal: 2.62s\tremaining: 13.1s\n",
      "3:\tlearn: 0.2391099\ttotal: 3.46s\tremaining: 12.1s\n",
      "4:\tlearn: 0.2315284\ttotal: 4.26s\tremaining: 11.1s\n",
      "5:\tlearn: 0.2266445\ttotal: 5.1s\tremaining: 10.2s\n",
      "6:\tlearn: 0.2188333\ttotal: 5.95s\tremaining: 9.35s\n",
      "7:\tlearn: 0.2147636\ttotal: 6.73s\tremaining: 8.41s\n",
      "8:\tlearn: 0.2108932\ttotal: 7.51s\tremaining: 7.51s\n",
      "9:\tlearn: 0.2079104\ttotal: 8.36s\tremaining: 6.69s\n",
      "10:\tlearn: 0.2050302\ttotal: 9.19s\tremaining: 5.84s\n",
      "11:\tlearn: 0.2028827\ttotal: 9.98s\tremaining: 4.99s\n",
      "12:\tlearn: 0.2006705\ttotal: 10.8s\tremaining: 4.16s\n",
      "13:\tlearn: 0.1982408\ttotal: 11.7s\tremaining: 3.33s\n",
      "14:\tlearn: 0.1950309\ttotal: 12.6s\tremaining: 2.51s\n",
      "15:\tlearn: 0.1928263\ttotal: 13.4s\tremaining: 1.68s\n",
      "16:\tlearn: 0.1909213\ttotal: 14.2s\tremaining: 835ms\n",
      "17:\tlearn: 0.1890144\ttotal: 15s\tremaining: 0us\n",
      "Learning rate set to 0.5\n",
      "0:\tlearn: 0.3526949\ttotal: 834ms\tremaining: 14.2s\n",
      "1:\tlearn: 0.2759354\ttotal: 1.69s\tremaining: 13.5s\n",
      "2:\tlearn: 0.2498863\ttotal: 2.58s\tremaining: 12.9s\n",
      "3:\tlearn: 0.2387180\ttotal: 3.37s\tremaining: 11.8s\n",
      "4:\tlearn: 0.2310756\ttotal: 4.16s\tremaining: 10.8s\n",
      "5:\tlearn: 0.2231241\ttotal: 5.03s\tremaining: 10.1s\n",
      "6:\tlearn: 0.2183635\ttotal: 5.91s\tremaining: 9.28s\n",
      "7:\tlearn: 0.2136618\ttotal: 6.74s\tremaining: 8.42s\n",
      "8:\tlearn: 0.2087430\ttotal: 7.55s\tremaining: 7.55s\n",
      "9:\tlearn: 0.2057537\ttotal: 8.38s\tremaining: 6.7s\n",
      "10:\tlearn: 0.2033338\ttotal: 9.16s\tremaining: 5.83s\n",
      "11:\tlearn: 0.2012033\ttotal: 9.98s\tremaining: 4.99s\n",
      "12:\tlearn: 0.1979280\ttotal: 10.8s\tremaining: 4.16s\n",
      "13:\tlearn: 0.1960366\ttotal: 11.6s\tremaining: 3.32s\n",
      "14:\tlearn: 0.1934769\ttotal: 12.5s\tremaining: 2.49s\n",
      "15:\tlearn: 0.1916383\ttotal: 13.2s\tremaining: 1.66s\n",
      "16:\tlearn: 0.1898484\ttotal: 14s\tremaining: 824ms\n",
      "17:\tlearn: 0.1879999\ttotal: 14.8s\tremaining: 0us\n",
      "Learning rate set to 0.5\n",
      "0:\tlearn: 0.3446957\ttotal: 897ms\tremaining: 15.3s\n",
      "1:\tlearn: 0.2708593\ttotal: 1.75s\tremaining: 14s\n",
      "2:\tlearn: 0.2476454\ttotal: 2.58s\tremaining: 12.9s\n",
      "3:\tlearn: 0.2368395\ttotal: 3.42s\tremaining: 12s\n",
      "4:\tlearn: 0.2310538\ttotal: 4.3s\tremaining: 11.2s\n",
      "5:\tlearn: 0.2231762\ttotal: 5.22s\tremaining: 10.4s\n",
      "6:\tlearn: 0.2182859\ttotal: 6.05s\tremaining: 9.51s\n",
      "7:\tlearn: 0.2137560\ttotal: 6.86s\tremaining: 8.58s\n",
      "8:\tlearn: 0.2099618\ttotal: 7.67s\tremaining: 7.67s\n",
      "9:\tlearn: 0.2070477\ttotal: 8.53s\tremaining: 6.82s\n",
      "10:\tlearn: 0.2040445\ttotal: 9.37s\tremaining: 5.96s\n",
      "11:\tlearn: 0.2008166\ttotal: 10.1s\tremaining: 5.07s\n",
      "12:\tlearn: 0.1987030\ttotal: 11s\tremaining: 4.22s\n",
      "13:\tlearn: 0.1961073\ttotal: 11.8s\tremaining: 3.36s\n",
      "14:\tlearn: 0.1942792\ttotal: 12.6s\tremaining: 2.52s\n",
      "15:\tlearn: 0.1925860\ttotal: 13.4s\tremaining: 1.68s\n",
      "16:\tlearn: 0.1906863\ttotal: 14.3s\tremaining: 839ms\n",
      "17:\tlearn: 0.1893884\ttotal: 15.1s\tremaining: 0us\n",
      "Learning rate set to 0.5\n",
      "0:\tlearn: 0.3463859\ttotal: 1.04s\tremaining: 17.7s\n",
      "1:\tlearn: 0.2712534\ttotal: 1.92s\tremaining: 15.4s\n",
      "2:\tlearn: 0.2470229\ttotal: 2.76s\tremaining: 13.8s\n",
      "3:\tlearn: 0.2376093\ttotal: 3.63s\tremaining: 12.7s\n",
      "4:\tlearn: 0.2310346\ttotal: 4.46s\tremaining: 11.6s\n",
      "5:\tlearn: 0.2231291\ttotal: 5.31s\tremaining: 10.6s\n",
      "6:\tlearn: 0.2185524\ttotal: 6.13s\tremaining: 9.63s\n",
      "7:\tlearn: 0.2137167\ttotal: 6.91s\tremaining: 8.64s\n",
      "8:\tlearn: 0.2104018\ttotal: 7.68s\tremaining: 7.68s\n",
      "9:\tlearn: 0.2060747\ttotal: 8.47s\tremaining: 6.78s\n",
      "10:\tlearn: 0.2034323\ttotal: 9.26s\tremaining: 5.89s\n",
      "11:\tlearn: 0.2014739\ttotal: 10.1s\tremaining: 5.03s\n",
      "12:\tlearn: 0.1994941\ttotal: 10.8s\tremaining: 4.16s\n",
      "13:\tlearn: 0.1958830\ttotal: 11.7s\tremaining: 3.34s\n",
      "14:\tlearn: 0.1941517\ttotal: 12.5s\tremaining: 2.49s\n",
      "15:\tlearn: 0.1923947\ttotal: 13.3s\tremaining: 1.66s\n",
      "16:\tlearn: 0.1905048\ttotal: 14.1s\tremaining: 827ms\n",
      "17:\tlearn: 0.1886783\ttotal: 14.8s\tremaining: 0us\n",
      "Learning rate set to 0.5\n",
      "0:\tlearn: 0.3534564\ttotal: 880ms\tremaining: 15s\n",
      "1:\tlearn: 0.2759570\ttotal: 1.73s\tremaining: 13.8s\n",
      "2:\tlearn: 0.2505115\ttotal: 2.54s\tremaining: 12.7s\n",
      "3:\tlearn: 0.2400456\ttotal: 3.35s\tremaining: 11.7s\n",
      "4:\tlearn: 0.2333824\ttotal: 4.16s\tremaining: 10.8s\n",
      "5:\tlearn: 0.2266037\ttotal: 5.02s\tremaining: 10s\n",
      "6:\tlearn: 0.2186313\ttotal: 5.84s\tremaining: 9.19s\n",
      "7:\tlearn: 0.2144281\ttotal: 6.63s\tremaining: 8.29s\n",
      "8:\tlearn: 0.2094127\ttotal: 7.44s\tremaining: 7.44s\n",
      "9:\tlearn: 0.2059067\ttotal: 8.24s\tremaining: 6.59s\n",
      "10:\tlearn: 0.2034443\ttotal: 9.02s\tremaining: 5.74s\n",
      "11:\tlearn: 0.2009538\ttotal: 9.88s\tremaining: 4.94s\n",
      "12:\tlearn: 0.1972000\ttotal: 10.7s\tremaining: 4.13s\n",
      "13:\tlearn: 0.1954542\ttotal: 11.7s\tremaining: 3.33s\n",
      "14:\tlearn: 0.1932934\ttotal: 12.7s\tremaining: 2.53s\n",
      "15:\tlearn: 0.1909752\ttotal: 13.6s\tremaining: 1.7s\n",
      "16:\tlearn: 0.1893896\ttotal: 14.5s\tremaining: 852ms\n",
      "17:\tlearn: 0.1879601\ttotal: 15.4s\tremaining: 0us\n",
      "Learning rate set to 0.5\n",
      "0:\tlearn: 0.3531577\ttotal: 668ms\tremaining: 8.02s\n",
      "1:\tlearn: 0.2819001\ttotal: 1.31s\tremaining: 7.19s\n",
      "2:\tlearn: 0.2601458\ttotal: 1.93s\tremaining: 6.45s\n",
      "3:\tlearn: 0.2476505\ttotal: 2.56s\tremaining: 5.76s\n",
      "4:\tlearn: 0.2401957\ttotal: 3.17s\tremaining: 5.07s\n",
      "5:\tlearn: 0.2346719\ttotal: 3.79s\tremaining: 4.42s\n",
      "6:\tlearn: 0.2306340\ttotal: 4.42s\tremaining: 3.79s\n",
      "7:\tlearn: 0.2276681\ttotal: 5.05s\tremaining: 3.16s\n",
      "8:\tlearn: 0.2218631\ttotal: 5.66s\tremaining: 2.52s\n",
      "9:\tlearn: 0.2188804\ttotal: 6.27s\tremaining: 1.88s\n",
      "10:\tlearn: 0.2161400\ttotal: 6.88s\tremaining: 1.25s\n",
      "11:\tlearn: 0.2136200\ttotal: 7.52s\tremaining: 627ms\n",
      "12:\tlearn: 0.2100016\ttotal: 8.14s\tremaining: 0us\n",
      "Learning rate set to 0.5\n",
      "0:\tlearn: 0.3526746\ttotal: 655ms\tremaining: 7.86s\n",
      "1:\tlearn: 0.2818094\ttotal: 1.28s\tremaining: 7.07s\n",
      "2:\tlearn: 0.2596173\ttotal: 1.91s\tremaining: 6.35s\n",
      "3:\tlearn: 0.2477736\ttotal: 2.53s\tremaining: 5.68s\n",
      "4:\tlearn: 0.2410437\ttotal: 3.14s\tremaining: 5.03s\n",
      "5:\tlearn: 0.2359377\ttotal: 3.79s\tremaining: 4.42s\n",
      "6:\tlearn: 0.2297883\ttotal: 4.49s\tremaining: 3.85s\n",
      "7:\tlearn: 0.2256971\ttotal: 5.11s\tremaining: 3.19s\n",
      "8:\tlearn: 0.2220180\ttotal: 5.74s\tremaining: 2.55s\n",
      "9:\tlearn: 0.2192306\ttotal: 6.33s\tremaining: 1.9s\n",
      "10:\tlearn: 0.2153194\ttotal: 6.93s\tremaining: 1.26s\n",
      "11:\tlearn: 0.2123255\ttotal: 7.57s\tremaining: 631ms\n",
      "12:\tlearn: 0.2097648\ttotal: 8.24s\tremaining: 0us\n",
      "Learning rate set to 0.5\n",
      "0:\tlearn: 0.3537033\ttotal: 709ms\tremaining: 8.5s\n",
      "1:\tlearn: 0.2826258\ttotal: 1.38s\tremaining: 7.6s\n",
      "2:\tlearn: 0.2607224\ttotal: 2.08s\tremaining: 6.92s\n",
      "3:\tlearn: 0.2486225\ttotal: 2.8s\tremaining: 6.31s\n",
      "4:\tlearn: 0.2418704\ttotal: 3.51s\tremaining: 5.62s\n",
      "5:\tlearn: 0.2372933\ttotal: 4.23s\tremaining: 4.93s\n",
      "6:\tlearn: 0.2327281\ttotal: 4.92s\tremaining: 4.22s\n",
      "7:\tlearn: 0.2263406\ttotal: 5.68s\tremaining: 3.55s\n",
      "8:\tlearn: 0.2232595\ttotal: 6.39s\tremaining: 2.84s\n",
      "9:\tlearn: 0.2201883\ttotal: 7.12s\tremaining: 2.13s\n",
      "10:\tlearn: 0.2175526\ttotal: 7.82s\tremaining: 1.42s\n",
      "11:\tlearn: 0.2140091\ttotal: 8.51s\tremaining: 709ms\n",
      "12:\tlearn: 0.2114870\ttotal: 9.15s\tremaining: 0us\n",
      "Learning rate set to 0.5\n",
      "0:\tlearn: 0.3463892\ttotal: 662ms\tremaining: 7.94s\n",
      "1:\tlearn: 0.2765778\ttotal: 1.29s\tremaining: 7.1s\n",
      "2:\tlearn: 0.2551429\ttotal: 1.92s\tremaining: 6.39s\n",
      "3:\tlearn: 0.2444514\ttotal: 2.53s\tremaining: 5.69s\n",
      "4:\tlearn: 0.2389304\ttotal: 3.17s\tremaining: 5.07s\n",
      "5:\tlearn: 0.2337747\ttotal: 3.78s\tremaining: 4.41s\n",
      "6:\tlearn: 0.2300968\ttotal: 4.41s\tremaining: 3.78s\n",
      "7:\tlearn: 0.2246565\ttotal: 5.07s\tremaining: 3.17s\n",
      "8:\tlearn: 0.2213380\ttotal: 5.68s\tremaining: 2.53s\n",
      "9:\tlearn: 0.2180107\ttotal: 6.31s\tremaining: 1.89s\n",
      "10:\tlearn: 0.2153407\ttotal: 6.93s\tremaining: 1.26s\n",
      "11:\tlearn: 0.2121611\ttotal: 7.59s\tremaining: 633ms\n",
      "12:\tlearn: 0.2094401\ttotal: 8.22s\tremaining: 0us\n",
      "Learning rate set to 0.5\n",
      "0:\tlearn: 0.3534582\ttotal: 711ms\tremaining: 8.54s\n",
      "1:\tlearn: 0.2824253\ttotal: 1.36s\tremaining: 7.5s\n",
      "2:\tlearn: 0.2612774\ttotal: 2.06s\tremaining: 6.87s\n",
      "3:\tlearn: 0.2477474\ttotal: 2.75s\tremaining: 6.19s\n",
      "4:\tlearn: 0.2401512\ttotal: 3.42s\tremaining: 5.48s\n",
      "5:\tlearn: 0.2323146\ttotal: 4.07s\tremaining: 4.75s\n",
      "6:\tlearn: 0.2282451\ttotal: 4.73s\tremaining: 4.05s\n",
      "7:\tlearn: 0.2245038\ttotal: 5.38s\tremaining: 3.36s\n",
      "8:\tlearn: 0.2211426\ttotal: 6.01s\tremaining: 2.67s\n",
      "9:\tlearn: 0.2178731\ttotal: 6.63s\tremaining: 1.99s\n",
      "10:\tlearn: 0.2151061\ttotal: 7.26s\tremaining: 1.32s\n",
      "11:\tlearn: 0.2119319\ttotal: 7.9s\tremaining: 658ms\n",
      "12:\tlearn: 0.2098049\ttotal: 8.56s\tremaining: 0us\n",
      "Learning rate set to 0.5\n",
      "0:\tlearn: 0.3531577\ttotal: 708ms\tremaining: 10.6s\n",
      "1:\tlearn: 0.2819001\ttotal: 1.41s\tremaining: 9.87s\n",
      "2:\tlearn: 0.2601458\ttotal: 2.11s\tremaining: 9.16s\n",
      "3:\tlearn: 0.2476505\ttotal: 2.81s\tremaining: 8.43s\n",
      "4:\tlearn: 0.2401957\ttotal: 3.5s\tremaining: 7.69s\n",
      "5:\tlearn: 0.2346719\ttotal: 4.13s\tremaining: 6.89s\n",
      "6:\tlearn: 0.2306340\ttotal: 4.75s\tremaining: 6.11s\n",
      "7:\tlearn: 0.2276681\ttotal: 5.47s\tremaining: 5.47s\n",
      "8:\tlearn: 0.2218631\ttotal: 6.16s\tremaining: 4.79s\n",
      "9:\tlearn: 0.2188804\ttotal: 6.9s\tremaining: 4.14s\n",
      "10:\tlearn: 0.2161400\ttotal: 7.56s\tremaining: 3.44s\n",
      "11:\tlearn: 0.2136200\ttotal: 8.24s\tremaining: 2.75s\n",
      "12:\tlearn: 0.2100016\ttotal: 8.86s\tremaining: 2.04s\n",
      "13:\tlearn: 0.2075598\ttotal: 9.47s\tremaining: 1.35s\n",
      "14:\tlearn: 0.2061560\ttotal: 10.1s\tremaining: 673ms\n",
      "15:\tlearn: 0.2045530\ttotal: 10.7s\tremaining: 0us\n",
      "Learning rate set to 0.5\n",
      "0:\tlearn: 0.3526746\ttotal: 693ms\tremaining: 10.4s\n",
      "1:\tlearn: 0.2818094\ttotal: 1.32s\tremaining: 9.24s\n",
      "2:\tlearn: 0.2596173\ttotal: 1.94s\tremaining: 8.41s\n",
      "3:\tlearn: 0.2477736\ttotal: 2.65s\tremaining: 7.95s\n",
      "4:\tlearn: 0.2410437\ttotal: 3.28s\tremaining: 7.22s\n",
      "5:\tlearn: 0.2359377\ttotal: 3.9s\tremaining: 6.5s\n",
      "6:\tlearn: 0.2297883\ttotal: 4.55s\tremaining: 5.85s\n",
      "7:\tlearn: 0.2256971\ttotal: 5.15s\tremaining: 5.15s\n",
      "8:\tlearn: 0.2220180\ttotal: 5.77s\tremaining: 4.49s\n",
      "9:\tlearn: 0.2192306\ttotal: 6.36s\tremaining: 3.82s\n",
      "10:\tlearn: 0.2153194\ttotal: 6.98s\tremaining: 3.17s\n",
      "11:\tlearn: 0.2123255\ttotal: 7.59s\tremaining: 2.53s\n",
      "12:\tlearn: 0.2097648\ttotal: 8.25s\tremaining: 1.9s\n",
      "13:\tlearn: 0.2075617\ttotal: 8.9s\tremaining: 1.27s\n",
      "14:\tlearn: 0.2063067\ttotal: 9.52s\tremaining: 634ms\n",
      "15:\tlearn: 0.2043796\ttotal: 10.1s\tremaining: 0us\n",
      "Learning rate set to 0.5\n",
      "0:\tlearn: 0.3537033\ttotal: 689ms\tremaining: 10.3s\n",
      "1:\tlearn: 0.2826258\ttotal: 1.35s\tremaining: 9.42s\n",
      "2:\tlearn: 0.2607224\ttotal: 2s\tremaining: 8.67s\n",
      "3:\tlearn: 0.2486225\ttotal: 2.65s\tremaining: 7.94s\n",
      "4:\tlearn: 0.2418704\ttotal: 3.31s\tremaining: 7.27s\n",
      "5:\tlearn: 0.2372933\ttotal: 3.97s\tremaining: 6.62s\n",
      "6:\tlearn: 0.2327281\ttotal: 4.64s\tremaining: 5.97s\n",
      "7:\tlearn: 0.2263406\ttotal: 5.37s\tremaining: 5.37s\n",
      "8:\tlearn: 0.2232595\ttotal: 6.09s\tremaining: 4.74s\n",
      "9:\tlearn: 0.2201883\ttotal: 6.8s\tremaining: 4.08s\n",
      "10:\tlearn: 0.2175526\ttotal: 7.42s\tremaining: 3.37s\n",
      "11:\tlearn: 0.2140091\ttotal: 8.08s\tremaining: 2.69s\n",
      "12:\tlearn: 0.2114870\ttotal: 8.73s\tremaining: 2.01s\n",
      "13:\tlearn: 0.2091572\ttotal: 9.38s\tremaining: 1.34s\n",
      "14:\tlearn: 0.2067328\ttotal: 10s\tremaining: 669ms\n",
      "15:\tlearn: 0.2039901\ttotal: 10.7s\tremaining: 0us\n",
      "Learning rate set to 0.5\n",
      "0:\tlearn: 0.3463892\ttotal: 685ms\tremaining: 10.3s\n",
      "1:\tlearn: 0.2765778\ttotal: 1.35s\tremaining: 9.49s\n",
      "2:\tlearn: 0.2551429\ttotal: 2.01s\tremaining: 8.7s\n",
      "3:\tlearn: 0.2444514\ttotal: 2.64s\tremaining: 7.92s\n",
      "4:\tlearn: 0.2389304\ttotal: 3.3s\tremaining: 7.27s\n",
      "5:\tlearn: 0.2337747\ttotal: 3.96s\tremaining: 6.59s\n",
      "6:\tlearn: 0.2300968\ttotal: 4.6s\tremaining: 5.92s\n",
      "7:\tlearn: 0.2246565\ttotal: 5.27s\tremaining: 5.27s\n",
      "8:\tlearn: 0.2213380\ttotal: 5.97s\tremaining: 4.64s\n",
      "9:\tlearn: 0.2180107\ttotal: 6.65s\tremaining: 3.99s\n",
      "10:\tlearn: 0.2153407\ttotal: 7.33s\tremaining: 3.33s\n",
      "11:\tlearn: 0.2121611\ttotal: 8s\tremaining: 2.67s\n",
      "12:\tlearn: 0.2094401\ttotal: 8.72s\tremaining: 2.01s\n",
      "13:\tlearn: 0.2074249\ttotal: 9.4s\tremaining: 1.34s\n",
      "14:\tlearn: 0.2054751\ttotal: 10s\tremaining: 669ms\n",
      "15:\tlearn: 0.2041867\ttotal: 10.7s\tremaining: 0us\n",
      "Learning rate set to 0.5\n",
      "0:\tlearn: 0.3534582\ttotal: 796ms\tremaining: 11.9s\n",
      "1:\tlearn: 0.2824253\ttotal: 1.54s\tremaining: 10.8s\n",
      "2:\tlearn: 0.2612774\ttotal: 2.25s\tremaining: 9.74s\n",
      "3:\tlearn: 0.2477474\ttotal: 2.93s\tremaining: 8.78s\n",
      "4:\tlearn: 0.2401512\ttotal: 3.63s\tremaining: 7.97s\n",
      "5:\tlearn: 0.2323146\ttotal: 4.34s\tremaining: 7.24s\n",
      "6:\tlearn: 0.2282451\ttotal: 5.12s\tremaining: 6.58s\n",
      "7:\tlearn: 0.2245038\ttotal: 5.83s\tremaining: 5.83s\n",
      "8:\tlearn: 0.2211426\ttotal: 6.52s\tremaining: 5.07s\n",
      "9:\tlearn: 0.2178731\ttotal: 7.18s\tremaining: 4.31s\n",
      "10:\tlearn: 0.2151061\ttotal: 7.86s\tremaining: 3.57s\n",
      "11:\tlearn: 0.2119319\ttotal: 8.55s\tremaining: 2.85s\n",
      "12:\tlearn: 0.2098049\ttotal: 9.24s\tremaining: 2.13s\n",
      "13:\tlearn: 0.2069639\ttotal: 9.9s\tremaining: 1.41s\n",
      "14:\tlearn: 0.2047721\ttotal: 10.5s\tremaining: 701ms\n",
      "15:\tlearn: 0.2029875\ttotal: 11.2s\tremaining: 0us\n",
      "Learning rate set to 0.5\n",
      "0:\tlearn: 0.3540904\ttotal: 1.14s\tremaining: 19.3s\n",
      "1:\tlearn: 0.2767294\ttotal: 2.22s\tremaining: 17.8s\n",
      "2:\tlearn: 0.2510087\ttotal: 3.38s\tremaining: 16.9s\n",
      "3:\tlearn: 0.2378731\ttotal: 4.45s\tremaining: 15.6s\n",
      "4:\tlearn: 0.2316646\ttotal: 5.55s\tremaining: 14.4s\n",
      "5:\tlearn: 0.2263499\ttotal: 6.65s\tremaining: 13.3s\n",
      "6:\tlearn: 0.2190325\ttotal: 7.77s\tremaining: 12.2s\n",
      "7:\tlearn: 0.2146363\ttotal: 8.91s\tremaining: 11.1s\n",
      "8:\tlearn: 0.2095993\ttotal: 10.1s\tremaining: 10.1s\n",
      "9:\tlearn: 0.2064946\ttotal: 11.2s\tremaining: 8.94s\n",
      "10:\tlearn: 0.2040721\ttotal: 12.2s\tremaining: 7.76s\n",
      "11:\tlearn: 0.2020264\ttotal: 13.3s\tremaining: 6.65s\n",
      "12:\tlearn: 0.1998929\ttotal: 14.4s\tremaining: 5.53s\n",
      "13:\tlearn: 0.1967574\ttotal: 15.5s\tremaining: 4.44s\n",
      "14:\tlearn: 0.1948364\ttotal: 16.6s\tremaining: 3.31s\n",
      "15:\tlearn: 0.1921838\ttotal: 17.6s\tremaining: 2.2s\n",
      "16:\tlearn: 0.1904064\ttotal: 18.5s\tremaining: 1.09s\n",
      "17:\tlearn: 0.1887710\ttotal: 19.6s\tremaining: 0us\n",
      "Лучшая f1:\n",
      " 0.6085720484644391\n"
     ]
    }
   ],
   "source": [
    "model_cat = CatBoostClassifier(random_state=12345)\n",
    "parameters = {'iterations' : sp_randInt(5, 20),\n",
    "              'depth' : sp_randInt(2, 4),\n",
    "             }\n",
    "randm_src_cat = RandomizedSearchCV(estimator=model_cat, param_distributions=parameters, \n",
    "                                      n_iter=10, scoring='f1', n_jobs=-1)\n",
    "randm_src_cat.fit(tf_idf, target_train)\n",
    "print(\"Лучшая f1:\\n\", abs(randm_src_cat.best_score_))"
   ]
  },
  {
   "cell_type": "markdown",
   "metadata": {},
   "source": [
    "### Случайный лес с Pipeline"
   ]
  },
  {
   "cell_type": "code",
   "execution_count": 25,
   "metadata": {},
   "outputs": [],
   "source": [
    "imba_pipeline = make_pipeline(RandomUnderSampler(random_state=12345), \n",
    "                              RandomForestClassifier())\n",
    "params = {\n",
    "    'n_estimators' : sp_randInt(10, 300),\n",
    "    'max_depth'    : sp_randInt(2, 30),\n",
    "    'random_state': [12345],\n",
    "    'criterion': ['entropy']\n",
    "}"
   ]
  },
  {
   "cell_type": "code",
   "execution_count": 26,
   "metadata": {},
   "outputs": [],
   "source": [
    "kf = KFold(n_splits=2, random_state=12345, shuffle=True)"
   ]
  },
  {
   "cell_type": "code",
   "execution_count": 27,
   "metadata": {},
   "outputs": [
    {
     "name": "stdout",
     "output_type": "stream",
     "text": [
      "Лучшая модель:\n",
      " Pipeline(steps=[('randomundersampler', RandomUnderSampler(random_state=12345)),\n",
      "                ('randomforestclassifier',\n",
      "                 RandomForestClassifier(criterion='entropy', max_depth=28,\n",
      "                                        n_estimators=282,\n",
      "                                        random_state=12345))])\n",
      "Лучшая f1:\n",
      " 0.42579989013042874\n"
     ]
    }
   ],
   "source": [
    "new_params = {'randomforestclassifier__' + key: params[key] for key in params}\n",
    "randm_src_forest = RandomizedSearchCV(imba_pipeline, param_distributions=new_params, scoring='f1', cv=kf, n_jobs=-1)\n",
    "randm_src_forest.fit(tf_idf, target_train)\n",
    "print(\"Лучшая модель:\\n\", randm_src_forest.best_estimator_)\n",
    "print(\"Лучшая f1:\\n\", abs(randm_src_forest.best_score_))"
   ]
  },
  {
   "cell_type": "markdown",
   "metadata": {},
   "source": [
    "__Вывод__\n",
    "\n"
   ]
  },
  {
   "cell_type": "markdown",
   "metadata": {},
   "source": [
    "Лучшие результаты были получены на модели логистической регрессии, f1=0.76 на кросс-валидации. Оценим ее качество на тестовой выборке."
   ]
  },
  {
   "cell_type": "markdown",
   "metadata": {},
   "source": [
    "### Оценка модели на тестовой выборке"
   ]
  },
  {
   "cell_type": "markdown",
   "metadata": {},
   "source": [
    "Создадим корпус тестовой лемматизированной выборки и расчитаем TF-IDF."
   ]
  },
  {
   "cell_type": "code",
   "execution_count": 28,
   "metadata": {},
   "outputs": [],
   "source": [
    "tfidf_test = count_tf_idf.transform(features_test['lemm'])"
   ]
  },
  {
   "cell_type": "code",
   "execution_count": 29,
   "metadata": {},
   "outputs": [
    {
     "name": "stdout",
     "output_type": "stream",
     "text": [
      "CPU times: user 4.03 ms, sys: 585 µs, total: 4.62 ms\n",
      "Wall time: 3.14 ms\n"
     ]
    }
   ],
   "source": [
    "%time predict_log = model_log.predict(tfidf_test)"
   ]
  },
  {
   "cell_type": "markdown",
   "metadata": {},
   "source": [
    "Оценим качество предсказаний моделей по f1 метрике."
   ]
  },
  {
   "cell_type": "code",
   "execution_count": 30,
   "metadata": {},
   "outputs": [
    {
     "name": "stdout",
     "output_type": "stream",
     "text": [
      "f1 LogisticRegression 0.778705636743215\n"
     ]
    }
   ],
   "source": [
    "print('f1 LogisticRegression', f1_score(target_test, predict_log))"
   ]
  },
  {
   "cell_type": "markdown",
   "metadata": {},
   "source": [
    "__Вывод__\n",
    "\n",
    "Из рассматриваемых моделей - модель Логистической регрессии значительно лучше справилась с поставленной задачей и прошла порог f1=0.75. "
   ]
  },
  {
   "cell_type": "markdown",
   "metadata": {},
   "source": [
    "## Выводы"
   ]
  },
  {
   "cell_type": "markdown",
   "metadata": {},
   "source": [
    "В данной работе было необходимо найти и обучить модель для магазина \"ВИКИШОП\", которая способна классифицировать комментарии на позитивные и негативные для того, чтобы в дальнейшем токсичные отзывы отправлялись на модерацию. При этом достигуть результата предсказания наилучшей модели по метрике F1 > 0.75.\n",
    "\n",
    "Была произведена предобработка данных было определено, что изначально в данных сильный дисбаланс классов.\n",
    "\n",
    "Для определения наилучшей модели мы остановили наш выбор на трёх моделях CatBoostClassifier, LogisticRegression и RandomForestClassifier. Лучшие результаты показала модель LogisticRegression с результатом F1 = 0.778 на тестовой выборке.\n",
    "\n",
    "Для модели случайного леса произвели балансировку внутри Pipeline."
   ]
  }
 ],
 "metadata": {
  "ExecuteTimeLog": [
   {
    "duration": 1592,
    "start_time": "2023-05-31T06:33:48.435Z"
   },
   {
    "duration": 724,
    "start_time": "2023-05-31T06:33:50.029Z"
   },
   {
    "duration": 3985,
    "start_time": "2023-05-31T06:33:50.755Z"
   },
   {
    "duration": 11,
    "start_time": "2023-05-31T06:33:54.742Z"
   },
   {
    "duration": 41,
    "start_time": "2023-05-31T06:33:54.756Z"
   },
   {
    "duration": 600,
    "start_time": "2023-05-31T06:33:54.800Z"
   },
   {
    "duration": 4,
    "start_time": "2023-05-31T06:33:55.402Z"
   },
   {
    "duration": 38,
    "start_time": "2023-05-31T06:33:55.407Z"
   },
   {
    "duration": 52,
    "start_time": "2023-05-31T06:33:55.447Z"
   },
   {
    "duration": 60,
    "start_time": "2023-05-31T06:33:55.501Z"
   },
   {
    "duration": 84,
    "start_time": "2023-05-31T06:33:55.563Z"
   },
   {
    "duration": 4,
    "start_time": "2023-05-31T06:33:55.649Z"
   },
   {
    "duration": 7,
    "start_time": "2023-05-31T06:33:55.654Z"
   },
   {
    "duration": 155,
    "start_time": "2023-05-31T06:33:55.664Z"
   },
   {
    "duration": 13407,
    "start_time": "2023-05-31T06:34:14.775Z"
   },
   {
    "duration": 1403,
    "start_time": "2023-05-31T06:50:55.777Z"
   },
   {
    "duration": 268,
    "start_time": "2023-05-31T06:50:57.182Z"
   },
   {
    "duration": 738,
    "start_time": "2023-05-31T06:50:57.452Z"
   },
   {
    "duration": 9,
    "start_time": "2023-05-31T06:50:58.192Z"
   },
   {
    "duration": 28,
    "start_time": "2023-05-31T06:50:58.203Z"
   },
   {
    "duration": 375,
    "start_time": "2023-05-31T06:50:58.233Z"
   },
   {
    "duration": 4,
    "start_time": "2023-05-31T06:50:58.609Z"
   },
   {
    "duration": 11,
    "start_time": "2023-05-31T06:50:58.615Z"
   },
   {
    "duration": 7,
    "start_time": "2023-05-31T06:50:58.627Z"
   },
   {
    "duration": 20,
    "start_time": "2023-05-31T06:50:58.635Z"
   },
   {
    "duration": 122,
    "start_time": "2023-05-31T06:50:58.657Z"
   },
   {
    "duration": 0,
    "start_time": "2023-05-31T06:50:58.780Z"
   },
   {
    "duration": 0,
    "start_time": "2023-05-31T06:50:58.781Z"
   },
   {
    "duration": 0,
    "start_time": "2023-05-31T06:50:58.782Z"
   },
   {
    "duration": 0,
    "start_time": "2023-05-31T06:50:58.783Z"
   },
   {
    "duration": 0,
    "start_time": "2023-05-31T06:50:58.784Z"
   },
   {
    "duration": 0,
    "start_time": "2023-05-31T06:50:58.785Z"
   },
   {
    "duration": 0,
    "start_time": "2023-05-31T06:50:58.786Z"
   },
   {
    "duration": 1326,
    "start_time": "2023-05-31T06:51:38.712Z"
   },
   {
    "duration": 206,
    "start_time": "2023-05-31T06:51:40.040Z"
   },
   {
    "duration": 809,
    "start_time": "2023-05-31T06:51:40.248Z"
   },
   {
    "duration": 20,
    "start_time": "2023-05-31T06:51:41.059Z"
   },
   {
    "duration": 54,
    "start_time": "2023-05-31T06:51:41.081Z"
   },
   {
    "duration": 381,
    "start_time": "2023-05-31T06:51:41.137Z"
   },
   {
    "duration": 5,
    "start_time": "2023-05-31T06:51:41.519Z"
   },
   {
    "duration": 15,
    "start_time": "2023-05-31T06:51:41.526Z"
   },
   {
    "duration": 5,
    "start_time": "2023-05-31T06:51:41.543Z"
   },
   {
    "duration": 4,
    "start_time": "2023-05-31T06:51:41.550Z"
   },
   {
    "duration": 1218676,
    "start_time": "2023-05-31T06:51:41.555Z"
   },
   {
    "duration": 52,
    "start_time": "2023-05-31T07:12:00.233Z"
   },
   {
    "duration": 40,
    "start_time": "2023-05-31T07:12:00.290Z"
   },
   {
    "duration": 7,
    "start_time": "2023-05-31T07:12:00.332Z"
   },
   {
    "duration": 6532,
    "start_time": "2023-05-31T07:12:00.341Z"
   },
   {
    "duration": 142,
    "start_time": "2023-05-31T07:12:06.875Z"
   },
   {
    "duration": 0,
    "start_time": "2023-05-31T07:12:07.019Z"
   },
   {
    "duration": 0,
    "start_time": "2023-05-31T07:12:07.020Z"
   },
   {
    "duration": 2,
    "start_time": "2023-05-31T07:13:57.747Z"
   },
   {
    "duration": 34922,
    "start_time": "2023-05-31T07:14:01.277Z"
   },
   {
    "duration": 0,
    "start_time": "2023-05-31T07:16:01.355Z"
   },
   {
    "duration": 0,
    "start_time": "2023-05-31T07:16:01.355Z"
   },
   {
    "duration": 0,
    "start_time": "2023-05-31T07:16:01.356Z"
   },
   {
    "duration": 4,
    "start_time": "2023-05-31T07:16:05.849Z"
   },
   {
    "duration": 6409,
    "start_time": "2023-05-31T07:16:15.682Z"
   },
   {
    "duration": 155777,
    "start_time": "2023-05-31T07:16:24.742Z"
   },
   {
    "duration": 1526,
    "start_time": "2023-06-01T17:12:53.178Z"
   },
   {
    "duration": 0,
    "start_time": "2023-06-01T17:12:54.706Z"
   },
   {
    "duration": 0,
    "start_time": "2023-06-01T17:12:54.707Z"
   },
   {
    "duration": 0,
    "start_time": "2023-06-01T17:12:54.708Z"
   },
   {
    "duration": 0,
    "start_time": "2023-06-01T17:12:54.709Z"
   },
   {
    "duration": 0,
    "start_time": "2023-06-01T17:12:54.710Z"
   },
   {
    "duration": 0,
    "start_time": "2023-06-01T17:12:54.711Z"
   },
   {
    "duration": 0,
    "start_time": "2023-06-01T17:12:54.712Z"
   },
   {
    "duration": 0,
    "start_time": "2023-06-01T17:12:54.713Z"
   },
   {
    "duration": 0,
    "start_time": "2023-06-01T17:12:54.713Z"
   },
   {
    "duration": 0,
    "start_time": "2023-06-01T17:12:54.714Z"
   },
   {
    "duration": 0,
    "start_time": "2023-06-01T17:12:54.715Z"
   },
   {
    "duration": 0,
    "start_time": "2023-06-01T17:12:54.726Z"
   },
   {
    "duration": 0,
    "start_time": "2023-06-01T17:12:54.726Z"
   },
   {
    "duration": 0,
    "start_time": "2023-06-01T17:12:54.727Z"
   },
   {
    "duration": 0,
    "start_time": "2023-06-01T17:12:54.727Z"
   },
   {
    "duration": 0,
    "start_time": "2023-06-01T17:12:54.728Z"
   },
   {
    "duration": 0,
    "start_time": "2023-06-01T17:12:54.728Z"
   },
   {
    "duration": 0,
    "start_time": "2023-06-01T17:12:54.729Z"
   },
   {
    "duration": 0,
    "start_time": "2023-06-01T17:12:54.729Z"
   },
   {
    "duration": 0,
    "start_time": "2023-06-01T17:12:54.730Z"
   },
   {
    "duration": 0,
    "start_time": "2023-06-01T17:12:54.730Z"
   },
   {
    "duration": 0,
    "start_time": "2023-06-01T17:12:54.731Z"
   },
   {
    "duration": 0,
    "start_time": "2023-06-01T17:12:54.732Z"
   },
   {
    "duration": 0,
    "start_time": "2023-06-01T17:12:54.733Z"
   },
   {
    "duration": 0,
    "start_time": "2023-06-01T17:12:54.734Z"
   },
   {
    "duration": 0,
    "start_time": "2023-06-01T17:12:54.735Z"
   },
   {
    "duration": 10739,
    "start_time": "2023-06-01T17:14:26.708Z"
   },
   {
    "duration": 2730,
    "start_time": "2023-06-01T17:14:48.480Z"
   },
   {
    "duration": 1455,
    "start_time": "2023-06-01T17:14:51.212Z"
   },
   {
    "duration": 0,
    "start_time": "2023-06-01T17:14:52.669Z"
   },
   {
    "duration": 0,
    "start_time": "2023-06-01T17:14:52.670Z"
   },
   {
    "duration": 0,
    "start_time": "2023-06-01T17:14:52.671Z"
   },
   {
    "duration": 0,
    "start_time": "2023-06-01T17:14:52.672Z"
   },
   {
    "duration": 0,
    "start_time": "2023-06-01T17:14:52.673Z"
   },
   {
    "duration": 0,
    "start_time": "2023-06-01T17:14:52.674Z"
   },
   {
    "duration": 0,
    "start_time": "2023-06-01T17:14:52.674Z"
   },
   {
    "duration": 0,
    "start_time": "2023-06-01T17:14:52.676Z"
   },
   {
    "duration": 0,
    "start_time": "2023-06-01T17:14:52.677Z"
   },
   {
    "duration": 0,
    "start_time": "2023-06-01T17:14:52.678Z"
   },
   {
    "duration": 0,
    "start_time": "2023-06-01T17:14:52.679Z"
   },
   {
    "duration": 0,
    "start_time": "2023-06-01T17:14:52.680Z"
   },
   {
    "duration": 0,
    "start_time": "2023-06-01T17:14:52.681Z"
   },
   {
    "duration": 0,
    "start_time": "2023-06-01T17:14:52.682Z"
   },
   {
    "duration": 0,
    "start_time": "2023-06-01T17:14:52.683Z"
   },
   {
    "duration": 0,
    "start_time": "2023-06-01T17:14:52.684Z"
   },
   {
    "duration": 0,
    "start_time": "2023-06-01T17:14:52.685Z"
   },
   {
    "duration": 0,
    "start_time": "2023-06-01T17:14:52.686Z"
   },
   {
    "duration": 0,
    "start_time": "2023-06-01T17:14:52.687Z"
   },
   {
    "duration": 0,
    "start_time": "2023-06-01T17:14:52.688Z"
   },
   {
    "duration": 0,
    "start_time": "2023-06-01T17:14:52.689Z"
   },
   {
    "duration": 0,
    "start_time": "2023-06-01T17:14:52.728Z"
   },
   {
    "duration": 0,
    "start_time": "2023-06-01T17:14:52.729Z"
   },
   {
    "duration": 0,
    "start_time": "2023-06-01T17:14:52.729Z"
   },
   {
    "duration": 0,
    "start_time": "2023-06-01T17:14:52.730Z"
   },
   {
    "duration": 0,
    "start_time": "2023-06-01T17:14:52.730Z"
   },
   {
    "duration": 16,
    "start_time": "2023-06-01T17:15:13.658Z"
   },
   {
    "duration": 4,
    "start_time": "2023-06-01T17:16:26.282Z"
   },
   {
    "duration": 2810,
    "start_time": "2023-06-01T17:16:44.455Z"
   },
   {
    "duration": 1301,
    "start_time": "2023-06-01T17:16:47.267Z"
   },
   {
    "duration": 1291,
    "start_time": "2023-06-01T17:16:48.570Z"
   },
   {
    "duration": 2998,
    "start_time": "2023-06-01T17:16:49.863Z"
   },
   {
    "duration": 13,
    "start_time": "2023-06-01T17:16:52.864Z"
   },
   {
    "duration": 43,
    "start_time": "2023-06-01T17:16:52.879Z"
   },
   {
    "duration": 654,
    "start_time": "2023-06-01T17:16:52.924Z"
   },
   {
    "duration": 5,
    "start_time": "2023-06-01T17:16:53.579Z"
   },
   {
    "duration": 68,
    "start_time": "2023-06-01T17:16:53.586Z"
   },
   {
    "duration": 7,
    "start_time": "2023-06-01T17:16:53.661Z"
   },
   {
    "duration": 8,
    "start_time": "2023-06-01T17:16:53.670Z"
   },
   {
    "duration": 351,
    "start_time": "2023-06-01T17:16:53.680Z"
   },
   {
    "duration": 1538949,
    "start_time": "2023-06-01T17:16:54.037Z"
   },
   {
    "duration": 7684,
    "start_time": "2023-06-01T17:42:32.988Z"
   },
   {
    "duration": 30,
    "start_time": "2023-06-01T17:42:40.674Z"
   },
   {
    "duration": 1083,
    "start_time": "2023-06-01T17:42:40.706Z"
   },
   {
    "duration": 773,
    "start_time": "2023-06-01T17:42:41.791Z"
   },
   {
    "duration": 181,
    "start_time": "2023-06-01T17:42:42.566Z"
   },
   {
    "duration": 0,
    "start_time": "2023-06-01T17:42:42.754Z"
   },
   {
    "duration": 0,
    "start_time": "2023-06-01T17:42:42.755Z"
   },
   {
    "duration": 0,
    "start_time": "2023-06-01T17:42:42.757Z"
   },
   {
    "duration": 0,
    "start_time": "2023-06-01T17:42:42.758Z"
   },
   {
    "duration": 0,
    "start_time": "2023-06-01T17:42:42.759Z"
   },
   {
    "duration": 0,
    "start_time": "2023-06-01T17:42:42.760Z"
   },
   {
    "duration": 0,
    "start_time": "2023-06-01T17:42:42.762Z"
   },
   {
    "duration": 0,
    "start_time": "2023-06-01T17:42:42.763Z"
   },
   {
    "duration": 0,
    "start_time": "2023-06-01T17:42:42.764Z"
   },
   {
    "duration": 0,
    "start_time": "2023-06-01T17:42:42.765Z"
   },
   {
    "duration": 22,
    "start_time": "2023-06-01T17:43:24.941Z"
   },
   {
    "duration": 6415,
    "start_time": "2023-06-01T17:44:44.583Z"
   },
   {
    "duration": 3,
    "start_time": "2023-06-01T17:45:04.877Z"
   },
   {
    "duration": 157214,
    "start_time": "2023-06-01T17:45:07.522Z"
   },
   {
    "duration": 573095,
    "start_time": "2023-06-01T17:47:44.741Z"
   },
   {
    "duration": 2074583,
    "start_time": "2023-06-01T17:57:17.837Z"
   },
   {
    "duration": 18,
    "start_time": "2023-06-01T18:31:52.424Z"
   },
   {
    "duration": 19,
    "start_time": "2023-06-01T18:31:52.445Z"
   },
   {
    "duration": 220034,
    "start_time": "2023-06-01T18:31:52.465Z"
   },
   {
    "duration": 708,
    "start_time": "2023-06-01T18:35:32.501Z"
   },
   {
    "duration": 6,
    "start_time": "2023-06-01T18:35:33.211Z"
   },
   {
    "duration": 32,
    "start_time": "2023-06-01T18:35:33.231Z"
   }
  ],
  "kernelspec": {
   "display_name": "Python 3",
   "language": "python",
   "name": "python3"
  },
  "language_info": {
   "codemirror_mode": {
    "name": "ipython",
    "version": 3
   },
   "file_extension": ".py",
   "mimetype": "text/x-python",
   "name": "python",
   "nbconvert_exporter": "python",
   "pygments_lexer": "ipython3",
   "version": "3.7.2"
  },
  "toc": {
   "base_numbering": 1,
   "nav_menu": {},
   "number_sections": true,
   "sideBar": true,
   "skip_h1_title": true,
   "title_cell": "Содержание",
   "title_sidebar": "Contents",
   "toc_cell": true,
   "toc_position": {
    "height": "calc(100% - 180px)",
    "left": "10px",
    "top": "150px",
    "width": "302.391px"
   },
   "toc_section_display": true,
   "toc_window_display": true
  }
 },
 "nbformat": 4,
 "nbformat_minor": 2
}
